{
 "cells": [
  {
   "cell_type": "code",
   "execution_count": 3,
   "id": "49bcbbcc",
   "metadata": {},
   "outputs": [],
   "source": [
    "#!/usr/bin/env python\n",
    "# coding: utf-8\n",
    "\n",
    "import shutil\n",
    "import sys\n",
    "import glob\n",
    "import tarfile\n",
    "import os\n",
    "import mne\n",
    "import pandas as pd\n",
    "import numpy as np\n",
    "from tqdm import tqdm\n",
    "from directory_tree import display_tree\n",
    "from mne_connectivity import spectral_connectivity_epochs\n",
    "from mne.datasets import sample\n",
    "import numpy as np\n",
    "from collections import Counter\n",
    "import ast\n",
    "\n",
    "def ReadFile():\n",
    "    EEG = []\n",
    "    MetaData = pd.read_csv('/workspace/brail_poc3/experiments/Behavioural_Data_MPILMBB_LEMON/META_File_IDs_Age_Gender_Education_Drug_Smoke_SKID_LEMON.csv')\n",
    "\n",
    "    # file list over 40\n",
    "#     fileList = [item for item in sorted(glob.glob(\"/workspace/brail_poc3/experiments/Lemon_PreEEGLAB/*\")) if item.split('/')[-1] in ground_truth[\"ID\"].tolist()]\n",
    "    # file list all\n",
    "    fileList = sorted(glob.glob(\"/workspace/brail_poc3/experiments/Lemon_PreEEGLAB/*\"))\n",
    "\n",
    "    for path in tqdm(fileList):\n",
    "        print(\"Subject number:\", path.split('/')[-1])\n",
    "        Subjects = {}\n",
    "        Subjects[\"Subject_Number\"] = path.split('/')[-1]\n",
    "        Subjects[\"prepSignal_EC\"] = mne.io.read_raw_eeglab(\"/workspace/brail_poc3/experiments/Lemon_PreEEGLAB/{}/{}/{}_EC.set\".format(Subjects[\"Subject_Number\"], Subjects[\"Subject_Number\"], Subjects[\"Subject_Number\"]), preload=True, verbose=False)\n",
    "        Subjects[\"prepSignal_EC\"] = InterpolateCh(Subjects[\"Subject_Number\"], Subjects[\"prepSignal_EC\"])\n",
    "\n",
    "#         Subjects[\"prepSignal_EO\"] = mne.io.read_raw_eeglab(\"/workspace/brail_poc3/experiments/Lemon_PreEEGLAB/{}/{}/{}_EO.set\".format(Subjects[\"Subject_Number\"], Subjects[\"Subject_Number\"], Subjects[\"Subject_Number\"]), preload=True, verbose=False)\n",
    "#         Subjects[\"prepSignal_EO\"] = InterpolateCh(Subjects[\"Subject_Number\"], Subjects[\"prepSignal_EO\"])\n",
    "\n",
    "        Subjects[\"Age\"] = MetaData[MetaData['Subject'] == Subjects[\"Subject_Number\"]].iloc[0,2]\n",
    "        Subjects[\"Age_Number\"] = int(Subjects[\"Age\"].split('-')[0])\n",
    "        EEG.append(Subjects)\n",
    "    return EEG\n",
    "\n",
    "def CauConn(ChanNum, data, metrics):\n",
    "    len_channel = data.shape[1]\n",
    "    index1 = [ChanNum] * (len_channel-1)\n",
    "    index2 = list(np.arange(0, len_channel, 1))\n",
    "    del index2[ChanNum]\n",
    "    indices = (index1, index2)\n",
    "    print(indices)\n",
    "    conn = spectral_connectivity_epochs(\n",
    "            data, method=metrics, sfreq=250, indices=indices,\n",
    "            fmin=9, fmax=11, faverage=True, verbose=False).get_data()[:, 0]\n",
    "    conn = conn.tolist()\n",
    "    return conn\n",
    "\n",
    "def splitEEG(prepEEG):\n",
    "#     epochs = []\n",
    "#     ordinal = lambda n: \"%d%s\" % (n,\"tsnrhtdd\"[(n//10%10!=1)*(n%10<4)*n%10::4])\n",
    "#     annotation_EC_df = prepEEG.annotations.to_data_frame()\n",
    "#     EC_sec = annotation_EC_df[annotation_EC_df.columns[0]].dt.strftime('%s.%f').astype(float) + 32400\n",
    "#     point_indices = annotation_EC_df.index[annotation_EC_df['description'] == 'boundary']\n",
    "#     BreakPoint = []\n",
    "# #     print(EC_sec[point_indices])\n",
    "#     for i, j in enumerate(EC_sec[point_indices]):\n",
    "#         if i == 0:\n",
    "#             BreakPoint.append([0, int(j)])\n",
    "#         else:\n",
    "#             BreakPoint.append([BreakPoint[-1][1], int(j)])\n",
    "#         if i == len(EC_sec[point_indices])-1:\n",
    "#             BreakPoint.append([int(j)+1, int(EC_sec.iloc[-1])])\n",
    "# #     print(BreakPoint)\n",
    "#     for i,d  in enumerate(BreakPoint): # Ignore the short duration between each braek point.\n",
    "#         if d[1] - d[0] < 15:\n",
    "#             del BreakPoint[i]\n",
    "#     for i, d in enumerate(BreakPoint):  # Splite each epoch by break point\n",
    "#         print(\"The {} trial from {} to {}. ({}sec)\".format(ordinal(i+1), d[0], d[1], d[1]-d[0]))\n",
    "    events = mne.make_fixed_length_events(prepEEG.copy(), duration=2, overlap=0.2)\n",
    "    epochs = mne.Epochs(prepEEG, events=events, event_id=None, tmin=0, tmax=2, baseline=None, preload=False, verbose=False)\n",
    "#         epochs.append(prepEEG.copy().crop(tmin=d[0], tmax=d[1]))\n",
    "#         print(\"------------------------------------------------\")\n",
    "    return epochs\n",
    "\n",
    "def EpochRotate(OneEpoch, metric):\n",
    "    Chan_PLI = []\n",
    "    data = OneEpoch.get_data()\n",
    "    print(data.shape)\n",
    "    for i in range(data.shape[1]):\n",
    "        Chan_PLI.append(CauConn(i, data, metric))\n",
    "    for i in range(data.shape[1]):\n",
    "        Chan_PLI[i].insert(i, 0)\n",
    "    return np.array(Chan_PLI)\n",
    "\n",
    "def InsertCh(Ch_name, raw):\n",
    "    # Need NoneDel_prepSignal to get local info\n",
    "    # Used for InterpolateCh\n",
    "\n",
    "    prep_len = raw._data.shape[1]\n",
    "#     new_channel_chs = raw.info['chs'][-1]\n",
    "#     new_channel_chs['ch_name'] = Ch_name\n",
    "#     new_channel_chs['scanno'] = new_channel_chs['scanno']+1\n",
    "#     new_channel_chs['logno'] = new_channel_chs['logno']+1\n",
    "#     new_channel_chs['loc'] = [item.get('loc') for item in NoneDel_prepSignal.info['chs'] if(item['ch_name'] == Ch_name)][0]\n",
    "#     print(new_channel_chs)\n",
    "\n",
    "    new_channel_data = np.array([0] * prep_len)\n",
    "    new_channel_info = mne.create_info(ch_names=[Ch_name], sfreq=raw.info['sfreq'], ch_types=['eeg'])\n",
    "    new_channel_info['chs'][0]['loc'] = [item.get('loc') for item in NoneDel_prepSignal.info['chs'] if(item['ch_name'] == Ch_name)][0]\n",
    "    print(new_channel_info['chs'])\n",
    "    new_channel_data = new_channel_data[np.newaxis, :]  # 新しいチャンネルデータを適切な形式に変換\n",
    "    new_raw = mne.io.RawArray(new_channel_data, new_channel_info)\n",
    "    raw.add_channels([new_raw], force_update_info=True)\n",
    "    return raw\n",
    "\n",
    "def InterpolateCh(ID, raw):\n",
    "    # Target EC, Need del_ch file\n",
    "    # Interpolate missing channel in preprocessed LEMON EEG data\n",
    "\n",
    "    CH = del_ch[del_ch[\"ID\"] == ID]['del_channel']\n",
    "    del_Ch_list = ast.literal_eval(CH.tolist()[0])\n",
    "    prepSignal_EC_inte = raw.copy()\n",
    "\n",
    "    for i in [item for item in del_Ch_list if item != 'VEOG']:\n",
    "        prepSignal_EC_inte = InsertCh(i, prepSignal_EC_inte)\n",
    "        prepSignal_EC_inte.info[\"bads\"].append(i)\n",
    "\n",
    "    prepSignal_EC_inte.info\n",
    "\n",
    "    # Interpolate channels\n",
    "    prepSignal_EC_inte = prepSignal_EC_inte.interpolate_bads()\n",
    "\n",
    "    # Reorder Channel\n",
    "    Ch_order = NoneDel_prepSignal.ch_names\n",
    "    prepSignal_EC_inte.reorder_channels(Ch_order)\n",
    "\n",
    "    return prepSignal_EC_inte\n",
    "\n",
    "def convert_age_range(age_range):\n",
    "    return int(age_range.split(\"-\")[0])\n"
   ]
  },
  {
   "cell_type": "code",
   "execution_count": 4,
   "id": "ff04f71b",
   "metadata": {},
   "outputs": [
    {
     "name": "stdout",
     "output_type": "stream",
     "text": [
      "Reading /workspace/brail_poc3/experiments/Lemon_PreEEGLAB/sub-032303/sub-032303/sub-032303_EC.fdt\n",
      "Reading 0 ... 119277  =      0.000 ...   477.108 secs...\n"
     ]
    },
    {
     "name": "stderr",
     "output_type": "stream",
     "text": [
      "/tmp/ipykernel_336521/3516541724.py:9: RuntimeWarning: Data file name in EEG.data (sub-010004_EC.fdt) is incorrect, the file name must have changed on disk, using the correct file name (sub-032303_EC.fdt).\n",
      "  NoneDel_prepSignal = NoneDel_prepSignal = mne.io.read_raw_eeglab('/workspace/brail_poc3/experiments/Lemon_PreEEGLAB/sub-032303/sub-032303/sub-032303_EC.set', preload=True)\n",
      "/tmp/ipykernel_336521/3516541724.py:9: RuntimeWarning: Limited 1 annotation(s) that were expanding outside the data range.\n",
      "  NoneDel_prepSignal = NoneDel_prepSignal = mne.io.read_raw_eeglab('/workspace/brail_poc3/experiments/Lemon_PreEEGLAB/sub-032303/sub-032303/sub-032303_EC.set', preload=True)\n",
      "/tmp/ipykernel_336521/3516541724.py:9: RuntimeWarning: The data contains 'boundary' events, indicating data discontinuities. Be cautious of filtering and epoching around these events.\n",
      "  NoneDel_prepSignal = NoneDel_prepSignal = mne.io.read_raw_eeglab('/workspace/brail_poc3/experiments/Lemon_PreEEGLAB/sub-032303/sub-032303/sub-032303_EC.set', preload=True)\n"
     ]
    }
   ],
   "source": [
    "#################################\n",
    "#                               #\n",
    "# Example:                      #\n",
    "# >> python3 FC_EC_Cal.py coh   #\n",
    "#                               #\n",
    "#################################\n",
    "\n",
    "# Initial variables\n",
    "NoneDel_prepSignal = NoneDel_prepSignal = mne.io.read_raw_eeglab('/workspace/brail_poc3/experiments/Lemon_PreEEGLAB/sub-032303/sub-032303/sub-032303_EC.set', preload=True)\n",
    "del_ch = pd.read_csv(\"/workspace/brail_poc3/notebooks/Chen/Sub_channel_list.csv\", index_col=0)\n",
    "Cog_score = pd.read_csv(\"/workspace/brail_poc3/notebooks/Chen/TestCognitive.csv\")\n",
    "Cog_score = Cog_score.loc[:, [\"ID\", \"Label\"]]\n",
    "Age_data = pd.read_csv(\"/workspace/brail_poc3/experiments/Behavioural_Data_MPILMBB_LEMON/META_File_IDs_Age_Gender_Education_Drug_Smoke_SKID_LEMON.csv\")\n",
    "Age_data = Age_data.loc[:, [\"Subject\", \"Age\"]]\n",
    "Age_data = Age_data.rename({'Subject': 'ID'}, axis='columns')\n",
    "Age_data[\"Age_1\"] = Age_data[\"Age\"].apply(convert_age_range)\n",
    "Age_data.drop(\"Age\", axis=1, inplace=True)\n",
    "cog_df = Cog_score.merge(Age_data, on='ID', how='left')\n",
    "ground_truth = cog_df[cog_df['Age_1'] >= 40]\n",
    "\n"
   ]
  },
  {
   "cell_type": "code",
   "execution_count": 5,
   "id": "3a458960",
   "metadata": {},
   "outputs": [
    {
     "data": {
      "text/html": [
       "<div>\n",
       "<style scoped>\n",
       "    .dataframe tbody tr th:only-of-type {\n",
       "        vertical-align: middle;\n",
       "    }\n",
       "\n",
       "    .dataframe tbody tr th {\n",
       "        vertical-align: top;\n",
       "    }\n",
       "\n",
       "    .dataframe thead th {\n",
       "        text-align: right;\n",
       "    }\n",
       "</style>\n",
       "<table border=\"1\" class=\"dataframe\">\n",
       "  <thead>\n",
       "    <tr style=\"text-align: right;\">\n",
       "      <th></th>\n",
       "      <th>ID</th>\n",
       "      <th>Label</th>\n",
       "      <th>Age_1</th>\n",
       "    </tr>\n",
       "  </thead>\n",
       "  <tbody>\n",
       "    <tr>\n",
       "      <th>7</th>\n",
       "      <td>sub-032383</td>\n",
       "      <td>2</td>\n",
       "      <td>60</td>\n",
       "    </tr>\n",
       "    <tr>\n",
       "      <th>13</th>\n",
       "      <td>sub-032318</td>\n",
       "      <td>2</td>\n",
       "      <td>60</td>\n",
       "    </tr>\n",
       "    <tr>\n",
       "      <th>33</th>\n",
       "      <td>sub-032331</td>\n",
       "      <td>1</td>\n",
       "      <td>70</td>\n",
       "    </tr>\n",
       "    <tr>\n",
       "      <th>34</th>\n",
       "      <td>sub-032305</td>\n",
       "      <td>1</td>\n",
       "      <td>65</td>\n",
       "    </tr>\n",
       "    <tr>\n",
       "      <th>35</th>\n",
       "      <td>sub-032308</td>\n",
       "      <td>1</td>\n",
       "      <td>60</td>\n",
       "    </tr>\n",
       "    <tr>\n",
       "      <th>...</th>\n",
       "      <td>...</td>\n",
       "      <td>...</td>\n",
       "      <td>...</td>\n",
       "    </tr>\n",
       "    <tr>\n",
       "      <th>161</th>\n",
       "      <td>sub-032495</td>\n",
       "      <td>1</td>\n",
       "      <td>70</td>\n",
       "    </tr>\n",
       "    <tr>\n",
       "      <th>162</th>\n",
       "      <td>sub-032497</td>\n",
       "      <td>1</td>\n",
       "      <td>60</td>\n",
       "    </tr>\n",
       "    <tr>\n",
       "      <th>163</th>\n",
       "      <td>sub-032498</td>\n",
       "      <td>1</td>\n",
       "      <td>65</td>\n",
       "    </tr>\n",
       "    <tr>\n",
       "      <th>164</th>\n",
       "      <td>sub-032496</td>\n",
       "      <td>2</td>\n",
       "      <td>60</td>\n",
       "    </tr>\n",
       "    <tr>\n",
       "      <th>165</th>\n",
       "      <td>sub-032493</td>\n",
       "      <td>1</td>\n",
       "      <td>65</td>\n",
       "    </tr>\n",
       "  </tbody>\n",
       "</table>\n",
       "<p>70 rows × 3 columns</p>\n",
       "</div>"
      ],
      "text/plain": [
       "             ID  Label  Age_1\n",
       "7    sub-032383      2     60\n",
       "13   sub-032318      2     60\n",
       "33   sub-032331      1     70\n",
       "34   sub-032305      1     65\n",
       "35   sub-032308      1     60\n",
       "..          ...    ...    ...\n",
       "161  sub-032495      1     70\n",
       "162  sub-032497      1     60\n",
       "163  sub-032498      1     65\n",
       "164  sub-032496      2     60\n",
       "165  sub-032493      1     65\n",
       "\n",
       "[70 rows x 3 columns]"
      ]
     },
     "execution_count": 5,
     "metadata": {},
     "output_type": "execute_result"
    }
   ],
   "source": [
    "ground_truth"
   ]
  },
  {
   "cell_type": "code",
   "execution_count": 6,
   "id": "a0765c96",
   "metadata": {},
   "outputs": [
    {
     "name": "stdout",
     "output_type": "stream",
     "text": [
      "------------------------------------------------\n",
      "Read file in dict\n"
     ]
    },
    {
     "name": "stderr",
     "output_type": "stream",
     "text": [
      "\r",
      "  0%|                                                    | 0/61 [00:00<?, ?it/s]"
     ]
    },
    {
     "name": "stdout",
     "output_type": "stream",
     "text": [
      "Subject number: sub-032301\n",
      "[{'loc': array([-8.45385386e-02,  5.17649254e-18, -8.84508251e-03,  0.00000000e+00,\n",
      "        0.00000000e+00,  0.00000000e+00,             nan,             nan,\n",
      "                   nan,             nan,             nan,             nan]), 'unit_mul': 0 (FIFF_UNITM_NONE), 'range': 1.0, 'cal': 1.0, 'kind': 2 (FIFFV_EEG_CH), 'coil_type': 1 (FIFFV_COIL_EEG), 'unit': 107 (FIFF_UNIT_V), 'coord_frame': 4 (FIFFV_COORD_HEAD), 'ch_name': 'T7', 'scanno': 1, 'logno': 1}]\n",
      "Creating RawArray with float64 data, n_channels=1, n_times=119345\n",
      "    Range : 0 ... 119344 =      0.000 ...   477.376 secs\n"
     ]
    },
    {
     "name": "stderr",
     "output_type": "stream",
     "text": [
      "/tmp/ipykernel_336521/1285187122.py:33: RuntimeWarning: Data file name in EEG.data (sub-010002_EC.fdt) is incorrect, the file name must have changed on disk, using the correct file name (sub-032301_EC.fdt).\n",
      "  Subjects[\"prepSignal_EC\"] = mne.io.read_raw_eeglab(\"/workspace/brail_poc3/experiments/Lemon_PreEEGLAB/{}/{}/{}_EC.set\".format(Subjects[\"Subject_Number\"], Subjects[\"Subject_Number\"], Subjects[\"Subject_Number\"]), preload=True, verbose=False)\n",
      "/tmp/ipykernel_336521/1285187122.py:33: RuntimeWarning: Limited 1 annotation(s) that were expanding outside the data range.\n",
      "  Subjects[\"prepSignal_EC\"] = mne.io.read_raw_eeglab(\"/workspace/brail_poc3/experiments/Lemon_PreEEGLAB/{}/{}/{}_EC.set\".format(Subjects[\"Subject_Number\"], Subjects[\"Subject_Number\"], Subjects[\"Subject_Number\"]), preload=True, verbose=False)\n",
      "/tmp/ipykernel_336521/1285187122.py:33: RuntimeWarning: The data contains 'boundary' events, indicating data discontinuities. Be cautious of filtering and epoching around these events.\n",
      "  Subjects[\"prepSignal_EC\"] = mne.io.read_raw_eeglab(\"/workspace/brail_poc3/experiments/Lemon_PreEEGLAB/{}/{}/{}_EC.set\".format(Subjects[\"Subject_Number\"], Subjects[\"Subject_Number\"], Subjects[\"Subject_Number\"]), preload=True, verbose=False)\n"
     ]
    },
    {
     "name": "stdout",
     "output_type": "stream",
     "text": [
      "Ready.\n",
      "[{'loc': array([-0.08041001, -0.0262075 , -0.0085086 ,  0.        ,  0.        ,\n",
      "        0.        ,         nan,         nan,         nan,         nan,\n",
      "               nan,         nan]), 'unit_mul': 0 (FIFF_UNITM_NONE), 'range': 1.0, 'cal': 1.0, 'kind': 2 (FIFFV_EEG_CH), 'coil_type': 1 (FIFFV_COIL_EEG), 'unit': 107 (FIFF_UNIT_V), 'coord_frame': 4 (FIFFV_COORD_HEAD), 'ch_name': 'TP7', 'scanno': 1, 'logno': 1}]\n",
      "Creating RawArray with float64 data, n_channels=1, n_times=119345\n",
      "    Range : 0 ... 119344 =      0.000 ...   477.376 secs\n",
      "Ready.\n",
      "Interpolating bad channels\n",
      "    Automatic origin fit: head of radius 85.0 mm\n",
      "Computing interpolation matrix from 59 sensor positions\n",
      "Interpolating 2 sensors\n"
     ]
    },
    {
     "name": "stderr",
     "output_type": "stream",
     "text": [
      "\r",
      "  2%|▋                                           | 1/61 [00:00<00:27,  2.22it/s]"
     ]
    },
    {
     "name": "stdout",
     "output_type": "stream",
     "text": [
      "Subject number: sub-032303\n"
     ]
    },
    {
     "name": "stderr",
     "output_type": "stream",
     "text": [
      "/tmp/ipykernel_336521/1285187122.py:33: RuntimeWarning: Data file name in EEG.data (sub-010004_EC.fdt) is incorrect, the file name must have changed on disk, using the correct file name (sub-032303_EC.fdt).\n",
      "  Subjects[\"prepSignal_EC\"] = mne.io.read_raw_eeglab(\"/workspace/brail_poc3/experiments/Lemon_PreEEGLAB/{}/{}/{}_EC.set\".format(Subjects[\"Subject_Number\"], Subjects[\"Subject_Number\"], Subjects[\"Subject_Number\"]), preload=True, verbose=False)\n",
      "/tmp/ipykernel_336521/1285187122.py:33: RuntimeWarning: Limited 1 annotation(s) that were expanding outside the data range.\n",
      "  Subjects[\"prepSignal_EC\"] = mne.io.read_raw_eeglab(\"/workspace/brail_poc3/experiments/Lemon_PreEEGLAB/{}/{}/{}_EC.set\".format(Subjects[\"Subject_Number\"], Subjects[\"Subject_Number\"], Subjects[\"Subject_Number\"]), preload=True, verbose=False)\n",
      "/tmp/ipykernel_336521/1285187122.py:33: RuntimeWarning: The data contains 'boundary' events, indicating data discontinuities. Be cautious of filtering and epoching around these events.\n",
      "  Subjects[\"prepSignal_EC\"] = mne.io.read_raw_eeglab(\"/workspace/brail_poc3/experiments/Lemon_PreEEGLAB/{}/{}/{}_EC.set\".format(Subjects[\"Subject_Number\"], Subjects[\"Subject_Number\"], Subjects[\"Subject_Number\"]), preload=True, verbose=False)\n",
      "/tmp/ipykernel_336521/1285187122.py:130: RuntimeWarning: No bad channels to interpolate. Doing nothing...\n",
      "  prepSignal_EC_inte = prepSignal_EC_inte.interpolate_bads()\n",
      "  3%|█▍                                          | 2/61 [00:00<00:19,  3.07it/s]/tmp/ipykernel_336521/1285187122.py:33: RuntimeWarning: Data file name in EEG.data (sub-010006_EC.fdt) is incorrect, the file name must have changed on disk, using the correct file name (sub-032305_EC.fdt).\n",
      "  Subjects[\"prepSignal_EC\"] = mne.io.read_raw_eeglab(\"/workspace/brail_poc3/experiments/Lemon_PreEEGLAB/{}/{}/{}_EC.set\".format(Subjects[\"Subject_Number\"], Subjects[\"Subject_Number\"], Subjects[\"Subject_Number\"]), preload=True, verbose=False)\n",
      "/tmp/ipykernel_336521/1285187122.py:33: RuntimeWarning: Limited 1 annotation(s) that were expanding outside the data range.\n",
      "  Subjects[\"prepSignal_EC\"] = mne.io.read_raw_eeglab(\"/workspace/brail_poc3/experiments/Lemon_PreEEGLAB/{}/{}/{}_EC.set\".format(Subjects[\"Subject_Number\"], Subjects[\"Subject_Number\"], Subjects[\"Subject_Number\"]), preload=True, verbose=False)\n",
      "/tmp/ipykernel_336521/1285187122.py:33: RuntimeWarning: The data contains 'boundary' events, indicating data discontinuities. Be cautious of filtering and epoching around these events.\n",
      "  Subjects[\"prepSignal_EC\"] = mne.io.read_raw_eeglab(\"/workspace/brail_poc3/experiments/Lemon_PreEEGLAB/{}/{}/{}_EC.set\".format(Subjects[\"Subject_Number\"], Subjects[\"Subject_Number\"], Subjects[\"Subject_Number\"]), preload=True, verbose=False)\n"
     ]
    },
    {
     "name": "stdout",
     "output_type": "stream",
     "text": [
      "Subject number: sub-032305\n",
      "[{'loc': array([-8.45385386e-02,  5.17649254e-18, -8.84508251e-03,  0.00000000e+00,\n",
      "        0.00000000e+00,  0.00000000e+00,             nan,             nan,\n",
      "                   nan,             nan,             nan,             nan]), 'unit_mul': 0 (FIFF_UNITM_NONE), 'range': 1.0, 'cal': 1.0, 'kind': 2 (FIFFV_EEG_CH), 'coil_type': 1 (FIFFV_COIL_EEG), 'unit': 107 (FIFF_UNIT_V), 'coord_frame': 4 (FIFFV_COORD_HEAD), 'ch_name': 'T7', 'scanno': 1, 'logno': 1}]\n",
      "Creating RawArray with float64 data, n_channels=1, n_times=116012\n",
      "    Range : 0 ... 116011 =      0.000 ...   464.044 secs\n",
      "Ready.\n",
      "Interpolating bad channels\n",
      "    Automatic origin fit: head of radius 85.0 mm\n",
      "Computing interpolation matrix from 60 sensor positions\n",
      "Interpolating 1 sensors\n"
     ]
    },
    {
     "name": "stderr",
     "output_type": "stream",
     "text": [
      "\r",
      "  5%|██▏                                         | 3/61 [00:01<00:20,  2.87it/s]"
     ]
    },
    {
     "name": "stdout",
     "output_type": "stream",
     "text": [
      "Subject number: sub-032306\n",
      "[{'loc': array([-0.03235138,  0.03243618,  0.07159806,  0.        ,  0.        ,\n",
      "        0.        ,         nan,         nan,         nan,         nan,\n",
      "               nan,         nan]), 'unit_mul': 0 (FIFF_UNITM_NONE), 'range': 1.0, 'cal': 1.0, 'kind': 2 (FIFFV_EEG_CH), 'coil_type': 1 (FIFFV_COIL_EEG), 'unit': 107 (FIFF_UNIT_V), 'coord_frame': 4 (FIFFV_COORD_HEAD), 'ch_name': 'FC1', 'scanno': 1, 'logno': 1}]\n",
      "Creating RawArray with float64 data, n_channels=1, n_times=119980\n",
      "    Range : 0 ... 119979 =      0.000 ...   479.916 secs\n",
      "Ready.\n"
     ]
    },
    {
     "name": "stderr",
     "output_type": "stream",
     "text": [
      "/tmp/ipykernel_336521/1285187122.py:33: RuntimeWarning: Data file name in EEG.data (sub-010007_EC.fdt) is incorrect, the file name must have changed on disk, using the correct file name (sub-032306_EC.fdt).\n",
      "  Subjects[\"prepSignal_EC\"] = mne.io.read_raw_eeglab(\"/workspace/brail_poc3/experiments/Lemon_PreEEGLAB/{}/{}/{}_EC.set\".format(Subjects[\"Subject_Number\"], Subjects[\"Subject_Number\"], Subjects[\"Subject_Number\"]), preload=True, verbose=False)\n",
      "/tmp/ipykernel_336521/1285187122.py:33: RuntimeWarning: Limited 1 annotation(s) that were expanding outside the data range.\n",
      "  Subjects[\"prepSignal_EC\"] = mne.io.read_raw_eeglab(\"/workspace/brail_poc3/experiments/Lemon_PreEEGLAB/{}/{}/{}_EC.set\".format(Subjects[\"Subject_Number\"], Subjects[\"Subject_Number\"], Subjects[\"Subject_Number\"]), preload=True, verbose=False)\n",
      "/tmp/ipykernel_336521/1285187122.py:33: RuntimeWarning: The data contains 'boundary' events, indicating data discontinuities. Be cautious of filtering and epoching around these events.\n",
      "  Subjects[\"prepSignal_EC\"] = mne.io.read_raw_eeglab(\"/workspace/brail_poc3/experiments/Lemon_PreEEGLAB/{}/{}/{}_EC.set\".format(Subjects[\"Subject_Number\"], Subjects[\"Subject_Number\"], Subjects[\"Subject_Number\"]), preload=True, verbose=False)\n"
     ]
    },
    {
     "name": "stdout",
     "output_type": "stream",
     "text": [
      "[{'loc': array([-8.45385386e-02,  5.17649254e-18, -8.84508251e-03,  0.00000000e+00,\n",
      "        0.00000000e+00,  0.00000000e+00,             nan,             nan,\n",
      "                   nan,             nan,             nan,             nan]), 'unit_mul': 0 (FIFF_UNITM_NONE), 'range': 1.0, 'cal': 1.0, 'kind': 2 (FIFFV_EEG_CH), 'coil_type': 1 (FIFFV_COIL_EEG), 'unit': 107 (FIFF_UNIT_V), 'coord_frame': 4 (FIFFV_COORD_HEAD), 'ch_name': 'T7', 'scanno': 1, 'logno': 1}]\n",
      "Creating RawArray with float64 data, n_channels=1, n_times=119980\n",
      "    Range : 0 ... 119979 =      0.000 ...   479.916 secs\n",
      "Ready.\n",
      "[{'loc': array([ 8.45385386e-02,  5.17649254e-18, -8.84508251e-03,  0.00000000e+00,\n",
      "        0.00000000e+00,  0.00000000e+00,             nan,             nan,\n",
      "                   nan,             nan,             nan,             nan]), 'unit_mul': 0 (FIFF_UNITM_NONE), 'range': 1.0, 'cal': 1.0, 'kind': 2 (FIFFV_EEG_CH), 'coil_type': 1 (FIFFV_COIL_EEG), 'unit': 107 (FIFF_UNIT_V), 'coord_frame': 4 (FIFFV_COORD_HEAD), 'ch_name': 'T8', 'scanno': 1, 'logno': 1}]\n",
      "Creating RawArray with float64 data, n_channels=1, n_times=119980\n",
      "    Range : 0 ... 119979 =      0.000 ...   479.916 secs\n",
      "Ready.\n",
      "[{'loc': array([-0.02613301, -0.08078401, -0.00400108,  0.        ,  0.        ,\n",
      "        0.        ,         nan,         nan,         nan,         nan,\n",
      "               nan,         nan]), 'unit_mul': 0 (FIFF_UNITM_NONE), 'range': 1.0, 'cal': 1.0, 'kind': 2 (FIFFV_EEG_CH), 'coil_type': 1 (FIFFV_COIL_EEG), 'unit': 107 (FIFF_UNIT_V), 'coord_frame': 4 (FIFFV_COORD_HEAD), 'ch_name': 'O1', 'scanno': 1, 'logno': 1}]\n",
      "Creating RawArray with float64 data, n_channels=1, n_times=119980\n",
      "    Range : 0 ... 119979 =      0.000 ...   479.916 secs\n",
      "Ready.\n",
      "Interpolating bad channels\n",
      "    Automatic origin fit: head of radius 85.0 mm\n",
      "Computing interpolation matrix from 57 sensor positions\n",
      "Interpolating 4 sensors\n"
     ]
    },
    {
     "name": "stderr",
     "output_type": "stream",
     "text": [
      "\r",
      "  7%|██▉                                         | 4/61 [00:01<00:22,  2.56it/s]"
     ]
    },
    {
     "name": "stdout",
     "output_type": "stream",
     "text": [
      "Subject number: sub-032308\n"
     ]
    },
    {
     "name": "stderr",
     "output_type": "stream",
     "text": [
      "/tmp/ipykernel_336521/1285187122.py:33: RuntimeWarning: Data file name in EEG.data (sub-010012_EC.fdt) is incorrect, the file name must have changed on disk, using the correct file name (sub-032308_EC.fdt).\n",
      "  Subjects[\"prepSignal_EC\"] = mne.io.read_raw_eeglab(\"/workspace/brail_poc3/experiments/Lemon_PreEEGLAB/{}/{}/{}_EC.set\".format(Subjects[\"Subject_Number\"], Subjects[\"Subject_Number\"], Subjects[\"Subject_Number\"]), preload=True, verbose=False)\n",
      "/tmp/ipykernel_336521/1285187122.py:33: RuntimeWarning: Limited 1 annotation(s) that were expanding outside the data range.\n",
      "  Subjects[\"prepSignal_EC\"] = mne.io.read_raw_eeglab(\"/workspace/brail_poc3/experiments/Lemon_PreEEGLAB/{}/{}/{}_EC.set\".format(Subjects[\"Subject_Number\"], Subjects[\"Subject_Number\"], Subjects[\"Subject_Number\"]), preload=True, verbose=False)\n",
      "/tmp/ipykernel_336521/1285187122.py:33: RuntimeWarning: The data contains 'boundary' events, indicating data discontinuities. Be cautious of filtering and epoching around these events.\n",
      "  Subjects[\"prepSignal_EC\"] = mne.io.read_raw_eeglab(\"/workspace/brail_poc3/experiments/Lemon_PreEEGLAB/{}/{}/{}_EC.set\".format(Subjects[\"Subject_Number\"], Subjects[\"Subject_Number\"], Subjects[\"Subject_Number\"]), preload=True, verbose=False)\n",
      "/tmp/ipykernel_336521/1285187122.py:130: RuntimeWarning: No bad channels to interpolate. Doing nothing...\n",
      "  prepSignal_EC_inte = prepSignal_EC_inte.interpolate_bads()\n",
      "\r",
      "  8%|███▌                                        | 5/61 [00:01<00:17,  3.13it/s]"
     ]
    },
    {
     "name": "stdout",
     "output_type": "stream",
     "text": [
      "Subject number: sub-032318\n"
     ]
    },
    {
     "name": "stderr",
     "output_type": "stream",
     "text": [
      "/tmp/ipykernel_336521/1285187122.py:33: RuntimeWarning: Data file name in EEG.data (sub-010026_EC.fdt) is incorrect, the file name must have changed on disk, using the correct file name (sub-032318_EC.fdt).\n",
      "  Subjects[\"prepSignal_EC\"] = mne.io.read_raw_eeglab(\"/workspace/brail_poc3/experiments/Lemon_PreEEGLAB/{}/{}/{}_EC.set\".format(Subjects[\"Subject_Number\"], Subjects[\"Subject_Number\"], Subjects[\"Subject_Number\"]), preload=True, verbose=False)\n",
      "/tmp/ipykernel_336521/1285187122.py:33: RuntimeWarning: Limited 1 annotation(s) that were expanding outside the data range.\n",
      "  Subjects[\"prepSignal_EC\"] = mne.io.read_raw_eeglab(\"/workspace/brail_poc3/experiments/Lemon_PreEEGLAB/{}/{}/{}_EC.set\".format(Subjects[\"Subject_Number\"], Subjects[\"Subject_Number\"], Subjects[\"Subject_Number\"]), preload=True, verbose=False)\n",
      "/tmp/ipykernel_336521/1285187122.py:33: RuntimeWarning: The data contains 'boundary' events, indicating data discontinuities. Be cautious of filtering and epoching around these events.\n",
      "  Subjects[\"prepSignal_EC\"] = mne.io.read_raw_eeglab(\"/workspace/brail_poc3/experiments/Lemon_PreEEGLAB/{}/{}/{}_EC.set\".format(Subjects[\"Subject_Number\"], Subjects[\"Subject_Number\"], Subjects[\"Subject_Number\"]), preload=True, verbose=False)\n",
      "/tmp/ipykernel_336521/1285187122.py:130: RuntimeWarning: No bad channels to interpolate. Doing nothing...\n",
      "  prepSignal_EC_inte = prepSignal_EC_inte.interpolate_bads()\n",
      " 10%|████▎                                       | 6/61 [00:01<00:15,  3.61it/s]"
     ]
    },
    {
     "name": "stdout",
     "output_type": "stream",
     "text": [
      "Subject number: sub-032329\n"
     ]
    },
    {
     "name": "stderr",
     "output_type": "stream",
     "text": [
      "/tmp/ipykernel_336521/1285187122.py:33: RuntimeWarning: Data file name in EEG.data (sub-010037_EC.fdt) is incorrect, the file name must have changed on disk, using the correct file name (sub-032329_EC.fdt).\n",
      "  Subjects[\"prepSignal_EC\"] = mne.io.read_raw_eeglab(\"/workspace/brail_poc3/experiments/Lemon_PreEEGLAB/{}/{}/{}_EC.set\".format(Subjects[\"Subject_Number\"], Subjects[\"Subject_Number\"], Subjects[\"Subject_Number\"]), preload=True, verbose=False)\n",
      "/tmp/ipykernel_336521/1285187122.py:33: RuntimeWarning: Limited 1 annotation(s) that were expanding outside the data range.\n",
      "  Subjects[\"prepSignal_EC\"] = mne.io.read_raw_eeglab(\"/workspace/brail_poc3/experiments/Lemon_PreEEGLAB/{}/{}/{}_EC.set\".format(Subjects[\"Subject_Number\"], Subjects[\"Subject_Number\"], Subjects[\"Subject_Number\"]), preload=True, verbose=False)\n",
      "/tmp/ipykernel_336521/1285187122.py:33: RuntimeWarning: The data contains 'boundary' events, indicating data discontinuities. Be cautious of filtering and epoching around these events.\n",
      "  Subjects[\"prepSignal_EC\"] = mne.io.read_raw_eeglab(\"/workspace/brail_poc3/experiments/Lemon_PreEEGLAB/{}/{}/{}_EC.set\".format(Subjects[\"Subject_Number\"], Subjects[\"Subject_Number\"], Subjects[\"Subject_Number\"]), preload=True, verbose=False)\n"
     ]
    },
    {
     "name": "stdout",
     "output_type": "stream",
     "text": [
      "[{'loc': array([0.03235138, 0.03243618, 0.07159806, 0.        , 0.        ,\n",
      "       0.        ,        nan,        nan,        nan,        nan,\n",
      "              nan,        nan]), 'unit_mul': 0 (FIFF_UNITM_NONE), 'range': 1.0, 'cal': 1.0, 'kind': 2 (FIFFV_EEG_CH), 'coil_type': 1 (FIFFV_COIL_EEG), 'unit': 107 (FIFF_UNIT_V), 'coord_frame': 4 (FIFFV_COORD_HEAD), 'ch_name': 'FC2', 'scanno': 1, 'logno': 1}]\n",
      "Creating RawArray with float64 data, n_channels=1, n_times=119053\n",
      "    Range : 0 ... 119052 =      0.000 ...   476.208 secs\n",
      "Ready.\n",
      "[{'loc': array([0.0000000e+00, 5.2047489e-18, 8.5000000e-02, 0.0000000e+00,\n",
      "       0.0000000e+00, 0.0000000e+00,           nan,           nan,\n",
      "                 nan,           nan,           nan,           nan]), 'unit_mul': 0 (FIFF_UNITM_NONE), 'range': 1.0, 'cal': 1.0, 'kind': 2 (FIFFV_EEG_CH), 'coil_type': 1 (FIFFV_COIL_EEG), 'unit': 107 (FIFF_UNIT_V), 'coord_frame': 4 (FIFFV_COORD_HEAD), 'ch_name': 'Cz', 'scanno': 1, 'logno': 1}]\n",
      "Creating RawArray with float64 data, n_channels=1, n_times=119053\n",
      "    Range : 0 ... 119052 =      0.000 ...   476.208 secs\n",
      "Ready.\n",
      "Interpolating bad channels\n",
      "    Automatic origin fit: head of radius 85.0 mm\n",
      "Computing interpolation matrix from 59 sensor positions\n",
      "Interpolating 2 sensors\n"
     ]
    },
    {
     "name": "stderr",
     "output_type": "stream",
     "text": [
      "\r",
      " 11%|█████                                       | 7/61 [00:02<00:16,  3.29it/s]"
     ]
    },
    {
     "name": "stdout",
     "output_type": "stream",
     "text": [
      "Subject number: sub-032331\n"
     ]
    },
    {
     "name": "stderr",
     "output_type": "stream",
     "text": [
      "/tmp/ipykernel_336521/1285187122.py:33: RuntimeWarning: Data file name in EEG.data (sub-010039_EC.fdt) is incorrect, the file name must have changed on disk, using the correct file name (sub-032331_EC.fdt).\n",
      "  Subjects[\"prepSignal_EC\"] = mne.io.read_raw_eeglab(\"/workspace/brail_poc3/experiments/Lemon_PreEEGLAB/{}/{}/{}_EC.set\".format(Subjects[\"Subject_Number\"], Subjects[\"Subject_Number\"], Subjects[\"Subject_Number\"]), preload=True, verbose=False)\n",
      "/tmp/ipykernel_336521/1285187122.py:33: RuntimeWarning: Limited 1 annotation(s) that were expanding outside the data range.\n",
      "  Subjects[\"prepSignal_EC\"] = mne.io.read_raw_eeglab(\"/workspace/brail_poc3/experiments/Lemon_PreEEGLAB/{}/{}/{}_EC.set\".format(Subjects[\"Subject_Number\"], Subjects[\"Subject_Number\"], Subjects[\"Subject_Number\"]), preload=True, verbose=False)\n",
      "/tmp/ipykernel_336521/1285187122.py:33: RuntimeWarning: The data contains 'boundary' events, indicating data discontinuities. Be cautious of filtering and epoching around these events.\n",
      "  Subjects[\"prepSignal_EC\"] = mne.io.read_raw_eeglab(\"/workspace/brail_poc3/experiments/Lemon_PreEEGLAB/{}/{}/{}_EC.set\".format(Subjects[\"Subject_Number\"], Subjects[\"Subject_Number\"], Subjects[\"Subject_Number\"]), preload=True, verbose=False)\n",
      "/tmp/ipykernel_336521/1285187122.py:130: RuntimeWarning: No bad channels to interpolate. Doing nothing...\n",
      "  prepSignal_EC_inte = prepSignal_EC_inte.interpolate_bads()\n",
      " 13%|█████▊                                      | 8/61 [00:02<00:14,  3.68it/s]/tmp/ipykernel_336521/1285187122.py:33: RuntimeWarning: Data file name in EEG.data (sub-010041_EC.fdt) is incorrect, the file name must have changed on disk, using the correct file name (sub-032333_EC.fdt).\n",
      "  Subjects[\"prepSignal_EC\"] = mne.io.read_raw_eeglab(\"/workspace/brail_poc3/experiments/Lemon_PreEEGLAB/{}/{}/{}_EC.set\".format(Subjects[\"Subject_Number\"], Subjects[\"Subject_Number\"], Subjects[\"Subject_Number\"]), preload=True, verbose=False)\n"
     ]
    },
    {
     "name": "stdout",
     "output_type": "stream",
     "text": [
      "Subject number: sub-032333\n",
      "[{'loc': array([0.0000000e+00, 5.2047489e-18, 8.5000000e-02, 0.0000000e+00,\n",
      "       0.0000000e+00, 0.0000000e+00,           nan,           nan,\n",
      "                 nan,           nan,           nan,           nan]), 'unit_mul': 0 (FIFF_UNITM_NONE), 'range': 1.0, 'cal': 1.0, 'kind': 2 (FIFFV_EEG_CH), 'coil_type': 1 (FIFFV_COIL_EEG), 'unit': 107 (FIFF_UNIT_V), 'coord_frame': 4 (FIFFV_COORD_HEAD), 'ch_name': 'Cz', 'scanno': 1, 'logno': 1}]\n",
      "Creating RawArray with float64 data, n_channels=1, n_times=118609\n",
      "    Range : 0 ... 118608 =      0.000 ...   474.432 secs\n",
      "Ready.\n"
     ]
    },
    {
     "name": "stderr",
     "output_type": "stream",
     "text": [
      "/tmp/ipykernel_336521/1285187122.py:33: RuntimeWarning: Limited 1 annotation(s) that were expanding outside the data range.\n",
      "  Subjects[\"prepSignal_EC\"] = mne.io.read_raw_eeglab(\"/workspace/brail_poc3/experiments/Lemon_PreEEGLAB/{}/{}/{}_EC.set\".format(Subjects[\"Subject_Number\"], Subjects[\"Subject_Number\"], Subjects[\"Subject_Number\"]), preload=True, verbose=False)\n",
      "/tmp/ipykernel_336521/1285187122.py:33: RuntimeWarning: The data contains 'boundary' events, indicating data discontinuities. Be cautious of filtering and epoching around these events.\n",
      "  Subjects[\"prepSignal_EC\"] = mne.io.read_raw_eeglab(\"/workspace/brail_poc3/experiments/Lemon_PreEEGLAB/{}/{}/{}_EC.set\".format(Subjects[\"Subject_Number\"], Subjects[\"Subject_Number\"], Subjects[\"Subject_Number\"]), preload=True, verbose=False)\n"
     ]
    },
    {
     "name": "stdout",
     "output_type": "stream",
     "text": [
      "Interpolating bad channels\n",
      "    Automatic origin fit: head of radius 85.0 mm\n",
      "Computing interpolation matrix from 60 sensor positions\n",
      "Interpolating 1 sensors\n"
     ]
    },
    {
     "name": "stderr",
     "output_type": "stream",
     "text": [
      " 15%|██████▍                                     | 9/61 [00:02<00:14,  3.57it/s]/tmp/ipykernel_336521/1285187122.py:33: RuntimeWarning: Data file name in EEG.data (sub-010045_EC.fdt) is incorrect, the file name must have changed on disk, using the correct file name (sub-032337_EC.fdt).\n",
      "  Subjects[\"prepSignal_EC\"] = mne.io.read_raw_eeglab(\"/workspace/brail_poc3/experiments/Lemon_PreEEGLAB/{}/{}/{}_EC.set\".format(Subjects[\"Subject_Number\"], Subjects[\"Subject_Number\"], Subjects[\"Subject_Number\"]), preload=True, verbose=False)\n"
     ]
    },
    {
     "name": "stdout",
     "output_type": "stream",
     "text": [
      "Subject number: sub-032337\n"
     ]
    },
    {
     "name": "stderr",
     "output_type": "stream",
     "text": [
      "/tmp/ipykernel_336521/1285187122.py:33: RuntimeWarning: Limited 1 annotation(s) that were expanding outside the data range.\n",
      "  Subjects[\"prepSignal_EC\"] = mne.io.read_raw_eeglab(\"/workspace/brail_poc3/experiments/Lemon_PreEEGLAB/{}/{}/{}_EC.set\".format(Subjects[\"Subject_Number\"], Subjects[\"Subject_Number\"], Subjects[\"Subject_Number\"]), preload=True, verbose=False)\n",
      "/tmp/ipykernel_336521/1285187122.py:33: RuntimeWarning: The data contains 'boundary' events, indicating data discontinuities. Be cautious of filtering and epoching around these events.\n",
      "  Subjects[\"prepSignal_EC\"] = mne.io.read_raw_eeglab(\"/workspace/brail_poc3/experiments/Lemon_PreEEGLAB/{}/{}/{}_EC.set\".format(Subjects[\"Subject_Number\"], Subjects[\"Subject_Number\"], Subjects[\"Subject_Number\"]), preload=True, verbose=False)\n",
      "/tmp/ipykernel_336521/1285187122.py:130: RuntimeWarning: No bad channels to interpolate. Doing nothing...\n",
      "  prepSignal_EC_inte = prepSignal_EC_inte.interpolate_bads()\n",
      " 16%|███████                                    | 10/61 [00:02<00:13,  3.88it/s]/tmp/ipykernel_336521/1285187122.py:33: RuntimeWarning: Data file name in EEG.data (sub-010046_EC.fdt) is incorrect, the file name must have changed on disk, using the correct file name (sub-032338_EC.fdt).\n",
      "  Subjects[\"prepSignal_EC\"] = mne.io.read_raw_eeglab(\"/workspace/brail_poc3/experiments/Lemon_PreEEGLAB/{}/{}/{}_EC.set\".format(Subjects[\"Subject_Number\"], Subjects[\"Subject_Number\"], Subjects[\"Subject_Number\"]), preload=True, verbose=False)\n",
      "/tmp/ipykernel_336521/1285187122.py:33: RuntimeWarning: Limited 1 annotation(s) that were expanding outside the data range.\n",
      "  Subjects[\"prepSignal_EC\"] = mne.io.read_raw_eeglab(\"/workspace/brail_poc3/experiments/Lemon_PreEEGLAB/{}/{}/{}_EC.set\".format(Subjects[\"Subject_Number\"], Subjects[\"Subject_Number\"], Subjects[\"Subject_Number\"]), preload=True, verbose=False)\n",
      "/tmp/ipykernel_336521/1285187122.py:33: RuntimeWarning: The data contains 'boundary' events, indicating data discontinuities. Be cautious of filtering and epoching around these events.\n",
      "  Subjects[\"prepSignal_EC\"] = mne.io.read_raw_eeglab(\"/workspace/brail_poc3/experiments/Lemon_PreEEGLAB/{}/{}/{}_EC.set\".format(Subjects[\"Subject_Number\"], Subjects[\"Subject_Number\"], Subjects[\"Subject_Number\"]), preload=True, verbose=False)\n",
      "/tmp/ipykernel_336521/1285187122.py:130: RuntimeWarning: No bad channels to interpolate. Doing nothing...\n",
      "  prepSignal_EC_inte = prepSignal_EC_inte.interpolate_bads()\n",
      " 18%|███████▊                                   | 11/61 [00:03<00:11,  4.20it/s]"
     ]
    },
    {
     "name": "stdout",
     "output_type": "stream",
     "text": [
      "Subject number: sub-032338\n",
      "Subject number: sub-032340\n"
     ]
    },
    {
     "name": "stderr",
     "output_type": "stream",
     "text": [
      "/tmp/ipykernel_336521/1285187122.py:33: RuntimeWarning: Data file name in EEG.data (sub-010048_EC.fdt) is incorrect, the file name must have changed on disk, using the correct file name (sub-032340_EC.fdt).\n",
      "  Subjects[\"prepSignal_EC\"] = mne.io.read_raw_eeglab(\"/workspace/brail_poc3/experiments/Lemon_PreEEGLAB/{}/{}/{}_EC.set\".format(Subjects[\"Subject_Number\"], Subjects[\"Subject_Number\"], Subjects[\"Subject_Number\"]), preload=True, verbose=False)\n",
      "/tmp/ipykernel_336521/1285187122.py:33: RuntimeWarning: Limited 1 annotation(s) that were expanding outside the data range.\n",
      "  Subjects[\"prepSignal_EC\"] = mne.io.read_raw_eeglab(\"/workspace/brail_poc3/experiments/Lemon_PreEEGLAB/{}/{}/{}_EC.set\".format(Subjects[\"Subject_Number\"], Subjects[\"Subject_Number\"], Subjects[\"Subject_Number\"]), preload=True, verbose=False)\n",
      "/tmp/ipykernel_336521/1285187122.py:33: RuntimeWarning: The data contains 'boundary' events, indicating data discontinuities. Be cautious of filtering and epoching around these events.\n",
      "  Subjects[\"prepSignal_EC\"] = mne.io.read_raw_eeglab(\"/workspace/brail_poc3/experiments/Lemon_PreEEGLAB/{}/{}/{}_EC.set\".format(Subjects[\"Subject_Number\"], Subjects[\"Subject_Number\"], Subjects[\"Subject_Number\"]), preload=True, verbose=False)\n",
      "/tmp/ipykernel_336521/1285187122.py:130: RuntimeWarning: No bad channels to interpolate. Doing nothing...\n",
      "  prepSignal_EC_inte = prepSignal_EC_inte.interpolate_bads()\n",
      " 20%|████████▍                                  | 12/61 [00:03<00:11,  4.43it/s]/tmp/ipykernel_336521/1285187122.py:33: RuntimeWarning: Data file name in EEG.data (sub-010049_EC.fdt) is incorrect, the file name must have changed on disk, using the correct file name (sub-032341_EC.fdt).\n",
      "  Subjects[\"prepSignal_EC\"] = mne.io.read_raw_eeglab(\"/workspace/brail_poc3/experiments/Lemon_PreEEGLAB/{}/{}/{}_EC.set\".format(Subjects[\"Subject_Number\"], Subjects[\"Subject_Number\"], Subjects[\"Subject_Number\"]), preload=True, verbose=False)\n",
      "/tmp/ipykernel_336521/1285187122.py:33: RuntimeWarning: Limited 1 annotation(s) that were expanding outside the data range.\n",
      "  Subjects[\"prepSignal_EC\"] = mne.io.read_raw_eeglab(\"/workspace/brail_poc3/experiments/Lemon_PreEEGLAB/{}/{}/{}_EC.set\".format(Subjects[\"Subject_Number\"], Subjects[\"Subject_Number\"], Subjects[\"Subject_Number\"]), preload=True, verbose=False)\n",
      "/tmp/ipykernel_336521/1285187122.py:33: RuntimeWarning: The data contains 'boundary' events, indicating data discontinuities. Be cautious of filtering and epoching around these events.\n",
      "  Subjects[\"prepSignal_EC\"] = mne.io.read_raw_eeglab(\"/workspace/brail_poc3/experiments/Lemon_PreEEGLAB/{}/{}/{}_EC.set\".format(Subjects[\"Subject_Number\"], Subjects[\"Subject_Number\"], Subjects[\"Subject_Number\"]), preload=True, verbose=False)\n",
      "/tmp/ipykernel_336521/1285187122.py:130: RuntimeWarning: No bad channels to interpolate. Doing nothing...\n",
      "  prepSignal_EC_inte = prepSignal_EC_inte.interpolate_bads()\n",
      " 21%|█████████▏                                 | 13/61 [00:03<00:10,  4.64it/s]"
     ]
    },
    {
     "name": "stdout",
     "output_type": "stream",
     "text": [
      "Subject number: sub-032341\n",
      "Subject number: sub-032343\n"
     ]
    },
    {
     "name": "stderr",
     "output_type": "stream",
     "text": [
      "/tmp/ipykernel_336521/1285187122.py:33: RuntimeWarning: Data file name in EEG.data (sub-010051_EC.fdt) is incorrect, the file name must have changed on disk, using the correct file name (sub-032343_EC.fdt).\n",
      "  Subjects[\"prepSignal_EC\"] = mne.io.read_raw_eeglab(\"/workspace/brail_poc3/experiments/Lemon_PreEEGLAB/{}/{}/{}_EC.set\".format(Subjects[\"Subject_Number\"], Subjects[\"Subject_Number\"], Subjects[\"Subject_Number\"]), preload=True, verbose=False)\n",
      "/tmp/ipykernel_336521/1285187122.py:33: RuntimeWarning: Limited 1 annotation(s) that were expanding outside the data range.\n",
      "  Subjects[\"prepSignal_EC\"] = mne.io.read_raw_eeglab(\"/workspace/brail_poc3/experiments/Lemon_PreEEGLAB/{}/{}/{}_EC.set\".format(Subjects[\"Subject_Number\"], Subjects[\"Subject_Number\"], Subjects[\"Subject_Number\"]), preload=True, verbose=False)\n",
      "/tmp/ipykernel_336521/1285187122.py:33: RuntimeWarning: The data contains 'boundary' events, indicating data discontinuities. Be cautious of filtering and epoching around these events.\n",
      "  Subjects[\"prepSignal_EC\"] = mne.io.read_raw_eeglab(\"/workspace/brail_poc3/experiments/Lemon_PreEEGLAB/{}/{}/{}_EC.set\".format(Subjects[\"Subject_Number\"], Subjects[\"Subject_Number\"], Subjects[\"Subject_Number\"]), preload=True, verbose=False)\n"
     ]
    },
    {
     "name": "stdout",
     "output_type": "stream",
     "text": [
      "[{'loc': array([-0.04355763, -0.06150727, -0.03930126,  0.        ,  0.        ,\n",
      "        0.        ,         nan,         nan,         nan,         nan,\n",
      "               nan,         nan]), 'unit_mul': 0 (FIFF_UNITM_NONE), 'range': 1.0, 'cal': 1.0, 'kind': 2 (FIFFV_EEG_CH), 'coil_type': 1 (FIFFV_COIL_EEG), 'unit': 107 (FIFF_UNIT_V), 'coord_frame': 4 (FIFFV_COORD_HEAD), 'ch_name': 'PO9', 'scanno': 1, 'logno': 1}]\n",
      "Creating RawArray with float64 data, n_channels=1, n_times=111045\n",
      "    Range : 0 ... 111044 =      0.000 ...   444.176 secs\n",
      "Ready.\n",
      "Interpolating bad channels\n",
      "    Automatic origin fit: head of radius 85.0 mm\n",
      "Computing interpolation matrix from 60 sensor positions\n",
      "Interpolating 1 sensors\n"
     ]
    },
    {
     "name": "stderr",
     "output_type": "stream",
     "text": [
      "\r",
      " 23%|█████████▊                                 | 14/61 [00:03<00:11,  4.16it/s]"
     ]
    },
    {
     "name": "stdout",
     "output_type": "stream",
     "text": [
      "Subject number: sub-032347\n"
     ]
    },
    {
     "name": "stderr",
     "output_type": "stream",
     "text": [
      "/tmp/ipykernel_336521/1285187122.py:33: RuntimeWarning: Data file name in EEG.data (sub-010059_EC.fdt) is incorrect, the file name must have changed on disk, using the correct file name (sub-032347_EC.fdt).\n",
      "  Subjects[\"prepSignal_EC\"] = mne.io.read_raw_eeglab(\"/workspace/brail_poc3/experiments/Lemon_PreEEGLAB/{}/{}/{}_EC.set\".format(Subjects[\"Subject_Number\"], Subjects[\"Subject_Number\"], Subjects[\"Subject_Number\"]), preload=True, verbose=False)\n",
      "/tmp/ipykernel_336521/1285187122.py:33: RuntimeWarning: Limited 1 annotation(s) that were expanding outside the data range.\n",
      "  Subjects[\"prepSignal_EC\"] = mne.io.read_raw_eeglab(\"/workspace/brail_poc3/experiments/Lemon_PreEEGLAB/{}/{}/{}_EC.set\".format(Subjects[\"Subject_Number\"], Subjects[\"Subject_Number\"], Subjects[\"Subject_Number\"]), preload=True, verbose=False)\n",
      "/tmp/ipykernel_336521/1285187122.py:33: RuntimeWarning: The data contains 'boundary' events, indicating data discontinuities. Be cautious of filtering and epoching around these events.\n",
      "  Subjects[\"prepSignal_EC\"] = mne.io.read_raw_eeglab(\"/workspace/brail_poc3/experiments/Lemon_PreEEGLAB/{}/{}/{}_EC.set\".format(Subjects[\"Subject_Number\"], Subjects[\"Subject_Number\"], Subjects[\"Subject_Number\"]), preload=True, verbose=False)\n",
      "/tmp/ipykernel_336521/1285187122.py:130: RuntimeWarning: No bad channels to interpolate. Doing nothing...\n",
      "  prepSignal_EC_inte = prepSignal_EC_inte.interpolate_bads()\n",
      " 25%|██████████▌                                | 15/61 [00:04<00:10,  4.34it/s]/tmp/ipykernel_336521/1285187122.py:33: RuntimeWarning: Data file name in EEG.data (sub-010081_EC.fdt) is incorrect, the file name must have changed on disk, using the correct file name (sub-032369_EC.fdt).\n",
      "  Subjects[\"prepSignal_EC\"] = mne.io.read_raw_eeglab(\"/workspace/brail_poc3/experiments/Lemon_PreEEGLAB/{}/{}/{}_EC.set\".format(Subjects[\"Subject_Number\"], Subjects[\"Subject_Number\"], Subjects[\"Subject_Number\"]), preload=True, verbose=False)\n"
     ]
    },
    {
     "name": "stdout",
     "output_type": "stream",
     "text": [
      "Subject number: sub-032369\n",
      "[{'loc': array([-8.45385386e-02,  5.17649254e-18, -8.84508251e-03,  0.00000000e+00,\n",
      "        0.00000000e+00,  0.00000000e+00,             nan,             nan,\n",
      "                   nan,             nan,             nan,             nan]), 'unit_mul': 0 (FIFF_UNITM_NONE), 'range': 1.0, 'cal': 1.0, 'kind': 2 (FIFFV_EEG_CH), 'coil_type': 1 (FIFFV_COIL_EEG), 'unit': 107 (FIFF_UNIT_V), 'coord_frame': 4 (FIFFV_COORD_HEAD), 'ch_name': 'T7', 'scanno': 1, 'logno': 1}]\n",
      "Creating RawArray with float64 data, n_channels=1, n_times=119632\n",
      "    Range : 0 ... 119631 =      0.000 ...   478.524 secs\n",
      "Ready.\n"
     ]
    },
    {
     "name": "stderr",
     "output_type": "stream",
     "text": [
      "/tmp/ipykernel_336521/1285187122.py:33: RuntimeWarning: Limited 1 annotation(s) that were expanding outside the data range.\n",
      "  Subjects[\"prepSignal_EC\"] = mne.io.read_raw_eeglab(\"/workspace/brail_poc3/experiments/Lemon_PreEEGLAB/{}/{}/{}_EC.set\".format(Subjects[\"Subject_Number\"], Subjects[\"Subject_Number\"], Subjects[\"Subject_Number\"]), preload=True, verbose=False)\n",
      "/tmp/ipykernel_336521/1285187122.py:33: RuntimeWarning: The data contains 'boundary' events, indicating data discontinuities. Be cautious of filtering and epoching around these events.\n",
      "  Subjects[\"prepSignal_EC\"] = mne.io.read_raw_eeglab(\"/workspace/brail_poc3/experiments/Lemon_PreEEGLAB/{}/{}/{}_EC.set\".format(Subjects[\"Subject_Number\"], Subjects[\"Subject_Number\"], Subjects[\"Subject_Number\"]), preload=True, verbose=False)\n"
     ]
    },
    {
     "name": "stdout",
     "output_type": "stream",
     "text": [
      "[{'loc': array([ 8.45385386e-02,  5.17649254e-18, -8.84508251e-03,  0.00000000e+00,\n",
      "        0.00000000e+00,  0.00000000e+00,             nan,             nan,\n",
      "                   nan,             nan,             nan,             nan]), 'unit_mul': 0 (FIFF_UNITM_NONE), 'range': 1.0, 'cal': 1.0, 'kind': 2 (FIFFV_EEG_CH), 'coil_type': 1 (FIFFV_COIL_EEG), 'unit': 107 (FIFF_UNIT_V), 'coord_frame': 4 (FIFFV_COORD_HEAD), 'ch_name': 'T8', 'scanno': 1, 'logno': 1}]\n",
      "Creating RawArray with float64 data, n_channels=1, n_times=119632\n",
      "    Range : 0 ... 119631 =      0.000 ...   478.524 secs\n",
      "Ready.\n",
      "Interpolating bad channels\n",
      "    Automatic origin fit: head of radius 85.0 mm\n",
      "Computing interpolation matrix from 59 sensor positions\n",
      "Interpolating 2 sensors\n"
     ]
    },
    {
     "name": "stderr",
     "output_type": "stream",
     "text": [
      "\r",
      " 26%|███████████▎                               | 16/61 [00:04<00:12,  3.52it/s]"
     ]
    },
    {
     "name": "stdout",
     "output_type": "stream",
     "text": [
      "Subject number: sub-032372\n",
      "[{'loc': array([-0.08041001,  0.0262075 , -0.0085086 ,  0.        ,  0.        ,\n",
      "        0.        ,         nan,         nan,         nan,         nan,\n",
      "               nan,         nan]), 'unit_mul': 0 (FIFF_UNITM_NONE), 'range': 1.0, 'cal': 1.0, 'kind': 2 (FIFFV_EEG_CH), 'coil_type': 1 (FIFFV_COIL_EEG), 'unit': 107 (FIFF_UNIT_V), 'coord_frame': 4 (FIFFV_COORD_HEAD), 'ch_name': 'FT7', 'scanno': 1, 'logno': 1}]\n",
      "Creating RawArray with float64 data, n_channels=1, n_times=119111\n",
      "    Range : 0 ... 119110 =      0.000 ...   476.440 secs\n"
     ]
    },
    {
     "name": "stderr",
     "output_type": "stream",
     "text": [
      "/tmp/ipykernel_336521/1285187122.py:33: RuntimeWarning: Data file name in EEG.data (sub-010085_EC.fdt) is incorrect, the file name must have changed on disk, using the correct file name (sub-032372_EC.fdt).\n",
      "  Subjects[\"prepSignal_EC\"] = mne.io.read_raw_eeglab(\"/workspace/brail_poc3/experiments/Lemon_PreEEGLAB/{}/{}/{}_EC.set\".format(Subjects[\"Subject_Number\"], Subjects[\"Subject_Number\"], Subjects[\"Subject_Number\"]), preload=True, verbose=False)\n",
      "/tmp/ipykernel_336521/1285187122.py:33: RuntimeWarning: Limited 1 annotation(s) that were expanding outside the data range.\n",
      "  Subjects[\"prepSignal_EC\"] = mne.io.read_raw_eeglab(\"/workspace/brail_poc3/experiments/Lemon_PreEEGLAB/{}/{}/{}_EC.set\".format(Subjects[\"Subject_Number\"], Subjects[\"Subject_Number\"], Subjects[\"Subject_Number\"]), preload=True, verbose=False)\n",
      "/tmp/ipykernel_336521/1285187122.py:33: RuntimeWarning: The data contains 'boundary' events, indicating data discontinuities. Be cautious of filtering and epoching around these events.\n",
      "  Subjects[\"prepSignal_EC\"] = mne.io.read_raw_eeglab(\"/workspace/brail_poc3/experiments/Lemon_PreEEGLAB/{}/{}/{}_EC.set\".format(Subjects[\"Subject_Number\"], Subjects[\"Subject_Number\"], Subjects[\"Subject_Number\"]), preload=True, verbose=False)\n"
     ]
    },
    {
     "name": "stdout",
     "output_type": "stream",
     "text": [
      "Ready.\n",
      "[{'loc': array([ 0.08041001,  0.0262075 , -0.0085086 ,  0.        ,  0.        ,\n",
      "        0.        ,         nan,         nan,         nan,         nan,\n",
      "               nan,         nan]), 'unit_mul': 0 (FIFF_UNITM_NONE), 'range': 1.0, 'cal': 1.0, 'kind': 2 (FIFFV_EEG_CH), 'coil_type': 1 (FIFFV_COIL_EEG), 'unit': 107 (FIFF_UNIT_V), 'coord_frame': 4 (FIFFV_COORD_HEAD), 'ch_name': 'FT8', 'scanno': 1, 'logno': 1}]\n",
      "Creating RawArray with float64 data, n_channels=1, n_times=119111\n",
      "    Range : 0 ... 119110 =      0.000 ...   476.440 secs\n",
      "Ready.\n",
      "Interpolating bad channels\n",
      "    Automatic origin fit: head of radius 85.0 mm\n",
      "Computing interpolation matrix from 59 sensor positions\n",
      "Interpolating 2 sensors\n"
     ]
    },
    {
     "name": "stderr",
     "output_type": "stream",
     "text": [
      "\r",
      " 28%|███████████▉                               | 17/61 [00:04<00:13,  3.21it/s]"
     ]
    },
    {
     "name": "stdout",
     "output_type": "stream",
     "text": [
      "Subject number: sub-032373\n",
      "[{'loc': array([ 0.04352475, -0.06154734, -0.03927495,  0.        ,  0.        ,\n",
      "        0.        ,         nan,         nan,         nan,         nan,\n",
      "               nan,         nan]), 'unit_mul': 0 (FIFF_UNITM_NONE), 'range': 1.0, 'cal': 1.0, 'kind': 2 (FIFFV_EEG_CH), 'coil_type': 1 (FIFFV_COIL_EEG), 'unit': 107 (FIFF_UNIT_V), 'coord_frame': 4 (FIFFV_COORD_HEAD), 'ch_name': 'PO10', 'scanno': 1, 'logno': 1}]\n",
      "Creating RawArray with float64 data, n_channels=1, n_times=112276\n",
      "    Range : 0 ... 112275 =      0.000 ...   449.100 secs\n",
      "Ready.\n"
     ]
    },
    {
     "name": "stderr",
     "output_type": "stream",
     "text": [
      "/tmp/ipykernel_336521/1285187122.py:33: RuntimeWarning: Data file name in EEG.data (sub-010086_EC.fdt) is incorrect, the file name must have changed on disk, using the correct file name (sub-032373_EC.fdt).\n",
      "  Subjects[\"prepSignal_EC\"] = mne.io.read_raw_eeglab(\"/workspace/brail_poc3/experiments/Lemon_PreEEGLAB/{}/{}/{}_EC.set\".format(Subjects[\"Subject_Number\"], Subjects[\"Subject_Number\"], Subjects[\"Subject_Number\"]), preload=True, verbose=False)\n",
      "/tmp/ipykernel_336521/1285187122.py:33: RuntimeWarning: Limited 1 annotation(s) that were expanding outside the data range.\n",
      "  Subjects[\"prepSignal_EC\"] = mne.io.read_raw_eeglab(\"/workspace/brail_poc3/experiments/Lemon_PreEEGLAB/{}/{}/{}_EC.set\".format(Subjects[\"Subject_Number\"], Subjects[\"Subject_Number\"], Subjects[\"Subject_Number\"]), preload=True, verbose=False)\n",
      "/tmp/ipykernel_336521/1285187122.py:33: RuntimeWarning: The data contains 'boundary' events, indicating data discontinuities. Be cautious of filtering and epoching around these events.\n",
      "  Subjects[\"prepSignal_EC\"] = mne.io.read_raw_eeglab(\"/workspace/brail_poc3/experiments/Lemon_PreEEGLAB/{}/{}/{}_EC.set\".format(Subjects[\"Subject_Number\"], Subjects[\"Subject_Number\"], Subjects[\"Subject_Number\"]), preload=True, verbose=False)\n"
     ]
    },
    {
     "name": "stdout",
     "output_type": "stream",
     "text": [
      "Interpolating bad channels\n",
      "    Automatic origin fit: head of radius 85.0 mm\n",
      "Computing interpolation matrix from 60 sensor positions\n",
      "Interpolating 1 sensors\n"
     ]
    },
    {
     "name": "stderr",
     "output_type": "stream",
     "text": [
      "\r",
      " 30%|████████████▋                              | 18/61 [00:05<00:13,  3.23it/s]"
     ]
    },
    {
     "name": "stdout",
     "output_type": "stream",
     "text": [
      "Subject number: sub-032375\n"
     ]
    },
    {
     "name": "stderr",
     "output_type": "stream",
     "text": [
      "/tmp/ipykernel_336521/1285187122.py:33: RuntimeWarning: Data file name in EEG.data (sub-010088_EC.fdt) is incorrect, the file name must have changed on disk, using the correct file name (sub-032375_EC.fdt).\n",
      "  Subjects[\"prepSignal_EC\"] = mne.io.read_raw_eeglab(\"/workspace/brail_poc3/experiments/Lemon_PreEEGLAB/{}/{}/{}_EC.set\".format(Subjects[\"Subject_Number\"], Subjects[\"Subject_Number\"], Subjects[\"Subject_Number\"]), preload=True, verbose=False)\n",
      "/tmp/ipykernel_336521/1285187122.py:33: RuntimeWarning: Limited 1 annotation(s) that were expanding outside the data range.\n",
      "  Subjects[\"prepSignal_EC\"] = mne.io.read_raw_eeglab(\"/workspace/brail_poc3/experiments/Lemon_PreEEGLAB/{}/{}/{}_EC.set\".format(Subjects[\"Subject_Number\"], Subjects[\"Subject_Number\"], Subjects[\"Subject_Number\"]), preload=True, verbose=False)\n",
      "/tmp/ipykernel_336521/1285187122.py:33: RuntimeWarning: The data contains 'boundary' events, indicating data discontinuities. Be cautious of filtering and epoching around these events.\n",
      "  Subjects[\"prepSignal_EC\"] = mne.io.read_raw_eeglab(\"/workspace/brail_poc3/experiments/Lemon_PreEEGLAB/{}/{}/{}_EC.set\".format(Subjects[\"Subject_Number\"], Subjects[\"Subject_Number\"], Subjects[\"Subject_Number\"]), preload=True, verbose=False)\n"
     ]
    },
    {
     "name": "stdout",
     "output_type": "stream",
     "text": [
      "[{'loc': array([ 0.04352475, -0.06154734, -0.03927495,  0.        ,  0.        ,\n",
      "        0.        ,         nan,         nan,         nan,         nan,\n",
      "               nan,         nan]), 'unit_mul': 0 (FIFF_UNITM_NONE), 'range': 1.0, 'cal': 1.0, 'kind': 2 (FIFFV_EEG_CH), 'coil_type': 1 (FIFFV_COIL_EEG), 'unit': 107 (FIFF_UNIT_V), 'coord_frame': 4 (FIFFV_COORD_HEAD), 'ch_name': 'PO10', 'scanno': 1, 'logno': 1}]\n",
      "Creating RawArray with float64 data, n_channels=1, n_times=118594\n",
      "    Range : 0 ... 118593 =      0.000 ...   474.372 secs\n",
      "Ready.\n",
      "Interpolating bad channels\n",
      "    Automatic origin fit: head of radius 85.0 mm\n",
      "Computing interpolation matrix from 60 sensor positions\n",
      "Interpolating 1 sensors\n"
     ]
    },
    {
     "name": "stderr",
     "output_type": "stream",
     "text": [
      "\r",
      " 31%|█████████████▍                             | 19/61 [00:05<00:13,  3.11it/s]"
     ]
    },
    {
     "name": "stdout",
     "output_type": "stream",
     "text": [
      "Subject number: sub-032376\n"
     ]
    },
    {
     "name": "stderr",
     "output_type": "stream",
     "text": [
      "/tmp/ipykernel_336521/1285187122.py:33: RuntimeWarning: Data file name in EEG.data (sub-010089_EC.fdt) is incorrect, the file name must have changed on disk, using the correct file name (sub-032376_EC.fdt).\n",
      "  Subjects[\"prepSignal_EC\"] = mne.io.read_raw_eeglab(\"/workspace/brail_poc3/experiments/Lemon_PreEEGLAB/{}/{}/{}_EC.set\".format(Subjects[\"Subject_Number\"], Subjects[\"Subject_Number\"], Subjects[\"Subject_Number\"]), preload=True, verbose=False)\n",
      "/tmp/ipykernel_336521/1285187122.py:33: RuntimeWarning: Limited 1 annotation(s) that were expanding outside the data range.\n",
      "  Subjects[\"prepSignal_EC\"] = mne.io.read_raw_eeglab(\"/workspace/brail_poc3/experiments/Lemon_PreEEGLAB/{}/{}/{}_EC.set\".format(Subjects[\"Subject_Number\"], Subjects[\"Subject_Number\"], Subjects[\"Subject_Number\"]), preload=True, verbose=False)\n",
      "/tmp/ipykernel_336521/1285187122.py:33: RuntimeWarning: The data contains 'boundary' events, indicating data discontinuities. Be cautious of filtering and epoching around these events.\n",
      "  Subjects[\"prepSignal_EC\"] = mne.io.read_raw_eeglab(\"/workspace/brail_poc3/experiments/Lemon_PreEEGLAB/{}/{}/{}_EC.set\".format(Subjects[\"Subject_Number\"], Subjects[\"Subject_Number\"], Subjects[\"Subject_Number\"]), preload=True, verbose=False)\n",
      "/tmp/ipykernel_336521/1285187122.py:130: RuntimeWarning: No bad channels to interpolate. Doing nothing...\n",
      "  prepSignal_EC_inte = prepSignal_EC_inte.interpolate_bads()\n",
      "\r",
      " 33%|██████████████                             | 20/61 [00:05<00:11,  3.58it/s]"
     ]
    },
    {
     "name": "stdout",
     "output_type": "stream",
     "text": [
      "Subject number: sub-032377\n"
     ]
    },
    {
     "name": "stderr",
     "output_type": "stream",
     "text": [
      "/tmp/ipykernel_336521/1285187122.py:33: RuntimeWarning: Data file name in EEG.data (sub-010090_EC.fdt) is incorrect, the file name must have changed on disk, using the correct file name (sub-032377_EC.fdt).\n",
      "  Subjects[\"prepSignal_EC\"] = mne.io.read_raw_eeglab(\"/workspace/brail_poc3/experiments/Lemon_PreEEGLAB/{}/{}/{}_EC.set\".format(Subjects[\"Subject_Number\"], Subjects[\"Subject_Number\"], Subjects[\"Subject_Number\"]), preload=True, verbose=False)\n"
     ]
    },
    {
     "name": "stdout",
     "output_type": "stream",
     "text": [
      "[{'loc': array([-8.45385386e-02,  5.17649254e-18, -8.84508251e-03,  0.00000000e+00,\n",
      "        0.00000000e+00,  0.00000000e+00,             nan,             nan,\n",
      "                   nan,             nan,             nan,             nan]), 'unit_mul': 0 (FIFF_UNITM_NONE), 'range': 1.0, 'cal': 1.0, 'kind': 2 (FIFFV_EEG_CH), 'coil_type': 1 (FIFFV_COIL_EEG), 'unit': 107 (FIFF_UNIT_V), 'coord_frame': 4 (FIFFV_COORD_HEAD), 'ch_name': 'T7', 'scanno': 1, 'logno': 1}]\n",
      "Creating RawArray with float64 data, n_channels=1, n_times=119974\n",
      "    Range : 0 ... 119973 =      0.000 ...   479.892 secs\n",
      "Ready.\n",
      "[{'loc': array([ 0.04352475, -0.06154734, -0.03927495,  0.        ,  0.        ,\n",
      "        0.        ,         nan,         nan,         nan,         nan,\n",
      "               nan,         nan]), 'unit_mul': 0 (FIFF_UNITM_NONE), 'range': 1.0, 'cal': 1.0, 'kind': 2 (FIFFV_EEG_CH), 'coil_type': 1 (FIFFV_COIL_EEG), 'unit': 107 (FIFF_UNIT_V), 'coord_frame': 4 (FIFFV_COORD_HEAD), 'ch_name': 'PO10', 'scanno': 1, 'logno': 1}]\n",
      "Creating RawArray with float64 data, n_channels=1, n_times=119974\n",
      "    Range : 0 ... 119973 =      0.000 ...   479.892 secs\n",
      "Ready.\n"
     ]
    },
    {
     "name": "stderr",
     "output_type": "stream",
     "text": [
      "/tmp/ipykernel_336521/1285187122.py:33: RuntimeWarning: Limited 1 annotation(s) that were expanding outside the data range.\n",
      "  Subjects[\"prepSignal_EC\"] = mne.io.read_raw_eeglab(\"/workspace/brail_poc3/experiments/Lemon_PreEEGLAB/{}/{}/{}_EC.set\".format(Subjects[\"Subject_Number\"], Subjects[\"Subject_Number\"], Subjects[\"Subject_Number\"]), preload=True, verbose=False)\n",
      "/tmp/ipykernel_336521/1285187122.py:33: RuntimeWarning: The data contains 'boundary' events, indicating data discontinuities. Be cautious of filtering and epoching around these events.\n",
      "  Subjects[\"prepSignal_EC\"] = mne.io.read_raw_eeglab(\"/workspace/brail_poc3/experiments/Lemon_PreEEGLAB/{}/{}/{}_EC.set\".format(Subjects[\"Subject_Number\"], Subjects[\"Subject_Number\"], Subjects[\"Subject_Number\"]), preload=True, verbose=False)\n"
     ]
    },
    {
     "name": "stdout",
     "output_type": "stream",
     "text": [
      "Interpolating bad channels\n",
      "    Automatic origin fit: head of radius 85.0 mm\n",
      "Computing interpolation matrix from 59 sensor positions\n",
      "Interpolating 2 sensors\n"
     ]
    },
    {
     "name": "stderr",
     "output_type": "stream",
     "text": [
      "\r",
      " 34%|██████████████▊                            | 21/61 [00:06<00:11,  3.36it/s]"
     ]
    },
    {
     "name": "stdout",
     "output_type": "stream",
     "text": [
      "Subject number: sub-032378\n",
      "[{'loc': array([-8.45385386e-02,  5.17649254e-18, -8.84508251e-03,  0.00000000e+00,\n",
      "        0.00000000e+00,  0.00000000e+00,             nan,             nan,\n",
      "                   nan,             nan,             nan,             nan]), 'unit_mul': 0 (FIFF_UNITM_NONE), 'range': 1.0, 'cal': 1.0, 'kind': 2 (FIFFV_EEG_CH), 'coil_type': 1 (FIFFV_COIL_EEG), 'unit': 107 (FIFF_UNIT_V), 'coord_frame': 4 (FIFFV_COORD_HEAD), 'ch_name': 'T7', 'scanno': 1, 'logno': 1}]\n",
      "Creating RawArray with float64 data, n_channels=1, n_times=119977\n"
     ]
    },
    {
     "name": "stderr",
     "output_type": "stream",
     "text": [
      "/tmp/ipykernel_336521/1285187122.py:33: RuntimeWarning: Data file name in EEG.data (sub-010091_EC.fdt) is incorrect, the file name must have changed on disk, using the correct file name (sub-032378_EC.fdt).\n",
      "  Subjects[\"prepSignal_EC\"] = mne.io.read_raw_eeglab(\"/workspace/brail_poc3/experiments/Lemon_PreEEGLAB/{}/{}/{}_EC.set\".format(Subjects[\"Subject_Number\"], Subjects[\"Subject_Number\"], Subjects[\"Subject_Number\"]), preload=True, verbose=False)\n",
      "/tmp/ipykernel_336521/1285187122.py:33: RuntimeWarning: Limited 1 annotation(s) that were expanding outside the data range.\n",
      "  Subjects[\"prepSignal_EC\"] = mne.io.read_raw_eeglab(\"/workspace/brail_poc3/experiments/Lemon_PreEEGLAB/{}/{}/{}_EC.set\".format(Subjects[\"Subject_Number\"], Subjects[\"Subject_Number\"], Subjects[\"Subject_Number\"]), preload=True, verbose=False)\n",
      "/tmp/ipykernel_336521/1285187122.py:33: RuntimeWarning: The data contains 'boundary' events, indicating data discontinuities. Be cautious of filtering and epoching around these events.\n",
      "  Subjects[\"prepSignal_EC\"] = mne.io.read_raw_eeglab(\"/workspace/brail_poc3/experiments/Lemon_PreEEGLAB/{}/{}/{}_EC.set\".format(Subjects[\"Subject_Number\"], Subjects[\"Subject_Number\"], Subjects[\"Subject_Number\"]), preload=True, verbose=False)\n"
     ]
    },
    {
     "name": "stdout",
     "output_type": "stream",
     "text": [
      "    Range : 0 ... 119976 =      0.000 ...   479.904 secs\n",
      "Ready.\n",
      "[{'loc': array([ 8.45385386e-02,  5.17649254e-18, -8.84508251e-03,  0.00000000e+00,\n",
      "        0.00000000e+00,  0.00000000e+00,             nan,             nan,\n",
      "                   nan,             nan,             nan,             nan]), 'unit_mul': 0 (FIFF_UNITM_NONE), 'range': 1.0, 'cal': 1.0, 'kind': 2 (FIFFV_EEG_CH), 'coil_type': 1 (FIFFV_COIL_EEG), 'unit': 107 (FIFF_UNIT_V), 'coord_frame': 4 (FIFFV_COORD_HEAD), 'ch_name': 'T8', 'scanno': 1, 'logno': 1}]\n",
      "Creating RawArray with float64 data, n_channels=1, n_times=119977\n",
      "    Range : 0 ... 119976 =      0.000 ...   479.904 secs\n",
      "Ready.\n",
      "Interpolating bad channels\n",
      "    Automatic origin fit: head of radius 85.0 mm\n",
      "Computing interpolation matrix from 59 sensor positions\n",
      "Interpolating 2 sensors\n"
     ]
    },
    {
     "name": "stderr",
     "output_type": "stream",
     "text": [
      "\r",
      " 36%|███████████████▌                           | 22/61 [00:06<00:12,  3.09it/s]"
     ]
    },
    {
     "name": "stdout",
     "output_type": "stream",
     "text": [
      "Subject number: sub-032379\n",
      "[{'loc': array([-0.08041001, -0.0262075 , -0.0085086 ,  0.        ,  0.        ,\n",
      "        0.        ,         nan,         nan,         nan,         nan,\n",
      "               nan,         nan]), 'unit_mul': 0 (FIFF_UNITM_NONE), 'range': 1.0, 'cal': 1.0, 'kind': 2 (FIFFV_EEG_CH), 'coil_type': 1 (FIFFV_COIL_EEG), 'unit': 107 (FIFF_UNIT_V), 'coord_frame': 4 (FIFFV_COORD_HEAD), 'ch_name': 'TP7', 'scanno': 1, 'logno': 1}]\n",
      "Creating RawArray with float64 data, n_channels=1, n_times=114922\n",
      "    Range : 0 ... 114921 =      0.000 ...   459.684 secs\n",
      "Ready.\n"
     ]
    },
    {
     "name": "stderr",
     "output_type": "stream",
     "text": [
      "/tmp/ipykernel_336521/1285187122.py:33: RuntimeWarning: Data file name in EEG.data (sub-010092_EC.fdt) is incorrect, the file name must have changed on disk, using the correct file name (sub-032379_EC.fdt).\n",
      "  Subjects[\"prepSignal_EC\"] = mne.io.read_raw_eeglab(\"/workspace/brail_poc3/experiments/Lemon_PreEEGLAB/{}/{}/{}_EC.set\".format(Subjects[\"Subject_Number\"], Subjects[\"Subject_Number\"], Subjects[\"Subject_Number\"]), preload=True, verbose=False)\n",
      "/tmp/ipykernel_336521/1285187122.py:33: RuntimeWarning: Limited 1 annotation(s) that were expanding outside the data range.\n",
      "  Subjects[\"prepSignal_EC\"] = mne.io.read_raw_eeglab(\"/workspace/brail_poc3/experiments/Lemon_PreEEGLAB/{}/{}/{}_EC.set\".format(Subjects[\"Subject_Number\"], Subjects[\"Subject_Number\"], Subjects[\"Subject_Number\"]), preload=True, verbose=False)\n",
      "/tmp/ipykernel_336521/1285187122.py:33: RuntimeWarning: The data contains 'boundary' events, indicating data discontinuities. Be cautious of filtering and epoching around these events.\n",
      "  Subjects[\"prepSignal_EC\"] = mne.io.read_raw_eeglab(\"/workspace/brail_poc3/experiments/Lemon_PreEEGLAB/{}/{}/{}_EC.set\".format(Subjects[\"Subject_Number\"], Subjects[\"Subject_Number\"], Subjects[\"Subject_Number\"]), preload=True, verbose=False)\n"
     ]
    },
    {
     "name": "stdout",
     "output_type": "stream",
     "text": [
      "Interpolating bad channels\n",
      "    Automatic origin fit: head of radius 85.0 mm\n",
      "Computing interpolation matrix from 60 sensor positions\n",
      "Interpolating 1 sensors\n"
     ]
    },
    {
     "name": "stderr",
     "output_type": "stream",
     "text": [
      "\r",
      " 38%|████████████████▏                          | 23/61 [00:06<00:12,  2.94it/s]"
     ]
    },
    {
     "name": "stdout",
     "output_type": "stream",
     "text": [
      "Subject number: sub-032380\n",
      "[{'loc': array([-0.04355763, -0.06150727, -0.03930126,  0.        ,  0.        ,\n",
      "        0.        ,         nan,         nan,         nan,         nan,\n",
      "               nan,         nan]), 'unit_mul': 0 (FIFF_UNITM_NONE), 'range': 1.0, 'cal': 1.0, 'kind': 2 (FIFFV_EEG_CH), 'coil_type': 1 (FIFFV_COIL_EEG), 'unit': 107 (FIFF_UNIT_V), 'coord_frame': 4 (FIFFV_COORD_HEAD), 'ch_name': 'PO9', 'scanno': 1, 'logno': 1}]\n",
      "Creating RawArray with float64 data, n_channels=1, n_times=119857\n",
      "    Range : 0 ... 119856 =      0.000 ...   479.424 secs\n",
      "Ready.\n"
     ]
    },
    {
     "name": "stderr",
     "output_type": "stream",
     "text": [
      "/tmp/ipykernel_336521/1285187122.py:33: RuntimeWarning: Data file name in EEG.data (sub-010093_EC.fdt) is incorrect, the file name must have changed on disk, using the correct file name (sub-032380_EC.fdt).\n",
      "  Subjects[\"prepSignal_EC\"] = mne.io.read_raw_eeglab(\"/workspace/brail_poc3/experiments/Lemon_PreEEGLAB/{}/{}/{}_EC.set\".format(Subjects[\"Subject_Number\"], Subjects[\"Subject_Number\"], Subjects[\"Subject_Number\"]), preload=True, verbose=False)\n",
      "/tmp/ipykernel_336521/1285187122.py:33: RuntimeWarning: Limited 1 annotation(s) that were expanding outside the data range.\n",
      "  Subjects[\"prepSignal_EC\"] = mne.io.read_raw_eeglab(\"/workspace/brail_poc3/experiments/Lemon_PreEEGLAB/{}/{}/{}_EC.set\".format(Subjects[\"Subject_Number\"], Subjects[\"Subject_Number\"], Subjects[\"Subject_Number\"]), preload=True, verbose=False)\n",
      "/tmp/ipykernel_336521/1285187122.py:33: RuntimeWarning: The data contains 'boundary' events, indicating data discontinuities. Be cautious of filtering and epoching around these events.\n",
      "  Subjects[\"prepSignal_EC\"] = mne.io.read_raw_eeglab(\"/workspace/brail_poc3/experiments/Lemon_PreEEGLAB/{}/{}/{}_EC.set\".format(Subjects[\"Subject_Number\"], Subjects[\"Subject_Number\"], Subjects[\"Subject_Number\"]), preload=True, verbose=False)\n"
     ]
    },
    {
     "name": "stdout",
     "output_type": "stream",
     "text": [
      "[{'loc': array([0.06304474, 0.05402633, 0.01820758, 0.        , 0.        ,\n",
      "       0.        ,        nan,        nan,        nan,        nan,\n",
      "              nan,        nan]), 'unit_mul': 0 (FIFF_UNITM_NONE), 'range': 1.0, 'cal': 1.0, 'kind': 2 (FIFFV_EEG_CH), 'coil_type': 1 (FIFFV_COIL_EEG), 'unit': 107 (FIFF_UNIT_V), 'coord_frame': 4 (FIFFV_COORD_HEAD), 'ch_name': 'F6', 'scanno': 1, 'logno': 1}]\n",
      "Creating RawArray with float64 data, n_channels=1, n_times=119857\n",
      "    Range : 0 ... 119856 =      0.000 ...   479.424 secs\n",
      "Ready.\n",
      "[{'loc': array([-0.08041001, -0.0262075 , -0.0085086 ,  0.        ,  0.        ,\n",
      "        0.        ,         nan,         nan,         nan,         nan,\n",
      "               nan,         nan]), 'unit_mul': 0 (FIFF_UNITM_NONE), 'range': 1.0, 'cal': 1.0, 'kind': 2 (FIFFV_EEG_CH), 'coil_type': 1 (FIFFV_COIL_EEG), 'unit': 107 (FIFF_UNIT_V), 'coord_frame': 4 (FIFFV_COORD_HEAD), 'ch_name': 'TP7', 'scanno': 1, 'logno': 1}]\n",
      "Creating RawArray with float64 data, n_channels=1, n_times=119857\n",
      "    Range : 0 ... 119856 =      0.000 ...   479.424 secs\n",
      "Ready.\n",
      "Interpolating bad channels\n",
      "    Automatic origin fit: head of radius 85.0 mm\n",
      "Computing interpolation matrix from 58 sensor positions\n",
      "Interpolating 3 sensors\n"
     ]
    },
    {
     "name": "stderr",
     "output_type": "stream",
     "text": [
      "\r",
      " 39%|████████████████▉                          | 24/61 [00:07<00:13,  2.77it/s]"
     ]
    },
    {
     "name": "stdout",
     "output_type": "stream",
     "text": [
      "Subject number: sub-032383\n",
      "[{'loc': array([ 0.06838359,  0.04992653, -0.00748509,  0.        ,  0.        ,\n",
      "        0.        ,         nan,         nan,         nan,         nan,\n",
      "               nan,         nan]), 'unit_mul': 0 (FIFF_UNITM_NONE), 'range': 1.0, 'cal': 1.0, 'kind': 2 (FIFFV_EEG_CH), 'coil_type': 1 (FIFFV_COIL_EEG), 'unit': 107 (FIFF_UNIT_V), 'coord_frame': 4 (FIFFV_COORD_HEAD), 'ch_name': 'F8', 'scanno': 1, 'logno': 1}]\n",
      "Creating RawArray with float64 data, n_channels=1, n_times=119159\n",
      "    Range : 0 ... 119158 =      0.000 ...   476.632 secs\n",
      "Ready.\n"
     ]
    },
    {
     "name": "stderr",
     "output_type": "stream",
     "text": [
      "/tmp/ipykernel_336521/1285187122.py:33: RuntimeWarning: Data file name in EEG.data (sub-010104_EC.fdt) is incorrect, the file name must have changed on disk, using the correct file name (sub-032383_EC.fdt).\n",
      "  Subjects[\"prepSignal_EC\"] = mne.io.read_raw_eeglab(\"/workspace/brail_poc3/experiments/Lemon_PreEEGLAB/{}/{}/{}_EC.set\".format(Subjects[\"Subject_Number\"], Subjects[\"Subject_Number\"], Subjects[\"Subject_Number\"]), preload=True, verbose=False)\n",
      "/tmp/ipykernel_336521/1285187122.py:33: RuntimeWarning: Limited 1 annotation(s) that were expanding outside the data range.\n",
      "  Subjects[\"prepSignal_EC\"] = mne.io.read_raw_eeglab(\"/workspace/brail_poc3/experiments/Lemon_PreEEGLAB/{}/{}/{}_EC.set\".format(Subjects[\"Subject_Number\"], Subjects[\"Subject_Number\"], Subjects[\"Subject_Number\"]), preload=True, verbose=False)\n",
      "/tmp/ipykernel_336521/1285187122.py:33: RuntimeWarning: The data contains 'boundary' events, indicating data discontinuities. Be cautious of filtering and epoching around these events.\n",
      "  Subjects[\"prepSignal_EC\"] = mne.io.read_raw_eeglab(\"/workspace/brail_poc3/experiments/Lemon_PreEEGLAB/{}/{}/{}_EC.set\".format(Subjects[\"Subject_Number\"], Subjects[\"Subject_Number\"], Subjects[\"Subject_Number\"]), preload=True, verbose=False)\n"
     ]
    },
    {
     "name": "stdout",
     "output_type": "stream",
     "text": [
      "[{'loc': array([0.07624736, 0.02876282, 0.02416691, 0.        , 0.        ,\n",
      "       0.        ,        nan,        nan,        nan,        nan,\n",
      "              nan,        nan]), 'unit_mul': 0 (FIFF_UNITM_NONE), 'range': 1.0, 'cal': 1.0, 'kind': 2 (FIFFV_EEG_CH), 'coil_type': 1 (FIFFV_COIL_EEG), 'unit': 107 (FIFF_UNIT_V), 'coord_frame': 4 (FIFFV_COORD_HEAD), 'ch_name': 'FC6', 'scanno': 1, 'logno': 1}]\n",
      "Creating RawArray with float64 data, n_channels=1, n_times=119159\n",
      "    Range : 0 ... 119158 =      0.000 ...   476.632 secs\n",
      "Ready.\n",
      "[{'loc': array([ 0.08041001,  0.0262075 , -0.0085086 ,  0.        ,  0.        ,\n",
      "        0.        ,         nan,         nan,         nan,         nan,\n",
      "               nan,         nan]), 'unit_mul': 0 (FIFF_UNITM_NONE), 'range': 1.0, 'cal': 1.0, 'kind': 2 (FIFFV_EEG_CH), 'coil_type': 1 (FIFFV_COIL_EEG), 'unit': 107 (FIFF_UNIT_V), 'coord_frame': 4 (FIFFV_COORD_HEAD), 'ch_name': 'FT8', 'scanno': 1, 'logno': 1}]\n",
      "Creating RawArray with float64 data, n_channels=1, n_times=119159\n",
      "    Range : 0 ... 119158 =      0.000 ...   476.632 secs\n",
      "Ready.\n",
      "Interpolating bad channels\n",
      "    Automatic origin fit: head of radius 85.0 mm\n",
      "Computing interpolation matrix from 58 sensor positions\n",
      "Interpolating 3 sensors\n"
     ]
    },
    {
     "name": "stderr",
     "output_type": "stream",
     "text": [
      "\r",
      " 41%|█████████████████▌                         | 25/61 [00:07<00:13,  2.65it/s]"
     ]
    },
    {
     "name": "stdout",
     "output_type": "stream",
     "text": [
      "Subject number: sub-032392\n",
      "[{'loc': array([-8.45385386e-02,  5.17649254e-18, -8.84508251e-03,  0.00000000e+00,\n",
      "        0.00000000e+00,  0.00000000e+00,             nan,             nan,\n",
      "                   nan,             nan,             nan,             nan]), 'unit_mul': 0 (FIFF_UNITM_NONE), 'range': 1.0, 'cal': 1.0, 'kind': 2 (FIFFV_EEG_CH), 'coil_type': 1 (FIFFV_COIL_EEG), 'unit': 107 (FIFF_UNIT_V), 'coord_frame': 4 (FIFFV_COORD_HEAD), 'ch_name': 'T7', 'scanno': 1, 'logno': 1}]\n",
      "Creating RawArray with float64 data, n_channels=1, n_times=119941\n",
      "    Range : 0 ... 119940 =      0.000 ...   479.760 secs\n",
      "Ready.\n"
     ]
    },
    {
     "name": "stderr",
     "output_type": "stream",
     "text": [
      "/tmp/ipykernel_336521/1285187122.py:33: RuntimeWarning: Data file name in EEG.data (sub-010146_EC.fdt) is incorrect, the file name must have changed on disk, using the correct file name (sub-032392_EC.fdt).\n",
      "  Subjects[\"prepSignal_EC\"] = mne.io.read_raw_eeglab(\"/workspace/brail_poc3/experiments/Lemon_PreEEGLAB/{}/{}/{}_EC.set\".format(Subjects[\"Subject_Number\"], Subjects[\"Subject_Number\"], Subjects[\"Subject_Number\"]), preload=True, verbose=False)\n",
      "/tmp/ipykernel_336521/1285187122.py:33: RuntimeWarning: Limited 1 annotation(s) that were expanding outside the data range.\n",
      "  Subjects[\"prepSignal_EC\"] = mne.io.read_raw_eeglab(\"/workspace/brail_poc3/experiments/Lemon_PreEEGLAB/{}/{}/{}_EC.set\".format(Subjects[\"Subject_Number\"], Subjects[\"Subject_Number\"], Subjects[\"Subject_Number\"]), preload=True, verbose=False)\n",
      "/tmp/ipykernel_336521/1285187122.py:33: RuntimeWarning: The data contains 'boundary' events, indicating data discontinuities. Be cautious of filtering and epoching around these events.\n",
      "  Subjects[\"prepSignal_EC\"] = mne.io.read_raw_eeglab(\"/workspace/brail_poc3/experiments/Lemon_PreEEGLAB/{}/{}/{}_EC.set\".format(Subjects[\"Subject_Number\"], Subjects[\"Subject_Number\"], Subjects[\"Subject_Number\"]), preload=True, verbose=False)\n"
     ]
    },
    {
     "name": "stdout",
     "output_type": "stream",
     "text": [
      "[{'loc': array([ 8.45385386e-02,  5.17649254e-18, -8.84508251e-03,  0.00000000e+00,\n",
      "        0.00000000e+00,  0.00000000e+00,             nan,             nan,\n",
      "                   nan,             nan,             nan,             nan]), 'unit_mul': 0 (FIFF_UNITM_NONE), 'range': 1.0, 'cal': 1.0, 'kind': 2 (FIFFV_EEG_CH), 'coil_type': 1 (FIFFV_COIL_EEG), 'unit': 107 (FIFF_UNIT_V), 'coord_frame': 4 (FIFFV_COORD_HEAD), 'ch_name': 'T8', 'scanno': 1, 'logno': 1}]\n",
      "Creating RawArray with float64 data, n_channels=1, n_times=119941\n",
      "    Range : 0 ... 119940 =      0.000 ...   479.760 secs\n",
      "Ready.\n",
      "Interpolating bad channels\n",
      "    Automatic origin fit: head of radius 85.0 mm\n",
      "Computing interpolation matrix from 59 sensor positions\n",
      "Interpolating 2 sensors\n"
     ]
    },
    {
     "name": "stderr",
     "output_type": "stream",
     "text": [
      "\r",
      " 43%|██████████████████▎                        | 26/61 [00:07<00:13,  2.68it/s]"
     ]
    },
    {
     "name": "stdout",
     "output_type": "stream",
     "text": [
      "Subject number: sub-032393\n"
     ]
    },
    {
     "name": "stderr",
     "output_type": "stream",
     "text": [
      "/tmp/ipykernel_336521/1285187122.py:33: RuntimeWarning: Data file name in EEG.data (sub-010148_EC.fdt) is incorrect, the file name must have changed on disk, using the correct file name (sub-032393_EC.fdt).\n",
      "  Subjects[\"prepSignal_EC\"] = mne.io.read_raw_eeglab(\"/workspace/brail_poc3/experiments/Lemon_PreEEGLAB/{}/{}/{}_EC.set\".format(Subjects[\"Subject_Number\"], Subjects[\"Subject_Number\"], Subjects[\"Subject_Number\"]), preload=True, verbose=False)\n",
      "/tmp/ipykernel_336521/1285187122.py:33: RuntimeWarning: Limited 1 annotation(s) that were expanding outside the data range.\n",
      "  Subjects[\"prepSignal_EC\"] = mne.io.read_raw_eeglab(\"/workspace/brail_poc3/experiments/Lemon_PreEEGLAB/{}/{}/{}_EC.set\".format(Subjects[\"Subject_Number\"], Subjects[\"Subject_Number\"], Subjects[\"Subject_Number\"]), preload=True, verbose=False)\n",
      "/tmp/ipykernel_336521/1285187122.py:33: RuntimeWarning: The data contains 'boundary' events, indicating data discontinuities. Be cautious of filtering and epoching around these events.\n",
      "  Subjects[\"prepSignal_EC\"] = mne.io.read_raw_eeglab(\"/workspace/brail_poc3/experiments/Lemon_PreEEGLAB/{}/{}/{}_EC.set\".format(Subjects[\"Subject_Number\"], Subjects[\"Subject_Number\"], Subjects[\"Subject_Number\"]), preload=True, verbose=False)\n"
     ]
    },
    {
     "name": "stdout",
     "output_type": "stream",
     "text": [
      "[{'loc': array([-8.45385386e-02,  5.17649254e-18, -8.84508251e-03,  0.00000000e+00,\n",
      "        0.00000000e+00,  0.00000000e+00,             nan,             nan,\n",
      "                   nan,             nan,             nan,             nan]), 'unit_mul': 0 (FIFF_UNITM_NONE), 'range': 1.0, 'cal': 1.0, 'kind': 2 (FIFFV_EEG_CH), 'coil_type': 1 (FIFFV_COIL_EEG), 'unit': 107 (FIFF_UNIT_V), 'coord_frame': 4 (FIFFV_COORD_HEAD), 'ch_name': 'T7', 'scanno': 1, 'logno': 1}]\n",
      "Creating RawArray with float64 data, n_channels=1, n_times=119863\n",
      "    Range : 0 ... 119862 =      0.000 ...   479.448 secs\n",
      "Ready.\n",
      "[{'loc': array([ 8.45385386e-02,  5.17649254e-18, -8.84508251e-03,  0.00000000e+00,\n",
      "        0.00000000e+00,  0.00000000e+00,             nan,             nan,\n",
      "                   nan,             nan,             nan,             nan]), 'unit_mul': 0 (FIFF_UNITM_NONE), 'range': 1.0, 'cal': 1.0, 'kind': 2 (FIFFV_EEG_CH), 'coil_type': 1 (FIFFV_COIL_EEG), 'unit': 107 (FIFF_UNIT_V), 'coord_frame': 4 (FIFFV_COORD_HEAD), 'ch_name': 'T8', 'scanno': 1, 'logno': 1}]\n",
      "Creating RawArray with float64 data, n_channels=1, n_times=119863\n",
      "    Range : 0 ... 119862 =      0.000 ...   479.448 secs\n",
      "Ready.\n",
      "Interpolating bad channels\n",
      "    Automatic origin fit: head of radius 85.0 mm\n",
      "Computing interpolation matrix from 59 sensor positions\n",
      "Interpolating 2 sensors\n"
     ]
    },
    {
     "name": "stderr",
     "output_type": "stream",
     "text": [
      "\r",
      " 44%|███████████████████                        | 27/61 [00:08<00:13,  2.57it/s]"
     ]
    },
    {
     "name": "stdout",
     "output_type": "stream",
     "text": [
      "Subject number: sub-032395\n"
     ]
    },
    {
     "name": "stderr",
     "output_type": "stream",
     "text": [
      "/tmp/ipykernel_336521/1285187122.py:33: RuntimeWarning: Data file name in EEG.data (sub-010152_EC.fdt) is incorrect, the file name must have changed on disk, using the correct file name (sub-032395_EC.fdt).\n",
      "  Subjects[\"prepSignal_EC\"] = mne.io.read_raw_eeglab(\"/workspace/brail_poc3/experiments/Lemon_PreEEGLAB/{}/{}/{}_EC.set\".format(Subjects[\"Subject_Number\"], Subjects[\"Subject_Number\"], Subjects[\"Subject_Number\"]), preload=True, verbose=False)\n",
      "/tmp/ipykernel_336521/1285187122.py:33: RuntimeWarning: Limited 1 annotation(s) that were expanding outside the data range.\n",
      "  Subjects[\"prepSignal_EC\"] = mne.io.read_raw_eeglab(\"/workspace/brail_poc3/experiments/Lemon_PreEEGLAB/{}/{}/{}_EC.set\".format(Subjects[\"Subject_Number\"], Subjects[\"Subject_Number\"], Subjects[\"Subject_Number\"]), preload=True, verbose=False)\n",
      "/tmp/ipykernel_336521/1285187122.py:33: RuntimeWarning: The data contains 'boundary' events, indicating data discontinuities. Be cautious of filtering and epoching around these events.\n",
      "  Subjects[\"prepSignal_EC\"] = mne.io.read_raw_eeglab(\"/workspace/brail_poc3/experiments/Lemon_PreEEGLAB/{}/{}/{}_EC.set\".format(Subjects[\"Subject_Number\"], Subjects[\"Subject_Number\"], Subjects[\"Subject_Number\"]), preload=True, verbose=False)\n",
      "/tmp/ipykernel_336521/1285187122.py:130: RuntimeWarning: No bad channels to interpolate. Doing nothing...\n",
      "  prepSignal_EC_inte = prepSignal_EC_inte.interpolate_bads()\n",
      " 46%|███████████████████▋                       | 28/61 [00:08<00:11,  2.89it/s]/tmp/ipykernel_336521/1285187122.py:33: RuntimeWarning: Data file name in EEG.data (sub-010219_EC.fdt) is incorrect, the file name must have changed on disk, using the correct file name (sub-032428_EC.fdt).\n",
      "  Subjects[\"prepSignal_EC\"] = mne.io.read_raw_eeglab(\"/workspace/brail_poc3/experiments/Lemon_PreEEGLAB/{}/{}/{}_EC.set\".format(Subjects[\"Subject_Number\"], Subjects[\"Subject_Number\"], Subjects[\"Subject_Number\"]), preload=True, verbose=False)\n",
      "/tmp/ipykernel_336521/1285187122.py:33: RuntimeWarning: Limited 1 annotation(s) that were expanding outside the data range.\n",
      "  Subjects[\"prepSignal_EC\"] = mne.io.read_raw_eeglab(\"/workspace/brail_poc3/experiments/Lemon_PreEEGLAB/{}/{}/{}_EC.set\".format(Subjects[\"Subject_Number\"], Subjects[\"Subject_Number\"], Subjects[\"Subject_Number\"]), preload=True, verbose=False)\n",
      "/tmp/ipykernel_336521/1285187122.py:33: RuntimeWarning: The data contains 'boundary' events, indicating data discontinuities. Be cautious of filtering and epoching around these events.\n",
      "  Subjects[\"prepSignal_EC\"] = mne.io.read_raw_eeglab(\"/workspace/brail_poc3/experiments/Lemon_PreEEGLAB/{}/{}/{}_EC.set\".format(Subjects[\"Subject_Number\"], Subjects[\"Subject_Number\"], Subjects[\"Subject_Number\"]), preload=True, verbose=False)\n"
     ]
    },
    {
     "name": "stdout",
     "output_type": "stream",
     "text": [
      "Subject number: sub-032428\n",
      "[{'loc': array([0.        , 0.06073848, 0.0594629 , 0.        , 0.        ,\n",
      "       0.        ,        nan,        nan,        nan,        nan,\n",
      "              nan,        nan]), 'unit_mul': 0 (FIFF_UNITM_NONE), 'range': 1.0, 'cal': 1.0, 'kind': 2 (FIFFV_EEG_CH), 'coil_type': 1 (FIFFV_COIL_EEG), 'unit': 107 (FIFF_UNIT_V), 'coord_frame': 4 (FIFFV_COORD_HEAD), 'ch_name': 'Fz', 'scanno': 1, 'logno': 1}]\n",
      "Creating RawArray with float64 data, n_channels=1, n_times=112815\n",
      "    Range : 0 ... 112814 =      0.000 ...   451.256 secs\n",
      "Ready.\n",
      "[{'loc': array([-8.45385386e-02,  5.17649254e-18, -8.84508251e-03,  0.00000000e+00,\n",
      "        0.00000000e+00,  0.00000000e+00,             nan,             nan,\n",
      "                   nan,             nan,             nan,             nan]), 'unit_mul': 0 (FIFF_UNITM_NONE), 'range': 1.0, 'cal': 1.0, 'kind': 2 (FIFFV_EEG_CH), 'coil_type': 1 (FIFFV_COIL_EEG), 'unit': 107 (FIFF_UNIT_V), 'coord_frame': 4 (FIFFV_COORD_HEAD), 'ch_name': 'T7', 'scanno': 1, 'logno': 1}]\n",
      "Creating RawArray with float64 data, n_channels=1, n_times=112815\n",
      "    Range : 0 ... 112814 =      0.000 ...   451.256 secs\n",
      "Ready.\n",
      "[{'loc': array([ 8.45385386e-02,  5.17649254e-18, -8.84508251e-03,  0.00000000e+00,\n",
      "        0.00000000e+00,  0.00000000e+00,             nan,             nan,\n",
      "                   nan,             nan,             nan,             nan]), 'unit_mul': 0 (FIFF_UNITM_NONE), 'range': 1.0, 'cal': 1.0, 'kind': 2 (FIFFV_EEG_CH), 'coil_type': 1 (FIFFV_COIL_EEG), 'unit': 107 (FIFF_UNIT_V), 'coord_frame': 4 (FIFFV_COORD_HEAD), 'ch_name': 'T8', 'scanno': 1, 'logno': 1}]\n",
      "Creating RawArray with float64 data, n_channels=1, n_times=112815\n",
      "    Range : 0 ... 112814 =      0.000 ...   451.256 secs\n",
      "Ready.\n",
      "[{'loc': array([-0.06842334, -0.04987138, -0.00748952,  0.        ,  0.        ,\n",
      "        0.        ,         nan,         nan,         nan,         nan,\n",
      "               nan,         nan]), 'unit_mul': 0 (FIFF_UNITM_NONE), 'range': 1.0, 'cal': 1.0, 'kind': 2 (FIFFV_EEG_CH), 'coil_type': 1 (FIFFV_COIL_EEG), 'unit': 107 (FIFF_UNIT_V), 'coord_frame': 4 (FIFFV_COORD_HEAD), 'ch_name': 'P7', 'scanno': 1, 'logno': 1}]\n",
      "Creating RawArray with float64 data, n_channels=1, n_times=112815\n",
      "    Range : 0 ... 112814 =      0.000 ...   451.256 secs\n",
      "Ready.\n",
      "[{'loc': array([-0.08041001, -0.0262075 , -0.0085086 ,  0.        ,  0.        ,\n",
      "        0.        ,         nan,         nan,         nan,         nan,\n",
      "               nan,         nan]), 'unit_mul': 0 (FIFF_UNITM_NONE), 'range': 1.0, 'cal': 1.0, 'kind': 2 (FIFFV_EEG_CH), 'coil_type': 1 (FIFFV_COIL_EEG), 'unit': 107 (FIFF_UNIT_V), 'coord_frame': 4 (FIFFV_COORD_HEAD), 'ch_name': 'TP7', 'scanno': 1, 'logno': 1}]\n",
      "Creating RawArray with float64 data, n_channels=1, n_times=112815\n",
      "    Range : 0 ... 112814 =      0.000 ...   451.256 secs\n",
      "Ready.\n",
      "Interpolating bad channels\n",
      "    Automatic origin fit: head of radius 85.0 mm\n",
      "Computing interpolation matrix from 56 sensor positions\n",
      "Interpolating 5 sensors\n"
     ]
    },
    {
     "name": "stderr",
     "output_type": "stream",
     "text": [
      "\r",
      " 48%|████████████████████▍                      | 29/61 [00:09<00:12,  2.52it/s]"
     ]
    },
    {
     "name": "stdout",
     "output_type": "stream",
     "text": [
      "Subject number: sub-032430\n"
     ]
    },
    {
     "name": "stderr",
     "output_type": "stream",
     "text": [
      "/tmp/ipykernel_336521/1285187122.py:33: RuntimeWarning: Data file name in EEG.data (sub-010222_EC.fdt) is incorrect, the file name must have changed on disk, using the correct file name (sub-032430_EC.fdt).\n",
      "  Subjects[\"prepSignal_EC\"] = mne.io.read_raw_eeglab(\"/workspace/brail_poc3/experiments/Lemon_PreEEGLAB/{}/{}/{}_EC.set\".format(Subjects[\"Subject_Number\"], Subjects[\"Subject_Number\"], Subjects[\"Subject_Number\"]), preload=True, verbose=False)\n",
      "/tmp/ipykernel_336521/1285187122.py:33: RuntimeWarning: Limited 1 annotation(s) that were expanding outside the data range.\n",
      "  Subjects[\"prepSignal_EC\"] = mne.io.read_raw_eeglab(\"/workspace/brail_poc3/experiments/Lemon_PreEEGLAB/{}/{}/{}_EC.set\".format(Subjects[\"Subject_Number\"], Subjects[\"Subject_Number\"], Subjects[\"Subject_Number\"]), preload=True, verbose=False)\n",
      "/tmp/ipykernel_336521/1285187122.py:33: RuntimeWarning: The data contains 'boundary' events, indicating data discontinuities. Be cautious of filtering and epoching around these events.\n",
      "  Subjects[\"prepSignal_EC\"] = mne.io.read_raw_eeglab(\"/workspace/brail_poc3/experiments/Lemon_PreEEGLAB/{}/{}/{}_EC.set\".format(Subjects[\"Subject_Number\"], Subjects[\"Subject_Number\"], Subjects[\"Subject_Number\"]), preload=True, verbose=False)\n",
      "/tmp/ipykernel_336521/1285187122.py:130: RuntimeWarning: No bad channels to interpolate. Doing nothing...\n",
      "  prepSignal_EC_inte = prepSignal_EC_inte.interpolate_bads()\n",
      " 49%|█████████████████████▏                     | 30/61 [00:09<00:10,  2.90it/s]/tmp/ipykernel_336521/1285187122.py:33: RuntimeWarning: Data file name in EEG.data (sub-010223_EC.fdt) is incorrect, the file name must have changed on disk, using the correct file name (sub-032431_EC.fdt).\n",
      "  Subjects[\"prepSignal_EC\"] = mne.io.read_raw_eeglab(\"/workspace/brail_poc3/experiments/Lemon_PreEEGLAB/{}/{}/{}_EC.set\".format(Subjects[\"Subject_Number\"], Subjects[\"Subject_Number\"], Subjects[\"Subject_Number\"]), preload=True, verbose=False)\n",
      "/tmp/ipykernel_336521/1285187122.py:33: RuntimeWarning: Limited 1 annotation(s) that were expanding outside the data range.\n",
      "  Subjects[\"prepSignal_EC\"] = mne.io.read_raw_eeglab(\"/workspace/brail_poc3/experiments/Lemon_PreEEGLAB/{}/{}/{}_EC.set\".format(Subjects[\"Subject_Number\"], Subjects[\"Subject_Number\"], Subjects[\"Subject_Number\"]), preload=True, verbose=False)\n",
      "/tmp/ipykernel_336521/1285187122.py:33: RuntimeWarning: The data contains 'boundary' events, indicating data discontinuities. Be cautious of filtering and epoching around these events.\n",
      "  Subjects[\"prepSignal_EC\"] = mne.io.read_raw_eeglab(\"/workspace/brail_poc3/experiments/Lemon_PreEEGLAB/{}/{}/{}_EC.set\".format(Subjects[\"Subject_Number\"], Subjects[\"Subject_Number\"], Subjects[\"Subject_Number\"]), preload=True, verbose=False)\n"
     ]
    },
    {
     "name": "stdout",
     "output_type": "stream",
     "text": [
      "Subject number: sub-032431\n"
     ]
    },
    {
     "name": "stderr",
     "output_type": "stream",
     "text": [
      "/tmp/ipykernel_336521/1285187122.py:130: RuntimeWarning: No bad channels to interpolate. Doing nothing...\n",
      "  prepSignal_EC_inte = prepSignal_EC_inte.interpolate_bads()\n",
      " 51%|█████████████████████▊                     | 31/61 [00:09<00:09,  3.30it/s]/tmp/ipykernel_336521/1285187122.py:33: RuntimeWarning: Data file name in EEG.data (sub-010234_EC.fdt) is incorrect, the file name must have changed on disk, using the correct file name (sub-032442_EC.fdt).\n",
      "  Subjects[\"prepSignal_EC\"] = mne.io.read_raw_eeglab(\"/workspace/brail_poc3/experiments/Lemon_PreEEGLAB/{}/{}/{}_EC.set\".format(Subjects[\"Subject_Number\"], Subjects[\"Subject_Number\"], Subjects[\"Subject_Number\"]), preload=True, verbose=False)\n",
      "/tmp/ipykernel_336521/1285187122.py:33: RuntimeWarning: Limited 1 annotation(s) that were expanding outside the data range.\n",
      "  Subjects[\"prepSignal_EC\"] = mne.io.read_raw_eeglab(\"/workspace/brail_poc3/experiments/Lemon_PreEEGLAB/{}/{}/{}_EC.set\".format(Subjects[\"Subject_Number\"], Subjects[\"Subject_Number\"], Subjects[\"Subject_Number\"]), preload=True, verbose=False)\n",
      "/tmp/ipykernel_336521/1285187122.py:33: RuntimeWarning: The data contains 'boundary' events, indicating data discontinuities. Be cautious of filtering and epoching around these events.\n",
      "  Subjects[\"prepSignal_EC\"] = mne.io.read_raw_eeglab(\"/workspace/brail_poc3/experiments/Lemon_PreEEGLAB/{}/{}/{}_EC.set\".format(Subjects[\"Subject_Number\"], Subjects[\"Subject_Number\"], Subjects[\"Subject_Number\"]), preload=True, verbose=False)\n",
      "/tmp/ipykernel_336521/1285187122.py:130: RuntimeWarning: No bad channels to interpolate. Doing nothing...\n",
      "  prepSignal_EC_inte = prepSignal_EC_inte.interpolate_bads()\n",
      " 52%|██████████████████████▌                    | 32/61 [00:09<00:07,  3.70it/s]"
     ]
    },
    {
     "name": "stdout",
     "output_type": "stream",
     "text": [
      "Subject number: sub-032442\n",
      "Subject number: sub-032447\n"
     ]
    },
    {
     "name": "stderr",
     "output_type": "stream",
     "text": [
      "/tmp/ipykernel_336521/1285187122.py:33: RuntimeWarning: Data file name in EEG.data (sub-010239_EC.fdt) is incorrect, the file name must have changed on disk, using the correct file name (sub-032447_EC.fdt).\n",
      "  Subjects[\"prepSignal_EC\"] = mne.io.read_raw_eeglab(\"/workspace/brail_poc3/experiments/Lemon_PreEEGLAB/{}/{}/{}_EC.set\".format(Subjects[\"Subject_Number\"], Subjects[\"Subject_Number\"], Subjects[\"Subject_Number\"]), preload=True, verbose=False)\n",
      "/tmp/ipykernel_336521/1285187122.py:33: RuntimeWarning: Limited 1 annotation(s) that were expanding outside the data range.\n",
      "  Subjects[\"prepSignal_EC\"] = mne.io.read_raw_eeglab(\"/workspace/brail_poc3/experiments/Lemon_PreEEGLAB/{}/{}/{}_EC.set\".format(Subjects[\"Subject_Number\"], Subjects[\"Subject_Number\"], Subjects[\"Subject_Number\"]), preload=True, verbose=False)\n",
      "/tmp/ipykernel_336521/1285187122.py:33: RuntimeWarning: The data contains 'boundary' events, indicating data discontinuities. Be cautious of filtering and epoching around these events.\n",
      "  Subjects[\"prepSignal_EC\"] = mne.io.read_raw_eeglab(\"/workspace/brail_poc3/experiments/Lemon_PreEEGLAB/{}/{}/{}_EC.set\".format(Subjects[\"Subject_Number\"], Subjects[\"Subject_Number\"], Subjects[\"Subject_Number\"]), preload=True, verbose=False)\n"
     ]
    },
    {
     "name": "stdout",
     "output_type": "stream",
     "text": [
      "[{'loc': array([-0.03235138,  0.03243618,  0.07159806,  0.        ,  0.        ,\n",
      "        0.        ,         nan,         nan,         nan,         nan,\n",
      "               nan,         nan]), 'unit_mul': 0 (FIFF_UNITM_NONE), 'range': 1.0, 'cal': 1.0, 'kind': 2 (FIFFV_EEG_CH), 'coil_type': 1 (FIFFV_COIL_EEG), 'unit': 107 (FIFF_UNIT_V), 'coord_frame': 4 (FIFFV_COORD_HEAD), 'ch_name': 'FC1', 'scanno': 1, 'logno': 1}]\n",
      "Creating RawArray with float64 data, n_channels=1, n_times=119366\n",
      "    Range : 0 ... 119365 =      0.000 ...   477.460 secs\n",
      "Ready.\n",
      "[{'loc': array([ 8.45385386e-02,  5.17649254e-18, -8.84508251e-03,  0.00000000e+00,\n",
      "        0.00000000e+00,  0.00000000e+00,             nan,             nan,\n",
      "                   nan,             nan,             nan,             nan]), 'unit_mul': 0 (FIFF_UNITM_NONE), 'range': 1.0, 'cal': 1.0, 'kind': 2 (FIFFV_EEG_CH), 'coil_type': 1 (FIFFV_COIL_EEG), 'unit': 107 (FIFF_UNIT_V), 'coord_frame': 4 (FIFFV_COORD_HEAD), 'ch_name': 'T8', 'scanno': 1, 'logno': 1}]\n",
      "Creating RawArray with float64 data, n_channels=1, n_times=119366\n",
      "    Range : 0 ... 119365 =      0.000 ...   477.460 secs\n",
      "Ready.\n",
      "Interpolating bad channels\n",
      "    Automatic origin fit: head of radius 85.0 mm\n",
      "Computing interpolation matrix from 59 sensor positions\n",
      "Interpolating 2 sensors\n"
     ]
    },
    {
     "name": "stderr",
     "output_type": "stream",
     "text": [
      "\r",
      " 54%|███████████████████████▎                   | 33/61 [00:10<00:08,  3.32it/s]"
     ]
    },
    {
     "name": "stdout",
     "output_type": "stream",
     "text": [
      "Subject number: sub-032450\n"
     ]
    },
    {
     "name": "stderr",
     "output_type": "stream",
     "text": [
      "/tmp/ipykernel_336521/1285187122.py:33: RuntimeWarning: Data file name in EEG.data (sub-010242_EC.fdt) is incorrect, the file name must have changed on disk, using the correct file name (sub-032450_EC.fdt).\n",
      "  Subjects[\"prepSignal_EC\"] = mne.io.read_raw_eeglab(\"/workspace/brail_poc3/experiments/Lemon_PreEEGLAB/{}/{}/{}_EC.set\".format(Subjects[\"Subject_Number\"], Subjects[\"Subject_Number\"], Subjects[\"Subject_Number\"]), preload=True, verbose=False)\n",
      "/tmp/ipykernel_336521/1285187122.py:33: RuntimeWarning: Limited 1 annotation(s) that were expanding outside the data range.\n",
      "  Subjects[\"prepSignal_EC\"] = mne.io.read_raw_eeglab(\"/workspace/brail_poc3/experiments/Lemon_PreEEGLAB/{}/{}/{}_EC.set\".format(Subjects[\"Subject_Number\"], Subjects[\"Subject_Number\"], Subjects[\"Subject_Number\"]), preload=True, verbose=False)\n",
      "/tmp/ipykernel_336521/1285187122.py:33: RuntimeWarning: The data contains 'boundary' events, indicating data discontinuities. Be cautious of filtering and epoching around these events.\n",
      "  Subjects[\"prepSignal_EC\"] = mne.io.read_raw_eeglab(\"/workspace/brail_poc3/experiments/Lemon_PreEEGLAB/{}/{}/{}_EC.set\".format(Subjects[\"Subject_Number\"], Subjects[\"Subject_Number\"], Subjects[\"Subject_Number\"]), preload=True, verbose=False)\n"
     ]
    },
    {
     "name": "stdout",
     "output_type": "stream",
     "text": [
      "[{'loc': array([-8.45385386e-02,  5.17649254e-18, -8.84508251e-03,  0.00000000e+00,\n",
      "        0.00000000e+00,  0.00000000e+00,             nan,             nan,\n",
      "                   nan,             nan,             nan,             nan]), 'unit_mul': 0 (FIFF_UNITM_NONE), 'range': 1.0, 'cal': 1.0, 'kind': 2 (FIFFV_EEG_CH), 'coil_type': 1 (FIFFV_COIL_EEG), 'unit': 107 (FIFF_UNIT_V), 'coord_frame': 4 (FIFFV_COORD_HEAD), 'ch_name': 'T7', 'scanno': 1, 'logno': 1}]\n",
      "Creating RawArray with float64 data, n_channels=1, n_times=119238\n",
      "    Range : 0 ... 119237 =      0.000 ...   476.948 secs\n",
      "Ready.\n",
      "[{'loc': array([ 8.45385386e-02,  5.17649254e-18, -8.84508251e-03,  0.00000000e+00,\n",
      "        0.00000000e+00,  0.00000000e+00,             nan,             nan,\n",
      "                   nan,             nan,             nan,             nan]), 'unit_mul': 0 (FIFF_UNITM_NONE), 'range': 1.0, 'cal': 1.0, 'kind': 2 (FIFFV_EEG_CH), 'coil_type': 1 (FIFFV_COIL_EEG), 'unit': 107 (FIFF_UNIT_V), 'coord_frame': 4 (FIFFV_COORD_HEAD), 'ch_name': 'T8', 'scanno': 1, 'logno': 1}]\n",
      "Creating RawArray with float64 data, n_channels=1, n_times=119238\n",
      "    Range : 0 ... 119237 =      0.000 ...   476.948 secs\n",
      "Ready.\n",
      "[{'loc': array([-8.08315480e-02,  4.94950483e-18,  2.62918398e-02,  0.00000000e+00,\n",
      "        0.00000000e+00,  0.00000000e+00,             nan,             nan,\n",
      "                   nan,             nan,             nan,             nan]), 'unit_mul': 0 (FIFF_UNITM_NONE), 'range': 1.0, 'cal': 1.0, 'kind': 2 (FIFFV_EEG_CH), 'coil_type': 1 (FIFFV_COIL_EEG), 'unit': 107 (FIFF_UNIT_V), 'coord_frame': 4 (FIFFV_COORD_HEAD), 'ch_name': 'C5', 'scanno': 1, 'logno': 1}]\n",
      "Creating RawArray with float64 data, n_channels=1, n_times=119238\n",
      "    Range : 0 ... 119237 =      0.000 ...   476.948 secs\n",
      "Ready.\n",
      "Interpolating bad channels\n",
      "    Automatic origin fit: head of radius 85.0 mm\n",
      "Computing interpolation matrix from 58 sensor positions\n",
      "Interpolating 3 sensors\n"
     ]
    },
    {
     "name": "stderr",
     "output_type": "stream",
     "text": [
      "\r",
      " 56%|███████████████████████▉                   | 34/61 [00:10<00:09,  2.85it/s]"
     ]
    },
    {
     "name": "stdout",
     "output_type": "stream",
     "text": [
      "Subject number: sub-032451\n"
     ]
    },
    {
     "name": "stderr",
     "output_type": "stream",
     "text": [
      "/tmp/ipykernel_336521/1285187122.py:33: RuntimeWarning: Data file name in EEG.data (sub-010243_EC.fdt) is incorrect, the file name must have changed on disk, using the correct file name (sub-032451_EC.fdt).\n",
      "  Subjects[\"prepSignal_EC\"] = mne.io.read_raw_eeglab(\"/workspace/brail_poc3/experiments/Lemon_PreEEGLAB/{}/{}/{}_EC.set\".format(Subjects[\"Subject_Number\"], Subjects[\"Subject_Number\"], Subjects[\"Subject_Number\"]), preload=True, verbose=False)\n",
      "/tmp/ipykernel_336521/1285187122.py:33: RuntimeWarning: Limited 1 annotation(s) that were expanding outside the data range.\n",
      "  Subjects[\"prepSignal_EC\"] = mne.io.read_raw_eeglab(\"/workspace/brail_poc3/experiments/Lemon_PreEEGLAB/{}/{}/{}_EC.set\".format(Subjects[\"Subject_Number\"], Subjects[\"Subject_Number\"], Subjects[\"Subject_Number\"]), preload=True, verbose=False)\n",
      "/tmp/ipykernel_336521/1285187122.py:33: RuntimeWarning: The data contains 'boundary' events, indicating data discontinuities. Be cautious of filtering and epoching around these events.\n",
      "  Subjects[\"prepSignal_EC\"] = mne.io.read_raw_eeglab(\"/workspace/brail_poc3/experiments/Lemon_PreEEGLAB/{}/{}/{}_EC.set\".format(Subjects[\"Subject_Number\"], Subjects[\"Subject_Number\"], Subjects[\"Subject_Number\"]), preload=True, verbose=False)\n",
      "/tmp/ipykernel_336521/1285187122.py:130: RuntimeWarning: No bad channels to interpolate. Doing nothing...\n",
      "  prepSignal_EC_inte = prepSignal_EC_inte.interpolate_bads()\n",
      " 57%|████████████████████████▋                  | 35/61 [00:10<00:08,  3.19it/s]/tmp/ipykernel_336521/1285187122.py:33: RuntimeWarning: Data file name in EEG.data (sub-010244_EC.fdt) is incorrect, the file name must have changed on disk, using the correct file name (sub-032452_EC.fdt).\n",
      "  Subjects[\"prepSignal_EC\"] = mne.io.read_raw_eeglab(\"/workspace/brail_poc3/experiments/Lemon_PreEEGLAB/{}/{}/{}_EC.set\".format(Subjects[\"Subject_Number\"], Subjects[\"Subject_Number\"], Subjects[\"Subject_Number\"]), preload=True, verbose=False)\n",
      "/tmp/ipykernel_336521/1285187122.py:33: RuntimeWarning: Limited 1 annotation(s) that were expanding outside the data range.\n",
      "  Subjects[\"prepSignal_EC\"] = mne.io.read_raw_eeglab(\"/workspace/brail_poc3/experiments/Lemon_PreEEGLAB/{}/{}/{}_EC.set\".format(Subjects[\"Subject_Number\"], Subjects[\"Subject_Number\"], Subjects[\"Subject_Number\"]), preload=True, verbose=False)\n",
      "/tmp/ipykernel_336521/1285187122.py:33: RuntimeWarning: The data contains 'boundary' events, indicating data discontinuities. Be cautious of filtering and epoching around these events.\n",
      "  Subjects[\"prepSignal_EC\"] = mne.io.read_raw_eeglab(\"/workspace/brail_poc3/experiments/Lemon_PreEEGLAB/{}/{}/{}_EC.set\".format(Subjects[\"Subject_Number\"], Subjects[\"Subject_Number\"], Subjects[\"Subject_Number\"]), preload=True, verbose=False)\n"
     ]
    },
    {
     "name": "stdout",
     "output_type": "stream",
     "text": [
      "Subject number: sub-032452\n"
     ]
    },
    {
     "name": "stderr",
     "output_type": "stream",
     "text": [
      "/tmp/ipykernel_336521/1285187122.py:130: RuntimeWarning: No bad channels to interpolate. Doing nothing...\n",
      "  prepSignal_EC_inte = prepSignal_EC_inte.interpolate_bads()\n",
      " 59%|█████████████████████████▍                 | 36/61 [00:11<00:07,  3.55it/s]/tmp/ipykernel_336521/1285187122.py:33: RuntimeWarning: Data file name in EEG.data (sub-010245_EC.fdt) is incorrect, the file name must have changed on disk, using the correct file name (sub-032453_EC.fdt).\n",
      "  Subjects[\"prepSignal_EC\"] = mne.io.read_raw_eeglab(\"/workspace/brail_poc3/experiments/Lemon_PreEEGLAB/{}/{}/{}_EC.set\".format(Subjects[\"Subject_Number\"], Subjects[\"Subject_Number\"], Subjects[\"Subject_Number\"]), preload=True, verbose=False)\n",
      "/tmp/ipykernel_336521/1285187122.py:33: RuntimeWarning: Limited 1 annotation(s) that were expanding outside the data range.\n",
      "  Subjects[\"prepSignal_EC\"] = mne.io.read_raw_eeglab(\"/workspace/brail_poc3/experiments/Lemon_PreEEGLAB/{}/{}/{}_EC.set\".format(Subjects[\"Subject_Number\"], Subjects[\"Subject_Number\"], Subjects[\"Subject_Number\"]), preload=True, verbose=False)\n",
      "/tmp/ipykernel_336521/1285187122.py:33: RuntimeWarning: The data contains 'boundary' events, indicating data discontinuities. Be cautious of filtering and epoching around these events.\n",
      "  Subjects[\"prepSignal_EC\"] = mne.io.read_raw_eeglab(\"/workspace/brail_poc3/experiments/Lemon_PreEEGLAB/{}/{}/{}_EC.set\".format(Subjects[\"Subject_Number\"], Subjects[\"Subject_Number\"], Subjects[\"Subject_Number\"]), preload=True, verbose=False)\n"
     ]
    },
    {
     "name": "stdout",
     "output_type": "stream",
     "text": [
      "Subject number: sub-032453\n"
     ]
    },
    {
     "name": "stderr",
     "output_type": "stream",
     "text": [
      "/tmp/ipykernel_336521/1285187122.py:130: RuntimeWarning: No bad channels to interpolate. Doing nothing...\n",
      "  prepSignal_EC_inte = prepSignal_EC_inte.interpolate_bads()\n",
      " 61%|██████████████████████████                 | 37/61 [00:11<00:06,  3.85it/s]/tmp/ipykernel_336521/1285187122.py:33: RuntimeWarning: Data file name in EEG.data (sub-010246_EC.fdt) is incorrect, the file name must have changed on disk, using the correct file name (sub-032454_EC.fdt).\n",
      "  Subjects[\"prepSignal_EC\"] = mne.io.read_raw_eeglab(\"/workspace/brail_poc3/experiments/Lemon_PreEEGLAB/{}/{}/{}_EC.set\".format(Subjects[\"Subject_Number\"], Subjects[\"Subject_Number\"], Subjects[\"Subject_Number\"]), preload=True, verbose=False)\n"
     ]
    },
    {
     "name": "stdout",
     "output_type": "stream",
     "text": [
      "Subject number: sub-032454\n"
     ]
    },
    {
     "name": "stderr",
     "output_type": "stream",
     "text": [
      "/tmp/ipykernel_336521/1285187122.py:33: RuntimeWarning: Limited 1 annotation(s) that were expanding outside the data range.\n",
      "  Subjects[\"prepSignal_EC\"] = mne.io.read_raw_eeglab(\"/workspace/brail_poc3/experiments/Lemon_PreEEGLAB/{}/{}/{}_EC.set\".format(Subjects[\"Subject_Number\"], Subjects[\"Subject_Number\"], Subjects[\"Subject_Number\"]), preload=True, verbose=False)\n",
      "/tmp/ipykernel_336521/1285187122.py:33: RuntimeWarning: The data contains 'boundary' events, indicating data discontinuities. Be cautious of filtering and epoching around these events.\n",
      "  Subjects[\"prepSignal_EC\"] = mne.io.read_raw_eeglab(\"/workspace/brail_poc3/experiments/Lemon_PreEEGLAB/{}/{}/{}_EC.set\".format(Subjects[\"Subject_Number\"], Subjects[\"Subject_Number\"], Subjects[\"Subject_Number\"]), preload=True, verbose=False)\n",
      "/tmp/ipykernel_336521/1285187122.py:130: RuntimeWarning: No bad channels to interpolate. Doing nothing...\n",
      "  prepSignal_EC_inte = prepSignal_EC_inte.interpolate_bads()\n",
      " 62%|██████████████████████████▊                | 38/61 [00:11<00:05,  3.95it/s]/tmp/ipykernel_336521/1285187122.py:33: RuntimeWarning: Data file name in EEG.data (sub-010247_EC.fdt) is incorrect, the file name must have changed on disk, using the correct file name (sub-032455_EC.fdt).\n",
      "  Subjects[\"prepSignal_EC\"] = mne.io.read_raw_eeglab(\"/workspace/brail_poc3/experiments/Lemon_PreEEGLAB/{}/{}/{}_EC.set\".format(Subjects[\"Subject_Number\"], Subjects[\"Subject_Number\"], Subjects[\"Subject_Number\"]), preload=True, verbose=False)\n",
      "/tmp/ipykernel_336521/1285187122.py:33: RuntimeWarning: Limited 1 annotation(s) that were expanding outside the data range.\n",
      "  Subjects[\"prepSignal_EC\"] = mne.io.read_raw_eeglab(\"/workspace/brail_poc3/experiments/Lemon_PreEEGLAB/{}/{}/{}_EC.set\".format(Subjects[\"Subject_Number\"], Subjects[\"Subject_Number\"], Subjects[\"Subject_Number\"]), preload=True, verbose=False)\n",
      "/tmp/ipykernel_336521/1285187122.py:33: RuntimeWarning: The data contains 'boundary' events, indicating data discontinuities. Be cautious of filtering and epoching around these events.\n",
      "  Subjects[\"prepSignal_EC\"] = mne.io.read_raw_eeglab(\"/workspace/brail_poc3/experiments/Lemon_PreEEGLAB/{}/{}/{}_EC.set\".format(Subjects[\"Subject_Number\"], Subjects[\"Subject_Number\"], Subjects[\"Subject_Number\"]), preload=True, verbose=False)\n",
      "/tmp/ipykernel_336521/1285187122.py:130: RuntimeWarning: No bad channels to interpolate. Doing nothing...\n",
      "  prepSignal_EC_inte = prepSignal_EC_inte.interpolate_bads()\n"
     ]
    },
    {
     "name": "stdout",
     "output_type": "stream",
     "text": [
      "Subject number: sub-032455\n"
     ]
    },
    {
     "name": "stderr",
     "output_type": "stream",
     "text": [
      " 64%|███████████████████████████▍               | 39/61 [00:11<00:05,  4.15it/s]/tmp/ipykernel_336521/1285187122.py:33: RuntimeWarning: Data file name in EEG.data (sub-010248_EC.fdt) is incorrect, the file name must have changed on disk, using the correct file name (sub-032456_EC.fdt).\n",
      "  Subjects[\"prepSignal_EC\"] = mne.io.read_raw_eeglab(\"/workspace/brail_poc3/experiments/Lemon_PreEEGLAB/{}/{}/{}_EC.set\".format(Subjects[\"Subject_Number\"], Subjects[\"Subject_Number\"], Subjects[\"Subject_Number\"]), preload=True, verbose=False)\n",
      "/tmp/ipykernel_336521/1285187122.py:33: RuntimeWarning: Limited 1 annotation(s) that were expanding outside the data range.\n",
      "  Subjects[\"prepSignal_EC\"] = mne.io.read_raw_eeglab(\"/workspace/brail_poc3/experiments/Lemon_PreEEGLAB/{}/{}/{}_EC.set\".format(Subjects[\"Subject_Number\"], Subjects[\"Subject_Number\"], Subjects[\"Subject_Number\"]), preload=True, verbose=False)\n",
      "/tmp/ipykernel_336521/1285187122.py:33: RuntimeWarning: The data contains 'boundary' events, indicating data discontinuities. Be cautious of filtering and epoching around these events.\n",
      "  Subjects[\"prepSignal_EC\"] = mne.io.read_raw_eeglab(\"/workspace/brail_poc3/experiments/Lemon_PreEEGLAB/{}/{}/{}_EC.set\".format(Subjects[\"Subject_Number\"], Subjects[\"Subject_Number\"], Subjects[\"Subject_Number\"]), preload=True, verbose=False)\n",
      "/tmp/ipykernel_336521/1285187122.py:130: RuntimeWarning: No bad channels to interpolate. Doing nothing...\n",
      "  prepSignal_EC_inte = prepSignal_EC_inte.interpolate_bads()\n"
     ]
    },
    {
     "name": "stdout",
     "output_type": "stream",
     "text": [
      "Subject number: sub-032456\n"
     ]
    },
    {
     "name": "stderr",
     "output_type": "stream",
     "text": [
      " 66%|████████████████████████████▏              | 40/61 [00:11<00:04,  4.33it/s]/tmp/ipykernel_336521/1285187122.py:33: RuntimeWarning: Data file name in EEG.data (sub-010249_EC.fdt) is incorrect, the file name must have changed on disk, using the correct file name (sub-032457_EC.fdt).\n",
      "  Subjects[\"prepSignal_EC\"] = mne.io.read_raw_eeglab(\"/workspace/brail_poc3/experiments/Lemon_PreEEGLAB/{}/{}/{}_EC.set\".format(Subjects[\"Subject_Number\"], Subjects[\"Subject_Number\"], Subjects[\"Subject_Number\"]), preload=True, verbose=False)\n",
      "/tmp/ipykernel_336521/1285187122.py:33: RuntimeWarning: Limited 1 annotation(s) that were expanding outside the data range.\n",
      "  Subjects[\"prepSignal_EC\"] = mne.io.read_raw_eeglab(\"/workspace/brail_poc3/experiments/Lemon_PreEEGLAB/{}/{}/{}_EC.set\".format(Subjects[\"Subject_Number\"], Subjects[\"Subject_Number\"], Subjects[\"Subject_Number\"]), preload=True, verbose=False)\n",
      "/tmp/ipykernel_336521/1285187122.py:33: RuntimeWarning: The data contains 'boundary' events, indicating data discontinuities. Be cautious of filtering and epoching around these events.\n",
      "  Subjects[\"prepSignal_EC\"] = mne.io.read_raw_eeglab(\"/workspace/brail_poc3/experiments/Lemon_PreEEGLAB/{}/{}/{}_EC.set\".format(Subjects[\"Subject_Number\"], Subjects[\"Subject_Number\"], Subjects[\"Subject_Number\"]), preload=True, verbose=False)\n"
     ]
    },
    {
     "name": "stdout",
     "output_type": "stream",
     "text": [
      "Subject number: sub-032457\n",
      "[{'loc': array([0.0000000e+00, 5.2047489e-18, 8.5000000e-02, 0.0000000e+00,\n",
      "       0.0000000e+00, 0.0000000e+00,           nan,           nan,\n",
      "                 nan,           nan,           nan,           nan]), 'unit_mul': 0 (FIFF_UNITM_NONE), 'range': 1.0, 'cal': 1.0, 'kind': 2 (FIFFV_EEG_CH), 'coil_type': 1 (FIFFV_COIL_EEG), 'unit': 107 (FIFF_UNIT_V), 'coord_frame': 4 (FIFFV_COORD_HEAD), 'ch_name': 'Cz', 'scanno': 1, 'logno': 1}]\n",
      "Creating RawArray with float64 data, n_channels=1, n_times=119563\n",
      "    Range : 0 ... 119562 =      0.000 ...   478.248 secs\n",
      "Ready.\n",
      "Interpolating bad channels\n",
      "    Automatic origin fit: head of radius 85.0 mm\n",
      "Computing interpolation matrix from 60 sensor positions\n",
      "Interpolating 1 sensors\n"
     ]
    },
    {
     "name": "stderr",
     "output_type": "stream",
     "text": [
      "\r",
      " 67%|████████████████████████████▉              | 41/61 [00:12<00:05,  3.78it/s]"
     ]
    },
    {
     "name": "stdout",
     "output_type": "stream",
     "text": [
      "Subject number: sub-032458\n"
     ]
    },
    {
     "name": "stderr",
     "output_type": "stream",
     "text": [
      "/tmp/ipykernel_336521/1285187122.py:33: RuntimeWarning: Data file name in EEG.data (sub-010250_EC.fdt) is incorrect, the file name must have changed on disk, using the correct file name (sub-032458_EC.fdt).\n",
      "  Subjects[\"prepSignal_EC\"] = mne.io.read_raw_eeglab(\"/workspace/brail_poc3/experiments/Lemon_PreEEGLAB/{}/{}/{}_EC.set\".format(Subjects[\"Subject_Number\"], Subjects[\"Subject_Number\"], Subjects[\"Subject_Number\"]), preload=True, verbose=False)\n",
      "/tmp/ipykernel_336521/1285187122.py:33: RuntimeWarning: Limited 1 annotation(s) that were expanding outside the data range.\n",
      "  Subjects[\"prepSignal_EC\"] = mne.io.read_raw_eeglab(\"/workspace/brail_poc3/experiments/Lemon_PreEEGLAB/{}/{}/{}_EC.set\".format(Subjects[\"Subject_Number\"], Subjects[\"Subject_Number\"], Subjects[\"Subject_Number\"]), preload=True, verbose=False)\n",
      "/tmp/ipykernel_336521/1285187122.py:33: RuntimeWarning: The data contains 'boundary' events, indicating data discontinuities. Be cautious of filtering and epoching around these events.\n",
      "  Subjects[\"prepSignal_EC\"] = mne.io.read_raw_eeglab(\"/workspace/brail_poc3/experiments/Lemon_PreEEGLAB/{}/{}/{}_EC.set\".format(Subjects[\"Subject_Number\"], Subjects[\"Subject_Number\"], Subjects[\"Subject_Number\"]), preload=True, verbose=False)\n",
      "/tmp/ipykernel_336521/1285187122.py:130: RuntimeWarning: No bad channels to interpolate. Doing nothing...\n",
      "  prepSignal_EC_inte = prepSignal_EC_inte.interpolate_bads()\n",
      " 69%|█████████████████████████████▌             | 42/61 [00:12<00:04,  3.87it/s]/tmp/ipykernel_336521/1285187122.py:33: RuntimeWarning: Data file name in EEG.data (sub-010251_EC.fdt) is incorrect, the file name must have changed on disk, using the correct file name (sub-032459_EC.fdt).\n",
      "  Subjects[\"prepSignal_EC\"] = mne.io.read_raw_eeglab(\"/workspace/brail_poc3/experiments/Lemon_PreEEGLAB/{}/{}/{}_EC.set\".format(Subjects[\"Subject_Number\"], Subjects[\"Subject_Number\"], Subjects[\"Subject_Number\"]), preload=True, verbose=False)\n",
      "/tmp/ipykernel_336521/1285187122.py:33: RuntimeWarning: Limited 1 annotation(s) that were expanding outside the data range.\n",
      "  Subjects[\"prepSignal_EC\"] = mne.io.read_raw_eeglab(\"/workspace/brail_poc3/experiments/Lemon_PreEEGLAB/{}/{}/{}_EC.set\".format(Subjects[\"Subject_Number\"], Subjects[\"Subject_Number\"], Subjects[\"Subject_Number\"]), preload=True, verbose=False)\n",
      "/tmp/ipykernel_336521/1285187122.py:33: RuntimeWarning: The data contains 'boundary' events, indicating data discontinuities. Be cautious of filtering and epoching around these events.\n",
      "  Subjects[\"prepSignal_EC\"] = mne.io.read_raw_eeglab(\"/workspace/brail_poc3/experiments/Lemon_PreEEGLAB/{}/{}/{}_EC.set\".format(Subjects[\"Subject_Number\"], Subjects[\"Subject_Number\"], Subjects[\"Subject_Number\"]), preload=True, verbose=False)\n",
      "/tmp/ipykernel_336521/1285187122.py:130: RuntimeWarning: No bad channels to interpolate. Doing nothing...\n",
      "  prepSignal_EC_inte = prepSignal_EC_inte.interpolate_bads()\n",
      " 70%|██████████████████████████████▎            | 43/61 [00:12<00:04,  4.24it/s]"
     ]
    },
    {
     "name": "stdout",
     "output_type": "stream",
     "text": [
      "Subject number: sub-032459\n",
      "Subject number: sub-032462\n"
     ]
    },
    {
     "name": "stderr",
     "output_type": "stream",
     "text": [
      "/tmp/ipykernel_336521/1285187122.py:33: RuntimeWarning: Data file name in EEG.data (sub-010254_EC.fdt) is incorrect, the file name must have changed on disk, using the correct file name (sub-032462_EC.fdt).\n",
      "  Subjects[\"prepSignal_EC\"] = mne.io.read_raw_eeglab(\"/workspace/brail_poc3/experiments/Lemon_PreEEGLAB/{}/{}/{}_EC.set\".format(Subjects[\"Subject_Number\"], Subjects[\"Subject_Number\"], Subjects[\"Subject_Number\"]), preload=True, verbose=False)\n",
      "/tmp/ipykernel_336521/1285187122.py:33: RuntimeWarning: Limited 1 annotation(s) that were expanding outside the data range.\n",
      "  Subjects[\"prepSignal_EC\"] = mne.io.read_raw_eeglab(\"/workspace/brail_poc3/experiments/Lemon_PreEEGLAB/{}/{}/{}_EC.set\".format(Subjects[\"Subject_Number\"], Subjects[\"Subject_Number\"], Subjects[\"Subject_Number\"]), preload=True, verbose=False)\n",
      "/tmp/ipykernel_336521/1285187122.py:33: RuntimeWarning: The data contains 'boundary' events, indicating data discontinuities. Be cautious of filtering and epoching around these events.\n",
      "  Subjects[\"prepSignal_EC\"] = mne.io.read_raw_eeglab(\"/workspace/brail_poc3/experiments/Lemon_PreEEGLAB/{}/{}/{}_EC.set\".format(Subjects[\"Subject_Number\"], Subjects[\"Subject_Number\"], Subjects[\"Subject_Number\"]), preload=True, verbose=False)\n",
      "/tmp/ipykernel_336521/1285187122.py:130: RuntimeWarning: No bad channels to interpolate. Doing nothing...\n",
      "  prepSignal_EC_inte = prepSignal_EC_inte.interpolate_bads()\n",
      " 72%|███████████████████████████████            | 44/61 [00:12<00:03,  4.45it/s]/tmp/ipykernel_336521/1285187122.py:33: RuntimeWarning: Data file name in EEG.data (sub-010255_EC.fdt) is incorrect, the file name must have changed on disk, using the correct file name (sub-032463_EC.fdt).\n",
      "  Subjects[\"prepSignal_EC\"] = mne.io.read_raw_eeglab(\"/workspace/brail_poc3/experiments/Lemon_PreEEGLAB/{}/{}/{}_EC.set\".format(Subjects[\"Subject_Number\"], Subjects[\"Subject_Number\"], Subjects[\"Subject_Number\"]), preload=True, verbose=False)\n",
      "/tmp/ipykernel_336521/1285187122.py:33: RuntimeWarning: Limited 1 annotation(s) that were expanding outside the data range.\n",
      "  Subjects[\"prepSignal_EC\"] = mne.io.read_raw_eeglab(\"/workspace/brail_poc3/experiments/Lemon_PreEEGLAB/{}/{}/{}_EC.set\".format(Subjects[\"Subject_Number\"], Subjects[\"Subject_Number\"], Subjects[\"Subject_Number\"]), preload=True, verbose=False)\n",
      "/tmp/ipykernel_336521/1285187122.py:33: RuntimeWarning: The data contains 'boundary' events, indicating data discontinuities. Be cautious of filtering and epoching around these events.\n",
      "  Subjects[\"prepSignal_EC\"] = mne.io.read_raw_eeglab(\"/workspace/brail_poc3/experiments/Lemon_PreEEGLAB/{}/{}/{}_EC.set\".format(Subjects[\"Subject_Number\"], Subjects[\"Subject_Number\"], Subjects[\"Subject_Number\"]), preload=True, verbose=False)\n",
      "/tmp/ipykernel_336521/1285187122.py:130: RuntimeWarning: No bad channels to interpolate. Doing nothing...\n",
      "  prepSignal_EC_inte = prepSignal_EC_inte.interpolate_bads()\n",
      " 74%|███████████████████████████████▋           | 45/61 [00:13<00:03,  4.59it/s]"
     ]
    },
    {
     "name": "stdout",
     "output_type": "stream",
     "text": [
      "Subject number: sub-032463\n"
     ]
    },
    {
     "name": "stderr",
     "output_type": "stream",
     "text": [
      "/tmp/ipykernel_336521/1285187122.py:33: RuntimeWarning: Data file name in EEG.data (sub-010257_EC.fdt) is incorrect, the file name must have changed on disk, using the correct file name (sub-032465_EC.fdt).\n",
      "  Subjects[\"prepSignal_EC\"] = mne.io.read_raw_eeglab(\"/workspace/brail_poc3/experiments/Lemon_PreEEGLAB/{}/{}/{}_EC.set\".format(Subjects[\"Subject_Number\"], Subjects[\"Subject_Number\"], Subjects[\"Subject_Number\"]), preload=True, verbose=False)\n",
      "/tmp/ipykernel_336521/1285187122.py:33: RuntimeWarning: Limited 1 annotation(s) that were expanding outside the data range.\n",
      "  Subjects[\"prepSignal_EC\"] = mne.io.read_raw_eeglab(\"/workspace/brail_poc3/experiments/Lemon_PreEEGLAB/{}/{}/{}_EC.set\".format(Subjects[\"Subject_Number\"], Subjects[\"Subject_Number\"], Subjects[\"Subject_Number\"]), preload=True, verbose=False)\n",
      "/tmp/ipykernel_336521/1285187122.py:33: RuntimeWarning: The data contains 'boundary' events, indicating data discontinuities. Be cautious of filtering and epoching around these events.\n",
      "  Subjects[\"prepSignal_EC\"] = mne.io.read_raw_eeglab(\"/workspace/brail_poc3/experiments/Lemon_PreEEGLAB/{}/{}/{}_EC.set\".format(Subjects[\"Subject_Number\"], Subjects[\"Subject_Number\"], Subjects[\"Subject_Number\"]), preload=True, verbose=False)\n"
     ]
    },
    {
     "name": "stdout",
     "output_type": "stream",
     "text": [
      "Subject number: sub-032465\n",
      "[{'loc': array([0.0000000e+00, 5.2047489e-18, 8.5000000e-02, 0.0000000e+00,\n",
      "       0.0000000e+00, 0.0000000e+00,           nan,           nan,\n",
      "                 nan,           nan,           nan,           nan]), 'unit_mul': 0 (FIFF_UNITM_NONE), 'range': 1.0, 'cal': 1.0, 'kind': 2 (FIFFV_EEG_CH), 'coil_type': 1 (FIFFV_COIL_EEG), 'unit': 107 (FIFF_UNIT_V), 'coord_frame': 4 (FIFFV_COORD_HEAD), 'ch_name': 'Cz', 'scanno': 1, 'logno': 1}]\n",
      "Creating RawArray with float64 data, n_channels=1, n_times=119298\n",
      "    Range : 0 ... 119297 =      0.000 ...   477.188 secs\n",
      "Ready.\n",
      "Interpolating bad channels\n",
      "    Automatic origin fit: head of radius 85.0 mm\n",
      "Computing interpolation matrix from 60 sensor positions\n",
      "Interpolating 1 sensors\n"
     ]
    },
    {
     "name": "stderr",
     "output_type": "stream",
     "text": [
      "\r",
      " 75%|████████████████████████████████▍          | 46/61 [00:13<00:03,  3.85it/s]"
     ]
    },
    {
     "name": "stdout",
     "output_type": "stream",
     "text": [
      "Subject number: sub-032466\n",
      "[{'loc': array([-0.02613301,  0.08078401, -0.00400108,  0.        ,  0.        ,\n",
      "        0.        ,         nan,         nan,         nan,         nan,\n",
      "               nan,         nan]), 'unit_mul': 0 (FIFF_UNITM_NONE), 'range': 1.0, 'cal': 1.0, 'kind': 2 (FIFFV_EEG_CH), 'coil_type': 1 (FIFFV_COIL_EEG), 'unit': 107 (FIFF_UNIT_V), 'coord_frame': 4 (FIFFV_COORD_HEAD), 'ch_name': 'Fp1', 'scanno': 1, 'logno': 1}]\n",
      "Creating RawArray with float64 data, n_channels=1, n_times=118717\n",
      "    Range : 0 ... 118716 =      0.000 ...   474.864 secs\n",
      "Ready.\n"
     ]
    },
    {
     "name": "stderr",
     "output_type": "stream",
     "text": [
      "/tmp/ipykernel_336521/1285187122.py:33: RuntimeWarning: Data file name in EEG.data (sub-010258_EC.fdt) is incorrect, the file name must have changed on disk, using the correct file name (sub-032466_EC.fdt).\n",
      "  Subjects[\"prepSignal_EC\"] = mne.io.read_raw_eeglab(\"/workspace/brail_poc3/experiments/Lemon_PreEEGLAB/{}/{}/{}_EC.set\".format(Subjects[\"Subject_Number\"], Subjects[\"Subject_Number\"], Subjects[\"Subject_Number\"]), preload=True, verbose=False)\n",
      "/tmp/ipykernel_336521/1285187122.py:33: RuntimeWarning: Limited 1 annotation(s) that were expanding outside the data range.\n",
      "  Subjects[\"prepSignal_EC\"] = mne.io.read_raw_eeglab(\"/workspace/brail_poc3/experiments/Lemon_PreEEGLAB/{}/{}/{}_EC.set\".format(Subjects[\"Subject_Number\"], Subjects[\"Subject_Number\"], Subjects[\"Subject_Number\"]), preload=True, verbose=False)\n",
      "/tmp/ipykernel_336521/1285187122.py:33: RuntimeWarning: The data contains 'boundary' events, indicating data discontinuities. Be cautious of filtering and epoching around these events.\n",
      "  Subjects[\"prepSignal_EC\"] = mne.io.read_raw_eeglab(\"/workspace/brail_poc3/experiments/Lemon_PreEEGLAB/{}/{}/{}_EC.set\".format(Subjects[\"Subject_Number\"], Subjects[\"Subject_Number\"], Subjects[\"Subject_Number\"]), preload=True, verbose=False)\n"
     ]
    },
    {
     "name": "stdout",
     "output_type": "stream",
     "text": [
      "[{'loc': array([-0.04970943,  0.06869108, -0.0059589 ,  0.        ,  0.        ,\n",
      "        0.        ,         nan,         nan,         nan,         nan,\n",
      "               nan,         nan]), 'unit_mul': 0 (FIFF_UNITM_NONE), 'range': 1.0, 'cal': 1.0, 'kind': 2 (FIFFV_EEG_CH), 'coil_type': 1 (FIFFV_COIL_EEG), 'unit': 107 (FIFF_UNIT_V), 'coord_frame': 4 (FIFFV_COORD_HEAD), 'ch_name': 'AF7', 'scanno': 1, 'logno': 1}]\n",
      "Creating RawArray with float64 data, n_channels=1, n_times=118717\n",
      "    Range : 0 ... 118716 =      0.000 ...   474.864 secs\n",
      "Ready.\n",
      "[{'loc': array([0.06304474, 0.05402633, 0.01820758, 0.        , 0.        ,\n",
      "       0.        ,        nan,        nan,        nan,        nan,\n",
      "              nan,        nan]), 'unit_mul': 0 (FIFF_UNITM_NONE), 'range': 1.0, 'cal': 1.0, 'kind': 2 (FIFFV_EEG_CH), 'coil_type': 1 (FIFFV_COIL_EEG), 'unit': 107 (FIFF_UNIT_V), 'coord_frame': 4 (FIFFV_COORD_HEAD), 'ch_name': 'F6', 'scanno': 1, 'logno': 1}]\n",
      "Creating RawArray with float64 data, n_channels=1, n_times=118717\n",
      "    Range : 0 ... 118716 =      0.000 ...   474.864 secs\n",
      "Ready.\n",
      "Interpolating bad channels\n",
      "    Automatic origin fit: head of radius 85.0 mm\n",
      "Computing interpolation matrix from 58 sensor positions\n",
      "Interpolating 3 sensors\n"
     ]
    },
    {
     "name": "stderr",
     "output_type": "stream",
     "text": [
      "\r",
      " 77%|█████████████████████████████████▏         | 47/61 [00:13<00:04,  3.29it/s]"
     ]
    },
    {
     "name": "stdout",
     "output_type": "stream",
     "text": [
      "Subject number: sub-032474\n"
     ]
    },
    {
     "name": "stderr",
     "output_type": "stream",
     "text": [
      "/tmp/ipykernel_336521/1285187122.py:33: RuntimeWarning: Data file name in EEG.data (sub-010267_EC.fdt) is incorrect, the file name must have changed on disk, using the correct file name (sub-032474_EC.fdt).\n",
      "  Subjects[\"prepSignal_EC\"] = mne.io.read_raw_eeglab(\"/workspace/brail_poc3/experiments/Lemon_PreEEGLAB/{}/{}/{}_EC.set\".format(Subjects[\"Subject_Number\"], Subjects[\"Subject_Number\"], Subjects[\"Subject_Number\"]), preload=True, verbose=False)\n",
      "/tmp/ipykernel_336521/1285187122.py:33: RuntimeWarning: Limited 1 annotation(s) that were expanding outside the data range.\n",
      "  Subjects[\"prepSignal_EC\"] = mne.io.read_raw_eeglab(\"/workspace/brail_poc3/experiments/Lemon_PreEEGLAB/{}/{}/{}_EC.set\".format(Subjects[\"Subject_Number\"], Subjects[\"Subject_Number\"], Subjects[\"Subject_Number\"]), preload=True, verbose=False)\n",
      "/tmp/ipykernel_336521/1285187122.py:33: RuntimeWarning: The data contains 'boundary' events, indicating data discontinuities. Be cautious of filtering and epoching around these events.\n",
      "  Subjects[\"prepSignal_EC\"] = mne.io.read_raw_eeglab(\"/workspace/brail_poc3/experiments/Lemon_PreEEGLAB/{}/{}/{}_EC.set\".format(Subjects[\"Subject_Number\"], Subjects[\"Subject_Number\"], Subjects[\"Subject_Number\"]), preload=True, verbose=False)\n"
     ]
    },
    {
     "name": "stdout",
     "output_type": "stream",
     "text": [
      "[{'loc': array([-0.06842334,  0.04987138, -0.00748952,  0.        ,  0.        ,\n",
      "        0.        ,         nan,         nan,         nan,         nan,\n",
      "               nan,         nan]), 'unit_mul': 0 (FIFF_UNITM_NONE), 'range': 1.0, 'cal': 1.0, 'kind': 2 (FIFFV_EEG_CH), 'coil_type': 1 (FIFFV_COIL_EEG), 'unit': 107 (FIFF_UNIT_V), 'coord_frame': 4 (FIFFV_COORD_HEAD), 'ch_name': 'F7', 'scanno': 1, 'logno': 1}]\n",
      "Creating RawArray with float64 data, n_channels=1, n_times=119609\n",
      "    Range : 0 ... 119608 =      0.000 ...   478.432 secs\n",
      "Ready.\n",
      "Interpolating bad channels\n",
      "    Automatic origin fit: head of radius 85.0 mm\n",
      "Computing interpolation matrix from 60 sensor positions\n",
      "Interpolating 1 sensors\n"
     ]
    },
    {
     "name": "stderr",
     "output_type": "stream",
     "text": [
      "\r",
      " 79%|█████████████████████████████████▊         | 48/61 [00:14<00:04,  3.03it/s]"
     ]
    },
    {
     "name": "stdout",
     "output_type": "stream",
     "text": [
      "Subject number: sub-032475\n"
     ]
    },
    {
     "name": "stderr",
     "output_type": "stream",
     "text": [
      "/tmp/ipykernel_336521/1285187122.py:33: RuntimeWarning: Data file name in EEG.data (sub-010268_EC.fdt) is incorrect, the file name must have changed on disk, using the correct file name (sub-032475_EC.fdt).\n",
      "  Subjects[\"prepSignal_EC\"] = mne.io.read_raw_eeglab(\"/workspace/brail_poc3/experiments/Lemon_PreEEGLAB/{}/{}/{}_EC.set\".format(Subjects[\"Subject_Number\"], Subjects[\"Subject_Number\"], Subjects[\"Subject_Number\"]), preload=True, verbose=False)\n",
      "/tmp/ipykernel_336521/1285187122.py:33: RuntimeWarning: Limited 1 annotation(s) that were expanding outside the data range.\n",
      "  Subjects[\"prepSignal_EC\"] = mne.io.read_raw_eeglab(\"/workspace/brail_poc3/experiments/Lemon_PreEEGLAB/{}/{}/{}_EC.set\".format(Subjects[\"Subject_Number\"], Subjects[\"Subject_Number\"], Subjects[\"Subject_Number\"]), preload=True, verbose=False)\n",
      "/tmp/ipykernel_336521/1285187122.py:33: RuntimeWarning: The data contains 'boundary' events, indicating data discontinuities. Be cautious of filtering and epoching around these events.\n",
      "  Subjects[\"prepSignal_EC\"] = mne.io.read_raw_eeglab(\"/workspace/brail_poc3/experiments/Lemon_PreEEGLAB/{}/{}/{}_EC.set\".format(Subjects[\"Subject_Number\"], Subjects[\"Subject_Number\"], Subjects[\"Subject_Number\"]), preload=True, verbose=False)\n",
      "/tmp/ipykernel_336521/1285187122.py:130: RuntimeWarning: No bad channels to interpolate. Doing nothing...\n",
      "  prepSignal_EC_inte = prepSignal_EC_inte.interpolate_bads()\n",
      " 80%|██████████████████████████████████▌        | 49/61 [00:14<00:03,  3.15it/s]/tmp/ipykernel_336521/1285187122.py:33: RuntimeWarning: Data file name in EEG.data (sub-010272_EC.fdt) is incorrect, the file name must have changed on disk, using the correct file name (sub-032479_EC.fdt).\n",
      "  Subjects[\"prepSignal_EC\"] = mne.io.read_raw_eeglab(\"/workspace/brail_poc3/experiments/Lemon_PreEEGLAB/{}/{}/{}_EC.set\".format(Subjects[\"Subject_Number\"], Subjects[\"Subject_Number\"], Subjects[\"Subject_Number\"]), preload=True, verbose=False)\n",
      "/tmp/ipykernel_336521/1285187122.py:33: RuntimeWarning: Limited 1 annotation(s) that were expanding outside the data range.\n",
      "  Subjects[\"prepSignal_EC\"] = mne.io.read_raw_eeglab(\"/workspace/brail_poc3/experiments/Lemon_PreEEGLAB/{}/{}/{}_EC.set\".format(Subjects[\"Subject_Number\"], Subjects[\"Subject_Number\"], Subjects[\"Subject_Number\"]), preload=True, verbose=False)\n",
      "/tmp/ipykernel_336521/1285187122.py:33: RuntimeWarning: The data contains 'boundary' events, indicating data discontinuities. Be cautious of filtering and epoching around these events.\n",
      "  Subjects[\"prepSignal_EC\"] = mne.io.read_raw_eeglab(\"/workspace/brail_poc3/experiments/Lemon_PreEEGLAB/{}/{}/{}_EC.set\".format(Subjects[\"Subject_Number\"], Subjects[\"Subject_Number\"], Subjects[\"Subject_Number\"]), preload=True, verbose=False)\n"
     ]
    },
    {
     "name": "stdout",
     "output_type": "stream",
     "text": [
      "Subject number: sub-032479\n",
      "[{'loc': array([-0.06842334,  0.04987138, -0.00748952,  0.        ,  0.        ,\n",
      "        0.        ,         nan,         nan,         nan,         nan,\n",
      "               nan,         nan]), 'unit_mul': 0 (FIFF_UNITM_NONE), 'range': 1.0, 'cal': 1.0, 'kind': 2 (FIFFV_EEG_CH), 'coil_type': 1 (FIFFV_COIL_EEG), 'unit': 107 (FIFF_UNIT_V), 'coord_frame': 4 (FIFFV_COORD_HEAD), 'ch_name': 'F7', 'scanno': 1, 'logno': 1}]\n",
      "Creating RawArray with float64 data, n_channels=1, n_times=116003\n",
      "    Range : 0 ... 116002 =      0.000 ...   464.008 secs\n",
      "Ready.\n",
      "Interpolating bad channels\n",
      "    Automatic origin fit: head of radius 85.0 mm\n",
      "Computing interpolation matrix from 60 sensor positions\n",
      "Interpolating 1 sensors\n"
     ]
    },
    {
     "name": "stderr",
     "output_type": "stream",
     "text": [
      "\r",
      " 82%|███████████████████████████████████▏       | 50/61 [00:14<00:03,  3.02it/s]"
     ]
    },
    {
     "name": "stdout",
     "output_type": "stream",
     "text": [
      "Subject number: sub-032482\n"
     ]
    },
    {
     "name": "stderr",
     "output_type": "stream",
     "text": [
      "/tmp/ipykernel_336521/1285187122.py:33: RuntimeWarning: Data file name in EEG.data (sub-010275_EC.fdt) is incorrect, the file name must have changed on disk, using the correct file name (sub-032482_EC.fdt).\n",
      "  Subjects[\"prepSignal_EC\"] = mne.io.read_raw_eeglab(\"/workspace/brail_poc3/experiments/Lemon_PreEEGLAB/{}/{}/{}_EC.set\".format(Subjects[\"Subject_Number\"], Subjects[\"Subject_Number\"], Subjects[\"Subject_Number\"]), preload=True, verbose=False)\n",
      "/tmp/ipykernel_336521/1285187122.py:33: RuntimeWarning: Limited 1 annotation(s) that were expanding outside the data range.\n",
      "  Subjects[\"prepSignal_EC\"] = mne.io.read_raw_eeglab(\"/workspace/brail_poc3/experiments/Lemon_PreEEGLAB/{}/{}/{}_EC.set\".format(Subjects[\"Subject_Number\"], Subjects[\"Subject_Number\"], Subjects[\"Subject_Number\"]), preload=True, verbose=False)\n",
      "/tmp/ipykernel_336521/1285187122.py:33: RuntimeWarning: The data contains 'boundary' events, indicating data discontinuities. Be cautious of filtering and epoching around these events.\n",
      "  Subjects[\"prepSignal_EC\"] = mne.io.read_raw_eeglab(\"/workspace/brail_poc3/experiments/Lemon_PreEEGLAB/{}/{}/{}_EC.set\".format(Subjects[\"Subject_Number\"], Subjects[\"Subject_Number\"], Subjects[\"Subject_Number\"]), preload=True, verbose=False)\n"
     ]
    },
    {
     "name": "stdout",
     "output_type": "stream",
     "text": [
      "[{'loc': array([ 0.07624736, -0.02876282,  0.02416691,  0.        ,  0.        ,\n",
      "        0.        ,         nan,         nan,         nan,         nan,\n",
      "               nan,         nan]), 'unit_mul': 0 (FIFF_UNITM_NONE), 'range': 1.0, 'cal': 1.0, 'kind': 2 (FIFFV_EEG_CH), 'coil_type': 1 (FIFFV_COIL_EEG), 'unit': 107 (FIFF_UNIT_V), 'coord_frame': 4 (FIFFV_COORD_HEAD), 'ch_name': 'CP6', 'scanno': 1, 'logno': 1}]\n",
      "Creating RawArray with float64 data, n_channels=1, n_times=119939\n",
      "    Range : 0 ... 119938 =      0.000 ...   479.752 secs\n",
      "Ready.\n",
      "Interpolating bad channels\n",
      "    Automatic origin fit: head of radius 85.0 mm\n",
      "Computing interpolation matrix from 60 sensor positions\n",
      "Interpolating 1 sensors\n"
     ]
    },
    {
     "name": "stderr",
     "output_type": "stream",
     "text": [
      "\r",
      " 84%|███████████████████████████████████▉       | 51/61 [00:15<00:03,  2.88it/s]"
     ]
    },
    {
     "name": "stdout",
     "output_type": "stream",
     "text": [
      "Subject number: sub-032483\n"
     ]
    },
    {
     "name": "stderr",
     "output_type": "stream",
     "text": [
      "/tmp/ipykernel_336521/1285187122.py:33: RuntimeWarning: Data file name in EEG.data (sub-010276_EC.fdt) is incorrect, the file name must have changed on disk, using the correct file name (sub-032483_EC.fdt).\n",
      "  Subjects[\"prepSignal_EC\"] = mne.io.read_raw_eeglab(\"/workspace/brail_poc3/experiments/Lemon_PreEEGLAB/{}/{}/{}_EC.set\".format(Subjects[\"Subject_Number\"], Subjects[\"Subject_Number\"], Subjects[\"Subject_Number\"]), preload=True, verbose=False)\n",
      "/tmp/ipykernel_336521/1285187122.py:33: RuntimeWarning: Limited 1 annotation(s) that were expanding outside the data range.\n",
      "  Subjects[\"prepSignal_EC\"] = mne.io.read_raw_eeglab(\"/workspace/brail_poc3/experiments/Lemon_PreEEGLAB/{}/{}/{}_EC.set\".format(Subjects[\"Subject_Number\"], Subjects[\"Subject_Number\"], Subjects[\"Subject_Number\"]), preload=True, verbose=False)\n",
      "/tmp/ipykernel_336521/1285187122.py:33: RuntimeWarning: The data contains 'boundary' events, indicating data discontinuities. Be cautious of filtering and epoching around these events.\n",
      "  Subjects[\"prepSignal_EC\"] = mne.io.read_raw_eeglab(\"/workspace/brail_poc3/experiments/Lemon_PreEEGLAB/{}/{}/{}_EC.set\".format(Subjects[\"Subject_Number\"], Subjects[\"Subject_Number\"], Subjects[\"Subject_Number\"]), preload=True, verbose=False)\n",
      "/tmp/ipykernel_336521/1285187122.py:130: RuntimeWarning: No bad channels to interpolate. Doing nothing...\n",
      "  prepSignal_EC_inte = prepSignal_EC_inte.interpolate_bads()\n",
      " 85%|████████████████████████████████████▋      | 52/61 [00:15<00:02,  3.60it/s]/tmp/ipykernel_336521/1285187122.py:33: RuntimeWarning: Data file name in EEG.data (sub-010277_EC.fdt) is incorrect, the file name must have changed on disk, using the correct file name (sub-032484_EC.fdt).\n",
      "  Subjects[\"prepSignal_EC\"] = mne.io.read_raw_eeglab(\"/workspace/brail_poc3/experiments/Lemon_PreEEGLAB/{}/{}/{}_EC.set\".format(Subjects[\"Subject_Number\"], Subjects[\"Subject_Number\"], Subjects[\"Subject_Number\"]), preload=True, verbose=False)\n"
     ]
    },
    {
     "name": "stdout",
     "output_type": "stream",
     "text": [
      "Subject number: sub-032484\n"
     ]
    },
    {
     "name": "stderr",
     "output_type": "stream",
     "text": [
      "/tmp/ipykernel_336521/1285187122.py:33: RuntimeWarning: Limited 1 annotation(s) that were expanding outside the data range.\n",
      "  Subjects[\"prepSignal_EC\"] = mne.io.read_raw_eeglab(\"/workspace/brail_poc3/experiments/Lemon_PreEEGLAB/{}/{}/{}_EC.set\".format(Subjects[\"Subject_Number\"], Subjects[\"Subject_Number\"], Subjects[\"Subject_Number\"]), preload=True, verbose=False)\n",
      "/tmp/ipykernel_336521/1285187122.py:33: RuntimeWarning: The data contains 'boundary' events, indicating data discontinuities. Be cautious of filtering and epoching around these events.\n",
      "  Subjects[\"prepSignal_EC\"] = mne.io.read_raw_eeglab(\"/workspace/brail_poc3/experiments/Lemon_PreEEGLAB/{}/{}/{}_EC.set\".format(Subjects[\"Subject_Number\"], Subjects[\"Subject_Number\"], Subjects[\"Subject_Number\"]), preload=True, verbose=False)\n",
      "/tmp/ipykernel_336521/1285187122.py:130: RuntimeWarning: No bad channels to interpolate. Doing nothing...\n",
      "  prepSignal_EC_inte = prepSignal_EC_inte.interpolate_bads()\n",
      "\r",
      " 87%|█████████████████████████████████████▎     | 53/61 [00:15<00:01,  4.39it/s]"
     ]
    },
    {
     "name": "stdout",
     "output_type": "stream",
     "text": [
      "Subject number: sub-032490\n"
     ]
    },
    {
     "name": "stderr",
     "output_type": "stream",
     "text": [
      "/tmp/ipykernel_336521/1285187122.py:33: RuntimeWarning: Data file name in EEG.data (sub-010283_EC.fdt) is incorrect, the file name must have changed on disk, using the correct file name (sub-032490_EC.fdt).\n",
      "  Subjects[\"prepSignal_EC\"] = mne.io.read_raw_eeglab(\"/workspace/brail_poc3/experiments/Lemon_PreEEGLAB/{}/{}/{}_EC.set\".format(Subjects[\"Subject_Number\"], Subjects[\"Subject_Number\"], Subjects[\"Subject_Number\"]), preload=True, verbose=False)\n",
      "/tmp/ipykernel_336521/1285187122.py:33: RuntimeWarning: Limited 1 annotation(s) that were expanding outside the data range.\n",
      "  Subjects[\"prepSignal_EC\"] = mne.io.read_raw_eeglab(\"/workspace/brail_poc3/experiments/Lemon_PreEEGLAB/{}/{}/{}_EC.set\".format(Subjects[\"Subject_Number\"], Subjects[\"Subject_Number\"], Subjects[\"Subject_Number\"]), preload=True, verbose=False)\n",
      "/tmp/ipykernel_336521/1285187122.py:33: RuntimeWarning: The data contains 'boundary' events, indicating data discontinuities. Be cautious of filtering and epoching around these events.\n",
      "  Subjects[\"prepSignal_EC\"] = mne.io.read_raw_eeglab(\"/workspace/brail_poc3/experiments/Lemon_PreEEGLAB/{}/{}/{}_EC.set\".format(Subjects[\"Subject_Number\"], Subjects[\"Subject_Number\"], Subjects[\"Subject_Number\"]), preload=True, verbose=False)\n",
      "/tmp/ipykernel_336521/1285187122.py:130: RuntimeWarning: No bad channels to interpolate. Doing nothing...\n",
      "  prepSignal_EC_inte = prepSignal_EC_inte.interpolate_bads()\n",
      " 89%|██████████████████████████████████████     | 54/61 [00:15<00:01,  4.50it/s]/tmp/ipykernel_336521/1285187122.py:33: RuntimeWarning: Data file name in EEG.data (sub-010284_EC.fdt) is incorrect, the file name must have changed on disk, using the correct file name (sub-032491_EC.fdt).\n",
      "  Subjects[\"prepSignal_EC\"] = mne.io.read_raw_eeglab(\"/workspace/brail_poc3/experiments/Lemon_PreEEGLAB/{}/{}/{}_EC.set\".format(Subjects[\"Subject_Number\"], Subjects[\"Subject_Number\"], Subjects[\"Subject_Number\"]), preload=True, verbose=False)\n",
      "/tmp/ipykernel_336521/1285187122.py:33: RuntimeWarning: Limited 1 annotation(s) that were expanding outside the data range.\n",
      "  Subjects[\"prepSignal_EC\"] = mne.io.read_raw_eeglab(\"/workspace/brail_poc3/experiments/Lemon_PreEEGLAB/{}/{}/{}_EC.set\".format(Subjects[\"Subject_Number\"], Subjects[\"Subject_Number\"], Subjects[\"Subject_Number\"]), preload=True, verbose=False)\n",
      "/tmp/ipykernel_336521/1285187122.py:33: RuntimeWarning: The data contains 'boundary' events, indicating data discontinuities. Be cautious of filtering and epoching around these events.\n",
      "  Subjects[\"prepSignal_EC\"] = mne.io.read_raw_eeglab(\"/workspace/brail_poc3/experiments/Lemon_PreEEGLAB/{}/{}/{}_EC.set\".format(Subjects[\"Subject_Number\"], Subjects[\"Subject_Number\"], Subjects[\"Subject_Number\"]), preload=True, verbose=False)\n"
     ]
    },
    {
     "name": "stdout",
     "output_type": "stream",
     "text": [
      "Subject number: sub-032491\n",
      "[{'loc': array([0.0000000e+00, 5.2047489e-18, 8.5000000e-02, 0.0000000e+00,\n",
      "       0.0000000e+00, 0.0000000e+00,           nan,           nan,\n",
      "                 nan,           nan,           nan,           nan]), 'unit_mul': 0 (FIFF_UNITM_NONE), 'range': 1.0, 'cal': 1.0, 'kind': 2 (FIFFV_EEG_CH), 'coil_type': 1 (FIFFV_COIL_EEG), 'unit': 107 (FIFF_UNIT_V), 'coord_frame': 4 (FIFFV_COORD_HEAD), 'ch_name': 'Cz', 'scanno': 1, 'logno': 1}]\n",
      "Creating RawArray with float64 data, n_channels=1, n_times=119165\n",
      "    Range : 0 ... 119164 =      0.000 ...   476.656 secs\n",
      "Ready.\n",
      "Interpolating bad channels\n",
      "    Automatic origin fit: head of radius 85.0 mm\n",
      "Computing interpolation matrix from 60 sensor positions\n",
      "Interpolating 1 sensors\n"
     ]
    },
    {
     "name": "stderr",
     "output_type": "stream",
     "text": [
      " 90%|██████████████████████████████████████▊    | 55/61 [00:16<00:01,  3.92it/s]/tmp/ipykernel_336521/1285187122.py:33: RuntimeWarning: Data file name in EEG.data (sub-010286_EC.fdt) is incorrect, the file name must have changed on disk, using the correct file name (sub-032493_EC.fdt).\n",
      "  Subjects[\"prepSignal_EC\"] = mne.io.read_raw_eeglab(\"/workspace/brail_poc3/experiments/Lemon_PreEEGLAB/{}/{}/{}_EC.set\".format(Subjects[\"Subject_Number\"], Subjects[\"Subject_Number\"], Subjects[\"Subject_Number\"]), preload=True, verbose=False)\n"
     ]
    },
    {
     "name": "stdout",
     "output_type": "stream",
     "text": [
      "Subject number: sub-032493\n",
      "[{'loc': array([-8.45385386e-02,  5.17649254e-18, -8.84508251e-03,  0.00000000e+00,\n",
      "        0.00000000e+00,  0.00000000e+00,             nan,             nan,\n",
      "                   nan,             nan,             nan,             nan]), 'unit_mul': 0 (FIFF_UNITM_NONE), 'range': 1.0, 'cal': 1.0, 'kind': 2 (FIFFV_EEG_CH), 'coil_type': 1 (FIFFV_COIL_EEG), 'unit': 107 (FIFF_UNIT_V), 'coord_frame': 4 (FIFFV_COORD_HEAD), 'ch_name': 'T7', 'scanno': 1, 'logno': 1}]\n",
      "Creating RawArray with float64 data, n_channels=1, n_times=118682\n",
      "    Range : 0 ... 118681 =      0.000 ...   474.724 secs\n",
      "Ready.\n"
     ]
    },
    {
     "name": "stderr",
     "output_type": "stream",
     "text": [
      "/tmp/ipykernel_336521/1285187122.py:33: RuntimeWarning: Limited 1 annotation(s) that were expanding outside the data range.\n",
      "  Subjects[\"prepSignal_EC\"] = mne.io.read_raw_eeglab(\"/workspace/brail_poc3/experiments/Lemon_PreEEGLAB/{}/{}/{}_EC.set\".format(Subjects[\"Subject_Number\"], Subjects[\"Subject_Number\"], Subjects[\"Subject_Number\"]), preload=True, verbose=False)\n",
      "/tmp/ipykernel_336521/1285187122.py:33: RuntimeWarning: The data contains 'boundary' events, indicating data discontinuities. Be cautious of filtering and epoching around these events.\n",
      "  Subjects[\"prepSignal_EC\"] = mne.io.read_raw_eeglab(\"/workspace/brail_poc3/experiments/Lemon_PreEEGLAB/{}/{}/{}_EC.set\".format(Subjects[\"Subject_Number\"], Subjects[\"Subject_Number\"], Subjects[\"Subject_Number\"]), preload=True, verbose=False)\n"
     ]
    },
    {
     "name": "stdout",
     "output_type": "stream",
     "text": [
      "[{'loc': array([-8.08315480e-02,  4.94950483e-18,  2.62918398e-02,  0.00000000e+00,\n",
      "        0.00000000e+00,  0.00000000e+00,             nan,             nan,\n",
      "                   nan,             nan,             nan,             nan]), 'unit_mul': 0 (FIFF_UNITM_NONE), 'range': 1.0, 'cal': 1.0, 'kind': 2 (FIFFV_EEG_CH), 'coil_type': 1 (FIFFV_COIL_EEG), 'unit': 107 (FIFF_UNIT_V), 'coord_frame': 4 (FIFFV_COORD_HEAD), 'ch_name': 'C5', 'scanno': 1, 'logno': 1}]\n",
      "Creating RawArray with float64 data, n_channels=1, n_times=118682\n",
      "    Range : 0 ... 118681 =      0.000 ...   474.724 secs\n",
      "Ready.\n",
      "Interpolating bad channels\n",
      "    Automatic origin fit: head of radius 85.0 mm\n",
      "Computing interpolation matrix from 59 sensor positions\n",
      "Interpolating 2 sensors\n"
     ]
    },
    {
     "name": "stderr",
     "output_type": "stream",
     "text": [
      "\r",
      " 92%|███████████████████████████████████████▍   | 56/61 [00:16<00:01,  3.53it/s]"
     ]
    },
    {
     "name": "stdout",
     "output_type": "stream",
     "text": [
      "Subject number: sub-032494\n"
     ]
    },
    {
     "name": "stderr",
     "output_type": "stream",
     "text": [
      "/tmp/ipykernel_336521/1285187122.py:33: RuntimeWarning: Data file name in EEG.data (sub-010287_EC.fdt) is incorrect, the file name must have changed on disk, using the correct file name (sub-032494_EC.fdt).\n",
      "  Subjects[\"prepSignal_EC\"] = mne.io.read_raw_eeglab(\"/workspace/brail_poc3/experiments/Lemon_PreEEGLAB/{}/{}/{}_EC.set\".format(Subjects[\"Subject_Number\"], Subjects[\"Subject_Number\"], Subjects[\"Subject_Number\"]), preload=True, verbose=False)\n",
      "/tmp/ipykernel_336521/1285187122.py:33: RuntimeWarning: Limited 1 annotation(s) that were expanding outside the data range.\n",
      "  Subjects[\"prepSignal_EC\"] = mne.io.read_raw_eeglab(\"/workspace/brail_poc3/experiments/Lemon_PreEEGLAB/{}/{}/{}_EC.set\".format(Subjects[\"Subject_Number\"], Subjects[\"Subject_Number\"], Subjects[\"Subject_Number\"]), preload=True, verbose=False)\n",
      "/tmp/ipykernel_336521/1285187122.py:33: RuntimeWarning: The data contains 'boundary' events, indicating data discontinuities. Be cautious of filtering and epoching around these events.\n",
      "  Subjects[\"prepSignal_EC\"] = mne.io.read_raw_eeglab(\"/workspace/brail_poc3/experiments/Lemon_PreEEGLAB/{}/{}/{}_EC.set\".format(Subjects[\"Subject_Number\"], Subjects[\"Subject_Number\"], Subjects[\"Subject_Number\"]), preload=True, verbose=False)\n",
      "/tmp/ipykernel_336521/1285187122.py:130: RuntimeWarning: No bad channels to interpolate. Doing nothing...\n",
      "  prepSignal_EC_inte = prepSignal_EC_inte.interpolate_bads()\n",
      " 93%|████████████████████████████████████████▏  | 57/61 [00:16<00:01,  3.75it/s]/tmp/ipykernel_336521/1285187122.py:33: RuntimeWarning: Data file name in EEG.data (sub-010288_EC.fdt) is incorrect, the file name must have changed on disk, using the correct file name (sub-032495_EC.fdt).\n",
      "  Subjects[\"prepSignal_EC\"] = mne.io.read_raw_eeglab(\"/workspace/brail_poc3/experiments/Lemon_PreEEGLAB/{}/{}/{}_EC.set\".format(Subjects[\"Subject_Number\"], Subjects[\"Subject_Number\"], Subjects[\"Subject_Number\"]), preload=True, verbose=False)\n",
      "/tmp/ipykernel_336521/1285187122.py:33: RuntimeWarning: Limited 1 annotation(s) that were expanding outside the data range.\n",
      "  Subjects[\"prepSignal_EC\"] = mne.io.read_raw_eeglab(\"/workspace/brail_poc3/experiments/Lemon_PreEEGLAB/{}/{}/{}_EC.set\".format(Subjects[\"Subject_Number\"], Subjects[\"Subject_Number\"], Subjects[\"Subject_Number\"]), preload=True, verbose=False)\n",
      "/tmp/ipykernel_336521/1285187122.py:33: RuntimeWarning: The data contains 'boundary' events, indicating data discontinuities. Be cautious of filtering and epoching around these events.\n",
      "  Subjects[\"prepSignal_EC\"] = mne.io.read_raw_eeglab(\"/workspace/brail_poc3/experiments/Lemon_PreEEGLAB/{}/{}/{}_EC.set\".format(Subjects[\"Subject_Number\"], Subjects[\"Subject_Number\"], Subjects[\"Subject_Number\"]), preload=True, verbose=False)\n",
      "/tmp/ipykernel_336521/1285187122.py:130: RuntimeWarning: No bad channels to interpolate. Doing nothing...\n",
      "  prepSignal_EC_inte = prepSignal_EC_inte.interpolate_bads()\n",
      " 95%|████████████████████████████████████████▉  | 58/61 [00:16<00:00,  4.10it/s]"
     ]
    },
    {
     "name": "stdout",
     "output_type": "stream",
     "text": [
      "Subject number: sub-032495\n",
      "Subject number: sub-032496\n"
     ]
    },
    {
     "name": "stderr",
     "output_type": "stream",
     "text": [
      "/tmp/ipykernel_336521/1285187122.py:33: RuntimeWarning: Data file name in EEG.data (sub-010289_EC.fdt) is incorrect, the file name must have changed on disk, using the correct file name (sub-032496_EC.fdt).\n",
      "  Subjects[\"prepSignal_EC\"] = mne.io.read_raw_eeglab(\"/workspace/brail_poc3/experiments/Lemon_PreEEGLAB/{}/{}/{}_EC.set\".format(Subjects[\"Subject_Number\"], Subjects[\"Subject_Number\"], Subjects[\"Subject_Number\"]), preload=True, verbose=False)\n",
      "/tmp/ipykernel_336521/1285187122.py:33: RuntimeWarning: Limited 1 annotation(s) that were expanding outside the data range.\n",
      "  Subjects[\"prepSignal_EC\"] = mne.io.read_raw_eeglab(\"/workspace/brail_poc3/experiments/Lemon_PreEEGLAB/{}/{}/{}_EC.set\".format(Subjects[\"Subject_Number\"], Subjects[\"Subject_Number\"], Subjects[\"Subject_Number\"]), preload=True, verbose=False)\n",
      "/tmp/ipykernel_336521/1285187122.py:33: RuntimeWarning: The data contains 'boundary' events, indicating data discontinuities. Be cautious of filtering and epoching around these events.\n",
      "  Subjects[\"prepSignal_EC\"] = mne.io.read_raw_eeglab(\"/workspace/brail_poc3/experiments/Lemon_PreEEGLAB/{}/{}/{}_EC.set\".format(Subjects[\"Subject_Number\"], Subjects[\"Subject_Number\"], Subjects[\"Subject_Number\"]), preload=True, verbose=False)\n",
      "/tmp/ipykernel_336521/1285187122.py:130: RuntimeWarning: No bad channels to interpolate. Doing nothing...\n",
      "  prepSignal_EC_inte = prepSignal_EC_inte.interpolate_bads()\n",
      " 97%|█████████████████████████████████████████▌ | 59/61 [00:17<00:00,  4.30it/s]/tmp/ipykernel_336521/1285187122.py:33: RuntimeWarning: Data file name in EEG.data (sub-010290_EC.fdt) is incorrect, the file name must have changed on disk, using the correct file name (sub-032497_EC.fdt).\n",
      "  Subjects[\"prepSignal_EC\"] = mne.io.read_raw_eeglab(\"/workspace/brail_poc3/experiments/Lemon_PreEEGLAB/{}/{}/{}_EC.set\".format(Subjects[\"Subject_Number\"], Subjects[\"Subject_Number\"], Subjects[\"Subject_Number\"]), preload=True, verbose=False)\n",
      "/tmp/ipykernel_336521/1285187122.py:33: RuntimeWarning: Limited 1 annotation(s) that were expanding outside the data range.\n",
      "  Subjects[\"prepSignal_EC\"] = mne.io.read_raw_eeglab(\"/workspace/brail_poc3/experiments/Lemon_PreEEGLAB/{}/{}/{}_EC.set\".format(Subjects[\"Subject_Number\"], Subjects[\"Subject_Number\"], Subjects[\"Subject_Number\"]), preload=True, verbose=False)\n",
      "/tmp/ipykernel_336521/1285187122.py:33: RuntimeWarning: The data contains 'boundary' events, indicating data discontinuities. Be cautious of filtering and epoching around these events.\n",
      "  Subjects[\"prepSignal_EC\"] = mne.io.read_raw_eeglab(\"/workspace/brail_poc3/experiments/Lemon_PreEEGLAB/{}/{}/{}_EC.set\".format(Subjects[\"Subject_Number\"], Subjects[\"Subject_Number\"], Subjects[\"Subject_Number\"]), preload=True, verbose=False)\n"
     ]
    },
    {
     "name": "stdout",
     "output_type": "stream",
     "text": [
      "Subject number: sub-032497\n",
      "[{'loc': array([0.07624736, 0.02876282, 0.02416691, 0.        , 0.        ,\n",
      "       0.        ,        nan,        nan,        nan,        nan,\n",
      "              nan,        nan]), 'unit_mul': 0 (FIFF_UNITM_NONE), 'range': 1.0, 'cal': 1.0, 'kind': 2 (FIFFV_EEG_CH), 'coil_type': 1 (FIFFV_COIL_EEG), 'unit': 107 (FIFF_UNIT_V), 'coord_frame': 4 (FIFFV_COORD_HEAD), 'ch_name': 'FC6', 'scanno': 1, 'logno': 1}]\n",
      "Creating RawArray with float64 data, n_channels=1, n_times=119498\n",
      "    Range : 0 ... 119497 =      0.000 ...   477.988 secs\n",
      "Ready.\n",
      "[{'loc': array([0.0000000e+00, 5.2047489e-18, 8.5000000e-02, 0.0000000e+00,\n",
      "       0.0000000e+00, 0.0000000e+00,           nan,           nan,\n",
      "                 nan,           nan,           nan,           nan]), 'unit_mul': 0 (FIFF_UNITM_NONE), 'range': 1.0, 'cal': 1.0, 'kind': 2 (FIFFV_EEG_CH), 'coil_type': 1 (FIFFV_COIL_EEG), 'unit': 107 (FIFF_UNIT_V), 'coord_frame': 4 (FIFFV_COORD_HEAD), 'ch_name': 'Cz', 'scanno': 1, 'logno': 1}]\n",
      "Creating RawArray with float64 data, n_channels=1, n_times=119498\n",
      "    Range : 0 ... 119497 =      0.000 ...   477.988 secs\n",
      "Ready.\n",
      "[{'loc': array([ 0.08041001,  0.0262075 , -0.0085086 ,  0.        ,  0.        ,\n",
      "        0.        ,         nan,         nan,         nan,         nan,\n",
      "               nan,         nan]), 'unit_mul': 0 (FIFF_UNITM_NONE), 'range': 1.0, 'cal': 1.0, 'kind': 2 (FIFFV_EEG_CH), 'coil_type': 1 (FIFFV_COIL_EEG), 'unit': 107 (FIFF_UNIT_V), 'coord_frame': 4 (FIFFV_COORD_HEAD), 'ch_name': 'FT8', 'scanno': 1, 'logno': 1}]\n",
      "Creating RawArray with float64 data, n_channels=1, n_times=119498\n",
      "    Range : 0 ... 119497 =      0.000 ...   477.988 secs\n",
      "Ready.\n",
      "Interpolating bad channels\n",
      "    Automatic origin fit: head of radius 85.0 mm\n",
      "Computing interpolation matrix from 58 sensor positions\n",
      "Interpolating 3 sensors\n"
     ]
    },
    {
     "name": "stderr",
     "output_type": "stream",
     "text": [
      "\r",
      " 98%|██████████████████████████████████████████▎| 60/61 [00:17<00:00,  3.38it/s]"
     ]
    },
    {
     "name": "stdout",
     "output_type": "stream",
     "text": [
      "Subject number: sub-032498\n",
      "[{'loc': array([ 0.02613301,  0.08078401, -0.00400108,  0.        ,  0.        ,\n",
      "        0.        ,         nan,         nan,         nan,         nan,\n",
      "               nan,         nan]), 'unit_mul': 0 (FIFF_UNITM_NONE), 'range': 1.0, 'cal': 1.0, 'kind': 2 (FIFFV_EEG_CH), 'coil_type': 1 (FIFFV_COIL_EEG), 'unit': 107 (FIFF_UNIT_V), 'coord_frame': 4 (FIFFV_COORD_HEAD), 'ch_name': 'Fp2', 'scanno': 1, 'logno': 1}]\n",
      "Creating RawArray with float64 data, n_channels=1, n_times=119977\n",
      "    Range : 0 ... 119976 =      0.000 ...   479.904 secs\n",
      "Ready.\n"
     ]
    },
    {
     "name": "stderr",
     "output_type": "stream",
     "text": [
      "/tmp/ipykernel_336521/1285187122.py:33: RuntimeWarning: Data file name in EEG.data (sub-010291_EC.fdt) is incorrect, the file name must have changed on disk, using the correct file name (sub-032498_EC.fdt).\n",
      "  Subjects[\"prepSignal_EC\"] = mne.io.read_raw_eeglab(\"/workspace/brail_poc3/experiments/Lemon_PreEEGLAB/{}/{}/{}_EC.set\".format(Subjects[\"Subject_Number\"], Subjects[\"Subject_Number\"], Subjects[\"Subject_Number\"]), preload=True, verbose=False)\n",
      "/tmp/ipykernel_336521/1285187122.py:33: RuntimeWarning: Limited 1 annotation(s) that were expanding outside the data range.\n",
      "  Subjects[\"prepSignal_EC\"] = mne.io.read_raw_eeglab(\"/workspace/brail_poc3/experiments/Lemon_PreEEGLAB/{}/{}/{}_EC.set\".format(Subjects[\"Subject_Number\"], Subjects[\"Subject_Number\"], Subjects[\"Subject_Number\"]), preload=True, verbose=False)\n",
      "/tmp/ipykernel_336521/1285187122.py:33: RuntimeWarning: The data contains 'boundary' events, indicating data discontinuities. Be cautious of filtering and epoching around these events.\n",
      "  Subjects[\"prepSignal_EC\"] = mne.io.read_raw_eeglab(\"/workspace/brail_poc3/experiments/Lemon_PreEEGLAB/{}/{}/{}_EC.set\".format(Subjects[\"Subject_Number\"], Subjects[\"Subject_Number\"], Subjects[\"Subject_Number\"]), preload=True, verbose=False)\n"
     ]
    },
    {
     "name": "stdout",
     "output_type": "stream",
     "text": [
      "[{'loc': array([-0.06842334,  0.04987138, -0.00748952,  0.        ,  0.        ,\n",
      "        0.        ,         nan,         nan,         nan,         nan,\n",
      "               nan,         nan]), 'unit_mul': 0 (FIFF_UNITM_NONE), 'range': 1.0, 'cal': 1.0, 'kind': 2 (FIFFV_EEG_CH), 'coil_type': 1 (FIFFV_COIL_EEG), 'unit': 107 (FIFF_UNIT_V), 'coord_frame': 4 (FIFFV_COORD_HEAD), 'ch_name': 'F7', 'scanno': 1, 'logno': 1}]\n",
      "Creating RawArray with float64 data, n_channels=1, n_times=119977\n",
      "    Range : 0 ... 119976 =      0.000 ...   479.904 secs\n",
      "Ready.\n",
      "[{'loc': array([ 0.05927498, -0.03095528,  0.0524714 ,  0.        ,  0.        ,\n",
      "        0.        ,         nan,         nan,         nan,         nan,\n",
      "               nan,         nan]), 'unit_mul': 0 (FIFF_UNITM_NONE), 'range': 1.0, 'cal': 1.0, 'kind': 2 (FIFFV_EEG_CH), 'coil_type': 1 (FIFFV_COIL_EEG), 'unit': 107 (FIFF_UNIT_V), 'coord_frame': 4 (FIFFV_COORD_HEAD), 'ch_name': 'CP4', 'scanno': 1, 'logno': 1}]\n",
      "Creating RawArray with float64 data, n_channels=1, n_times=119977\n",
      "    Range : 0 ... 119976 =      0.000 ...   479.904 secs\n",
      "Ready.\n",
      "[{'loc': array([-0.04970943, -0.06869108, -0.0059589 ,  0.        ,  0.        ,\n",
      "        0.        ,         nan,         nan,         nan,         nan,\n",
      "               nan,         nan]), 'unit_mul': 0 (FIFF_UNITM_NONE), 'range': 1.0, 'cal': 1.0, 'kind': 2 (FIFFV_EEG_CH), 'coil_type': 1 (FIFFV_COIL_EEG), 'unit': 107 (FIFF_UNIT_V), 'coord_frame': 4 (FIFFV_COORD_HEAD), 'ch_name': 'PO7', 'scanno': 1, 'logno': 1}]\n",
      "Creating RawArray with float64 data, n_channels=1, n_times=119977\n",
      "    Range : 0 ... 119976 =      0.000 ...   479.904 secs\n",
      "Ready.\n",
      "Interpolating bad channels\n",
      "    Automatic origin fit: head of radius 85.0 mm\n",
      "Computing interpolation matrix from 57 sensor positions\n",
      "Interpolating 4 sensors\n"
     ]
    },
    {
     "name": "stderr",
     "output_type": "stream",
     "text": [
      "100%|███████████████████████████████████████████| 61/61 [00:17<00:00,  3.40it/s]"
     ]
    },
    {
     "name": "stdout",
     "output_type": "stream",
     "text": [
      "[{'Subject_Number': 'sub-032301', 'prepSignal_EC': <RawEEGLAB | sub-032301_EC.fdt, 61 x 119345 (477.4 s), ~55.6 MB, data loaded>, 'Age': '65-70', 'Age_Number': 65}, {'Subject_Number': 'sub-032303', 'prepSignal_EC': <RawEEGLAB | sub-032303_EC.fdt, 61 x 119278 (477.1 s), ~55.6 MB, data loaded>, 'Age': '65-70', 'Age_Number': 65}, {'Subject_Number': 'sub-032305', 'prepSignal_EC': <RawEEGLAB | sub-032305_EC.fdt, 61 x 116012 (464.0 s), ~54.1 MB, data loaded>, 'Age': '65-70', 'Age_Number': 65}, {'Subject_Number': 'sub-032306', 'prepSignal_EC': <RawEEGLAB | sub-032306_EC.fdt, 61 x 119980 (479.9 s), ~55.9 MB, data loaded>, 'Age': '65-70', 'Age_Number': 65}, {'Subject_Number': 'sub-032308', 'prepSignal_EC': <RawEEGLAB | sub-032308_EC.fdt, 61 x 120000 (480.0 s), ~55.9 MB, data loaded>, 'Age': '60-65', 'Age_Number': 60}, {'Subject_Number': 'sub-032318', 'prepSignal_EC': <RawEEGLAB | sub-032318_EC.fdt, 61 x 114791 (459.2 s), ~53.5 MB, data loaded>, 'Age': '60-65', 'Age_Number': 60}, {'Subject_Number': 'sub-032329', 'prepSignal_EC': <RawEEGLAB | sub-032329_EC.fdt, 61 x 119053 (476.2 s), ~55.5 MB, data loaded>, 'Age': '65-70', 'Age_Number': 65}, {'Subject_Number': 'sub-032331', 'prepSignal_EC': <RawEEGLAB | sub-032331_EC.fdt, 61 x 116710 (466.8 s), ~54.4 MB, data loaded>, 'Age': '70-75', 'Age_Number': 70}, {'Subject_Number': 'sub-032333', 'prepSignal_EC': <RawEEGLAB | sub-032333_EC.fdt, 61 x 118609 (474.4 s), ~55.3 MB, data loaded>, 'Age': '70-75', 'Age_Number': 70}, {'Subject_Number': 'sub-032337', 'prepSignal_EC': <RawEEGLAB | sub-032337_EC.fdt, 61 x 117353 (469.4 s), ~54.7 MB, data loaded>, 'Age': '65-70', 'Age_Number': 65}, {'Subject_Number': 'sub-032338', 'prepSignal_EC': <RawEEGLAB | sub-032338_EC.fdt, 61 x 119196 (476.8 s), ~55.6 MB, data loaded>, 'Age': '65-70', 'Age_Number': 65}, {'Subject_Number': 'sub-032340', 'prepSignal_EC': <RawEEGLAB | sub-032340_EC.fdt, 61 x 119605 (478.4 s), ~55.7 MB, data loaded>, 'Age': '65-70', 'Age_Number': 65}, {'Subject_Number': 'sub-032341', 'prepSignal_EC': <RawEEGLAB | sub-032341_EC.fdt, 61 x 120000 (480.0 s), ~55.9 MB, data loaded>, 'Age': '70-75', 'Age_Number': 70}, {'Subject_Number': 'sub-032343', 'prepSignal_EC': <RawEEGLAB | sub-032343_EC.fdt, 61 x 111045 (444.2 s), ~51.8 MB, data loaded>, 'Age': '65-70', 'Age_Number': 65}, {'Subject_Number': 'sub-032347', 'prepSignal_EC': <RawEEGLAB | sub-032347_EC.fdt, 61 x 118486 (473.9 s), ~55.2 MB, data loaded>, 'Age': '75-80', 'Age_Number': 75}, {'Subject_Number': 'sub-032369', 'prepSignal_EC': <RawEEGLAB | sub-032369_EC.fdt, 61 x 119632 (478.5 s), ~55.8 MB, data loaded>, 'Age': '60-65', 'Age_Number': 60}, {'Subject_Number': 'sub-032372', 'prepSignal_EC': <RawEEGLAB | sub-032372_EC.fdt, 61 x 119111 (476.4 s), ~55.5 MB, data loaded>, 'Age': '70-75', 'Age_Number': 70}, {'Subject_Number': 'sub-032373', 'prepSignal_EC': <RawEEGLAB | sub-032373_EC.fdt, 61 x 112276 (449.1 s), ~52.3 MB, data loaded>, 'Age': '65-70', 'Age_Number': 65}, {'Subject_Number': 'sub-032375', 'prepSignal_EC': <RawEEGLAB | sub-032375_EC.fdt, 61 x 118594 (474.4 s), ~55.3 MB, data loaded>, 'Age': '65-70', 'Age_Number': 65}, {'Subject_Number': 'sub-032376', 'prepSignal_EC': <RawEEGLAB | sub-032376_EC.fdt, 61 x 109711 (438.8 s), ~51.1 MB, data loaded>, 'Age': '60-65', 'Age_Number': 60}, {'Subject_Number': 'sub-032377', 'prepSignal_EC': <RawEEGLAB | sub-032377_EC.fdt, 61 x 119974 (479.9 s), ~55.9 MB, data loaded>, 'Age': '65-70', 'Age_Number': 65}, {'Subject_Number': 'sub-032378', 'prepSignal_EC': <RawEEGLAB | sub-032378_EC.fdt, 61 x 119977 (479.9 s), ~55.9 MB, data loaded>, 'Age': '55-60', 'Age_Number': 55}, {'Subject_Number': 'sub-032379', 'prepSignal_EC': <RawEEGLAB | sub-032379_EC.fdt, 61 x 114922 (459.7 s), ~53.6 MB, data loaded>, 'Age': '70-75', 'Age_Number': 70}, {'Subject_Number': 'sub-032380', 'prepSignal_EC': <RawEEGLAB | sub-032380_EC.fdt, 61 x 119857 (479.4 s), ~55.9 MB, data loaded>, 'Age': '70-75', 'Age_Number': 70}, {'Subject_Number': 'sub-032383', 'prepSignal_EC': <RawEEGLAB | sub-032383_EC.fdt, 61 x 119159 (476.6 s), ~55.5 MB, data loaded>, 'Age': '60-65', 'Age_Number': 60}, {'Subject_Number': 'sub-032392', 'prepSignal_EC': <RawEEGLAB | sub-032392_EC.fdt, 61 x 119941 (479.8 s), ~55.9 MB, data loaded>, 'Age': '65-70', 'Age_Number': 65}, {'Subject_Number': 'sub-032393', 'prepSignal_EC': <RawEEGLAB | sub-032393_EC.fdt, 61 x 119863 (479.4 s), ~55.9 MB, data loaded>, 'Age': '60-65', 'Age_Number': 60}, {'Subject_Number': 'sub-032395', 'prepSignal_EC': <RawEEGLAB | sub-032395_EC.fdt, 61 x 120000 (480.0 s), ~55.9 MB, data loaded>, 'Age': '60-65', 'Age_Number': 60}, {'Subject_Number': 'sub-032428', 'prepSignal_EC': <RawEEGLAB | sub-032428_EC.fdt, 61 x 112815 (451.3 s), ~52.6 MB, data loaded>, 'Age': '70-75', 'Age_Number': 70}, {'Subject_Number': 'sub-032430', 'prepSignal_EC': <RawEEGLAB | sub-032430_EC.fdt, 61 x 118765 (475.1 s), ~55.4 MB, data loaded>, 'Age': '65-70', 'Age_Number': 65}, {'Subject_Number': 'sub-032431', 'prepSignal_EC': <RawEEGLAB | sub-032431_EC.fdt, 61 x 120000 (480.0 s), ~55.9 MB, data loaded>, 'Age': '70-75', 'Age_Number': 70}, {'Subject_Number': 'sub-032442', 'prepSignal_EC': <RawEEGLAB | sub-032442_EC.fdt, 61 x 117382 (469.5 s), ~54.7 MB, data loaded>, 'Age': '70-75', 'Age_Number': 70}, {'Subject_Number': 'sub-032447', 'prepSignal_EC': <RawEEGLAB | sub-032447_EC.fdt, 61 x 119366 (477.5 s), ~55.6 MB, data loaded>, 'Age': '60-65', 'Age_Number': 60}, {'Subject_Number': 'sub-032450', 'prepSignal_EC': <RawEEGLAB | sub-032450_EC.fdt, 61 x 119238 (476.9 s), ~55.6 MB, data loaded>, 'Age': '60-65', 'Age_Number': 60}, {'Subject_Number': 'sub-032451', 'prepSignal_EC': <RawEEGLAB | sub-032451_EC.fdt, 61 x 119739 (479.0 s), ~55.8 MB, data loaded>, 'Age': '75-80', 'Age_Number': 75}, {'Subject_Number': 'sub-032452', 'prepSignal_EC': <RawEEGLAB | sub-032452_EC.fdt, 61 x 120000 (480.0 s), ~55.9 MB, data loaded>, 'Age': '70-75', 'Age_Number': 70}, {'Subject_Number': 'sub-032453', 'prepSignal_EC': <RawEEGLAB | sub-032453_EC.fdt, 61 x 117236 (468.9 s), ~54.6 MB, data loaded>, 'Age': '70-75', 'Age_Number': 70}, {'Subject_Number': 'sub-032454', 'prepSignal_EC': <RawEEGLAB | sub-032454_EC.fdt, 61 x 120000 (480.0 s), ~55.9 MB, data loaded>, 'Age': '60-65', 'Age_Number': 60}, {'Subject_Number': 'sub-032455', 'prepSignal_EC': <RawEEGLAB | sub-032455_EC.fdt, 61 x 120000 (480.0 s), ~55.9 MB, data loaded>, 'Age': '70-75', 'Age_Number': 70}, {'Subject_Number': 'sub-032456', 'prepSignal_EC': <RawEEGLAB | sub-032456_EC.fdt, 61 x 120000 (480.0 s), ~55.9 MB, data loaded>, 'Age': '65-70', 'Age_Number': 65}, {'Subject_Number': 'sub-032457', 'prepSignal_EC': <RawEEGLAB | sub-032457_EC.fdt, 61 x 119563 (478.2 s), ~55.7 MB, data loaded>, 'Age': '70-75', 'Age_Number': 70}, {'Subject_Number': 'sub-032458', 'prepSignal_EC': <RawEEGLAB | sub-032458_EC.fdt, 61 x 119075 (476.3 s), ~55.5 MB, data loaded>, 'Age': '65-70', 'Age_Number': 65}, {'Subject_Number': 'sub-032459', 'prepSignal_EC': <RawEEGLAB | sub-032459_EC.fdt, 61 x 120000 (480.0 s), ~55.9 MB, data loaded>, 'Age': '70-75', 'Age_Number': 70}, {'Subject_Number': 'sub-032462', 'prepSignal_EC': <RawEEGLAB | sub-032462_EC.fdt, 61 x 118295 (473.2 s), ~55.1 MB, data loaded>, 'Age': '65-70', 'Age_Number': 65}, {'Subject_Number': 'sub-032463', 'prepSignal_EC': <RawEEGLAB | sub-032463_EC.fdt, 61 x 119371 (477.5 s), ~55.6 MB, data loaded>, 'Age': '55-60', 'Age_Number': 55}, {'Subject_Number': 'sub-032465', 'prepSignal_EC': <RawEEGLAB | sub-032465_EC.fdt, 61 x 119298 (477.2 s), ~55.6 MB, data loaded>, 'Age': '60-65', 'Age_Number': 60}, {'Subject_Number': 'sub-032466', 'prepSignal_EC': <RawEEGLAB | sub-032466_EC.fdt, 61 x 118717 (474.9 s), ~55.3 MB, data loaded>, 'Age': '60-65', 'Age_Number': 60}, {'Subject_Number': 'sub-032474', 'prepSignal_EC': <RawEEGLAB | sub-032474_EC.fdt, 61 x 119609 (478.4 s), ~55.7 MB, data loaded>, 'Age': '70-75', 'Age_Number': 70}, {'Subject_Number': 'sub-032475', 'prepSignal_EC': <RawEEGLAB | sub-032475_EC.fdt, 61 x 118979 (475.9 s), ~55.5 MB, data loaded>, 'Age': '65-70', 'Age_Number': 65}, {'Subject_Number': 'sub-032479', 'prepSignal_EC': <RawEEGLAB | sub-032479_EC.fdt, 61 x 116003 (464.0 s), ~54.1 MB, data loaded>, 'Age': '65-70', 'Age_Number': 65}, {'Subject_Number': 'sub-032482', 'prepSignal_EC': <RawEEGLAB | sub-032482_EC.fdt, 61 x 119939 (479.8 s), ~55.9 MB, data loaded>, 'Age': '55-60', 'Age_Number': 55}, {'Subject_Number': 'sub-032483', 'prepSignal_EC': <RawEEGLAB | sub-032483_EC.fdt, 61 x 47624 (476.2 s), ~22.2 MB, data loaded>, 'Age': '60-65', 'Age_Number': 60}, {'Subject_Number': 'sub-032484', 'prepSignal_EC': <RawEEGLAB | sub-032484_EC.fdt, 61 x 47815 (478.1 s), ~22.3 MB, data loaded>, 'Age': '70-75', 'Age_Number': 70}, {'Subject_Number': 'sub-032490', 'prepSignal_EC': <RawEEGLAB | sub-032490_EC.fdt, 61 x 119331 (477.3 s), ~55.6 MB, data loaded>, 'Age': '70-75', 'Age_Number': 70}, {'Subject_Number': 'sub-032491', 'prepSignal_EC': <RawEEGLAB | sub-032491_EC.fdt, 61 x 119165 (476.7 s), ~55.5 MB, data loaded>, 'Age': '70-75', 'Age_Number': 70}, {'Subject_Number': 'sub-032493', 'prepSignal_EC': <RawEEGLAB | sub-032493_EC.fdt, 61 x 118682 (474.7 s), ~55.3 MB, data loaded>, 'Age': '65-70', 'Age_Number': 65}, {'Subject_Number': 'sub-032494', 'prepSignal_EC': <RawEEGLAB | sub-032494_EC.fdt, 61 x 118876 (475.5 s), ~55.4 MB, data loaded>, 'Age': '65-70', 'Age_Number': 65}, {'Subject_Number': 'sub-032495', 'prepSignal_EC': <RawEEGLAB | sub-032495_EC.fdt, 61 x 116116 (464.5 s), ~54.1 MB, data loaded>, 'Age': '70-75', 'Age_Number': 70}, {'Subject_Number': 'sub-032496', 'prepSignal_EC': <RawEEGLAB | sub-032496_EC.fdt, 61 x 120000 (480.0 s), ~55.9 MB, data loaded>, 'Age': '60-65', 'Age_Number': 60}, {'Subject_Number': 'sub-032497', 'prepSignal_EC': <RawEEGLAB | sub-032497_EC.fdt, 61 x 119498 (478.0 s), ~55.7 MB, data loaded>, 'Age': '60-65', 'Age_Number': 60}, {'Subject_Number': 'sub-032498', 'prepSignal_EC': <RawEEGLAB | sub-032498_EC.fdt, 61 x 119977 (479.9 s), ~55.9 MB, data loaded>, 'Age': '65-70', 'Age_Number': 65}]\n"
     ]
    },
    {
     "name": "stderr",
     "output_type": "stream",
     "text": [
      "\n"
     ]
    }
   ],
   "source": [
    "# Read file in dict\n",
    "print(\"------------------------------------------------\")\n",
    "print(\"Read file in dict\")\n",
    "EEG = ReadFile()\n",
    "print(EEG)"
   ]
  },
  {
   "cell_type": "code",
   "execution_count": 7,
   "id": "e92f7ead",
   "metadata": {},
   "outputs": [
    {
     "name": "stdout",
     "output_type": "stream",
     "text": [
      "------------------------------------------------\n",
      "Splite EEG to epoches\n"
     ]
    },
    {
     "name": "stderr",
     "output_type": "stream",
     "text": [
      "100%|███████████████████████████████████████████| 61/61 [00:01<00:00, 36.99it/s]\n"
     ]
    }
   ],
   "source": [
    "print(\"------------------------------------------------\")\n",
    "print(\"Splite EEG to epoches\")\n",
    "EEG_epoches = []\n",
    "for i in tqdm(range(len(EEG))):\n",
    "    EEG_epoches.append(splitEEG(EEG[i]['prepSignal_EC']))"
   ]
  },
  {
   "cell_type": "code",
   "execution_count": 9,
   "id": "dbbae08d",
   "metadata": {},
   "outputs": [
    {
     "data": {
      "text/plain": [
       "61"
      ]
     },
     "execution_count": 9,
     "metadata": {},
     "output_type": "execute_result"
    }
   ],
   "source": [
    "len(EEG)"
   ]
  },
  {
   "cell_type": "code",
   "execution_count": 22,
   "id": "83674ed2",
   "metadata": {},
   "outputs": [
    {
     "data": {
      "text/plain": [
       "(61, 119345)"
      ]
     },
     "execution_count": 22,
     "metadata": {},
     "output_type": "execute_result"
    }
   ],
   "source": [
    "EEG[0]['prepSignal_EC'].get_data().shape"
   ]
  },
  {
   "cell_type": "code",
   "execution_count": null,
   "id": "0dcd097f",
   "metadata": {},
   "outputs": [],
   "source": []
  },
  {
   "cell_type": "code",
   "execution_count": null,
   "id": "55359a1b",
   "metadata": {},
   "outputs": [],
   "source": []
  },
  {
   "cell_type": "code",
   "execution_count": 53,
   "id": "bc8ded0f",
   "metadata": {
    "scrolled": true
   },
   "outputs": [
    {
     "name": "stdout",
     "output_type": "stream",
     "text": [
      "------------------------------------------------\n",
      "Calculate EEG functional connectivity\n"
     ]
    },
    {
     "name": "stderr",
     "output_type": "stream",
     "text": [
      "\r",
      "  0%|                                                    | 0/61 [00:00<?, ?it/s]"
     ]
    },
    {
     "name": "stdout",
     "output_type": "stream",
     "text": [
      "Using data from preloaded Raw for 265 events and 501 original time points ...\n",
      "(265, 61, 501)\n",
      "([0, 0, 0, 0, 0, 0, 0, 0, 0, 0, 0, 0, 0, 0, 0, 0, 0, 0, 0, 0, 0, 0, 0, 0, 0, 0, 0, 0, 0, 0, 0, 0, 0, 0, 0, 0, 0, 0, 0, 0, 0, 0, 0, 0, 0, 0, 0, 0, 0, 0, 0, 0, 0, 0, 0, 0, 0, 0, 0, 0], [1, 2, 3, 4, 5, 6, 7, 8, 9, 10, 11, 12, 13, 14, 15, 16, 17, 18, 19, 20, 21, 22, 23, 24, 25, 26, 27, 28, 29, 30, 31, 32, 33, 34, 35, 36, 37, 38, 39, 40, 41, 42, 43, 44, 45, 46, 47, 48, 49, 50, 51, 52, 53, 54, 55, 56, 57, 58, 59, 60])\n",
      "([1, 1, 1, 1, 1, 1, 1, 1, 1, 1, 1, 1, 1, 1, 1, 1, 1, 1, 1, 1, 1, 1, 1, 1, 1, 1, 1, 1, 1, 1, 1, 1, 1, 1, 1, 1, 1, 1, 1, 1, 1, 1, 1, 1, 1, 1, 1, 1, 1, 1, 1, 1, 1, 1, 1, 1, 1, 1, 1, 1], [0, 2, 3, 4, 5, 6, 7, 8, 9, 10, 11, 12, 13, 14, 15, 16, 17, 18, 19, 20, 21, 22, 23, 24, 25, 26, 27, 28, 29, 30, 31, 32, 33, 34, 35, 36, 37, 38, 39, 40, 41, 42, 43, 44, 45, 46, 47, 48, 49, 50, 51, 52, 53, 54, 55, 56, 57, 58, 59, 60])\n",
      "([2, 2, 2, 2, 2, 2, 2, 2, 2, 2, 2, 2, 2, 2, 2, 2, 2, 2, 2, 2, 2, 2, 2, 2, 2, 2, 2, 2, 2, 2, 2, 2, 2, 2, 2, 2, 2, 2, 2, 2, 2, 2, 2, 2, 2, 2, 2, 2, 2, 2, 2, 2, 2, 2, 2, 2, 2, 2, 2, 2], [0, 1, 3, 4, 5, 6, 7, 8, 9, 10, 11, 12, 13, 14, 15, 16, 17, 18, 19, 20, 21, 22, 23, 24, 25, 26, 27, 28, 29, 30, 31, 32, 33, 34, 35, 36, 37, 38, 39, 40, 41, 42, 43, 44, 45, 46, 47, 48, 49, 50, 51, 52, 53, 54, 55, 56, 57, 58, 59, 60])\n",
      "([3, 3, 3, 3, 3, 3, 3, 3, 3, 3, 3, 3, 3, 3, 3, 3, 3, 3, 3, 3, 3, 3, 3, 3, 3, 3, 3, 3, 3, 3, 3, 3, 3, 3, 3, 3, 3, 3, 3, 3, 3, 3, 3, 3, 3, 3, 3, 3, 3, 3, 3, 3, 3, 3, 3, 3, 3, 3, 3, 3], [0, 1, 2, 4, 5, 6, 7, 8, 9, 10, 11, 12, 13, 14, 15, 16, 17, 18, 19, 20, 21, 22, 23, 24, 25, 26, 27, 28, 29, 30, 31, 32, 33, 34, 35, 36, 37, 38, 39, 40, 41, 42, 43, 44, 45, 46, 47, 48, 49, 50, 51, 52, 53, 54, 55, 56, 57, 58, 59, 60])\n",
      "([4, 4, 4, 4, 4, 4, 4, 4, 4, 4, 4, 4, 4, 4, 4, 4, 4, 4, 4, 4, 4, 4, 4, 4, 4, 4, 4, 4, 4, 4, 4, 4, 4, 4, 4, 4, 4, 4, 4, 4, 4, 4, 4, 4, 4, 4, 4, 4, 4, 4, 4, 4, 4, 4, 4, 4, 4, 4, 4, 4], [0, 1, 2, 3, 5, 6, 7, 8, 9, 10, 11, 12, 13, 14, 15, 16, 17, 18, 19, 20, 21, 22, 23, 24, 25, 26, 27, 28, 29, 30, 31, 32, 33, 34, 35, 36, 37, 38, 39, 40, 41, 42, 43, 44, 45, 46, 47, 48, 49, 50, 51, 52, 53, 54, 55, 56, 57, 58, 59, 60])\n",
      "([5, 5, 5, 5, 5, 5, 5, 5, 5, 5, 5, 5, 5, 5, 5, 5, 5, 5, 5, 5, 5, 5, 5, 5, 5, 5, 5, 5, 5, 5, 5, 5, 5, 5, 5, 5, 5, 5, 5, 5, 5, 5, 5, 5, 5, 5, 5, 5, 5, 5, 5, 5, 5, 5, 5, 5, 5, 5, 5, 5], [0, 1, 2, 3, 4, 6, 7, 8, 9, 10, 11, 12, 13, 14, 15, 16, 17, 18, 19, 20, 21, 22, 23, 24, 25, 26, 27, 28, 29, 30, 31, 32, 33, 34, 35, 36, 37, 38, 39, 40, 41, 42, 43, 44, 45, 46, 47, 48, 49, 50, 51, 52, 53, 54, 55, 56, 57, 58, 59, 60])\n",
      "([6, 6, 6, 6, 6, 6, 6, 6, 6, 6, 6, 6, 6, 6, 6, 6, 6, 6, 6, 6, 6, 6, 6, 6, 6, 6, 6, 6, 6, 6, 6, 6, 6, 6, 6, 6, 6, 6, 6, 6, 6, 6, 6, 6, 6, 6, 6, 6, 6, 6, 6, 6, 6, 6, 6, 6, 6, 6, 6, 6], [0, 1, 2, 3, 4, 5, 7, 8, 9, 10, 11, 12, 13, 14, 15, 16, 17, 18, 19, 20, 21, 22, 23, 24, 25, 26, 27, 28, 29, 30, 31, 32, 33, 34, 35, 36, 37, 38, 39, 40, 41, 42, 43, 44, 45, 46, 47, 48, 49, 50, 51, 52, 53, 54, 55, 56, 57, 58, 59, 60])\n",
      "([7, 7, 7, 7, 7, 7, 7, 7, 7, 7, 7, 7, 7, 7, 7, 7, 7, 7, 7, 7, 7, 7, 7, 7, 7, 7, 7, 7, 7, 7, 7, 7, 7, 7, 7, 7, 7, 7, 7, 7, 7, 7, 7, 7, 7, 7, 7, 7, 7, 7, 7, 7, 7, 7, 7, 7, 7, 7, 7, 7], [0, 1, 2, 3, 4, 5, 6, 8, 9, 10, 11, 12, 13, 14, 15, 16, 17, 18, 19, 20, 21, 22, 23, 24, 25, 26, 27, 28, 29, 30, 31, 32, 33, 34, 35, 36, 37, 38, 39, 40, 41, 42, 43, 44, 45, 46, 47, 48, 49, 50, 51, 52, 53, 54, 55, 56, 57, 58, 59, 60])\n",
      "([8, 8, 8, 8, 8, 8, 8, 8, 8, 8, 8, 8, 8, 8, 8, 8, 8, 8, 8, 8, 8, 8, 8, 8, 8, 8, 8, 8, 8, 8, 8, 8, 8, 8, 8, 8, 8, 8, 8, 8, 8, 8, 8, 8, 8, 8, 8, 8, 8, 8, 8, 8, 8, 8, 8, 8, 8, 8, 8, 8], [0, 1, 2, 3, 4, 5, 6, 7, 9, 10, 11, 12, 13, 14, 15, 16, 17, 18, 19, 20, 21, 22, 23, 24, 25, 26, 27, 28, 29, 30, 31, 32, 33, 34, 35, 36, 37, 38, 39, 40, 41, 42, 43, 44, 45, 46, 47, 48, 49, 50, 51, 52, 53, 54, 55, 56, 57, 58, 59, 60])\n",
      "([9, 9, 9, 9, 9, 9, 9, 9, 9, 9, 9, 9, 9, 9, 9, 9, 9, 9, 9, 9, 9, 9, 9, 9, 9, 9, 9, 9, 9, 9, 9, 9, 9, 9, 9, 9, 9, 9, 9, 9, 9, 9, 9, 9, 9, 9, 9, 9, 9, 9, 9, 9, 9, 9, 9, 9, 9, 9, 9, 9], [0, 1, 2, 3, 4, 5, 6, 7, 8, 10, 11, 12, 13, 14, 15, 16, 17, 18, 19, 20, 21, 22, 23, 24, 25, 26, 27, 28, 29, 30, 31, 32, 33, 34, 35, 36, 37, 38, 39, 40, 41, 42, 43, 44, 45, 46, 47, 48, 49, 50, 51, 52, 53, 54, 55, 56, 57, 58, 59, 60])\n",
      "([10, 10, 10, 10, 10, 10, 10, 10, 10, 10, 10, 10, 10, 10, 10, 10, 10, 10, 10, 10, 10, 10, 10, 10, 10, 10, 10, 10, 10, 10, 10, 10, 10, 10, 10, 10, 10, 10, 10, 10, 10, 10, 10, 10, 10, 10, 10, 10, 10, 10, 10, 10, 10, 10, 10, 10, 10, 10, 10, 10], [0, 1, 2, 3, 4, 5, 6, 7, 8, 9, 11, 12, 13, 14, 15, 16, 17, 18, 19, 20, 21, 22, 23, 24, 25, 26, 27, 28, 29, 30, 31, 32, 33, 34, 35, 36, 37, 38, 39, 40, 41, 42, 43, 44, 45, 46, 47, 48, 49, 50, 51, 52, 53, 54, 55, 56, 57, 58, 59, 60])\n",
      "([11, 11, 11, 11, 11, 11, 11, 11, 11, 11, 11, 11, 11, 11, 11, 11, 11, 11, 11, 11, 11, 11, 11, 11, 11, 11, 11, 11, 11, 11, 11, 11, 11, 11, 11, 11, 11, 11, 11, 11, 11, 11, 11, 11, 11, 11, 11, 11, 11, 11, 11, 11, 11, 11, 11, 11, 11, 11, 11, 11], [0, 1, 2, 3, 4, 5, 6, 7, 8, 9, 10, 12, 13, 14, 15, 16, 17, 18, 19, 20, 21, 22, 23, 24, 25, 26, 27, 28, 29, 30, 31, 32, 33, 34, 35, 36, 37, 38, 39, 40, 41, 42, 43, 44, 45, 46, 47, 48, 49, 50, 51, 52, 53, 54, 55, 56, 57, 58, 59, 60])\n",
      "([12, 12, 12, 12, 12, 12, 12, 12, 12, 12, 12, 12, 12, 12, 12, 12, 12, 12, 12, 12, 12, 12, 12, 12, 12, 12, 12, 12, 12, 12, 12, 12, 12, 12, 12, 12, 12, 12, 12, 12, 12, 12, 12, 12, 12, 12, 12, 12, 12, 12, 12, 12, 12, 12, 12, 12, 12, 12, 12, 12], [0, 1, 2, 3, 4, 5, 6, 7, 8, 9, 10, 11, 13, 14, 15, 16, 17, 18, 19, 20, 21, 22, 23, 24, 25, 26, 27, 28, 29, 30, 31, 32, 33, 34, 35, 36, 37, 38, 39, 40, 41, 42, 43, 44, 45, 46, 47, 48, 49, 50, 51, 52, 53, 54, 55, 56, 57, 58, 59, 60])\n",
      "([13, 13, 13, 13, 13, 13, 13, 13, 13, 13, 13, 13, 13, 13, 13, 13, 13, 13, 13, 13, 13, 13, 13, 13, 13, 13, 13, 13, 13, 13, 13, 13, 13, 13, 13, 13, 13, 13, 13, 13, 13, 13, 13, 13, 13, 13, 13, 13, 13, 13, 13, 13, 13, 13, 13, 13, 13, 13, 13, 13], [0, 1, 2, 3, 4, 5, 6, 7, 8, 9, 10, 11, 12, 14, 15, 16, 17, 18, 19, 20, 21, 22, 23, 24, 25, 26, 27, 28, 29, 30, 31, 32, 33, 34, 35, 36, 37, 38, 39, 40, 41, 42, 43, 44, 45, 46, 47, 48, 49, 50, 51, 52, 53, 54, 55, 56, 57, 58, 59, 60])\n",
      "([14, 14, 14, 14, 14, 14, 14, 14, 14, 14, 14, 14, 14, 14, 14, 14, 14, 14, 14, 14, 14, 14, 14, 14, 14, 14, 14, 14, 14, 14, 14, 14, 14, 14, 14, 14, 14, 14, 14, 14, 14, 14, 14, 14, 14, 14, 14, 14, 14, 14, 14, 14, 14, 14, 14, 14, 14, 14, 14, 14], [0, 1, 2, 3, 4, 5, 6, 7, 8, 9, 10, 11, 12, 13, 15, 16, 17, 18, 19, 20, 21, 22, 23, 24, 25, 26, 27, 28, 29, 30, 31, 32, 33, 34, 35, 36, 37, 38, 39, 40, 41, 42, 43, 44, 45, 46, 47, 48, 49, 50, 51, 52, 53, 54, 55, 56, 57, 58, 59, 60])\n",
      "([15, 15, 15, 15, 15, 15, 15, 15, 15, 15, 15, 15, 15, 15, 15, 15, 15, 15, 15, 15, 15, 15, 15, 15, 15, 15, 15, 15, 15, 15, 15, 15, 15, 15, 15, 15, 15, 15, 15, 15, 15, 15, 15, 15, 15, 15, 15, 15, 15, 15, 15, 15, 15, 15, 15, 15, 15, 15, 15, 15], [0, 1, 2, 3, 4, 5, 6, 7, 8, 9, 10, 11, 12, 13, 14, 16, 17, 18, 19, 20, 21, 22, 23, 24, 25, 26, 27, 28, 29, 30, 31, 32, 33, 34, 35, 36, 37, 38, 39, 40, 41, 42, 43, 44, 45, 46, 47, 48, 49, 50, 51, 52, 53, 54, 55, 56, 57, 58, 59, 60])\n",
      "([16, 16, 16, 16, 16, 16, 16, 16, 16, 16, 16, 16, 16, 16, 16, 16, 16, 16, 16, 16, 16, 16, 16, 16, 16, 16, 16, 16, 16, 16, 16, 16, 16, 16, 16, 16, 16, 16, 16, 16, 16, 16, 16, 16, 16, 16, 16, 16, 16, 16, 16, 16, 16, 16, 16, 16, 16, 16, 16, 16], [0, 1, 2, 3, 4, 5, 6, 7, 8, 9, 10, 11, 12, 13, 14, 15, 17, 18, 19, 20, 21, 22, 23, 24, 25, 26, 27, 28, 29, 30, 31, 32, 33, 34, 35, 36, 37, 38, 39, 40, 41, 42, 43, 44, 45, 46, 47, 48, 49, 50, 51, 52, 53, 54, 55, 56, 57, 58, 59, 60])\n",
      "([17, 17, 17, 17, 17, 17, 17, 17, 17, 17, 17, 17, 17, 17, 17, 17, 17, 17, 17, 17, 17, 17, 17, 17, 17, 17, 17, 17, 17, 17, 17, 17, 17, 17, 17, 17, 17, 17, 17, 17, 17, 17, 17, 17, 17, 17, 17, 17, 17, 17, 17, 17, 17, 17, 17, 17, 17, 17, 17, 17], [0, 1, 2, 3, 4, 5, 6, 7, 8, 9, 10, 11, 12, 13, 14, 15, 16, 18, 19, 20, 21, 22, 23, 24, 25, 26, 27, 28, 29, 30, 31, 32, 33, 34, 35, 36, 37, 38, 39, 40, 41, 42, 43, 44, 45, 46, 47, 48, 49, 50, 51, 52, 53, 54, 55, 56, 57, 58, 59, 60])\n",
      "([18, 18, 18, 18, 18, 18, 18, 18, 18, 18, 18, 18, 18, 18, 18, 18, 18, 18, 18, 18, 18, 18, 18, 18, 18, 18, 18, 18, 18, 18, 18, 18, 18, 18, 18, 18, 18, 18, 18, 18, 18, 18, 18, 18, 18, 18, 18, 18, 18, 18, 18, 18, 18, 18, 18, 18, 18, 18, 18, 18], [0, 1, 2, 3, 4, 5, 6, 7, 8, 9, 10, 11, 12, 13, 14, 15, 16, 17, 19, 20, 21, 22, 23, 24, 25, 26, 27, 28, 29, 30, 31, 32, 33, 34, 35, 36, 37, 38, 39, 40, 41, 42, 43, 44, 45, 46, 47, 48, 49, 50, 51, 52, 53, 54, 55, 56, 57, 58, 59, 60])\n"
     ]
    },
    {
     "name": "stdout",
     "output_type": "stream",
     "text": [
      "([19, 19, 19, 19, 19, 19, 19, 19, 19, 19, 19, 19, 19, 19, 19, 19, 19, 19, 19, 19, 19, 19, 19, 19, 19, 19, 19, 19, 19, 19, 19, 19, 19, 19, 19, 19, 19, 19, 19, 19, 19, 19, 19, 19, 19, 19, 19, 19, 19, 19, 19, 19, 19, 19, 19, 19, 19, 19, 19, 19], [0, 1, 2, 3, 4, 5, 6, 7, 8, 9, 10, 11, 12, 13, 14, 15, 16, 17, 18, 20, 21, 22, 23, 24, 25, 26, 27, 28, 29, 30, 31, 32, 33, 34, 35, 36, 37, 38, 39, 40, 41, 42, 43, 44, 45, 46, 47, 48, 49, 50, 51, 52, 53, 54, 55, 56, 57, 58, 59, 60])\n",
      "([20, 20, 20, 20, 20, 20, 20, 20, 20, 20, 20, 20, 20, 20, 20, 20, 20, 20, 20, 20, 20, 20, 20, 20, 20, 20, 20, 20, 20, 20, 20, 20, 20, 20, 20, 20, 20, 20, 20, 20, 20, 20, 20, 20, 20, 20, 20, 20, 20, 20, 20, 20, 20, 20, 20, 20, 20, 20, 20, 20], [0, 1, 2, 3, 4, 5, 6, 7, 8, 9, 10, 11, 12, 13, 14, 15, 16, 17, 18, 19, 21, 22, 23, 24, 25, 26, 27, 28, 29, 30, 31, 32, 33, 34, 35, 36, 37, 38, 39, 40, 41, 42, 43, 44, 45, 46, 47, 48, 49, 50, 51, 52, 53, 54, 55, 56, 57, 58, 59, 60])\n",
      "([21, 21, 21, 21, 21, 21, 21, 21, 21, 21, 21, 21, 21, 21, 21, 21, 21, 21, 21, 21, 21, 21, 21, 21, 21, 21, 21, 21, 21, 21, 21, 21, 21, 21, 21, 21, 21, 21, 21, 21, 21, 21, 21, 21, 21, 21, 21, 21, 21, 21, 21, 21, 21, 21, 21, 21, 21, 21, 21, 21], [0, 1, 2, 3, 4, 5, 6, 7, 8, 9, 10, 11, 12, 13, 14, 15, 16, 17, 18, 19, 20, 22, 23, 24, 25, 26, 27, 28, 29, 30, 31, 32, 33, 34, 35, 36, 37, 38, 39, 40, 41, 42, 43, 44, 45, 46, 47, 48, 49, 50, 51, 52, 53, 54, 55, 56, 57, 58, 59, 60])\n",
      "([22, 22, 22, 22, 22, 22, 22, 22, 22, 22, 22, 22, 22, 22, 22, 22, 22, 22, 22, 22, 22, 22, 22, 22, 22, 22, 22, 22, 22, 22, 22, 22, 22, 22, 22, 22, 22, 22, 22, 22, 22, 22, 22, 22, 22, 22, 22, 22, 22, 22, 22, 22, 22, 22, 22, 22, 22, 22, 22, 22], [0, 1, 2, 3, 4, 5, 6, 7, 8, 9, 10, 11, 12, 13, 14, 15, 16, 17, 18, 19, 20, 21, 23, 24, 25, 26, 27, 28, 29, 30, 31, 32, 33, 34, 35, 36, 37, 38, 39, 40, 41, 42, 43, 44, 45, 46, 47, 48, 49, 50, 51, 52, 53, 54, 55, 56, 57, 58, 59, 60])\n",
      "([23, 23, 23, 23, 23, 23, 23, 23, 23, 23, 23, 23, 23, 23, 23, 23, 23, 23, 23, 23, 23, 23, 23, 23, 23, 23, 23, 23, 23, 23, 23, 23, 23, 23, 23, 23, 23, 23, 23, 23, 23, 23, 23, 23, 23, 23, 23, 23, 23, 23, 23, 23, 23, 23, 23, 23, 23, 23, 23, 23], [0, 1, 2, 3, 4, 5, 6, 7, 8, 9, 10, 11, 12, 13, 14, 15, 16, 17, 18, 19, 20, 21, 22, 24, 25, 26, 27, 28, 29, 30, 31, 32, 33, 34, 35, 36, 37, 38, 39, 40, 41, 42, 43, 44, 45, 46, 47, 48, 49, 50, 51, 52, 53, 54, 55, 56, 57, 58, 59, 60])\n",
      "([24, 24, 24, 24, 24, 24, 24, 24, 24, 24, 24, 24, 24, 24, 24, 24, 24, 24, 24, 24, 24, 24, 24, 24, 24, 24, 24, 24, 24, 24, 24, 24, 24, 24, 24, 24, 24, 24, 24, 24, 24, 24, 24, 24, 24, 24, 24, 24, 24, 24, 24, 24, 24, 24, 24, 24, 24, 24, 24, 24], [0, 1, 2, 3, 4, 5, 6, 7, 8, 9, 10, 11, 12, 13, 14, 15, 16, 17, 18, 19, 20, 21, 22, 23, 25, 26, 27, 28, 29, 30, 31, 32, 33, 34, 35, 36, 37, 38, 39, 40, 41, 42, 43, 44, 45, 46, 47, 48, 49, 50, 51, 52, 53, 54, 55, 56, 57, 58, 59, 60])\n",
      "([25, 25, 25, 25, 25, 25, 25, 25, 25, 25, 25, 25, 25, 25, 25, 25, 25, 25, 25, 25, 25, 25, 25, 25, 25, 25, 25, 25, 25, 25, 25, 25, 25, 25, 25, 25, 25, 25, 25, 25, 25, 25, 25, 25, 25, 25, 25, 25, 25, 25, 25, 25, 25, 25, 25, 25, 25, 25, 25, 25], [0, 1, 2, 3, 4, 5, 6, 7, 8, 9, 10, 11, 12, 13, 14, 15, 16, 17, 18, 19, 20, 21, 22, 23, 24, 26, 27, 28, 29, 30, 31, 32, 33, 34, 35, 36, 37, 38, 39, 40, 41, 42, 43, 44, 45, 46, 47, 48, 49, 50, 51, 52, 53, 54, 55, 56, 57, 58, 59, 60])\n",
      "([26, 26, 26, 26, 26, 26, 26, 26, 26, 26, 26, 26, 26, 26, 26, 26, 26, 26, 26, 26, 26, 26, 26, 26, 26, 26, 26, 26, 26, 26, 26, 26, 26, 26, 26, 26, 26, 26, 26, 26, 26, 26, 26, 26, 26, 26, 26, 26, 26, 26, 26, 26, 26, 26, 26, 26, 26, 26, 26, 26], [0, 1, 2, 3, 4, 5, 6, 7, 8, 9, 10, 11, 12, 13, 14, 15, 16, 17, 18, 19, 20, 21, 22, 23, 24, 25, 27, 28, 29, 30, 31, 32, 33, 34, 35, 36, 37, 38, 39, 40, 41, 42, 43, 44, 45, 46, 47, 48, 49, 50, 51, 52, 53, 54, 55, 56, 57, 58, 59, 60])\n",
      "([27, 27, 27, 27, 27, 27, 27, 27, 27, 27, 27, 27, 27, 27, 27, 27, 27, 27, 27, 27, 27, 27, 27, 27, 27, 27, 27, 27, 27, 27, 27, 27, 27, 27, 27, 27, 27, 27, 27, 27, 27, 27, 27, 27, 27, 27, 27, 27, 27, 27, 27, 27, 27, 27, 27, 27, 27, 27, 27, 27], [0, 1, 2, 3, 4, 5, 6, 7, 8, 9, 10, 11, 12, 13, 14, 15, 16, 17, 18, 19, 20, 21, 22, 23, 24, 25, 26, 28, 29, 30, 31, 32, 33, 34, 35, 36, 37, 38, 39, 40, 41, 42, 43, 44, 45, 46, 47, 48, 49, 50, 51, 52, 53, 54, 55, 56, 57, 58, 59, 60])\n",
      "([28, 28, 28, 28, 28, 28, 28, 28, 28, 28, 28, 28, 28, 28, 28, 28, 28, 28, 28, 28, 28, 28, 28, 28, 28, 28, 28, 28, 28, 28, 28, 28, 28, 28, 28, 28, 28, 28, 28, 28, 28, 28, 28, 28, 28, 28, 28, 28, 28, 28, 28, 28, 28, 28, 28, 28, 28, 28, 28, 28], [0, 1, 2, 3, 4, 5, 6, 7, 8, 9, 10, 11, 12, 13, 14, 15, 16, 17, 18, 19, 20, 21, 22, 23, 24, 25, 26, 27, 29, 30, 31, 32, 33, 34, 35, 36, 37, 38, 39, 40, 41, 42, 43, 44, 45, 46, 47, 48, 49, 50, 51, 52, 53, 54, 55, 56, 57, 58, 59, 60])\n",
      "([29, 29, 29, 29, 29, 29, 29, 29, 29, 29, 29, 29, 29, 29, 29, 29, 29, 29, 29, 29, 29, 29, 29, 29, 29, 29, 29, 29, 29, 29, 29, 29, 29, 29, 29, 29, 29, 29, 29, 29, 29, 29, 29, 29, 29, 29, 29, 29, 29, 29, 29, 29, 29, 29, 29, 29, 29, 29, 29, 29], [0, 1, 2, 3, 4, 5, 6, 7, 8, 9, 10, 11, 12, 13, 14, 15, 16, 17, 18, 19, 20, 21, 22, 23, 24, 25, 26, 27, 28, 30, 31, 32, 33, 34, 35, 36, 37, 38, 39, 40, 41, 42, 43, 44, 45, 46, 47, 48, 49, 50, 51, 52, 53, 54, 55, 56, 57, 58, 59, 60])\n",
      "([30, 30, 30, 30, 30, 30, 30, 30, 30, 30, 30, 30, 30, 30, 30, 30, 30, 30, 30, 30, 30, 30, 30, 30, 30, 30, 30, 30, 30, 30, 30, 30, 30, 30, 30, 30, 30, 30, 30, 30, 30, 30, 30, 30, 30, 30, 30, 30, 30, 30, 30, 30, 30, 30, 30, 30, 30, 30, 30, 30], [0, 1, 2, 3, 4, 5, 6, 7, 8, 9, 10, 11, 12, 13, 14, 15, 16, 17, 18, 19, 20, 21, 22, 23, 24, 25, 26, 27, 28, 29, 31, 32, 33, 34, 35, 36, 37, 38, 39, 40, 41, 42, 43, 44, 45, 46, 47, 48, 49, 50, 51, 52, 53, 54, 55, 56, 57, 58, 59, 60])\n",
      "([31, 31, 31, 31, 31, 31, 31, 31, 31, 31, 31, 31, 31, 31, 31, 31, 31, 31, 31, 31, 31, 31, 31, 31, 31, 31, 31, 31, 31, 31, 31, 31, 31, 31, 31, 31, 31, 31, 31, 31, 31, 31, 31, 31, 31, 31, 31, 31, 31, 31, 31, 31, 31, 31, 31, 31, 31, 31, 31, 31], [0, 1, 2, 3, 4, 5, 6, 7, 8, 9, 10, 11, 12, 13, 14, 15, 16, 17, 18, 19, 20, 21, 22, 23, 24, 25, 26, 27, 28, 29, 30, 32, 33, 34, 35, 36, 37, 38, 39, 40, 41, 42, 43, 44, 45, 46, 47, 48, 49, 50, 51, 52, 53, 54, 55, 56, 57, 58, 59, 60])\n",
      "([32, 32, 32, 32, 32, 32, 32, 32, 32, 32, 32, 32, 32, 32, 32, 32, 32, 32, 32, 32, 32, 32, 32, 32, 32, 32, 32, 32, 32, 32, 32, 32, 32, 32, 32, 32, 32, 32, 32, 32, 32, 32, 32, 32, 32, 32, 32, 32, 32, 32, 32, 32, 32, 32, 32, 32, 32, 32, 32, 32], [0, 1, 2, 3, 4, 5, 6, 7, 8, 9, 10, 11, 12, 13, 14, 15, 16, 17, 18, 19, 20, 21, 22, 23, 24, 25, 26, 27, 28, 29, 30, 31, 33, 34, 35, 36, 37, 38, 39, 40, 41, 42, 43, 44, 45, 46, 47, 48, 49, 50, 51, 52, 53, 54, 55, 56, 57, 58, 59, 60])\n",
      "([33, 33, 33, 33, 33, 33, 33, 33, 33, 33, 33, 33, 33, 33, 33, 33, 33, 33, 33, 33, 33, 33, 33, 33, 33, 33, 33, 33, 33, 33, 33, 33, 33, 33, 33, 33, 33, 33, 33, 33, 33, 33, 33, 33, 33, 33, 33, 33, 33, 33, 33, 33, 33, 33, 33, 33, 33, 33, 33, 33], [0, 1, 2, 3, 4, 5, 6, 7, 8, 9, 10, 11, 12, 13, 14, 15, 16, 17, 18, 19, 20, 21, 22, 23, 24, 25, 26, 27, 28, 29, 30, 31, 32, 34, 35, 36, 37, 38, 39, 40, 41, 42, 43, 44, 45, 46, 47, 48, 49, 50, 51, 52, 53, 54, 55, 56, 57, 58, 59, 60])\n",
      "([34, 34, 34, 34, 34, 34, 34, 34, 34, 34, 34, 34, 34, 34, 34, 34, 34, 34, 34, 34, 34, 34, 34, 34, 34, 34, 34, 34, 34, 34, 34, 34, 34, 34, 34, 34, 34, 34, 34, 34, 34, 34, 34, 34, 34, 34, 34, 34, 34, 34, 34, 34, 34, 34, 34, 34, 34, 34, 34, 34], [0, 1, 2, 3, 4, 5, 6, 7, 8, 9, 10, 11, 12, 13, 14, 15, 16, 17, 18, 19, 20, 21, 22, 23, 24, 25, 26, 27, 28, 29, 30, 31, 32, 33, 35, 36, 37, 38, 39, 40, 41, 42, 43, 44, 45, 46, 47, 48, 49, 50, 51, 52, 53, 54, 55, 56, 57, 58, 59, 60])\n",
      "([35, 35, 35, 35, 35, 35, 35, 35, 35, 35, 35, 35, 35, 35, 35, 35, 35, 35, 35, 35, 35, 35, 35, 35, 35, 35, 35, 35, 35, 35, 35, 35, 35, 35, 35, 35, 35, 35, 35, 35, 35, 35, 35, 35, 35, 35, 35, 35, 35, 35, 35, 35, 35, 35, 35, 35, 35, 35, 35, 35], [0, 1, 2, 3, 4, 5, 6, 7, 8, 9, 10, 11, 12, 13, 14, 15, 16, 17, 18, 19, 20, 21, 22, 23, 24, 25, 26, 27, 28, 29, 30, 31, 32, 33, 34, 36, 37, 38, 39, 40, 41, 42, 43, 44, 45, 46, 47, 48, 49, 50, 51, 52, 53, 54, 55, 56, 57, 58, 59, 60])\n",
      "([36, 36, 36, 36, 36, 36, 36, 36, 36, 36, 36, 36, 36, 36, 36, 36, 36, 36, 36, 36, 36, 36, 36, 36, 36, 36, 36, 36, 36, 36, 36, 36, 36, 36, 36, 36, 36, 36, 36, 36, 36, 36, 36, 36, 36, 36, 36, 36, 36, 36, 36, 36, 36, 36, 36, 36, 36, 36, 36, 36], [0, 1, 2, 3, 4, 5, 6, 7, 8, 9, 10, 11, 12, 13, 14, 15, 16, 17, 18, 19, 20, 21, 22, 23, 24, 25, 26, 27, 28, 29, 30, 31, 32, 33, 34, 35, 37, 38, 39, 40, 41, 42, 43, 44, 45, 46, 47, 48, 49, 50, 51, 52, 53, 54, 55, 56, 57, 58, 59, 60])\n"
     ]
    },
    {
     "name": "stdout",
     "output_type": "stream",
     "text": [
      "([37, 37, 37, 37, 37, 37, 37, 37, 37, 37, 37, 37, 37, 37, 37, 37, 37, 37, 37, 37, 37, 37, 37, 37, 37, 37, 37, 37, 37, 37, 37, 37, 37, 37, 37, 37, 37, 37, 37, 37, 37, 37, 37, 37, 37, 37, 37, 37, 37, 37, 37, 37, 37, 37, 37, 37, 37, 37, 37, 37], [0, 1, 2, 3, 4, 5, 6, 7, 8, 9, 10, 11, 12, 13, 14, 15, 16, 17, 18, 19, 20, 21, 22, 23, 24, 25, 26, 27, 28, 29, 30, 31, 32, 33, 34, 35, 36, 38, 39, 40, 41, 42, 43, 44, 45, 46, 47, 48, 49, 50, 51, 52, 53, 54, 55, 56, 57, 58, 59, 60])\n",
      "([38, 38, 38, 38, 38, 38, 38, 38, 38, 38, 38, 38, 38, 38, 38, 38, 38, 38, 38, 38, 38, 38, 38, 38, 38, 38, 38, 38, 38, 38, 38, 38, 38, 38, 38, 38, 38, 38, 38, 38, 38, 38, 38, 38, 38, 38, 38, 38, 38, 38, 38, 38, 38, 38, 38, 38, 38, 38, 38, 38], [0, 1, 2, 3, 4, 5, 6, 7, 8, 9, 10, 11, 12, 13, 14, 15, 16, 17, 18, 19, 20, 21, 22, 23, 24, 25, 26, 27, 28, 29, 30, 31, 32, 33, 34, 35, 36, 37, 39, 40, 41, 42, 43, 44, 45, 46, 47, 48, 49, 50, 51, 52, 53, 54, 55, 56, 57, 58, 59, 60])\n",
      "([39, 39, 39, 39, 39, 39, 39, 39, 39, 39, 39, 39, 39, 39, 39, 39, 39, 39, 39, 39, 39, 39, 39, 39, 39, 39, 39, 39, 39, 39, 39, 39, 39, 39, 39, 39, 39, 39, 39, 39, 39, 39, 39, 39, 39, 39, 39, 39, 39, 39, 39, 39, 39, 39, 39, 39, 39, 39, 39, 39], [0, 1, 2, 3, 4, 5, 6, 7, 8, 9, 10, 11, 12, 13, 14, 15, 16, 17, 18, 19, 20, 21, 22, 23, 24, 25, 26, 27, 28, 29, 30, 31, 32, 33, 34, 35, 36, 37, 38, 40, 41, 42, 43, 44, 45, 46, 47, 48, 49, 50, 51, 52, 53, 54, 55, 56, 57, 58, 59, 60])\n",
      "([40, 40, 40, 40, 40, 40, 40, 40, 40, 40, 40, 40, 40, 40, 40, 40, 40, 40, 40, 40, 40, 40, 40, 40, 40, 40, 40, 40, 40, 40, 40, 40, 40, 40, 40, 40, 40, 40, 40, 40, 40, 40, 40, 40, 40, 40, 40, 40, 40, 40, 40, 40, 40, 40, 40, 40, 40, 40, 40, 40], [0, 1, 2, 3, 4, 5, 6, 7, 8, 9, 10, 11, 12, 13, 14, 15, 16, 17, 18, 19, 20, 21, 22, 23, 24, 25, 26, 27, 28, 29, 30, 31, 32, 33, 34, 35, 36, 37, 38, 39, 41, 42, 43, 44, 45, 46, 47, 48, 49, 50, 51, 52, 53, 54, 55, 56, 57, 58, 59, 60])\n",
      "([41, 41, 41, 41, 41, 41, 41, 41, 41, 41, 41, 41, 41, 41, 41, 41, 41, 41, 41, 41, 41, 41, 41, 41, 41, 41, 41, 41, 41, 41, 41, 41, 41, 41, 41, 41, 41, 41, 41, 41, 41, 41, 41, 41, 41, 41, 41, 41, 41, 41, 41, 41, 41, 41, 41, 41, 41, 41, 41, 41], [0, 1, 2, 3, 4, 5, 6, 7, 8, 9, 10, 11, 12, 13, 14, 15, 16, 17, 18, 19, 20, 21, 22, 23, 24, 25, 26, 27, 28, 29, 30, 31, 32, 33, 34, 35, 36, 37, 38, 39, 40, 42, 43, 44, 45, 46, 47, 48, 49, 50, 51, 52, 53, 54, 55, 56, 57, 58, 59, 60])\n",
      "([42, 42, 42, 42, 42, 42, 42, 42, 42, 42, 42, 42, 42, 42, 42, 42, 42, 42, 42, 42, 42, 42, 42, 42, 42, 42, 42, 42, 42, 42, 42, 42, 42, 42, 42, 42, 42, 42, 42, 42, 42, 42, 42, 42, 42, 42, 42, 42, 42, 42, 42, 42, 42, 42, 42, 42, 42, 42, 42, 42], [0, 1, 2, 3, 4, 5, 6, 7, 8, 9, 10, 11, 12, 13, 14, 15, 16, 17, 18, 19, 20, 21, 22, 23, 24, 25, 26, 27, 28, 29, 30, 31, 32, 33, 34, 35, 36, 37, 38, 39, 40, 41, 43, 44, 45, 46, 47, 48, 49, 50, 51, 52, 53, 54, 55, 56, 57, 58, 59, 60])\n",
      "([43, 43, 43, 43, 43, 43, 43, 43, 43, 43, 43, 43, 43, 43, 43, 43, 43, 43, 43, 43, 43, 43, 43, 43, 43, 43, 43, 43, 43, 43, 43, 43, 43, 43, 43, 43, 43, 43, 43, 43, 43, 43, 43, 43, 43, 43, 43, 43, 43, 43, 43, 43, 43, 43, 43, 43, 43, 43, 43, 43], [0, 1, 2, 3, 4, 5, 6, 7, 8, 9, 10, 11, 12, 13, 14, 15, 16, 17, 18, 19, 20, 21, 22, 23, 24, 25, 26, 27, 28, 29, 30, 31, 32, 33, 34, 35, 36, 37, 38, 39, 40, 41, 42, 44, 45, 46, 47, 48, 49, 50, 51, 52, 53, 54, 55, 56, 57, 58, 59, 60])\n",
      "([44, 44, 44, 44, 44, 44, 44, 44, 44, 44, 44, 44, 44, 44, 44, 44, 44, 44, 44, 44, 44, 44, 44, 44, 44, 44, 44, 44, 44, 44, 44, 44, 44, 44, 44, 44, 44, 44, 44, 44, 44, 44, 44, 44, 44, 44, 44, 44, 44, 44, 44, 44, 44, 44, 44, 44, 44, 44, 44, 44], [0, 1, 2, 3, 4, 5, 6, 7, 8, 9, 10, 11, 12, 13, 14, 15, 16, 17, 18, 19, 20, 21, 22, 23, 24, 25, 26, 27, 28, 29, 30, 31, 32, 33, 34, 35, 36, 37, 38, 39, 40, 41, 42, 43, 45, 46, 47, 48, 49, 50, 51, 52, 53, 54, 55, 56, 57, 58, 59, 60])\n",
      "([45, 45, 45, 45, 45, 45, 45, 45, 45, 45, 45, 45, 45, 45, 45, 45, 45, 45, 45, 45, 45, 45, 45, 45, 45, 45, 45, 45, 45, 45, 45, 45, 45, 45, 45, 45, 45, 45, 45, 45, 45, 45, 45, 45, 45, 45, 45, 45, 45, 45, 45, 45, 45, 45, 45, 45, 45, 45, 45, 45], [0, 1, 2, 3, 4, 5, 6, 7, 8, 9, 10, 11, 12, 13, 14, 15, 16, 17, 18, 19, 20, 21, 22, 23, 24, 25, 26, 27, 28, 29, 30, 31, 32, 33, 34, 35, 36, 37, 38, 39, 40, 41, 42, 43, 44, 46, 47, 48, 49, 50, 51, 52, 53, 54, 55, 56, 57, 58, 59, 60])\n",
      "([46, 46, 46, 46, 46, 46, 46, 46, 46, 46, 46, 46, 46, 46, 46, 46, 46, 46, 46, 46, 46, 46, 46, 46, 46, 46, 46, 46, 46, 46, 46, 46, 46, 46, 46, 46, 46, 46, 46, 46, 46, 46, 46, 46, 46, 46, 46, 46, 46, 46, 46, 46, 46, 46, 46, 46, 46, 46, 46, 46], [0, 1, 2, 3, 4, 5, 6, 7, 8, 9, 10, 11, 12, 13, 14, 15, 16, 17, 18, 19, 20, 21, 22, 23, 24, 25, 26, 27, 28, 29, 30, 31, 32, 33, 34, 35, 36, 37, 38, 39, 40, 41, 42, 43, 44, 45, 47, 48, 49, 50, 51, 52, 53, 54, 55, 56, 57, 58, 59, 60])\n",
      "([47, 47, 47, 47, 47, 47, 47, 47, 47, 47, 47, 47, 47, 47, 47, 47, 47, 47, 47, 47, 47, 47, 47, 47, 47, 47, 47, 47, 47, 47, 47, 47, 47, 47, 47, 47, 47, 47, 47, 47, 47, 47, 47, 47, 47, 47, 47, 47, 47, 47, 47, 47, 47, 47, 47, 47, 47, 47, 47, 47], [0, 1, 2, 3, 4, 5, 6, 7, 8, 9, 10, 11, 12, 13, 14, 15, 16, 17, 18, 19, 20, 21, 22, 23, 24, 25, 26, 27, 28, 29, 30, 31, 32, 33, 34, 35, 36, 37, 38, 39, 40, 41, 42, 43, 44, 45, 46, 48, 49, 50, 51, 52, 53, 54, 55, 56, 57, 58, 59, 60])\n",
      "([48, 48, 48, 48, 48, 48, 48, 48, 48, 48, 48, 48, 48, 48, 48, 48, 48, 48, 48, 48, 48, 48, 48, 48, 48, 48, 48, 48, 48, 48, 48, 48, 48, 48, 48, 48, 48, 48, 48, 48, 48, 48, 48, 48, 48, 48, 48, 48, 48, 48, 48, 48, 48, 48, 48, 48, 48, 48, 48, 48], [0, 1, 2, 3, 4, 5, 6, 7, 8, 9, 10, 11, 12, 13, 14, 15, 16, 17, 18, 19, 20, 21, 22, 23, 24, 25, 26, 27, 28, 29, 30, 31, 32, 33, 34, 35, 36, 37, 38, 39, 40, 41, 42, 43, 44, 45, 46, 47, 49, 50, 51, 52, 53, 54, 55, 56, 57, 58, 59, 60])\n",
      "([49, 49, 49, 49, 49, 49, 49, 49, 49, 49, 49, 49, 49, 49, 49, 49, 49, 49, 49, 49, 49, 49, 49, 49, 49, 49, 49, 49, 49, 49, 49, 49, 49, 49, 49, 49, 49, 49, 49, 49, 49, 49, 49, 49, 49, 49, 49, 49, 49, 49, 49, 49, 49, 49, 49, 49, 49, 49, 49, 49], [0, 1, 2, 3, 4, 5, 6, 7, 8, 9, 10, 11, 12, 13, 14, 15, 16, 17, 18, 19, 20, 21, 22, 23, 24, 25, 26, 27, 28, 29, 30, 31, 32, 33, 34, 35, 36, 37, 38, 39, 40, 41, 42, 43, 44, 45, 46, 47, 48, 50, 51, 52, 53, 54, 55, 56, 57, 58, 59, 60])\n",
      "([50, 50, 50, 50, 50, 50, 50, 50, 50, 50, 50, 50, 50, 50, 50, 50, 50, 50, 50, 50, 50, 50, 50, 50, 50, 50, 50, 50, 50, 50, 50, 50, 50, 50, 50, 50, 50, 50, 50, 50, 50, 50, 50, 50, 50, 50, 50, 50, 50, 50, 50, 50, 50, 50, 50, 50, 50, 50, 50, 50], [0, 1, 2, 3, 4, 5, 6, 7, 8, 9, 10, 11, 12, 13, 14, 15, 16, 17, 18, 19, 20, 21, 22, 23, 24, 25, 26, 27, 28, 29, 30, 31, 32, 33, 34, 35, 36, 37, 38, 39, 40, 41, 42, 43, 44, 45, 46, 47, 48, 49, 51, 52, 53, 54, 55, 56, 57, 58, 59, 60])\n",
      "([51, 51, 51, 51, 51, 51, 51, 51, 51, 51, 51, 51, 51, 51, 51, 51, 51, 51, 51, 51, 51, 51, 51, 51, 51, 51, 51, 51, 51, 51, 51, 51, 51, 51, 51, 51, 51, 51, 51, 51, 51, 51, 51, 51, 51, 51, 51, 51, 51, 51, 51, 51, 51, 51, 51, 51, 51, 51, 51, 51], [0, 1, 2, 3, 4, 5, 6, 7, 8, 9, 10, 11, 12, 13, 14, 15, 16, 17, 18, 19, 20, 21, 22, 23, 24, 25, 26, 27, 28, 29, 30, 31, 32, 33, 34, 35, 36, 37, 38, 39, 40, 41, 42, 43, 44, 45, 46, 47, 48, 49, 50, 52, 53, 54, 55, 56, 57, 58, 59, 60])\n",
      "([52, 52, 52, 52, 52, 52, 52, 52, 52, 52, 52, 52, 52, 52, 52, 52, 52, 52, 52, 52, 52, 52, 52, 52, 52, 52, 52, 52, 52, 52, 52, 52, 52, 52, 52, 52, 52, 52, 52, 52, 52, 52, 52, 52, 52, 52, 52, 52, 52, 52, 52, 52, 52, 52, 52, 52, 52, 52, 52, 52], [0, 1, 2, 3, 4, 5, 6, 7, 8, 9, 10, 11, 12, 13, 14, 15, 16, 17, 18, 19, 20, 21, 22, 23, 24, 25, 26, 27, 28, 29, 30, 31, 32, 33, 34, 35, 36, 37, 38, 39, 40, 41, 42, 43, 44, 45, 46, 47, 48, 49, 50, 51, 53, 54, 55, 56, 57, 58, 59, 60])\n",
      "([53, 53, 53, 53, 53, 53, 53, 53, 53, 53, 53, 53, 53, 53, 53, 53, 53, 53, 53, 53, 53, 53, 53, 53, 53, 53, 53, 53, 53, 53, 53, 53, 53, 53, 53, 53, 53, 53, 53, 53, 53, 53, 53, 53, 53, 53, 53, 53, 53, 53, 53, 53, 53, 53, 53, 53, 53, 53, 53, 53], [0, 1, 2, 3, 4, 5, 6, 7, 8, 9, 10, 11, 12, 13, 14, 15, 16, 17, 18, 19, 20, 21, 22, 23, 24, 25, 26, 27, 28, 29, 30, 31, 32, 33, 34, 35, 36, 37, 38, 39, 40, 41, 42, 43, 44, 45, 46, 47, 48, 49, 50, 51, 52, 54, 55, 56, 57, 58, 59, 60])\n",
      "([54, 54, 54, 54, 54, 54, 54, 54, 54, 54, 54, 54, 54, 54, 54, 54, 54, 54, 54, 54, 54, 54, 54, 54, 54, 54, 54, 54, 54, 54, 54, 54, 54, 54, 54, 54, 54, 54, 54, 54, 54, 54, 54, 54, 54, 54, 54, 54, 54, 54, 54, 54, 54, 54, 54, 54, 54, 54, 54, 54], [0, 1, 2, 3, 4, 5, 6, 7, 8, 9, 10, 11, 12, 13, 14, 15, 16, 17, 18, 19, 20, 21, 22, 23, 24, 25, 26, 27, 28, 29, 30, 31, 32, 33, 34, 35, 36, 37, 38, 39, 40, 41, 42, 43, 44, 45, 46, 47, 48, 49, 50, 51, 52, 53, 55, 56, 57, 58, 59, 60])\n"
     ]
    },
    {
     "name": "stdout",
     "output_type": "stream",
     "text": [
      "([55, 55, 55, 55, 55, 55, 55, 55, 55, 55, 55, 55, 55, 55, 55, 55, 55, 55, 55, 55, 55, 55, 55, 55, 55, 55, 55, 55, 55, 55, 55, 55, 55, 55, 55, 55, 55, 55, 55, 55, 55, 55, 55, 55, 55, 55, 55, 55, 55, 55, 55, 55, 55, 55, 55, 55, 55, 55, 55, 55], [0, 1, 2, 3, 4, 5, 6, 7, 8, 9, 10, 11, 12, 13, 14, 15, 16, 17, 18, 19, 20, 21, 22, 23, 24, 25, 26, 27, 28, 29, 30, 31, 32, 33, 34, 35, 36, 37, 38, 39, 40, 41, 42, 43, 44, 45, 46, 47, 48, 49, 50, 51, 52, 53, 54, 56, 57, 58, 59, 60])\n",
      "([56, 56, 56, 56, 56, 56, 56, 56, 56, 56, 56, 56, 56, 56, 56, 56, 56, 56, 56, 56, 56, 56, 56, 56, 56, 56, 56, 56, 56, 56, 56, 56, 56, 56, 56, 56, 56, 56, 56, 56, 56, 56, 56, 56, 56, 56, 56, 56, 56, 56, 56, 56, 56, 56, 56, 56, 56, 56, 56, 56], [0, 1, 2, 3, 4, 5, 6, 7, 8, 9, 10, 11, 12, 13, 14, 15, 16, 17, 18, 19, 20, 21, 22, 23, 24, 25, 26, 27, 28, 29, 30, 31, 32, 33, 34, 35, 36, 37, 38, 39, 40, 41, 42, 43, 44, 45, 46, 47, 48, 49, 50, 51, 52, 53, 54, 55, 57, 58, 59, 60])\n",
      "([57, 57, 57, 57, 57, 57, 57, 57, 57, 57, 57, 57, 57, 57, 57, 57, 57, 57, 57, 57, 57, 57, 57, 57, 57, 57, 57, 57, 57, 57, 57, 57, 57, 57, 57, 57, 57, 57, 57, 57, 57, 57, 57, 57, 57, 57, 57, 57, 57, 57, 57, 57, 57, 57, 57, 57, 57, 57, 57, 57], [0, 1, 2, 3, 4, 5, 6, 7, 8, 9, 10, 11, 12, 13, 14, 15, 16, 17, 18, 19, 20, 21, 22, 23, 24, 25, 26, 27, 28, 29, 30, 31, 32, 33, 34, 35, 36, 37, 38, 39, 40, 41, 42, 43, 44, 45, 46, 47, 48, 49, 50, 51, 52, 53, 54, 55, 56, 58, 59, 60])\n",
      "([58, 58, 58, 58, 58, 58, 58, 58, 58, 58, 58, 58, 58, 58, 58, 58, 58, 58, 58, 58, 58, 58, 58, 58, 58, 58, 58, 58, 58, 58, 58, 58, 58, 58, 58, 58, 58, 58, 58, 58, 58, 58, 58, 58, 58, 58, 58, 58, 58, 58, 58, 58, 58, 58, 58, 58, 58, 58, 58, 58], [0, 1, 2, 3, 4, 5, 6, 7, 8, 9, 10, 11, 12, 13, 14, 15, 16, 17, 18, 19, 20, 21, 22, 23, 24, 25, 26, 27, 28, 29, 30, 31, 32, 33, 34, 35, 36, 37, 38, 39, 40, 41, 42, 43, 44, 45, 46, 47, 48, 49, 50, 51, 52, 53, 54, 55, 56, 57, 59, 60])\n",
      "([59, 59, 59, 59, 59, 59, 59, 59, 59, 59, 59, 59, 59, 59, 59, 59, 59, 59, 59, 59, 59, 59, 59, 59, 59, 59, 59, 59, 59, 59, 59, 59, 59, 59, 59, 59, 59, 59, 59, 59, 59, 59, 59, 59, 59, 59, 59, 59, 59, 59, 59, 59, 59, 59, 59, 59, 59, 59, 59, 59], [0, 1, 2, 3, 4, 5, 6, 7, 8, 9, 10, 11, 12, 13, 14, 15, 16, 17, 18, 19, 20, 21, 22, 23, 24, 25, 26, 27, 28, 29, 30, 31, 32, 33, 34, 35, 36, 37, 38, 39, 40, 41, 42, 43, 44, 45, 46, 47, 48, 49, 50, 51, 52, 53, 54, 55, 56, 57, 58, 60])\n",
      "([60, 60, 60, 60, 60, 60, 60, 60, 60, 60, 60, 60, 60, 60, 60, 60, 60, 60, 60, 60, 60, 60, 60, 60, 60, 60, 60, 60, 60, 60, 60, 60, 60, 60, 60, 60, 60, 60, 60, 60, 60, 60, 60, 60, 60, 60, 60, 60, 60, 60, 60, 60, 60, 60, 60, 60, 60, 60, 60, 60], [0, 1, 2, 3, 4, 5, 6, 7, 8, 9, 10, 11, 12, 13, 14, 15, 16, 17, 18, 19, 20, 21, 22, 23, 24, 25, 26, 27, 28, 29, 30, 31, 32, 33, 34, 35, 36, 37, 38, 39, 40, 41, 42, 43, 44, 45, 46, 47, 48, 49, 50, 51, 52, 53, 54, 55, 56, 57, 58, 59])\n"
     ]
    },
    {
     "name": "stderr",
     "output_type": "stream",
     "text": [
      "\r",
      "  2%|▋                                        | 1/61 [03:09<3:09:20, 189.34s/it]"
     ]
    },
    {
     "name": "stdout",
     "output_type": "stream",
     "text": [
      "Using data from preloaded Raw for 264 events and 501 original time points ...\n",
      "0 bad epochs dropped\n",
      "(264, 61, 501)\n",
      "([0, 0, 0, 0, 0, 0, 0, 0, 0, 0, 0, 0, 0, 0, 0, 0, 0, 0, 0, 0, 0, 0, 0, 0, 0, 0, 0, 0, 0, 0, 0, 0, 0, 0, 0, 0, 0, 0, 0, 0, 0, 0, 0, 0, 0, 0, 0, 0, 0, 0, 0, 0, 0, 0, 0, 0, 0, 0, 0, 0], [1, 2, 3, 4, 5, 6, 7, 8, 9, 10, 11, 12, 13, 14, 15, 16, 17, 18, 19, 20, 21, 22, 23, 24, 25, 26, 27, 28, 29, 30, 31, 32, 33, 34, 35, 36, 37, 38, 39, 40, 41, 42, 43, 44, 45, 46, 47, 48, 49, 50, 51, 52, 53, 54, 55, 56, 57, 58, 59, 60])\n",
      "([1, 1, 1, 1, 1, 1, 1, 1, 1, 1, 1, 1, 1, 1, 1, 1, 1, 1, 1, 1, 1, 1, 1, 1, 1, 1, 1, 1, 1, 1, 1, 1, 1, 1, 1, 1, 1, 1, 1, 1, 1, 1, 1, 1, 1, 1, 1, 1, 1, 1, 1, 1, 1, 1, 1, 1, 1, 1, 1, 1], [0, 2, 3, 4, 5, 6, 7, 8, 9, 10, 11, 12, 13, 14, 15, 16, 17, 18, 19, 20, 21, 22, 23, 24, 25, 26, 27, 28, 29, 30, 31, 32, 33, 34, 35, 36, 37, 38, 39, 40, 41, 42, 43, 44, 45, 46, 47, 48, 49, 50, 51, 52, 53, 54, 55, 56, 57, 58, 59, 60])\n",
      "([2, 2, 2, 2, 2, 2, 2, 2, 2, 2, 2, 2, 2, 2, 2, 2, 2, 2, 2, 2, 2, 2, 2, 2, 2, 2, 2, 2, 2, 2, 2, 2, 2, 2, 2, 2, 2, 2, 2, 2, 2, 2, 2, 2, 2, 2, 2, 2, 2, 2, 2, 2, 2, 2, 2, 2, 2, 2, 2, 2], [0, 1, 3, 4, 5, 6, 7, 8, 9, 10, 11, 12, 13, 14, 15, 16, 17, 18, 19, 20, 21, 22, 23, 24, 25, 26, 27, 28, 29, 30, 31, 32, 33, 34, 35, 36, 37, 38, 39, 40, 41, 42, 43, 44, 45, 46, 47, 48, 49, 50, 51, 52, 53, 54, 55, 56, 57, 58, 59, 60])\n",
      "([3, 3, 3, 3, 3, 3, 3, 3, 3, 3, 3, 3, 3, 3, 3, 3, 3, 3, 3, 3, 3, 3, 3, 3, 3, 3, 3, 3, 3, 3, 3, 3, 3, 3, 3, 3, 3, 3, 3, 3, 3, 3, 3, 3, 3, 3, 3, 3, 3, 3, 3, 3, 3, 3, 3, 3, 3, 3, 3, 3], [0, 1, 2, 4, 5, 6, 7, 8, 9, 10, 11, 12, 13, 14, 15, 16, 17, 18, 19, 20, 21, 22, 23, 24, 25, 26, 27, 28, 29, 30, 31, 32, 33, 34, 35, 36, 37, 38, 39, 40, 41, 42, 43, 44, 45, 46, 47, 48, 49, 50, 51, 52, 53, 54, 55, 56, 57, 58, 59, 60])\n",
      "([4, 4, 4, 4, 4, 4, 4, 4, 4, 4, 4, 4, 4, 4, 4, 4, 4, 4, 4, 4, 4, 4, 4, 4, 4, 4, 4, 4, 4, 4, 4, 4, 4, 4, 4, 4, 4, 4, 4, 4, 4, 4, 4, 4, 4, 4, 4, 4, 4, 4, 4, 4, 4, 4, 4, 4, 4, 4, 4, 4], [0, 1, 2, 3, 5, 6, 7, 8, 9, 10, 11, 12, 13, 14, 15, 16, 17, 18, 19, 20, 21, 22, 23, 24, 25, 26, 27, 28, 29, 30, 31, 32, 33, 34, 35, 36, 37, 38, 39, 40, 41, 42, 43, 44, 45, 46, 47, 48, 49, 50, 51, 52, 53, 54, 55, 56, 57, 58, 59, 60])\n",
      "([5, 5, 5, 5, 5, 5, 5, 5, 5, 5, 5, 5, 5, 5, 5, 5, 5, 5, 5, 5, 5, 5, 5, 5, 5, 5, 5, 5, 5, 5, 5, 5, 5, 5, 5, 5, 5, 5, 5, 5, 5, 5, 5, 5, 5, 5, 5, 5, 5, 5, 5, 5, 5, 5, 5, 5, 5, 5, 5, 5], [0, 1, 2, 3, 4, 6, 7, 8, 9, 10, 11, 12, 13, 14, 15, 16, 17, 18, 19, 20, 21, 22, 23, 24, 25, 26, 27, 28, 29, 30, 31, 32, 33, 34, 35, 36, 37, 38, 39, 40, 41, 42, 43, 44, 45, 46, 47, 48, 49, 50, 51, 52, 53, 54, 55, 56, 57, 58, 59, 60])\n",
      "([6, 6, 6, 6, 6, 6, 6, 6, 6, 6, 6, 6, 6, 6, 6, 6, 6, 6, 6, 6, 6, 6, 6, 6, 6, 6, 6, 6, 6, 6, 6, 6, 6, 6, 6, 6, 6, 6, 6, 6, 6, 6, 6, 6, 6, 6, 6, 6, 6, 6, 6, 6, 6, 6, 6, 6, 6, 6, 6, 6], [0, 1, 2, 3, 4, 5, 7, 8, 9, 10, 11, 12, 13, 14, 15, 16, 17, 18, 19, 20, 21, 22, 23, 24, 25, 26, 27, 28, 29, 30, 31, 32, 33, 34, 35, 36, 37, 38, 39, 40, 41, 42, 43, 44, 45, 46, 47, 48, 49, 50, 51, 52, 53, 54, 55, 56, 57, 58, 59, 60])\n",
      "([7, 7, 7, 7, 7, 7, 7, 7, 7, 7, 7, 7, 7, 7, 7, 7, 7, 7, 7, 7, 7, 7, 7, 7, 7, 7, 7, 7, 7, 7, 7, 7, 7, 7, 7, 7, 7, 7, 7, 7, 7, 7, 7, 7, 7, 7, 7, 7, 7, 7, 7, 7, 7, 7, 7, 7, 7, 7, 7, 7], [0, 1, 2, 3, 4, 5, 6, 8, 9, 10, 11, 12, 13, 14, 15, 16, 17, 18, 19, 20, 21, 22, 23, 24, 25, 26, 27, 28, 29, 30, 31, 32, 33, 34, 35, 36, 37, 38, 39, 40, 41, 42, 43, 44, 45, 46, 47, 48, 49, 50, 51, 52, 53, 54, 55, 56, 57, 58, 59, 60])\n",
      "([8, 8, 8, 8, 8, 8, 8, 8, 8, 8, 8, 8, 8, 8, 8, 8, 8, 8, 8, 8, 8, 8, 8, 8, 8, 8, 8, 8, 8, 8, 8, 8, 8, 8, 8, 8, 8, 8, 8, 8, 8, 8, 8, 8, 8, 8, 8, 8, 8, 8, 8, 8, 8, 8, 8, 8, 8, 8, 8, 8], [0, 1, 2, 3, 4, 5, 6, 7, 9, 10, 11, 12, 13, 14, 15, 16, 17, 18, 19, 20, 21, 22, 23, 24, 25, 26, 27, 28, 29, 30, 31, 32, 33, 34, 35, 36, 37, 38, 39, 40, 41, 42, 43, 44, 45, 46, 47, 48, 49, 50, 51, 52, 53, 54, 55, 56, 57, 58, 59, 60])\n",
      "([9, 9, 9, 9, 9, 9, 9, 9, 9, 9, 9, 9, 9, 9, 9, 9, 9, 9, 9, 9, 9, 9, 9, 9, 9, 9, 9, 9, 9, 9, 9, 9, 9, 9, 9, 9, 9, 9, 9, 9, 9, 9, 9, 9, 9, 9, 9, 9, 9, 9, 9, 9, 9, 9, 9, 9, 9, 9, 9, 9], [0, 1, 2, 3, 4, 5, 6, 7, 8, 10, 11, 12, 13, 14, 15, 16, 17, 18, 19, 20, 21, 22, 23, 24, 25, 26, 27, 28, 29, 30, 31, 32, 33, 34, 35, 36, 37, 38, 39, 40, 41, 42, 43, 44, 45, 46, 47, 48, 49, 50, 51, 52, 53, 54, 55, 56, 57, 58, 59, 60])\n",
      "([10, 10, 10, 10, 10, 10, 10, 10, 10, 10, 10, 10, 10, 10, 10, 10, 10, 10, 10, 10, 10, 10, 10, 10, 10, 10, 10, 10, 10, 10, 10, 10, 10, 10, 10, 10, 10, 10, 10, 10, 10, 10, 10, 10, 10, 10, 10, 10, 10, 10, 10, 10, 10, 10, 10, 10, 10, 10, 10, 10], [0, 1, 2, 3, 4, 5, 6, 7, 8, 9, 11, 12, 13, 14, 15, 16, 17, 18, 19, 20, 21, 22, 23, 24, 25, 26, 27, 28, 29, 30, 31, 32, 33, 34, 35, 36, 37, 38, 39, 40, 41, 42, 43, 44, 45, 46, 47, 48, 49, 50, 51, 52, 53, 54, 55, 56, 57, 58, 59, 60])\n",
      "([11, 11, 11, 11, 11, 11, 11, 11, 11, 11, 11, 11, 11, 11, 11, 11, 11, 11, 11, 11, 11, 11, 11, 11, 11, 11, 11, 11, 11, 11, 11, 11, 11, 11, 11, 11, 11, 11, 11, 11, 11, 11, 11, 11, 11, 11, 11, 11, 11, 11, 11, 11, 11, 11, 11, 11, 11, 11, 11, 11], [0, 1, 2, 3, 4, 5, 6, 7, 8, 9, 10, 12, 13, 14, 15, 16, 17, 18, 19, 20, 21, 22, 23, 24, 25, 26, 27, 28, 29, 30, 31, 32, 33, 34, 35, 36, 37, 38, 39, 40, 41, 42, 43, 44, 45, 46, 47, 48, 49, 50, 51, 52, 53, 54, 55, 56, 57, 58, 59, 60])\n",
      "([12, 12, 12, 12, 12, 12, 12, 12, 12, 12, 12, 12, 12, 12, 12, 12, 12, 12, 12, 12, 12, 12, 12, 12, 12, 12, 12, 12, 12, 12, 12, 12, 12, 12, 12, 12, 12, 12, 12, 12, 12, 12, 12, 12, 12, 12, 12, 12, 12, 12, 12, 12, 12, 12, 12, 12, 12, 12, 12, 12], [0, 1, 2, 3, 4, 5, 6, 7, 8, 9, 10, 11, 13, 14, 15, 16, 17, 18, 19, 20, 21, 22, 23, 24, 25, 26, 27, 28, 29, 30, 31, 32, 33, 34, 35, 36, 37, 38, 39, 40, 41, 42, 43, 44, 45, 46, 47, 48, 49, 50, 51, 52, 53, 54, 55, 56, 57, 58, 59, 60])\n",
      "([13, 13, 13, 13, 13, 13, 13, 13, 13, 13, 13, 13, 13, 13, 13, 13, 13, 13, 13, 13, 13, 13, 13, 13, 13, 13, 13, 13, 13, 13, 13, 13, 13, 13, 13, 13, 13, 13, 13, 13, 13, 13, 13, 13, 13, 13, 13, 13, 13, 13, 13, 13, 13, 13, 13, 13, 13, 13, 13, 13], [0, 1, 2, 3, 4, 5, 6, 7, 8, 9, 10, 11, 12, 14, 15, 16, 17, 18, 19, 20, 21, 22, 23, 24, 25, 26, 27, 28, 29, 30, 31, 32, 33, 34, 35, 36, 37, 38, 39, 40, 41, 42, 43, 44, 45, 46, 47, 48, 49, 50, 51, 52, 53, 54, 55, 56, 57, 58, 59, 60])\n",
      "([14, 14, 14, 14, 14, 14, 14, 14, 14, 14, 14, 14, 14, 14, 14, 14, 14, 14, 14, 14, 14, 14, 14, 14, 14, 14, 14, 14, 14, 14, 14, 14, 14, 14, 14, 14, 14, 14, 14, 14, 14, 14, 14, 14, 14, 14, 14, 14, 14, 14, 14, 14, 14, 14, 14, 14, 14, 14, 14, 14], [0, 1, 2, 3, 4, 5, 6, 7, 8, 9, 10, 11, 12, 13, 15, 16, 17, 18, 19, 20, 21, 22, 23, 24, 25, 26, 27, 28, 29, 30, 31, 32, 33, 34, 35, 36, 37, 38, 39, 40, 41, 42, 43, 44, 45, 46, 47, 48, 49, 50, 51, 52, 53, 54, 55, 56, 57, 58, 59, 60])\n",
      "([15, 15, 15, 15, 15, 15, 15, 15, 15, 15, 15, 15, 15, 15, 15, 15, 15, 15, 15, 15, 15, 15, 15, 15, 15, 15, 15, 15, 15, 15, 15, 15, 15, 15, 15, 15, 15, 15, 15, 15, 15, 15, 15, 15, 15, 15, 15, 15, 15, 15, 15, 15, 15, 15, 15, 15, 15, 15, 15, 15], [0, 1, 2, 3, 4, 5, 6, 7, 8, 9, 10, 11, 12, 13, 14, 16, 17, 18, 19, 20, 21, 22, 23, 24, 25, 26, 27, 28, 29, 30, 31, 32, 33, 34, 35, 36, 37, 38, 39, 40, 41, 42, 43, 44, 45, 46, 47, 48, 49, 50, 51, 52, 53, 54, 55, 56, 57, 58, 59, 60])\n",
      "([16, 16, 16, 16, 16, 16, 16, 16, 16, 16, 16, 16, 16, 16, 16, 16, 16, 16, 16, 16, 16, 16, 16, 16, 16, 16, 16, 16, 16, 16, 16, 16, 16, 16, 16, 16, 16, 16, 16, 16, 16, 16, 16, 16, 16, 16, 16, 16, 16, 16, 16, 16, 16, 16, 16, 16, 16, 16, 16, 16], [0, 1, 2, 3, 4, 5, 6, 7, 8, 9, 10, 11, 12, 13, 14, 15, 17, 18, 19, 20, 21, 22, 23, 24, 25, 26, 27, 28, 29, 30, 31, 32, 33, 34, 35, 36, 37, 38, 39, 40, 41, 42, 43, 44, 45, 46, 47, 48, 49, 50, 51, 52, 53, 54, 55, 56, 57, 58, 59, 60])\n",
      "([17, 17, 17, 17, 17, 17, 17, 17, 17, 17, 17, 17, 17, 17, 17, 17, 17, 17, 17, 17, 17, 17, 17, 17, 17, 17, 17, 17, 17, 17, 17, 17, 17, 17, 17, 17, 17, 17, 17, 17, 17, 17, 17, 17, 17, 17, 17, 17, 17, 17, 17, 17, 17, 17, 17, 17, 17, 17, 17, 17], [0, 1, 2, 3, 4, 5, 6, 7, 8, 9, 10, 11, 12, 13, 14, 15, 16, 18, 19, 20, 21, 22, 23, 24, 25, 26, 27, 28, 29, 30, 31, 32, 33, 34, 35, 36, 37, 38, 39, 40, 41, 42, 43, 44, 45, 46, 47, 48, 49, 50, 51, 52, 53, 54, 55, 56, 57, 58, 59, 60])\n",
      "([18, 18, 18, 18, 18, 18, 18, 18, 18, 18, 18, 18, 18, 18, 18, 18, 18, 18, 18, 18, 18, 18, 18, 18, 18, 18, 18, 18, 18, 18, 18, 18, 18, 18, 18, 18, 18, 18, 18, 18, 18, 18, 18, 18, 18, 18, 18, 18, 18, 18, 18, 18, 18, 18, 18, 18, 18, 18, 18, 18], [0, 1, 2, 3, 4, 5, 6, 7, 8, 9, 10, 11, 12, 13, 14, 15, 16, 17, 19, 20, 21, 22, 23, 24, 25, 26, 27, 28, 29, 30, 31, 32, 33, 34, 35, 36, 37, 38, 39, 40, 41, 42, 43, 44, 45, 46, 47, 48, 49, 50, 51, 52, 53, 54, 55, 56, 57, 58, 59, 60])\n"
     ]
    },
    {
     "name": "stdout",
     "output_type": "stream",
     "text": [
      "([19, 19, 19, 19, 19, 19, 19, 19, 19, 19, 19, 19, 19, 19, 19, 19, 19, 19, 19, 19, 19, 19, 19, 19, 19, 19, 19, 19, 19, 19, 19, 19, 19, 19, 19, 19, 19, 19, 19, 19, 19, 19, 19, 19, 19, 19, 19, 19, 19, 19, 19, 19, 19, 19, 19, 19, 19, 19, 19, 19], [0, 1, 2, 3, 4, 5, 6, 7, 8, 9, 10, 11, 12, 13, 14, 15, 16, 17, 18, 20, 21, 22, 23, 24, 25, 26, 27, 28, 29, 30, 31, 32, 33, 34, 35, 36, 37, 38, 39, 40, 41, 42, 43, 44, 45, 46, 47, 48, 49, 50, 51, 52, 53, 54, 55, 56, 57, 58, 59, 60])\n",
      "([20, 20, 20, 20, 20, 20, 20, 20, 20, 20, 20, 20, 20, 20, 20, 20, 20, 20, 20, 20, 20, 20, 20, 20, 20, 20, 20, 20, 20, 20, 20, 20, 20, 20, 20, 20, 20, 20, 20, 20, 20, 20, 20, 20, 20, 20, 20, 20, 20, 20, 20, 20, 20, 20, 20, 20, 20, 20, 20, 20], [0, 1, 2, 3, 4, 5, 6, 7, 8, 9, 10, 11, 12, 13, 14, 15, 16, 17, 18, 19, 21, 22, 23, 24, 25, 26, 27, 28, 29, 30, 31, 32, 33, 34, 35, 36, 37, 38, 39, 40, 41, 42, 43, 44, 45, 46, 47, 48, 49, 50, 51, 52, 53, 54, 55, 56, 57, 58, 59, 60])\n",
      "([21, 21, 21, 21, 21, 21, 21, 21, 21, 21, 21, 21, 21, 21, 21, 21, 21, 21, 21, 21, 21, 21, 21, 21, 21, 21, 21, 21, 21, 21, 21, 21, 21, 21, 21, 21, 21, 21, 21, 21, 21, 21, 21, 21, 21, 21, 21, 21, 21, 21, 21, 21, 21, 21, 21, 21, 21, 21, 21, 21], [0, 1, 2, 3, 4, 5, 6, 7, 8, 9, 10, 11, 12, 13, 14, 15, 16, 17, 18, 19, 20, 22, 23, 24, 25, 26, 27, 28, 29, 30, 31, 32, 33, 34, 35, 36, 37, 38, 39, 40, 41, 42, 43, 44, 45, 46, 47, 48, 49, 50, 51, 52, 53, 54, 55, 56, 57, 58, 59, 60])\n",
      "([22, 22, 22, 22, 22, 22, 22, 22, 22, 22, 22, 22, 22, 22, 22, 22, 22, 22, 22, 22, 22, 22, 22, 22, 22, 22, 22, 22, 22, 22, 22, 22, 22, 22, 22, 22, 22, 22, 22, 22, 22, 22, 22, 22, 22, 22, 22, 22, 22, 22, 22, 22, 22, 22, 22, 22, 22, 22, 22, 22], [0, 1, 2, 3, 4, 5, 6, 7, 8, 9, 10, 11, 12, 13, 14, 15, 16, 17, 18, 19, 20, 21, 23, 24, 25, 26, 27, 28, 29, 30, 31, 32, 33, 34, 35, 36, 37, 38, 39, 40, 41, 42, 43, 44, 45, 46, 47, 48, 49, 50, 51, 52, 53, 54, 55, 56, 57, 58, 59, 60])\n",
      "([23, 23, 23, 23, 23, 23, 23, 23, 23, 23, 23, 23, 23, 23, 23, 23, 23, 23, 23, 23, 23, 23, 23, 23, 23, 23, 23, 23, 23, 23, 23, 23, 23, 23, 23, 23, 23, 23, 23, 23, 23, 23, 23, 23, 23, 23, 23, 23, 23, 23, 23, 23, 23, 23, 23, 23, 23, 23, 23, 23], [0, 1, 2, 3, 4, 5, 6, 7, 8, 9, 10, 11, 12, 13, 14, 15, 16, 17, 18, 19, 20, 21, 22, 24, 25, 26, 27, 28, 29, 30, 31, 32, 33, 34, 35, 36, 37, 38, 39, 40, 41, 42, 43, 44, 45, 46, 47, 48, 49, 50, 51, 52, 53, 54, 55, 56, 57, 58, 59, 60])\n",
      "([24, 24, 24, 24, 24, 24, 24, 24, 24, 24, 24, 24, 24, 24, 24, 24, 24, 24, 24, 24, 24, 24, 24, 24, 24, 24, 24, 24, 24, 24, 24, 24, 24, 24, 24, 24, 24, 24, 24, 24, 24, 24, 24, 24, 24, 24, 24, 24, 24, 24, 24, 24, 24, 24, 24, 24, 24, 24, 24, 24], [0, 1, 2, 3, 4, 5, 6, 7, 8, 9, 10, 11, 12, 13, 14, 15, 16, 17, 18, 19, 20, 21, 22, 23, 25, 26, 27, 28, 29, 30, 31, 32, 33, 34, 35, 36, 37, 38, 39, 40, 41, 42, 43, 44, 45, 46, 47, 48, 49, 50, 51, 52, 53, 54, 55, 56, 57, 58, 59, 60])\n",
      "([25, 25, 25, 25, 25, 25, 25, 25, 25, 25, 25, 25, 25, 25, 25, 25, 25, 25, 25, 25, 25, 25, 25, 25, 25, 25, 25, 25, 25, 25, 25, 25, 25, 25, 25, 25, 25, 25, 25, 25, 25, 25, 25, 25, 25, 25, 25, 25, 25, 25, 25, 25, 25, 25, 25, 25, 25, 25, 25, 25], [0, 1, 2, 3, 4, 5, 6, 7, 8, 9, 10, 11, 12, 13, 14, 15, 16, 17, 18, 19, 20, 21, 22, 23, 24, 26, 27, 28, 29, 30, 31, 32, 33, 34, 35, 36, 37, 38, 39, 40, 41, 42, 43, 44, 45, 46, 47, 48, 49, 50, 51, 52, 53, 54, 55, 56, 57, 58, 59, 60])\n",
      "([26, 26, 26, 26, 26, 26, 26, 26, 26, 26, 26, 26, 26, 26, 26, 26, 26, 26, 26, 26, 26, 26, 26, 26, 26, 26, 26, 26, 26, 26, 26, 26, 26, 26, 26, 26, 26, 26, 26, 26, 26, 26, 26, 26, 26, 26, 26, 26, 26, 26, 26, 26, 26, 26, 26, 26, 26, 26, 26, 26], [0, 1, 2, 3, 4, 5, 6, 7, 8, 9, 10, 11, 12, 13, 14, 15, 16, 17, 18, 19, 20, 21, 22, 23, 24, 25, 27, 28, 29, 30, 31, 32, 33, 34, 35, 36, 37, 38, 39, 40, 41, 42, 43, 44, 45, 46, 47, 48, 49, 50, 51, 52, 53, 54, 55, 56, 57, 58, 59, 60])\n",
      "([27, 27, 27, 27, 27, 27, 27, 27, 27, 27, 27, 27, 27, 27, 27, 27, 27, 27, 27, 27, 27, 27, 27, 27, 27, 27, 27, 27, 27, 27, 27, 27, 27, 27, 27, 27, 27, 27, 27, 27, 27, 27, 27, 27, 27, 27, 27, 27, 27, 27, 27, 27, 27, 27, 27, 27, 27, 27, 27, 27], [0, 1, 2, 3, 4, 5, 6, 7, 8, 9, 10, 11, 12, 13, 14, 15, 16, 17, 18, 19, 20, 21, 22, 23, 24, 25, 26, 28, 29, 30, 31, 32, 33, 34, 35, 36, 37, 38, 39, 40, 41, 42, 43, 44, 45, 46, 47, 48, 49, 50, 51, 52, 53, 54, 55, 56, 57, 58, 59, 60])\n",
      "([28, 28, 28, 28, 28, 28, 28, 28, 28, 28, 28, 28, 28, 28, 28, 28, 28, 28, 28, 28, 28, 28, 28, 28, 28, 28, 28, 28, 28, 28, 28, 28, 28, 28, 28, 28, 28, 28, 28, 28, 28, 28, 28, 28, 28, 28, 28, 28, 28, 28, 28, 28, 28, 28, 28, 28, 28, 28, 28, 28], [0, 1, 2, 3, 4, 5, 6, 7, 8, 9, 10, 11, 12, 13, 14, 15, 16, 17, 18, 19, 20, 21, 22, 23, 24, 25, 26, 27, 29, 30, 31, 32, 33, 34, 35, 36, 37, 38, 39, 40, 41, 42, 43, 44, 45, 46, 47, 48, 49, 50, 51, 52, 53, 54, 55, 56, 57, 58, 59, 60])\n",
      "([29, 29, 29, 29, 29, 29, 29, 29, 29, 29, 29, 29, 29, 29, 29, 29, 29, 29, 29, 29, 29, 29, 29, 29, 29, 29, 29, 29, 29, 29, 29, 29, 29, 29, 29, 29, 29, 29, 29, 29, 29, 29, 29, 29, 29, 29, 29, 29, 29, 29, 29, 29, 29, 29, 29, 29, 29, 29, 29, 29], [0, 1, 2, 3, 4, 5, 6, 7, 8, 9, 10, 11, 12, 13, 14, 15, 16, 17, 18, 19, 20, 21, 22, 23, 24, 25, 26, 27, 28, 30, 31, 32, 33, 34, 35, 36, 37, 38, 39, 40, 41, 42, 43, 44, 45, 46, 47, 48, 49, 50, 51, 52, 53, 54, 55, 56, 57, 58, 59, 60])\n",
      "([30, 30, 30, 30, 30, 30, 30, 30, 30, 30, 30, 30, 30, 30, 30, 30, 30, 30, 30, 30, 30, 30, 30, 30, 30, 30, 30, 30, 30, 30, 30, 30, 30, 30, 30, 30, 30, 30, 30, 30, 30, 30, 30, 30, 30, 30, 30, 30, 30, 30, 30, 30, 30, 30, 30, 30, 30, 30, 30, 30], [0, 1, 2, 3, 4, 5, 6, 7, 8, 9, 10, 11, 12, 13, 14, 15, 16, 17, 18, 19, 20, 21, 22, 23, 24, 25, 26, 27, 28, 29, 31, 32, 33, 34, 35, 36, 37, 38, 39, 40, 41, 42, 43, 44, 45, 46, 47, 48, 49, 50, 51, 52, 53, 54, 55, 56, 57, 58, 59, 60])\n",
      "([31, 31, 31, 31, 31, 31, 31, 31, 31, 31, 31, 31, 31, 31, 31, 31, 31, 31, 31, 31, 31, 31, 31, 31, 31, 31, 31, 31, 31, 31, 31, 31, 31, 31, 31, 31, 31, 31, 31, 31, 31, 31, 31, 31, 31, 31, 31, 31, 31, 31, 31, 31, 31, 31, 31, 31, 31, 31, 31, 31], [0, 1, 2, 3, 4, 5, 6, 7, 8, 9, 10, 11, 12, 13, 14, 15, 16, 17, 18, 19, 20, 21, 22, 23, 24, 25, 26, 27, 28, 29, 30, 32, 33, 34, 35, 36, 37, 38, 39, 40, 41, 42, 43, 44, 45, 46, 47, 48, 49, 50, 51, 52, 53, 54, 55, 56, 57, 58, 59, 60])\n",
      "([32, 32, 32, 32, 32, 32, 32, 32, 32, 32, 32, 32, 32, 32, 32, 32, 32, 32, 32, 32, 32, 32, 32, 32, 32, 32, 32, 32, 32, 32, 32, 32, 32, 32, 32, 32, 32, 32, 32, 32, 32, 32, 32, 32, 32, 32, 32, 32, 32, 32, 32, 32, 32, 32, 32, 32, 32, 32, 32, 32], [0, 1, 2, 3, 4, 5, 6, 7, 8, 9, 10, 11, 12, 13, 14, 15, 16, 17, 18, 19, 20, 21, 22, 23, 24, 25, 26, 27, 28, 29, 30, 31, 33, 34, 35, 36, 37, 38, 39, 40, 41, 42, 43, 44, 45, 46, 47, 48, 49, 50, 51, 52, 53, 54, 55, 56, 57, 58, 59, 60])\n"
     ]
    },
    {
     "name": "stderr",
     "output_type": "stream",
     "text": [
      "  2%|▋                                        | 1/61 [04:47<4:47:39, 287.65s/it]\n"
     ]
    },
    {
     "ename": "KeyboardInterrupt",
     "evalue": "",
     "output_type": "error",
     "traceback": [
      "\u001b[0;31m---------------------------------------------------------------------------\u001b[0m",
      "\u001b[0;31mKeyboardInterrupt\u001b[0m                         Traceback (most recent call last)",
      "\u001b[0;32m/tmp/ipykernel_333676/4272067579.py\u001b[0m in \u001b[0;36m<module>\u001b[0;34m\u001b[0m\n\u001b[1;32m      7\u001b[0m \u001b[0;34m\u001b[0m\u001b[0m\n\u001b[1;32m      8\u001b[0m \u001b[0;32mfor\u001b[0m \u001b[0mi\u001b[0m\u001b[0;34m,\u001b[0m \u001b[0md\u001b[0m \u001b[0;32min\u001b[0m \u001b[0menumerate\u001b[0m\u001b[0;34m(\u001b[0m\u001b[0mtqdm\u001b[0m\u001b[0;34m(\u001b[0m\u001b[0mEEG_epoches\u001b[0m\u001b[0;34m)\u001b[0m\u001b[0;34m)\u001b[0m\u001b[0;34m:\u001b[0m\u001b[0;34m\u001b[0m\u001b[0;34m\u001b[0m\u001b[0m\n\u001b[0;32m----> 9\u001b[0;31m     \u001b[0mFC\u001b[0m \u001b[0;34m=\u001b[0m \u001b[0mEpochRotate\u001b[0m\u001b[0;34m(\u001b[0m\u001b[0md\u001b[0m\u001b[0;34m,\u001b[0m \u001b[0mmetric_Name\u001b[0m\u001b[0;34m)\u001b[0m\u001b[0;34m\u001b[0m\u001b[0;34m\u001b[0m\u001b[0m\n\u001b[0m\u001b[1;32m     10\u001b[0m     \u001b[0mnp\u001b[0m\u001b[0;34m.\u001b[0m\u001b[0msave\u001b[0m\u001b[0;34m(\u001b[0m\u001b[0;34m'/workspace/brail_poc3/experiments/FC_Result_231012/{}/{}.npy'\u001b[0m\u001b[0;34m.\u001b[0m\u001b[0mformat\u001b[0m\u001b[0;34m(\u001b[0m\u001b[0mmetric_Name\u001b[0m\u001b[0;34m,\u001b[0m \u001b[0mEEG\u001b[0m\u001b[0;34m[\u001b[0m\u001b[0mi\u001b[0m\u001b[0;34m]\u001b[0m\u001b[0;34m[\u001b[0m\u001b[0;34m'Subject_Number'\u001b[0m\u001b[0;34m]\u001b[0m\u001b[0;34m)\u001b[0m\u001b[0;34m,\u001b[0m \u001b[0mFC\u001b[0m\u001b[0;34m)\u001b[0m\u001b[0;34m\u001b[0m\u001b[0;34m\u001b[0m\u001b[0m\n",
      "\u001b[0;32m/tmp/ipykernel_333676/1285187122.py\u001b[0m in \u001b[0;36mEpochRotate\u001b[0;34m(OneEpoch, metric)\u001b[0m\n\u001b[1;32m     87\u001b[0m     \u001b[0mprint\u001b[0m\u001b[0;34m(\u001b[0m\u001b[0mdata\u001b[0m\u001b[0;34m.\u001b[0m\u001b[0mshape\u001b[0m\u001b[0;34m)\u001b[0m\u001b[0;34m\u001b[0m\u001b[0;34m\u001b[0m\u001b[0m\n\u001b[1;32m     88\u001b[0m     \u001b[0;32mfor\u001b[0m \u001b[0mi\u001b[0m \u001b[0;32min\u001b[0m \u001b[0mrange\u001b[0m\u001b[0;34m(\u001b[0m\u001b[0mdata\u001b[0m\u001b[0;34m.\u001b[0m\u001b[0mshape\u001b[0m\u001b[0;34m[\u001b[0m\u001b[0;36m1\u001b[0m\u001b[0;34m]\u001b[0m\u001b[0;34m)\u001b[0m\u001b[0;34m:\u001b[0m\u001b[0;34m\u001b[0m\u001b[0;34m\u001b[0m\u001b[0m\n\u001b[0;32m---> 89\u001b[0;31m         \u001b[0mChan_PLI\u001b[0m\u001b[0;34m.\u001b[0m\u001b[0mappend\u001b[0m\u001b[0;34m(\u001b[0m\u001b[0mCauConn\u001b[0m\u001b[0;34m(\u001b[0m\u001b[0mi\u001b[0m\u001b[0;34m,\u001b[0m \u001b[0mdata\u001b[0m\u001b[0;34m,\u001b[0m \u001b[0mmetric\u001b[0m\u001b[0;34m)\u001b[0m\u001b[0;34m)\u001b[0m\u001b[0;34m\u001b[0m\u001b[0;34m\u001b[0m\u001b[0m\n\u001b[0m\u001b[1;32m     90\u001b[0m     \u001b[0;32mfor\u001b[0m \u001b[0mi\u001b[0m \u001b[0;32min\u001b[0m \u001b[0mrange\u001b[0m\u001b[0;34m(\u001b[0m\u001b[0mdata\u001b[0m\u001b[0;34m.\u001b[0m\u001b[0mshape\u001b[0m\u001b[0;34m[\u001b[0m\u001b[0;36m1\u001b[0m\u001b[0;34m]\u001b[0m\u001b[0;34m)\u001b[0m\u001b[0;34m:\u001b[0m\u001b[0;34m\u001b[0m\u001b[0;34m\u001b[0m\u001b[0m\n\u001b[1;32m     91\u001b[0m         \u001b[0mChan_PLI\u001b[0m\u001b[0;34m[\u001b[0m\u001b[0mi\u001b[0m\u001b[0;34m]\u001b[0m\u001b[0;34m.\u001b[0m\u001b[0minsert\u001b[0m\u001b[0;34m(\u001b[0m\u001b[0mi\u001b[0m\u001b[0;34m,\u001b[0m \u001b[0;36m0\u001b[0m\u001b[0;34m)\u001b[0m\u001b[0;34m\u001b[0m\u001b[0;34m\u001b[0m\u001b[0m\n",
      "\u001b[0;32m/tmp/ipykernel_333676/1285187122.py\u001b[0m in \u001b[0;36mCauConn\u001b[0;34m(ChanNum, data, metrics)\u001b[0m\n\u001b[1;32m     49\u001b[0m     \u001b[0mindices\u001b[0m \u001b[0;34m=\u001b[0m \u001b[0;34m(\u001b[0m\u001b[0mindex1\u001b[0m\u001b[0;34m,\u001b[0m \u001b[0mindex2\u001b[0m\u001b[0;34m)\u001b[0m\u001b[0;34m\u001b[0m\u001b[0;34m\u001b[0m\u001b[0m\n\u001b[1;32m     50\u001b[0m     \u001b[0mprint\u001b[0m\u001b[0;34m(\u001b[0m\u001b[0mindices\u001b[0m\u001b[0;34m)\u001b[0m\u001b[0;34m\u001b[0m\u001b[0;34m\u001b[0m\u001b[0m\n\u001b[0;32m---> 51\u001b[0;31m     conn = spectral_connectivity_epochs(\n\u001b[0m\u001b[1;32m     52\u001b[0m             \u001b[0mdata\u001b[0m\u001b[0;34m,\u001b[0m \u001b[0mmethod\u001b[0m\u001b[0;34m=\u001b[0m\u001b[0mmetrics\u001b[0m\u001b[0;34m,\u001b[0m \u001b[0msfreq\u001b[0m\u001b[0;34m=\u001b[0m\u001b[0;36m250\u001b[0m\u001b[0;34m,\u001b[0m \u001b[0mindices\u001b[0m\u001b[0;34m=\u001b[0m\u001b[0mindices\u001b[0m\u001b[0;34m,\u001b[0m\u001b[0;34m\u001b[0m\u001b[0;34m\u001b[0m\u001b[0m\n\u001b[1;32m     53\u001b[0m             fmin=9, fmax=11, faverage=True, verbose=False).get_data()[:, 0]\n",
      "\u001b[0;32m<decorator-gen-618>\u001b[0m in \u001b[0;36mspectral_connectivity_epochs\u001b[0;34m(data, names, method, indices, sfreq, mode, fmin, fmax, fskip, faverage, tmin, tmax, mt_bandwidth, mt_adaptive, mt_low_bias, cwt_freqs, cwt_n_cycles, block_size, n_jobs, verbose)\u001b[0m\n",
      "\u001b[0;32m/workspace/brail_poc3/.venv/lib/python3.8/site-packages/mne_connectivity/spectral/epochs.py\u001b[0m in \u001b[0;36mspectral_connectivity_epochs\u001b[0;34m(data, names, method, indices, sfreq, mode, fmin, fmax, fskip, faverage, tmin, tmax, mt_bandwidth, mt_adaptive, mt_low_bias, cwt_freqs, cwt_n_cycles, block_size, n_jobs, verbose)\u001b[0m\n\u001b[1;32m   1098\u001b[0m                             % (epoch_idx + 1))\n\u001b[1;32m   1099\u001b[0m                 \u001b[0;31m# con methods and psd are updated inplace\u001b[0m\u001b[0;34m\u001b[0m\u001b[0;34m\u001b[0m\u001b[0;34m\u001b[0m\u001b[0m\n\u001b[0;32m-> 1100\u001b[0;31m                 \u001b[0m_epoch_spectral_connectivity\u001b[0m\u001b[0;34m(\u001b[0m\u001b[0mdata\u001b[0m\u001b[0;34m=\u001b[0m\u001b[0mthis_epoch\u001b[0m\u001b[0;34m,\u001b[0m \u001b[0;34m**\u001b[0m\u001b[0mcall_params\u001b[0m\u001b[0;34m)\u001b[0m\u001b[0;34m\u001b[0m\u001b[0;34m\u001b[0m\u001b[0m\n\u001b[0m\u001b[1;32m   1101\u001b[0m                 \u001b[0mepoch_idx\u001b[0m \u001b[0;34m+=\u001b[0m \u001b[0;36m1\u001b[0m\u001b[0;34m\u001b[0m\u001b[0;34m\u001b[0m\u001b[0m\n\u001b[1;32m   1102\u001b[0m         \u001b[0;32melse\u001b[0m\u001b[0;34m:\u001b[0m\u001b[0;34m\u001b[0m\u001b[0;34m\u001b[0m\u001b[0m\n",
      "\u001b[0;32m/workspace/brail_poc3/.venv/lib/python3.8/site-packages/mne_connectivity/spectral/epochs.py\u001b[0m in \u001b[0;36m_epoch_spectral_connectivity\u001b[0;34m(data, sig_idx, tmin_idx, tmax_idx, sfreq, mode, window_fun, eigvals, wavelets, freq_mask, mt_adaptive, idx_map, block_size, psd, accumulate_psd, con_method_types, con_methods, n_signals, n_times, accumulate_inplace)\u001b[0m\n\u001b[1;32m    568\u001b[0m                     tmax_idx=tmax_idx)\n\u001b[1;32m    569\u001b[0m             \u001b[0;32melse\u001b[0m\u001b[0;34m:\u001b[0m\u001b[0;34m\u001b[0m\u001b[0;34m\u001b[0m\u001b[0m\n\u001b[0;32m--> 570\u001b[0;31m                 this_x_t, _ = _mt_spectra(\n\u001b[0m\u001b[1;32m    571\u001b[0m                     \u001b[0mthis_data\u001b[0m\u001b[0;34m[\u001b[0m\u001b[0msig_idx\u001b[0m\u001b[0;34m,\u001b[0m \u001b[0mtmin_idx\u001b[0m\u001b[0;34m:\u001b[0m\u001b[0mtmax_idx\u001b[0m\u001b[0;34m]\u001b[0m\u001b[0;34m,\u001b[0m\u001b[0;34m\u001b[0m\u001b[0;34m\u001b[0m\u001b[0m\n\u001b[1;32m    572\u001b[0m                     window_fun, sfreq)\n",
      "\u001b[0;32m/workspace/brail_poc3/.venv/lib/python3.8/site-packages/mne/time_frequency/multitaper.py\u001b[0m in \u001b[0;36m_mt_spectra\u001b[0;34m(x, dpss, sfreq, n_fft)\u001b[0m\n\u001b[1;32m    269\u001b[0m     \u001b[0mx_mt\u001b[0m \u001b[0;34m=\u001b[0m \u001b[0mnp\u001b[0m\u001b[0;34m.\u001b[0m\u001b[0mzeros\u001b[0m\u001b[0;34m(\u001b[0m\u001b[0mx\u001b[0m\u001b[0;34m.\u001b[0m\u001b[0mshape\u001b[0m\u001b[0;34m[\u001b[0m\u001b[0;34m:\u001b[0m\u001b[0;34m-\u001b[0m\u001b[0;36m1\u001b[0m\u001b[0;34m]\u001b[0m \u001b[0;34m+\u001b[0m \u001b[0;34m(\u001b[0m\u001b[0mn_tapers\u001b[0m\u001b[0;34m,\u001b[0m \u001b[0mlen\u001b[0m\u001b[0;34m(\u001b[0m\u001b[0mfreqs\u001b[0m\u001b[0;34m)\u001b[0m\u001b[0;34m)\u001b[0m\u001b[0;34m,\u001b[0m \u001b[0mdtype\u001b[0m\u001b[0;34m=\u001b[0m\u001b[0mnp\u001b[0m\u001b[0;34m.\u001b[0m\u001b[0mcomplex128\u001b[0m\u001b[0;34m)\u001b[0m\u001b[0;34m\u001b[0m\u001b[0;34m\u001b[0m\u001b[0m\n\u001b[1;32m    270\u001b[0m     \u001b[0;32mfor\u001b[0m \u001b[0midx\u001b[0m\u001b[0;34m,\u001b[0m \u001b[0msig\u001b[0m \u001b[0;32min\u001b[0m \u001b[0menumerate\u001b[0m\u001b[0;34m(\u001b[0m\u001b[0mx\u001b[0m\u001b[0;34m)\u001b[0m\u001b[0;34m:\u001b[0m\u001b[0;34m\u001b[0m\u001b[0;34m\u001b[0m\u001b[0m\n\u001b[0;32m--> 271\u001b[0;31m         \u001b[0mx_mt\u001b[0m\u001b[0;34m[\u001b[0m\u001b[0midx\u001b[0m\u001b[0;34m]\u001b[0m \u001b[0;34m=\u001b[0m \u001b[0mrfft\u001b[0m\u001b[0;34m(\u001b[0m\u001b[0msig\u001b[0m\u001b[0;34m[\u001b[0m\u001b[0;34m...\u001b[0m\u001b[0;34m,\u001b[0m \u001b[0mnp\u001b[0m\u001b[0;34m.\u001b[0m\u001b[0mnewaxis\u001b[0m\u001b[0;34m,\u001b[0m \u001b[0;34m:\u001b[0m\u001b[0;34m]\u001b[0m \u001b[0;34m*\u001b[0m \u001b[0mdpss\u001b[0m\u001b[0;34m,\u001b[0m \u001b[0mn\u001b[0m\u001b[0;34m=\u001b[0m\u001b[0mn_fft\u001b[0m\u001b[0;34m)\u001b[0m\u001b[0;34m\u001b[0m\u001b[0;34m\u001b[0m\u001b[0m\n\u001b[0m\u001b[1;32m    272\u001b[0m     \u001b[0;31m# Adjust DC and maybe Nyquist, depending on one-sided transform\u001b[0m\u001b[0;34m\u001b[0m\u001b[0;34m\u001b[0m\u001b[0;34m\u001b[0m\u001b[0m\n\u001b[1;32m    273\u001b[0m     \u001b[0mx_mt\u001b[0m\u001b[0;34m[\u001b[0m\u001b[0;34m...\u001b[0m\u001b[0;34m,\u001b[0m \u001b[0;36m0\u001b[0m\u001b[0;34m]\u001b[0m \u001b[0;34m/=\u001b[0m \u001b[0mnp\u001b[0m\u001b[0;34m.\u001b[0m\u001b[0msqrt\u001b[0m\u001b[0;34m(\u001b[0m\u001b[0;36m2.0\u001b[0m\u001b[0;34m)\u001b[0m\u001b[0;34m\u001b[0m\u001b[0;34m\u001b[0m\u001b[0m\n",
      "\u001b[0;32m/workspace/brail_poc3/.venv/lib/python3.8/site-packages/scipy/fft/_backend.py\u001b[0m in \u001b[0;36m__ua_function__\u001b[0;34m(method, args, kwargs)\u001b[0m\n\u001b[1;32m     23\u001b[0m         \u001b[0;32mif\u001b[0m \u001b[0mfn\u001b[0m \u001b[0;32mis\u001b[0m \u001b[0;32mNone\u001b[0m\u001b[0;34m:\u001b[0m\u001b[0;34m\u001b[0m\u001b[0;34m\u001b[0m\u001b[0m\n\u001b[1;32m     24\u001b[0m             \u001b[0;32mreturn\u001b[0m \u001b[0mNotImplemented\u001b[0m\u001b[0;34m\u001b[0m\u001b[0;34m\u001b[0m\u001b[0m\n\u001b[0;32m---> 25\u001b[0;31m         \u001b[0;32mreturn\u001b[0m \u001b[0mfn\u001b[0m\u001b[0;34m(\u001b[0m\u001b[0;34m*\u001b[0m\u001b[0margs\u001b[0m\u001b[0;34m,\u001b[0m \u001b[0;34m**\u001b[0m\u001b[0mkwargs\u001b[0m\u001b[0;34m)\u001b[0m\u001b[0;34m\u001b[0m\u001b[0;34m\u001b[0m\u001b[0m\n\u001b[0m\u001b[1;32m     26\u001b[0m \u001b[0;34m\u001b[0m\u001b[0m\n\u001b[1;32m     27\u001b[0m \u001b[0;34m\u001b[0m\u001b[0m\n",
      "\u001b[0;32m/workspace/brail_poc3/.venv/lib/python3.8/site-packages/scipy/fft/_pocketfft/basic.py\u001b[0m in \u001b[0;36mr2c\u001b[0;34m(forward, x, n, axis, norm, overwrite_x, workers, plan)\u001b[0m\n\u001b[1;32m     60\u001b[0m \u001b[0;34m\u001b[0m\u001b[0m\n\u001b[1;32m     61\u001b[0m     \u001b[0;31m# Note: overwrite_x is not utilised\u001b[0m\u001b[0;34m\u001b[0m\u001b[0;34m\u001b[0m\u001b[0;34m\u001b[0m\u001b[0m\n\u001b[0;32m---> 62\u001b[0;31m     \u001b[0;32mreturn\u001b[0m \u001b[0mpfft\u001b[0m\u001b[0;34m.\u001b[0m\u001b[0mr2c\u001b[0m\u001b[0;34m(\u001b[0m\u001b[0mtmp\u001b[0m\u001b[0;34m,\u001b[0m \u001b[0;34m(\u001b[0m\u001b[0maxis\u001b[0m\u001b[0;34m,\u001b[0m\u001b[0;34m)\u001b[0m\u001b[0;34m,\u001b[0m \u001b[0mforward\u001b[0m\u001b[0;34m,\u001b[0m \u001b[0mnorm\u001b[0m\u001b[0;34m,\u001b[0m \u001b[0;32mNone\u001b[0m\u001b[0;34m,\u001b[0m \u001b[0mworkers\u001b[0m\u001b[0;34m)\u001b[0m\u001b[0;34m\u001b[0m\u001b[0;34m\u001b[0m\u001b[0m\n\u001b[0m\u001b[1;32m     63\u001b[0m \u001b[0;34m\u001b[0m\u001b[0m\n\u001b[1;32m     64\u001b[0m \u001b[0;34m\u001b[0m\u001b[0m\n",
      "\u001b[0;31mKeyboardInterrupt\u001b[0m: "
     ]
    }
   ],
   "source": [
    "# print(EEG_epoches)\n",
    "# Calculate EEG functional connectivity\n",
    "metric_Name = 'pli'\n",
    "\n",
    "print(\"------------------------------------------------\")\n",
    "print(\"Calculate EEG functional connectivity\")\n",
    "\n",
    "for i, d in enumerate(tqdm(EEG_epoches)):\n",
    "    FC = EpochRotate(d, metric_Name)\n",
    "    np.save('/workspace/brail_poc3/experiments/FC_Result_231012/{}/{}.npy'.format(metric_Name, EEG[i]['Subject_Number']), FC)\n"
   ]
  },
  {
   "cell_type": "code",
   "execution_count": null,
   "id": "b13c0c96",
   "metadata": {},
   "outputs": [],
   "source": []
  },
  {
   "cell_type": "code",
   "execution_count": 18,
   "id": "11c7d971",
   "metadata": {},
   "outputs": [
    {
     "data": {
      "text/plain": [
       "201"
      ]
     },
     "execution_count": 18,
     "metadata": {},
     "output_type": "execute_result"
    }
   ],
   "source": [
    "len(glob.glob(\"/workspace/brail_poc3/experiments/FC_Result_231102/pli/*\"))"
   ]
  },
  {
   "cell_type": "code",
   "execution_count": 19,
   "id": "354a2575",
   "metadata": {},
   "outputs": [
    {
     "data": {
      "text/plain": [
       "201"
      ]
     },
     "execution_count": 19,
     "metadata": {},
     "output_type": "execute_result"
    }
   ],
   "source": [
    "len(glob.glob(\"/workspace/brail_poc3/experiments/FC_Result_231102/plv/*\"))"
   ]
  },
  {
   "cell_type": "code",
   "execution_count": 20,
   "id": "7f6565b1",
   "metadata": {},
   "outputs": [
    {
     "data": {
      "text/plain": [
       "201"
      ]
     },
     "execution_count": 20,
     "metadata": {},
     "output_type": "execute_result"
    }
   ],
   "source": [
    "len(glob.glob(\"/workspace/brail_poc3/experiments/FC_Result_231102/coh/*\"))"
   ]
  },
  {
   "cell_type": "code",
   "execution_count": null,
   "id": "c0a67eee",
   "metadata": {},
   "outputs": [],
   "source": []
  },
  {
   "cell_type": "code",
   "execution_count": null,
   "id": "be2fff49",
   "metadata": {},
   "outputs": [],
   "source": []
  },
  {
   "cell_type": "code",
   "execution_count": null,
   "id": "a40c61a1",
   "metadata": {},
   "outputs": [],
   "source": []
  },
  {
   "cell_type": "code",
   "execution_count": null,
   "id": "d562dad4",
   "metadata": {},
   "outputs": [],
   "source": []
  },
  {
   "cell_type": "code",
   "execution_count": null,
   "id": "dc0aa532",
   "metadata": {},
   "outputs": [],
   "source": []
  },
  {
   "cell_type": "code",
   "execution_count": null,
   "id": "7d8e2961",
   "metadata": {},
   "outputs": [],
   "source": []
  },
  {
   "cell_type": "code",
   "execution_count": null,
   "id": "7ab10bd7",
   "metadata": {},
   "outputs": [],
   "source": []
  },
  {
   "cell_type": "code",
   "execution_count": null,
   "id": "9562b3fb",
   "metadata": {},
   "outputs": [],
   "source": []
  },
  {
   "cell_type": "code",
   "execution_count": null,
   "id": "2e084813",
   "metadata": {},
   "outputs": [],
   "source": []
  },
  {
   "cell_type": "code",
   "execution_count": null,
   "id": "6bd3b181",
   "metadata": {},
   "outputs": [],
   "source": []
  },
  {
   "cell_type": "code",
   "execution_count": null,
   "id": "4df5f3a4",
   "metadata": {},
   "outputs": [],
   "source": []
  },
  {
   "cell_type": "code",
   "execution_count": null,
   "id": "944f0351",
   "metadata": {},
   "outputs": [],
   "source": []
  }
 ],
 "metadata": {
  "kernelspec": {
   "display_name": "Python 3 (ipykernel)",
   "language": "python",
   "name": "python3"
  },
  "language_info": {
   "codemirror_mode": {
    "name": "ipython",
    "version": 3
   },
   "file_extension": ".py",
   "mimetype": "text/x-python",
   "name": "python",
   "nbconvert_exporter": "python",
   "pygments_lexer": "ipython3",
   "version": "3.8.0"
  }
 },
 "nbformat": 4,
 "nbformat_minor": 5
}
