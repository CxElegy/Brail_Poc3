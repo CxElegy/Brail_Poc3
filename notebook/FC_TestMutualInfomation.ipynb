{
 "cells": [
  {
   "cell_type": "code",
   "execution_count": 9,
   "id": "b58297fc",
   "metadata": {},
   "outputs": [],
   "source": [
    "import shutil\n",
    "import glob\n",
    "import tarfile\n",
    "import os\n",
    "import mne\n",
    "import pandas as pd\n",
    "import numpy as np\n",
    "from tqdm import tqdm\n",
    "import spkit as sp\n",
    "import matplotlib.pyplot as plt\n",
    "from directory_tree import display_tree\n",
    "from mne_connectivity import spectral_connectivity_epochs\n",
    "from mne.datasets import sample\n",
    "import numpy as np\n",
    "from collections import Counter"
   ]
  },
  {
   "cell_type": "code",
   "execution_count": 5,
   "id": "bbf1a3f8",
   "metadata": {},
   "outputs": [
    {
     "name": "stderr",
     "output_type": "stream",
     "text": [
      "  0%|                                                   | 0/201 [00:00<?, ?it/s]/tmp/ipykernel_72612/4144421588.py:8: RuntimeWarning: Data file name in EEG.data (sub-010002_EC.fdt) is incorrect, the file name must have changed on disk, using the correct file name (sub-032301_EC.fdt).\n",
      "  Subjects[\"prepSignal_EC\"] = mne.io.read_raw_eeglab(\"/workspace/brail_poc3/experiments/Lemon_PreEEGLAB/{}/{}/{}_EC.set\".format(Subjects[\"Subject_Number\"], Subjects[\"Subject_Number\"], Subjects[\"Subject_Number\"]), preload=True, verbose=False)\n",
      "/tmp/ipykernel_72612/4144421588.py:8: RuntimeWarning: Limited 1 annotation(s) that were expanding outside the data range.\n",
      "  Subjects[\"prepSignal_EC\"] = mne.io.read_raw_eeglab(\"/workspace/brail_poc3/experiments/Lemon_PreEEGLAB/{}/{}/{}_EC.set\".format(Subjects[\"Subject_Number\"], Subjects[\"Subject_Number\"], Subjects[\"Subject_Number\"]), preload=True, verbose=False)\n",
      "/tmp/ipykernel_72612/4144421588.py:8: RuntimeWarning: The data contains 'boundary' events, indicating data discontinuities. Be cautious of filtering and epoching around these events.\n",
      "  Subjects[\"prepSignal_EC\"] = mne.io.read_raw_eeglab(\"/workspace/brail_poc3/experiments/Lemon_PreEEGLAB/{}/{}/{}_EC.set\".format(Subjects[\"Subject_Number\"], Subjects[\"Subject_Number\"], Subjects[\"Subject_Number\"]), preload=True, verbose=False)\n",
      "/tmp/ipykernel_72612/4144421588.py:9: RuntimeWarning: Data file name in EEG.data (sub-010002_EO.fdt) is incorrect, the file name must have changed on disk, using the correct file name (sub-032301_EO.fdt).\n",
      "  Subjects[\"prepSignal_EO\"] = mne.io.read_raw_eeglab(\"/workspace/brail_poc3/experiments/Lemon_PreEEGLAB/{}/{}/{}_EO.set\".format(Subjects[\"Subject_Number\"], Subjects[\"Subject_Number\"], Subjects[\"Subject_Number\"]), preload=True, verbose=False)\n"
     ]
    },
    {
     "name": "stdout",
     "output_type": "stream",
     "text": [
      "Subject number: sub-032301\n"
     ]
    },
    {
     "name": "stderr",
     "output_type": "stream",
     "text": [
      "/tmp/ipykernel_72612/4144421588.py:9: RuntimeWarning: Limited 1 annotation(s) that were expanding outside the data range.\n",
      "  Subjects[\"prepSignal_EO\"] = mne.io.read_raw_eeglab(\"/workspace/brail_poc3/experiments/Lemon_PreEEGLAB/{}/{}/{}_EO.set\".format(Subjects[\"Subject_Number\"], Subjects[\"Subject_Number\"], Subjects[\"Subject_Number\"]), preload=True, verbose=False)\n",
      "/tmp/ipykernel_72612/4144421588.py:9: RuntimeWarning: The data contains 'boundary' events, indicating data discontinuities. Be cautious of filtering and epoching around these events.\n",
      "  Subjects[\"prepSignal_EO\"] = mne.io.read_raw_eeglab(\"/workspace/brail_poc3/experiments/Lemon_PreEEGLAB/{}/{}/{}_EO.set\".format(Subjects[\"Subject_Number\"], Subjects[\"Subject_Number\"], Subjects[\"Subject_Number\"]), preload=True, verbose=False)\n",
      "  0%|▏                                          | 1/201 [00:00<00:56,  3.53it/s]/tmp/ipykernel_72612/4144421588.py:8: RuntimeWarning: Data file name in EEG.data (sub-010003_EC.fdt) is incorrect, the file name must have changed on disk, using the correct file name (sub-032302_EC.fdt).\n",
      "  Subjects[\"prepSignal_EC\"] = mne.io.read_raw_eeglab(\"/workspace/brail_poc3/experiments/Lemon_PreEEGLAB/{}/{}/{}_EC.set\".format(Subjects[\"Subject_Number\"], Subjects[\"Subject_Number\"], Subjects[\"Subject_Number\"]), preload=True, verbose=False)\n",
      "/tmp/ipykernel_72612/4144421588.py:8: RuntimeWarning: Limited 1 annotation(s) that were expanding outside the data range.\n",
      "  Subjects[\"prepSignal_EC\"] = mne.io.read_raw_eeglab(\"/workspace/brail_poc3/experiments/Lemon_PreEEGLAB/{}/{}/{}_EC.set\".format(Subjects[\"Subject_Number\"], Subjects[\"Subject_Number\"], Subjects[\"Subject_Number\"]), preload=True, verbose=False)\n",
      "/tmp/ipykernel_72612/4144421588.py:8: RuntimeWarning: The data contains 'boundary' events, indicating data discontinuities. Be cautious of filtering and epoching around these events.\n",
      "  Subjects[\"prepSignal_EC\"] = mne.io.read_raw_eeglab(\"/workspace/brail_poc3/experiments/Lemon_PreEEGLAB/{}/{}/{}_EC.set\".format(Subjects[\"Subject_Number\"], Subjects[\"Subject_Number\"], Subjects[\"Subject_Number\"]), preload=True, verbose=False)\n",
      "/tmp/ipykernel_72612/4144421588.py:9: RuntimeWarning: Data file name in EEG.data (sub-010003_EO.fdt) is incorrect, the file name must have changed on disk, using the correct file name (sub-032302_EO.fdt).\n",
      "  Subjects[\"prepSignal_EO\"] = mne.io.read_raw_eeglab(\"/workspace/brail_poc3/experiments/Lemon_PreEEGLAB/{}/{}/{}_EO.set\".format(Subjects[\"Subject_Number\"], Subjects[\"Subject_Number\"], Subjects[\"Subject_Number\"]), preload=True, verbose=False)\n"
     ]
    },
    {
     "name": "stdout",
     "output_type": "stream",
     "text": [
      "Subject number: sub-032302\n"
     ]
    },
    {
     "name": "stderr",
     "output_type": "stream",
     "text": [
      "/tmp/ipykernel_72612/4144421588.py:9: RuntimeWarning: Limited 1 annotation(s) that were expanding outside the data range.\n",
      "  Subjects[\"prepSignal_EO\"] = mne.io.read_raw_eeglab(\"/workspace/brail_poc3/experiments/Lemon_PreEEGLAB/{}/{}/{}_EO.set\".format(Subjects[\"Subject_Number\"], Subjects[\"Subject_Number\"], Subjects[\"Subject_Number\"]), preload=True, verbose=False)\n",
      "/tmp/ipykernel_72612/4144421588.py:9: RuntimeWarning: The data contains 'boundary' events, indicating data discontinuities. Be cautious of filtering and epoching around these events.\n",
      "  Subjects[\"prepSignal_EO\"] = mne.io.read_raw_eeglab(\"/workspace/brail_poc3/experiments/Lemon_PreEEGLAB/{}/{}/{}_EO.set\".format(Subjects[\"Subject_Number\"], Subjects[\"Subject_Number\"], Subjects[\"Subject_Number\"]), preload=True, verbose=False)\n",
      "  1%|▍                                          | 2/201 [00:00<00:55,  3.58it/s]/tmp/ipykernel_72612/4144421588.py:8: RuntimeWarning: Data file name in EEG.data (sub-010004_EC.fdt) is incorrect, the file name must have changed on disk, using the correct file name (sub-032303_EC.fdt).\n",
      "  Subjects[\"prepSignal_EC\"] = mne.io.read_raw_eeglab(\"/workspace/brail_poc3/experiments/Lemon_PreEEGLAB/{}/{}/{}_EC.set\".format(Subjects[\"Subject_Number\"], Subjects[\"Subject_Number\"], Subjects[\"Subject_Number\"]), preload=True, verbose=False)\n",
      "/tmp/ipykernel_72612/4144421588.py:8: RuntimeWarning: Limited 1 annotation(s) that were expanding outside the data range.\n",
      "  Subjects[\"prepSignal_EC\"] = mne.io.read_raw_eeglab(\"/workspace/brail_poc3/experiments/Lemon_PreEEGLAB/{}/{}/{}_EC.set\".format(Subjects[\"Subject_Number\"], Subjects[\"Subject_Number\"], Subjects[\"Subject_Number\"]), preload=True, verbose=False)\n",
      "/tmp/ipykernel_72612/4144421588.py:8: RuntimeWarning: The data contains 'boundary' events, indicating data discontinuities. Be cautious of filtering and epoching around these events.\n",
      "  Subjects[\"prepSignal_EC\"] = mne.io.read_raw_eeglab(\"/workspace/brail_poc3/experiments/Lemon_PreEEGLAB/{}/{}/{}_EC.set\".format(Subjects[\"Subject_Number\"], Subjects[\"Subject_Number\"], Subjects[\"Subject_Number\"]), preload=True, verbose=False)\n",
      "/tmp/ipykernel_72612/4144421588.py:9: RuntimeWarning: Data file name in EEG.data (sub-010004_EO.fdt) is incorrect, the file name must have changed on disk, using the correct file name (sub-032303_EO.fdt).\n",
      "  Subjects[\"prepSignal_EO\"] = mne.io.read_raw_eeglab(\"/workspace/brail_poc3/experiments/Lemon_PreEEGLAB/{}/{}/{}_EO.set\".format(Subjects[\"Subject_Number\"], Subjects[\"Subject_Number\"], Subjects[\"Subject_Number\"]), preload=True, verbose=False)\n"
     ]
    },
    {
     "name": "stdout",
     "output_type": "stream",
     "text": [
      "Subject number: sub-032303\n"
     ]
    },
    {
     "name": "stderr",
     "output_type": "stream",
     "text": [
      "/tmp/ipykernel_72612/4144421588.py:9: RuntimeWarning: Limited 1 annotation(s) that were expanding outside the data range.\n",
      "  Subjects[\"prepSignal_EO\"] = mne.io.read_raw_eeglab(\"/workspace/brail_poc3/experiments/Lemon_PreEEGLAB/{}/{}/{}_EO.set\".format(Subjects[\"Subject_Number\"], Subjects[\"Subject_Number\"], Subjects[\"Subject_Number\"]), preload=True, verbose=False)\n",
      "/tmp/ipykernel_72612/4144421588.py:9: RuntimeWarning: The data contains 'boundary' events, indicating data discontinuities. Be cautious of filtering and epoching around these events.\n",
      "  Subjects[\"prepSignal_EO\"] = mne.io.read_raw_eeglab(\"/workspace/brail_poc3/experiments/Lemon_PreEEGLAB/{}/{}/{}_EO.set\".format(Subjects[\"Subject_Number\"], Subjects[\"Subject_Number\"], Subjects[\"Subject_Number\"]), preload=True, verbose=False)\n",
      "  1%|▋                                          | 3/201 [00:00<00:55,  3.60it/s]/tmp/ipykernel_72612/4144421588.py:8: RuntimeWarning: Data file name in EEG.data (sub-010005_EC.fdt) is incorrect, the file name must have changed on disk, using the correct file name (sub-032304_EC.fdt).\n",
      "  Subjects[\"prepSignal_EC\"] = mne.io.read_raw_eeglab(\"/workspace/brail_poc3/experiments/Lemon_PreEEGLAB/{}/{}/{}_EC.set\".format(Subjects[\"Subject_Number\"], Subjects[\"Subject_Number\"], Subjects[\"Subject_Number\"]), preload=True, verbose=False)\n",
      "/tmp/ipykernel_72612/4144421588.py:8: RuntimeWarning: Limited 1 annotation(s) that were expanding outside the data range.\n",
      "  Subjects[\"prepSignal_EC\"] = mne.io.read_raw_eeglab(\"/workspace/brail_poc3/experiments/Lemon_PreEEGLAB/{}/{}/{}_EC.set\".format(Subjects[\"Subject_Number\"], Subjects[\"Subject_Number\"], Subjects[\"Subject_Number\"]), preload=True, verbose=False)\n",
      "/tmp/ipykernel_72612/4144421588.py:8: RuntimeWarning: The data contains 'boundary' events, indicating data discontinuities. Be cautious of filtering and epoching around these events.\n",
      "  Subjects[\"prepSignal_EC\"] = mne.io.read_raw_eeglab(\"/workspace/brail_poc3/experiments/Lemon_PreEEGLAB/{}/{}/{}_EC.set\".format(Subjects[\"Subject_Number\"], Subjects[\"Subject_Number\"], Subjects[\"Subject_Number\"]), preload=True, verbose=False)\n",
      "/tmp/ipykernel_72612/4144421588.py:9: RuntimeWarning: Data file name in EEG.data (sub-010005_EO.fdt) is incorrect, the file name must have changed on disk, using the correct file name (sub-032304_EO.fdt).\n",
      "  Subjects[\"prepSignal_EO\"] = mne.io.read_raw_eeglab(\"/workspace/brail_poc3/experiments/Lemon_PreEEGLAB/{}/{}/{}_EO.set\".format(Subjects[\"Subject_Number\"], Subjects[\"Subject_Number\"], Subjects[\"Subject_Number\"]), preload=True, verbose=False)\n"
     ]
    },
    {
     "name": "stdout",
     "output_type": "stream",
     "text": [
      "Subject number: sub-032304\n"
     ]
    },
    {
     "name": "stderr",
     "output_type": "stream",
     "text": [
      "/tmp/ipykernel_72612/4144421588.py:9: RuntimeWarning: Limited 1 annotation(s) that were expanding outside the data range.\n",
      "  Subjects[\"prepSignal_EO\"] = mne.io.read_raw_eeglab(\"/workspace/brail_poc3/experiments/Lemon_PreEEGLAB/{}/{}/{}_EO.set\".format(Subjects[\"Subject_Number\"], Subjects[\"Subject_Number\"], Subjects[\"Subject_Number\"]), preload=True, verbose=False)\n",
      "/tmp/ipykernel_72612/4144421588.py:9: RuntimeWarning: The data contains 'boundary' events, indicating data discontinuities. Be cautious of filtering and epoching around these events.\n",
      "  Subjects[\"prepSignal_EO\"] = mne.io.read_raw_eeglab(\"/workspace/brail_poc3/experiments/Lemon_PreEEGLAB/{}/{}/{}_EO.set\".format(Subjects[\"Subject_Number\"], Subjects[\"Subject_Number\"], Subjects[\"Subject_Number\"]), preload=True, verbose=False)\n",
      "  2%|▊                                          | 4/201 [00:01<00:54,  3.63it/s]/tmp/ipykernel_72612/4144421588.py:8: RuntimeWarning: Data file name in EEG.data (sub-010006_EC.fdt) is incorrect, the file name must have changed on disk, using the correct file name (sub-032305_EC.fdt).\n",
      "  Subjects[\"prepSignal_EC\"] = mne.io.read_raw_eeglab(\"/workspace/brail_poc3/experiments/Lemon_PreEEGLAB/{}/{}/{}_EC.set\".format(Subjects[\"Subject_Number\"], Subjects[\"Subject_Number\"], Subjects[\"Subject_Number\"]), preload=True, verbose=False)\n",
      "/tmp/ipykernel_72612/4144421588.py:8: RuntimeWarning: Limited 1 annotation(s) that were expanding outside the data range.\n",
      "  Subjects[\"prepSignal_EC\"] = mne.io.read_raw_eeglab(\"/workspace/brail_poc3/experiments/Lemon_PreEEGLAB/{}/{}/{}_EC.set\".format(Subjects[\"Subject_Number\"], Subjects[\"Subject_Number\"], Subjects[\"Subject_Number\"]), preload=True, verbose=False)\n",
      "/tmp/ipykernel_72612/4144421588.py:8: RuntimeWarning: The data contains 'boundary' events, indicating data discontinuities. Be cautious of filtering and epoching around these events.\n",
      "  Subjects[\"prepSignal_EC\"] = mne.io.read_raw_eeglab(\"/workspace/brail_poc3/experiments/Lemon_PreEEGLAB/{}/{}/{}_EC.set\".format(Subjects[\"Subject_Number\"], Subjects[\"Subject_Number\"], Subjects[\"Subject_Number\"]), preload=True, verbose=False)\n",
      "/tmp/ipykernel_72612/4144421588.py:9: RuntimeWarning: Data file name in EEG.data (sub-010006_EO.fdt) is incorrect, the file name must have changed on disk, using the correct file name (sub-032305_EO.fdt).\n",
      "  Subjects[\"prepSignal_EO\"] = mne.io.read_raw_eeglab(\"/workspace/brail_poc3/experiments/Lemon_PreEEGLAB/{}/{}/{}_EO.set\".format(Subjects[\"Subject_Number\"], Subjects[\"Subject_Number\"], Subjects[\"Subject_Number\"]), preload=True, verbose=False)\n"
     ]
    },
    {
     "name": "stdout",
     "output_type": "stream",
     "text": [
      "Subject number: sub-032305\n"
     ]
    },
    {
     "name": "stderr",
     "output_type": "stream",
     "text": [
      "/tmp/ipykernel_72612/4144421588.py:9: RuntimeWarning: Limited 1 annotation(s) that were expanding outside the data range.\n",
      "  Subjects[\"prepSignal_EO\"] = mne.io.read_raw_eeglab(\"/workspace/brail_poc3/experiments/Lemon_PreEEGLAB/{}/{}/{}_EO.set\".format(Subjects[\"Subject_Number\"], Subjects[\"Subject_Number\"], Subjects[\"Subject_Number\"]), preload=True, verbose=False)\n",
      "/tmp/ipykernel_72612/4144421588.py:9: RuntimeWarning: The data contains 'boundary' events, indicating data discontinuities. Be cautious of filtering and epoching around these events.\n",
      "  Subjects[\"prepSignal_EO\"] = mne.io.read_raw_eeglab(\"/workspace/brail_poc3/experiments/Lemon_PreEEGLAB/{}/{}/{}_EO.set\".format(Subjects[\"Subject_Number\"], Subjects[\"Subject_Number\"], Subjects[\"Subject_Number\"]), preload=True, verbose=False)\n",
      "  2%|█                                          | 5/201 [00:01<00:53,  3.70it/s]/tmp/ipykernel_72612/4144421588.py:8: RuntimeWarning: Data file name in EEG.data (sub-010007_EC.fdt) is incorrect, the file name must have changed on disk, using the correct file name (sub-032306_EC.fdt).\n",
      "  Subjects[\"prepSignal_EC\"] = mne.io.read_raw_eeglab(\"/workspace/brail_poc3/experiments/Lemon_PreEEGLAB/{}/{}/{}_EC.set\".format(Subjects[\"Subject_Number\"], Subjects[\"Subject_Number\"], Subjects[\"Subject_Number\"]), preload=True, verbose=False)\n",
      "/tmp/ipykernel_72612/4144421588.py:8: RuntimeWarning: Limited 1 annotation(s) that were expanding outside the data range.\n",
      "  Subjects[\"prepSignal_EC\"] = mne.io.read_raw_eeglab(\"/workspace/brail_poc3/experiments/Lemon_PreEEGLAB/{}/{}/{}_EC.set\".format(Subjects[\"Subject_Number\"], Subjects[\"Subject_Number\"], Subjects[\"Subject_Number\"]), preload=True, verbose=False)\n",
      "/tmp/ipykernel_72612/4144421588.py:8: RuntimeWarning: The data contains 'boundary' events, indicating data discontinuities. Be cautious of filtering and epoching around these events.\n",
      "  Subjects[\"prepSignal_EC\"] = mne.io.read_raw_eeglab(\"/workspace/brail_poc3/experiments/Lemon_PreEEGLAB/{}/{}/{}_EC.set\".format(Subjects[\"Subject_Number\"], Subjects[\"Subject_Number\"], Subjects[\"Subject_Number\"]), preload=True, verbose=False)\n",
      "/tmp/ipykernel_72612/4144421588.py:9: RuntimeWarning: Data file name in EEG.data (sub-010007_EO.fdt) is incorrect, the file name must have changed on disk, using the correct file name (sub-032306_EO.fdt).\n",
      "  Subjects[\"prepSignal_EO\"] = mne.io.read_raw_eeglab(\"/workspace/brail_poc3/experiments/Lemon_PreEEGLAB/{}/{}/{}_EO.set\".format(Subjects[\"Subject_Number\"], Subjects[\"Subject_Number\"], Subjects[\"Subject_Number\"]), preload=True, verbose=False)\n"
     ]
    },
    {
     "name": "stdout",
     "output_type": "stream",
     "text": [
      "Subject number: sub-032306\n"
     ]
    },
    {
     "name": "stderr",
     "output_type": "stream",
     "text": [
      "/tmp/ipykernel_72612/4144421588.py:9: RuntimeWarning: Limited 1 annotation(s) that were expanding outside the data range.\n",
      "  Subjects[\"prepSignal_EO\"] = mne.io.read_raw_eeglab(\"/workspace/brail_poc3/experiments/Lemon_PreEEGLAB/{}/{}/{}_EO.set\".format(Subjects[\"Subject_Number\"], Subjects[\"Subject_Number\"], Subjects[\"Subject_Number\"]), preload=True, verbose=False)\n",
      "/tmp/ipykernel_72612/4144421588.py:9: RuntimeWarning: The data contains 'boundary' events, indicating data discontinuities. Be cautious of filtering and epoching around these events.\n",
      "  Subjects[\"prepSignal_EO\"] = mne.io.read_raw_eeglab(\"/workspace/brail_poc3/experiments/Lemon_PreEEGLAB/{}/{}/{}_EO.set\".format(Subjects[\"Subject_Number\"], Subjects[\"Subject_Number\"], Subjects[\"Subject_Number\"]), preload=True, verbose=False)\n",
      "  3%|█▎                                         | 6/201 [00:01<00:52,  3.73it/s]/tmp/ipykernel_72612/4144421588.py:8: RuntimeWarning: Data file name in EEG.data (sub-010010_EC.fdt) is incorrect, the file name must have changed on disk, using the correct file name (sub-032307_EC.fdt).\n",
      "  Subjects[\"prepSignal_EC\"] = mne.io.read_raw_eeglab(\"/workspace/brail_poc3/experiments/Lemon_PreEEGLAB/{}/{}/{}_EC.set\".format(Subjects[\"Subject_Number\"], Subjects[\"Subject_Number\"], Subjects[\"Subject_Number\"]), preload=True, verbose=False)\n",
      "/tmp/ipykernel_72612/4144421588.py:8: RuntimeWarning: Limited 1 annotation(s) that were expanding outside the data range.\n",
      "  Subjects[\"prepSignal_EC\"] = mne.io.read_raw_eeglab(\"/workspace/brail_poc3/experiments/Lemon_PreEEGLAB/{}/{}/{}_EC.set\".format(Subjects[\"Subject_Number\"], Subjects[\"Subject_Number\"], Subjects[\"Subject_Number\"]), preload=True, verbose=False)\n",
      "/tmp/ipykernel_72612/4144421588.py:8: RuntimeWarning: The data contains 'boundary' events, indicating data discontinuities. Be cautious of filtering and epoching around these events.\n",
      "  Subjects[\"prepSignal_EC\"] = mne.io.read_raw_eeglab(\"/workspace/brail_poc3/experiments/Lemon_PreEEGLAB/{}/{}/{}_EC.set\".format(Subjects[\"Subject_Number\"], Subjects[\"Subject_Number\"], Subjects[\"Subject_Number\"]), preload=True, verbose=False)\n",
      "/tmp/ipykernel_72612/4144421588.py:9: RuntimeWarning: Data file name in EEG.data (sub-010010_EO.fdt) is incorrect, the file name must have changed on disk, using the correct file name (sub-032307_EO.fdt).\n",
      "  Subjects[\"prepSignal_EO\"] = mne.io.read_raw_eeglab(\"/workspace/brail_poc3/experiments/Lemon_PreEEGLAB/{}/{}/{}_EO.set\".format(Subjects[\"Subject_Number\"], Subjects[\"Subject_Number\"], Subjects[\"Subject_Number\"]), preload=True, verbose=False)\n"
     ]
    },
    {
     "name": "stdout",
     "output_type": "stream",
     "text": [
      "Subject number: sub-032307\n"
     ]
    },
    {
     "name": "stderr",
     "output_type": "stream",
     "text": [
      "/tmp/ipykernel_72612/4144421588.py:9: RuntimeWarning: Limited 1 annotation(s) that were expanding outside the data range.\n",
      "  Subjects[\"prepSignal_EO\"] = mne.io.read_raw_eeglab(\"/workspace/brail_poc3/experiments/Lemon_PreEEGLAB/{}/{}/{}_EO.set\".format(Subjects[\"Subject_Number\"], Subjects[\"Subject_Number\"], Subjects[\"Subject_Number\"]), preload=True, verbose=False)\n",
      "/tmp/ipykernel_72612/4144421588.py:9: RuntimeWarning: The data contains 'boundary' events, indicating data discontinuities. Be cautious of filtering and epoching around these events.\n",
      "  Subjects[\"prepSignal_EO\"] = mne.io.read_raw_eeglab(\"/workspace/brail_poc3/experiments/Lemon_PreEEGLAB/{}/{}/{}_EO.set\".format(Subjects[\"Subject_Number\"], Subjects[\"Subject_Number\"], Subjects[\"Subject_Number\"]), preload=True, verbose=False)\n",
      "  3%|█▍                                         | 7/201 [00:01<00:53,  3.64it/s]/tmp/ipykernel_72612/4144421588.py:8: RuntimeWarning: Data file name in EEG.data (sub-010012_EC.fdt) is incorrect, the file name must have changed on disk, using the correct file name (sub-032308_EC.fdt).\n",
      "  Subjects[\"prepSignal_EC\"] = mne.io.read_raw_eeglab(\"/workspace/brail_poc3/experiments/Lemon_PreEEGLAB/{}/{}/{}_EC.set\".format(Subjects[\"Subject_Number\"], Subjects[\"Subject_Number\"], Subjects[\"Subject_Number\"]), preload=True, verbose=False)\n",
      "/tmp/ipykernel_72612/4144421588.py:8: RuntimeWarning: Limited 1 annotation(s) that were expanding outside the data range.\n",
      "  Subjects[\"prepSignal_EC\"] = mne.io.read_raw_eeglab(\"/workspace/brail_poc3/experiments/Lemon_PreEEGLAB/{}/{}/{}_EC.set\".format(Subjects[\"Subject_Number\"], Subjects[\"Subject_Number\"], Subjects[\"Subject_Number\"]), preload=True, verbose=False)\n",
      "/tmp/ipykernel_72612/4144421588.py:8: RuntimeWarning: The data contains 'boundary' events, indicating data discontinuities. Be cautious of filtering and epoching around these events.\n",
      "  Subjects[\"prepSignal_EC\"] = mne.io.read_raw_eeglab(\"/workspace/brail_poc3/experiments/Lemon_PreEEGLAB/{}/{}/{}_EC.set\".format(Subjects[\"Subject_Number\"], Subjects[\"Subject_Number\"], Subjects[\"Subject_Number\"]), preload=True, verbose=False)\n",
      "/tmp/ipykernel_72612/4144421588.py:9: RuntimeWarning: Data file name in EEG.data (sub-010012_EO.fdt) is incorrect, the file name must have changed on disk, using the correct file name (sub-032308_EO.fdt).\n",
      "  Subjects[\"prepSignal_EO\"] = mne.io.read_raw_eeglab(\"/workspace/brail_poc3/experiments/Lemon_PreEEGLAB/{}/{}/{}_EO.set\".format(Subjects[\"Subject_Number\"], Subjects[\"Subject_Number\"], Subjects[\"Subject_Number\"]), preload=True, verbose=False)\n"
     ]
    },
    {
     "name": "stdout",
     "output_type": "stream",
     "text": [
      "Subject number: sub-032308\n"
     ]
    },
    {
     "name": "stderr",
     "output_type": "stream",
     "text": [
      "/tmp/ipykernel_72612/4144421588.py:9: RuntimeWarning: Limited 1 annotation(s) that were expanding outside the data range.\n",
      "  Subjects[\"prepSignal_EO\"] = mne.io.read_raw_eeglab(\"/workspace/brail_poc3/experiments/Lemon_PreEEGLAB/{}/{}/{}_EO.set\".format(Subjects[\"Subject_Number\"], Subjects[\"Subject_Number\"], Subjects[\"Subject_Number\"]), preload=True, verbose=False)\n",
      "/tmp/ipykernel_72612/4144421588.py:9: RuntimeWarning: The data contains 'boundary' events, indicating data discontinuities. Be cautious of filtering and epoching around these events.\n",
      "  Subjects[\"prepSignal_EO\"] = mne.io.read_raw_eeglab(\"/workspace/brail_poc3/experiments/Lemon_PreEEGLAB/{}/{}/{}_EO.set\".format(Subjects[\"Subject_Number\"], Subjects[\"Subject_Number\"], Subjects[\"Subject_Number\"]), preload=True, verbose=False)\n",
      "  4%|█▋                                         | 8/201 [00:02<00:52,  3.65it/s]/tmp/ipykernel_72612/4144421588.py:8: RuntimeWarning: Data file name in EEG.data (sub-010016_EC.fdt) is incorrect, the file name must have changed on disk, using the correct file name (sub-032310_EC.fdt).\n",
      "  Subjects[\"prepSignal_EC\"] = mne.io.read_raw_eeglab(\"/workspace/brail_poc3/experiments/Lemon_PreEEGLAB/{}/{}/{}_EC.set\".format(Subjects[\"Subject_Number\"], Subjects[\"Subject_Number\"], Subjects[\"Subject_Number\"]), preload=True, verbose=False)\n",
      "/tmp/ipykernel_72612/4144421588.py:8: RuntimeWarning: Limited 1 annotation(s) that were expanding outside the data range.\n",
      "  Subjects[\"prepSignal_EC\"] = mne.io.read_raw_eeglab(\"/workspace/brail_poc3/experiments/Lemon_PreEEGLAB/{}/{}/{}_EC.set\".format(Subjects[\"Subject_Number\"], Subjects[\"Subject_Number\"], Subjects[\"Subject_Number\"]), preload=True, verbose=False)\n",
      "/tmp/ipykernel_72612/4144421588.py:8: RuntimeWarning: The data contains 'boundary' events, indicating data discontinuities. Be cautious of filtering and epoching around these events.\n",
      "  Subjects[\"prepSignal_EC\"] = mne.io.read_raw_eeglab(\"/workspace/brail_poc3/experiments/Lemon_PreEEGLAB/{}/{}/{}_EC.set\".format(Subjects[\"Subject_Number\"], Subjects[\"Subject_Number\"], Subjects[\"Subject_Number\"]), preload=True, verbose=False)\n",
      "/tmp/ipykernel_72612/4144421588.py:9: RuntimeWarning: Data file name in EEG.data (sub-010016_EO.fdt) is incorrect, the file name must have changed on disk, using the correct file name (sub-032310_EO.fdt).\n",
      "  Subjects[\"prepSignal_EO\"] = mne.io.read_raw_eeglab(\"/workspace/brail_poc3/experiments/Lemon_PreEEGLAB/{}/{}/{}_EO.set\".format(Subjects[\"Subject_Number\"], Subjects[\"Subject_Number\"], Subjects[\"Subject_Number\"]), preload=True, verbose=False)\n"
     ]
    },
    {
     "name": "stdout",
     "output_type": "stream",
     "text": [
      "Subject number: sub-032310\n"
     ]
    },
    {
     "name": "stderr",
     "output_type": "stream",
     "text": [
      "/tmp/ipykernel_72612/4144421588.py:9: RuntimeWarning: Limited 1 annotation(s) that were expanding outside the data range.\n",
      "  Subjects[\"prepSignal_EO\"] = mne.io.read_raw_eeglab(\"/workspace/brail_poc3/experiments/Lemon_PreEEGLAB/{}/{}/{}_EO.set\".format(Subjects[\"Subject_Number\"], Subjects[\"Subject_Number\"], Subjects[\"Subject_Number\"]), preload=True, verbose=False)\n",
      "/tmp/ipykernel_72612/4144421588.py:9: RuntimeWarning: The data contains 'boundary' events, indicating data discontinuities. Be cautious of filtering and epoching around these events.\n",
      "  Subjects[\"prepSignal_EO\"] = mne.io.read_raw_eeglab(\"/workspace/brail_poc3/experiments/Lemon_PreEEGLAB/{}/{}/{}_EO.set\".format(Subjects[\"Subject_Number\"], Subjects[\"Subject_Number\"], Subjects[\"Subject_Number\"]), preload=True, verbose=False)\n",
      "  4%|█▉                                         | 9/201 [00:02<00:52,  3.67it/s]/tmp/ipykernel_72612/4144421588.py:8: RuntimeWarning: Data file name in EEG.data (sub-010017_EC.fdt) is incorrect, the file name must have changed on disk, using the correct file name (sub-032311_EC.fdt).\n",
      "  Subjects[\"prepSignal_EC\"] = mne.io.read_raw_eeglab(\"/workspace/brail_poc3/experiments/Lemon_PreEEGLAB/{}/{}/{}_EC.set\".format(Subjects[\"Subject_Number\"], Subjects[\"Subject_Number\"], Subjects[\"Subject_Number\"]), preload=True, verbose=False)\n",
      "/tmp/ipykernel_72612/4144421588.py:8: RuntimeWarning: Limited 1 annotation(s) that were expanding outside the data range.\n",
      "  Subjects[\"prepSignal_EC\"] = mne.io.read_raw_eeglab(\"/workspace/brail_poc3/experiments/Lemon_PreEEGLAB/{}/{}/{}_EC.set\".format(Subjects[\"Subject_Number\"], Subjects[\"Subject_Number\"], Subjects[\"Subject_Number\"]), preload=True, verbose=False)\n",
      "/tmp/ipykernel_72612/4144421588.py:8: RuntimeWarning: The data contains 'boundary' events, indicating data discontinuities. Be cautious of filtering and epoching around these events.\n",
      "  Subjects[\"prepSignal_EC\"] = mne.io.read_raw_eeglab(\"/workspace/brail_poc3/experiments/Lemon_PreEEGLAB/{}/{}/{}_EC.set\".format(Subjects[\"Subject_Number\"], Subjects[\"Subject_Number\"], Subjects[\"Subject_Number\"]), preload=True, verbose=False)\n",
      "/tmp/ipykernel_72612/4144421588.py:9: RuntimeWarning: Data file name in EEG.data (sub-010017_EO.fdt) is incorrect, the file name must have changed on disk, using the correct file name (sub-032311_EO.fdt).\n",
      "  Subjects[\"prepSignal_EO\"] = mne.io.read_raw_eeglab(\"/workspace/brail_poc3/experiments/Lemon_PreEEGLAB/{}/{}/{}_EO.set\".format(Subjects[\"Subject_Number\"], Subjects[\"Subject_Number\"], Subjects[\"Subject_Number\"]), preload=True, verbose=False)\n"
     ]
    },
    {
     "name": "stdout",
     "output_type": "stream",
     "text": [
      "Subject number: sub-032311\n"
     ]
    },
    {
     "name": "stderr",
     "output_type": "stream",
     "text": [
      "/tmp/ipykernel_72612/4144421588.py:9: RuntimeWarning: Limited 1 annotation(s) that were expanding outside the data range.\n",
      "  Subjects[\"prepSignal_EO\"] = mne.io.read_raw_eeglab(\"/workspace/brail_poc3/experiments/Lemon_PreEEGLAB/{}/{}/{}_EO.set\".format(Subjects[\"Subject_Number\"], Subjects[\"Subject_Number\"], Subjects[\"Subject_Number\"]), preload=True, verbose=False)\n",
      "/tmp/ipykernel_72612/4144421588.py:9: RuntimeWarning: The data contains 'boundary' events, indicating data discontinuities. Be cautious of filtering and epoching around these events.\n",
      "  Subjects[\"prepSignal_EO\"] = mne.io.read_raw_eeglab(\"/workspace/brail_poc3/experiments/Lemon_PreEEGLAB/{}/{}/{}_EO.set\".format(Subjects[\"Subject_Number\"], Subjects[\"Subject_Number\"], Subjects[\"Subject_Number\"]), preload=True, verbose=False)\n",
      "  5%|██                                        | 10/201 [00:02<00:52,  3.66it/s]/tmp/ipykernel_72612/4144421588.py:8: RuntimeWarning: Data file name in EEG.data (sub-010019_EC.fdt) is incorrect, the file name must have changed on disk, using the correct file name (sub-032312_EC.fdt).\n",
      "  Subjects[\"prepSignal_EC\"] = mne.io.read_raw_eeglab(\"/workspace/brail_poc3/experiments/Lemon_PreEEGLAB/{}/{}/{}_EC.set\".format(Subjects[\"Subject_Number\"], Subjects[\"Subject_Number\"], Subjects[\"Subject_Number\"]), preload=True, verbose=False)\n",
      "/tmp/ipykernel_72612/4144421588.py:8: RuntimeWarning: Limited 1 annotation(s) that were expanding outside the data range.\n",
      "  Subjects[\"prepSignal_EC\"] = mne.io.read_raw_eeglab(\"/workspace/brail_poc3/experiments/Lemon_PreEEGLAB/{}/{}/{}_EC.set\".format(Subjects[\"Subject_Number\"], Subjects[\"Subject_Number\"], Subjects[\"Subject_Number\"]), preload=True, verbose=False)\n",
      "/tmp/ipykernel_72612/4144421588.py:8: RuntimeWarning: The data contains 'boundary' events, indicating data discontinuities. Be cautious of filtering and epoching around these events.\n",
      "  Subjects[\"prepSignal_EC\"] = mne.io.read_raw_eeglab(\"/workspace/brail_poc3/experiments/Lemon_PreEEGLAB/{}/{}/{}_EC.set\".format(Subjects[\"Subject_Number\"], Subjects[\"Subject_Number\"], Subjects[\"Subject_Number\"]), preload=True, verbose=False)\n",
      "/tmp/ipykernel_72612/4144421588.py:9: RuntimeWarning: Data file name in EEG.data (sub-010019_EO.fdt) is incorrect, the file name must have changed on disk, using the correct file name (sub-032312_EO.fdt).\n",
      "  Subjects[\"prepSignal_EO\"] = mne.io.read_raw_eeglab(\"/workspace/brail_poc3/experiments/Lemon_PreEEGLAB/{}/{}/{}_EO.set\".format(Subjects[\"Subject_Number\"], Subjects[\"Subject_Number\"], Subjects[\"Subject_Number\"]), preload=True, verbose=False)\n"
     ]
    },
    {
     "name": "stdout",
     "output_type": "stream",
     "text": [
      "Subject number: sub-032312\n"
     ]
    },
    {
     "name": "stderr",
     "output_type": "stream",
     "text": [
      "/tmp/ipykernel_72612/4144421588.py:9: RuntimeWarning: Limited 1 annotation(s) that were expanding outside the data range.\n",
      "  Subjects[\"prepSignal_EO\"] = mne.io.read_raw_eeglab(\"/workspace/brail_poc3/experiments/Lemon_PreEEGLAB/{}/{}/{}_EO.set\".format(Subjects[\"Subject_Number\"], Subjects[\"Subject_Number\"], Subjects[\"Subject_Number\"]), preload=True, verbose=False)\n",
      "/tmp/ipykernel_72612/4144421588.py:9: RuntimeWarning: The data contains 'boundary' events, indicating data discontinuities. Be cautious of filtering and epoching around these events.\n",
      "  Subjects[\"prepSignal_EO\"] = mne.io.read_raw_eeglab(\"/workspace/brail_poc3/experiments/Lemon_PreEEGLAB/{}/{}/{}_EO.set\".format(Subjects[\"Subject_Number\"], Subjects[\"Subject_Number\"], Subjects[\"Subject_Number\"]), preload=True, verbose=False)\n",
      "  5%|██▎                                       | 11/201 [00:03<00:51,  3.69it/s]/tmp/ipykernel_72612/4144421588.py:8: RuntimeWarning: Data file name in EEG.data (sub-010020_EC.fdt) is incorrect, the file name must have changed on disk, using the correct file name (sub-032313_EC.fdt).\n",
      "  Subjects[\"prepSignal_EC\"] = mne.io.read_raw_eeglab(\"/workspace/brail_poc3/experiments/Lemon_PreEEGLAB/{}/{}/{}_EC.set\".format(Subjects[\"Subject_Number\"], Subjects[\"Subject_Number\"], Subjects[\"Subject_Number\"]), preload=True, verbose=False)\n",
      "/tmp/ipykernel_72612/4144421588.py:8: RuntimeWarning: Limited 1 annotation(s) that were expanding outside the data range.\n",
      "  Subjects[\"prepSignal_EC\"] = mne.io.read_raw_eeglab(\"/workspace/brail_poc3/experiments/Lemon_PreEEGLAB/{}/{}/{}_EC.set\".format(Subjects[\"Subject_Number\"], Subjects[\"Subject_Number\"], Subjects[\"Subject_Number\"]), preload=True, verbose=False)\n",
      "/tmp/ipykernel_72612/4144421588.py:8: RuntimeWarning: The data contains 'boundary' events, indicating data discontinuities. Be cautious of filtering and epoching around these events.\n",
      "  Subjects[\"prepSignal_EC\"] = mne.io.read_raw_eeglab(\"/workspace/brail_poc3/experiments/Lemon_PreEEGLAB/{}/{}/{}_EC.set\".format(Subjects[\"Subject_Number\"], Subjects[\"Subject_Number\"], Subjects[\"Subject_Number\"]), preload=True, verbose=False)\n",
      "/tmp/ipykernel_72612/4144421588.py:9: RuntimeWarning: Data file name in EEG.data (sub-010020_EO.fdt) is incorrect, the file name must have changed on disk, using the correct file name (sub-032313_EO.fdt).\n",
      "  Subjects[\"prepSignal_EO\"] = mne.io.read_raw_eeglab(\"/workspace/brail_poc3/experiments/Lemon_PreEEGLAB/{}/{}/{}_EO.set\".format(Subjects[\"Subject_Number\"], Subjects[\"Subject_Number\"], Subjects[\"Subject_Number\"]), preload=True, verbose=False)\n"
     ]
    },
    {
     "name": "stdout",
     "output_type": "stream",
     "text": [
      "Subject number: sub-032313\n"
     ]
    },
    {
     "name": "stderr",
     "output_type": "stream",
     "text": [
      "/tmp/ipykernel_72612/4144421588.py:9: RuntimeWarning: Limited 1 annotation(s) that were expanding outside the data range.\n",
      "  Subjects[\"prepSignal_EO\"] = mne.io.read_raw_eeglab(\"/workspace/brail_poc3/experiments/Lemon_PreEEGLAB/{}/{}/{}_EO.set\".format(Subjects[\"Subject_Number\"], Subjects[\"Subject_Number\"], Subjects[\"Subject_Number\"]), preload=True, verbose=False)\n",
      "/tmp/ipykernel_72612/4144421588.py:9: RuntimeWarning: The data contains 'boundary' events, indicating data discontinuities. Be cautious of filtering and epoching around these events.\n",
      "  Subjects[\"prepSignal_EO\"] = mne.io.read_raw_eeglab(\"/workspace/brail_poc3/experiments/Lemon_PreEEGLAB/{}/{}/{}_EO.set\".format(Subjects[\"Subject_Number\"], Subjects[\"Subject_Number\"], Subjects[\"Subject_Number\"]), preload=True, verbose=False)\n",
      "  6%|██▌                                       | 12/201 [00:03<00:49,  3.83it/s]/tmp/ipykernel_72612/4144421588.py:8: RuntimeWarning: Data file name in EEG.data (sub-010021_EC.fdt) is incorrect, the file name must have changed on disk, using the correct file name (sub-032314_EC.fdt).\n",
      "  Subjects[\"prepSignal_EC\"] = mne.io.read_raw_eeglab(\"/workspace/brail_poc3/experiments/Lemon_PreEEGLAB/{}/{}/{}_EC.set\".format(Subjects[\"Subject_Number\"], Subjects[\"Subject_Number\"], Subjects[\"Subject_Number\"]), preload=True, verbose=False)\n",
      "/tmp/ipykernel_72612/4144421588.py:8: RuntimeWarning: Limited 1 annotation(s) that were expanding outside the data range.\n",
      "  Subjects[\"prepSignal_EC\"] = mne.io.read_raw_eeglab(\"/workspace/brail_poc3/experiments/Lemon_PreEEGLAB/{}/{}/{}_EC.set\".format(Subjects[\"Subject_Number\"], Subjects[\"Subject_Number\"], Subjects[\"Subject_Number\"]), preload=True, verbose=False)\n",
      "/tmp/ipykernel_72612/4144421588.py:8: RuntimeWarning: The data contains 'boundary' events, indicating data discontinuities. Be cautious of filtering and epoching around these events.\n",
      "  Subjects[\"prepSignal_EC\"] = mne.io.read_raw_eeglab(\"/workspace/brail_poc3/experiments/Lemon_PreEEGLAB/{}/{}/{}_EC.set\".format(Subjects[\"Subject_Number\"], Subjects[\"Subject_Number\"], Subjects[\"Subject_Number\"]), preload=True, verbose=False)\n",
      "/tmp/ipykernel_72612/4144421588.py:9: RuntimeWarning: Data file name in EEG.data (sub-010021_EO.fdt) is incorrect, the file name must have changed on disk, using the correct file name (sub-032314_EO.fdt).\n",
      "  Subjects[\"prepSignal_EO\"] = mne.io.read_raw_eeglab(\"/workspace/brail_poc3/experiments/Lemon_PreEEGLAB/{}/{}/{}_EO.set\".format(Subjects[\"Subject_Number\"], Subjects[\"Subject_Number\"], Subjects[\"Subject_Number\"]), preload=True, verbose=False)\n"
     ]
    },
    {
     "name": "stdout",
     "output_type": "stream",
     "text": [
      "Subject number: sub-032314\n"
     ]
    },
    {
     "name": "stderr",
     "output_type": "stream",
     "text": [
      "/tmp/ipykernel_72612/4144421588.py:9: RuntimeWarning: Limited 1 annotation(s) that were expanding outside the data range.\n",
      "  Subjects[\"prepSignal_EO\"] = mne.io.read_raw_eeglab(\"/workspace/brail_poc3/experiments/Lemon_PreEEGLAB/{}/{}/{}_EO.set\".format(Subjects[\"Subject_Number\"], Subjects[\"Subject_Number\"], Subjects[\"Subject_Number\"]), preload=True, verbose=False)\n",
      "/tmp/ipykernel_72612/4144421588.py:9: RuntimeWarning: The data contains 'boundary' events, indicating data discontinuities. Be cautious of filtering and epoching around these events.\n",
      "  Subjects[\"prepSignal_EO\"] = mne.io.read_raw_eeglab(\"/workspace/brail_poc3/experiments/Lemon_PreEEGLAB/{}/{}/{}_EO.set\".format(Subjects[\"Subject_Number\"], Subjects[\"Subject_Number\"], Subjects[\"Subject_Number\"]), preload=True, verbose=False)\n",
      "  6%|██▋                                       | 13/201 [00:03<00:49,  3.82it/s]/tmp/ipykernel_72612/4144421588.py:8: RuntimeWarning: Data file name in EEG.data (sub-010022_EC.fdt) is incorrect, the file name must have changed on disk, using the correct file name (sub-032315_EC.fdt).\n",
      "  Subjects[\"prepSignal_EC\"] = mne.io.read_raw_eeglab(\"/workspace/brail_poc3/experiments/Lemon_PreEEGLAB/{}/{}/{}_EC.set\".format(Subjects[\"Subject_Number\"], Subjects[\"Subject_Number\"], Subjects[\"Subject_Number\"]), preload=True, verbose=False)\n",
      "/tmp/ipykernel_72612/4144421588.py:8: RuntimeWarning: Limited 1 annotation(s) that were expanding outside the data range.\n",
      "  Subjects[\"prepSignal_EC\"] = mne.io.read_raw_eeglab(\"/workspace/brail_poc3/experiments/Lemon_PreEEGLAB/{}/{}/{}_EC.set\".format(Subjects[\"Subject_Number\"], Subjects[\"Subject_Number\"], Subjects[\"Subject_Number\"]), preload=True, verbose=False)\n",
      "/tmp/ipykernel_72612/4144421588.py:8: RuntimeWarning: The data contains 'boundary' events, indicating data discontinuities. Be cautious of filtering and epoching around these events.\n",
      "  Subjects[\"prepSignal_EC\"] = mne.io.read_raw_eeglab(\"/workspace/brail_poc3/experiments/Lemon_PreEEGLAB/{}/{}/{}_EC.set\".format(Subjects[\"Subject_Number\"], Subjects[\"Subject_Number\"], Subjects[\"Subject_Number\"]), preload=True, verbose=False)\n",
      "/tmp/ipykernel_72612/4144421588.py:9: RuntimeWarning: Data file name in EEG.data (sub-010022_EO.fdt) is incorrect, the file name must have changed on disk, using the correct file name (sub-032315_EO.fdt).\n",
      "  Subjects[\"prepSignal_EO\"] = mne.io.read_raw_eeglab(\"/workspace/brail_poc3/experiments/Lemon_PreEEGLAB/{}/{}/{}_EO.set\".format(Subjects[\"Subject_Number\"], Subjects[\"Subject_Number\"], Subjects[\"Subject_Number\"]), preload=True, verbose=False)\n"
     ]
    },
    {
     "name": "stdout",
     "output_type": "stream",
     "text": [
      "Subject number: sub-032315\n"
     ]
    },
    {
     "name": "stderr",
     "output_type": "stream",
     "text": [
      "/tmp/ipykernel_72612/4144421588.py:9: RuntimeWarning: Limited 1 annotation(s) that were expanding outside the data range.\n",
      "  Subjects[\"prepSignal_EO\"] = mne.io.read_raw_eeglab(\"/workspace/brail_poc3/experiments/Lemon_PreEEGLAB/{}/{}/{}_EO.set\".format(Subjects[\"Subject_Number\"], Subjects[\"Subject_Number\"], Subjects[\"Subject_Number\"]), preload=True, verbose=False)\n",
      "/tmp/ipykernel_72612/4144421588.py:9: RuntimeWarning: The data contains 'boundary' events, indicating data discontinuities. Be cautious of filtering and epoching around these events.\n",
      "  Subjects[\"prepSignal_EO\"] = mne.io.read_raw_eeglab(\"/workspace/brail_poc3/experiments/Lemon_PreEEGLAB/{}/{}/{}_EO.set\".format(Subjects[\"Subject_Number\"], Subjects[\"Subject_Number\"], Subjects[\"Subject_Number\"]), preload=True, verbose=False)\n",
      "  7%|██▉                                       | 14/201 [00:03<00:49,  3.75it/s]/tmp/ipykernel_72612/4144421588.py:8: RuntimeWarning: Data file name in EEG.data (sub-010023_EC.fdt) is incorrect, the file name must have changed on disk, using the correct file name (sub-032316_EC.fdt).\n",
      "  Subjects[\"prepSignal_EC\"] = mne.io.read_raw_eeglab(\"/workspace/brail_poc3/experiments/Lemon_PreEEGLAB/{}/{}/{}_EC.set\".format(Subjects[\"Subject_Number\"], Subjects[\"Subject_Number\"], Subjects[\"Subject_Number\"]), preload=True, verbose=False)\n",
      "/tmp/ipykernel_72612/4144421588.py:8: RuntimeWarning: Limited 1 annotation(s) that were expanding outside the data range.\n",
      "  Subjects[\"prepSignal_EC\"] = mne.io.read_raw_eeglab(\"/workspace/brail_poc3/experiments/Lemon_PreEEGLAB/{}/{}/{}_EC.set\".format(Subjects[\"Subject_Number\"], Subjects[\"Subject_Number\"], Subjects[\"Subject_Number\"]), preload=True, verbose=False)\n",
      "/tmp/ipykernel_72612/4144421588.py:8: RuntimeWarning: The data contains 'boundary' events, indicating data discontinuities. Be cautious of filtering and epoching around these events.\n",
      "  Subjects[\"prepSignal_EC\"] = mne.io.read_raw_eeglab(\"/workspace/brail_poc3/experiments/Lemon_PreEEGLAB/{}/{}/{}_EC.set\".format(Subjects[\"Subject_Number\"], Subjects[\"Subject_Number\"], Subjects[\"Subject_Number\"]), preload=True, verbose=False)\n",
      "/tmp/ipykernel_72612/4144421588.py:9: RuntimeWarning: Data file name in EEG.data (sub-010023_EO.fdt) is incorrect, the file name must have changed on disk, using the correct file name (sub-032316_EO.fdt).\n",
      "  Subjects[\"prepSignal_EO\"] = mne.io.read_raw_eeglab(\"/workspace/brail_poc3/experiments/Lemon_PreEEGLAB/{}/{}/{}_EO.set\".format(Subjects[\"Subject_Number\"], Subjects[\"Subject_Number\"], Subjects[\"Subject_Number\"]), preload=True, verbose=False)\n"
     ]
    },
    {
     "name": "stdout",
     "output_type": "stream",
     "text": [
      "Subject number: sub-032316\n"
     ]
    },
    {
     "name": "stderr",
     "output_type": "stream",
     "text": [
      "/tmp/ipykernel_72612/4144421588.py:9: RuntimeWarning: Limited 1 annotation(s) that were expanding outside the data range.\n",
      "  Subjects[\"prepSignal_EO\"] = mne.io.read_raw_eeglab(\"/workspace/brail_poc3/experiments/Lemon_PreEEGLAB/{}/{}/{}_EO.set\".format(Subjects[\"Subject_Number\"], Subjects[\"Subject_Number\"], Subjects[\"Subject_Number\"]), preload=True, verbose=False)\n",
      "/tmp/ipykernel_72612/4144421588.py:9: RuntimeWarning: The data contains 'boundary' events, indicating data discontinuities. Be cautious of filtering and epoching around these events.\n",
      "  Subjects[\"prepSignal_EO\"] = mne.io.read_raw_eeglab(\"/workspace/brail_poc3/experiments/Lemon_PreEEGLAB/{}/{}/{}_EO.set\".format(Subjects[\"Subject_Number\"], Subjects[\"Subject_Number\"], Subjects[\"Subject_Number\"]), preload=True, verbose=False)\n",
      "  7%|███▏                                      | 15/201 [00:04<00:49,  3.79it/s]/tmp/ipykernel_72612/4144421588.py:8: RuntimeWarning: Data file name in EEG.data (sub-010024_EC.fdt) is incorrect, the file name must have changed on disk, using the correct file name (sub-032317_EC.fdt).\n",
      "  Subjects[\"prepSignal_EC\"] = mne.io.read_raw_eeglab(\"/workspace/brail_poc3/experiments/Lemon_PreEEGLAB/{}/{}/{}_EC.set\".format(Subjects[\"Subject_Number\"], Subjects[\"Subject_Number\"], Subjects[\"Subject_Number\"]), preload=True, verbose=False)\n",
      "/tmp/ipykernel_72612/4144421588.py:8: RuntimeWarning: Limited 1 annotation(s) that were expanding outside the data range.\n",
      "  Subjects[\"prepSignal_EC\"] = mne.io.read_raw_eeglab(\"/workspace/brail_poc3/experiments/Lemon_PreEEGLAB/{}/{}/{}_EC.set\".format(Subjects[\"Subject_Number\"], Subjects[\"Subject_Number\"], Subjects[\"Subject_Number\"]), preload=True, verbose=False)\n",
      "/tmp/ipykernel_72612/4144421588.py:8: RuntimeWarning: The data contains 'boundary' events, indicating data discontinuities. Be cautious of filtering and epoching around these events.\n",
      "  Subjects[\"prepSignal_EC\"] = mne.io.read_raw_eeglab(\"/workspace/brail_poc3/experiments/Lemon_PreEEGLAB/{}/{}/{}_EC.set\".format(Subjects[\"Subject_Number\"], Subjects[\"Subject_Number\"], Subjects[\"Subject_Number\"]), preload=True, verbose=False)\n",
      "/tmp/ipykernel_72612/4144421588.py:9: RuntimeWarning: Data file name in EEG.data (sub-010024_EO.fdt) is incorrect, the file name must have changed on disk, using the correct file name (sub-032317_EO.fdt).\n",
      "  Subjects[\"prepSignal_EO\"] = mne.io.read_raw_eeglab(\"/workspace/brail_poc3/experiments/Lemon_PreEEGLAB/{}/{}/{}_EO.set\".format(Subjects[\"Subject_Number\"], Subjects[\"Subject_Number\"], Subjects[\"Subject_Number\"]), preload=True, verbose=False)\n"
     ]
    },
    {
     "name": "stdout",
     "output_type": "stream",
     "text": [
      "Subject number: sub-032317\n"
     ]
    },
    {
     "name": "stderr",
     "output_type": "stream",
     "text": [
      "/tmp/ipykernel_72612/4144421588.py:9: RuntimeWarning: Limited 1 annotation(s) that were expanding outside the data range.\n",
      "  Subjects[\"prepSignal_EO\"] = mne.io.read_raw_eeglab(\"/workspace/brail_poc3/experiments/Lemon_PreEEGLAB/{}/{}/{}_EO.set\".format(Subjects[\"Subject_Number\"], Subjects[\"Subject_Number\"], Subjects[\"Subject_Number\"]), preload=True, verbose=False)\n",
      "/tmp/ipykernel_72612/4144421588.py:9: RuntimeWarning: The data contains 'boundary' events, indicating data discontinuities. Be cautious of filtering and epoching around these events.\n",
      "  Subjects[\"prepSignal_EO\"] = mne.io.read_raw_eeglab(\"/workspace/brail_poc3/experiments/Lemon_PreEEGLAB/{}/{}/{}_EO.set\".format(Subjects[\"Subject_Number\"], Subjects[\"Subject_Number\"], Subjects[\"Subject_Number\"]), preload=True, verbose=False)\n",
      "  8%|███▎                                      | 16/201 [00:04<00:49,  3.76it/s]/tmp/ipykernel_72612/4144421588.py:8: RuntimeWarning: Data file name in EEG.data (sub-010026_EC.fdt) is incorrect, the file name must have changed on disk, using the correct file name (sub-032318_EC.fdt).\n",
      "  Subjects[\"prepSignal_EC\"] = mne.io.read_raw_eeglab(\"/workspace/brail_poc3/experiments/Lemon_PreEEGLAB/{}/{}/{}_EC.set\".format(Subjects[\"Subject_Number\"], Subjects[\"Subject_Number\"], Subjects[\"Subject_Number\"]), preload=True, verbose=False)\n",
      "/tmp/ipykernel_72612/4144421588.py:8: RuntimeWarning: Limited 1 annotation(s) that were expanding outside the data range.\n",
      "  Subjects[\"prepSignal_EC\"] = mne.io.read_raw_eeglab(\"/workspace/brail_poc3/experiments/Lemon_PreEEGLAB/{}/{}/{}_EC.set\".format(Subjects[\"Subject_Number\"], Subjects[\"Subject_Number\"], Subjects[\"Subject_Number\"]), preload=True, verbose=False)\n",
      "/tmp/ipykernel_72612/4144421588.py:8: RuntimeWarning: The data contains 'boundary' events, indicating data discontinuities. Be cautious of filtering and epoching around these events.\n",
      "  Subjects[\"prepSignal_EC\"] = mne.io.read_raw_eeglab(\"/workspace/brail_poc3/experiments/Lemon_PreEEGLAB/{}/{}/{}_EC.set\".format(Subjects[\"Subject_Number\"], Subjects[\"Subject_Number\"], Subjects[\"Subject_Number\"]), preload=True, verbose=False)\n",
      "/tmp/ipykernel_72612/4144421588.py:9: RuntimeWarning: Data file name in EEG.data (sub-010026_EO.fdt) is incorrect, the file name must have changed on disk, using the correct file name (sub-032318_EO.fdt).\n",
      "  Subjects[\"prepSignal_EO\"] = mne.io.read_raw_eeglab(\"/workspace/brail_poc3/experiments/Lemon_PreEEGLAB/{}/{}/{}_EO.set\".format(Subjects[\"Subject_Number\"], Subjects[\"Subject_Number\"], Subjects[\"Subject_Number\"]), preload=True, verbose=False)\n"
     ]
    },
    {
     "name": "stdout",
     "output_type": "stream",
     "text": [
      "Subject number: sub-032318\n"
     ]
    },
    {
     "name": "stderr",
     "output_type": "stream",
     "text": [
      "/tmp/ipykernel_72612/4144421588.py:9: RuntimeWarning: Limited 1 annotation(s) that were expanding outside the data range.\n",
      "  Subjects[\"prepSignal_EO\"] = mne.io.read_raw_eeglab(\"/workspace/brail_poc3/experiments/Lemon_PreEEGLAB/{}/{}/{}_EO.set\".format(Subjects[\"Subject_Number\"], Subjects[\"Subject_Number\"], Subjects[\"Subject_Number\"]), preload=True, verbose=False)\n",
      "/tmp/ipykernel_72612/4144421588.py:9: RuntimeWarning: The data contains 'boundary' events, indicating data discontinuities. Be cautious of filtering and epoching around these events.\n",
      "  Subjects[\"prepSignal_EO\"] = mne.io.read_raw_eeglab(\"/workspace/brail_poc3/experiments/Lemon_PreEEGLAB/{}/{}/{}_EO.set\".format(Subjects[\"Subject_Number\"], Subjects[\"Subject_Number\"], Subjects[\"Subject_Number\"]), preload=True, verbose=False)\n",
      "  8%|███▌                                      | 17/201 [00:04<00:48,  3.78it/s]/tmp/ipykernel_72612/4144421588.py:8: RuntimeWarning: Data file name in EEG.data (sub-010027_EC.fdt) is incorrect, the file name must have changed on disk, using the correct file name (sub-032319_EC.fdt).\n",
      "  Subjects[\"prepSignal_EC\"] = mne.io.read_raw_eeglab(\"/workspace/brail_poc3/experiments/Lemon_PreEEGLAB/{}/{}/{}_EC.set\".format(Subjects[\"Subject_Number\"], Subjects[\"Subject_Number\"], Subjects[\"Subject_Number\"]), preload=True, verbose=False)\n",
      "/tmp/ipykernel_72612/4144421588.py:8: RuntimeWarning: Limited 1 annotation(s) that were expanding outside the data range.\n",
      "  Subjects[\"prepSignal_EC\"] = mne.io.read_raw_eeglab(\"/workspace/brail_poc3/experiments/Lemon_PreEEGLAB/{}/{}/{}_EC.set\".format(Subjects[\"Subject_Number\"], Subjects[\"Subject_Number\"], Subjects[\"Subject_Number\"]), preload=True, verbose=False)\n",
      "/tmp/ipykernel_72612/4144421588.py:8: RuntimeWarning: The data contains 'boundary' events, indicating data discontinuities. Be cautious of filtering and epoching around these events.\n",
      "  Subjects[\"prepSignal_EC\"] = mne.io.read_raw_eeglab(\"/workspace/brail_poc3/experiments/Lemon_PreEEGLAB/{}/{}/{}_EC.set\".format(Subjects[\"Subject_Number\"], Subjects[\"Subject_Number\"], Subjects[\"Subject_Number\"]), preload=True, verbose=False)\n",
      "/tmp/ipykernel_72612/4144421588.py:9: RuntimeWarning: Data file name in EEG.data (sub-010027_EO.fdt) is incorrect, the file name must have changed on disk, using the correct file name (sub-032319_EO.fdt).\n",
      "  Subjects[\"prepSignal_EO\"] = mne.io.read_raw_eeglab(\"/workspace/brail_poc3/experiments/Lemon_PreEEGLAB/{}/{}/{}_EO.set\".format(Subjects[\"Subject_Number\"], Subjects[\"Subject_Number\"], Subjects[\"Subject_Number\"]), preload=True, verbose=False)\n"
     ]
    },
    {
     "name": "stdout",
     "output_type": "stream",
     "text": [
      "Subject number: sub-032319\n"
     ]
    },
    {
     "name": "stderr",
     "output_type": "stream",
     "text": [
      "/tmp/ipykernel_72612/4144421588.py:9: RuntimeWarning: Limited 1 annotation(s) that were expanding outside the data range.\n",
      "  Subjects[\"prepSignal_EO\"] = mne.io.read_raw_eeglab(\"/workspace/brail_poc3/experiments/Lemon_PreEEGLAB/{}/{}/{}_EO.set\".format(Subjects[\"Subject_Number\"], Subjects[\"Subject_Number\"], Subjects[\"Subject_Number\"]), preload=True, verbose=False)\n",
      "/tmp/ipykernel_72612/4144421588.py:9: RuntimeWarning: The data contains 'boundary' events, indicating data discontinuities. Be cautious of filtering and epoching around these events.\n",
      "  Subjects[\"prepSignal_EO\"] = mne.io.read_raw_eeglab(\"/workspace/brail_poc3/experiments/Lemon_PreEEGLAB/{}/{}/{}_EO.set\".format(Subjects[\"Subject_Number\"], Subjects[\"Subject_Number\"], Subjects[\"Subject_Number\"]), preload=True, verbose=False)\n",
      "  9%|███▊                                      | 18/201 [00:04<00:48,  3.77it/s]/tmp/ipykernel_72612/4144421588.py:8: RuntimeWarning: Data file name in EEG.data (sub-010028_EC.fdt) is incorrect, the file name must have changed on disk, using the correct file name (sub-032320_EC.fdt).\n",
      "  Subjects[\"prepSignal_EC\"] = mne.io.read_raw_eeglab(\"/workspace/brail_poc3/experiments/Lemon_PreEEGLAB/{}/{}/{}_EC.set\".format(Subjects[\"Subject_Number\"], Subjects[\"Subject_Number\"], Subjects[\"Subject_Number\"]), preload=True, verbose=False)\n",
      "/tmp/ipykernel_72612/4144421588.py:8: RuntimeWarning: Limited 1 annotation(s) that were expanding outside the data range.\n",
      "  Subjects[\"prepSignal_EC\"] = mne.io.read_raw_eeglab(\"/workspace/brail_poc3/experiments/Lemon_PreEEGLAB/{}/{}/{}_EC.set\".format(Subjects[\"Subject_Number\"], Subjects[\"Subject_Number\"], Subjects[\"Subject_Number\"]), preload=True, verbose=False)\n",
      "/tmp/ipykernel_72612/4144421588.py:8: RuntimeWarning: The data contains 'boundary' events, indicating data discontinuities. Be cautious of filtering and epoching around these events.\n",
      "  Subjects[\"prepSignal_EC\"] = mne.io.read_raw_eeglab(\"/workspace/brail_poc3/experiments/Lemon_PreEEGLAB/{}/{}/{}_EC.set\".format(Subjects[\"Subject_Number\"], Subjects[\"Subject_Number\"], Subjects[\"Subject_Number\"]), preload=True, verbose=False)\n",
      "/tmp/ipykernel_72612/4144421588.py:9: RuntimeWarning: Data file name in EEG.data (sub-010028_EO.fdt) is incorrect, the file name must have changed on disk, using the correct file name (sub-032320_EO.fdt).\n",
      "  Subjects[\"prepSignal_EO\"] = mne.io.read_raw_eeglab(\"/workspace/brail_poc3/experiments/Lemon_PreEEGLAB/{}/{}/{}_EO.set\".format(Subjects[\"Subject_Number\"], Subjects[\"Subject_Number\"], Subjects[\"Subject_Number\"]), preload=True, verbose=False)\n"
     ]
    },
    {
     "name": "stdout",
     "output_type": "stream",
     "text": [
      "Subject number: sub-032320\n"
     ]
    },
    {
     "name": "stderr",
     "output_type": "stream",
     "text": [
      "/tmp/ipykernel_72612/4144421588.py:9: RuntimeWarning: Limited 1 annotation(s) that were expanding outside the data range.\n",
      "  Subjects[\"prepSignal_EO\"] = mne.io.read_raw_eeglab(\"/workspace/brail_poc3/experiments/Lemon_PreEEGLAB/{}/{}/{}_EO.set\".format(Subjects[\"Subject_Number\"], Subjects[\"Subject_Number\"], Subjects[\"Subject_Number\"]), preload=True, verbose=False)\n",
      "/tmp/ipykernel_72612/4144421588.py:9: RuntimeWarning: The data contains 'boundary' events, indicating data discontinuities. Be cautious of filtering and epoching around these events.\n",
      "  Subjects[\"prepSignal_EO\"] = mne.io.read_raw_eeglab(\"/workspace/brail_poc3/experiments/Lemon_PreEEGLAB/{}/{}/{}_EO.set\".format(Subjects[\"Subject_Number\"], Subjects[\"Subject_Number\"], Subjects[\"Subject_Number\"]), preload=True, verbose=False)\n",
      "  9%|███▉                                      | 19/201 [00:05<00:48,  3.73it/s]/tmp/ipykernel_72612/4144421588.py:8: RuntimeWarning: Data file name in EEG.data (sub-010029_EC.fdt) is incorrect, the file name must have changed on disk, using the correct file name (sub-032321_EC.fdt).\n",
      "  Subjects[\"prepSignal_EC\"] = mne.io.read_raw_eeglab(\"/workspace/brail_poc3/experiments/Lemon_PreEEGLAB/{}/{}/{}_EC.set\".format(Subjects[\"Subject_Number\"], Subjects[\"Subject_Number\"], Subjects[\"Subject_Number\"]), preload=True, verbose=False)\n",
      "/tmp/ipykernel_72612/4144421588.py:8: RuntimeWarning: Limited 1 annotation(s) that were expanding outside the data range.\n",
      "  Subjects[\"prepSignal_EC\"] = mne.io.read_raw_eeglab(\"/workspace/brail_poc3/experiments/Lemon_PreEEGLAB/{}/{}/{}_EC.set\".format(Subjects[\"Subject_Number\"], Subjects[\"Subject_Number\"], Subjects[\"Subject_Number\"]), preload=True, verbose=False)\n",
      "/tmp/ipykernel_72612/4144421588.py:8: RuntimeWarning: The data contains 'boundary' events, indicating data discontinuities. Be cautious of filtering and epoching around these events.\n",
      "  Subjects[\"prepSignal_EC\"] = mne.io.read_raw_eeglab(\"/workspace/brail_poc3/experiments/Lemon_PreEEGLAB/{}/{}/{}_EC.set\".format(Subjects[\"Subject_Number\"], Subjects[\"Subject_Number\"], Subjects[\"Subject_Number\"]), preload=True, verbose=False)\n",
      "/tmp/ipykernel_72612/4144421588.py:9: RuntimeWarning: Data file name in EEG.data (sub-010029_EO.fdt) is incorrect, the file name must have changed on disk, using the correct file name (sub-032321_EO.fdt).\n",
      "  Subjects[\"prepSignal_EO\"] = mne.io.read_raw_eeglab(\"/workspace/brail_poc3/experiments/Lemon_PreEEGLAB/{}/{}/{}_EO.set\".format(Subjects[\"Subject_Number\"], Subjects[\"Subject_Number\"], Subjects[\"Subject_Number\"]), preload=True, verbose=False)\n"
     ]
    },
    {
     "name": "stdout",
     "output_type": "stream",
     "text": [
      "Subject number: sub-032321\n"
     ]
    },
    {
     "name": "stderr",
     "output_type": "stream",
     "text": [
      "/tmp/ipykernel_72612/4144421588.py:9: RuntimeWarning: Limited 1 annotation(s) that were expanding outside the data range.\n",
      "  Subjects[\"prepSignal_EO\"] = mne.io.read_raw_eeglab(\"/workspace/brail_poc3/experiments/Lemon_PreEEGLAB/{}/{}/{}_EO.set\".format(Subjects[\"Subject_Number\"], Subjects[\"Subject_Number\"], Subjects[\"Subject_Number\"]), preload=True, verbose=False)\n",
      "/tmp/ipykernel_72612/4144421588.py:9: RuntimeWarning: The data contains 'boundary' events, indicating data discontinuities. Be cautious of filtering and epoching around these events.\n",
      "  Subjects[\"prepSignal_EO\"] = mne.io.read_raw_eeglab(\"/workspace/brail_poc3/experiments/Lemon_PreEEGLAB/{}/{}/{}_EO.set\".format(Subjects[\"Subject_Number\"], Subjects[\"Subject_Number\"], Subjects[\"Subject_Number\"]), preload=True, verbose=False)\n",
      " 10%|████▏                                     | 20/201 [00:05<00:48,  3.71it/s]/tmp/ipykernel_72612/4144421588.py:8: RuntimeWarning: Data file name in EEG.data (sub-010030_EC.fdt) is incorrect, the file name must have changed on disk, using the correct file name (sub-032322_EC.fdt).\n",
      "  Subjects[\"prepSignal_EC\"] = mne.io.read_raw_eeglab(\"/workspace/brail_poc3/experiments/Lemon_PreEEGLAB/{}/{}/{}_EC.set\".format(Subjects[\"Subject_Number\"], Subjects[\"Subject_Number\"], Subjects[\"Subject_Number\"]), preload=True, verbose=False)\n",
      "/tmp/ipykernel_72612/4144421588.py:8: RuntimeWarning: Limited 1 annotation(s) that were expanding outside the data range.\n",
      "  Subjects[\"prepSignal_EC\"] = mne.io.read_raw_eeglab(\"/workspace/brail_poc3/experiments/Lemon_PreEEGLAB/{}/{}/{}_EC.set\".format(Subjects[\"Subject_Number\"], Subjects[\"Subject_Number\"], Subjects[\"Subject_Number\"]), preload=True, verbose=False)\n",
      "/tmp/ipykernel_72612/4144421588.py:8: RuntimeWarning: The data contains 'boundary' events, indicating data discontinuities. Be cautious of filtering and epoching around these events.\n",
      "  Subjects[\"prepSignal_EC\"] = mne.io.read_raw_eeglab(\"/workspace/brail_poc3/experiments/Lemon_PreEEGLAB/{}/{}/{}_EC.set\".format(Subjects[\"Subject_Number\"], Subjects[\"Subject_Number\"], Subjects[\"Subject_Number\"]), preload=True, verbose=False)\n",
      "/tmp/ipykernel_72612/4144421588.py:9: RuntimeWarning: Data file name in EEG.data (sub-010030_EO.fdt) is incorrect, the file name must have changed on disk, using the correct file name (sub-032322_EO.fdt).\n",
      "  Subjects[\"prepSignal_EO\"] = mne.io.read_raw_eeglab(\"/workspace/brail_poc3/experiments/Lemon_PreEEGLAB/{}/{}/{}_EO.set\".format(Subjects[\"Subject_Number\"], Subjects[\"Subject_Number\"], Subjects[\"Subject_Number\"]), preload=True, verbose=False)\n"
     ]
    },
    {
     "name": "stdout",
     "output_type": "stream",
     "text": [
      "Subject number: sub-032322\n"
     ]
    },
    {
     "name": "stderr",
     "output_type": "stream",
     "text": [
      "/tmp/ipykernel_72612/4144421588.py:9: RuntimeWarning: Limited 1 annotation(s) that were expanding outside the data range.\n",
      "  Subjects[\"prepSignal_EO\"] = mne.io.read_raw_eeglab(\"/workspace/brail_poc3/experiments/Lemon_PreEEGLAB/{}/{}/{}_EO.set\".format(Subjects[\"Subject_Number\"], Subjects[\"Subject_Number\"], Subjects[\"Subject_Number\"]), preload=True, verbose=False)\n",
      "/tmp/ipykernel_72612/4144421588.py:9: RuntimeWarning: The data contains 'boundary' events, indicating data discontinuities. Be cautious of filtering and epoching around these events.\n",
      "  Subjects[\"prepSignal_EO\"] = mne.io.read_raw_eeglab(\"/workspace/brail_poc3/experiments/Lemon_PreEEGLAB/{}/{}/{}_EO.set\".format(Subjects[\"Subject_Number\"], Subjects[\"Subject_Number\"], Subjects[\"Subject_Number\"]), preload=True, verbose=False)\n",
      " 10%|████▍                                     | 21/201 [00:05<00:48,  3.71it/s]/tmp/ipykernel_72612/4144421588.py:8: RuntimeWarning: Data file name in EEG.data (sub-010031_EC.fdt) is incorrect, the file name must have changed on disk, using the correct file name (sub-032323_EC.fdt).\n",
      "  Subjects[\"prepSignal_EC\"] = mne.io.read_raw_eeglab(\"/workspace/brail_poc3/experiments/Lemon_PreEEGLAB/{}/{}/{}_EC.set\".format(Subjects[\"Subject_Number\"], Subjects[\"Subject_Number\"], Subjects[\"Subject_Number\"]), preload=True, verbose=False)\n",
      "/tmp/ipykernel_72612/4144421588.py:8: RuntimeWarning: Limited 1 annotation(s) that were expanding outside the data range.\n",
      "  Subjects[\"prepSignal_EC\"] = mne.io.read_raw_eeglab(\"/workspace/brail_poc3/experiments/Lemon_PreEEGLAB/{}/{}/{}_EC.set\".format(Subjects[\"Subject_Number\"], Subjects[\"Subject_Number\"], Subjects[\"Subject_Number\"]), preload=True, verbose=False)\n",
      "/tmp/ipykernel_72612/4144421588.py:8: RuntimeWarning: The data contains 'boundary' events, indicating data discontinuities. Be cautious of filtering and epoching around these events.\n",
      "  Subjects[\"prepSignal_EC\"] = mne.io.read_raw_eeglab(\"/workspace/brail_poc3/experiments/Lemon_PreEEGLAB/{}/{}/{}_EC.set\".format(Subjects[\"Subject_Number\"], Subjects[\"Subject_Number\"], Subjects[\"Subject_Number\"]), preload=True, verbose=False)\n",
      "/tmp/ipykernel_72612/4144421588.py:9: RuntimeWarning: Data file name in EEG.data (sub-010031_EO.fdt) is incorrect, the file name must have changed on disk, using the correct file name (sub-032323_EO.fdt).\n",
      "  Subjects[\"prepSignal_EO\"] = mne.io.read_raw_eeglab(\"/workspace/brail_poc3/experiments/Lemon_PreEEGLAB/{}/{}/{}_EO.set\".format(Subjects[\"Subject_Number\"], Subjects[\"Subject_Number\"], Subjects[\"Subject_Number\"]), preload=True, verbose=False)\n"
     ]
    },
    {
     "name": "stdout",
     "output_type": "stream",
     "text": [
      "Subject number: sub-032323\n"
     ]
    },
    {
     "name": "stderr",
     "output_type": "stream",
     "text": [
      "/tmp/ipykernel_72612/4144421588.py:9: RuntimeWarning: Limited 1 annotation(s) that were expanding outside the data range.\n",
      "  Subjects[\"prepSignal_EO\"] = mne.io.read_raw_eeglab(\"/workspace/brail_poc3/experiments/Lemon_PreEEGLAB/{}/{}/{}_EO.set\".format(Subjects[\"Subject_Number\"], Subjects[\"Subject_Number\"], Subjects[\"Subject_Number\"]), preload=True, verbose=False)\n",
      "/tmp/ipykernel_72612/4144421588.py:9: RuntimeWarning: The data contains 'boundary' events, indicating data discontinuities. Be cautious of filtering and epoching around these events.\n",
      "  Subjects[\"prepSignal_EO\"] = mne.io.read_raw_eeglab(\"/workspace/brail_poc3/experiments/Lemon_PreEEGLAB/{}/{}/{}_EO.set\".format(Subjects[\"Subject_Number\"], Subjects[\"Subject_Number\"], Subjects[\"Subject_Number\"]), preload=True, verbose=False)\n",
      " 11%|████▌                                     | 22/201 [00:05<00:47,  3.73it/s]/tmp/ipykernel_72612/4144421588.py:8: RuntimeWarning: Data file name in EEG.data (sub-010032_EC.fdt) is incorrect, the file name must have changed on disk, using the correct file name (sub-032324_EC.fdt).\n",
      "  Subjects[\"prepSignal_EC\"] = mne.io.read_raw_eeglab(\"/workspace/brail_poc3/experiments/Lemon_PreEEGLAB/{}/{}/{}_EC.set\".format(Subjects[\"Subject_Number\"], Subjects[\"Subject_Number\"], Subjects[\"Subject_Number\"]), preload=True, verbose=False)\n",
      "/tmp/ipykernel_72612/4144421588.py:8: RuntimeWarning: Limited 1 annotation(s) that were expanding outside the data range.\n",
      "  Subjects[\"prepSignal_EC\"] = mne.io.read_raw_eeglab(\"/workspace/brail_poc3/experiments/Lemon_PreEEGLAB/{}/{}/{}_EC.set\".format(Subjects[\"Subject_Number\"], Subjects[\"Subject_Number\"], Subjects[\"Subject_Number\"]), preload=True, verbose=False)\n",
      "/tmp/ipykernel_72612/4144421588.py:8: RuntimeWarning: The data contains 'boundary' events, indicating data discontinuities. Be cautious of filtering and epoching around these events.\n",
      "  Subjects[\"prepSignal_EC\"] = mne.io.read_raw_eeglab(\"/workspace/brail_poc3/experiments/Lemon_PreEEGLAB/{}/{}/{}_EC.set\".format(Subjects[\"Subject_Number\"], Subjects[\"Subject_Number\"], Subjects[\"Subject_Number\"]), preload=True, verbose=False)\n",
      "/tmp/ipykernel_72612/4144421588.py:9: RuntimeWarning: Data file name in EEG.data (sub-010032_EO.fdt) is incorrect, the file name must have changed on disk, using the correct file name (sub-032324_EO.fdt).\n",
      "  Subjects[\"prepSignal_EO\"] = mne.io.read_raw_eeglab(\"/workspace/brail_poc3/experiments/Lemon_PreEEGLAB/{}/{}/{}_EO.set\".format(Subjects[\"Subject_Number\"], Subjects[\"Subject_Number\"], Subjects[\"Subject_Number\"]), preload=True, verbose=False)\n"
     ]
    },
    {
     "name": "stdout",
     "output_type": "stream",
     "text": [
      "Subject number: sub-032324\n"
     ]
    },
    {
     "name": "stderr",
     "output_type": "stream",
     "text": [
      "/tmp/ipykernel_72612/4144421588.py:9: RuntimeWarning: Limited 1 annotation(s) that were expanding outside the data range.\n",
      "  Subjects[\"prepSignal_EO\"] = mne.io.read_raw_eeglab(\"/workspace/brail_poc3/experiments/Lemon_PreEEGLAB/{}/{}/{}_EO.set\".format(Subjects[\"Subject_Number\"], Subjects[\"Subject_Number\"], Subjects[\"Subject_Number\"]), preload=True, verbose=False)\n",
      "/tmp/ipykernel_72612/4144421588.py:9: RuntimeWarning: The data contains 'boundary' events, indicating data discontinuities. Be cautious of filtering and epoching around these events.\n",
      "  Subjects[\"prepSignal_EO\"] = mne.io.read_raw_eeglab(\"/workspace/brail_poc3/experiments/Lemon_PreEEGLAB/{}/{}/{}_EO.set\".format(Subjects[\"Subject_Number\"], Subjects[\"Subject_Number\"], Subjects[\"Subject_Number\"]), preload=True, verbose=False)\n",
      " 11%|████▊                                     | 23/201 [00:06<00:47,  3.75it/s]/tmp/ipykernel_72612/4144421588.py:8: RuntimeWarning: Data file name in EEG.data (sub-010033_EC.fdt) is incorrect, the file name must have changed on disk, using the correct file name (sub-032325_EC.fdt).\n",
      "  Subjects[\"prepSignal_EC\"] = mne.io.read_raw_eeglab(\"/workspace/brail_poc3/experiments/Lemon_PreEEGLAB/{}/{}/{}_EC.set\".format(Subjects[\"Subject_Number\"], Subjects[\"Subject_Number\"], Subjects[\"Subject_Number\"]), preload=True, verbose=False)\n",
      "/tmp/ipykernel_72612/4144421588.py:8: RuntimeWarning: Limited 1 annotation(s) that were expanding outside the data range.\n",
      "  Subjects[\"prepSignal_EC\"] = mne.io.read_raw_eeglab(\"/workspace/brail_poc3/experiments/Lemon_PreEEGLAB/{}/{}/{}_EC.set\".format(Subjects[\"Subject_Number\"], Subjects[\"Subject_Number\"], Subjects[\"Subject_Number\"]), preload=True, verbose=False)\n",
      "/tmp/ipykernel_72612/4144421588.py:8: RuntimeWarning: The data contains 'boundary' events, indicating data discontinuities. Be cautious of filtering and epoching around these events.\n",
      "  Subjects[\"prepSignal_EC\"] = mne.io.read_raw_eeglab(\"/workspace/brail_poc3/experiments/Lemon_PreEEGLAB/{}/{}/{}_EC.set\".format(Subjects[\"Subject_Number\"], Subjects[\"Subject_Number\"], Subjects[\"Subject_Number\"]), preload=True, verbose=False)\n",
      "/tmp/ipykernel_72612/4144421588.py:9: RuntimeWarning: Data file name in EEG.data (sub-010033_EO.fdt) is incorrect, the file name must have changed on disk, using the correct file name (sub-032325_EO.fdt).\n",
      "  Subjects[\"prepSignal_EO\"] = mne.io.read_raw_eeglab(\"/workspace/brail_poc3/experiments/Lemon_PreEEGLAB/{}/{}/{}_EO.set\".format(Subjects[\"Subject_Number\"], Subjects[\"Subject_Number\"], Subjects[\"Subject_Number\"]), preload=True, verbose=False)\n"
     ]
    },
    {
     "name": "stdout",
     "output_type": "stream",
     "text": [
      "Subject number: sub-032325\n"
     ]
    },
    {
     "name": "stderr",
     "output_type": "stream",
     "text": [
      "/tmp/ipykernel_72612/4144421588.py:9: RuntimeWarning: Limited 1 annotation(s) that were expanding outside the data range.\n",
      "  Subjects[\"prepSignal_EO\"] = mne.io.read_raw_eeglab(\"/workspace/brail_poc3/experiments/Lemon_PreEEGLAB/{}/{}/{}_EO.set\".format(Subjects[\"Subject_Number\"], Subjects[\"Subject_Number\"], Subjects[\"Subject_Number\"]), preload=True, verbose=False)\n",
      "/tmp/ipykernel_72612/4144421588.py:9: RuntimeWarning: The data contains 'boundary' events, indicating data discontinuities. Be cautious of filtering and epoching around these events.\n",
      "  Subjects[\"prepSignal_EO\"] = mne.io.read_raw_eeglab(\"/workspace/brail_poc3/experiments/Lemon_PreEEGLAB/{}/{}/{}_EO.set\".format(Subjects[\"Subject_Number\"], Subjects[\"Subject_Number\"], Subjects[\"Subject_Number\"]), preload=True, verbose=False)\n",
      " 12%|█████                                     | 24/201 [00:06<00:47,  3.75it/s]/tmp/ipykernel_72612/4144421588.py:8: RuntimeWarning: Data file name in EEG.data (sub-010034_EC.fdt) is incorrect, the file name must have changed on disk, using the correct file name (sub-032326_EC.fdt).\n",
      "  Subjects[\"prepSignal_EC\"] = mne.io.read_raw_eeglab(\"/workspace/brail_poc3/experiments/Lemon_PreEEGLAB/{}/{}/{}_EC.set\".format(Subjects[\"Subject_Number\"], Subjects[\"Subject_Number\"], Subjects[\"Subject_Number\"]), preload=True, verbose=False)\n",
      "/tmp/ipykernel_72612/4144421588.py:8: RuntimeWarning: Limited 1 annotation(s) that were expanding outside the data range.\n",
      "  Subjects[\"prepSignal_EC\"] = mne.io.read_raw_eeglab(\"/workspace/brail_poc3/experiments/Lemon_PreEEGLAB/{}/{}/{}_EC.set\".format(Subjects[\"Subject_Number\"], Subjects[\"Subject_Number\"], Subjects[\"Subject_Number\"]), preload=True, verbose=False)\n",
      "/tmp/ipykernel_72612/4144421588.py:8: RuntimeWarning: The data contains 'boundary' events, indicating data discontinuities. Be cautious of filtering and epoching around these events.\n",
      "  Subjects[\"prepSignal_EC\"] = mne.io.read_raw_eeglab(\"/workspace/brail_poc3/experiments/Lemon_PreEEGLAB/{}/{}/{}_EC.set\".format(Subjects[\"Subject_Number\"], Subjects[\"Subject_Number\"], Subjects[\"Subject_Number\"]), preload=True, verbose=False)\n",
      "/tmp/ipykernel_72612/4144421588.py:9: RuntimeWarning: Data file name in EEG.data (sub-010034_EO.fdt) is incorrect, the file name must have changed on disk, using the correct file name (sub-032326_EO.fdt).\n",
      "  Subjects[\"prepSignal_EO\"] = mne.io.read_raw_eeglab(\"/workspace/brail_poc3/experiments/Lemon_PreEEGLAB/{}/{}/{}_EO.set\".format(Subjects[\"Subject_Number\"], Subjects[\"Subject_Number\"], Subjects[\"Subject_Number\"]), preload=True, verbose=False)\n"
     ]
    },
    {
     "name": "stdout",
     "output_type": "stream",
     "text": [
      "Subject number: sub-032326\n"
     ]
    },
    {
     "name": "stderr",
     "output_type": "stream",
     "text": [
      "/tmp/ipykernel_72612/4144421588.py:9: RuntimeWarning: Limited 1 annotation(s) that were expanding outside the data range.\n",
      "  Subjects[\"prepSignal_EO\"] = mne.io.read_raw_eeglab(\"/workspace/brail_poc3/experiments/Lemon_PreEEGLAB/{}/{}/{}_EO.set\".format(Subjects[\"Subject_Number\"], Subjects[\"Subject_Number\"], Subjects[\"Subject_Number\"]), preload=True, verbose=False)\n",
      "/tmp/ipykernel_72612/4144421588.py:9: RuntimeWarning: The data contains 'boundary' events, indicating data discontinuities. Be cautious of filtering and epoching around these events.\n",
      "  Subjects[\"prepSignal_EO\"] = mne.io.read_raw_eeglab(\"/workspace/brail_poc3/experiments/Lemon_PreEEGLAB/{}/{}/{}_EO.set\".format(Subjects[\"Subject_Number\"], Subjects[\"Subject_Number\"], Subjects[\"Subject_Number\"]), preload=True, verbose=False)\n",
      " 12%|█████▏                                    | 25/201 [00:06<00:46,  3.80it/s]/tmp/ipykernel_72612/4144421588.py:8: RuntimeWarning: Data file name in EEG.data (sub-010035_EC.fdt) is incorrect, the file name must have changed on disk, using the correct file name (sub-032327_EC.fdt).\n",
      "  Subjects[\"prepSignal_EC\"] = mne.io.read_raw_eeglab(\"/workspace/brail_poc3/experiments/Lemon_PreEEGLAB/{}/{}/{}_EC.set\".format(Subjects[\"Subject_Number\"], Subjects[\"Subject_Number\"], Subjects[\"Subject_Number\"]), preload=True, verbose=False)\n",
      "/tmp/ipykernel_72612/4144421588.py:8: RuntimeWarning: Limited 1 annotation(s) that were expanding outside the data range.\n",
      "  Subjects[\"prepSignal_EC\"] = mne.io.read_raw_eeglab(\"/workspace/brail_poc3/experiments/Lemon_PreEEGLAB/{}/{}/{}_EC.set\".format(Subjects[\"Subject_Number\"], Subjects[\"Subject_Number\"], Subjects[\"Subject_Number\"]), preload=True, verbose=False)\n",
      "/tmp/ipykernel_72612/4144421588.py:8: RuntimeWarning: The data contains 'boundary' events, indicating data discontinuities. Be cautious of filtering and epoching around these events.\n",
      "  Subjects[\"prepSignal_EC\"] = mne.io.read_raw_eeglab(\"/workspace/brail_poc3/experiments/Lemon_PreEEGLAB/{}/{}/{}_EC.set\".format(Subjects[\"Subject_Number\"], Subjects[\"Subject_Number\"], Subjects[\"Subject_Number\"]), preload=True, verbose=False)\n",
      "/tmp/ipykernel_72612/4144421588.py:9: RuntimeWarning: Data file name in EEG.data (sub-010035_EO.fdt) is incorrect, the file name must have changed on disk, using the correct file name (sub-032327_EO.fdt).\n",
      "  Subjects[\"prepSignal_EO\"] = mne.io.read_raw_eeglab(\"/workspace/brail_poc3/experiments/Lemon_PreEEGLAB/{}/{}/{}_EO.set\".format(Subjects[\"Subject_Number\"], Subjects[\"Subject_Number\"], Subjects[\"Subject_Number\"]), preload=True, verbose=False)\n"
     ]
    },
    {
     "name": "stdout",
     "output_type": "stream",
     "text": [
      "Subject number: sub-032327\n"
     ]
    },
    {
     "name": "stderr",
     "output_type": "stream",
     "text": [
      "/tmp/ipykernel_72612/4144421588.py:9: RuntimeWarning: Limited 1 annotation(s) that were expanding outside the data range.\n",
      "  Subjects[\"prepSignal_EO\"] = mne.io.read_raw_eeglab(\"/workspace/brail_poc3/experiments/Lemon_PreEEGLAB/{}/{}/{}_EO.set\".format(Subjects[\"Subject_Number\"], Subjects[\"Subject_Number\"], Subjects[\"Subject_Number\"]), preload=True, verbose=False)\n",
      "/tmp/ipykernel_72612/4144421588.py:9: RuntimeWarning: The data contains 'boundary' events, indicating data discontinuities. Be cautious of filtering and epoching around these events.\n",
      "  Subjects[\"prepSignal_EO\"] = mne.io.read_raw_eeglab(\"/workspace/brail_poc3/experiments/Lemon_PreEEGLAB/{}/{}/{}_EO.set\".format(Subjects[\"Subject_Number\"], Subjects[\"Subject_Number\"], Subjects[\"Subject_Number\"]), preload=True, verbose=False)\n",
      " 13%|█████▍                                    | 26/201 [00:06<00:46,  3.78it/s]/tmp/ipykernel_72612/4144421588.py:8: RuntimeWarning: Data file name in EEG.data (sub-010036_EC.fdt) is incorrect, the file name must have changed on disk, using the correct file name (sub-032328_EC.fdt).\n",
      "  Subjects[\"prepSignal_EC\"] = mne.io.read_raw_eeglab(\"/workspace/brail_poc3/experiments/Lemon_PreEEGLAB/{}/{}/{}_EC.set\".format(Subjects[\"Subject_Number\"], Subjects[\"Subject_Number\"], Subjects[\"Subject_Number\"]), preload=True, verbose=False)\n",
      "/tmp/ipykernel_72612/4144421588.py:8: RuntimeWarning: Limited 1 annotation(s) that were expanding outside the data range.\n",
      "  Subjects[\"prepSignal_EC\"] = mne.io.read_raw_eeglab(\"/workspace/brail_poc3/experiments/Lemon_PreEEGLAB/{}/{}/{}_EC.set\".format(Subjects[\"Subject_Number\"], Subjects[\"Subject_Number\"], Subjects[\"Subject_Number\"]), preload=True, verbose=False)\n",
      "/tmp/ipykernel_72612/4144421588.py:8: RuntimeWarning: The data contains 'boundary' events, indicating data discontinuities. Be cautious of filtering and epoching around these events.\n",
      "  Subjects[\"prepSignal_EC\"] = mne.io.read_raw_eeglab(\"/workspace/brail_poc3/experiments/Lemon_PreEEGLAB/{}/{}/{}_EC.set\".format(Subjects[\"Subject_Number\"], Subjects[\"Subject_Number\"], Subjects[\"Subject_Number\"]), preload=True, verbose=False)\n",
      "/tmp/ipykernel_72612/4144421588.py:9: RuntimeWarning: Data file name in EEG.data (sub-010036_EO.fdt) is incorrect, the file name must have changed on disk, using the correct file name (sub-032328_EO.fdt).\n",
      "  Subjects[\"prepSignal_EO\"] = mne.io.read_raw_eeglab(\"/workspace/brail_poc3/experiments/Lemon_PreEEGLAB/{}/{}/{}_EO.set\".format(Subjects[\"Subject_Number\"], Subjects[\"Subject_Number\"], Subjects[\"Subject_Number\"]), preload=True, verbose=False)\n"
     ]
    },
    {
     "name": "stdout",
     "output_type": "stream",
     "text": [
      "Subject number: sub-032328\n"
     ]
    },
    {
     "name": "stderr",
     "output_type": "stream",
     "text": [
      "/tmp/ipykernel_72612/4144421588.py:9: RuntimeWarning: Limited 1 annotation(s) that were expanding outside the data range.\n",
      "  Subjects[\"prepSignal_EO\"] = mne.io.read_raw_eeglab(\"/workspace/brail_poc3/experiments/Lemon_PreEEGLAB/{}/{}/{}_EO.set\".format(Subjects[\"Subject_Number\"], Subjects[\"Subject_Number\"], Subjects[\"Subject_Number\"]), preload=True, verbose=False)\n",
      "/tmp/ipykernel_72612/4144421588.py:9: RuntimeWarning: The data contains 'boundary' events, indicating data discontinuities. Be cautious of filtering and epoching around these events.\n",
      "  Subjects[\"prepSignal_EO\"] = mne.io.read_raw_eeglab(\"/workspace/brail_poc3/experiments/Lemon_PreEEGLAB/{}/{}/{}_EO.set\".format(Subjects[\"Subject_Number\"], Subjects[\"Subject_Number\"], Subjects[\"Subject_Number\"]), preload=True, verbose=False)\n",
      " 13%|█████▋                                    | 27/201 [00:07<00:45,  3.80it/s]/tmp/ipykernel_72612/4144421588.py:8: RuntimeWarning: Data file name in EEG.data (sub-010037_EC.fdt) is incorrect, the file name must have changed on disk, using the correct file name (sub-032329_EC.fdt).\n",
      "  Subjects[\"prepSignal_EC\"] = mne.io.read_raw_eeglab(\"/workspace/brail_poc3/experiments/Lemon_PreEEGLAB/{}/{}/{}_EC.set\".format(Subjects[\"Subject_Number\"], Subjects[\"Subject_Number\"], Subjects[\"Subject_Number\"]), preload=True, verbose=False)\n",
      "/tmp/ipykernel_72612/4144421588.py:8: RuntimeWarning: Limited 1 annotation(s) that were expanding outside the data range.\n",
      "  Subjects[\"prepSignal_EC\"] = mne.io.read_raw_eeglab(\"/workspace/brail_poc3/experiments/Lemon_PreEEGLAB/{}/{}/{}_EC.set\".format(Subjects[\"Subject_Number\"], Subjects[\"Subject_Number\"], Subjects[\"Subject_Number\"]), preload=True, verbose=False)\n",
      "/tmp/ipykernel_72612/4144421588.py:8: RuntimeWarning: The data contains 'boundary' events, indicating data discontinuities. Be cautious of filtering and epoching around these events.\n",
      "  Subjects[\"prepSignal_EC\"] = mne.io.read_raw_eeglab(\"/workspace/brail_poc3/experiments/Lemon_PreEEGLAB/{}/{}/{}_EC.set\".format(Subjects[\"Subject_Number\"], Subjects[\"Subject_Number\"], Subjects[\"Subject_Number\"]), preload=True, verbose=False)\n",
      "/tmp/ipykernel_72612/4144421588.py:9: RuntimeWarning: Data file name in EEG.data (sub-010037_EO.fdt) is incorrect, the file name must have changed on disk, using the correct file name (sub-032329_EO.fdt).\n",
      "  Subjects[\"prepSignal_EO\"] = mne.io.read_raw_eeglab(\"/workspace/brail_poc3/experiments/Lemon_PreEEGLAB/{}/{}/{}_EO.set\".format(Subjects[\"Subject_Number\"], Subjects[\"Subject_Number\"], Subjects[\"Subject_Number\"]), preload=True, verbose=False)\n"
     ]
    },
    {
     "name": "stdout",
     "output_type": "stream",
     "text": [
      "Subject number: sub-032329\n"
     ]
    },
    {
     "name": "stderr",
     "output_type": "stream",
     "text": [
      "/tmp/ipykernel_72612/4144421588.py:9: RuntimeWarning: Limited 1 annotation(s) that were expanding outside the data range.\n",
      "  Subjects[\"prepSignal_EO\"] = mne.io.read_raw_eeglab(\"/workspace/brail_poc3/experiments/Lemon_PreEEGLAB/{}/{}/{}_EO.set\".format(Subjects[\"Subject_Number\"], Subjects[\"Subject_Number\"], Subjects[\"Subject_Number\"]), preload=True, verbose=False)\n",
      "/tmp/ipykernel_72612/4144421588.py:9: RuntimeWarning: The data contains 'boundary' events, indicating data discontinuities. Be cautious of filtering and epoching around these events.\n",
      "  Subjects[\"prepSignal_EO\"] = mne.io.read_raw_eeglab(\"/workspace/brail_poc3/experiments/Lemon_PreEEGLAB/{}/{}/{}_EO.set\".format(Subjects[\"Subject_Number\"], Subjects[\"Subject_Number\"], Subjects[\"Subject_Number\"]), preload=True, verbose=False)\n",
      " 14%|█████▊                                    | 28/201 [00:07<00:46,  3.69it/s]/tmp/ipykernel_72612/4144421588.py:8: RuntimeWarning: Data file name in EEG.data (sub-010038_EC.fdt) is incorrect, the file name must have changed on disk, using the correct file name (sub-032330_EC.fdt).\n",
      "  Subjects[\"prepSignal_EC\"] = mne.io.read_raw_eeglab(\"/workspace/brail_poc3/experiments/Lemon_PreEEGLAB/{}/{}/{}_EC.set\".format(Subjects[\"Subject_Number\"], Subjects[\"Subject_Number\"], Subjects[\"Subject_Number\"]), preload=True, verbose=False)\n",
      "/tmp/ipykernel_72612/4144421588.py:8: RuntimeWarning: Limited 1 annotation(s) that were expanding outside the data range.\n",
      "  Subjects[\"prepSignal_EC\"] = mne.io.read_raw_eeglab(\"/workspace/brail_poc3/experiments/Lemon_PreEEGLAB/{}/{}/{}_EC.set\".format(Subjects[\"Subject_Number\"], Subjects[\"Subject_Number\"], Subjects[\"Subject_Number\"]), preload=True, verbose=False)\n",
      "/tmp/ipykernel_72612/4144421588.py:8: RuntimeWarning: The data contains 'boundary' events, indicating data discontinuities. Be cautious of filtering and epoching around these events.\n",
      "  Subjects[\"prepSignal_EC\"] = mne.io.read_raw_eeglab(\"/workspace/brail_poc3/experiments/Lemon_PreEEGLAB/{}/{}/{}_EC.set\".format(Subjects[\"Subject_Number\"], Subjects[\"Subject_Number\"], Subjects[\"Subject_Number\"]), preload=True, verbose=False)\n",
      "/tmp/ipykernel_72612/4144421588.py:9: RuntimeWarning: Data file name in EEG.data (sub-010038_EO.fdt) is incorrect, the file name must have changed on disk, using the correct file name (sub-032330_EO.fdt).\n",
      "  Subjects[\"prepSignal_EO\"] = mne.io.read_raw_eeglab(\"/workspace/brail_poc3/experiments/Lemon_PreEEGLAB/{}/{}/{}_EO.set\".format(Subjects[\"Subject_Number\"], Subjects[\"Subject_Number\"], Subjects[\"Subject_Number\"]), preload=True, verbose=False)\n"
     ]
    },
    {
     "name": "stdout",
     "output_type": "stream",
     "text": [
      "Subject number: sub-032330\n"
     ]
    },
    {
     "name": "stderr",
     "output_type": "stream",
     "text": [
      "/tmp/ipykernel_72612/4144421588.py:9: RuntimeWarning: Limited 1 annotation(s) that were expanding outside the data range.\n",
      "  Subjects[\"prepSignal_EO\"] = mne.io.read_raw_eeglab(\"/workspace/brail_poc3/experiments/Lemon_PreEEGLAB/{}/{}/{}_EO.set\".format(Subjects[\"Subject_Number\"], Subjects[\"Subject_Number\"], Subjects[\"Subject_Number\"]), preload=True, verbose=False)\n",
      "/tmp/ipykernel_72612/4144421588.py:9: RuntimeWarning: The data contains 'boundary' events, indicating data discontinuities. Be cautious of filtering and epoching around these events.\n",
      "  Subjects[\"prepSignal_EO\"] = mne.io.read_raw_eeglab(\"/workspace/brail_poc3/experiments/Lemon_PreEEGLAB/{}/{}/{}_EO.set\".format(Subjects[\"Subject_Number\"], Subjects[\"Subject_Number\"], Subjects[\"Subject_Number\"]), preload=True, verbose=False)\n",
      " 14%|██████                                    | 29/201 [00:07<00:47,  3.59it/s]/tmp/ipykernel_72612/4144421588.py:8: RuntimeWarning: Data file name in EEG.data (sub-010039_EC.fdt) is incorrect, the file name must have changed on disk, using the correct file name (sub-032331_EC.fdt).\n",
      "  Subjects[\"prepSignal_EC\"] = mne.io.read_raw_eeglab(\"/workspace/brail_poc3/experiments/Lemon_PreEEGLAB/{}/{}/{}_EC.set\".format(Subjects[\"Subject_Number\"], Subjects[\"Subject_Number\"], Subjects[\"Subject_Number\"]), preload=True, verbose=False)\n",
      "/tmp/ipykernel_72612/4144421588.py:8: RuntimeWarning: Limited 1 annotation(s) that were expanding outside the data range.\n",
      "  Subjects[\"prepSignal_EC\"] = mne.io.read_raw_eeglab(\"/workspace/brail_poc3/experiments/Lemon_PreEEGLAB/{}/{}/{}_EC.set\".format(Subjects[\"Subject_Number\"], Subjects[\"Subject_Number\"], Subjects[\"Subject_Number\"]), preload=True, verbose=False)\n",
      "/tmp/ipykernel_72612/4144421588.py:8: RuntimeWarning: The data contains 'boundary' events, indicating data discontinuities. Be cautious of filtering and epoching around these events.\n",
      "  Subjects[\"prepSignal_EC\"] = mne.io.read_raw_eeglab(\"/workspace/brail_poc3/experiments/Lemon_PreEEGLAB/{}/{}/{}_EC.set\".format(Subjects[\"Subject_Number\"], Subjects[\"Subject_Number\"], Subjects[\"Subject_Number\"]), preload=True, verbose=False)\n",
      "/tmp/ipykernel_72612/4144421588.py:9: RuntimeWarning: Data file name in EEG.data (sub-010039_EO.fdt) is incorrect, the file name must have changed on disk, using the correct file name (sub-032331_EO.fdt).\n",
      "  Subjects[\"prepSignal_EO\"] = mne.io.read_raw_eeglab(\"/workspace/brail_poc3/experiments/Lemon_PreEEGLAB/{}/{}/{}_EO.set\".format(Subjects[\"Subject_Number\"], Subjects[\"Subject_Number\"], Subjects[\"Subject_Number\"]), preload=True, verbose=False)\n"
     ]
    },
    {
     "name": "stdout",
     "output_type": "stream",
     "text": [
      "Subject number: sub-032331\n"
     ]
    },
    {
     "name": "stderr",
     "output_type": "stream",
     "text": [
      "/tmp/ipykernel_72612/4144421588.py:9: RuntimeWarning: Limited 1 annotation(s) that were expanding outside the data range.\n",
      "  Subjects[\"prepSignal_EO\"] = mne.io.read_raw_eeglab(\"/workspace/brail_poc3/experiments/Lemon_PreEEGLAB/{}/{}/{}_EO.set\".format(Subjects[\"Subject_Number\"], Subjects[\"Subject_Number\"], Subjects[\"Subject_Number\"]), preload=True, verbose=False)\n",
      "/tmp/ipykernel_72612/4144421588.py:9: RuntimeWarning: The data contains 'boundary' events, indicating data discontinuities. Be cautious of filtering and epoching around these events.\n",
      "  Subjects[\"prepSignal_EO\"] = mne.io.read_raw_eeglab(\"/workspace/brail_poc3/experiments/Lemon_PreEEGLAB/{}/{}/{}_EO.set\".format(Subjects[\"Subject_Number\"], Subjects[\"Subject_Number\"], Subjects[\"Subject_Number\"]), preload=True, verbose=False)\n",
      " 15%|██████▎                                   | 30/201 [00:08<00:46,  3.65it/s]/tmp/ipykernel_72612/4144421588.py:8: RuntimeWarning: Data file name in EEG.data (sub-010040_EC.fdt) is incorrect, the file name must have changed on disk, using the correct file name (sub-032332_EC.fdt).\n",
      "  Subjects[\"prepSignal_EC\"] = mne.io.read_raw_eeglab(\"/workspace/brail_poc3/experiments/Lemon_PreEEGLAB/{}/{}/{}_EC.set\".format(Subjects[\"Subject_Number\"], Subjects[\"Subject_Number\"], Subjects[\"Subject_Number\"]), preload=True, verbose=False)\n",
      "/tmp/ipykernel_72612/4144421588.py:8: RuntimeWarning: Limited 1 annotation(s) that were expanding outside the data range.\n",
      "  Subjects[\"prepSignal_EC\"] = mne.io.read_raw_eeglab(\"/workspace/brail_poc3/experiments/Lemon_PreEEGLAB/{}/{}/{}_EC.set\".format(Subjects[\"Subject_Number\"], Subjects[\"Subject_Number\"], Subjects[\"Subject_Number\"]), preload=True, verbose=False)\n",
      "/tmp/ipykernel_72612/4144421588.py:8: RuntimeWarning: The data contains 'boundary' events, indicating data discontinuities. Be cautious of filtering and epoching around these events.\n",
      "  Subjects[\"prepSignal_EC\"] = mne.io.read_raw_eeglab(\"/workspace/brail_poc3/experiments/Lemon_PreEEGLAB/{}/{}/{}_EC.set\".format(Subjects[\"Subject_Number\"], Subjects[\"Subject_Number\"], Subjects[\"Subject_Number\"]), preload=True, verbose=False)\n",
      "/tmp/ipykernel_72612/4144421588.py:9: RuntimeWarning: Data file name in EEG.data (sub-010040_EO.fdt) is incorrect, the file name must have changed on disk, using the correct file name (sub-032332_EO.fdt).\n",
      "  Subjects[\"prepSignal_EO\"] = mne.io.read_raw_eeglab(\"/workspace/brail_poc3/experiments/Lemon_PreEEGLAB/{}/{}/{}_EO.set\".format(Subjects[\"Subject_Number\"], Subjects[\"Subject_Number\"], Subjects[\"Subject_Number\"]), preload=True, verbose=False)\n"
     ]
    },
    {
     "name": "stdout",
     "output_type": "stream",
     "text": [
      "Subject number: sub-032332\n"
     ]
    },
    {
     "name": "stderr",
     "output_type": "stream",
     "text": [
      "/tmp/ipykernel_72612/4144421588.py:9: RuntimeWarning: Limited 1 annotation(s) that were expanding outside the data range.\n",
      "  Subjects[\"prepSignal_EO\"] = mne.io.read_raw_eeglab(\"/workspace/brail_poc3/experiments/Lemon_PreEEGLAB/{}/{}/{}_EO.set\".format(Subjects[\"Subject_Number\"], Subjects[\"Subject_Number\"], Subjects[\"Subject_Number\"]), preload=True, verbose=False)\n",
      "/tmp/ipykernel_72612/4144421588.py:9: RuntimeWarning: The data contains 'boundary' events, indicating data discontinuities. Be cautious of filtering and epoching around these events.\n",
      "  Subjects[\"prepSignal_EO\"] = mne.io.read_raw_eeglab(\"/workspace/brail_poc3/experiments/Lemon_PreEEGLAB/{}/{}/{}_EO.set\".format(Subjects[\"Subject_Number\"], Subjects[\"Subject_Number\"], Subjects[\"Subject_Number\"]), preload=True, verbose=False)\n",
      " 15%|██████▍                                   | 31/201 [00:08<00:46,  3.66it/s]/tmp/ipykernel_72612/4144421588.py:8: RuntimeWarning: Data file name in EEG.data (sub-010041_EC.fdt) is incorrect, the file name must have changed on disk, using the correct file name (sub-032333_EC.fdt).\n",
      "  Subjects[\"prepSignal_EC\"] = mne.io.read_raw_eeglab(\"/workspace/brail_poc3/experiments/Lemon_PreEEGLAB/{}/{}/{}_EC.set\".format(Subjects[\"Subject_Number\"], Subjects[\"Subject_Number\"], Subjects[\"Subject_Number\"]), preload=True, verbose=False)\n",
      "/tmp/ipykernel_72612/4144421588.py:8: RuntimeWarning: Limited 1 annotation(s) that were expanding outside the data range.\n",
      "  Subjects[\"prepSignal_EC\"] = mne.io.read_raw_eeglab(\"/workspace/brail_poc3/experiments/Lemon_PreEEGLAB/{}/{}/{}_EC.set\".format(Subjects[\"Subject_Number\"], Subjects[\"Subject_Number\"], Subjects[\"Subject_Number\"]), preload=True, verbose=False)\n",
      "/tmp/ipykernel_72612/4144421588.py:8: RuntimeWarning: The data contains 'boundary' events, indicating data discontinuities. Be cautious of filtering and epoching around these events.\n",
      "  Subjects[\"prepSignal_EC\"] = mne.io.read_raw_eeglab(\"/workspace/brail_poc3/experiments/Lemon_PreEEGLAB/{}/{}/{}_EC.set\".format(Subjects[\"Subject_Number\"], Subjects[\"Subject_Number\"], Subjects[\"Subject_Number\"]), preload=True, verbose=False)\n",
      "/tmp/ipykernel_72612/4144421588.py:9: RuntimeWarning: Data file name in EEG.data (sub-010041_EO.fdt) is incorrect, the file name must have changed on disk, using the correct file name (sub-032333_EO.fdt).\n",
      "  Subjects[\"prepSignal_EO\"] = mne.io.read_raw_eeglab(\"/workspace/brail_poc3/experiments/Lemon_PreEEGLAB/{}/{}/{}_EO.set\".format(Subjects[\"Subject_Number\"], Subjects[\"Subject_Number\"], Subjects[\"Subject_Number\"]), preload=True, verbose=False)\n"
     ]
    },
    {
     "name": "stdout",
     "output_type": "stream",
     "text": [
      "Subject number: sub-032333\n"
     ]
    },
    {
     "name": "stderr",
     "output_type": "stream",
     "text": [
      "/tmp/ipykernel_72612/4144421588.py:9: RuntimeWarning: Limited 1 annotation(s) that were expanding outside the data range.\n",
      "  Subjects[\"prepSignal_EO\"] = mne.io.read_raw_eeglab(\"/workspace/brail_poc3/experiments/Lemon_PreEEGLAB/{}/{}/{}_EO.set\".format(Subjects[\"Subject_Number\"], Subjects[\"Subject_Number\"], Subjects[\"Subject_Number\"]), preload=True, verbose=False)\n",
      "/tmp/ipykernel_72612/4144421588.py:9: RuntimeWarning: The data contains 'boundary' events, indicating data discontinuities. Be cautious of filtering and epoching around these events.\n",
      "  Subjects[\"prepSignal_EO\"] = mne.io.read_raw_eeglab(\"/workspace/brail_poc3/experiments/Lemon_PreEEGLAB/{}/{}/{}_EO.set\".format(Subjects[\"Subject_Number\"], Subjects[\"Subject_Number\"], Subjects[\"Subject_Number\"]), preload=True, verbose=False)\n",
      " 16%|██████▋                                   | 32/201 [00:08<00:46,  3.61it/s]/tmp/ipykernel_72612/4144421588.py:8: RuntimeWarning: Data file name in EEG.data (sub-010042_EC.fdt) is incorrect, the file name must have changed on disk, using the correct file name (sub-032334_EC.fdt).\n",
      "  Subjects[\"prepSignal_EC\"] = mne.io.read_raw_eeglab(\"/workspace/brail_poc3/experiments/Lemon_PreEEGLAB/{}/{}/{}_EC.set\".format(Subjects[\"Subject_Number\"], Subjects[\"Subject_Number\"], Subjects[\"Subject_Number\"]), preload=True, verbose=False)\n",
      "/tmp/ipykernel_72612/4144421588.py:8: RuntimeWarning: Limited 1 annotation(s) that were expanding outside the data range.\n",
      "  Subjects[\"prepSignal_EC\"] = mne.io.read_raw_eeglab(\"/workspace/brail_poc3/experiments/Lemon_PreEEGLAB/{}/{}/{}_EC.set\".format(Subjects[\"Subject_Number\"], Subjects[\"Subject_Number\"], Subjects[\"Subject_Number\"]), preload=True, verbose=False)\n",
      "/tmp/ipykernel_72612/4144421588.py:8: RuntimeWarning: The data contains 'boundary' events, indicating data discontinuities. Be cautious of filtering and epoching around these events.\n",
      "  Subjects[\"prepSignal_EC\"] = mne.io.read_raw_eeglab(\"/workspace/brail_poc3/experiments/Lemon_PreEEGLAB/{}/{}/{}_EC.set\".format(Subjects[\"Subject_Number\"], Subjects[\"Subject_Number\"], Subjects[\"Subject_Number\"]), preload=True, verbose=False)\n",
      "/tmp/ipykernel_72612/4144421588.py:9: RuntimeWarning: Data file name in EEG.data (sub-010042_EO.fdt) is incorrect, the file name must have changed on disk, using the correct file name (sub-032334_EO.fdt).\n",
      "  Subjects[\"prepSignal_EO\"] = mne.io.read_raw_eeglab(\"/workspace/brail_poc3/experiments/Lemon_PreEEGLAB/{}/{}/{}_EO.set\".format(Subjects[\"Subject_Number\"], Subjects[\"Subject_Number\"], Subjects[\"Subject_Number\"]), preload=True, verbose=False)\n"
     ]
    },
    {
     "name": "stdout",
     "output_type": "stream",
     "text": [
      "Subject number: sub-032334\n"
     ]
    },
    {
     "name": "stderr",
     "output_type": "stream",
     "text": [
      "/tmp/ipykernel_72612/4144421588.py:9: RuntimeWarning: Limited 1 annotation(s) that were expanding outside the data range.\n",
      "  Subjects[\"prepSignal_EO\"] = mne.io.read_raw_eeglab(\"/workspace/brail_poc3/experiments/Lemon_PreEEGLAB/{}/{}/{}_EO.set\".format(Subjects[\"Subject_Number\"], Subjects[\"Subject_Number\"], Subjects[\"Subject_Number\"]), preload=True, verbose=False)\n",
      "/tmp/ipykernel_72612/4144421588.py:9: RuntimeWarning: The data contains 'boundary' events, indicating data discontinuities. Be cautious of filtering and epoching around these events.\n",
      "  Subjects[\"prepSignal_EO\"] = mne.io.read_raw_eeglab(\"/workspace/brail_poc3/experiments/Lemon_PreEEGLAB/{}/{}/{}_EO.set\".format(Subjects[\"Subject_Number\"], Subjects[\"Subject_Number\"], Subjects[\"Subject_Number\"]), preload=True, verbose=False)\n",
      " 16%|██████▉                                   | 33/201 [00:08<00:46,  3.65it/s]/tmp/ipykernel_72612/4144421588.py:8: RuntimeWarning: Data file name in EEG.data (sub-010044_EC.fdt) is incorrect, the file name must have changed on disk, using the correct file name (sub-032336_EC.fdt).\n",
      "  Subjects[\"prepSignal_EC\"] = mne.io.read_raw_eeglab(\"/workspace/brail_poc3/experiments/Lemon_PreEEGLAB/{}/{}/{}_EC.set\".format(Subjects[\"Subject_Number\"], Subjects[\"Subject_Number\"], Subjects[\"Subject_Number\"]), preload=True, verbose=False)\n",
      "/tmp/ipykernel_72612/4144421588.py:8: RuntimeWarning: Limited 1 annotation(s) that were expanding outside the data range.\n",
      "  Subjects[\"prepSignal_EC\"] = mne.io.read_raw_eeglab(\"/workspace/brail_poc3/experiments/Lemon_PreEEGLAB/{}/{}/{}_EC.set\".format(Subjects[\"Subject_Number\"], Subjects[\"Subject_Number\"], Subjects[\"Subject_Number\"]), preload=True, verbose=False)\n",
      "/tmp/ipykernel_72612/4144421588.py:8: RuntimeWarning: The data contains 'boundary' events, indicating data discontinuities. Be cautious of filtering and epoching around these events.\n",
      "  Subjects[\"prepSignal_EC\"] = mne.io.read_raw_eeglab(\"/workspace/brail_poc3/experiments/Lemon_PreEEGLAB/{}/{}/{}_EC.set\".format(Subjects[\"Subject_Number\"], Subjects[\"Subject_Number\"], Subjects[\"Subject_Number\"]), preload=True, verbose=False)\n",
      "/tmp/ipykernel_72612/4144421588.py:9: RuntimeWarning: Data file name in EEG.data (sub-010044_EO.fdt) is incorrect, the file name must have changed on disk, using the correct file name (sub-032336_EO.fdt).\n",
      "  Subjects[\"prepSignal_EO\"] = mne.io.read_raw_eeglab(\"/workspace/brail_poc3/experiments/Lemon_PreEEGLAB/{}/{}/{}_EO.set\".format(Subjects[\"Subject_Number\"], Subjects[\"Subject_Number\"], Subjects[\"Subject_Number\"]), preload=True, verbose=False)\n"
     ]
    },
    {
     "name": "stdout",
     "output_type": "stream",
     "text": [
      "Subject number: sub-032336\n"
     ]
    },
    {
     "name": "stderr",
     "output_type": "stream",
     "text": [
      "/tmp/ipykernel_72612/4144421588.py:9: RuntimeWarning: Limited 1 annotation(s) that were expanding outside the data range.\n",
      "  Subjects[\"prepSignal_EO\"] = mne.io.read_raw_eeglab(\"/workspace/brail_poc3/experiments/Lemon_PreEEGLAB/{}/{}/{}_EO.set\".format(Subjects[\"Subject_Number\"], Subjects[\"Subject_Number\"], Subjects[\"Subject_Number\"]), preload=True, verbose=False)\n",
      "/tmp/ipykernel_72612/4144421588.py:9: RuntimeWarning: The data contains 'boundary' events, indicating data discontinuities. Be cautious of filtering and epoching around these events.\n",
      "  Subjects[\"prepSignal_EO\"] = mne.io.read_raw_eeglab(\"/workspace/brail_poc3/experiments/Lemon_PreEEGLAB/{}/{}/{}_EO.set\".format(Subjects[\"Subject_Number\"], Subjects[\"Subject_Number\"], Subjects[\"Subject_Number\"]), preload=True, verbose=False)\n",
      " 17%|███████                                   | 34/201 [00:09<00:45,  3.67it/s]/tmp/ipykernel_72612/4144421588.py:8: RuntimeWarning: Data file name in EEG.data (sub-010045_EC.fdt) is incorrect, the file name must have changed on disk, using the correct file name (sub-032337_EC.fdt).\n",
      "  Subjects[\"prepSignal_EC\"] = mne.io.read_raw_eeglab(\"/workspace/brail_poc3/experiments/Lemon_PreEEGLAB/{}/{}/{}_EC.set\".format(Subjects[\"Subject_Number\"], Subjects[\"Subject_Number\"], Subjects[\"Subject_Number\"]), preload=True, verbose=False)\n",
      "/tmp/ipykernel_72612/4144421588.py:8: RuntimeWarning: Limited 1 annotation(s) that were expanding outside the data range.\n",
      "  Subjects[\"prepSignal_EC\"] = mne.io.read_raw_eeglab(\"/workspace/brail_poc3/experiments/Lemon_PreEEGLAB/{}/{}/{}_EC.set\".format(Subjects[\"Subject_Number\"], Subjects[\"Subject_Number\"], Subjects[\"Subject_Number\"]), preload=True, verbose=False)\n",
      "/tmp/ipykernel_72612/4144421588.py:8: RuntimeWarning: The data contains 'boundary' events, indicating data discontinuities. Be cautious of filtering and epoching around these events.\n",
      "  Subjects[\"prepSignal_EC\"] = mne.io.read_raw_eeglab(\"/workspace/brail_poc3/experiments/Lemon_PreEEGLAB/{}/{}/{}_EC.set\".format(Subjects[\"Subject_Number\"], Subjects[\"Subject_Number\"], Subjects[\"Subject_Number\"]), preload=True, verbose=False)\n",
      "/tmp/ipykernel_72612/4144421588.py:9: RuntimeWarning: Data file name in EEG.data (sub-010045_EO.fdt) is incorrect, the file name must have changed on disk, using the correct file name (sub-032337_EO.fdt).\n",
      "  Subjects[\"prepSignal_EO\"] = mne.io.read_raw_eeglab(\"/workspace/brail_poc3/experiments/Lemon_PreEEGLAB/{}/{}/{}_EO.set\".format(Subjects[\"Subject_Number\"], Subjects[\"Subject_Number\"], Subjects[\"Subject_Number\"]), preload=True, verbose=False)\n"
     ]
    },
    {
     "name": "stdout",
     "output_type": "stream",
     "text": [
      "Subject number: sub-032337\n"
     ]
    },
    {
     "name": "stderr",
     "output_type": "stream",
     "text": [
      "/tmp/ipykernel_72612/4144421588.py:9: RuntimeWarning: Limited 1 annotation(s) that were expanding outside the data range.\n",
      "  Subjects[\"prepSignal_EO\"] = mne.io.read_raw_eeglab(\"/workspace/brail_poc3/experiments/Lemon_PreEEGLAB/{}/{}/{}_EO.set\".format(Subjects[\"Subject_Number\"], Subjects[\"Subject_Number\"], Subjects[\"Subject_Number\"]), preload=True, verbose=False)\n",
      "/tmp/ipykernel_72612/4144421588.py:9: RuntimeWarning: The data contains 'boundary' events, indicating data discontinuities. Be cautious of filtering and epoching around these events.\n",
      "  Subjects[\"prepSignal_EO\"] = mne.io.read_raw_eeglab(\"/workspace/brail_poc3/experiments/Lemon_PreEEGLAB/{}/{}/{}_EO.set\".format(Subjects[\"Subject_Number\"], Subjects[\"Subject_Number\"], Subjects[\"Subject_Number\"]), preload=True, verbose=False)\n",
      " 17%|███████▎                                  | 35/201 [00:09<00:44,  3.72it/s]/tmp/ipykernel_72612/4144421588.py:8: RuntimeWarning: Data file name in EEG.data (sub-010046_EC.fdt) is incorrect, the file name must have changed on disk, using the correct file name (sub-032338_EC.fdt).\n",
      "  Subjects[\"prepSignal_EC\"] = mne.io.read_raw_eeglab(\"/workspace/brail_poc3/experiments/Lemon_PreEEGLAB/{}/{}/{}_EC.set\".format(Subjects[\"Subject_Number\"], Subjects[\"Subject_Number\"], Subjects[\"Subject_Number\"]), preload=True, verbose=False)\n",
      "/tmp/ipykernel_72612/4144421588.py:8: RuntimeWarning: Limited 1 annotation(s) that were expanding outside the data range.\n",
      "  Subjects[\"prepSignal_EC\"] = mne.io.read_raw_eeglab(\"/workspace/brail_poc3/experiments/Lemon_PreEEGLAB/{}/{}/{}_EC.set\".format(Subjects[\"Subject_Number\"], Subjects[\"Subject_Number\"], Subjects[\"Subject_Number\"]), preload=True, verbose=False)\n",
      "/tmp/ipykernel_72612/4144421588.py:8: RuntimeWarning: The data contains 'boundary' events, indicating data discontinuities. Be cautious of filtering and epoching around these events.\n",
      "  Subjects[\"prepSignal_EC\"] = mne.io.read_raw_eeglab(\"/workspace/brail_poc3/experiments/Lemon_PreEEGLAB/{}/{}/{}_EC.set\".format(Subjects[\"Subject_Number\"], Subjects[\"Subject_Number\"], Subjects[\"Subject_Number\"]), preload=True, verbose=False)\n",
      "/tmp/ipykernel_72612/4144421588.py:9: RuntimeWarning: Data file name in EEG.data (sub-010046_EO.fdt) is incorrect, the file name must have changed on disk, using the correct file name (sub-032338_EO.fdt).\n",
      "  Subjects[\"prepSignal_EO\"] = mne.io.read_raw_eeglab(\"/workspace/brail_poc3/experiments/Lemon_PreEEGLAB/{}/{}/{}_EO.set\".format(Subjects[\"Subject_Number\"], Subjects[\"Subject_Number\"], Subjects[\"Subject_Number\"]), preload=True, verbose=False)\n"
     ]
    },
    {
     "name": "stdout",
     "output_type": "stream",
     "text": [
      "Subject number: sub-032338\n"
     ]
    },
    {
     "name": "stderr",
     "output_type": "stream",
     "text": [
      "/tmp/ipykernel_72612/4144421588.py:9: RuntimeWarning: Limited 1 annotation(s) that were expanding outside the data range.\n",
      "  Subjects[\"prepSignal_EO\"] = mne.io.read_raw_eeglab(\"/workspace/brail_poc3/experiments/Lemon_PreEEGLAB/{}/{}/{}_EO.set\".format(Subjects[\"Subject_Number\"], Subjects[\"Subject_Number\"], Subjects[\"Subject_Number\"]), preload=True, verbose=False)\n",
      "/tmp/ipykernel_72612/4144421588.py:9: RuntimeWarning: The data contains 'boundary' events, indicating data discontinuities. Be cautious of filtering and epoching around these events.\n",
      "  Subjects[\"prepSignal_EO\"] = mne.io.read_raw_eeglab(\"/workspace/brail_poc3/experiments/Lemon_PreEEGLAB/{}/{}/{}_EO.set\".format(Subjects[\"Subject_Number\"], Subjects[\"Subject_Number\"], Subjects[\"Subject_Number\"]), preload=True, verbose=False)\n",
      " 18%|███████▌                                  | 36/201 [00:09<00:43,  3.75it/s]/tmp/ipykernel_72612/4144421588.py:8: RuntimeWarning: Data file name in EEG.data (sub-010047_EC.fdt) is incorrect, the file name must have changed on disk, using the correct file name (sub-032339_EC.fdt).\n",
      "  Subjects[\"prepSignal_EC\"] = mne.io.read_raw_eeglab(\"/workspace/brail_poc3/experiments/Lemon_PreEEGLAB/{}/{}/{}_EC.set\".format(Subjects[\"Subject_Number\"], Subjects[\"Subject_Number\"], Subjects[\"Subject_Number\"]), preload=True, verbose=False)\n",
      "/tmp/ipykernel_72612/4144421588.py:8: RuntimeWarning: Limited 1 annotation(s) that were expanding outside the data range.\n",
      "  Subjects[\"prepSignal_EC\"] = mne.io.read_raw_eeglab(\"/workspace/brail_poc3/experiments/Lemon_PreEEGLAB/{}/{}/{}_EC.set\".format(Subjects[\"Subject_Number\"], Subjects[\"Subject_Number\"], Subjects[\"Subject_Number\"]), preload=True, verbose=False)\n",
      "/tmp/ipykernel_72612/4144421588.py:8: RuntimeWarning: The data contains 'boundary' events, indicating data discontinuities. Be cautious of filtering and epoching around these events.\n",
      "  Subjects[\"prepSignal_EC\"] = mne.io.read_raw_eeglab(\"/workspace/brail_poc3/experiments/Lemon_PreEEGLAB/{}/{}/{}_EC.set\".format(Subjects[\"Subject_Number\"], Subjects[\"Subject_Number\"], Subjects[\"Subject_Number\"]), preload=True, verbose=False)\n",
      "/tmp/ipykernel_72612/4144421588.py:9: RuntimeWarning: Data file name in EEG.data (sub-010047_EO.fdt) is incorrect, the file name must have changed on disk, using the correct file name (sub-032339_EO.fdt).\n",
      "  Subjects[\"prepSignal_EO\"] = mne.io.read_raw_eeglab(\"/workspace/brail_poc3/experiments/Lemon_PreEEGLAB/{}/{}/{}_EO.set\".format(Subjects[\"Subject_Number\"], Subjects[\"Subject_Number\"], Subjects[\"Subject_Number\"]), preload=True, verbose=False)\n"
     ]
    },
    {
     "name": "stdout",
     "output_type": "stream",
     "text": [
      "Subject number: sub-032339\n"
     ]
    },
    {
     "name": "stderr",
     "output_type": "stream",
     "text": [
      "/tmp/ipykernel_72612/4144421588.py:9: RuntimeWarning: Limited 1 annotation(s) that were expanding outside the data range.\n",
      "  Subjects[\"prepSignal_EO\"] = mne.io.read_raw_eeglab(\"/workspace/brail_poc3/experiments/Lemon_PreEEGLAB/{}/{}/{}_EO.set\".format(Subjects[\"Subject_Number\"], Subjects[\"Subject_Number\"], Subjects[\"Subject_Number\"]), preload=True, verbose=False)\n",
      "/tmp/ipykernel_72612/4144421588.py:9: RuntimeWarning: The data contains 'boundary' events, indicating data discontinuities. Be cautious of filtering and epoching around these events.\n",
      "  Subjects[\"prepSignal_EO\"] = mne.io.read_raw_eeglab(\"/workspace/brail_poc3/experiments/Lemon_PreEEGLAB/{}/{}/{}_EO.set\".format(Subjects[\"Subject_Number\"], Subjects[\"Subject_Number\"], Subjects[\"Subject_Number\"]), preload=True, verbose=False)\n",
      " 18%|███████▋                                  | 37/201 [00:09<00:43,  3.75it/s]/tmp/ipykernel_72612/4144421588.py:8: RuntimeWarning: Data file name in EEG.data (sub-010048_EC.fdt) is incorrect, the file name must have changed on disk, using the correct file name (sub-032340_EC.fdt).\n",
      "  Subjects[\"prepSignal_EC\"] = mne.io.read_raw_eeglab(\"/workspace/brail_poc3/experiments/Lemon_PreEEGLAB/{}/{}/{}_EC.set\".format(Subjects[\"Subject_Number\"], Subjects[\"Subject_Number\"], Subjects[\"Subject_Number\"]), preload=True, verbose=False)\n",
      "/tmp/ipykernel_72612/4144421588.py:8: RuntimeWarning: Limited 1 annotation(s) that were expanding outside the data range.\n",
      "  Subjects[\"prepSignal_EC\"] = mne.io.read_raw_eeglab(\"/workspace/brail_poc3/experiments/Lemon_PreEEGLAB/{}/{}/{}_EC.set\".format(Subjects[\"Subject_Number\"], Subjects[\"Subject_Number\"], Subjects[\"Subject_Number\"]), preload=True, verbose=False)\n",
      "/tmp/ipykernel_72612/4144421588.py:8: RuntimeWarning: The data contains 'boundary' events, indicating data discontinuities. Be cautious of filtering and epoching around these events.\n",
      "  Subjects[\"prepSignal_EC\"] = mne.io.read_raw_eeglab(\"/workspace/brail_poc3/experiments/Lemon_PreEEGLAB/{}/{}/{}_EC.set\".format(Subjects[\"Subject_Number\"], Subjects[\"Subject_Number\"], Subjects[\"Subject_Number\"]), preload=True, verbose=False)\n",
      "/tmp/ipykernel_72612/4144421588.py:9: RuntimeWarning: Data file name in EEG.data (sub-010048_EO.fdt) is incorrect, the file name must have changed on disk, using the correct file name (sub-032340_EO.fdt).\n",
      "  Subjects[\"prepSignal_EO\"] = mne.io.read_raw_eeglab(\"/workspace/brail_poc3/experiments/Lemon_PreEEGLAB/{}/{}/{}_EO.set\".format(Subjects[\"Subject_Number\"], Subjects[\"Subject_Number\"], Subjects[\"Subject_Number\"]), preload=True, verbose=False)\n"
     ]
    },
    {
     "name": "stdout",
     "output_type": "stream",
     "text": [
      "Subject number: sub-032340\n"
     ]
    },
    {
     "name": "stderr",
     "output_type": "stream",
     "text": [
      "/tmp/ipykernel_72612/4144421588.py:9: RuntimeWarning: Limited 1 annotation(s) that were expanding outside the data range.\n",
      "  Subjects[\"prepSignal_EO\"] = mne.io.read_raw_eeglab(\"/workspace/brail_poc3/experiments/Lemon_PreEEGLAB/{}/{}/{}_EO.set\".format(Subjects[\"Subject_Number\"], Subjects[\"Subject_Number\"], Subjects[\"Subject_Number\"]), preload=True, verbose=False)\n",
      "/tmp/ipykernel_72612/4144421588.py:9: RuntimeWarning: The data contains 'boundary' events, indicating data discontinuities. Be cautious of filtering and epoching around these events.\n",
      "  Subjects[\"prepSignal_EO\"] = mne.io.read_raw_eeglab(\"/workspace/brail_poc3/experiments/Lemon_PreEEGLAB/{}/{}/{}_EO.set\".format(Subjects[\"Subject_Number\"], Subjects[\"Subject_Number\"], Subjects[\"Subject_Number\"]), preload=True, verbose=False)\n",
      " 19%|███████▉                                  | 38/201 [00:10<00:43,  3.75it/s]/tmp/ipykernel_72612/4144421588.py:8: RuntimeWarning: Data file name in EEG.data (sub-010049_EC.fdt) is incorrect, the file name must have changed on disk, using the correct file name (sub-032341_EC.fdt).\n",
      "  Subjects[\"prepSignal_EC\"] = mne.io.read_raw_eeglab(\"/workspace/brail_poc3/experiments/Lemon_PreEEGLAB/{}/{}/{}_EC.set\".format(Subjects[\"Subject_Number\"], Subjects[\"Subject_Number\"], Subjects[\"Subject_Number\"]), preload=True, verbose=False)\n",
      "/tmp/ipykernel_72612/4144421588.py:8: RuntimeWarning: Limited 1 annotation(s) that were expanding outside the data range.\n",
      "  Subjects[\"prepSignal_EC\"] = mne.io.read_raw_eeglab(\"/workspace/brail_poc3/experiments/Lemon_PreEEGLAB/{}/{}/{}_EC.set\".format(Subjects[\"Subject_Number\"], Subjects[\"Subject_Number\"], Subjects[\"Subject_Number\"]), preload=True, verbose=False)\n",
      "/tmp/ipykernel_72612/4144421588.py:8: RuntimeWarning: The data contains 'boundary' events, indicating data discontinuities. Be cautious of filtering and epoching around these events.\n",
      "  Subjects[\"prepSignal_EC\"] = mne.io.read_raw_eeglab(\"/workspace/brail_poc3/experiments/Lemon_PreEEGLAB/{}/{}/{}_EC.set\".format(Subjects[\"Subject_Number\"], Subjects[\"Subject_Number\"], Subjects[\"Subject_Number\"]), preload=True, verbose=False)\n",
      "/tmp/ipykernel_72612/4144421588.py:9: RuntimeWarning: Data file name in EEG.data (sub-010049_EO.fdt) is incorrect, the file name must have changed on disk, using the correct file name (sub-032341_EO.fdt).\n",
      "  Subjects[\"prepSignal_EO\"] = mne.io.read_raw_eeglab(\"/workspace/brail_poc3/experiments/Lemon_PreEEGLAB/{}/{}/{}_EO.set\".format(Subjects[\"Subject_Number\"], Subjects[\"Subject_Number\"], Subjects[\"Subject_Number\"]), preload=True, verbose=False)\n"
     ]
    },
    {
     "name": "stdout",
     "output_type": "stream",
     "text": [
      "Subject number: sub-032341\n"
     ]
    },
    {
     "name": "stderr",
     "output_type": "stream",
     "text": [
      "/tmp/ipykernel_72612/4144421588.py:9: RuntimeWarning: Limited 1 annotation(s) that were expanding outside the data range.\n",
      "  Subjects[\"prepSignal_EO\"] = mne.io.read_raw_eeglab(\"/workspace/brail_poc3/experiments/Lemon_PreEEGLAB/{}/{}/{}_EO.set\".format(Subjects[\"Subject_Number\"], Subjects[\"Subject_Number\"], Subjects[\"Subject_Number\"]), preload=True, verbose=False)\n",
      "/tmp/ipykernel_72612/4144421588.py:9: RuntimeWarning: The data contains 'boundary' events, indicating data discontinuities. Be cautious of filtering and epoching around these events.\n",
      "  Subjects[\"prepSignal_EO\"] = mne.io.read_raw_eeglab(\"/workspace/brail_poc3/experiments/Lemon_PreEEGLAB/{}/{}/{}_EO.set\".format(Subjects[\"Subject_Number\"], Subjects[\"Subject_Number\"], Subjects[\"Subject_Number\"]), preload=True, verbose=False)\n",
      " 19%|████████▏                                 | 39/201 [00:10<00:43,  3.75it/s]/tmp/ipykernel_72612/4144421588.py:8: RuntimeWarning: Data file name in EEG.data (sub-010050_EC.fdt) is incorrect, the file name must have changed on disk, using the correct file name (sub-032342_EC.fdt).\n",
      "  Subjects[\"prepSignal_EC\"] = mne.io.read_raw_eeglab(\"/workspace/brail_poc3/experiments/Lemon_PreEEGLAB/{}/{}/{}_EC.set\".format(Subjects[\"Subject_Number\"], Subjects[\"Subject_Number\"], Subjects[\"Subject_Number\"]), preload=True, verbose=False)\n",
      "/tmp/ipykernel_72612/4144421588.py:8: RuntimeWarning: Limited 1 annotation(s) that were expanding outside the data range.\n",
      "  Subjects[\"prepSignal_EC\"] = mne.io.read_raw_eeglab(\"/workspace/brail_poc3/experiments/Lemon_PreEEGLAB/{}/{}/{}_EC.set\".format(Subjects[\"Subject_Number\"], Subjects[\"Subject_Number\"], Subjects[\"Subject_Number\"]), preload=True, verbose=False)\n",
      "/tmp/ipykernel_72612/4144421588.py:8: RuntimeWarning: The data contains 'boundary' events, indicating data discontinuities. Be cautious of filtering and epoching around these events.\n",
      "  Subjects[\"prepSignal_EC\"] = mne.io.read_raw_eeglab(\"/workspace/brail_poc3/experiments/Lemon_PreEEGLAB/{}/{}/{}_EC.set\".format(Subjects[\"Subject_Number\"], Subjects[\"Subject_Number\"], Subjects[\"Subject_Number\"]), preload=True, verbose=False)\n",
      "/tmp/ipykernel_72612/4144421588.py:9: RuntimeWarning: Data file name in EEG.data (sub-010050_EO.fdt) is incorrect, the file name must have changed on disk, using the correct file name (sub-032342_EO.fdt).\n",
      "  Subjects[\"prepSignal_EO\"] = mne.io.read_raw_eeglab(\"/workspace/brail_poc3/experiments/Lemon_PreEEGLAB/{}/{}/{}_EO.set\".format(Subjects[\"Subject_Number\"], Subjects[\"Subject_Number\"], Subjects[\"Subject_Number\"]), preload=True, verbose=False)\n"
     ]
    },
    {
     "name": "stdout",
     "output_type": "stream",
     "text": [
      "Subject number: sub-032342\n"
     ]
    },
    {
     "name": "stderr",
     "output_type": "stream",
     "text": [
      "/tmp/ipykernel_72612/4144421588.py:9: RuntimeWarning: Limited 1 annotation(s) that were expanding outside the data range.\n",
      "  Subjects[\"prepSignal_EO\"] = mne.io.read_raw_eeglab(\"/workspace/brail_poc3/experiments/Lemon_PreEEGLAB/{}/{}/{}_EO.set\".format(Subjects[\"Subject_Number\"], Subjects[\"Subject_Number\"], Subjects[\"Subject_Number\"]), preload=True, verbose=False)\n",
      "/tmp/ipykernel_72612/4144421588.py:9: RuntimeWarning: The data contains 'boundary' events, indicating data discontinuities. Be cautious of filtering and epoching around these events.\n",
      "  Subjects[\"prepSignal_EO\"] = mne.io.read_raw_eeglab(\"/workspace/brail_poc3/experiments/Lemon_PreEEGLAB/{}/{}/{}_EO.set\".format(Subjects[\"Subject_Number\"], Subjects[\"Subject_Number\"], Subjects[\"Subject_Number\"]), preload=True, verbose=False)\n",
      " 20%|████████▎                                 | 40/201 [00:10<00:42,  3.76it/s]/tmp/ipykernel_72612/4144421588.py:8: RuntimeWarning: Data file name in EEG.data (sub-010051_EC.fdt) is incorrect, the file name must have changed on disk, using the correct file name (sub-032343_EC.fdt).\n",
      "  Subjects[\"prepSignal_EC\"] = mne.io.read_raw_eeglab(\"/workspace/brail_poc3/experiments/Lemon_PreEEGLAB/{}/{}/{}_EC.set\".format(Subjects[\"Subject_Number\"], Subjects[\"Subject_Number\"], Subjects[\"Subject_Number\"]), preload=True, verbose=False)\n",
      "/tmp/ipykernel_72612/4144421588.py:8: RuntimeWarning: Limited 1 annotation(s) that were expanding outside the data range.\n",
      "  Subjects[\"prepSignal_EC\"] = mne.io.read_raw_eeglab(\"/workspace/brail_poc3/experiments/Lemon_PreEEGLAB/{}/{}/{}_EC.set\".format(Subjects[\"Subject_Number\"], Subjects[\"Subject_Number\"], Subjects[\"Subject_Number\"]), preload=True, verbose=False)\n",
      "/tmp/ipykernel_72612/4144421588.py:8: RuntimeWarning: The data contains 'boundary' events, indicating data discontinuities. Be cautious of filtering and epoching around these events.\n",
      "  Subjects[\"prepSignal_EC\"] = mne.io.read_raw_eeglab(\"/workspace/brail_poc3/experiments/Lemon_PreEEGLAB/{}/{}/{}_EC.set\".format(Subjects[\"Subject_Number\"], Subjects[\"Subject_Number\"], Subjects[\"Subject_Number\"]), preload=True, verbose=False)\n",
      "/tmp/ipykernel_72612/4144421588.py:9: RuntimeWarning: Data file name in EEG.data (sub-010051_EO.fdt) is incorrect, the file name must have changed on disk, using the correct file name (sub-032343_EO.fdt).\n",
      "  Subjects[\"prepSignal_EO\"] = mne.io.read_raw_eeglab(\"/workspace/brail_poc3/experiments/Lemon_PreEEGLAB/{}/{}/{}_EO.set\".format(Subjects[\"Subject_Number\"], Subjects[\"Subject_Number\"], Subjects[\"Subject_Number\"]), preload=True, verbose=False)\n"
     ]
    },
    {
     "name": "stdout",
     "output_type": "stream",
     "text": [
      "Subject number: sub-032343\n"
     ]
    },
    {
     "name": "stderr",
     "output_type": "stream",
     "text": [
      "/tmp/ipykernel_72612/4144421588.py:9: RuntimeWarning: Limited 1 annotation(s) that were expanding outside the data range.\n",
      "  Subjects[\"prepSignal_EO\"] = mne.io.read_raw_eeglab(\"/workspace/brail_poc3/experiments/Lemon_PreEEGLAB/{}/{}/{}_EO.set\".format(Subjects[\"Subject_Number\"], Subjects[\"Subject_Number\"], Subjects[\"Subject_Number\"]), preload=True, verbose=False)\n",
      "/tmp/ipykernel_72612/4144421588.py:9: RuntimeWarning: The data contains 'boundary' events, indicating data discontinuities. Be cautious of filtering and epoching around these events.\n",
      "  Subjects[\"prepSignal_EO\"] = mne.io.read_raw_eeglab(\"/workspace/brail_poc3/experiments/Lemon_PreEEGLAB/{}/{}/{}_EO.set\".format(Subjects[\"Subject_Number\"], Subjects[\"Subject_Number\"], Subjects[\"Subject_Number\"]), preload=True, verbose=False)\n",
      " 20%|████████▌                                 | 41/201 [00:11<00:41,  3.83it/s]/tmp/ipykernel_72612/4144421588.py:8: RuntimeWarning: Data file name in EEG.data (sub-010052_EC.fdt) is incorrect, the file name must have changed on disk, using the correct file name (sub-032344_EC.fdt).\n",
      "  Subjects[\"prepSignal_EC\"] = mne.io.read_raw_eeglab(\"/workspace/brail_poc3/experiments/Lemon_PreEEGLAB/{}/{}/{}_EC.set\".format(Subjects[\"Subject_Number\"], Subjects[\"Subject_Number\"], Subjects[\"Subject_Number\"]), preload=True, verbose=False)\n",
      "/tmp/ipykernel_72612/4144421588.py:8: RuntimeWarning: Limited 1 annotation(s) that were expanding outside the data range.\n",
      "  Subjects[\"prepSignal_EC\"] = mne.io.read_raw_eeglab(\"/workspace/brail_poc3/experiments/Lemon_PreEEGLAB/{}/{}/{}_EC.set\".format(Subjects[\"Subject_Number\"], Subjects[\"Subject_Number\"], Subjects[\"Subject_Number\"]), preload=True, verbose=False)\n",
      "/tmp/ipykernel_72612/4144421588.py:8: RuntimeWarning: The data contains 'boundary' events, indicating data discontinuities. Be cautious of filtering and epoching around these events.\n",
      "  Subjects[\"prepSignal_EC\"] = mne.io.read_raw_eeglab(\"/workspace/brail_poc3/experiments/Lemon_PreEEGLAB/{}/{}/{}_EC.set\".format(Subjects[\"Subject_Number\"], Subjects[\"Subject_Number\"], Subjects[\"Subject_Number\"]), preload=True, verbose=False)\n",
      "/tmp/ipykernel_72612/4144421588.py:9: RuntimeWarning: Data file name in EEG.data (sub-010052_EO.fdt) is incorrect, the file name must have changed on disk, using the correct file name (sub-032344_EO.fdt).\n",
      "  Subjects[\"prepSignal_EO\"] = mne.io.read_raw_eeglab(\"/workspace/brail_poc3/experiments/Lemon_PreEEGLAB/{}/{}/{}_EO.set\".format(Subjects[\"Subject_Number\"], Subjects[\"Subject_Number\"], Subjects[\"Subject_Number\"]), preload=True, verbose=False)\n"
     ]
    },
    {
     "name": "stdout",
     "output_type": "stream",
     "text": [
      "Subject number: sub-032344\n"
     ]
    },
    {
     "name": "stderr",
     "output_type": "stream",
     "text": [
      "/tmp/ipykernel_72612/4144421588.py:9: RuntimeWarning: Limited 1 annotation(s) that were expanding outside the data range.\n",
      "  Subjects[\"prepSignal_EO\"] = mne.io.read_raw_eeglab(\"/workspace/brail_poc3/experiments/Lemon_PreEEGLAB/{}/{}/{}_EO.set\".format(Subjects[\"Subject_Number\"], Subjects[\"Subject_Number\"], Subjects[\"Subject_Number\"]), preload=True, verbose=False)\n",
      "/tmp/ipykernel_72612/4144421588.py:9: RuntimeWarning: The data contains 'boundary' events, indicating data discontinuities. Be cautious of filtering and epoching around these events.\n",
      "  Subjects[\"prepSignal_EO\"] = mne.io.read_raw_eeglab(\"/workspace/brail_poc3/experiments/Lemon_PreEEGLAB/{}/{}/{}_EO.set\".format(Subjects[\"Subject_Number\"], Subjects[\"Subject_Number\"], Subjects[\"Subject_Number\"]), preload=True, verbose=False)\n",
      " 21%|████████▊                                 | 42/201 [00:11<00:41,  3.80it/s]/tmp/ipykernel_72612/4144421588.py:8: RuntimeWarning: Data file name in EEG.data (sub-010053_EC.fdt) is incorrect, the file name must have changed on disk, using the correct file name (sub-032345_EC.fdt).\n",
      "  Subjects[\"prepSignal_EC\"] = mne.io.read_raw_eeglab(\"/workspace/brail_poc3/experiments/Lemon_PreEEGLAB/{}/{}/{}_EC.set\".format(Subjects[\"Subject_Number\"], Subjects[\"Subject_Number\"], Subjects[\"Subject_Number\"]), preload=True, verbose=False)\n",
      "/tmp/ipykernel_72612/4144421588.py:8: RuntimeWarning: Limited 1 annotation(s) that were expanding outside the data range.\n",
      "  Subjects[\"prepSignal_EC\"] = mne.io.read_raw_eeglab(\"/workspace/brail_poc3/experiments/Lemon_PreEEGLAB/{}/{}/{}_EC.set\".format(Subjects[\"Subject_Number\"], Subjects[\"Subject_Number\"], Subjects[\"Subject_Number\"]), preload=True, verbose=False)\n",
      "/tmp/ipykernel_72612/4144421588.py:8: RuntimeWarning: The data contains 'boundary' events, indicating data discontinuities. Be cautious of filtering and epoching around these events.\n",
      "  Subjects[\"prepSignal_EC\"] = mne.io.read_raw_eeglab(\"/workspace/brail_poc3/experiments/Lemon_PreEEGLAB/{}/{}/{}_EC.set\".format(Subjects[\"Subject_Number\"], Subjects[\"Subject_Number\"], Subjects[\"Subject_Number\"]), preload=True, verbose=False)\n",
      "/tmp/ipykernel_72612/4144421588.py:9: RuntimeWarning: Data file name in EEG.data (sub-010053_EO.fdt) is incorrect, the file name must have changed on disk, using the correct file name (sub-032345_EO.fdt).\n",
      "  Subjects[\"prepSignal_EO\"] = mne.io.read_raw_eeglab(\"/workspace/brail_poc3/experiments/Lemon_PreEEGLAB/{}/{}/{}_EO.set\".format(Subjects[\"Subject_Number\"], Subjects[\"Subject_Number\"], Subjects[\"Subject_Number\"]), preload=True, verbose=False)\n"
     ]
    },
    {
     "name": "stdout",
     "output_type": "stream",
     "text": [
      "Subject number: sub-032345\n"
     ]
    },
    {
     "name": "stderr",
     "output_type": "stream",
     "text": [
      "/tmp/ipykernel_72612/4144421588.py:9: RuntimeWarning: Limited 1 annotation(s) that were expanding outside the data range.\n",
      "  Subjects[\"prepSignal_EO\"] = mne.io.read_raw_eeglab(\"/workspace/brail_poc3/experiments/Lemon_PreEEGLAB/{}/{}/{}_EO.set\".format(Subjects[\"Subject_Number\"], Subjects[\"Subject_Number\"], Subjects[\"Subject_Number\"]), preload=True, verbose=False)\n",
      "/tmp/ipykernel_72612/4144421588.py:9: RuntimeWarning: The data contains 'boundary' events, indicating data discontinuities. Be cautious of filtering and epoching around these events.\n",
      "  Subjects[\"prepSignal_EO\"] = mne.io.read_raw_eeglab(\"/workspace/brail_poc3/experiments/Lemon_PreEEGLAB/{}/{}/{}_EO.set\".format(Subjects[\"Subject_Number\"], Subjects[\"Subject_Number\"], Subjects[\"Subject_Number\"]), preload=True, verbose=False)\n",
      " 21%|████████▉                                 | 43/201 [00:11<00:41,  3.81it/s]/tmp/ipykernel_72612/4144421588.py:8: RuntimeWarning: Data file name in EEG.data (sub-010056_EC.fdt) is incorrect, the file name must have changed on disk, using the correct file name (sub-032346_EC.fdt).\n",
      "  Subjects[\"prepSignal_EC\"] = mne.io.read_raw_eeglab(\"/workspace/brail_poc3/experiments/Lemon_PreEEGLAB/{}/{}/{}_EC.set\".format(Subjects[\"Subject_Number\"], Subjects[\"Subject_Number\"], Subjects[\"Subject_Number\"]), preload=True, verbose=False)\n",
      "/tmp/ipykernel_72612/4144421588.py:8: RuntimeWarning: Limited 1 annotation(s) that were expanding outside the data range.\n",
      "  Subjects[\"prepSignal_EC\"] = mne.io.read_raw_eeglab(\"/workspace/brail_poc3/experiments/Lemon_PreEEGLAB/{}/{}/{}_EC.set\".format(Subjects[\"Subject_Number\"], Subjects[\"Subject_Number\"], Subjects[\"Subject_Number\"]), preload=True, verbose=False)\n",
      "/tmp/ipykernel_72612/4144421588.py:8: RuntimeWarning: The data contains 'boundary' events, indicating data discontinuities. Be cautious of filtering and epoching around these events.\n",
      "  Subjects[\"prepSignal_EC\"] = mne.io.read_raw_eeglab(\"/workspace/brail_poc3/experiments/Lemon_PreEEGLAB/{}/{}/{}_EC.set\".format(Subjects[\"Subject_Number\"], Subjects[\"Subject_Number\"], Subjects[\"Subject_Number\"]), preload=True, verbose=False)\n",
      "/tmp/ipykernel_72612/4144421588.py:9: RuntimeWarning: Data file name in EEG.data (sub-010056_EO.fdt) is incorrect, the file name must have changed on disk, using the correct file name (sub-032346_EO.fdt).\n",
      "  Subjects[\"prepSignal_EO\"] = mne.io.read_raw_eeglab(\"/workspace/brail_poc3/experiments/Lemon_PreEEGLAB/{}/{}/{}_EO.set\".format(Subjects[\"Subject_Number\"], Subjects[\"Subject_Number\"], Subjects[\"Subject_Number\"]), preload=True, verbose=False)\n"
     ]
    },
    {
     "name": "stdout",
     "output_type": "stream",
     "text": [
      "Subject number: sub-032346\n"
     ]
    },
    {
     "name": "stderr",
     "output_type": "stream",
     "text": [
      "/tmp/ipykernel_72612/4144421588.py:9: RuntimeWarning: Limited 1 annotation(s) that were expanding outside the data range.\n",
      "  Subjects[\"prepSignal_EO\"] = mne.io.read_raw_eeglab(\"/workspace/brail_poc3/experiments/Lemon_PreEEGLAB/{}/{}/{}_EO.set\".format(Subjects[\"Subject_Number\"], Subjects[\"Subject_Number\"], Subjects[\"Subject_Number\"]), preload=True, verbose=False)\n",
      "/tmp/ipykernel_72612/4144421588.py:9: RuntimeWarning: The data contains 'boundary' events, indicating data discontinuities. Be cautious of filtering and epoching around these events.\n",
      "  Subjects[\"prepSignal_EO\"] = mne.io.read_raw_eeglab(\"/workspace/brail_poc3/experiments/Lemon_PreEEGLAB/{}/{}/{}_EO.set\".format(Subjects[\"Subject_Number\"], Subjects[\"Subject_Number\"], Subjects[\"Subject_Number\"]), preload=True, verbose=False)\n",
      " 22%|█████████▏                                | 44/201 [00:11<00:41,  3.78it/s]/tmp/ipykernel_72612/4144421588.py:8: RuntimeWarning: Data file name in EEG.data (sub-010059_EC.fdt) is incorrect, the file name must have changed on disk, using the correct file name (sub-032347_EC.fdt).\n",
      "  Subjects[\"prepSignal_EC\"] = mne.io.read_raw_eeglab(\"/workspace/brail_poc3/experiments/Lemon_PreEEGLAB/{}/{}/{}_EC.set\".format(Subjects[\"Subject_Number\"], Subjects[\"Subject_Number\"], Subjects[\"Subject_Number\"]), preload=True, verbose=False)\n",
      "/tmp/ipykernel_72612/4144421588.py:8: RuntimeWarning: Limited 1 annotation(s) that were expanding outside the data range.\n",
      "  Subjects[\"prepSignal_EC\"] = mne.io.read_raw_eeglab(\"/workspace/brail_poc3/experiments/Lemon_PreEEGLAB/{}/{}/{}_EC.set\".format(Subjects[\"Subject_Number\"], Subjects[\"Subject_Number\"], Subjects[\"Subject_Number\"]), preload=True, verbose=False)\n",
      "/tmp/ipykernel_72612/4144421588.py:8: RuntimeWarning: The data contains 'boundary' events, indicating data discontinuities. Be cautious of filtering and epoching around these events.\n",
      "  Subjects[\"prepSignal_EC\"] = mne.io.read_raw_eeglab(\"/workspace/brail_poc3/experiments/Lemon_PreEEGLAB/{}/{}/{}_EC.set\".format(Subjects[\"Subject_Number\"], Subjects[\"Subject_Number\"], Subjects[\"Subject_Number\"]), preload=True, verbose=False)\n",
      "/tmp/ipykernel_72612/4144421588.py:9: RuntimeWarning: Data file name in EEG.data (sub-010059_EO.fdt) is incorrect, the file name must have changed on disk, using the correct file name (sub-032347_EO.fdt).\n",
      "  Subjects[\"prepSignal_EO\"] = mne.io.read_raw_eeglab(\"/workspace/brail_poc3/experiments/Lemon_PreEEGLAB/{}/{}/{}_EO.set\".format(Subjects[\"Subject_Number\"], Subjects[\"Subject_Number\"], Subjects[\"Subject_Number\"]), preload=True, verbose=False)\n"
     ]
    },
    {
     "name": "stdout",
     "output_type": "stream",
     "text": [
      "Subject number: sub-032347\n"
     ]
    },
    {
     "name": "stderr",
     "output_type": "stream",
     "text": [
      "/tmp/ipykernel_72612/4144421588.py:9: RuntimeWarning: Limited 1 annotation(s) that were expanding outside the data range.\n",
      "  Subjects[\"prepSignal_EO\"] = mne.io.read_raw_eeglab(\"/workspace/brail_poc3/experiments/Lemon_PreEEGLAB/{}/{}/{}_EO.set\".format(Subjects[\"Subject_Number\"], Subjects[\"Subject_Number\"], Subjects[\"Subject_Number\"]), preload=True, verbose=False)\n",
      "/tmp/ipykernel_72612/4144421588.py:9: RuntimeWarning: The data contains 'boundary' events, indicating data discontinuities. Be cautious of filtering and epoching around these events.\n",
      "  Subjects[\"prepSignal_EO\"] = mne.io.read_raw_eeglab(\"/workspace/brail_poc3/experiments/Lemon_PreEEGLAB/{}/{}/{}_EO.set\".format(Subjects[\"Subject_Number\"], Subjects[\"Subject_Number\"], Subjects[\"Subject_Number\"]), preload=True, verbose=False)\n",
      " 22%|█████████▍                                | 45/201 [00:12<00:42,  3.69it/s]/tmp/ipykernel_72612/4144421588.py:8: RuntimeWarning: Data file name in EEG.data (sub-010060_EC.fdt) is incorrect, the file name must have changed on disk, using the correct file name (sub-032348_EC.fdt).\n",
      "  Subjects[\"prepSignal_EC\"] = mne.io.read_raw_eeglab(\"/workspace/brail_poc3/experiments/Lemon_PreEEGLAB/{}/{}/{}_EC.set\".format(Subjects[\"Subject_Number\"], Subjects[\"Subject_Number\"], Subjects[\"Subject_Number\"]), preload=True, verbose=False)\n",
      "/tmp/ipykernel_72612/4144421588.py:8: RuntimeWarning: Limited 1 annotation(s) that were expanding outside the data range.\n",
      "  Subjects[\"prepSignal_EC\"] = mne.io.read_raw_eeglab(\"/workspace/brail_poc3/experiments/Lemon_PreEEGLAB/{}/{}/{}_EC.set\".format(Subjects[\"Subject_Number\"], Subjects[\"Subject_Number\"], Subjects[\"Subject_Number\"]), preload=True, verbose=False)\n",
      "/tmp/ipykernel_72612/4144421588.py:8: RuntimeWarning: The data contains 'boundary' events, indicating data discontinuities. Be cautious of filtering and epoching around these events.\n",
      "  Subjects[\"prepSignal_EC\"] = mne.io.read_raw_eeglab(\"/workspace/brail_poc3/experiments/Lemon_PreEEGLAB/{}/{}/{}_EC.set\".format(Subjects[\"Subject_Number\"], Subjects[\"Subject_Number\"], Subjects[\"Subject_Number\"]), preload=True, verbose=False)\n",
      "/tmp/ipykernel_72612/4144421588.py:9: RuntimeWarning: Data file name in EEG.data (sub-010060_EO.fdt) is incorrect, the file name must have changed on disk, using the correct file name (sub-032348_EO.fdt).\n",
      "  Subjects[\"prepSignal_EO\"] = mne.io.read_raw_eeglab(\"/workspace/brail_poc3/experiments/Lemon_PreEEGLAB/{}/{}/{}_EO.set\".format(Subjects[\"Subject_Number\"], Subjects[\"Subject_Number\"], Subjects[\"Subject_Number\"]), preload=True, verbose=False)\n"
     ]
    },
    {
     "name": "stdout",
     "output_type": "stream",
     "text": [
      "Subject number: sub-032348\n"
     ]
    },
    {
     "name": "stderr",
     "output_type": "stream",
     "text": [
      "/tmp/ipykernel_72612/4144421588.py:9: RuntimeWarning: Limited 1 annotation(s) that were expanding outside the data range.\n",
      "  Subjects[\"prepSignal_EO\"] = mne.io.read_raw_eeglab(\"/workspace/brail_poc3/experiments/Lemon_PreEEGLAB/{}/{}/{}_EO.set\".format(Subjects[\"Subject_Number\"], Subjects[\"Subject_Number\"], Subjects[\"Subject_Number\"]), preload=True, verbose=False)\n",
      "/tmp/ipykernel_72612/4144421588.py:9: RuntimeWarning: The data contains 'boundary' events, indicating data discontinuities. Be cautious of filtering and epoching around these events.\n",
      "  Subjects[\"prepSignal_EO\"] = mne.io.read_raw_eeglab(\"/workspace/brail_poc3/experiments/Lemon_PreEEGLAB/{}/{}/{}_EO.set\".format(Subjects[\"Subject_Number\"], Subjects[\"Subject_Number\"], Subjects[\"Subject_Number\"]), preload=True, verbose=False)\n",
      " 23%|█████████▌                                | 46/201 [00:12<00:41,  3.70it/s]/tmp/ipykernel_72612/4144421588.py:8: RuntimeWarning: Data file name in EEG.data (sub-010061_EC.fdt) is incorrect, the file name must have changed on disk, using the correct file name (sub-032349_EC.fdt).\n",
      "  Subjects[\"prepSignal_EC\"] = mne.io.read_raw_eeglab(\"/workspace/brail_poc3/experiments/Lemon_PreEEGLAB/{}/{}/{}_EC.set\".format(Subjects[\"Subject_Number\"], Subjects[\"Subject_Number\"], Subjects[\"Subject_Number\"]), preload=True, verbose=False)\n",
      "/tmp/ipykernel_72612/4144421588.py:8: RuntimeWarning: Limited 1 annotation(s) that were expanding outside the data range.\n",
      "  Subjects[\"prepSignal_EC\"] = mne.io.read_raw_eeglab(\"/workspace/brail_poc3/experiments/Lemon_PreEEGLAB/{}/{}/{}_EC.set\".format(Subjects[\"Subject_Number\"], Subjects[\"Subject_Number\"], Subjects[\"Subject_Number\"]), preload=True, verbose=False)\n",
      "/tmp/ipykernel_72612/4144421588.py:8: RuntimeWarning: The data contains 'boundary' events, indicating data discontinuities. Be cautious of filtering and epoching around these events.\n",
      "  Subjects[\"prepSignal_EC\"] = mne.io.read_raw_eeglab(\"/workspace/brail_poc3/experiments/Lemon_PreEEGLAB/{}/{}/{}_EC.set\".format(Subjects[\"Subject_Number\"], Subjects[\"Subject_Number\"], Subjects[\"Subject_Number\"]), preload=True, verbose=False)\n",
      "/tmp/ipykernel_72612/4144421588.py:9: RuntimeWarning: Data file name in EEG.data (sub-010061_EO.fdt) is incorrect, the file name must have changed on disk, using the correct file name (sub-032349_EO.fdt).\n",
      "  Subjects[\"prepSignal_EO\"] = mne.io.read_raw_eeglab(\"/workspace/brail_poc3/experiments/Lemon_PreEEGLAB/{}/{}/{}_EO.set\".format(Subjects[\"Subject_Number\"], Subjects[\"Subject_Number\"], Subjects[\"Subject_Number\"]), preload=True, verbose=False)\n"
     ]
    },
    {
     "name": "stdout",
     "output_type": "stream",
     "text": [
      "Subject number: sub-032349\n"
     ]
    },
    {
     "name": "stderr",
     "output_type": "stream",
     "text": [
      "/tmp/ipykernel_72612/4144421588.py:9: RuntimeWarning: Limited 2 annotation(s) that were expanding outside the data range.\n",
      "  Subjects[\"prepSignal_EO\"] = mne.io.read_raw_eeglab(\"/workspace/brail_poc3/experiments/Lemon_PreEEGLAB/{}/{}/{}_EO.set\".format(Subjects[\"Subject_Number\"], Subjects[\"Subject_Number\"], Subjects[\"Subject_Number\"]), preload=True, verbose=False)\n",
      "/tmp/ipykernel_72612/4144421588.py:9: RuntimeWarning: The data contains 'boundary' events, indicating data discontinuities. Be cautious of filtering and epoching around these events.\n",
      "  Subjects[\"prepSignal_EO\"] = mne.io.read_raw_eeglab(\"/workspace/brail_poc3/experiments/Lemon_PreEEGLAB/{}/{}/{}_EO.set\".format(Subjects[\"Subject_Number\"], Subjects[\"Subject_Number\"], Subjects[\"Subject_Number\"]), preload=True, verbose=False)\n",
      " 23%|█████████▊                                | 47/201 [00:12<00:41,  3.72it/s]/tmp/ipykernel_72612/4144421588.py:8: RuntimeWarning: Data file name in EEG.data (sub-010062_EC.fdt) is incorrect, the file name must have changed on disk, using the correct file name (sub-032350_EC.fdt).\n",
      "  Subjects[\"prepSignal_EC\"] = mne.io.read_raw_eeglab(\"/workspace/brail_poc3/experiments/Lemon_PreEEGLAB/{}/{}/{}_EC.set\".format(Subjects[\"Subject_Number\"], Subjects[\"Subject_Number\"], Subjects[\"Subject_Number\"]), preload=True, verbose=False)\n",
      "/tmp/ipykernel_72612/4144421588.py:8: RuntimeWarning: Limited 1 annotation(s) that were expanding outside the data range.\n",
      "  Subjects[\"prepSignal_EC\"] = mne.io.read_raw_eeglab(\"/workspace/brail_poc3/experiments/Lemon_PreEEGLAB/{}/{}/{}_EC.set\".format(Subjects[\"Subject_Number\"], Subjects[\"Subject_Number\"], Subjects[\"Subject_Number\"]), preload=True, verbose=False)\n",
      "/tmp/ipykernel_72612/4144421588.py:8: RuntimeWarning: The data contains 'boundary' events, indicating data discontinuities. Be cautious of filtering and epoching around these events.\n",
      "  Subjects[\"prepSignal_EC\"] = mne.io.read_raw_eeglab(\"/workspace/brail_poc3/experiments/Lemon_PreEEGLAB/{}/{}/{}_EC.set\".format(Subjects[\"Subject_Number\"], Subjects[\"Subject_Number\"], Subjects[\"Subject_Number\"]), preload=True, verbose=False)\n",
      "/tmp/ipykernel_72612/4144421588.py:9: RuntimeWarning: Data file name in EEG.data (sub-010062_EO.fdt) is incorrect, the file name must have changed on disk, using the correct file name (sub-032350_EO.fdt).\n",
      "  Subjects[\"prepSignal_EO\"] = mne.io.read_raw_eeglab(\"/workspace/brail_poc3/experiments/Lemon_PreEEGLAB/{}/{}/{}_EO.set\".format(Subjects[\"Subject_Number\"], Subjects[\"Subject_Number\"], Subjects[\"Subject_Number\"]), preload=True, verbose=False)\n"
     ]
    },
    {
     "name": "stdout",
     "output_type": "stream",
     "text": [
      "Subject number: sub-032350\n"
     ]
    },
    {
     "name": "stderr",
     "output_type": "stream",
     "text": [
      "/tmp/ipykernel_72612/4144421588.py:9: RuntimeWarning: Limited 1 annotation(s) that were expanding outside the data range.\n",
      "  Subjects[\"prepSignal_EO\"] = mne.io.read_raw_eeglab(\"/workspace/brail_poc3/experiments/Lemon_PreEEGLAB/{}/{}/{}_EO.set\".format(Subjects[\"Subject_Number\"], Subjects[\"Subject_Number\"], Subjects[\"Subject_Number\"]), preload=True, verbose=False)\n",
      "/tmp/ipykernel_72612/4144421588.py:9: RuntimeWarning: The data contains 'boundary' events, indicating data discontinuities. Be cautious of filtering and epoching around these events.\n",
      "  Subjects[\"prepSignal_EO\"] = mne.io.read_raw_eeglab(\"/workspace/brail_poc3/experiments/Lemon_PreEEGLAB/{}/{}/{}_EO.set\".format(Subjects[\"Subject_Number\"], Subjects[\"Subject_Number\"], Subjects[\"Subject_Number\"]), preload=True, verbose=False)\n",
      " 24%|██████████                                | 48/201 [00:12<00:40,  3.74it/s]/tmp/ipykernel_72612/4144421588.py:8: RuntimeWarning: Data file name in EEG.data (sub-010063_EC.fdt) is incorrect, the file name must have changed on disk, using the correct file name (sub-032351_EC.fdt).\n",
      "  Subjects[\"prepSignal_EC\"] = mne.io.read_raw_eeglab(\"/workspace/brail_poc3/experiments/Lemon_PreEEGLAB/{}/{}/{}_EC.set\".format(Subjects[\"Subject_Number\"], Subjects[\"Subject_Number\"], Subjects[\"Subject_Number\"]), preload=True, verbose=False)\n",
      "/tmp/ipykernel_72612/4144421588.py:8: RuntimeWarning: Limited 1 annotation(s) that were expanding outside the data range.\n",
      "  Subjects[\"prepSignal_EC\"] = mne.io.read_raw_eeglab(\"/workspace/brail_poc3/experiments/Lemon_PreEEGLAB/{}/{}/{}_EC.set\".format(Subjects[\"Subject_Number\"], Subjects[\"Subject_Number\"], Subjects[\"Subject_Number\"]), preload=True, verbose=False)\n",
      "/tmp/ipykernel_72612/4144421588.py:8: RuntimeWarning: The data contains 'boundary' events, indicating data discontinuities. Be cautious of filtering and epoching around these events.\n",
      "  Subjects[\"prepSignal_EC\"] = mne.io.read_raw_eeglab(\"/workspace/brail_poc3/experiments/Lemon_PreEEGLAB/{}/{}/{}_EC.set\".format(Subjects[\"Subject_Number\"], Subjects[\"Subject_Number\"], Subjects[\"Subject_Number\"]), preload=True, verbose=False)\n",
      "/tmp/ipykernel_72612/4144421588.py:9: RuntimeWarning: Data file name in EEG.data (sub-010063_EO.fdt) is incorrect, the file name must have changed on disk, using the correct file name (sub-032351_EO.fdt).\n",
      "  Subjects[\"prepSignal_EO\"] = mne.io.read_raw_eeglab(\"/workspace/brail_poc3/experiments/Lemon_PreEEGLAB/{}/{}/{}_EO.set\".format(Subjects[\"Subject_Number\"], Subjects[\"Subject_Number\"], Subjects[\"Subject_Number\"]), preload=True, verbose=False)\n"
     ]
    },
    {
     "name": "stdout",
     "output_type": "stream",
     "text": [
      "Subject number: sub-032351\n"
     ]
    },
    {
     "name": "stderr",
     "output_type": "stream",
     "text": [
      "/tmp/ipykernel_72612/4144421588.py:9: RuntimeWarning: Limited 1 annotation(s) that were expanding outside the data range.\n",
      "  Subjects[\"prepSignal_EO\"] = mne.io.read_raw_eeglab(\"/workspace/brail_poc3/experiments/Lemon_PreEEGLAB/{}/{}/{}_EO.set\".format(Subjects[\"Subject_Number\"], Subjects[\"Subject_Number\"], Subjects[\"Subject_Number\"]), preload=True, verbose=False)\n",
      "/tmp/ipykernel_72612/4144421588.py:9: RuntimeWarning: The data contains 'boundary' events, indicating data discontinuities. Be cautious of filtering and epoching around these events.\n",
      "  Subjects[\"prepSignal_EO\"] = mne.io.read_raw_eeglab(\"/workspace/brail_poc3/experiments/Lemon_PreEEGLAB/{}/{}/{}_EO.set\".format(Subjects[\"Subject_Number\"], Subjects[\"Subject_Number\"], Subjects[\"Subject_Number\"]), preload=True, verbose=False)\n",
      " 24%|██████████▏                               | 49/201 [00:13<00:40,  3.73it/s]/tmp/ipykernel_72612/4144421588.py:8: RuntimeWarning: Data file name in EEG.data (sub-010064_EC.fdt) is incorrect, the file name must have changed on disk, using the correct file name (sub-032352_EC.fdt).\n",
      "  Subjects[\"prepSignal_EC\"] = mne.io.read_raw_eeglab(\"/workspace/brail_poc3/experiments/Lemon_PreEEGLAB/{}/{}/{}_EC.set\".format(Subjects[\"Subject_Number\"], Subjects[\"Subject_Number\"], Subjects[\"Subject_Number\"]), preload=True, verbose=False)\n",
      "/tmp/ipykernel_72612/4144421588.py:8: RuntimeWarning: Limited 1 annotation(s) that were expanding outside the data range.\n",
      "  Subjects[\"prepSignal_EC\"] = mne.io.read_raw_eeglab(\"/workspace/brail_poc3/experiments/Lemon_PreEEGLAB/{}/{}/{}_EC.set\".format(Subjects[\"Subject_Number\"], Subjects[\"Subject_Number\"], Subjects[\"Subject_Number\"]), preload=True, verbose=False)\n",
      "/tmp/ipykernel_72612/4144421588.py:8: RuntimeWarning: The data contains 'boundary' events, indicating data discontinuities. Be cautious of filtering and epoching around these events.\n",
      "  Subjects[\"prepSignal_EC\"] = mne.io.read_raw_eeglab(\"/workspace/brail_poc3/experiments/Lemon_PreEEGLAB/{}/{}/{}_EC.set\".format(Subjects[\"Subject_Number\"], Subjects[\"Subject_Number\"], Subjects[\"Subject_Number\"]), preload=True, verbose=False)\n",
      "/tmp/ipykernel_72612/4144421588.py:9: RuntimeWarning: Data file name in EEG.data (sub-010064_EO.fdt) is incorrect, the file name must have changed on disk, using the correct file name (sub-032352_EO.fdt).\n",
      "  Subjects[\"prepSignal_EO\"] = mne.io.read_raw_eeglab(\"/workspace/brail_poc3/experiments/Lemon_PreEEGLAB/{}/{}/{}_EO.set\".format(Subjects[\"Subject_Number\"], Subjects[\"Subject_Number\"], Subjects[\"Subject_Number\"]), preload=True, verbose=False)\n"
     ]
    },
    {
     "name": "stdout",
     "output_type": "stream",
     "text": [
      "Subject number: sub-032352\n"
     ]
    },
    {
     "name": "stderr",
     "output_type": "stream",
     "text": [
      "/tmp/ipykernel_72612/4144421588.py:9: RuntimeWarning: Limited 1 annotation(s) that were expanding outside the data range.\n",
      "  Subjects[\"prepSignal_EO\"] = mne.io.read_raw_eeglab(\"/workspace/brail_poc3/experiments/Lemon_PreEEGLAB/{}/{}/{}_EO.set\".format(Subjects[\"Subject_Number\"], Subjects[\"Subject_Number\"], Subjects[\"Subject_Number\"]), preload=True, verbose=False)\n",
      "/tmp/ipykernel_72612/4144421588.py:9: RuntimeWarning: The data contains 'boundary' events, indicating data discontinuities. Be cautious of filtering and epoching around these events.\n",
      "  Subjects[\"prepSignal_EO\"] = mne.io.read_raw_eeglab(\"/workspace/brail_poc3/experiments/Lemon_PreEEGLAB/{}/{}/{}_EO.set\".format(Subjects[\"Subject_Number\"], Subjects[\"Subject_Number\"], Subjects[\"Subject_Number\"]), preload=True, verbose=False)\n",
      " 25%|██████████▍                               | 50/201 [00:13<00:40,  3.76it/s]/tmp/ipykernel_72612/4144421588.py:8: RuntimeWarning: Data file name in EEG.data (sub-010066_EC.fdt) is incorrect, the file name must have changed on disk, using the correct file name (sub-032354_EC.fdt).\n",
      "  Subjects[\"prepSignal_EC\"] = mne.io.read_raw_eeglab(\"/workspace/brail_poc3/experiments/Lemon_PreEEGLAB/{}/{}/{}_EC.set\".format(Subjects[\"Subject_Number\"], Subjects[\"Subject_Number\"], Subjects[\"Subject_Number\"]), preload=True, verbose=False)\n",
      "/tmp/ipykernel_72612/4144421588.py:8: RuntimeWarning: Limited 1 annotation(s) that were expanding outside the data range.\n",
      "  Subjects[\"prepSignal_EC\"] = mne.io.read_raw_eeglab(\"/workspace/brail_poc3/experiments/Lemon_PreEEGLAB/{}/{}/{}_EC.set\".format(Subjects[\"Subject_Number\"], Subjects[\"Subject_Number\"], Subjects[\"Subject_Number\"]), preload=True, verbose=False)\n",
      "/tmp/ipykernel_72612/4144421588.py:8: RuntimeWarning: The data contains 'boundary' events, indicating data discontinuities. Be cautious of filtering and epoching around these events.\n",
      "  Subjects[\"prepSignal_EC\"] = mne.io.read_raw_eeglab(\"/workspace/brail_poc3/experiments/Lemon_PreEEGLAB/{}/{}/{}_EC.set\".format(Subjects[\"Subject_Number\"], Subjects[\"Subject_Number\"], Subjects[\"Subject_Number\"]), preload=True, verbose=False)\n",
      "/tmp/ipykernel_72612/4144421588.py:9: RuntimeWarning: Data file name in EEG.data (sub-010066_EO.fdt) is incorrect, the file name must have changed on disk, using the correct file name (sub-032354_EO.fdt).\n",
      "  Subjects[\"prepSignal_EO\"] = mne.io.read_raw_eeglab(\"/workspace/brail_poc3/experiments/Lemon_PreEEGLAB/{}/{}/{}_EO.set\".format(Subjects[\"Subject_Number\"], Subjects[\"Subject_Number\"], Subjects[\"Subject_Number\"]), preload=True, verbose=False)\n"
     ]
    },
    {
     "name": "stdout",
     "output_type": "stream",
     "text": [
      "Subject number: sub-032354\n"
     ]
    },
    {
     "name": "stderr",
     "output_type": "stream",
     "text": [
      "/tmp/ipykernel_72612/4144421588.py:9: RuntimeWarning: Limited 1 annotation(s) that were expanding outside the data range.\n",
      "  Subjects[\"prepSignal_EO\"] = mne.io.read_raw_eeglab(\"/workspace/brail_poc3/experiments/Lemon_PreEEGLAB/{}/{}/{}_EO.set\".format(Subjects[\"Subject_Number\"], Subjects[\"Subject_Number\"], Subjects[\"Subject_Number\"]), preload=True, verbose=False)\n",
      "/tmp/ipykernel_72612/4144421588.py:9: RuntimeWarning: The data contains 'boundary' events, indicating data discontinuities. Be cautious of filtering and epoching around these events.\n",
      "  Subjects[\"prepSignal_EO\"] = mne.io.read_raw_eeglab(\"/workspace/brail_poc3/experiments/Lemon_PreEEGLAB/{}/{}/{}_EO.set\".format(Subjects[\"Subject_Number\"], Subjects[\"Subject_Number\"], Subjects[\"Subject_Number\"]), preload=True, verbose=False)\n",
      " 25%|██████████▋                               | 51/201 [00:13<00:40,  3.74it/s]/tmp/ipykernel_72612/4144421588.py:8: RuntimeWarning: Data file name in EEG.data (sub-010067_EC.fdt) is incorrect, the file name must have changed on disk, using the correct file name (sub-032355_EC.fdt).\n",
      "  Subjects[\"prepSignal_EC\"] = mne.io.read_raw_eeglab(\"/workspace/brail_poc3/experiments/Lemon_PreEEGLAB/{}/{}/{}_EC.set\".format(Subjects[\"Subject_Number\"], Subjects[\"Subject_Number\"], Subjects[\"Subject_Number\"]), preload=True, verbose=False)\n",
      "/tmp/ipykernel_72612/4144421588.py:8: RuntimeWarning: Limited 1 annotation(s) that were expanding outside the data range.\n",
      "  Subjects[\"prepSignal_EC\"] = mne.io.read_raw_eeglab(\"/workspace/brail_poc3/experiments/Lemon_PreEEGLAB/{}/{}/{}_EC.set\".format(Subjects[\"Subject_Number\"], Subjects[\"Subject_Number\"], Subjects[\"Subject_Number\"]), preload=True, verbose=False)\n",
      "/tmp/ipykernel_72612/4144421588.py:8: RuntimeWarning: The data contains 'boundary' events, indicating data discontinuities. Be cautious of filtering and epoching around these events.\n",
      "  Subjects[\"prepSignal_EC\"] = mne.io.read_raw_eeglab(\"/workspace/brail_poc3/experiments/Lemon_PreEEGLAB/{}/{}/{}_EC.set\".format(Subjects[\"Subject_Number\"], Subjects[\"Subject_Number\"], Subjects[\"Subject_Number\"]), preload=True, verbose=False)\n",
      "/tmp/ipykernel_72612/4144421588.py:9: RuntimeWarning: Data file name in EEG.data (sub-010067_EO.fdt) is incorrect, the file name must have changed on disk, using the correct file name (sub-032355_EO.fdt).\n",
      "  Subjects[\"prepSignal_EO\"] = mne.io.read_raw_eeglab(\"/workspace/brail_poc3/experiments/Lemon_PreEEGLAB/{}/{}/{}_EO.set\".format(Subjects[\"Subject_Number\"], Subjects[\"Subject_Number\"], Subjects[\"Subject_Number\"]), preload=True, verbose=False)\n"
     ]
    },
    {
     "name": "stdout",
     "output_type": "stream",
     "text": [
      "Subject number: sub-032355\n"
     ]
    },
    {
     "name": "stderr",
     "output_type": "stream",
     "text": [
      "/tmp/ipykernel_72612/4144421588.py:9: RuntimeWarning: Limited 1 annotation(s) that were expanding outside the data range.\n",
      "  Subjects[\"prepSignal_EO\"] = mne.io.read_raw_eeglab(\"/workspace/brail_poc3/experiments/Lemon_PreEEGLAB/{}/{}/{}_EO.set\".format(Subjects[\"Subject_Number\"], Subjects[\"Subject_Number\"], Subjects[\"Subject_Number\"]), preload=True, verbose=False)\n",
      "/tmp/ipykernel_72612/4144421588.py:9: RuntimeWarning: The data contains 'boundary' events, indicating data discontinuities. Be cautious of filtering and epoching around these events.\n",
      "  Subjects[\"prepSignal_EO\"] = mne.io.read_raw_eeglab(\"/workspace/brail_poc3/experiments/Lemon_PreEEGLAB/{}/{}/{}_EO.set\".format(Subjects[\"Subject_Number\"], Subjects[\"Subject_Number\"], Subjects[\"Subject_Number\"]), preload=True, verbose=False)\n",
      " 26%|██████████▊                               | 52/201 [00:13<00:40,  3.70it/s]/tmp/ipykernel_72612/4144421588.py:8: RuntimeWarning: Data file name in EEG.data (sub-010068_EC.fdt) is incorrect, the file name must have changed on disk, using the correct file name (sub-032356_EC.fdt).\n",
      "  Subjects[\"prepSignal_EC\"] = mne.io.read_raw_eeglab(\"/workspace/brail_poc3/experiments/Lemon_PreEEGLAB/{}/{}/{}_EC.set\".format(Subjects[\"Subject_Number\"], Subjects[\"Subject_Number\"], Subjects[\"Subject_Number\"]), preload=True, verbose=False)\n",
      "/tmp/ipykernel_72612/4144421588.py:8: RuntimeWarning: Limited 1 annotation(s) that were expanding outside the data range.\n",
      "  Subjects[\"prepSignal_EC\"] = mne.io.read_raw_eeglab(\"/workspace/brail_poc3/experiments/Lemon_PreEEGLAB/{}/{}/{}_EC.set\".format(Subjects[\"Subject_Number\"], Subjects[\"Subject_Number\"], Subjects[\"Subject_Number\"]), preload=True, verbose=False)\n",
      "/tmp/ipykernel_72612/4144421588.py:8: RuntimeWarning: The data contains 'boundary' events, indicating data discontinuities. Be cautious of filtering and epoching around these events.\n",
      "  Subjects[\"prepSignal_EC\"] = mne.io.read_raw_eeglab(\"/workspace/brail_poc3/experiments/Lemon_PreEEGLAB/{}/{}/{}_EC.set\".format(Subjects[\"Subject_Number\"], Subjects[\"Subject_Number\"], Subjects[\"Subject_Number\"]), preload=True, verbose=False)\n",
      "/tmp/ipykernel_72612/4144421588.py:9: RuntimeWarning: Data file name in EEG.data (sub-010068_EO.fdt) is incorrect, the file name must have changed on disk, using the correct file name (sub-032356_EO.fdt).\n",
      "  Subjects[\"prepSignal_EO\"] = mne.io.read_raw_eeglab(\"/workspace/brail_poc3/experiments/Lemon_PreEEGLAB/{}/{}/{}_EO.set\".format(Subjects[\"Subject_Number\"], Subjects[\"Subject_Number\"], Subjects[\"Subject_Number\"]), preload=True, verbose=False)\n"
     ]
    },
    {
     "name": "stdout",
     "output_type": "stream",
     "text": [
      "Subject number: sub-032356\n"
     ]
    },
    {
     "name": "stderr",
     "output_type": "stream",
     "text": [
      "/tmp/ipykernel_72612/4144421588.py:9: RuntimeWarning: Limited 1 annotation(s) that were expanding outside the data range.\n",
      "  Subjects[\"prepSignal_EO\"] = mne.io.read_raw_eeglab(\"/workspace/brail_poc3/experiments/Lemon_PreEEGLAB/{}/{}/{}_EO.set\".format(Subjects[\"Subject_Number\"], Subjects[\"Subject_Number\"], Subjects[\"Subject_Number\"]), preload=True, verbose=False)\n",
      "/tmp/ipykernel_72612/4144421588.py:9: RuntimeWarning: The data contains 'boundary' events, indicating data discontinuities. Be cautious of filtering and epoching around these events.\n",
      "  Subjects[\"prepSignal_EO\"] = mne.io.read_raw_eeglab(\"/workspace/brail_poc3/experiments/Lemon_PreEEGLAB/{}/{}/{}_EO.set\".format(Subjects[\"Subject_Number\"], Subjects[\"Subject_Number\"], Subjects[\"Subject_Number\"]), preload=True, verbose=False)\n",
      " 26%|███████████                               | 53/201 [00:14<00:39,  3.74it/s]/tmp/ipykernel_72612/4144421588.py:8: RuntimeWarning: Data file name in EEG.data (sub-010069_EC.fdt) is incorrect, the file name must have changed on disk, using the correct file name (sub-032357_EC.fdt).\n",
      "  Subjects[\"prepSignal_EC\"] = mne.io.read_raw_eeglab(\"/workspace/brail_poc3/experiments/Lemon_PreEEGLAB/{}/{}/{}_EC.set\".format(Subjects[\"Subject_Number\"], Subjects[\"Subject_Number\"], Subjects[\"Subject_Number\"]), preload=True, verbose=False)\n",
      "/tmp/ipykernel_72612/4144421588.py:8: RuntimeWarning: Limited 1 annotation(s) that were expanding outside the data range.\n",
      "  Subjects[\"prepSignal_EC\"] = mne.io.read_raw_eeglab(\"/workspace/brail_poc3/experiments/Lemon_PreEEGLAB/{}/{}/{}_EC.set\".format(Subjects[\"Subject_Number\"], Subjects[\"Subject_Number\"], Subjects[\"Subject_Number\"]), preload=True, verbose=False)\n",
      "/tmp/ipykernel_72612/4144421588.py:8: RuntimeWarning: The data contains 'boundary' events, indicating data discontinuities. Be cautious of filtering and epoching around these events.\n",
      "  Subjects[\"prepSignal_EC\"] = mne.io.read_raw_eeglab(\"/workspace/brail_poc3/experiments/Lemon_PreEEGLAB/{}/{}/{}_EC.set\".format(Subjects[\"Subject_Number\"], Subjects[\"Subject_Number\"], Subjects[\"Subject_Number\"]), preload=True, verbose=False)\n",
      "/tmp/ipykernel_72612/4144421588.py:9: RuntimeWarning: Data file name in EEG.data (sub-010069_EO.fdt) is incorrect, the file name must have changed on disk, using the correct file name (sub-032357_EO.fdt).\n",
      "  Subjects[\"prepSignal_EO\"] = mne.io.read_raw_eeglab(\"/workspace/brail_poc3/experiments/Lemon_PreEEGLAB/{}/{}/{}_EO.set\".format(Subjects[\"Subject_Number\"], Subjects[\"Subject_Number\"], Subjects[\"Subject_Number\"]), preload=True, verbose=False)\n"
     ]
    },
    {
     "name": "stdout",
     "output_type": "stream",
     "text": [
      "Subject number: sub-032357\n"
     ]
    },
    {
     "name": "stderr",
     "output_type": "stream",
     "text": [
      "/tmp/ipykernel_72612/4144421588.py:9: RuntimeWarning: Limited 1 annotation(s) that were expanding outside the data range.\n",
      "  Subjects[\"prepSignal_EO\"] = mne.io.read_raw_eeglab(\"/workspace/brail_poc3/experiments/Lemon_PreEEGLAB/{}/{}/{}_EO.set\".format(Subjects[\"Subject_Number\"], Subjects[\"Subject_Number\"], Subjects[\"Subject_Number\"]), preload=True, verbose=False)\n",
      "/tmp/ipykernel_72612/4144421588.py:9: RuntimeWarning: The data contains 'boundary' events, indicating data discontinuities. Be cautious of filtering and epoching around these events.\n",
      "  Subjects[\"prepSignal_EO\"] = mne.io.read_raw_eeglab(\"/workspace/brail_poc3/experiments/Lemon_PreEEGLAB/{}/{}/{}_EO.set\".format(Subjects[\"Subject_Number\"], Subjects[\"Subject_Number\"], Subjects[\"Subject_Number\"]), preload=True, verbose=False)\n",
      " 27%|███████████▎                              | 54/201 [00:14<00:38,  3.77it/s]/tmp/ipykernel_72612/4144421588.py:8: RuntimeWarning: Data file name in EEG.data (sub-010070_EC.fdt) is incorrect, the file name must have changed on disk, using the correct file name (sub-032358_EC.fdt).\n",
      "  Subjects[\"prepSignal_EC\"] = mne.io.read_raw_eeglab(\"/workspace/brail_poc3/experiments/Lemon_PreEEGLAB/{}/{}/{}_EC.set\".format(Subjects[\"Subject_Number\"], Subjects[\"Subject_Number\"], Subjects[\"Subject_Number\"]), preload=True, verbose=False)\n",
      "/tmp/ipykernel_72612/4144421588.py:8: RuntimeWarning: Limited 1 annotation(s) that were expanding outside the data range.\n",
      "  Subjects[\"prepSignal_EC\"] = mne.io.read_raw_eeglab(\"/workspace/brail_poc3/experiments/Lemon_PreEEGLAB/{}/{}/{}_EC.set\".format(Subjects[\"Subject_Number\"], Subjects[\"Subject_Number\"], Subjects[\"Subject_Number\"]), preload=True, verbose=False)\n",
      "/tmp/ipykernel_72612/4144421588.py:8: RuntimeWarning: The data contains 'boundary' events, indicating data discontinuities. Be cautious of filtering and epoching around these events.\n",
      "  Subjects[\"prepSignal_EC\"] = mne.io.read_raw_eeglab(\"/workspace/brail_poc3/experiments/Lemon_PreEEGLAB/{}/{}/{}_EC.set\".format(Subjects[\"Subject_Number\"], Subjects[\"Subject_Number\"], Subjects[\"Subject_Number\"]), preload=True, verbose=False)\n",
      "/tmp/ipykernel_72612/4144421588.py:9: RuntimeWarning: Data file name in EEG.data (sub-010070_EO.fdt) is incorrect, the file name must have changed on disk, using the correct file name (sub-032358_EO.fdt).\n",
      "  Subjects[\"prepSignal_EO\"] = mne.io.read_raw_eeglab(\"/workspace/brail_poc3/experiments/Lemon_PreEEGLAB/{}/{}/{}_EO.set\".format(Subjects[\"Subject_Number\"], Subjects[\"Subject_Number\"], Subjects[\"Subject_Number\"]), preload=True, verbose=False)\n"
     ]
    },
    {
     "name": "stdout",
     "output_type": "stream",
     "text": [
      "Subject number: sub-032358\n"
     ]
    },
    {
     "name": "stderr",
     "output_type": "stream",
     "text": [
      "/tmp/ipykernel_72612/4144421588.py:9: RuntimeWarning: Limited 1 annotation(s) that were expanding outside the data range.\n",
      "  Subjects[\"prepSignal_EO\"] = mne.io.read_raw_eeglab(\"/workspace/brail_poc3/experiments/Lemon_PreEEGLAB/{}/{}/{}_EO.set\".format(Subjects[\"Subject_Number\"], Subjects[\"Subject_Number\"], Subjects[\"Subject_Number\"]), preload=True, verbose=False)\n",
      "/tmp/ipykernel_72612/4144421588.py:9: RuntimeWarning: The data contains 'boundary' events, indicating data discontinuities. Be cautious of filtering and epoching around these events.\n",
      "  Subjects[\"prepSignal_EO\"] = mne.io.read_raw_eeglab(\"/workspace/brail_poc3/experiments/Lemon_PreEEGLAB/{}/{}/{}_EO.set\".format(Subjects[\"Subject_Number\"], Subjects[\"Subject_Number\"], Subjects[\"Subject_Number\"]), preload=True, verbose=False)\n",
      " 27%|███████████▍                              | 55/201 [00:14<00:39,  3.72it/s]/tmp/ipykernel_72612/4144421588.py:8: RuntimeWarning: Data file name in EEG.data (sub-010071_EC.fdt) is incorrect, the file name must have changed on disk, using the correct file name (sub-032359_EC.fdt).\n",
      "  Subjects[\"prepSignal_EC\"] = mne.io.read_raw_eeglab(\"/workspace/brail_poc3/experiments/Lemon_PreEEGLAB/{}/{}/{}_EC.set\".format(Subjects[\"Subject_Number\"], Subjects[\"Subject_Number\"], Subjects[\"Subject_Number\"]), preload=True, verbose=False)\n",
      "/tmp/ipykernel_72612/4144421588.py:8: RuntimeWarning: Limited 1 annotation(s) that were expanding outside the data range.\n",
      "  Subjects[\"prepSignal_EC\"] = mne.io.read_raw_eeglab(\"/workspace/brail_poc3/experiments/Lemon_PreEEGLAB/{}/{}/{}_EC.set\".format(Subjects[\"Subject_Number\"], Subjects[\"Subject_Number\"], Subjects[\"Subject_Number\"]), preload=True, verbose=False)\n",
      "/tmp/ipykernel_72612/4144421588.py:8: RuntimeWarning: The data contains 'boundary' events, indicating data discontinuities. Be cautious of filtering and epoching around these events.\n",
      "  Subjects[\"prepSignal_EC\"] = mne.io.read_raw_eeglab(\"/workspace/brail_poc3/experiments/Lemon_PreEEGLAB/{}/{}/{}_EC.set\".format(Subjects[\"Subject_Number\"], Subjects[\"Subject_Number\"], Subjects[\"Subject_Number\"]), preload=True, verbose=False)\n",
      "/tmp/ipykernel_72612/4144421588.py:9: RuntimeWarning: Data file name in EEG.data (sub-010071_EO.fdt) is incorrect, the file name must have changed on disk, using the correct file name (sub-032359_EO.fdt).\n",
      "  Subjects[\"prepSignal_EO\"] = mne.io.read_raw_eeglab(\"/workspace/brail_poc3/experiments/Lemon_PreEEGLAB/{}/{}/{}_EO.set\".format(Subjects[\"Subject_Number\"], Subjects[\"Subject_Number\"], Subjects[\"Subject_Number\"]), preload=True, verbose=False)\n"
     ]
    },
    {
     "name": "stdout",
     "output_type": "stream",
     "text": [
      "Subject number: sub-032359\n"
     ]
    },
    {
     "name": "stderr",
     "output_type": "stream",
     "text": [
      "/tmp/ipykernel_72612/4144421588.py:9: RuntimeWarning: Limited 1 annotation(s) that were expanding outside the data range.\n",
      "  Subjects[\"prepSignal_EO\"] = mne.io.read_raw_eeglab(\"/workspace/brail_poc3/experiments/Lemon_PreEEGLAB/{}/{}/{}_EO.set\".format(Subjects[\"Subject_Number\"], Subjects[\"Subject_Number\"], Subjects[\"Subject_Number\"]), preload=True, verbose=False)\n",
      "/tmp/ipykernel_72612/4144421588.py:9: RuntimeWarning: The data contains 'boundary' events, indicating data discontinuities. Be cautious of filtering and epoching around these events.\n",
      "  Subjects[\"prepSignal_EO\"] = mne.io.read_raw_eeglab(\"/workspace/brail_poc3/experiments/Lemon_PreEEGLAB/{}/{}/{}_EO.set\".format(Subjects[\"Subject_Number\"], Subjects[\"Subject_Number\"], Subjects[\"Subject_Number\"]), preload=True, verbose=False)\n",
      " 28%|███████████▋                              | 56/201 [00:15<00:38,  3.72it/s]/tmp/ipykernel_72612/4144421588.py:8: RuntimeWarning: Data file name in EEG.data (sub-010072_EC.fdt) is incorrect, the file name must have changed on disk, using the correct file name (sub-032360_EC.fdt).\n",
      "  Subjects[\"prepSignal_EC\"] = mne.io.read_raw_eeglab(\"/workspace/brail_poc3/experiments/Lemon_PreEEGLAB/{}/{}/{}_EC.set\".format(Subjects[\"Subject_Number\"], Subjects[\"Subject_Number\"], Subjects[\"Subject_Number\"]), preload=True, verbose=False)\n",
      "/tmp/ipykernel_72612/4144421588.py:8: RuntimeWarning: Limited 1 annotation(s) that were expanding outside the data range.\n",
      "  Subjects[\"prepSignal_EC\"] = mne.io.read_raw_eeglab(\"/workspace/brail_poc3/experiments/Lemon_PreEEGLAB/{}/{}/{}_EC.set\".format(Subjects[\"Subject_Number\"], Subjects[\"Subject_Number\"], Subjects[\"Subject_Number\"]), preload=True, verbose=False)\n",
      "/tmp/ipykernel_72612/4144421588.py:8: RuntimeWarning: The data contains 'boundary' events, indicating data discontinuities. Be cautious of filtering and epoching around these events.\n",
      "  Subjects[\"prepSignal_EC\"] = mne.io.read_raw_eeglab(\"/workspace/brail_poc3/experiments/Lemon_PreEEGLAB/{}/{}/{}_EC.set\".format(Subjects[\"Subject_Number\"], Subjects[\"Subject_Number\"], Subjects[\"Subject_Number\"]), preload=True, verbose=False)\n",
      "/tmp/ipykernel_72612/4144421588.py:9: RuntimeWarning: Data file name in EEG.data (sub-010072_EO.fdt) is incorrect, the file name must have changed on disk, using the correct file name (sub-032360_EO.fdt).\n",
      "  Subjects[\"prepSignal_EO\"] = mne.io.read_raw_eeglab(\"/workspace/brail_poc3/experiments/Lemon_PreEEGLAB/{}/{}/{}_EO.set\".format(Subjects[\"Subject_Number\"], Subjects[\"Subject_Number\"], Subjects[\"Subject_Number\"]), preload=True, verbose=False)\n"
     ]
    },
    {
     "name": "stdout",
     "output_type": "stream",
     "text": [
      "Subject number: sub-032360\n"
     ]
    },
    {
     "name": "stderr",
     "output_type": "stream",
     "text": [
      "/tmp/ipykernel_72612/4144421588.py:9: RuntimeWarning: Limited 1 annotation(s) that were expanding outside the data range.\n",
      "  Subjects[\"prepSignal_EO\"] = mne.io.read_raw_eeglab(\"/workspace/brail_poc3/experiments/Lemon_PreEEGLAB/{}/{}/{}_EO.set\".format(Subjects[\"Subject_Number\"], Subjects[\"Subject_Number\"], Subjects[\"Subject_Number\"]), preload=True, verbose=False)\n",
      "/tmp/ipykernel_72612/4144421588.py:9: RuntimeWarning: The data contains 'boundary' events, indicating data discontinuities. Be cautious of filtering and epoching around these events.\n",
      "  Subjects[\"prepSignal_EO\"] = mne.io.read_raw_eeglab(\"/workspace/brail_poc3/experiments/Lemon_PreEEGLAB/{}/{}/{}_EO.set\".format(Subjects[\"Subject_Number\"], Subjects[\"Subject_Number\"], Subjects[\"Subject_Number\"]), preload=True, verbose=False)\n",
      " 28%|███████████▉                              | 57/201 [00:15<00:38,  3.74it/s]/tmp/ipykernel_72612/4144421588.py:8: RuntimeWarning: Data file name in EEG.data (sub-010073_EC.fdt) is incorrect, the file name must have changed on disk, using the correct file name (sub-032361_EC.fdt).\n",
      "  Subjects[\"prepSignal_EC\"] = mne.io.read_raw_eeglab(\"/workspace/brail_poc3/experiments/Lemon_PreEEGLAB/{}/{}/{}_EC.set\".format(Subjects[\"Subject_Number\"], Subjects[\"Subject_Number\"], Subjects[\"Subject_Number\"]), preload=True, verbose=False)\n",
      "/tmp/ipykernel_72612/4144421588.py:8: RuntimeWarning: Limited 1 annotation(s) that were expanding outside the data range.\n",
      "  Subjects[\"prepSignal_EC\"] = mne.io.read_raw_eeglab(\"/workspace/brail_poc3/experiments/Lemon_PreEEGLAB/{}/{}/{}_EC.set\".format(Subjects[\"Subject_Number\"], Subjects[\"Subject_Number\"], Subjects[\"Subject_Number\"]), preload=True, verbose=False)\n",
      "/tmp/ipykernel_72612/4144421588.py:8: RuntimeWarning: The data contains 'boundary' events, indicating data discontinuities. Be cautious of filtering and epoching around these events.\n",
      "  Subjects[\"prepSignal_EC\"] = mne.io.read_raw_eeglab(\"/workspace/brail_poc3/experiments/Lemon_PreEEGLAB/{}/{}/{}_EC.set\".format(Subjects[\"Subject_Number\"], Subjects[\"Subject_Number\"], Subjects[\"Subject_Number\"]), preload=True, verbose=False)\n",
      "/tmp/ipykernel_72612/4144421588.py:9: RuntimeWarning: Data file name in EEG.data (sub-010073_EO.fdt) is incorrect, the file name must have changed on disk, using the correct file name (sub-032361_EO.fdt).\n",
      "  Subjects[\"prepSignal_EO\"] = mne.io.read_raw_eeglab(\"/workspace/brail_poc3/experiments/Lemon_PreEEGLAB/{}/{}/{}_EO.set\".format(Subjects[\"Subject_Number\"], Subjects[\"Subject_Number\"], Subjects[\"Subject_Number\"]), preload=True, verbose=False)\n"
     ]
    },
    {
     "name": "stdout",
     "output_type": "stream",
     "text": [
      "Subject number: sub-032361\n"
     ]
    },
    {
     "name": "stderr",
     "output_type": "stream",
     "text": [
      "/tmp/ipykernel_72612/4144421588.py:9: RuntimeWarning: Limited 1 annotation(s) that were expanding outside the data range.\n",
      "  Subjects[\"prepSignal_EO\"] = mne.io.read_raw_eeglab(\"/workspace/brail_poc3/experiments/Lemon_PreEEGLAB/{}/{}/{}_EO.set\".format(Subjects[\"Subject_Number\"], Subjects[\"Subject_Number\"], Subjects[\"Subject_Number\"]), preload=True, verbose=False)\n",
      "/tmp/ipykernel_72612/4144421588.py:9: RuntimeWarning: The data contains 'boundary' events, indicating data discontinuities. Be cautious of filtering and epoching around these events.\n",
      "  Subjects[\"prepSignal_EO\"] = mne.io.read_raw_eeglab(\"/workspace/brail_poc3/experiments/Lemon_PreEEGLAB/{}/{}/{}_EO.set\".format(Subjects[\"Subject_Number\"], Subjects[\"Subject_Number\"], Subjects[\"Subject_Number\"]), preload=True, verbose=False)\n",
      " 29%|████████████                              | 58/201 [00:15<00:38,  3.71it/s]/tmp/ipykernel_72612/4144421588.py:8: RuntimeWarning: Data file name in EEG.data (sub-010074_EC.fdt) is incorrect, the file name must have changed on disk, using the correct file name (sub-032362_EC.fdt).\n",
      "  Subjects[\"prepSignal_EC\"] = mne.io.read_raw_eeglab(\"/workspace/brail_poc3/experiments/Lemon_PreEEGLAB/{}/{}/{}_EC.set\".format(Subjects[\"Subject_Number\"], Subjects[\"Subject_Number\"], Subjects[\"Subject_Number\"]), preload=True, verbose=False)\n",
      "/tmp/ipykernel_72612/4144421588.py:8: RuntimeWarning: Limited 1 annotation(s) that were expanding outside the data range.\n",
      "  Subjects[\"prepSignal_EC\"] = mne.io.read_raw_eeglab(\"/workspace/brail_poc3/experiments/Lemon_PreEEGLAB/{}/{}/{}_EC.set\".format(Subjects[\"Subject_Number\"], Subjects[\"Subject_Number\"], Subjects[\"Subject_Number\"]), preload=True, verbose=False)\n",
      "/tmp/ipykernel_72612/4144421588.py:8: RuntimeWarning: The data contains 'boundary' events, indicating data discontinuities. Be cautious of filtering and epoching around these events.\n",
      "  Subjects[\"prepSignal_EC\"] = mne.io.read_raw_eeglab(\"/workspace/brail_poc3/experiments/Lemon_PreEEGLAB/{}/{}/{}_EC.set\".format(Subjects[\"Subject_Number\"], Subjects[\"Subject_Number\"], Subjects[\"Subject_Number\"]), preload=True, verbose=False)\n",
      "/tmp/ipykernel_72612/4144421588.py:9: RuntimeWarning: Data file name in EEG.data (sub-010074_EO.fdt) is incorrect, the file name must have changed on disk, using the correct file name (sub-032362_EO.fdt).\n",
      "  Subjects[\"prepSignal_EO\"] = mne.io.read_raw_eeglab(\"/workspace/brail_poc3/experiments/Lemon_PreEEGLAB/{}/{}/{}_EO.set\".format(Subjects[\"Subject_Number\"], Subjects[\"Subject_Number\"], Subjects[\"Subject_Number\"]), preload=True, verbose=False)\n"
     ]
    },
    {
     "name": "stdout",
     "output_type": "stream",
     "text": [
      "Subject number: sub-032362\n"
     ]
    },
    {
     "name": "stderr",
     "output_type": "stream",
     "text": [
      "/tmp/ipykernel_72612/4144421588.py:9: RuntimeWarning: Limited 1 annotation(s) that were expanding outside the data range.\n",
      "  Subjects[\"prepSignal_EO\"] = mne.io.read_raw_eeglab(\"/workspace/brail_poc3/experiments/Lemon_PreEEGLAB/{}/{}/{}_EO.set\".format(Subjects[\"Subject_Number\"], Subjects[\"Subject_Number\"], Subjects[\"Subject_Number\"]), preload=True, verbose=False)\n",
      "/tmp/ipykernel_72612/4144421588.py:9: RuntimeWarning: The data contains 'boundary' events, indicating data discontinuities. Be cautious of filtering and epoching around these events.\n",
      "  Subjects[\"prepSignal_EO\"] = mne.io.read_raw_eeglab(\"/workspace/brail_poc3/experiments/Lemon_PreEEGLAB/{}/{}/{}_EO.set\".format(Subjects[\"Subject_Number\"], Subjects[\"Subject_Number\"], Subjects[\"Subject_Number\"]), preload=True, verbose=False)\n",
      " 29%|████████████▎                             | 59/201 [00:15<00:38,  3.73it/s]/tmp/ipykernel_72612/4144421588.py:8: RuntimeWarning: Data file name in EEG.data (sub-010075_EC.fdt) is incorrect, the file name must have changed on disk, using the correct file name (sub-032363_EC.fdt).\n",
      "  Subjects[\"prepSignal_EC\"] = mne.io.read_raw_eeglab(\"/workspace/brail_poc3/experiments/Lemon_PreEEGLAB/{}/{}/{}_EC.set\".format(Subjects[\"Subject_Number\"], Subjects[\"Subject_Number\"], Subjects[\"Subject_Number\"]), preload=True, verbose=False)\n",
      "/tmp/ipykernel_72612/4144421588.py:8: RuntimeWarning: Limited 1 annotation(s) that were expanding outside the data range.\n",
      "  Subjects[\"prepSignal_EC\"] = mne.io.read_raw_eeglab(\"/workspace/brail_poc3/experiments/Lemon_PreEEGLAB/{}/{}/{}_EC.set\".format(Subjects[\"Subject_Number\"], Subjects[\"Subject_Number\"], Subjects[\"Subject_Number\"]), preload=True, verbose=False)\n",
      "/tmp/ipykernel_72612/4144421588.py:8: RuntimeWarning: The data contains 'boundary' events, indicating data discontinuities. Be cautious of filtering and epoching around these events.\n",
      "  Subjects[\"prepSignal_EC\"] = mne.io.read_raw_eeglab(\"/workspace/brail_poc3/experiments/Lemon_PreEEGLAB/{}/{}/{}_EC.set\".format(Subjects[\"Subject_Number\"], Subjects[\"Subject_Number\"], Subjects[\"Subject_Number\"]), preload=True, verbose=False)\n",
      "/tmp/ipykernel_72612/4144421588.py:9: RuntimeWarning: Data file name in EEG.data (sub-010075_EO.fdt) is incorrect, the file name must have changed on disk, using the correct file name (sub-032363_EO.fdt).\n",
      "  Subjects[\"prepSignal_EO\"] = mne.io.read_raw_eeglab(\"/workspace/brail_poc3/experiments/Lemon_PreEEGLAB/{}/{}/{}_EO.set\".format(Subjects[\"Subject_Number\"], Subjects[\"Subject_Number\"], Subjects[\"Subject_Number\"]), preload=True, verbose=False)\n"
     ]
    },
    {
     "name": "stdout",
     "output_type": "stream",
     "text": [
      "Subject number: sub-032363\n"
     ]
    },
    {
     "name": "stderr",
     "output_type": "stream",
     "text": [
      "/tmp/ipykernel_72612/4144421588.py:9: RuntimeWarning: Limited 1 annotation(s) that were expanding outside the data range.\n",
      "  Subjects[\"prepSignal_EO\"] = mne.io.read_raw_eeglab(\"/workspace/brail_poc3/experiments/Lemon_PreEEGLAB/{}/{}/{}_EO.set\".format(Subjects[\"Subject_Number\"], Subjects[\"Subject_Number\"], Subjects[\"Subject_Number\"]), preload=True, verbose=False)\n",
      "/tmp/ipykernel_72612/4144421588.py:9: RuntimeWarning: The data contains 'boundary' events, indicating data discontinuities. Be cautious of filtering and epoching around these events.\n",
      "  Subjects[\"prepSignal_EO\"] = mne.io.read_raw_eeglab(\"/workspace/brail_poc3/experiments/Lemon_PreEEGLAB/{}/{}/{}_EO.set\".format(Subjects[\"Subject_Number\"], Subjects[\"Subject_Number\"], Subjects[\"Subject_Number\"]), preload=True, verbose=False)\n",
      " 30%|████████████▌                             | 60/201 [00:16<00:37,  3.72it/s]/tmp/ipykernel_72612/4144421588.py:8: RuntimeWarning: Data file name in EEG.data (sub-010076_EC.fdt) is incorrect, the file name must have changed on disk, using the correct file name (sub-032364_EC.fdt).\n",
      "  Subjects[\"prepSignal_EC\"] = mne.io.read_raw_eeglab(\"/workspace/brail_poc3/experiments/Lemon_PreEEGLAB/{}/{}/{}_EC.set\".format(Subjects[\"Subject_Number\"], Subjects[\"Subject_Number\"], Subjects[\"Subject_Number\"]), preload=True, verbose=False)\n",
      "/tmp/ipykernel_72612/4144421588.py:8: RuntimeWarning: Limited 1 annotation(s) that were expanding outside the data range.\n",
      "  Subjects[\"prepSignal_EC\"] = mne.io.read_raw_eeglab(\"/workspace/brail_poc3/experiments/Lemon_PreEEGLAB/{}/{}/{}_EC.set\".format(Subjects[\"Subject_Number\"], Subjects[\"Subject_Number\"], Subjects[\"Subject_Number\"]), preload=True, verbose=False)\n",
      "/tmp/ipykernel_72612/4144421588.py:8: RuntimeWarning: The data contains 'boundary' events, indicating data discontinuities. Be cautious of filtering and epoching around these events.\n",
      "  Subjects[\"prepSignal_EC\"] = mne.io.read_raw_eeglab(\"/workspace/brail_poc3/experiments/Lemon_PreEEGLAB/{}/{}/{}_EC.set\".format(Subjects[\"Subject_Number\"], Subjects[\"Subject_Number\"], Subjects[\"Subject_Number\"]), preload=True, verbose=False)\n",
      "/tmp/ipykernel_72612/4144421588.py:9: RuntimeWarning: Data file name in EEG.data (sub-010076_EO.fdt) is incorrect, the file name must have changed on disk, using the correct file name (sub-032364_EO.fdt).\n",
      "  Subjects[\"prepSignal_EO\"] = mne.io.read_raw_eeglab(\"/workspace/brail_poc3/experiments/Lemon_PreEEGLAB/{}/{}/{}_EO.set\".format(Subjects[\"Subject_Number\"], Subjects[\"Subject_Number\"], Subjects[\"Subject_Number\"]), preload=True, verbose=False)\n"
     ]
    },
    {
     "name": "stdout",
     "output_type": "stream",
     "text": [
      "Subject number: sub-032364\n"
     ]
    },
    {
     "name": "stderr",
     "output_type": "stream",
     "text": [
      "/tmp/ipykernel_72612/4144421588.py:9: RuntimeWarning: Limited 1 annotation(s) that were expanding outside the data range.\n",
      "  Subjects[\"prepSignal_EO\"] = mne.io.read_raw_eeglab(\"/workspace/brail_poc3/experiments/Lemon_PreEEGLAB/{}/{}/{}_EO.set\".format(Subjects[\"Subject_Number\"], Subjects[\"Subject_Number\"], Subjects[\"Subject_Number\"]), preload=True, verbose=False)\n",
      "/tmp/ipykernel_72612/4144421588.py:9: RuntimeWarning: The data contains 'boundary' events, indicating data discontinuities. Be cautious of filtering and epoching around these events.\n",
      "  Subjects[\"prepSignal_EO\"] = mne.io.read_raw_eeglab(\"/workspace/brail_poc3/experiments/Lemon_PreEEGLAB/{}/{}/{}_EO.set\".format(Subjects[\"Subject_Number\"], Subjects[\"Subject_Number\"], Subjects[\"Subject_Number\"]), preload=True, verbose=False)\n",
      " 30%|████████████▋                             | 61/201 [00:16<00:37,  3.73it/s]/tmp/ipykernel_72612/4144421588.py:8: RuntimeWarning: Data file name in EEG.data (sub-010079_EC.fdt) is incorrect, the file name must have changed on disk, using the correct file name (sub-032367_EC.fdt).\n",
      "  Subjects[\"prepSignal_EC\"] = mne.io.read_raw_eeglab(\"/workspace/brail_poc3/experiments/Lemon_PreEEGLAB/{}/{}/{}_EC.set\".format(Subjects[\"Subject_Number\"], Subjects[\"Subject_Number\"], Subjects[\"Subject_Number\"]), preload=True, verbose=False)\n",
      "/tmp/ipykernel_72612/4144421588.py:8: RuntimeWarning: Limited 1 annotation(s) that were expanding outside the data range.\n",
      "  Subjects[\"prepSignal_EC\"] = mne.io.read_raw_eeglab(\"/workspace/brail_poc3/experiments/Lemon_PreEEGLAB/{}/{}/{}_EC.set\".format(Subjects[\"Subject_Number\"], Subjects[\"Subject_Number\"], Subjects[\"Subject_Number\"]), preload=True, verbose=False)\n",
      "/tmp/ipykernel_72612/4144421588.py:8: RuntimeWarning: The data contains 'boundary' events, indicating data discontinuities. Be cautious of filtering and epoching around these events.\n",
      "  Subjects[\"prepSignal_EC\"] = mne.io.read_raw_eeglab(\"/workspace/brail_poc3/experiments/Lemon_PreEEGLAB/{}/{}/{}_EC.set\".format(Subjects[\"Subject_Number\"], Subjects[\"Subject_Number\"], Subjects[\"Subject_Number\"]), preload=True, verbose=False)\n",
      "/tmp/ipykernel_72612/4144421588.py:9: RuntimeWarning: Data file name in EEG.data (sub-010079_EO.fdt) is incorrect, the file name must have changed on disk, using the correct file name (sub-032367_EO.fdt).\n",
      "  Subjects[\"prepSignal_EO\"] = mne.io.read_raw_eeglab(\"/workspace/brail_poc3/experiments/Lemon_PreEEGLAB/{}/{}/{}_EO.set\".format(Subjects[\"Subject_Number\"], Subjects[\"Subject_Number\"], Subjects[\"Subject_Number\"]), preload=True, verbose=False)\n"
     ]
    },
    {
     "name": "stdout",
     "output_type": "stream",
     "text": [
      "Subject number: sub-032367\n"
     ]
    },
    {
     "name": "stderr",
     "output_type": "stream",
     "text": [
      "/tmp/ipykernel_72612/4144421588.py:9: RuntimeWarning: Limited 1 annotation(s) that were expanding outside the data range.\n",
      "  Subjects[\"prepSignal_EO\"] = mne.io.read_raw_eeglab(\"/workspace/brail_poc3/experiments/Lemon_PreEEGLAB/{}/{}/{}_EO.set\".format(Subjects[\"Subject_Number\"], Subjects[\"Subject_Number\"], Subjects[\"Subject_Number\"]), preload=True, verbose=False)\n",
      "/tmp/ipykernel_72612/4144421588.py:9: RuntimeWarning: The data contains 'boundary' events, indicating data discontinuities. Be cautious of filtering and epoching around these events.\n",
      "  Subjects[\"prepSignal_EO\"] = mne.io.read_raw_eeglab(\"/workspace/brail_poc3/experiments/Lemon_PreEEGLAB/{}/{}/{}_EO.set\".format(Subjects[\"Subject_Number\"], Subjects[\"Subject_Number\"], Subjects[\"Subject_Number\"]), preload=True, verbose=False)\n",
      " 31%|████████████▉                             | 62/201 [00:16<00:36,  3.79it/s]/tmp/ipykernel_72612/4144421588.py:8: RuntimeWarning: Data file name in EEG.data (sub-010080_EC.fdt) is incorrect, the file name must have changed on disk, using the correct file name (sub-032368_EC.fdt).\n",
      "  Subjects[\"prepSignal_EC\"] = mne.io.read_raw_eeglab(\"/workspace/brail_poc3/experiments/Lemon_PreEEGLAB/{}/{}/{}_EC.set\".format(Subjects[\"Subject_Number\"], Subjects[\"Subject_Number\"], Subjects[\"Subject_Number\"]), preload=True, verbose=False)\n",
      "/tmp/ipykernel_72612/4144421588.py:8: RuntimeWarning: Limited 1 annotation(s) that were expanding outside the data range.\n",
      "  Subjects[\"prepSignal_EC\"] = mne.io.read_raw_eeglab(\"/workspace/brail_poc3/experiments/Lemon_PreEEGLAB/{}/{}/{}_EC.set\".format(Subjects[\"Subject_Number\"], Subjects[\"Subject_Number\"], Subjects[\"Subject_Number\"]), preload=True, verbose=False)\n",
      "/tmp/ipykernel_72612/4144421588.py:8: RuntimeWarning: The data contains 'boundary' events, indicating data discontinuities. Be cautious of filtering and epoching around these events.\n",
      "  Subjects[\"prepSignal_EC\"] = mne.io.read_raw_eeglab(\"/workspace/brail_poc3/experiments/Lemon_PreEEGLAB/{}/{}/{}_EC.set\".format(Subjects[\"Subject_Number\"], Subjects[\"Subject_Number\"], Subjects[\"Subject_Number\"]), preload=True, verbose=False)\n",
      "/tmp/ipykernel_72612/4144421588.py:9: RuntimeWarning: Data file name in EEG.data (sub-010080_EO.fdt) is incorrect, the file name must have changed on disk, using the correct file name (sub-032368_EO.fdt).\n",
      "  Subjects[\"prepSignal_EO\"] = mne.io.read_raw_eeglab(\"/workspace/brail_poc3/experiments/Lemon_PreEEGLAB/{}/{}/{}_EO.set\".format(Subjects[\"Subject_Number\"], Subjects[\"Subject_Number\"], Subjects[\"Subject_Number\"]), preload=True, verbose=False)\n"
     ]
    },
    {
     "name": "stdout",
     "output_type": "stream",
     "text": [
      "Subject number: sub-032368\n"
     ]
    },
    {
     "name": "stderr",
     "output_type": "stream",
     "text": [
      "/tmp/ipykernel_72612/4144421588.py:9: RuntimeWarning: Limited 1 annotation(s) that were expanding outside the data range.\n",
      "  Subjects[\"prepSignal_EO\"] = mne.io.read_raw_eeglab(\"/workspace/brail_poc3/experiments/Lemon_PreEEGLAB/{}/{}/{}_EO.set\".format(Subjects[\"Subject_Number\"], Subjects[\"Subject_Number\"], Subjects[\"Subject_Number\"]), preload=True, verbose=False)\n",
      "/tmp/ipykernel_72612/4144421588.py:9: RuntimeWarning: The data contains 'boundary' events, indicating data discontinuities. Be cautious of filtering and epoching around these events.\n",
      "  Subjects[\"prepSignal_EO\"] = mne.io.read_raw_eeglab(\"/workspace/brail_poc3/experiments/Lemon_PreEEGLAB/{}/{}/{}_EO.set\".format(Subjects[\"Subject_Number\"], Subjects[\"Subject_Number\"], Subjects[\"Subject_Number\"]), preload=True, verbose=False)\n",
      " 31%|█████████████▏                            | 63/201 [00:16<00:36,  3.80it/s]/tmp/ipykernel_72612/4144421588.py:8: RuntimeWarning: Data file name in EEG.data (sub-010081_EC.fdt) is incorrect, the file name must have changed on disk, using the correct file name (sub-032369_EC.fdt).\n",
      "  Subjects[\"prepSignal_EC\"] = mne.io.read_raw_eeglab(\"/workspace/brail_poc3/experiments/Lemon_PreEEGLAB/{}/{}/{}_EC.set\".format(Subjects[\"Subject_Number\"], Subjects[\"Subject_Number\"], Subjects[\"Subject_Number\"]), preload=True, verbose=False)\n",
      "/tmp/ipykernel_72612/4144421588.py:8: RuntimeWarning: Limited 1 annotation(s) that were expanding outside the data range.\n",
      "  Subjects[\"prepSignal_EC\"] = mne.io.read_raw_eeglab(\"/workspace/brail_poc3/experiments/Lemon_PreEEGLAB/{}/{}/{}_EC.set\".format(Subjects[\"Subject_Number\"], Subjects[\"Subject_Number\"], Subjects[\"Subject_Number\"]), preload=True, verbose=False)\n",
      "/tmp/ipykernel_72612/4144421588.py:8: RuntimeWarning: The data contains 'boundary' events, indicating data discontinuities. Be cautious of filtering and epoching around these events.\n",
      "  Subjects[\"prepSignal_EC\"] = mne.io.read_raw_eeglab(\"/workspace/brail_poc3/experiments/Lemon_PreEEGLAB/{}/{}/{}_EC.set\".format(Subjects[\"Subject_Number\"], Subjects[\"Subject_Number\"], Subjects[\"Subject_Number\"]), preload=True, verbose=False)\n",
      "/tmp/ipykernel_72612/4144421588.py:9: RuntimeWarning: Data file name in EEG.data (sub-010081_EO.fdt) is incorrect, the file name must have changed on disk, using the correct file name (sub-032369_EO.fdt).\n",
      "  Subjects[\"prepSignal_EO\"] = mne.io.read_raw_eeglab(\"/workspace/brail_poc3/experiments/Lemon_PreEEGLAB/{}/{}/{}_EO.set\".format(Subjects[\"Subject_Number\"], Subjects[\"Subject_Number\"], Subjects[\"Subject_Number\"]), preload=True, verbose=False)\n"
     ]
    },
    {
     "name": "stdout",
     "output_type": "stream",
     "text": [
      "Subject number: sub-032369\n"
     ]
    },
    {
     "name": "stderr",
     "output_type": "stream",
     "text": [
      "/tmp/ipykernel_72612/4144421588.py:9: RuntimeWarning: Limited 1 annotation(s) that were expanding outside the data range.\n",
      "  Subjects[\"prepSignal_EO\"] = mne.io.read_raw_eeglab(\"/workspace/brail_poc3/experiments/Lemon_PreEEGLAB/{}/{}/{}_EO.set\".format(Subjects[\"Subject_Number\"], Subjects[\"Subject_Number\"], Subjects[\"Subject_Number\"]), preload=True, verbose=False)\n",
      "/tmp/ipykernel_72612/4144421588.py:9: RuntimeWarning: The data contains 'boundary' events, indicating data discontinuities. Be cautious of filtering and epoching around these events.\n",
      "  Subjects[\"prepSignal_EO\"] = mne.io.read_raw_eeglab(\"/workspace/brail_poc3/experiments/Lemon_PreEEGLAB/{}/{}/{}_EO.set\".format(Subjects[\"Subject_Number\"], Subjects[\"Subject_Number\"], Subjects[\"Subject_Number\"]), preload=True, verbose=False)\n",
      " 32%|█████████████▎                            | 64/201 [00:17<00:36,  3.74it/s]/tmp/ipykernel_72612/4144421588.py:8: RuntimeWarning: Data file name in EEG.data (sub-010083_EC.fdt) is incorrect, the file name must have changed on disk, using the correct file name (sub-032370_EC.fdt).\n",
      "  Subjects[\"prepSignal_EC\"] = mne.io.read_raw_eeglab(\"/workspace/brail_poc3/experiments/Lemon_PreEEGLAB/{}/{}/{}_EC.set\".format(Subjects[\"Subject_Number\"], Subjects[\"Subject_Number\"], Subjects[\"Subject_Number\"]), preload=True, verbose=False)\n",
      "/tmp/ipykernel_72612/4144421588.py:8: RuntimeWarning: Limited 1 annotation(s) that were expanding outside the data range.\n",
      "  Subjects[\"prepSignal_EC\"] = mne.io.read_raw_eeglab(\"/workspace/brail_poc3/experiments/Lemon_PreEEGLAB/{}/{}/{}_EC.set\".format(Subjects[\"Subject_Number\"], Subjects[\"Subject_Number\"], Subjects[\"Subject_Number\"]), preload=True, verbose=False)\n",
      "/tmp/ipykernel_72612/4144421588.py:8: RuntimeWarning: The data contains 'boundary' events, indicating data discontinuities. Be cautious of filtering and epoching around these events.\n",
      "  Subjects[\"prepSignal_EC\"] = mne.io.read_raw_eeglab(\"/workspace/brail_poc3/experiments/Lemon_PreEEGLAB/{}/{}/{}_EC.set\".format(Subjects[\"Subject_Number\"], Subjects[\"Subject_Number\"], Subjects[\"Subject_Number\"]), preload=True, verbose=False)\n",
      "/tmp/ipykernel_72612/4144421588.py:9: RuntimeWarning: Data file name in EEG.data (sub-010083_EO.fdt) is incorrect, the file name must have changed on disk, using the correct file name (sub-032370_EO.fdt).\n",
      "  Subjects[\"prepSignal_EO\"] = mne.io.read_raw_eeglab(\"/workspace/brail_poc3/experiments/Lemon_PreEEGLAB/{}/{}/{}_EO.set\".format(Subjects[\"Subject_Number\"], Subjects[\"Subject_Number\"], Subjects[\"Subject_Number\"]), preload=True, verbose=False)\n"
     ]
    },
    {
     "name": "stdout",
     "output_type": "stream",
     "text": [
      "Subject number: sub-032370\n"
     ]
    },
    {
     "name": "stderr",
     "output_type": "stream",
     "text": [
      "/tmp/ipykernel_72612/4144421588.py:9: RuntimeWarning: Limited 1 annotation(s) that were expanding outside the data range.\n",
      "  Subjects[\"prepSignal_EO\"] = mne.io.read_raw_eeglab(\"/workspace/brail_poc3/experiments/Lemon_PreEEGLAB/{}/{}/{}_EO.set\".format(Subjects[\"Subject_Number\"], Subjects[\"Subject_Number\"], Subjects[\"Subject_Number\"]), preload=True, verbose=False)\n",
      "/tmp/ipykernel_72612/4144421588.py:9: RuntimeWarning: The data contains 'boundary' events, indicating data discontinuities. Be cautious of filtering and epoching around these events.\n",
      "  Subjects[\"prepSignal_EO\"] = mne.io.read_raw_eeglab(\"/workspace/brail_poc3/experiments/Lemon_PreEEGLAB/{}/{}/{}_EO.set\".format(Subjects[\"Subject_Number\"], Subjects[\"Subject_Number\"], Subjects[\"Subject_Number\"]), preload=True, verbose=False)\n",
      " 32%|█████████████▌                            | 65/201 [00:17<00:36,  3.76it/s]/tmp/ipykernel_72612/4144421588.py:8: RuntimeWarning: Data file name in EEG.data (sub-010084_EC.fdt) is incorrect, the file name must have changed on disk, using the correct file name (sub-032371_EC.fdt).\n",
      "  Subjects[\"prepSignal_EC\"] = mne.io.read_raw_eeglab(\"/workspace/brail_poc3/experiments/Lemon_PreEEGLAB/{}/{}/{}_EC.set\".format(Subjects[\"Subject_Number\"], Subjects[\"Subject_Number\"], Subjects[\"Subject_Number\"]), preload=True, verbose=False)\n",
      "/tmp/ipykernel_72612/4144421588.py:8: RuntimeWarning: Limited 1 annotation(s) that were expanding outside the data range.\n",
      "  Subjects[\"prepSignal_EC\"] = mne.io.read_raw_eeglab(\"/workspace/brail_poc3/experiments/Lemon_PreEEGLAB/{}/{}/{}_EC.set\".format(Subjects[\"Subject_Number\"], Subjects[\"Subject_Number\"], Subjects[\"Subject_Number\"]), preload=True, verbose=False)\n",
      "/tmp/ipykernel_72612/4144421588.py:8: RuntimeWarning: The data contains 'boundary' events, indicating data discontinuities. Be cautious of filtering and epoching around these events.\n",
      "  Subjects[\"prepSignal_EC\"] = mne.io.read_raw_eeglab(\"/workspace/brail_poc3/experiments/Lemon_PreEEGLAB/{}/{}/{}_EC.set\".format(Subjects[\"Subject_Number\"], Subjects[\"Subject_Number\"], Subjects[\"Subject_Number\"]), preload=True, verbose=False)\n",
      "/tmp/ipykernel_72612/4144421588.py:9: RuntimeWarning: Data file name in EEG.data (sub-010084_EO.fdt) is incorrect, the file name must have changed on disk, using the correct file name (sub-032371_EO.fdt).\n",
      "  Subjects[\"prepSignal_EO\"] = mne.io.read_raw_eeglab(\"/workspace/brail_poc3/experiments/Lemon_PreEEGLAB/{}/{}/{}_EO.set\".format(Subjects[\"Subject_Number\"], Subjects[\"Subject_Number\"], Subjects[\"Subject_Number\"]), preload=True, verbose=False)\n"
     ]
    },
    {
     "name": "stdout",
     "output_type": "stream",
     "text": [
      "Subject number: sub-032371\n"
     ]
    },
    {
     "name": "stderr",
     "output_type": "stream",
     "text": [
      "/tmp/ipykernel_72612/4144421588.py:9: RuntimeWarning: Limited 1 annotation(s) that were expanding outside the data range.\n",
      "  Subjects[\"prepSignal_EO\"] = mne.io.read_raw_eeglab(\"/workspace/brail_poc3/experiments/Lemon_PreEEGLAB/{}/{}/{}_EO.set\".format(Subjects[\"Subject_Number\"], Subjects[\"Subject_Number\"], Subjects[\"Subject_Number\"]), preload=True, verbose=False)\n",
      "/tmp/ipykernel_72612/4144421588.py:9: RuntimeWarning: The data contains 'boundary' events, indicating data discontinuities. Be cautious of filtering and epoching around these events.\n",
      "  Subjects[\"prepSignal_EO\"] = mne.io.read_raw_eeglab(\"/workspace/brail_poc3/experiments/Lemon_PreEEGLAB/{}/{}/{}_EO.set\".format(Subjects[\"Subject_Number\"], Subjects[\"Subject_Number\"], Subjects[\"Subject_Number\"]), preload=True, verbose=False)\n",
      " 33%|█████████████▊                            | 66/201 [00:17<00:35,  3.76it/s]/tmp/ipykernel_72612/4144421588.py:8: RuntimeWarning: Data file name in EEG.data (sub-010085_EC.fdt) is incorrect, the file name must have changed on disk, using the correct file name (sub-032372_EC.fdt).\n",
      "  Subjects[\"prepSignal_EC\"] = mne.io.read_raw_eeglab(\"/workspace/brail_poc3/experiments/Lemon_PreEEGLAB/{}/{}/{}_EC.set\".format(Subjects[\"Subject_Number\"], Subjects[\"Subject_Number\"], Subjects[\"Subject_Number\"]), preload=True, verbose=False)\n",
      "/tmp/ipykernel_72612/4144421588.py:8: RuntimeWarning: Limited 1 annotation(s) that were expanding outside the data range.\n",
      "  Subjects[\"prepSignal_EC\"] = mne.io.read_raw_eeglab(\"/workspace/brail_poc3/experiments/Lemon_PreEEGLAB/{}/{}/{}_EC.set\".format(Subjects[\"Subject_Number\"], Subjects[\"Subject_Number\"], Subjects[\"Subject_Number\"]), preload=True, verbose=False)\n",
      "/tmp/ipykernel_72612/4144421588.py:8: RuntimeWarning: The data contains 'boundary' events, indicating data discontinuities. Be cautious of filtering and epoching around these events.\n",
      "  Subjects[\"prepSignal_EC\"] = mne.io.read_raw_eeglab(\"/workspace/brail_poc3/experiments/Lemon_PreEEGLAB/{}/{}/{}_EC.set\".format(Subjects[\"Subject_Number\"], Subjects[\"Subject_Number\"], Subjects[\"Subject_Number\"]), preload=True, verbose=False)\n",
      "/tmp/ipykernel_72612/4144421588.py:9: RuntimeWarning: Data file name in EEG.data (sub-010085_EO.fdt) is incorrect, the file name must have changed on disk, using the correct file name (sub-032372_EO.fdt).\n",
      "  Subjects[\"prepSignal_EO\"] = mne.io.read_raw_eeglab(\"/workspace/brail_poc3/experiments/Lemon_PreEEGLAB/{}/{}/{}_EO.set\".format(Subjects[\"Subject_Number\"], Subjects[\"Subject_Number\"], Subjects[\"Subject_Number\"]), preload=True, verbose=False)\n"
     ]
    },
    {
     "name": "stdout",
     "output_type": "stream",
     "text": [
      "Subject number: sub-032372\n"
     ]
    },
    {
     "name": "stderr",
     "output_type": "stream",
     "text": [
      "/tmp/ipykernel_72612/4144421588.py:9: RuntimeWarning: Limited 1 annotation(s) that were expanding outside the data range.\n",
      "  Subjects[\"prepSignal_EO\"] = mne.io.read_raw_eeglab(\"/workspace/brail_poc3/experiments/Lemon_PreEEGLAB/{}/{}/{}_EO.set\".format(Subjects[\"Subject_Number\"], Subjects[\"Subject_Number\"], Subjects[\"Subject_Number\"]), preload=True, verbose=False)\n",
      "/tmp/ipykernel_72612/4144421588.py:9: RuntimeWarning: The data contains 'boundary' events, indicating data discontinuities. Be cautious of filtering and epoching around these events.\n",
      "  Subjects[\"prepSignal_EO\"] = mne.io.read_raw_eeglab(\"/workspace/brail_poc3/experiments/Lemon_PreEEGLAB/{}/{}/{}_EO.set\".format(Subjects[\"Subject_Number\"], Subjects[\"Subject_Number\"], Subjects[\"Subject_Number\"]), preload=True, verbose=False)\n",
      " 33%|██████████████                            | 67/201 [00:17<00:35,  3.76it/s]/tmp/ipykernel_72612/4144421588.py:8: RuntimeWarning: Data file name in EEG.data (sub-010086_EC.fdt) is incorrect, the file name must have changed on disk, using the correct file name (sub-032373_EC.fdt).\n",
      "  Subjects[\"prepSignal_EC\"] = mne.io.read_raw_eeglab(\"/workspace/brail_poc3/experiments/Lemon_PreEEGLAB/{}/{}/{}_EC.set\".format(Subjects[\"Subject_Number\"], Subjects[\"Subject_Number\"], Subjects[\"Subject_Number\"]), preload=True, verbose=False)\n",
      "/tmp/ipykernel_72612/4144421588.py:8: RuntimeWarning: Limited 1 annotation(s) that were expanding outside the data range.\n",
      "  Subjects[\"prepSignal_EC\"] = mne.io.read_raw_eeglab(\"/workspace/brail_poc3/experiments/Lemon_PreEEGLAB/{}/{}/{}_EC.set\".format(Subjects[\"Subject_Number\"], Subjects[\"Subject_Number\"], Subjects[\"Subject_Number\"]), preload=True, verbose=False)\n",
      "/tmp/ipykernel_72612/4144421588.py:8: RuntimeWarning: The data contains 'boundary' events, indicating data discontinuities. Be cautious of filtering and epoching around these events.\n",
      "  Subjects[\"prepSignal_EC\"] = mne.io.read_raw_eeglab(\"/workspace/brail_poc3/experiments/Lemon_PreEEGLAB/{}/{}/{}_EC.set\".format(Subjects[\"Subject_Number\"], Subjects[\"Subject_Number\"], Subjects[\"Subject_Number\"]), preload=True, verbose=False)\n",
      "/tmp/ipykernel_72612/4144421588.py:9: RuntimeWarning: Data file name in EEG.data (sub-010086_EO.fdt) is incorrect, the file name must have changed on disk, using the correct file name (sub-032373_EO.fdt).\n",
      "  Subjects[\"prepSignal_EO\"] = mne.io.read_raw_eeglab(\"/workspace/brail_poc3/experiments/Lemon_PreEEGLAB/{}/{}/{}_EO.set\".format(Subjects[\"Subject_Number\"], Subjects[\"Subject_Number\"], Subjects[\"Subject_Number\"]), preload=True, verbose=False)\n"
     ]
    },
    {
     "name": "stdout",
     "output_type": "stream",
     "text": [
      "Subject number: sub-032373\n"
     ]
    },
    {
     "name": "stderr",
     "output_type": "stream",
     "text": [
      "/tmp/ipykernel_72612/4144421588.py:9: RuntimeWarning: Limited 1 annotation(s) that were expanding outside the data range.\n",
      "  Subjects[\"prepSignal_EO\"] = mne.io.read_raw_eeglab(\"/workspace/brail_poc3/experiments/Lemon_PreEEGLAB/{}/{}/{}_EO.set\".format(Subjects[\"Subject_Number\"], Subjects[\"Subject_Number\"], Subjects[\"Subject_Number\"]), preload=True, verbose=False)\n",
      "/tmp/ipykernel_72612/4144421588.py:9: RuntimeWarning: The data contains 'boundary' events, indicating data discontinuities. Be cautious of filtering and epoching around these events.\n",
      "  Subjects[\"prepSignal_EO\"] = mne.io.read_raw_eeglab(\"/workspace/brail_poc3/experiments/Lemon_PreEEGLAB/{}/{}/{}_EO.set\".format(Subjects[\"Subject_Number\"], Subjects[\"Subject_Number\"], Subjects[\"Subject_Number\"]), preload=True, verbose=False)\n",
      " 34%|██████████████▏                           | 68/201 [00:18<00:35,  3.78it/s]/tmp/ipykernel_72612/4144421588.py:8: RuntimeWarning: Data file name in EEG.data (sub-010088_EC.fdt) is incorrect, the file name must have changed on disk, using the correct file name (sub-032375_EC.fdt).\n",
      "  Subjects[\"prepSignal_EC\"] = mne.io.read_raw_eeglab(\"/workspace/brail_poc3/experiments/Lemon_PreEEGLAB/{}/{}/{}_EC.set\".format(Subjects[\"Subject_Number\"], Subjects[\"Subject_Number\"], Subjects[\"Subject_Number\"]), preload=True, verbose=False)\n",
      "/tmp/ipykernel_72612/4144421588.py:8: RuntimeWarning: Limited 1 annotation(s) that were expanding outside the data range.\n",
      "  Subjects[\"prepSignal_EC\"] = mne.io.read_raw_eeglab(\"/workspace/brail_poc3/experiments/Lemon_PreEEGLAB/{}/{}/{}_EC.set\".format(Subjects[\"Subject_Number\"], Subjects[\"Subject_Number\"], Subjects[\"Subject_Number\"]), preload=True, verbose=False)\n",
      "/tmp/ipykernel_72612/4144421588.py:8: RuntimeWarning: The data contains 'boundary' events, indicating data discontinuities. Be cautious of filtering and epoching around these events.\n",
      "  Subjects[\"prepSignal_EC\"] = mne.io.read_raw_eeglab(\"/workspace/brail_poc3/experiments/Lemon_PreEEGLAB/{}/{}/{}_EC.set\".format(Subjects[\"Subject_Number\"], Subjects[\"Subject_Number\"], Subjects[\"Subject_Number\"]), preload=True, verbose=False)\n",
      "/tmp/ipykernel_72612/4144421588.py:9: RuntimeWarning: Data file name in EEG.data (sub-010088_EO.fdt) is incorrect, the file name must have changed on disk, using the correct file name (sub-032375_EO.fdt).\n",
      "  Subjects[\"prepSignal_EO\"] = mne.io.read_raw_eeglab(\"/workspace/brail_poc3/experiments/Lemon_PreEEGLAB/{}/{}/{}_EO.set\".format(Subjects[\"Subject_Number\"], Subjects[\"Subject_Number\"], Subjects[\"Subject_Number\"]), preload=True, verbose=False)\n"
     ]
    },
    {
     "name": "stdout",
     "output_type": "stream",
     "text": [
      "Subject number: sub-032375\n"
     ]
    },
    {
     "name": "stderr",
     "output_type": "stream",
     "text": [
      "/tmp/ipykernel_72612/4144421588.py:9: RuntimeWarning: Limited 1 annotation(s) that were expanding outside the data range.\n",
      "  Subjects[\"prepSignal_EO\"] = mne.io.read_raw_eeglab(\"/workspace/brail_poc3/experiments/Lemon_PreEEGLAB/{}/{}/{}_EO.set\".format(Subjects[\"Subject_Number\"], Subjects[\"Subject_Number\"], Subjects[\"Subject_Number\"]), preload=True, verbose=False)\n",
      "/tmp/ipykernel_72612/4144421588.py:9: RuntimeWarning: The data contains 'boundary' events, indicating data discontinuities. Be cautious of filtering and epoching around these events.\n",
      "  Subjects[\"prepSignal_EO\"] = mne.io.read_raw_eeglab(\"/workspace/brail_poc3/experiments/Lemon_PreEEGLAB/{}/{}/{}_EO.set\".format(Subjects[\"Subject_Number\"], Subjects[\"Subject_Number\"], Subjects[\"Subject_Number\"]), preload=True, verbose=False)\n",
      " 34%|██████████████▍                           | 69/201 [00:18<00:34,  3.78it/s]/tmp/ipykernel_72612/4144421588.py:8: RuntimeWarning: Data file name in EEG.data (sub-010089_EC.fdt) is incorrect, the file name must have changed on disk, using the correct file name (sub-032376_EC.fdt).\n",
      "  Subjects[\"prepSignal_EC\"] = mne.io.read_raw_eeglab(\"/workspace/brail_poc3/experiments/Lemon_PreEEGLAB/{}/{}/{}_EC.set\".format(Subjects[\"Subject_Number\"], Subjects[\"Subject_Number\"], Subjects[\"Subject_Number\"]), preload=True, verbose=False)\n",
      "/tmp/ipykernel_72612/4144421588.py:8: RuntimeWarning: Limited 1 annotation(s) that were expanding outside the data range.\n",
      "  Subjects[\"prepSignal_EC\"] = mne.io.read_raw_eeglab(\"/workspace/brail_poc3/experiments/Lemon_PreEEGLAB/{}/{}/{}_EC.set\".format(Subjects[\"Subject_Number\"], Subjects[\"Subject_Number\"], Subjects[\"Subject_Number\"]), preload=True, verbose=False)\n",
      "/tmp/ipykernel_72612/4144421588.py:8: RuntimeWarning: The data contains 'boundary' events, indicating data discontinuities. Be cautious of filtering and epoching around these events.\n",
      "  Subjects[\"prepSignal_EC\"] = mne.io.read_raw_eeglab(\"/workspace/brail_poc3/experiments/Lemon_PreEEGLAB/{}/{}/{}_EC.set\".format(Subjects[\"Subject_Number\"], Subjects[\"Subject_Number\"], Subjects[\"Subject_Number\"]), preload=True, verbose=False)\n",
      "/tmp/ipykernel_72612/4144421588.py:9: RuntimeWarning: Data file name in EEG.data (sub-010089_EO.fdt) is incorrect, the file name must have changed on disk, using the correct file name (sub-032376_EO.fdt).\n",
      "  Subjects[\"prepSignal_EO\"] = mne.io.read_raw_eeglab(\"/workspace/brail_poc3/experiments/Lemon_PreEEGLAB/{}/{}/{}_EO.set\".format(Subjects[\"Subject_Number\"], Subjects[\"Subject_Number\"], Subjects[\"Subject_Number\"]), preload=True, verbose=False)\n"
     ]
    },
    {
     "name": "stdout",
     "output_type": "stream",
     "text": [
      "Subject number: sub-032376\n"
     ]
    },
    {
     "name": "stderr",
     "output_type": "stream",
     "text": [
      "/tmp/ipykernel_72612/4144421588.py:9: RuntimeWarning: Limited 1 annotation(s) that were expanding outside the data range.\n",
      "  Subjects[\"prepSignal_EO\"] = mne.io.read_raw_eeglab(\"/workspace/brail_poc3/experiments/Lemon_PreEEGLAB/{}/{}/{}_EO.set\".format(Subjects[\"Subject_Number\"], Subjects[\"Subject_Number\"], Subjects[\"Subject_Number\"]), preload=True, verbose=False)\n",
      "/tmp/ipykernel_72612/4144421588.py:9: RuntimeWarning: The data contains 'boundary' events, indicating data discontinuities. Be cautious of filtering and epoching around these events.\n",
      "  Subjects[\"prepSignal_EO\"] = mne.io.read_raw_eeglab(\"/workspace/brail_poc3/experiments/Lemon_PreEEGLAB/{}/{}/{}_EO.set\".format(Subjects[\"Subject_Number\"], Subjects[\"Subject_Number\"], Subjects[\"Subject_Number\"]), preload=True, verbose=False)\n",
      " 35%|██████████████▋                           | 70/201 [00:18<00:34,  3.80it/s]/tmp/ipykernel_72612/4144421588.py:8: RuntimeWarning: Data file name in EEG.data (sub-010090_EC.fdt) is incorrect, the file name must have changed on disk, using the correct file name (sub-032377_EC.fdt).\n",
      "  Subjects[\"prepSignal_EC\"] = mne.io.read_raw_eeglab(\"/workspace/brail_poc3/experiments/Lemon_PreEEGLAB/{}/{}/{}_EC.set\".format(Subjects[\"Subject_Number\"], Subjects[\"Subject_Number\"], Subjects[\"Subject_Number\"]), preload=True, verbose=False)\n",
      "/tmp/ipykernel_72612/4144421588.py:8: RuntimeWarning: Limited 1 annotation(s) that were expanding outside the data range.\n",
      "  Subjects[\"prepSignal_EC\"] = mne.io.read_raw_eeglab(\"/workspace/brail_poc3/experiments/Lemon_PreEEGLAB/{}/{}/{}_EC.set\".format(Subjects[\"Subject_Number\"], Subjects[\"Subject_Number\"], Subjects[\"Subject_Number\"]), preload=True, verbose=False)\n",
      "/tmp/ipykernel_72612/4144421588.py:8: RuntimeWarning: The data contains 'boundary' events, indicating data discontinuities. Be cautious of filtering and epoching around these events.\n",
      "  Subjects[\"prepSignal_EC\"] = mne.io.read_raw_eeglab(\"/workspace/brail_poc3/experiments/Lemon_PreEEGLAB/{}/{}/{}_EC.set\".format(Subjects[\"Subject_Number\"], Subjects[\"Subject_Number\"], Subjects[\"Subject_Number\"]), preload=True, verbose=False)\n",
      "/tmp/ipykernel_72612/4144421588.py:9: RuntimeWarning: Data file name in EEG.data (sub-010090_EO.fdt) is incorrect, the file name must have changed on disk, using the correct file name (sub-032377_EO.fdt).\n",
      "  Subjects[\"prepSignal_EO\"] = mne.io.read_raw_eeglab(\"/workspace/brail_poc3/experiments/Lemon_PreEEGLAB/{}/{}/{}_EO.set\".format(Subjects[\"Subject_Number\"], Subjects[\"Subject_Number\"], Subjects[\"Subject_Number\"]), preload=True, verbose=False)\n"
     ]
    },
    {
     "name": "stdout",
     "output_type": "stream",
     "text": [
      "Subject number: sub-032377\n"
     ]
    },
    {
     "name": "stderr",
     "output_type": "stream",
     "text": [
      "/tmp/ipykernel_72612/4144421588.py:9: RuntimeWarning: Limited 1 annotation(s) that were expanding outside the data range.\n",
      "  Subjects[\"prepSignal_EO\"] = mne.io.read_raw_eeglab(\"/workspace/brail_poc3/experiments/Lemon_PreEEGLAB/{}/{}/{}_EO.set\".format(Subjects[\"Subject_Number\"], Subjects[\"Subject_Number\"], Subjects[\"Subject_Number\"]), preload=True, verbose=False)\n",
      "/tmp/ipykernel_72612/4144421588.py:9: RuntimeWarning: The data contains 'boundary' events, indicating data discontinuities. Be cautious of filtering and epoching around these events.\n",
      "  Subjects[\"prepSignal_EO\"] = mne.io.read_raw_eeglab(\"/workspace/brail_poc3/experiments/Lemon_PreEEGLAB/{}/{}/{}_EO.set\".format(Subjects[\"Subject_Number\"], Subjects[\"Subject_Number\"], Subjects[\"Subject_Number\"]), preload=True, verbose=False)\n",
      " 35%|██████████████▊                           | 71/201 [00:19<00:34,  3.79it/s]/tmp/ipykernel_72612/4144421588.py:8: RuntimeWarning: Data file name in EEG.data (sub-010091_EC.fdt) is incorrect, the file name must have changed on disk, using the correct file name (sub-032378_EC.fdt).\n",
      "  Subjects[\"prepSignal_EC\"] = mne.io.read_raw_eeglab(\"/workspace/brail_poc3/experiments/Lemon_PreEEGLAB/{}/{}/{}_EC.set\".format(Subjects[\"Subject_Number\"], Subjects[\"Subject_Number\"], Subjects[\"Subject_Number\"]), preload=True, verbose=False)\n",
      "/tmp/ipykernel_72612/4144421588.py:8: RuntimeWarning: Limited 1 annotation(s) that were expanding outside the data range.\n",
      "  Subjects[\"prepSignal_EC\"] = mne.io.read_raw_eeglab(\"/workspace/brail_poc3/experiments/Lemon_PreEEGLAB/{}/{}/{}_EC.set\".format(Subjects[\"Subject_Number\"], Subjects[\"Subject_Number\"], Subjects[\"Subject_Number\"]), preload=True, verbose=False)\n",
      "/tmp/ipykernel_72612/4144421588.py:8: RuntimeWarning: The data contains 'boundary' events, indicating data discontinuities. Be cautious of filtering and epoching around these events.\n",
      "  Subjects[\"prepSignal_EC\"] = mne.io.read_raw_eeglab(\"/workspace/brail_poc3/experiments/Lemon_PreEEGLAB/{}/{}/{}_EC.set\".format(Subjects[\"Subject_Number\"], Subjects[\"Subject_Number\"], Subjects[\"Subject_Number\"]), preload=True, verbose=False)\n",
      "/tmp/ipykernel_72612/4144421588.py:9: RuntimeWarning: Data file name in EEG.data (sub-010091_EO.fdt) is incorrect, the file name must have changed on disk, using the correct file name (sub-032378_EO.fdt).\n",
      "  Subjects[\"prepSignal_EO\"] = mne.io.read_raw_eeglab(\"/workspace/brail_poc3/experiments/Lemon_PreEEGLAB/{}/{}/{}_EO.set\".format(Subjects[\"Subject_Number\"], Subjects[\"Subject_Number\"], Subjects[\"Subject_Number\"]), preload=True, verbose=False)\n"
     ]
    },
    {
     "name": "stdout",
     "output_type": "stream",
     "text": [
      "Subject number: sub-032378\n"
     ]
    },
    {
     "name": "stderr",
     "output_type": "stream",
     "text": [
      "/tmp/ipykernel_72612/4144421588.py:9: RuntimeWarning: Limited 1 annotation(s) that were expanding outside the data range.\n",
      "  Subjects[\"prepSignal_EO\"] = mne.io.read_raw_eeglab(\"/workspace/brail_poc3/experiments/Lemon_PreEEGLAB/{}/{}/{}_EO.set\".format(Subjects[\"Subject_Number\"], Subjects[\"Subject_Number\"], Subjects[\"Subject_Number\"]), preload=True, verbose=False)\n",
      "/tmp/ipykernel_72612/4144421588.py:9: RuntimeWarning: The data contains 'boundary' events, indicating data discontinuities. Be cautious of filtering and epoching around these events.\n",
      "  Subjects[\"prepSignal_EO\"] = mne.io.read_raw_eeglab(\"/workspace/brail_poc3/experiments/Lemon_PreEEGLAB/{}/{}/{}_EO.set\".format(Subjects[\"Subject_Number\"], Subjects[\"Subject_Number\"], Subjects[\"Subject_Number\"]), preload=True, verbose=False)\n",
      " 36%|███████████████                           | 72/201 [00:19<00:33,  3.79it/s]/tmp/ipykernel_72612/4144421588.py:8: RuntimeWarning: Data file name in EEG.data (sub-010092_EC.fdt) is incorrect, the file name must have changed on disk, using the correct file name (sub-032379_EC.fdt).\n",
      "  Subjects[\"prepSignal_EC\"] = mne.io.read_raw_eeglab(\"/workspace/brail_poc3/experiments/Lemon_PreEEGLAB/{}/{}/{}_EC.set\".format(Subjects[\"Subject_Number\"], Subjects[\"Subject_Number\"], Subjects[\"Subject_Number\"]), preload=True, verbose=False)\n",
      "/tmp/ipykernel_72612/4144421588.py:8: RuntimeWarning: Limited 1 annotation(s) that were expanding outside the data range.\n",
      "  Subjects[\"prepSignal_EC\"] = mne.io.read_raw_eeglab(\"/workspace/brail_poc3/experiments/Lemon_PreEEGLAB/{}/{}/{}_EC.set\".format(Subjects[\"Subject_Number\"], Subjects[\"Subject_Number\"], Subjects[\"Subject_Number\"]), preload=True, verbose=False)\n",
      "/tmp/ipykernel_72612/4144421588.py:8: RuntimeWarning: The data contains 'boundary' events, indicating data discontinuities. Be cautious of filtering and epoching around these events.\n",
      "  Subjects[\"prepSignal_EC\"] = mne.io.read_raw_eeglab(\"/workspace/brail_poc3/experiments/Lemon_PreEEGLAB/{}/{}/{}_EC.set\".format(Subjects[\"Subject_Number\"], Subjects[\"Subject_Number\"], Subjects[\"Subject_Number\"]), preload=True, verbose=False)\n",
      "/tmp/ipykernel_72612/4144421588.py:9: RuntimeWarning: Data file name in EEG.data (sub-010092_EO.fdt) is incorrect, the file name must have changed on disk, using the correct file name (sub-032379_EO.fdt).\n",
      "  Subjects[\"prepSignal_EO\"] = mne.io.read_raw_eeglab(\"/workspace/brail_poc3/experiments/Lemon_PreEEGLAB/{}/{}/{}_EO.set\".format(Subjects[\"Subject_Number\"], Subjects[\"Subject_Number\"], Subjects[\"Subject_Number\"]), preload=True, verbose=False)\n"
     ]
    },
    {
     "name": "stdout",
     "output_type": "stream",
     "text": [
      "Subject number: sub-032379\n"
     ]
    },
    {
     "name": "stderr",
     "output_type": "stream",
     "text": [
      "/tmp/ipykernel_72612/4144421588.py:9: RuntimeWarning: Limited 1 annotation(s) that were expanding outside the data range.\n",
      "  Subjects[\"prepSignal_EO\"] = mne.io.read_raw_eeglab(\"/workspace/brail_poc3/experiments/Lemon_PreEEGLAB/{}/{}/{}_EO.set\".format(Subjects[\"Subject_Number\"], Subjects[\"Subject_Number\"], Subjects[\"Subject_Number\"]), preload=True, verbose=False)\n",
      "/tmp/ipykernel_72612/4144421588.py:9: RuntimeWarning: The data contains 'boundary' events, indicating data discontinuities. Be cautious of filtering and epoching around these events.\n",
      "  Subjects[\"prepSignal_EO\"] = mne.io.read_raw_eeglab(\"/workspace/brail_poc3/experiments/Lemon_PreEEGLAB/{}/{}/{}_EO.set\".format(Subjects[\"Subject_Number\"], Subjects[\"Subject_Number\"], Subjects[\"Subject_Number\"]), preload=True, verbose=False)\n",
      " 36%|███████████████▎                          | 73/201 [00:19<00:33,  3.79it/s]/tmp/ipykernel_72612/4144421588.py:8: RuntimeWarning: Data file name in EEG.data (sub-010093_EC.fdt) is incorrect, the file name must have changed on disk, using the correct file name (sub-032380_EC.fdt).\n",
      "  Subjects[\"prepSignal_EC\"] = mne.io.read_raw_eeglab(\"/workspace/brail_poc3/experiments/Lemon_PreEEGLAB/{}/{}/{}_EC.set\".format(Subjects[\"Subject_Number\"], Subjects[\"Subject_Number\"], Subjects[\"Subject_Number\"]), preload=True, verbose=False)\n",
      "/tmp/ipykernel_72612/4144421588.py:8: RuntimeWarning: Limited 1 annotation(s) that were expanding outside the data range.\n",
      "  Subjects[\"prepSignal_EC\"] = mne.io.read_raw_eeglab(\"/workspace/brail_poc3/experiments/Lemon_PreEEGLAB/{}/{}/{}_EC.set\".format(Subjects[\"Subject_Number\"], Subjects[\"Subject_Number\"], Subjects[\"Subject_Number\"]), preload=True, verbose=False)\n",
      "/tmp/ipykernel_72612/4144421588.py:8: RuntimeWarning: The data contains 'boundary' events, indicating data discontinuities. Be cautious of filtering and epoching around these events.\n",
      "  Subjects[\"prepSignal_EC\"] = mne.io.read_raw_eeglab(\"/workspace/brail_poc3/experiments/Lemon_PreEEGLAB/{}/{}/{}_EC.set\".format(Subjects[\"Subject_Number\"], Subjects[\"Subject_Number\"], Subjects[\"Subject_Number\"]), preload=True, verbose=False)\n",
      "/tmp/ipykernel_72612/4144421588.py:9: RuntimeWarning: Data file name in EEG.data (sub-010093_EO.fdt) is incorrect, the file name must have changed on disk, using the correct file name (sub-032380_EO.fdt).\n",
      "  Subjects[\"prepSignal_EO\"] = mne.io.read_raw_eeglab(\"/workspace/brail_poc3/experiments/Lemon_PreEEGLAB/{}/{}/{}_EO.set\".format(Subjects[\"Subject_Number\"], Subjects[\"Subject_Number\"], Subjects[\"Subject_Number\"]), preload=True, verbose=False)\n"
     ]
    },
    {
     "name": "stdout",
     "output_type": "stream",
     "text": [
      "Subject number: sub-032380\n"
     ]
    },
    {
     "name": "stderr",
     "output_type": "stream",
     "text": [
      "/tmp/ipykernel_72612/4144421588.py:9: RuntimeWarning: Limited 1 annotation(s) that were expanding outside the data range.\n",
      "  Subjects[\"prepSignal_EO\"] = mne.io.read_raw_eeglab(\"/workspace/brail_poc3/experiments/Lemon_PreEEGLAB/{}/{}/{}_EO.set\".format(Subjects[\"Subject_Number\"], Subjects[\"Subject_Number\"], Subjects[\"Subject_Number\"]), preload=True, verbose=False)\n",
      "/tmp/ipykernel_72612/4144421588.py:9: RuntimeWarning: The data contains 'boundary' events, indicating data discontinuities. Be cautious of filtering and epoching around these events.\n",
      "  Subjects[\"prepSignal_EO\"] = mne.io.read_raw_eeglab(\"/workspace/brail_poc3/experiments/Lemon_PreEEGLAB/{}/{}/{}_EO.set\".format(Subjects[\"Subject_Number\"], Subjects[\"Subject_Number\"], Subjects[\"Subject_Number\"]), preload=True, verbose=False)\n",
      " 37%|███████████████▍                          | 74/201 [00:19<00:33,  3.80it/s]/tmp/ipykernel_72612/4144421588.py:8: RuntimeWarning: Data file name in EEG.data (sub-010094_EC.fdt) is incorrect, the file name must have changed on disk, using the correct file name (sub-032381_EC.fdt).\n",
      "  Subjects[\"prepSignal_EC\"] = mne.io.read_raw_eeglab(\"/workspace/brail_poc3/experiments/Lemon_PreEEGLAB/{}/{}/{}_EC.set\".format(Subjects[\"Subject_Number\"], Subjects[\"Subject_Number\"], Subjects[\"Subject_Number\"]), preload=True, verbose=False)\n",
      "/tmp/ipykernel_72612/4144421588.py:8: RuntimeWarning: Limited 1 annotation(s) that were expanding outside the data range.\n",
      "  Subjects[\"prepSignal_EC\"] = mne.io.read_raw_eeglab(\"/workspace/brail_poc3/experiments/Lemon_PreEEGLAB/{}/{}/{}_EC.set\".format(Subjects[\"Subject_Number\"], Subjects[\"Subject_Number\"], Subjects[\"Subject_Number\"]), preload=True, verbose=False)\n",
      "/tmp/ipykernel_72612/4144421588.py:8: RuntimeWarning: The data contains 'boundary' events, indicating data discontinuities. Be cautious of filtering and epoching around these events.\n",
      "  Subjects[\"prepSignal_EC\"] = mne.io.read_raw_eeglab(\"/workspace/brail_poc3/experiments/Lemon_PreEEGLAB/{}/{}/{}_EC.set\".format(Subjects[\"Subject_Number\"], Subjects[\"Subject_Number\"], Subjects[\"Subject_Number\"]), preload=True, verbose=False)\n",
      "/tmp/ipykernel_72612/4144421588.py:9: RuntimeWarning: Data file name in EEG.data (sub-010094_EO.fdt) is incorrect, the file name must have changed on disk, using the correct file name (sub-032381_EO.fdt).\n",
      "  Subjects[\"prepSignal_EO\"] = mne.io.read_raw_eeglab(\"/workspace/brail_poc3/experiments/Lemon_PreEEGLAB/{}/{}/{}_EO.set\".format(Subjects[\"Subject_Number\"], Subjects[\"Subject_Number\"], Subjects[\"Subject_Number\"]), preload=True, verbose=False)\n"
     ]
    },
    {
     "name": "stdout",
     "output_type": "stream",
     "text": [
      "Subject number: sub-032381\n"
     ]
    },
    {
     "name": "stderr",
     "output_type": "stream",
     "text": [
      "/tmp/ipykernel_72612/4144421588.py:9: RuntimeWarning: Limited 1 annotation(s) that were expanding outside the data range.\n",
      "  Subjects[\"prepSignal_EO\"] = mne.io.read_raw_eeglab(\"/workspace/brail_poc3/experiments/Lemon_PreEEGLAB/{}/{}/{}_EO.set\".format(Subjects[\"Subject_Number\"], Subjects[\"Subject_Number\"], Subjects[\"Subject_Number\"]), preload=True, verbose=False)\n",
      "/tmp/ipykernel_72612/4144421588.py:9: RuntimeWarning: The data contains 'boundary' events, indicating data discontinuities. Be cautious of filtering and epoching around these events.\n",
      "  Subjects[\"prepSignal_EO\"] = mne.io.read_raw_eeglab(\"/workspace/brail_poc3/experiments/Lemon_PreEEGLAB/{}/{}/{}_EO.set\".format(Subjects[\"Subject_Number\"], Subjects[\"Subject_Number\"], Subjects[\"Subject_Number\"]), preload=True, verbose=False)\n",
      " 37%|███████████████▋                          | 75/201 [00:20<00:33,  3.78it/s]/tmp/ipykernel_72612/4144421588.py:8: RuntimeWarning: Data file name in EEG.data (sub-010104_EC.fdt) is incorrect, the file name must have changed on disk, using the correct file name (sub-032383_EC.fdt).\n",
      "  Subjects[\"prepSignal_EC\"] = mne.io.read_raw_eeglab(\"/workspace/brail_poc3/experiments/Lemon_PreEEGLAB/{}/{}/{}_EC.set\".format(Subjects[\"Subject_Number\"], Subjects[\"Subject_Number\"], Subjects[\"Subject_Number\"]), preload=True, verbose=False)\n",
      "/tmp/ipykernel_72612/4144421588.py:8: RuntimeWarning: Limited 1 annotation(s) that were expanding outside the data range.\n",
      "  Subjects[\"prepSignal_EC\"] = mne.io.read_raw_eeglab(\"/workspace/brail_poc3/experiments/Lemon_PreEEGLAB/{}/{}/{}_EC.set\".format(Subjects[\"Subject_Number\"], Subjects[\"Subject_Number\"], Subjects[\"Subject_Number\"]), preload=True, verbose=False)\n",
      "/tmp/ipykernel_72612/4144421588.py:8: RuntimeWarning: The data contains 'boundary' events, indicating data discontinuities. Be cautious of filtering and epoching around these events.\n",
      "  Subjects[\"prepSignal_EC\"] = mne.io.read_raw_eeglab(\"/workspace/brail_poc3/experiments/Lemon_PreEEGLAB/{}/{}/{}_EC.set\".format(Subjects[\"Subject_Number\"], Subjects[\"Subject_Number\"], Subjects[\"Subject_Number\"]), preload=True, verbose=False)\n",
      "/tmp/ipykernel_72612/4144421588.py:9: RuntimeWarning: Data file name in EEG.data (sub-010104_EO.fdt) is incorrect, the file name must have changed on disk, using the correct file name (sub-032383_EO.fdt).\n",
      "  Subjects[\"prepSignal_EO\"] = mne.io.read_raw_eeglab(\"/workspace/brail_poc3/experiments/Lemon_PreEEGLAB/{}/{}/{}_EO.set\".format(Subjects[\"Subject_Number\"], Subjects[\"Subject_Number\"], Subjects[\"Subject_Number\"]), preload=True, verbose=False)\n"
     ]
    },
    {
     "name": "stdout",
     "output_type": "stream",
     "text": [
      "Subject number: sub-032383\n"
     ]
    },
    {
     "name": "stderr",
     "output_type": "stream",
     "text": [
      "/tmp/ipykernel_72612/4144421588.py:9: RuntimeWarning: Limited 1 annotation(s) that were expanding outside the data range.\n",
      "  Subjects[\"prepSignal_EO\"] = mne.io.read_raw_eeglab(\"/workspace/brail_poc3/experiments/Lemon_PreEEGLAB/{}/{}/{}_EO.set\".format(Subjects[\"Subject_Number\"], Subjects[\"Subject_Number\"], Subjects[\"Subject_Number\"]), preload=True, verbose=False)\n",
      "/tmp/ipykernel_72612/4144421588.py:9: RuntimeWarning: The data contains 'boundary' events, indicating data discontinuities. Be cautious of filtering and epoching around these events.\n",
      "  Subjects[\"prepSignal_EO\"] = mne.io.read_raw_eeglab(\"/workspace/brail_poc3/experiments/Lemon_PreEEGLAB/{}/{}/{}_EO.set\".format(Subjects[\"Subject_Number\"], Subjects[\"Subject_Number\"], Subjects[\"Subject_Number\"]), preload=True, verbose=False)\n",
      " 38%|███████████████▉                          | 76/201 [00:20<00:33,  3.71it/s]/tmp/ipykernel_72612/4144421588.py:8: RuntimeWarning: Data file name in EEG.data (sub-010126_EC.fdt) is incorrect, the file name must have changed on disk, using the correct file name (sub-032385_EC.fdt).\n",
      "  Subjects[\"prepSignal_EC\"] = mne.io.read_raw_eeglab(\"/workspace/brail_poc3/experiments/Lemon_PreEEGLAB/{}/{}/{}_EC.set\".format(Subjects[\"Subject_Number\"], Subjects[\"Subject_Number\"], Subjects[\"Subject_Number\"]), preload=True, verbose=False)\n",
      "/tmp/ipykernel_72612/4144421588.py:8: RuntimeWarning: Limited 1 annotation(s) that were expanding outside the data range.\n",
      "  Subjects[\"prepSignal_EC\"] = mne.io.read_raw_eeglab(\"/workspace/brail_poc3/experiments/Lemon_PreEEGLAB/{}/{}/{}_EC.set\".format(Subjects[\"Subject_Number\"], Subjects[\"Subject_Number\"], Subjects[\"Subject_Number\"]), preload=True, verbose=False)\n",
      "/tmp/ipykernel_72612/4144421588.py:8: RuntimeWarning: The data contains 'boundary' events, indicating data discontinuities. Be cautious of filtering and epoching around these events.\n",
      "  Subjects[\"prepSignal_EC\"] = mne.io.read_raw_eeglab(\"/workspace/brail_poc3/experiments/Lemon_PreEEGLAB/{}/{}/{}_EC.set\".format(Subjects[\"Subject_Number\"], Subjects[\"Subject_Number\"], Subjects[\"Subject_Number\"]), preload=True, verbose=False)\n",
      "/tmp/ipykernel_72612/4144421588.py:9: RuntimeWarning: Data file name in EEG.data (sub-010126_EO.fdt) is incorrect, the file name must have changed on disk, using the correct file name (sub-032385_EO.fdt).\n",
      "  Subjects[\"prepSignal_EO\"] = mne.io.read_raw_eeglab(\"/workspace/brail_poc3/experiments/Lemon_PreEEGLAB/{}/{}/{}_EO.set\".format(Subjects[\"Subject_Number\"], Subjects[\"Subject_Number\"], Subjects[\"Subject_Number\"]), preload=True, verbose=False)\n"
     ]
    },
    {
     "name": "stdout",
     "output_type": "stream",
     "text": [
      "Subject number: sub-032385\n"
     ]
    },
    {
     "name": "stderr",
     "output_type": "stream",
     "text": [
      "/tmp/ipykernel_72612/4144421588.py:9: RuntimeWarning: Limited 1 annotation(s) that were expanding outside the data range.\n",
      "  Subjects[\"prepSignal_EO\"] = mne.io.read_raw_eeglab(\"/workspace/brail_poc3/experiments/Lemon_PreEEGLAB/{}/{}/{}_EO.set\".format(Subjects[\"Subject_Number\"], Subjects[\"Subject_Number\"], Subjects[\"Subject_Number\"]), preload=True, verbose=False)\n",
      "/tmp/ipykernel_72612/4144421588.py:9: RuntimeWarning: The data contains 'boundary' events, indicating data discontinuities. Be cautious of filtering and epoching around these events.\n",
      "  Subjects[\"prepSignal_EO\"] = mne.io.read_raw_eeglab(\"/workspace/brail_poc3/experiments/Lemon_PreEEGLAB/{}/{}/{}_EO.set\".format(Subjects[\"Subject_Number\"], Subjects[\"Subject_Number\"], Subjects[\"Subject_Number\"]), preload=True, verbose=False)\n",
      " 38%|████████████████                          | 77/201 [00:20<00:33,  3.65it/s]/tmp/ipykernel_72612/4144421588.py:8: RuntimeWarning: Data file name in EEG.data (sub-010134_EC.fdt) is incorrect, the file name must have changed on disk, using the correct file name (sub-032386_EC.fdt).\n",
      "  Subjects[\"prepSignal_EC\"] = mne.io.read_raw_eeglab(\"/workspace/brail_poc3/experiments/Lemon_PreEEGLAB/{}/{}/{}_EC.set\".format(Subjects[\"Subject_Number\"], Subjects[\"Subject_Number\"], Subjects[\"Subject_Number\"]), preload=True, verbose=False)\n",
      "/tmp/ipykernel_72612/4144421588.py:8: RuntimeWarning: Limited 1 annotation(s) that were expanding outside the data range.\n",
      "  Subjects[\"prepSignal_EC\"] = mne.io.read_raw_eeglab(\"/workspace/brail_poc3/experiments/Lemon_PreEEGLAB/{}/{}/{}_EC.set\".format(Subjects[\"Subject_Number\"], Subjects[\"Subject_Number\"], Subjects[\"Subject_Number\"]), preload=True, verbose=False)\n",
      "/tmp/ipykernel_72612/4144421588.py:8: RuntimeWarning: The data contains 'boundary' events, indicating data discontinuities. Be cautious of filtering and epoching around these events.\n",
      "  Subjects[\"prepSignal_EC\"] = mne.io.read_raw_eeglab(\"/workspace/brail_poc3/experiments/Lemon_PreEEGLAB/{}/{}/{}_EC.set\".format(Subjects[\"Subject_Number\"], Subjects[\"Subject_Number\"], Subjects[\"Subject_Number\"]), preload=True, verbose=False)\n",
      "/tmp/ipykernel_72612/4144421588.py:9: RuntimeWarning: Data file name in EEG.data (sub-010134_EO.fdt) is incorrect, the file name must have changed on disk, using the correct file name (sub-032386_EO.fdt).\n",
      "  Subjects[\"prepSignal_EO\"] = mne.io.read_raw_eeglab(\"/workspace/brail_poc3/experiments/Lemon_PreEEGLAB/{}/{}/{}_EO.set\".format(Subjects[\"Subject_Number\"], Subjects[\"Subject_Number\"], Subjects[\"Subject_Number\"]), preload=True, verbose=False)\n"
     ]
    },
    {
     "name": "stdout",
     "output_type": "stream",
     "text": [
      "Subject number: sub-032386\n"
     ]
    },
    {
     "name": "stderr",
     "output_type": "stream",
     "text": [
      "/tmp/ipykernel_72612/4144421588.py:9: RuntimeWarning: Limited 1 annotation(s) that were expanding outside the data range.\n",
      "  Subjects[\"prepSignal_EO\"] = mne.io.read_raw_eeglab(\"/workspace/brail_poc3/experiments/Lemon_PreEEGLAB/{}/{}/{}_EO.set\".format(Subjects[\"Subject_Number\"], Subjects[\"Subject_Number\"], Subjects[\"Subject_Number\"]), preload=True, verbose=False)\n",
      "/tmp/ipykernel_72612/4144421588.py:9: RuntimeWarning: The data contains 'boundary' events, indicating data discontinuities. Be cautious of filtering and epoching around these events.\n",
      "  Subjects[\"prepSignal_EO\"] = mne.io.read_raw_eeglab(\"/workspace/brail_poc3/experiments/Lemon_PreEEGLAB/{}/{}/{}_EO.set\".format(Subjects[\"Subject_Number\"], Subjects[\"Subject_Number\"], Subjects[\"Subject_Number\"]), preload=True, verbose=False)\n",
      " 39%|████████████████▎                         | 78/201 [00:20<00:33,  3.68it/s]/tmp/ipykernel_72612/4144421588.py:8: RuntimeWarning: Data file name in EEG.data (sub-010136_EC.fdt) is incorrect, the file name must have changed on disk, using the correct file name (sub-032387_EC.fdt).\n",
      "  Subjects[\"prepSignal_EC\"] = mne.io.read_raw_eeglab(\"/workspace/brail_poc3/experiments/Lemon_PreEEGLAB/{}/{}/{}_EC.set\".format(Subjects[\"Subject_Number\"], Subjects[\"Subject_Number\"], Subjects[\"Subject_Number\"]), preload=True, verbose=False)\n",
      "/tmp/ipykernel_72612/4144421588.py:8: RuntimeWarning: Limited 1 annotation(s) that were expanding outside the data range.\n",
      "  Subjects[\"prepSignal_EC\"] = mne.io.read_raw_eeglab(\"/workspace/brail_poc3/experiments/Lemon_PreEEGLAB/{}/{}/{}_EC.set\".format(Subjects[\"Subject_Number\"], Subjects[\"Subject_Number\"], Subjects[\"Subject_Number\"]), preload=True, verbose=False)\n",
      "/tmp/ipykernel_72612/4144421588.py:8: RuntimeWarning: The data contains 'boundary' events, indicating data discontinuities. Be cautious of filtering and epoching around these events.\n",
      "  Subjects[\"prepSignal_EC\"] = mne.io.read_raw_eeglab(\"/workspace/brail_poc3/experiments/Lemon_PreEEGLAB/{}/{}/{}_EC.set\".format(Subjects[\"Subject_Number\"], Subjects[\"Subject_Number\"], Subjects[\"Subject_Number\"]), preload=True, verbose=False)\n",
      "/tmp/ipykernel_72612/4144421588.py:9: RuntimeWarning: Data file name in EEG.data (sub-010136_EO.fdt) is incorrect, the file name must have changed on disk, using the correct file name (sub-032387_EO.fdt).\n",
      "  Subjects[\"prepSignal_EO\"] = mne.io.read_raw_eeglab(\"/workspace/brail_poc3/experiments/Lemon_PreEEGLAB/{}/{}/{}_EO.set\".format(Subjects[\"Subject_Number\"], Subjects[\"Subject_Number\"], Subjects[\"Subject_Number\"]), preload=True, verbose=False)\n"
     ]
    },
    {
     "name": "stdout",
     "output_type": "stream",
     "text": [
      "Subject number: sub-032387\n"
     ]
    },
    {
     "name": "stderr",
     "output_type": "stream",
     "text": [
      "/tmp/ipykernel_72612/4144421588.py:9: RuntimeWarning: Limited 1 annotation(s) that were expanding outside the data range.\n",
      "  Subjects[\"prepSignal_EO\"] = mne.io.read_raw_eeglab(\"/workspace/brail_poc3/experiments/Lemon_PreEEGLAB/{}/{}/{}_EO.set\".format(Subjects[\"Subject_Number\"], Subjects[\"Subject_Number\"], Subjects[\"Subject_Number\"]), preload=True, verbose=False)\n",
      "/tmp/ipykernel_72612/4144421588.py:9: RuntimeWarning: The data contains 'boundary' events, indicating data discontinuities. Be cautious of filtering and epoching around these events.\n",
      "  Subjects[\"prepSignal_EO\"] = mne.io.read_raw_eeglab(\"/workspace/brail_poc3/experiments/Lemon_PreEEGLAB/{}/{}/{}_EO.set\".format(Subjects[\"Subject_Number\"], Subjects[\"Subject_Number\"], Subjects[\"Subject_Number\"]), preload=True, verbose=False)\n",
      " 39%|████████████████▌                         | 79/201 [00:21<00:33,  3.69it/s]/tmp/ipykernel_72612/4144421588.py:8: RuntimeWarning: Data file name in EEG.data (sub-010137_EC.fdt) is incorrect, the file name must have changed on disk, using the correct file name (sub-032388_EC.fdt).\n",
      "  Subjects[\"prepSignal_EC\"] = mne.io.read_raw_eeglab(\"/workspace/brail_poc3/experiments/Lemon_PreEEGLAB/{}/{}/{}_EC.set\".format(Subjects[\"Subject_Number\"], Subjects[\"Subject_Number\"], Subjects[\"Subject_Number\"]), preload=True, verbose=False)\n",
      "/tmp/ipykernel_72612/4144421588.py:8: RuntimeWarning: Limited 1 annotation(s) that were expanding outside the data range.\n",
      "  Subjects[\"prepSignal_EC\"] = mne.io.read_raw_eeglab(\"/workspace/brail_poc3/experiments/Lemon_PreEEGLAB/{}/{}/{}_EC.set\".format(Subjects[\"Subject_Number\"], Subjects[\"Subject_Number\"], Subjects[\"Subject_Number\"]), preload=True, verbose=False)\n",
      "/tmp/ipykernel_72612/4144421588.py:8: RuntimeWarning: The data contains 'boundary' events, indicating data discontinuities. Be cautious of filtering and epoching around these events.\n",
      "  Subjects[\"prepSignal_EC\"] = mne.io.read_raw_eeglab(\"/workspace/brail_poc3/experiments/Lemon_PreEEGLAB/{}/{}/{}_EC.set\".format(Subjects[\"Subject_Number\"], Subjects[\"Subject_Number\"], Subjects[\"Subject_Number\"]), preload=True, verbose=False)\n",
      "/tmp/ipykernel_72612/4144421588.py:9: RuntimeWarning: Data file name in EEG.data (sub-010137_EO.fdt) is incorrect, the file name must have changed on disk, using the correct file name (sub-032388_EO.fdt).\n",
      "  Subjects[\"prepSignal_EO\"] = mne.io.read_raw_eeglab(\"/workspace/brail_poc3/experiments/Lemon_PreEEGLAB/{}/{}/{}_EO.set\".format(Subjects[\"Subject_Number\"], Subjects[\"Subject_Number\"], Subjects[\"Subject_Number\"]), preload=True, verbose=False)\n"
     ]
    },
    {
     "name": "stdout",
     "output_type": "stream",
     "text": [
      "Subject number: sub-032388\n"
     ]
    },
    {
     "name": "stderr",
     "output_type": "stream",
     "text": [
      "/tmp/ipykernel_72612/4144421588.py:9: RuntimeWarning: Limited 1 annotation(s) that were expanding outside the data range.\n",
      "  Subjects[\"prepSignal_EO\"] = mne.io.read_raw_eeglab(\"/workspace/brail_poc3/experiments/Lemon_PreEEGLAB/{}/{}/{}_EO.set\".format(Subjects[\"Subject_Number\"], Subjects[\"Subject_Number\"], Subjects[\"Subject_Number\"]), preload=True, verbose=False)\n",
      "/tmp/ipykernel_72612/4144421588.py:9: RuntimeWarning: The data contains 'boundary' events, indicating data discontinuities. Be cautious of filtering and epoching around these events.\n",
      "  Subjects[\"prepSignal_EO\"] = mne.io.read_raw_eeglab(\"/workspace/brail_poc3/experiments/Lemon_PreEEGLAB/{}/{}/{}_EO.set\".format(Subjects[\"Subject_Number\"], Subjects[\"Subject_Number\"], Subjects[\"Subject_Number\"]), preload=True, verbose=False)\n",
      " 40%|████████████████▋                         | 80/201 [00:21<00:32,  3.71it/s]/tmp/ipykernel_72612/4144421588.py:8: RuntimeWarning: Data file name in EEG.data (sub-010138_EC.fdt) is incorrect, the file name must have changed on disk, using the correct file name (sub-032389_EC.fdt).\n",
      "  Subjects[\"prepSignal_EC\"] = mne.io.read_raw_eeglab(\"/workspace/brail_poc3/experiments/Lemon_PreEEGLAB/{}/{}/{}_EC.set\".format(Subjects[\"Subject_Number\"], Subjects[\"Subject_Number\"], Subjects[\"Subject_Number\"]), preload=True, verbose=False)\n",
      "/tmp/ipykernel_72612/4144421588.py:8: RuntimeWarning: Limited 1 annotation(s) that were expanding outside the data range.\n",
      "  Subjects[\"prepSignal_EC\"] = mne.io.read_raw_eeglab(\"/workspace/brail_poc3/experiments/Lemon_PreEEGLAB/{}/{}/{}_EC.set\".format(Subjects[\"Subject_Number\"], Subjects[\"Subject_Number\"], Subjects[\"Subject_Number\"]), preload=True, verbose=False)\n",
      "/tmp/ipykernel_72612/4144421588.py:8: RuntimeWarning: The data contains 'boundary' events, indicating data discontinuities. Be cautious of filtering and epoching around these events.\n",
      "  Subjects[\"prepSignal_EC\"] = mne.io.read_raw_eeglab(\"/workspace/brail_poc3/experiments/Lemon_PreEEGLAB/{}/{}/{}_EC.set\".format(Subjects[\"Subject_Number\"], Subjects[\"Subject_Number\"], Subjects[\"Subject_Number\"]), preload=True, verbose=False)\n",
      "/tmp/ipykernel_72612/4144421588.py:9: RuntimeWarning: Data file name in EEG.data (sub-010138_EO.fdt) is incorrect, the file name must have changed on disk, using the correct file name (sub-032389_EO.fdt).\n",
      "  Subjects[\"prepSignal_EO\"] = mne.io.read_raw_eeglab(\"/workspace/brail_poc3/experiments/Lemon_PreEEGLAB/{}/{}/{}_EO.set\".format(Subjects[\"Subject_Number\"], Subjects[\"Subject_Number\"], Subjects[\"Subject_Number\"]), preload=True, verbose=False)\n"
     ]
    },
    {
     "name": "stdout",
     "output_type": "stream",
     "text": [
      "Subject number: sub-032389\n"
     ]
    },
    {
     "name": "stderr",
     "output_type": "stream",
     "text": [
      "/tmp/ipykernel_72612/4144421588.py:9: RuntimeWarning: Limited 1 annotation(s) that were expanding outside the data range.\n",
      "  Subjects[\"prepSignal_EO\"] = mne.io.read_raw_eeglab(\"/workspace/brail_poc3/experiments/Lemon_PreEEGLAB/{}/{}/{}_EO.set\".format(Subjects[\"Subject_Number\"], Subjects[\"Subject_Number\"], Subjects[\"Subject_Number\"]), preload=True, verbose=False)\n",
      "/tmp/ipykernel_72612/4144421588.py:9: RuntimeWarning: The data contains 'boundary' events, indicating data discontinuities. Be cautious of filtering and epoching around these events.\n",
      "  Subjects[\"prepSignal_EO\"] = mne.io.read_raw_eeglab(\"/workspace/brail_poc3/experiments/Lemon_PreEEGLAB/{}/{}/{}_EO.set\".format(Subjects[\"Subject_Number\"], Subjects[\"Subject_Number\"], Subjects[\"Subject_Number\"]), preload=True, verbose=False)\n",
      " 40%|████████████████▉                         | 81/201 [00:21<00:32,  3.73it/s]/tmp/ipykernel_72612/4144421588.py:8: RuntimeWarning: Data file name in EEG.data (sub-010141_EC.fdt) is incorrect, the file name must have changed on disk, using the correct file name (sub-032390_EC.fdt).\n",
      "  Subjects[\"prepSignal_EC\"] = mne.io.read_raw_eeglab(\"/workspace/brail_poc3/experiments/Lemon_PreEEGLAB/{}/{}/{}_EC.set\".format(Subjects[\"Subject_Number\"], Subjects[\"Subject_Number\"], Subjects[\"Subject_Number\"]), preload=True, verbose=False)\n",
      "/tmp/ipykernel_72612/4144421588.py:8: RuntimeWarning: Limited 1 annotation(s) that were expanding outside the data range.\n",
      "  Subjects[\"prepSignal_EC\"] = mne.io.read_raw_eeglab(\"/workspace/brail_poc3/experiments/Lemon_PreEEGLAB/{}/{}/{}_EC.set\".format(Subjects[\"Subject_Number\"], Subjects[\"Subject_Number\"], Subjects[\"Subject_Number\"]), preload=True, verbose=False)\n",
      "/tmp/ipykernel_72612/4144421588.py:8: RuntimeWarning: The data contains 'boundary' events, indicating data discontinuities. Be cautious of filtering and epoching around these events.\n",
      "  Subjects[\"prepSignal_EC\"] = mne.io.read_raw_eeglab(\"/workspace/brail_poc3/experiments/Lemon_PreEEGLAB/{}/{}/{}_EC.set\".format(Subjects[\"Subject_Number\"], Subjects[\"Subject_Number\"], Subjects[\"Subject_Number\"]), preload=True, verbose=False)\n",
      "/tmp/ipykernel_72612/4144421588.py:9: RuntimeWarning: Data file name in EEG.data (sub-010141_EO.fdt) is incorrect, the file name must have changed on disk, using the correct file name (sub-032390_EO.fdt).\n",
      "  Subjects[\"prepSignal_EO\"] = mne.io.read_raw_eeglab(\"/workspace/brail_poc3/experiments/Lemon_PreEEGLAB/{}/{}/{}_EO.set\".format(Subjects[\"Subject_Number\"], Subjects[\"Subject_Number\"], Subjects[\"Subject_Number\"]), preload=True, verbose=False)\n"
     ]
    },
    {
     "name": "stdout",
     "output_type": "stream",
     "text": [
      "Subject number: sub-032390\n"
     ]
    },
    {
     "name": "stderr",
     "output_type": "stream",
     "text": [
      "/tmp/ipykernel_72612/4144421588.py:9: RuntimeWarning: Limited 1 annotation(s) that were expanding outside the data range.\n",
      "  Subjects[\"prepSignal_EO\"] = mne.io.read_raw_eeglab(\"/workspace/brail_poc3/experiments/Lemon_PreEEGLAB/{}/{}/{}_EO.set\".format(Subjects[\"Subject_Number\"], Subjects[\"Subject_Number\"], Subjects[\"Subject_Number\"]), preload=True, verbose=False)\n",
      "/tmp/ipykernel_72612/4144421588.py:9: RuntimeWarning: The data contains 'boundary' events, indicating data discontinuities. Be cautious of filtering and epoching around these events.\n",
      "  Subjects[\"prepSignal_EO\"] = mne.io.read_raw_eeglab(\"/workspace/brail_poc3/experiments/Lemon_PreEEGLAB/{}/{}/{}_EO.set\".format(Subjects[\"Subject_Number\"], Subjects[\"Subject_Number\"], Subjects[\"Subject_Number\"]), preload=True, verbose=False)\n",
      " 41%|█████████████████▏                        | 82/201 [00:21<00:32,  3.71it/s]/tmp/ipykernel_72612/4144421588.py:8: RuntimeWarning: Data file name in EEG.data (sub-010142_EC.fdt) is incorrect, the file name must have changed on disk, using the correct file name (sub-032391_EC.fdt).\n",
      "  Subjects[\"prepSignal_EC\"] = mne.io.read_raw_eeglab(\"/workspace/brail_poc3/experiments/Lemon_PreEEGLAB/{}/{}/{}_EC.set\".format(Subjects[\"Subject_Number\"], Subjects[\"Subject_Number\"], Subjects[\"Subject_Number\"]), preload=True, verbose=False)\n",
      "/tmp/ipykernel_72612/4144421588.py:8: RuntimeWarning: Limited 1 annotation(s) that were expanding outside the data range.\n",
      "  Subjects[\"prepSignal_EC\"] = mne.io.read_raw_eeglab(\"/workspace/brail_poc3/experiments/Lemon_PreEEGLAB/{}/{}/{}_EC.set\".format(Subjects[\"Subject_Number\"], Subjects[\"Subject_Number\"], Subjects[\"Subject_Number\"]), preload=True, verbose=False)\n",
      "/tmp/ipykernel_72612/4144421588.py:8: RuntimeWarning: The data contains 'boundary' events, indicating data discontinuities. Be cautious of filtering and epoching around these events.\n",
      "  Subjects[\"prepSignal_EC\"] = mne.io.read_raw_eeglab(\"/workspace/brail_poc3/experiments/Lemon_PreEEGLAB/{}/{}/{}_EC.set\".format(Subjects[\"Subject_Number\"], Subjects[\"Subject_Number\"], Subjects[\"Subject_Number\"]), preload=True, verbose=False)\n",
      "/tmp/ipykernel_72612/4144421588.py:9: RuntimeWarning: Data file name in EEG.data (sub-010142_EO.fdt) is incorrect, the file name must have changed on disk, using the correct file name (sub-032391_EO.fdt).\n",
      "  Subjects[\"prepSignal_EO\"] = mne.io.read_raw_eeglab(\"/workspace/brail_poc3/experiments/Lemon_PreEEGLAB/{}/{}/{}_EO.set\".format(Subjects[\"Subject_Number\"], Subjects[\"Subject_Number\"], Subjects[\"Subject_Number\"]), preload=True, verbose=False)\n"
     ]
    },
    {
     "name": "stdout",
     "output_type": "stream",
     "text": [
      "Subject number: sub-032391\n"
     ]
    },
    {
     "name": "stderr",
     "output_type": "stream",
     "text": [
      "/tmp/ipykernel_72612/4144421588.py:9: RuntimeWarning: Limited 1 annotation(s) that were expanding outside the data range.\n",
      "  Subjects[\"prepSignal_EO\"] = mne.io.read_raw_eeglab(\"/workspace/brail_poc3/experiments/Lemon_PreEEGLAB/{}/{}/{}_EO.set\".format(Subjects[\"Subject_Number\"], Subjects[\"Subject_Number\"], Subjects[\"Subject_Number\"]), preload=True, verbose=False)\n",
      "/tmp/ipykernel_72612/4144421588.py:9: RuntimeWarning: The data contains 'boundary' events, indicating data discontinuities. Be cautious of filtering and epoching around these events.\n",
      "  Subjects[\"prepSignal_EO\"] = mne.io.read_raw_eeglab(\"/workspace/brail_poc3/experiments/Lemon_PreEEGLAB/{}/{}/{}_EO.set\".format(Subjects[\"Subject_Number\"], Subjects[\"Subject_Number\"], Subjects[\"Subject_Number\"]), preload=True, verbose=False)\n",
      " 41%|█████████████████▎                        | 83/201 [00:22<00:32,  3.67it/s]/tmp/ipykernel_72612/4144421588.py:8: RuntimeWarning: Data file name in EEG.data (sub-010146_EC.fdt) is incorrect, the file name must have changed on disk, using the correct file name (sub-032392_EC.fdt).\n",
      "  Subjects[\"prepSignal_EC\"] = mne.io.read_raw_eeglab(\"/workspace/brail_poc3/experiments/Lemon_PreEEGLAB/{}/{}/{}_EC.set\".format(Subjects[\"Subject_Number\"], Subjects[\"Subject_Number\"], Subjects[\"Subject_Number\"]), preload=True, verbose=False)\n",
      "/tmp/ipykernel_72612/4144421588.py:8: RuntimeWarning: Limited 1 annotation(s) that were expanding outside the data range.\n",
      "  Subjects[\"prepSignal_EC\"] = mne.io.read_raw_eeglab(\"/workspace/brail_poc3/experiments/Lemon_PreEEGLAB/{}/{}/{}_EC.set\".format(Subjects[\"Subject_Number\"], Subjects[\"Subject_Number\"], Subjects[\"Subject_Number\"]), preload=True, verbose=False)\n",
      "/tmp/ipykernel_72612/4144421588.py:8: RuntimeWarning: The data contains 'boundary' events, indicating data discontinuities. Be cautious of filtering and epoching around these events.\n",
      "  Subjects[\"prepSignal_EC\"] = mne.io.read_raw_eeglab(\"/workspace/brail_poc3/experiments/Lemon_PreEEGLAB/{}/{}/{}_EC.set\".format(Subjects[\"Subject_Number\"], Subjects[\"Subject_Number\"], Subjects[\"Subject_Number\"]), preload=True, verbose=False)\n",
      "/tmp/ipykernel_72612/4144421588.py:9: RuntimeWarning: Data file name in EEG.data (sub-010146_EO.fdt) is incorrect, the file name must have changed on disk, using the correct file name (sub-032392_EO.fdt).\n",
      "  Subjects[\"prepSignal_EO\"] = mne.io.read_raw_eeglab(\"/workspace/brail_poc3/experiments/Lemon_PreEEGLAB/{}/{}/{}_EO.set\".format(Subjects[\"Subject_Number\"], Subjects[\"Subject_Number\"], Subjects[\"Subject_Number\"]), preload=True, verbose=False)\n"
     ]
    },
    {
     "name": "stdout",
     "output_type": "stream",
     "text": [
      "Subject number: sub-032392\n"
     ]
    },
    {
     "name": "stderr",
     "output_type": "stream",
     "text": [
      "/tmp/ipykernel_72612/4144421588.py:9: RuntimeWarning: Limited 1 annotation(s) that were expanding outside the data range.\n",
      "  Subjects[\"prepSignal_EO\"] = mne.io.read_raw_eeglab(\"/workspace/brail_poc3/experiments/Lemon_PreEEGLAB/{}/{}/{}_EO.set\".format(Subjects[\"Subject_Number\"], Subjects[\"Subject_Number\"], Subjects[\"Subject_Number\"]), preload=True, verbose=False)\n",
      "/tmp/ipykernel_72612/4144421588.py:9: RuntimeWarning: The data contains 'boundary' events, indicating data discontinuities. Be cautious of filtering and epoching around these events.\n",
      "  Subjects[\"prepSignal_EO\"] = mne.io.read_raw_eeglab(\"/workspace/brail_poc3/experiments/Lemon_PreEEGLAB/{}/{}/{}_EO.set\".format(Subjects[\"Subject_Number\"], Subjects[\"Subject_Number\"], Subjects[\"Subject_Number\"]), preload=True, verbose=False)\n",
      " 42%|█████████████████▌                        | 84/201 [00:22<00:31,  3.68it/s]/tmp/ipykernel_72612/4144421588.py:8: RuntimeWarning: Data file name in EEG.data (sub-010148_EC.fdt) is incorrect, the file name must have changed on disk, using the correct file name (sub-032393_EC.fdt).\n",
      "  Subjects[\"prepSignal_EC\"] = mne.io.read_raw_eeglab(\"/workspace/brail_poc3/experiments/Lemon_PreEEGLAB/{}/{}/{}_EC.set\".format(Subjects[\"Subject_Number\"], Subjects[\"Subject_Number\"], Subjects[\"Subject_Number\"]), preload=True, verbose=False)\n",
      "/tmp/ipykernel_72612/4144421588.py:8: RuntimeWarning: Limited 1 annotation(s) that were expanding outside the data range.\n",
      "  Subjects[\"prepSignal_EC\"] = mne.io.read_raw_eeglab(\"/workspace/brail_poc3/experiments/Lemon_PreEEGLAB/{}/{}/{}_EC.set\".format(Subjects[\"Subject_Number\"], Subjects[\"Subject_Number\"], Subjects[\"Subject_Number\"]), preload=True, verbose=False)\n",
      "/tmp/ipykernel_72612/4144421588.py:8: RuntimeWarning: The data contains 'boundary' events, indicating data discontinuities. Be cautious of filtering and epoching around these events.\n",
      "  Subjects[\"prepSignal_EC\"] = mne.io.read_raw_eeglab(\"/workspace/brail_poc3/experiments/Lemon_PreEEGLAB/{}/{}/{}_EC.set\".format(Subjects[\"Subject_Number\"], Subjects[\"Subject_Number\"], Subjects[\"Subject_Number\"]), preload=True, verbose=False)\n",
      "/tmp/ipykernel_72612/4144421588.py:9: RuntimeWarning: Data file name in EEG.data (sub-010148_EO.fdt) is incorrect, the file name must have changed on disk, using the correct file name (sub-032393_EO.fdt).\n",
      "  Subjects[\"prepSignal_EO\"] = mne.io.read_raw_eeglab(\"/workspace/brail_poc3/experiments/Lemon_PreEEGLAB/{}/{}/{}_EO.set\".format(Subjects[\"Subject_Number\"], Subjects[\"Subject_Number\"], Subjects[\"Subject_Number\"]), preload=True, verbose=False)\n"
     ]
    },
    {
     "name": "stdout",
     "output_type": "stream",
     "text": [
      "Subject number: sub-032393\n"
     ]
    },
    {
     "name": "stderr",
     "output_type": "stream",
     "text": [
      "/tmp/ipykernel_72612/4144421588.py:9: RuntimeWarning: Limited 1 annotation(s) that were expanding outside the data range.\n",
      "  Subjects[\"prepSignal_EO\"] = mne.io.read_raw_eeglab(\"/workspace/brail_poc3/experiments/Lemon_PreEEGLAB/{}/{}/{}_EO.set\".format(Subjects[\"Subject_Number\"], Subjects[\"Subject_Number\"], Subjects[\"Subject_Number\"]), preload=True, verbose=False)\n",
      "/tmp/ipykernel_72612/4144421588.py:9: RuntimeWarning: The data contains 'boundary' events, indicating data discontinuities. Be cautious of filtering and epoching around these events.\n",
      "  Subjects[\"prepSignal_EO\"] = mne.io.read_raw_eeglab(\"/workspace/brail_poc3/experiments/Lemon_PreEEGLAB/{}/{}/{}_EO.set\".format(Subjects[\"Subject_Number\"], Subjects[\"Subject_Number\"], Subjects[\"Subject_Number\"]), preload=True, verbose=False)\n",
      " 42%|█████████████████▊                        | 85/201 [00:22<00:31,  3.71it/s]/tmp/ipykernel_72612/4144421588.py:8: RuntimeWarning: Data file name in EEG.data (sub-010150_EC.fdt) is incorrect, the file name must have changed on disk, using the correct file name (sub-032394_EC.fdt).\n",
      "  Subjects[\"prepSignal_EC\"] = mne.io.read_raw_eeglab(\"/workspace/brail_poc3/experiments/Lemon_PreEEGLAB/{}/{}/{}_EC.set\".format(Subjects[\"Subject_Number\"], Subjects[\"Subject_Number\"], Subjects[\"Subject_Number\"]), preload=True, verbose=False)\n",
      "/tmp/ipykernel_72612/4144421588.py:8: RuntimeWarning: Limited 1 annotation(s) that were expanding outside the data range.\n",
      "  Subjects[\"prepSignal_EC\"] = mne.io.read_raw_eeglab(\"/workspace/brail_poc3/experiments/Lemon_PreEEGLAB/{}/{}/{}_EC.set\".format(Subjects[\"Subject_Number\"], Subjects[\"Subject_Number\"], Subjects[\"Subject_Number\"]), preload=True, verbose=False)\n",
      "/tmp/ipykernel_72612/4144421588.py:8: RuntimeWarning: The data contains 'boundary' events, indicating data discontinuities. Be cautious of filtering and epoching around these events.\n",
      "  Subjects[\"prepSignal_EC\"] = mne.io.read_raw_eeglab(\"/workspace/brail_poc3/experiments/Lemon_PreEEGLAB/{}/{}/{}_EC.set\".format(Subjects[\"Subject_Number\"], Subjects[\"Subject_Number\"], Subjects[\"Subject_Number\"]), preload=True, verbose=False)\n",
      "/tmp/ipykernel_72612/4144421588.py:9: RuntimeWarning: Data file name in EEG.data (sub-010150_EO.fdt) is incorrect, the file name must have changed on disk, using the correct file name (sub-032394_EO.fdt).\n",
      "  Subjects[\"prepSignal_EO\"] = mne.io.read_raw_eeglab(\"/workspace/brail_poc3/experiments/Lemon_PreEEGLAB/{}/{}/{}_EO.set\".format(Subjects[\"Subject_Number\"], Subjects[\"Subject_Number\"], Subjects[\"Subject_Number\"]), preload=True, verbose=False)\n"
     ]
    },
    {
     "name": "stdout",
     "output_type": "stream",
     "text": [
      "Subject number: sub-032394\n"
     ]
    },
    {
     "name": "stderr",
     "output_type": "stream",
     "text": [
      "/tmp/ipykernel_72612/4144421588.py:9: RuntimeWarning: Limited 1 annotation(s) that were expanding outside the data range.\n",
      "  Subjects[\"prepSignal_EO\"] = mne.io.read_raw_eeglab(\"/workspace/brail_poc3/experiments/Lemon_PreEEGLAB/{}/{}/{}_EO.set\".format(Subjects[\"Subject_Number\"], Subjects[\"Subject_Number\"], Subjects[\"Subject_Number\"]), preload=True, verbose=False)\n",
      "/tmp/ipykernel_72612/4144421588.py:9: RuntimeWarning: The data contains 'boundary' events, indicating data discontinuities. Be cautious of filtering and epoching around these events.\n",
      "  Subjects[\"prepSignal_EO\"] = mne.io.read_raw_eeglab(\"/workspace/brail_poc3/experiments/Lemon_PreEEGLAB/{}/{}/{}_EO.set\".format(Subjects[\"Subject_Number\"], Subjects[\"Subject_Number\"], Subjects[\"Subject_Number\"]), preload=True, verbose=False)\n",
      " 43%|█████████████████▉                        | 86/201 [00:23<00:31,  3.71it/s]/tmp/ipykernel_72612/4144421588.py:8: RuntimeWarning: Data file name in EEG.data (sub-010152_EC.fdt) is incorrect, the file name must have changed on disk, using the correct file name (sub-032395_EC.fdt).\n",
      "  Subjects[\"prepSignal_EC\"] = mne.io.read_raw_eeglab(\"/workspace/brail_poc3/experiments/Lemon_PreEEGLAB/{}/{}/{}_EC.set\".format(Subjects[\"Subject_Number\"], Subjects[\"Subject_Number\"], Subjects[\"Subject_Number\"]), preload=True, verbose=False)\n",
      "/tmp/ipykernel_72612/4144421588.py:8: RuntimeWarning: Limited 1 annotation(s) that were expanding outside the data range.\n",
      "  Subjects[\"prepSignal_EC\"] = mne.io.read_raw_eeglab(\"/workspace/brail_poc3/experiments/Lemon_PreEEGLAB/{}/{}/{}_EC.set\".format(Subjects[\"Subject_Number\"], Subjects[\"Subject_Number\"], Subjects[\"Subject_Number\"]), preload=True, verbose=False)\n",
      "/tmp/ipykernel_72612/4144421588.py:8: RuntimeWarning: The data contains 'boundary' events, indicating data discontinuities. Be cautious of filtering and epoching around these events.\n",
      "  Subjects[\"prepSignal_EC\"] = mne.io.read_raw_eeglab(\"/workspace/brail_poc3/experiments/Lemon_PreEEGLAB/{}/{}/{}_EC.set\".format(Subjects[\"Subject_Number\"], Subjects[\"Subject_Number\"], Subjects[\"Subject_Number\"]), preload=True, verbose=False)\n",
      "/tmp/ipykernel_72612/4144421588.py:9: RuntimeWarning: Data file name in EEG.data (sub-010152_EO.fdt) is incorrect, the file name must have changed on disk, using the correct file name (sub-032395_EO.fdt).\n",
      "  Subjects[\"prepSignal_EO\"] = mne.io.read_raw_eeglab(\"/workspace/brail_poc3/experiments/Lemon_PreEEGLAB/{}/{}/{}_EO.set\".format(Subjects[\"Subject_Number\"], Subjects[\"Subject_Number\"], Subjects[\"Subject_Number\"]), preload=True, verbose=False)\n"
     ]
    },
    {
     "name": "stdout",
     "output_type": "stream",
     "text": [
      "Subject number: sub-032395\n"
     ]
    },
    {
     "name": "stderr",
     "output_type": "stream",
     "text": [
      "/tmp/ipykernel_72612/4144421588.py:9: RuntimeWarning: Limited 1 annotation(s) that were expanding outside the data range.\n",
      "  Subjects[\"prepSignal_EO\"] = mne.io.read_raw_eeglab(\"/workspace/brail_poc3/experiments/Lemon_PreEEGLAB/{}/{}/{}_EO.set\".format(Subjects[\"Subject_Number\"], Subjects[\"Subject_Number\"], Subjects[\"Subject_Number\"]), preload=True, verbose=False)\n",
      "/tmp/ipykernel_72612/4144421588.py:9: RuntimeWarning: The data contains 'boundary' events, indicating data discontinuities. Be cautious of filtering and epoching around these events.\n",
      "  Subjects[\"prepSignal_EO\"] = mne.io.read_raw_eeglab(\"/workspace/brail_poc3/experiments/Lemon_PreEEGLAB/{}/{}/{}_EO.set\".format(Subjects[\"Subject_Number\"], Subjects[\"Subject_Number\"], Subjects[\"Subject_Number\"]), preload=True, verbose=False)\n",
      " 43%|██████████████████▏                       | 87/201 [00:23<00:31,  3.61it/s]/tmp/ipykernel_72612/4144421588.py:8: RuntimeWarning: Data file name in EEG.data (sub-010155_EC.fdt) is incorrect, the file name must have changed on disk, using the correct file name (sub-032396_EC.fdt).\n",
      "  Subjects[\"prepSignal_EC\"] = mne.io.read_raw_eeglab(\"/workspace/brail_poc3/experiments/Lemon_PreEEGLAB/{}/{}/{}_EC.set\".format(Subjects[\"Subject_Number\"], Subjects[\"Subject_Number\"], Subjects[\"Subject_Number\"]), preload=True, verbose=False)\n",
      "/tmp/ipykernel_72612/4144421588.py:8: RuntimeWarning: Limited 1 annotation(s) that were expanding outside the data range.\n",
      "  Subjects[\"prepSignal_EC\"] = mne.io.read_raw_eeglab(\"/workspace/brail_poc3/experiments/Lemon_PreEEGLAB/{}/{}/{}_EC.set\".format(Subjects[\"Subject_Number\"], Subjects[\"Subject_Number\"], Subjects[\"Subject_Number\"]), preload=True, verbose=False)\n",
      "/tmp/ipykernel_72612/4144421588.py:8: RuntimeWarning: The data contains 'boundary' events, indicating data discontinuities. Be cautious of filtering and epoching around these events.\n",
      "  Subjects[\"prepSignal_EC\"] = mne.io.read_raw_eeglab(\"/workspace/brail_poc3/experiments/Lemon_PreEEGLAB/{}/{}/{}_EC.set\".format(Subjects[\"Subject_Number\"], Subjects[\"Subject_Number\"], Subjects[\"Subject_Number\"]), preload=True, verbose=False)\n",
      "/tmp/ipykernel_72612/4144421588.py:9: RuntimeWarning: Data file name in EEG.data (sub-010155_EO.fdt) is incorrect, the file name must have changed on disk, using the correct file name (sub-032396_EO.fdt).\n",
      "  Subjects[\"prepSignal_EO\"] = mne.io.read_raw_eeglab(\"/workspace/brail_poc3/experiments/Lemon_PreEEGLAB/{}/{}/{}_EO.set\".format(Subjects[\"Subject_Number\"], Subjects[\"Subject_Number\"], Subjects[\"Subject_Number\"]), preload=True, verbose=False)\n"
     ]
    },
    {
     "name": "stdout",
     "output_type": "stream",
     "text": [
      "Subject number: sub-032396\n"
     ]
    },
    {
     "name": "stderr",
     "output_type": "stream",
     "text": [
      "/tmp/ipykernel_72612/4144421588.py:9: RuntimeWarning: Limited 1 annotation(s) that were expanding outside the data range.\n",
      "  Subjects[\"prepSignal_EO\"] = mne.io.read_raw_eeglab(\"/workspace/brail_poc3/experiments/Lemon_PreEEGLAB/{}/{}/{}_EO.set\".format(Subjects[\"Subject_Number\"], Subjects[\"Subject_Number\"], Subjects[\"Subject_Number\"]), preload=True, verbose=False)\n",
      "/tmp/ipykernel_72612/4144421588.py:9: RuntimeWarning: The data contains 'boundary' events, indicating data discontinuities. Be cautious of filtering and epoching around these events.\n",
      "  Subjects[\"prepSignal_EO\"] = mne.io.read_raw_eeglab(\"/workspace/brail_poc3/experiments/Lemon_PreEEGLAB/{}/{}/{}_EO.set\".format(Subjects[\"Subject_Number\"], Subjects[\"Subject_Number\"], Subjects[\"Subject_Number\"]), preload=True, verbose=False)\n",
      " 44%|██████████████████▍                       | 88/201 [00:23<00:30,  3.65it/s]/tmp/ipykernel_72612/4144421588.py:8: RuntimeWarning: Data file name in EEG.data (sub-010157_EC.fdt) is incorrect, the file name must have changed on disk, using the correct file name (sub-032397_EC.fdt).\n",
      "  Subjects[\"prepSignal_EC\"] = mne.io.read_raw_eeglab(\"/workspace/brail_poc3/experiments/Lemon_PreEEGLAB/{}/{}/{}_EC.set\".format(Subjects[\"Subject_Number\"], Subjects[\"Subject_Number\"], Subjects[\"Subject_Number\"]), preload=True, verbose=False)\n",
      "/tmp/ipykernel_72612/4144421588.py:8: RuntimeWarning: Limited 1 annotation(s) that were expanding outside the data range.\n",
      "  Subjects[\"prepSignal_EC\"] = mne.io.read_raw_eeglab(\"/workspace/brail_poc3/experiments/Lemon_PreEEGLAB/{}/{}/{}_EC.set\".format(Subjects[\"Subject_Number\"], Subjects[\"Subject_Number\"], Subjects[\"Subject_Number\"]), preload=True, verbose=False)\n",
      "/tmp/ipykernel_72612/4144421588.py:8: RuntimeWarning: The data contains 'boundary' events, indicating data discontinuities. Be cautious of filtering and epoching around these events.\n",
      "  Subjects[\"prepSignal_EC\"] = mne.io.read_raw_eeglab(\"/workspace/brail_poc3/experiments/Lemon_PreEEGLAB/{}/{}/{}_EC.set\".format(Subjects[\"Subject_Number\"], Subjects[\"Subject_Number\"], Subjects[\"Subject_Number\"]), preload=True, verbose=False)\n",
      "/tmp/ipykernel_72612/4144421588.py:9: RuntimeWarning: Data file name in EEG.data (sub-010157_EO.fdt) is incorrect, the file name must have changed on disk, using the correct file name (sub-032397_EO.fdt).\n",
      "  Subjects[\"prepSignal_EO\"] = mne.io.read_raw_eeglab(\"/workspace/brail_poc3/experiments/Lemon_PreEEGLAB/{}/{}/{}_EO.set\".format(Subjects[\"Subject_Number\"], Subjects[\"Subject_Number\"], Subjects[\"Subject_Number\"]), preload=True, verbose=False)\n"
     ]
    },
    {
     "name": "stdout",
     "output_type": "stream",
     "text": [
      "Subject number: sub-032397\n"
     ]
    },
    {
     "name": "stderr",
     "output_type": "stream",
     "text": [
      "/tmp/ipykernel_72612/4144421588.py:9: RuntimeWarning: Limited 1 annotation(s) that were expanding outside the data range.\n",
      "  Subjects[\"prepSignal_EO\"] = mne.io.read_raw_eeglab(\"/workspace/brail_poc3/experiments/Lemon_PreEEGLAB/{}/{}/{}_EO.set\".format(Subjects[\"Subject_Number\"], Subjects[\"Subject_Number\"], Subjects[\"Subject_Number\"]), preload=True, verbose=False)\n",
      "/tmp/ipykernel_72612/4144421588.py:9: RuntimeWarning: The data contains 'boundary' events, indicating data discontinuities. Be cautious of filtering and epoching around these events.\n",
      "  Subjects[\"prepSignal_EO\"] = mne.io.read_raw_eeglab(\"/workspace/brail_poc3/experiments/Lemon_PreEEGLAB/{}/{}/{}_EO.set\".format(Subjects[\"Subject_Number\"], Subjects[\"Subject_Number\"], Subjects[\"Subject_Number\"]), preload=True, verbose=False)\n",
      " 44%|██████████████████▌                       | 89/201 [00:23<00:30,  3.71it/s]/tmp/ipykernel_72612/4144421588.py:8: RuntimeWarning: Data file name in EEG.data (sub-010162_EC.fdt) is incorrect, the file name must have changed on disk, using the correct file name (sub-032398_EC.fdt).\n",
      "  Subjects[\"prepSignal_EC\"] = mne.io.read_raw_eeglab(\"/workspace/brail_poc3/experiments/Lemon_PreEEGLAB/{}/{}/{}_EC.set\".format(Subjects[\"Subject_Number\"], Subjects[\"Subject_Number\"], Subjects[\"Subject_Number\"]), preload=True, verbose=False)\n",
      "/tmp/ipykernel_72612/4144421588.py:8: RuntimeWarning: Limited 1 annotation(s) that were expanding outside the data range.\n",
      "  Subjects[\"prepSignal_EC\"] = mne.io.read_raw_eeglab(\"/workspace/brail_poc3/experiments/Lemon_PreEEGLAB/{}/{}/{}_EC.set\".format(Subjects[\"Subject_Number\"], Subjects[\"Subject_Number\"], Subjects[\"Subject_Number\"]), preload=True, verbose=False)\n",
      "/tmp/ipykernel_72612/4144421588.py:8: RuntimeWarning: The data contains 'boundary' events, indicating data discontinuities. Be cautious of filtering and epoching around these events.\n",
      "  Subjects[\"prepSignal_EC\"] = mne.io.read_raw_eeglab(\"/workspace/brail_poc3/experiments/Lemon_PreEEGLAB/{}/{}/{}_EC.set\".format(Subjects[\"Subject_Number\"], Subjects[\"Subject_Number\"], Subjects[\"Subject_Number\"]), preload=True, verbose=False)\n",
      "/tmp/ipykernel_72612/4144421588.py:9: RuntimeWarning: Data file name in EEG.data (sub-010162_EO.fdt) is incorrect, the file name must have changed on disk, using the correct file name (sub-032398_EO.fdt).\n",
      "  Subjects[\"prepSignal_EO\"] = mne.io.read_raw_eeglab(\"/workspace/brail_poc3/experiments/Lemon_PreEEGLAB/{}/{}/{}_EO.set\".format(Subjects[\"Subject_Number\"], Subjects[\"Subject_Number\"], Subjects[\"Subject_Number\"]), preload=True, verbose=False)\n"
     ]
    },
    {
     "name": "stdout",
     "output_type": "stream",
     "text": [
      "Subject number: sub-032398\n"
     ]
    },
    {
     "name": "stderr",
     "output_type": "stream",
     "text": [
      "/tmp/ipykernel_72612/4144421588.py:9: RuntimeWarning: Limited 1 annotation(s) that were expanding outside the data range.\n",
      "  Subjects[\"prepSignal_EO\"] = mne.io.read_raw_eeglab(\"/workspace/brail_poc3/experiments/Lemon_PreEEGLAB/{}/{}/{}_EO.set\".format(Subjects[\"Subject_Number\"], Subjects[\"Subject_Number\"], Subjects[\"Subject_Number\"]), preload=True, verbose=False)\n",
      "/tmp/ipykernel_72612/4144421588.py:9: RuntimeWarning: The data contains 'boundary' events, indicating data discontinuities. Be cautious of filtering and epoching around these events.\n",
      "  Subjects[\"prepSignal_EO\"] = mne.io.read_raw_eeglab(\"/workspace/brail_poc3/experiments/Lemon_PreEEGLAB/{}/{}/{}_EO.set\".format(Subjects[\"Subject_Number\"], Subjects[\"Subject_Number\"], Subjects[\"Subject_Number\"]), preload=True, verbose=False)\n",
      " 45%|██████████████████▊                       | 90/201 [00:24<00:30,  3.66it/s]/tmp/ipykernel_72612/4144421588.py:8: RuntimeWarning: Data file name in EEG.data (sub-010163_EC.fdt) is incorrect, the file name must have changed on disk, using the correct file name (sub-032399_EC.fdt).\n",
      "  Subjects[\"prepSignal_EC\"] = mne.io.read_raw_eeglab(\"/workspace/brail_poc3/experiments/Lemon_PreEEGLAB/{}/{}/{}_EC.set\".format(Subjects[\"Subject_Number\"], Subjects[\"Subject_Number\"], Subjects[\"Subject_Number\"]), preload=True, verbose=False)\n",
      "/tmp/ipykernel_72612/4144421588.py:8: RuntimeWarning: Limited 1 annotation(s) that were expanding outside the data range.\n",
      "  Subjects[\"prepSignal_EC\"] = mne.io.read_raw_eeglab(\"/workspace/brail_poc3/experiments/Lemon_PreEEGLAB/{}/{}/{}_EC.set\".format(Subjects[\"Subject_Number\"], Subjects[\"Subject_Number\"], Subjects[\"Subject_Number\"]), preload=True, verbose=False)\n",
      "/tmp/ipykernel_72612/4144421588.py:8: RuntimeWarning: The data contains 'boundary' events, indicating data discontinuities. Be cautious of filtering and epoching around these events.\n",
      "  Subjects[\"prepSignal_EC\"] = mne.io.read_raw_eeglab(\"/workspace/brail_poc3/experiments/Lemon_PreEEGLAB/{}/{}/{}_EC.set\".format(Subjects[\"Subject_Number\"], Subjects[\"Subject_Number\"], Subjects[\"Subject_Number\"]), preload=True, verbose=False)\n",
      "/tmp/ipykernel_72612/4144421588.py:9: RuntimeWarning: Data file name in EEG.data (sub-010163_EO.fdt) is incorrect, the file name must have changed on disk, using the correct file name (sub-032399_EO.fdt).\n",
      "  Subjects[\"prepSignal_EO\"] = mne.io.read_raw_eeglab(\"/workspace/brail_poc3/experiments/Lemon_PreEEGLAB/{}/{}/{}_EO.set\".format(Subjects[\"Subject_Number\"], Subjects[\"Subject_Number\"], Subjects[\"Subject_Number\"]), preload=True, verbose=False)\n"
     ]
    },
    {
     "name": "stdout",
     "output_type": "stream",
     "text": [
      "Subject number: sub-032399\n"
     ]
    },
    {
     "name": "stderr",
     "output_type": "stream",
     "text": [
      "/tmp/ipykernel_72612/4144421588.py:9: RuntimeWarning: Limited 1 annotation(s) that were expanding outside the data range.\n",
      "  Subjects[\"prepSignal_EO\"] = mne.io.read_raw_eeglab(\"/workspace/brail_poc3/experiments/Lemon_PreEEGLAB/{}/{}/{}_EO.set\".format(Subjects[\"Subject_Number\"], Subjects[\"Subject_Number\"], Subjects[\"Subject_Number\"]), preload=True, verbose=False)\n",
      "/tmp/ipykernel_72612/4144421588.py:9: RuntimeWarning: The data contains 'boundary' events, indicating data discontinuities. Be cautious of filtering and epoching around these events.\n",
      "  Subjects[\"prepSignal_EO\"] = mne.io.read_raw_eeglab(\"/workspace/brail_poc3/experiments/Lemon_PreEEGLAB/{}/{}/{}_EO.set\".format(Subjects[\"Subject_Number\"], Subjects[\"Subject_Number\"], Subjects[\"Subject_Number\"]), preload=True, verbose=False)\n",
      " 45%|███████████████████                       | 91/201 [00:24<00:29,  3.70it/s]/tmp/ipykernel_72612/4144421588.py:8: RuntimeWarning: Data file name in EEG.data (sub-010164_EC.fdt) is incorrect, the file name must have changed on disk, using the correct file name (sub-032400_EC.fdt).\n",
      "  Subjects[\"prepSignal_EC\"] = mne.io.read_raw_eeglab(\"/workspace/brail_poc3/experiments/Lemon_PreEEGLAB/{}/{}/{}_EC.set\".format(Subjects[\"Subject_Number\"], Subjects[\"Subject_Number\"], Subjects[\"Subject_Number\"]), preload=True, verbose=False)\n",
      "/tmp/ipykernel_72612/4144421588.py:8: RuntimeWarning: Limited 1 annotation(s) that were expanding outside the data range.\n",
      "  Subjects[\"prepSignal_EC\"] = mne.io.read_raw_eeglab(\"/workspace/brail_poc3/experiments/Lemon_PreEEGLAB/{}/{}/{}_EC.set\".format(Subjects[\"Subject_Number\"], Subjects[\"Subject_Number\"], Subjects[\"Subject_Number\"]), preload=True, verbose=False)\n",
      "/tmp/ipykernel_72612/4144421588.py:8: RuntimeWarning: The data contains 'boundary' events, indicating data discontinuities. Be cautious of filtering and epoching around these events.\n",
      "  Subjects[\"prepSignal_EC\"] = mne.io.read_raw_eeglab(\"/workspace/brail_poc3/experiments/Lemon_PreEEGLAB/{}/{}/{}_EC.set\".format(Subjects[\"Subject_Number\"], Subjects[\"Subject_Number\"], Subjects[\"Subject_Number\"]), preload=True, verbose=False)\n",
      "/tmp/ipykernel_72612/4144421588.py:9: RuntimeWarning: Data file name in EEG.data (sub-010164_EO.fdt) is incorrect, the file name must have changed on disk, using the correct file name (sub-032400_EO.fdt).\n",
      "  Subjects[\"prepSignal_EO\"] = mne.io.read_raw_eeglab(\"/workspace/brail_poc3/experiments/Lemon_PreEEGLAB/{}/{}/{}_EO.set\".format(Subjects[\"Subject_Number\"], Subjects[\"Subject_Number\"], Subjects[\"Subject_Number\"]), preload=True, verbose=False)\n"
     ]
    },
    {
     "name": "stdout",
     "output_type": "stream",
     "text": [
      "Subject number: sub-032400\n"
     ]
    },
    {
     "name": "stderr",
     "output_type": "stream",
     "text": [
      "/tmp/ipykernel_72612/4144421588.py:9: RuntimeWarning: Limited 1 annotation(s) that were expanding outside the data range.\n",
      "  Subjects[\"prepSignal_EO\"] = mne.io.read_raw_eeglab(\"/workspace/brail_poc3/experiments/Lemon_PreEEGLAB/{}/{}/{}_EO.set\".format(Subjects[\"Subject_Number\"], Subjects[\"Subject_Number\"], Subjects[\"Subject_Number\"]), preload=True, verbose=False)\n",
      "/tmp/ipykernel_72612/4144421588.py:9: RuntimeWarning: The data contains 'boundary' events, indicating data discontinuities. Be cautious of filtering and epoching around these events.\n",
      "  Subjects[\"prepSignal_EO\"] = mne.io.read_raw_eeglab(\"/workspace/brail_poc3/experiments/Lemon_PreEEGLAB/{}/{}/{}_EO.set\".format(Subjects[\"Subject_Number\"], Subjects[\"Subject_Number\"], Subjects[\"Subject_Number\"]), preload=True, verbose=False)\n",
      " 46%|███████████████████▏                      | 92/201 [00:24<00:29,  3.73it/s]/tmp/ipykernel_72612/4144421588.py:8: RuntimeWarning: Data file name in EEG.data (sub-010165_EC.fdt) is incorrect, the file name must have changed on disk, using the correct file name (sub-032401_EC.fdt).\n",
      "  Subjects[\"prepSignal_EC\"] = mne.io.read_raw_eeglab(\"/workspace/brail_poc3/experiments/Lemon_PreEEGLAB/{}/{}/{}_EC.set\".format(Subjects[\"Subject_Number\"], Subjects[\"Subject_Number\"], Subjects[\"Subject_Number\"]), preload=True, verbose=False)\n",
      "/tmp/ipykernel_72612/4144421588.py:8: RuntimeWarning: Limited 1 annotation(s) that were expanding outside the data range.\n",
      "  Subjects[\"prepSignal_EC\"] = mne.io.read_raw_eeglab(\"/workspace/brail_poc3/experiments/Lemon_PreEEGLAB/{}/{}/{}_EC.set\".format(Subjects[\"Subject_Number\"], Subjects[\"Subject_Number\"], Subjects[\"Subject_Number\"]), preload=True, verbose=False)\n",
      "/tmp/ipykernel_72612/4144421588.py:8: RuntimeWarning: The data contains 'boundary' events, indicating data discontinuities. Be cautious of filtering and epoching around these events.\n",
      "  Subjects[\"prepSignal_EC\"] = mne.io.read_raw_eeglab(\"/workspace/brail_poc3/experiments/Lemon_PreEEGLAB/{}/{}/{}_EC.set\".format(Subjects[\"Subject_Number\"], Subjects[\"Subject_Number\"], Subjects[\"Subject_Number\"]), preload=True, verbose=False)\n",
      "/tmp/ipykernel_72612/4144421588.py:9: RuntimeWarning: Data file name in EEG.data (sub-010165_EO.fdt) is incorrect, the file name must have changed on disk, using the correct file name (sub-032401_EO.fdt).\n",
      "  Subjects[\"prepSignal_EO\"] = mne.io.read_raw_eeglab(\"/workspace/brail_poc3/experiments/Lemon_PreEEGLAB/{}/{}/{}_EO.set\".format(Subjects[\"Subject_Number\"], Subjects[\"Subject_Number\"], Subjects[\"Subject_Number\"]), preload=True, verbose=False)\n"
     ]
    },
    {
     "name": "stdout",
     "output_type": "stream",
     "text": [
      "Subject number: sub-032401\n"
     ]
    },
    {
     "name": "stderr",
     "output_type": "stream",
     "text": [
      "/tmp/ipykernel_72612/4144421588.py:9: RuntimeWarning: Limited 1 annotation(s) that were expanding outside the data range.\n",
      "  Subjects[\"prepSignal_EO\"] = mne.io.read_raw_eeglab(\"/workspace/brail_poc3/experiments/Lemon_PreEEGLAB/{}/{}/{}_EO.set\".format(Subjects[\"Subject_Number\"], Subjects[\"Subject_Number\"], Subjects[\"Subject_Number\"]), preload=True, verbose=False)\n",
      "/tmp/ipykernel_72612/4144421588.py:9: RuntimeWarning: The data contains 'boundary' events, indicating data discontinuities. Be cautious of filtering and epoching around these events.\n",
      "  Subjects[\"prepSignal_EO\"] = mne.io.read_raw_eeglab(\"/workspace/brail_poc3/experiments/Lemon_PreEEGLAB/{}/{}/{}_EO.set\".format(Subjects[\"Subject_Number\"], Subjects[\"Subject_Number\"], Subjects[\"Subject_Number\"]), preload=True, verbose=False)\n",
      " 46%|███████████████████▍                      | 93/201 [00:24<00:28,  3.73it/s]/tmp/ipykernel_72612/4144421588.py:8: RuntimeWarning: Data file name in EEG.data (sub-010166_EC.fdt) is incorrect, the file name must have changed on disk, using the correct file name (sub-032402_EC.fdt).\n",
      "  Subjects[\"prepSignal_EC\"] = mne.io.read_raw_eeglab(\"/workspace/brail_poc3/experiments/Lemon_PreEEGLAB/{}/{}/{}_EC.set\".format(Subjects[\"Subject_Number\"], Subjects[\"Subject_Number\"], Subjects[\"Subject_Number\"]), preload=True, verbose=False)\n",
      "/tmp/ipykernel_72612/4144421588.py:8: RuntimeWarning: Limited 1 annotation(s) that were expanding outside the data range.\n",
      "  Subjects[\"prepSignal_EC\"] = mne.io.read_raw_eeglab(\"/workspace/brail_poc3/experiments/Lemon_PreEEGLAB/{}/{}/{}_EC.set\".format(Subjects[\"Subject_Number\"], Subjects[\"Subject_Number\"], Subjects[\"Subject_Number\"]), preload=True, verbose=False)\n",
      "/tmp/ipykernel_72612/4144421588.py:8: RuntimeWarning: The data contains 'boundary' events, indicating data discontinuities. Be cautious of filtering and epoching around these events.\n",
      "  Subjects[\"prepSignal_EC\"] = mne.io.read_raw_eeglab(\"/workspace/brail_poc3/experiments/Lemon_PreEEGLAB/{}/{}/{}_EC.set\".format(Subjects[\"Subject_Number\"], Subjects[\"Subject_Number\"], Subjects[\"Subject_Number\"]), preload=True, verbose=False)\n",
      "/tmp/ipykernel_72612/4144421588.py:9: RuntimeWarning: Data file name in EEG.data (sub-010166_EO.fdt) is incorrect, the file name must have changed on disk, using the correct file name (sub-032402_EO.fdt).\n",
      "  Subjects[\"prepSignal_EO\"] = mne.io.read_raw_eeglab(\"/workspace/brail_poc3/experiments/Lemon_PreEEGLAB/{}/{}/{}_EO.set\".format(Subjects[\"Subject_Number\"], Subjects[\"Subject_Number\"], Subjects[\"Subject_Number\"]), preload=True, verbose=False)\n"
     ]
    },
    {
     "name": "stdout",
     "output_type": "stream",
     "text": [
      "Subject number: sub-032402\n"
     ]
    },
    {
     "name": "stderr",
     "output_type": "stream",
     "text": [
      "/tmp/ipykernel_72612/4144421588.py:9: RuntimeWarning: Limited 1 annotation(s) that were expanding outside the data range.\n",
      "  Subjects[\"prepSignal_EO\"] = mne.io.read_raw_eeglab(\"/workspace/brail_poc3/experiments/Lemon_PreEEGLAB/{}/{}/{}_EO.set\".format(Subjects[\"Subject_Number\"], Subjects[\"Subject_Number\"], Subjects[\"Subject_Number\"]), preload=True, verbose=False)\n",
      "/tmp/ipykernel_72612/4144421588.py:9: RuntimeWarning: The data contains 'boundary' events, indicating data discontinuities. Be cautious of filtering and epoching around these events.\n",
      "  Subjects[\"prepSignal_EO\"] = mne.io.read_raw_eeglab(\"/workspace/brail_poc3/experiments/Lemon_PreEEGLAB/{}/{}/{}_EO.set\".format(Subjects[\"Subject_Number\"], Subjects[\"Subject_Number\"], Subjects[\"Subject_Number\"]), preload=True, verbose=False)\n",
      " 47%|███████████████████▋                      | 94/201 [00:25<00:28,  3.76it/s]/tmp/ipykernel_72612/4144421588.py:8: RuntimeWarning: Data file name in EEG.data (sub-010168_EC.fdt) is incorrect, the file name must have changed on disk, using the correct file name (sub-032403_EC.fdt).\n",
      "  Subjects[\"prepSignal_EC\"] = mne.io.read_raw_eeglab(\"/workspace/brail_poc3/experiments/Lemon_PreEEGLAB/{}/{}/{}_EC.set\".format(Subjects[\"Subject_Number\"], Subjects[\"Subject_Number\"], Subjects[\"Subject_Number\"]), preload=True, verbose=False)\n",
      "/tmp/ipykernel_72612/4144421588.py:8: RuntimeWarning: Limited 1 annotation(s) that were expanding outside the data range.\n",
      "  Subjects[\"prepSignal_EC\"] = mne.io.read_raw_eeglab(\"/workspace/brail_poc3/experiments/Lemon_PreEEGLAB/{}/{}/{}_EC.set\".format(Subjects[\"Subject_Number\"], Subjects[\"Subject_Number\"], Subjects[\"Subject_Number\"]), preload=True, verbose=False)\n",
      "/tmp/ipykernel_72612/4144421588.py:8: RuntimeWarning: The data contains 'boundary' events, indicating data discontinuities. Be cautious of filtering and epoching around these events.\n",
      "  Subjects[\"prepSignal_EC\"] = mne.io.read_raw_eeglab(\"/workspace/brail_poc3/experiments/Lemon_PreEEGLAB/{}/{}/{}_EC.set\".format(Subjects[\"Subject_Number\"], Subjects[\"Subject_Number\"], Subjects[\"Subject_Number\"]), preload=True, verbose=False)\n",
      "/tmp/ipykernel_72612/4144421588.py:9: RuntimeWarning: Data file name in EEG.data (sub-010168_EO.fdt) is incorrect, the file name must have changed on disk, using the correct file name (sub-032403_EO.fdt).\n",
      "  Subjects[\"prepSignal_EO\"] = mne.io.read_raw_eeglab(\"/workspace/brail_poc3/experiments/Lemon_PreEEGLAB/{}/{}/{}_EO.set\".format(Subjects[\"Subject_Number\"], Subjects[\"Subject_Number\"], Subjects[\"Subject_Number\"]), preload=True, verbose=False)\n"
     ]
    },
    {
     "name": "stdout",
     "output_type": "stream",
     "text": [
      "Subject number: sub-032403\n"
     ]
    },
    {
     "name": "stderr",
     "output_type": "stream",
     "text": [
      "/tmp/ipykernel_72612/4144421588.py:9: RuntimeWarning: Limited 1 annotation(s) that were expanding outside the data range.\n",
      "  Subjects[\"prepSignal_EO\"] = mne.io.read_raw_eeglab(\"/workspace/brail_poc3/experiments/Lemon_PreEEGLAB/{}/{}/{}_EO.set\".format(Subjects[\"Subject_Number\"], Subjects[\"Subject_Number\"], Subjects[\"Subject_Number\"]), preload=True, verbose=False)\n",
      "/tmp/ipykernel_72612/4144421588.py:9: RuntimeWarning: The data contains 'boundary' events, indicating data discontinuities. Be cautious of filtering and epoching around these events.\n",
      "  Subjects[\"prepSignal_EO\"] = mne.io.read_raw_eeglab(\"/workspace/brail_poc3/experiments/Lemon_PreEEGLAB/{}/{}/{}_EO.set\".format(Subjects[\"Subject_Number\"], Subjects[\"Subject_Number\"], Subjects[\"Subject_Number\"]), preload=True, verbose=False)\n",
      " 47%|███████████████████▊                      | 95/201 [00:25<00:28,  3.77it/s]/tmp/ipykernel_72612/4144421588.py:8: RuntimeWarning: Data file name in EEG.data (sub-010170_EC.fdt) is incorrect, the file name must have changed on disk, using the correct file name (sub-032405_EC.fdt).\n",
      "  Subjects[\"prepSignal_EC\"] = mne.io.read_raw_eeglab(\"/workspace/brail_poc3/experiments/Lemon_PreEEGLAB/{}/{}/{}_EC.set\".format(Subjects[\"Subject_Number\"], Subjects[\"Subject_Number\"], Subjects[\"Subject_Number\"]), preload=True, verbose=False)\n",
      "/tmp/ipykernel_72612/4144421588.py:8: RuntimeWarning: Limited 1 annotation(s) that were expanding outside the data range.\n",
      "  Subjects[\"prepSignal_EC\"] = mne.io.read_raw_eeglab(\"/workspace/brail_poc3/experiments/Lemon_PreEEGLAB/{}/{}/{}_EC.set\".format(Subjects[\"Subject_Number\"], Subjects[\"Subject_Number\"], Subjects[\"Subject_Number\"]), preload=True, verbose=False)\n",
      "/tmp/ipykernel_72612/4144421588.py:8: RuntimeWarning: The data contains 'boundary' events, indicating data discontinuities. Be cautious of filtering and epoching around these events.\n",
      "  Subjects[\"prepSignal_EC\"] = mne.io.read_raw_eeglab(\"/workspace/brail_poc3/experiments/Lemon_PreEEGLAB/{}/{}/{}_EC.set\".format(Subjects[\"Subject_Number\"], Subjects[\"Subject_Number\"], Subjects[\"Subject_Number\"]), preload=True, verbose=False)\n",
      "/tmp/ipykernel_72612/4144421588.py:9: RuntimeWarning: Data file name in EEG.data (sub-010170_EO.fdt) is incorrect, the file name must have changed on disk, using the correct file name (sub-032405_EO.fdt).\n",
      "  Subjects[\"prepSignal_EO\"] = mne.io.read_raw_eeglab(\"/workspace/brail_poc3/experiments/Lemon_PreEEGLAB/{}/{}/{}_EO.set\".format(Subjects[\"Subject_Number\"], Subjects[\"Subject_Number\"], Subjects[\"Subject_Number\"]), preload=True, verbose=False)\n"
     ]
    },
    {
     "name": "stdout",
     "output_type": "stream",
     "text": [
      "Subject number: sub-032405\n"
     ]
    },
    {
     "name": "stderr",
     "output_type": "stream",
     "text": [
      "/tmp/ipykernel_72612/4144421588.py:9: RuntimeWarning: Limited 1 annotation(s) that were expanding outside the data range.\n",
      "  Subjects[\"prepSignal_EO\"] = mne.io.read_raw_eeglab(\"/workspace/brail_poc3/experiments/Lemon_PreEEGLAB/{}/{}/{}_EO.set\".format(Subjects[\"Subject_Number\"], Subjects[\"Subject_Number\"], Subjects[\"Subject_Number\"]), preload=True, verbose=False)\n",
      "/tmp/ipykernel_72612/4144421588.py:9: RuntimeWarning: The data contains 'boundary' events, indicating data discontinuities. Be cautious of filtering and epoching around these events.\n",
      "  Subjects[\"prepSignal_EO\"] = mne.io.read_raw_eeglab(\"/workspace/brail_poc3/experiments/Lemon_PreEEGLAB/{}/{}/{}_EO.set\".format(Subjects[\"Subject_Number\"], Subjects[\"Subject_Number\"], Subjects[\"Subject_Number\"]), preload=True, verbose=False)\n",
      " 48%|████████████████████                      | 96/201 [00:25<00:27,  3.77it/s]/tmp/ipykernel_72612/4144421588.py:8: RuntimeWarning: Data file name in EEG.data (sub-010176_EC.fdt) is incorrect, the file name must have changed on disk, using the correct file name (sub-032406_EC.fdt).\n",
      "  Subjects[\"prepSignal_EC\"] = mne.io.read_raw_eeglab(\"/workspace/brail_poc3/experiments/Lemon_PreEEGLAB/{}/{}/{}_EC.set\".format(Subjects[\"Subject_Number\"], Subjects[\"Subject_Number\"], Subjects[\"Subject_Number\"]), preload=True, verbose=False)\n",
      "/tmp/ipykernel_72612/4144421588.py:8: RuntimeWarning: Limited 1 annotation(s) that were expanding outside the data range.\n",
      "  Subjects[\"prepSignal_EC\"] = mne.io.read_raw_eeglab(\"/workspace/brail_poc3/experiments/Lemon_PreEEGLAB/{}/{}/{}_EC.set\".format(Subjects[\"Subject_Number\"], Subjects[\"Subject_Number\"], Subjects[\"Subject_Number\"]), preload=True, verbose=False)\n",
      "/tmp/ipykernel_72612/4144421588.py:8: RuntimeWarning: The data contains 'boundary' events, indicating data discontinuities. Be cautious of filtering and epoching around these events.\n",
      "  Subjects[\"prepSignal_EC\"] = mne.io.read_raw_eeglab(\"/workspace/brail_poc3/experiments/Lemon_PreEEGLAB/{}/{}/{}_EC.set\".format(Subjects[\"Subject_Number\"], Subjects[\"Subject_Number\"], Subjects[\"Subject_Number\"]), preload=True, verbose=False)\n",
      "/tmp/ipykernel_72612/4144421588.py:9: RuntimeWarning: Data file name in EEG.data (sub-010176_EO.fdt) is incorrect, the file name must have changed on disk, using the correct file name (sub-032406_EO.fdt).\n",
      "  Subjects[\"prepSignal_EO\"] = mne.io.read_raw_eeglab(\"/workspace/brail_poc3/experiments/Lemon_PreEEGLAB/{}/{}/{}_EO.set\".format(Subjects[\"Subject_Number\"], Subjects[\"Subject_Number\"], Subjects[\"Subject_Number\"]), preload=True, verbose=False)\n"
     ]
    },
    {
     "name": "stdout",
     "output_type": "stream",
     "text": [
      "Subject number: sub-032406\n"
     ]
    },
    {
     "name": "stderr",
     "output_type": "stream",
     "text": [
      "/tmp/ipykernel_72612/4144421588.py:9: RuntimeWarning: Limited 1 annotation(s) that were expanding outside the data range.\n",
      "  Subjects[\"prepSignal_EO\"] = mne.io.read_raw_eeglab(\"/workspace/brail_poc3/experiments/Lemon_PreEEGLAB/{}/{}/{}_EO.set\".format(Subjects[\"Subject_Number\"], Subjects[\"Subject_Number\"], Subjects[\"Subject_Number\"]), preload=True, verbose=False)\n",
      "/tmp/ipykernel_72612/4144421588.py:9: RuntimeWarning: The data contains 'boundary' events, indicating data discontinuities. Be cautious of filtering and epoching around these events.\n",
      "  Subjects[\"prepSignal_EO\"] = mne.io.read_raw_eeglab(\"/workspace/brail_poc3/experiments/Lemon_PreEEGLAB/{}/{}/{}_EO.set\".format(Subjects[\"Subject_Number\"], Subjects[\"Subject_Number\"], Subjects[\"Subject_Number\"]), preload=True, verbose=False)\n",
      " 48%|████████████████████▎                     | 97/201 [00:26<00:27,  3.77it/s]/tmp/ipykernel_72612/4144421588.py:8: RuntimeWarning: Data file name in EEG.data (sub-010183_EC.fdt) is incorrect, the file name must have changed on disk, using the correct file name (sub-032407_EC.fdt).\n",
      "  Subjects[\"prepSignal_EC\"] = mne.io.read_raw_eeglab(\"/workspace/brail_poc3/experiments/Lemon_PreEEGLAB/{}/{}/{}_EC.set\".format(Subjects[\"Subject_Number\"], Subjects[\"Subject_Number\"], Subjects[\"Subject_Number\"]), preload=True, verbose=False)\n",
      "/tmp/ipykernel_72612/4144421588.py:8: RuntimeWarning: Limited 1 annotation(s) that were expanding outside the data range.\n",
      "  Subjects[\"prepSignal_EC\"] = mne.io.read_raw_eeglab(\"/workspace/brail_poc3/experiments/Lemon_PreEEGLAB/{}/{}/{}_EC.set\".format(Subjects[\"Subject_Number\"], Subjects[\"Subject_Number\"], Subjects[\"Subject_Number\"]), preload=True, verbose=False)\n",
      "/tmp/ipykernel_72612/4144421588.py:8: RuntimeWarning: The data contains 'boundary' events, indicating data discontinuities. Be cautious of filtering and epoching around these events.\n",
      "  Subjects[\"prepSignal_EC\"] = mne.io.read_raw_eeglab(\"/workspace/brail_poc3/experiments/Lemon_PreEEGLAB/{}/{}/{}_EC.set\".format(Subjects[\"Subject_Number\"], Subjects[\"Subject_Number\"], Subjects[\"Subject_Number\"]), preload=True, verbose=False)\n",
      "/tmp/ipykernel_72612/4144421588.py:9: RuntimeWarning: Data file name in EEG.data (sub-010183_EO.fdt) is incorrect, the file name must have changed on disk, using the correct file name (sub-032407_EO.fdt).\n",
      "  Subjects[\"prepSignal_EO\"] = mne.io.read_raw_eeglab(\"/workspace/brail_poc3/experiments/Lemon_PreEEGLAB/{}/{}/{}_EO.set\".format(Subjects[\"Subject_Number\"], Subjects[\"Subject_Number\"], Subjects[\"Subject_Number\"]), preload=True, verbose=False)\n"
     ]
    },
    {
     "name": "stdout",
     "output_type": "stream",
     "text": [
      "Subject number: sub-032407\n"
     ]
    },
    {
     "name": "stderr",
     "output_type": "stream",
     "text": [
      "/tmp/ipykernel_72612/4144421588.py:9: RuntimeWarning: Limited 1 annotation(s) that were expanding outside the data range.\n",
      "  Subjects[\"prepSignal_EO\"] = mne.io.read_raw_eeglab(\"/workspace/brail_poc3/experiments/Lemon_PreEEGLAB/{}/{}/{}_EO.set\".format(Subjects[\"Subject_Number\"], Subjects[\"Subject_Number\"], Subjects[\"Subject_Number\"]), preload=True, verbose=False)\n",
      "/tmp/ipykernel_72612/4144421588.py:9: RuntimeWarning: The data contains 'boundary' events, indicating data discontinuities. Be cautious of filtering and epoching around these events.\n",
      "  Subjects[\"prepSignal_EO\"] = mne.io.read_raw_eeglab(\"/workspace/brail_poc3/experiments/Lemon_PreEEGLAB/{}/{}/{}_EO.set\".format(Subjects[\"Subject_Number\"], Subjects[\"Subject_Number\"], Subjects[\"Subject_Number\"]), preload=True, verbose=False)\n",
      " 49%|████████████████████▍                     | 98/201 [00:26<00:27,  3.79it/s]/tmp/ipykernel_72612/4144421588.py:8: RuntimeWarning: Data file name in EEG.data (sub-010191_EC.fdt) is incorrect, the file name must have changed on disk, using the correct file name (sub-032408_EC.fdt).\n",
      "  Subjects[\"prepSignal_EC\"] = mne.io.read_raw_eeglab(\"/workspace/brail_poc3/experiments/Lemon_PreEEGLAB/{}/{}/{}_EC.set\".format(Subjects[\"Subject_Number\"], Subjects[\"Subject_Number\"], Subjects[\"Subject_Number\"]), preload=True, verbose=False)\n",
      "/tmp/ipykernel_72612/4144421588.py:8: RuntimeWarning: Limited 1 annotation(s) that were expanding outside the data range.\n",
      "  Subjects[\"prepSignal_EC\"] = mne.io.read_raw_eeglab(\"/workspace/brail_poc3/experiments/Lemon_PreEEGLAB/{}/{}/{}_EC.set\".format(Subjects[\"Subject_Number\"], Subjects[\"Subject_Number\"], Subjects[\"Subject_Number\"]), preload=True, verbose=False)\n",
      "/tmp/ipykernel_72612/4144421588.py:8: RuntimeWarning: The data contains 'boundary' events, indicating data discontinuities. Be cautious of filtering and epoching around these events.\n",
      "  Subjects[\"prepSignal_EC\"] = mne.io.read_raw_eeglab(\"/workspace/brail_poc3/experiments/Lemon_PreEEGLAB/{}/{}/{}_EC.set\".format(Subjects[\"Subject_Number\"], Subjects[\"Subject_Number\"], Subjects[\"Subject_Number\"]), preload=True, verbose=False)\n",
      "/tmp/ipykernel_72612/4144421588.py:9: RuntimeWarning: Data file name in EEG.data (sub-010191_EO.fdt) is incorrect, the file name must have changed on disk, using the correct file name (sub-032408_EO.fdt).\n",
      "  Subjects[\"prepSignal_EO\"] = mne.io.read_raw_eeglab(\"/workspace/brail_poc3/experiments/Lemon_PreEEGLAB/{}/{}/{}_EO.set\".format(Subjects[\"Subject_Number\"], Subjects[\"Subject_Number\"], Subjects[\"Subject_Number\"]), preload=True, verbose=False)\n"
     ]
    },
    {
     "name": "stdout",
     "output_type": "stream",
     "text": [
      "Subject number: sub-032408\n"
     ]
    },
    {
     "name": "stderr",
     "output_type": "stream",
     "text": [
      "/tmp/ipykernel_72612/4144421588.py:9: RuntimeWarning: Limited 1 annotation(s) that were expanding outside the data range.\n",
      "  Subjects[\"prepSignal_EO\"] = mne.io.read_raw_eeglab(\"/workspace/brail_poc3/experiments/Lemon_PreEEGLAB/{}/{}/{}_EO.set\".format(Subjects[\"Subject_Number\"], Subjects[\"Subject_Number\"], Subjects[\"Subject_Number\"]), preload=True, verbose=False)\n",
      "/tmp/ipykernel_72612/4144421588.py:9: RuntimeWarning: The data contains 'boundary' events, indicating data discontinuities. Be cautious of filtering and epoching around these events.\n",
      "  Subjects[\"prepSignal_EO\"] = mne.io.read_raw_eeglab(\"/workspace/brail_poc3/experiments/Lemon_PreEEGLAB/{}/{}/{}_EO.set\".format(Subjects[\"Subject_Number\"], Subjects[\"Subject_Number\"], Subjects[\"Subject_Number\"]), preload=True, verbose=False)\n",
      " 49%|████████████████████▋                     | 99/201 [00:26<00:26,  3.79it/s]/tmp/ipykernel_72612/4144421588.py:8: RuntimeWarning: Data file name in EEG.data (sub-010192_EC.fdt) is incorrect, the file name must have changed on disk, using the correct file name (sub-032409_EC.fdt).\n",
      "  Subjects[\"prepSignal_EC\"] = mne.io.read_raw_eeglab(\"/workspace/brail_poc3/experiments/Lemon_PreEEGLAB/{}/{}/{}_EC.set\".format(Subjects[\"Subject_Number\"], Subjects[\"Subject_Number\"], Subjects[\"Subject_Number\"]), preload=True, verbose=False)\n",
      "/tmp/ipykernel_72612/4144421588.py:8: RuntimeWarning: Limited 1 annotation(s) that were expanding outside the data range.\n",
      "  Subjects[\"prepSignal_EC\"] = mne.io.read_raw_eeglab(\"/workspace/brail_poc3/experiments/Lemon_PreEEGLAB/{}/{}/{}_EC.set\".format(Subjects[\"Subject_Number\"], Subjects[\"Subject_Number\"], Subjects[\"Subject_Number\"]), preload=True, verbose=False)\n",
      "/tmp/ipykernel_72612/4144421588.py:8: RuntimeWarning: The data contains 'boundary' events, indicating data discontinuities. Be cautious of filtering and epoching around these events.\n",
      "  Subjects[\"prepSignal_EC\"] = mne.io.read_raw_eeglab(\"/workspace/brail_poc3/experiments/Lemon_PreEEGLAB/{}/{}/{}_EC.set\".format(Subjects[\"Subject_Number\"], Subjects[\"Subject_Number\"], Subjects[\"Subject_Number\"]), preload=True, verbose=False)\n",
      "/tmp/ipykernel_72612/4144421588.py:9: RuntimeWarning: Data file name in EEG.data (sub-010192_EO.fdt) is incorrect, the file name must have changed on disk, using the correct file name (sub-032409_EO.fdt).\n",
      "  Subjects[\"prepSignal_EO\"] = mne.io.read_raw_eeglab(\"/workspace/brail_poc3/experiments/Lemon_PreEEGLAB/{}/{}/{}_EO.set\".format(Subjects[\"Subject_Number\"], Subjects[\"Subject_Number\"], Subjects[\"Subject_Number\"]), preload=True, verbose=False)\n"
     ]
    },
    {
     "name": "stdout",
     "output_type": "stream",
     "text": [
      "Subject number: sub-032409\n"
     ]
    },
    {
     "name": "stderr",
     "output_type": "stream",
     "text": [
      "/tmp/ipykernel_72612/4144421588.py:9: RuntimeWarning: Limited 1 annotation(s) that were expanding outside the data range.\n",
      "  Subjects[\"prepSignal_EO\"] = mne.io.read_raw_eeglab(\"/workspace/brail_poc3/experiments/Lemon_PreEEGLAB/{}/{}/{}_EO.set\".format(Subjects[\"Subject_Number\"], Subjects[\"Subject_Number\"], Subjects[\"Subject_Number\"]), preload=True, verbose=False)\n",
      "/tmp/ipykernel_72612/4144421588.py:9: RuntimeWarning: The data contains 'boundary' events, indicating data discontinuities. Be cautious of filtering and epoching around these events.\n",
      "  Subjects[\"prepSignal_EO\"] = mne.io.read_raw_eeglab(\"/workspace/brail_poc3/experiments/Lemon_PreEEGLAB/{}/{}/{}_EO.set\".format(Subjects[\"Subject_Number\"], Subjects[\"Subject_Number\"], Subjects[\"Subject_Number\"]), preload=True, verbose=False)\n",
      " 50%|████████████████████▍                    | 100/201 [00:26<00:26,  3.80it/s]/tmp/ipykernel_72612/4144421588.py:8: RuntimeWarning: Data file name in EEG.data (sub-010194_EC.fdt) is incorrect, the file name must have changed on disk, using the correct file name (sub-032411_EC.fdt).\n",
      "  Subjects[\"prepSignal_EC\"] = mne.io.read_raw_eeglab(\"/workspace/brail_poc3/experiments/Lemon_PreEEGLAB/{}/{}/{}_EC.set\".format(Subjects[\"Subject_Number\"], Subjects[\"Subject_Number\"], Subjects[\"Subject_Number\"]), preload=True, verbose=False)\n",
      "/tmp/ipykernel_72612/4144421588.py:8: RuntimeWarning: Limited 1 annotation(s) that were expanding outside the data range.\n",
      "  Subjects[\"prepSignal_EC\"] = mne.io.read_raw_eeglab(\"/workspace/brail_poc3/experiments/Lemon_PreEEGLAB/{}/{}/{}_EC.set\".format(Subjects[\"Subject_Number\"], Subjects[\"Subject_Number\"], Subjects[\"Subject_Number\"]), preload=True, verbose=False)\n",
      "/tmp/ipykernel_72612/4144421588.py:8: RuntimeWarning: The data contains 'boundary' events, indicating data discontinuities. Be cautious of filtering and epoching around these events.\n",
      "  Subjects[\"prepSignal_EC\"] = mne.io.read_raw_eeglab(\"/workspace/brail_poc3/experiments/Lemon_PreEEGLAB/{}/{}/{}_EC.set\".format(Subjects[\"Subject_Number\"], Subjects[\"Subject_Number\"], Subjects[\"Subject_Number\"]), preload=True, verbose=False)\n",
      "/tmp/ipykernel_72612/4144421588.py:9: RuntimeWarning: Data file name in EEG.data (sub-010194_EO.fdt) is incorrect, the file name must have changed on disk, using the correct file name (sub-032411_EO.fdt).\n",
      "  Subjects[\"prepSignal_EO\"] = mne.io.read_raw_eeglab(\"/workspace/brail_poc3/experiments/Lemon_PreEEGLAB/{}/{}/{}_EO.set\".format(Subjects[\"Subject_Number\"], Subjects[\"Subject_Number\"], Subjects[\"Subject_Number\"]), preload=True, verbose=False)\n"
     ]
    },
    {
     "name": "stdout",
     "output_type": "stream",
     "text": [
      "Subject number: sub-032411\n"
     ]
    },
    {
     "name": "stderr",
     "output_type": "stream",
     "text": [
      "/tmp/ipykernel_72612/4144421588.py:9: RuntimeWarning: Limited 1 annotation(s) that were expanding outside the data range.\n",
      "  Subjects[\"prepSignal_EO\"] = mne.io.read_raw_eeglab(\"/workspace/brail_poc3/experiments/Lemon_PreEEGLAB/{}/{}/{}_EO.set\".format(Subjects[\"Subject_Number\"], Subjects[\"Subject_Number\"], Subjects[\"Subject_Number\"]), preload=True, verbose=False)\n",
      "/tmp/ipykernel_72612/4144421588.py:9: RuntimeWarning: The data contains 'boundary' events, indicating data discontinuities. Be cautious of filtering and epoching around these events.\n",
      "  Subjects[\"prepSignal_EO\"] = mne.io.read_raw_eeglab(\"/workspace/brail_poc3/experiments/Lemon_PreEEGLAB/{}/{}/{}_EO.set\".format(Subjects[\"Subject_Number\"], Subjects[\"Subject_Number\"], Subjects[\"Subject_Number\"]), preload=True, verbose=False)\n",
      " 50%|████████████████████▌                    | 101/201 [00:27<00:26,  3.81it/s]/tmp/ipykernel_72612/4144421588.py:8: RuntimeWarning: Data file name in EEG.data (sub-010195_EC.fdt) is incorrect, the file name must have changed on disk, using the correct file name (sub-032412_EC.fdt).\n",
      "  Subjects[\"prepSignal_EC\"] = mne.io.read_raw_eeglab(\"/workspace/brail_poc3/experiments/Lemon_PreEEGLAB/{}/{}/{}_EC.set\".format(Subjects[\"Subject_Number\"], Subjects[\"Subject_Number\"], Subjects[\"Subject_Number\"]), preload=True, verbose=False)\n",
      "/tmp/ipykernel_72612/4144421588.py:8: RuntimeWarning: Limited 1 annotation(s) that were expanding outside the data range.\n",
      "  Subjects[\"prepSignal_EC\"] = mne.io.read_raw_eeglab(\"/workspace/brail_poc3/experiments/Lemon_PreEEGLAB/{}/{}/{}_EC.set\".format(Subjects[\"Subject_Number\"], Subjects[\"Subject_Number\"], Subjects[\"Subject_Number\"]), preload=True, verbose=False)\n",
      "/tmp/ipykernel_72612/4144421588.py:8: RuntimeWarning: The data contains 'boundary' events, indicating data discontinuities. Be cautious of filtering and epoching around these events.\n",
      "  Subjects[\"prepSignal_EC\"] = mne.io.read_raw_eeglab(\"/workspace/brail_poc3/experiments/Lemon_PreEEGLAB/{}/{}/{}_EC.set\".format(Subjects[\"Subject_Number\"], Subjects[\"Subject_Number\"], Subjects[\"Subject_Number\"]), preload=True, verbose=False)\n",
      "/tmp/ipykernel_72612/4144421588.py:9: RuntimeWarning: Data file name in EEG.data (sub-010195_EO.fdt) is incorrect, the file name must have changed on disk, using the correct file name (sub-032412_EO.fdt).\n",
      "  Subjects[\"prepSignal_EO\"] = mne.io.read_raw_eeglab(\"/workspace/brail_poc3/experiments/Lemon_PreEEGLAB/{}/{}/{}_EO.set\".format(Subjects[\"Subject_Number\"], Subjects[\"Subject_Number\"], Subjects[\"Subject_Number\"]), preload=True, verbose=False)\n"
     ]
    },
    {
     "name": "stdout",
     "output_type": "stream",
     "text": [
      "Subject number: sub-032412\n"
     ]
    },
    {
     "name": "stderr",
     "output_type": "stream",
     "text": [
      "/tmp/ipykernel_72612/4144421588.py:9: RuntimeWarning: Limited 1 annotation(s) that were expanding outside the data range.\n",
      "  Subjects[\"prepSignal_EO\"] = mne.io.read_raw_eeglab(\"/workspace/brail_poc3/experiments/Lemon_PreEEGLAB/{}/{}/{}_EO.set\".format(Subjects[\"Subject_Number\"], Subjects[\"Subject_Number\"], Subjects[\"Subject_Number\"]), preload=True, verbose=False)\n",
      "/tmp/ipykernel_72612/4144421588.py:9: RuntimeWarning: The data contains 'boundary' events, indicating data discontinuities. Be cautious of filtering and epoching around these events.\n",
      "  Subjects[\"prepSignal_EO\"] = mne.io.read_raw_eeglab(\"/workspace/brail_poc3/experiments/Lemon_PreEEGLAB/{}/{}/{}_EO.set\".format(Subjects[\"Subject_Number\"], Subjects[\"Subject_Number\"], Subjects[\"Subject_Number\"]), preload=True, verbose=False)\n",
      " 51%|████████████████████▊                    | 102/201 [00:27<00:26,  3.79it/s]/tmp/ipykernel_72612/4144421588.py:8: RuntimeWarning: Data file name in EEG.data (sub-010196_EC.fdt) is incorrect, the file name must have changed on disk, using the correct file name (sub-032413_EC.fdt).\n",
      "  Subjects[\"prepSignal_EC\"] = mne.io.read_raw_eeglab(\"/workspace/brail_poc3/experiments/Lemon_PreEEGLAB/{}/{}/{}_EC.set\".format(Subjects[\"Subject_Number\"], Subjects[\"Subject_Number\"], Subjects[\"Subject_Number\"]), preload=True, verbose=False)\n",
      "/tmp/ipykernel_72612/4144421588.py:8: RuntimeWarning: Limited 1 annotation(s) that were expanding outside the data range.\n",
      "  Subjects[\"prepSignal_EC\"] = mne.io.read_raw_eeglab(\"/workspace/brail_poc3/experiments/Lemon_PreEEGLAB/{}/{}/{}_EC.set\".format(Subjects[\"Subject_Number\"], Subjects[\"Subject_Number\"], Subjects[\"Subject_Number\"]), preload=True, verbose=False)\n",
      "/tmp/ipykernel_72612/4144421588.py:8: RuntimeWarning: The data contains 'boundary' events, indicating data discontinuities. Be cautious of filtering and epoching around these events.\n",
      "  Subjects[\"prepSignal_EC\"] = mne.io.read_raw_eeglab(\"/workspace/brail_poc3/experiments/Lemon_PreEEGLAB/{}/{}/{}_EC.set\".format(Subjects[\"Subject_Number\"], Subjects[\"Subject_Number\"], Subjects[\"Subject_Number\"]), preload=True, verbose=False)\n",
      "/tmp/ipykernel_72612/4144421588.py:9: RuntimeWarning: Data file name in EEG.data (sub-010196_EO.fdt) is incorrect, the file name must have changed on disk, using the correct file name (sub-032413_EO.fdt).\n",
      "  Subjects[\"prepSignal_EO\"] = mne.io.read_raw_eeglab(\"/workspace/brail_poc3/experiments/Lemon_PreEEGLAB/{}/{}/{}_EO.set\".format(Subjects[\"Subject_Number\"], Subjects[\"Subject_Number\"], Subjects[\"Subject_Number\"]), preload=True, verbose=False)\n"
     ]
    },
    {
     "name": "stdout",
     "output_type": "stream",
     "text": [
      "Subject number: sub-032413\n"
     ]
    },
    {
     "name": "stderr",
     "output_type": "stream",
     "text": [
      "/tmp/ipykernel_72612/4144421588.py:9: RuntimeWarning: Limited 1 annotation(s) that were expanding outside the data range.\n",
      "  Subjects[\"prepSignal_EO\"] = mne.io.read_raw_eeglab(\"/workspace/brail_poc3/experiments/Lemon_PreEEGLAB/{}/{}/{}_EO.set\".format(Subjects[\"Subject_Number\"], Subjects[\"Subject_Number\"], Subjects[\"Subject_Number\"]), preload=True, verbose=False)\n",
      "/tmp/ipykernel_72612/4144421588.py:9: RuntimeWarning: The data contains 'boundary' events, indicating data discontinuities. Be cautious of filtering and epoching around these events.\n",
      "  Subjects[\"prepSignal_EO\"] = mne.io.read_raw_eeglab(\"/workspace/brail_poc3/experiments/Lemon_PreEEGLAB/{}/{}/{}_EO.set\".format(Subjects[\"Subject_Number\"], Subjects[\"Subject_Number\"], Subjects[\"Subject_Number\"]), preload=True, verbose=False)\n",
      " 51%|█████████████████████                    | 103/201 [00:27<00:26,  3.77it/s]/tmp/ipykernel_72612/4144421588.py:8: RuntimeWarning: Data file name in EEG.data (sub-010197_EC.fdt) is incorrect, the file name must have changed on disk, using the correct file name (sub-032414_EC.fdt).\n",
      "  Subjects[\"prepSignal_EC\"] = mne.io.read_raw_eeglab(\"/workspace/brail_poc3/experiments/Lemon_PreEEGLAB/{}/{}/{}_EC.set\".format(Subjects[\"Subject_Number\"], Subjects[\"Subject_Number\"], Subjects[\"Subject_Number\"]), preload=True, verbose=False)\n",
      "/tmp/ipykernel_72612/4144421588.py:8: RuntimeWarning: Limited 1 annotation(s) that were expanding outside the data range.\n",
      "  Subjects[\"prepSignal_EC\"] = mne.io.read_raw_eeglab(\"/workspace/brail_poc3/experiments/Lemon_PreEEGLAB/{}/{}/{}_EC.set\".format(Subjects[\"Subject_Number\"], Subjects[\"Subject_Number\"], Subjects[\"Subject_Number\"]), preload=True, verbose=False)\n",
      "/tmp/ipykernel_72612/4144421588.py:8: RuntimeWarning: The data contains 'boundary' events, indicating data discontinuities. Be cautious of filtering and epoching around these events.\n",
      "  Subjects[\"prepSignal_EC\"] = mne.io.read_raw_eeglab(\"/workspace/brail_poc3/experiments/Lemon_PreEEGLAB/{}/{}/{}_EC.set\".format(Subjects[\"Subject_Number\"], Subjects[\"Subject_Number\"], Subjects[\"Subject_Number\"]), preload=True, verbose=False)\n",
      "/tmp/ipykernel_72612/4144421588.py:9: RuntimeWarning: Data file name in EEG.data (sub-010197_EO.fdt) is incorrect, the file name must have changed on disk, using the correct file name (sub-032414_EO.fdt).\n",
      "  Subjects[\"prepSignal_EO\"] = mne.io.read_raw_eeglab(\"/workspace/brail_poc3/experiments/Lemon_PreEEGLAB/{}/{}/{}_EO.set\".format(Subjects[\"Subject_Number\"], Subjects[\"Subject_Number\"], Subjects[\"Subject_Number\"]), preload=True, verbose=False)\n"
     ]
    },
    {
     "name": "stdout",
     "output_type": "stream",
     "text": [
      "Subject number: sub-032414\n"
     ]
    },
    {
     "name": "stderr",
     "output_type": "stream",
     "text": [
      "/tmp/ipykernel_72612/4144421588.py:9: RuntimeWarning: Limited 1 annotation(s) that were expanding outside the data range.\n",
      "  Subjects[\"prepSignal_EO\"] = mne.io.read_raw_eeglab(\"/workspace/brail_poc3/experiments/Lemon_PreEEGLAB/{}/{}/{}_EO.set\".format(Subjects[\"Subject_Number\"], Subjects[\"Subject_Number\"], Subjects[\"Subject_Number\"]), preload=True, verbose=False)\n",
      "/tmp/ipykernel_72612/4144421588.py:9: RuntimeWarning: The data contains 'boundary' events, indicating data discontinuities. Be cautious of filtering and epoching around these events.\n",
      "  Subjects[\"prepSignal_EO\"] = mne.io.read_raw_eeglab(\"/workspace/brail_poc3/experiments/Lemon_PreEEGLAB/{}/{}/{}_EO.set\".format(Subjects[\"Subject_Number\"], Subjects[\"Subject_Number\"], Subjects[\"Subject_Number\"]), preload=True, verbose=False)\n",
      " 52%|█████████████████████▏                   | 104/201 [00:27<00:25,  3.76it/s]/tmp/ipykernel_72612/4144421588.py:8: RuntimeWarning: Data file name in EEG.data (sub-010199_EC.fdt) is incorrect, the file name must have changed on disk, using the correct file name (sub-032415_EC.fdt).\n",
      "  Subjects[\"prepSignal_EC\"] = mne.io.read_raw_eeglab(\"/workspace/brail_poc3/experiments/Lemon_PreEEGLAB/{}/{}/{}_EC.set\".format(Subjects[\"Subject_Number\"], Subjects[\"Subject_Number\"], Subjects[\"Subject_Number\"]), preload=True, verbose=False)\n",
      "/tmp/ipykernel_72612/4144421588.py:8: RuntimeWarning: Limited 1 annotation(s) that were expanding outside the data range.\n",
      "  Subjects[\"prepSignal_EC\"] = mne.io.read_raw_eeglab(\"/workspace/brail_poc3/experiments/Lemon_PreEEGLAB/{}/{}/{}_EC.set\".format(Subjects[\"Subject_Number\"], Subjects[\"Subject_Number\"], Subjects[\"Subject_Number\"]), preload=True, verbose=False)\n",
      "/tmp/ipykernel_72612/4144421588.py:8: RuntimeWarning: The data contains 'boundary' events, indicating data discontinuities. Be cautious of filtering and epoching around these events.\n",
      "  Subjects[\"prepSignal_EC\"] = mne.io.read_raw_eeglab(\"/workspace/brail_poc3/experiments/Lemon_PreEEGLAB/{}/{}/{}_EC.set\".format(Subjects[\"Subject_Number\"], Subjects[\"Subject_Number\"], Subjects[\"Subject_Number\"]), preload=True, verbose=False)\n",
      "/tmp/ipykernel_72612/4144421588.py:9: RuntimeWarning: Data file name in EEG.data (sub-010199_EO.fdt) is incorrect, the file name must have changed on disk, using the correct file name (sub-032415_EO.fdt).\n",
      "  Subjects[\"prepSignal_EO\"] = mne.io.read_raw_eeglab(\"/workspace/brail_poc3/experiments/Lemon_PreEEGLAB/{}/{}/{}_EO.set\".format(Subjects[\"Subject_Number\"], Subjects[\"Subject_Number\"], Subjects[\"Subject_Number\"]), preload=True, verbose=False)\n"
     ]
    },
    {
     "name": "stdout",
     "output_type": "stream",
     "text": [
      "Subject number: sub-032415\n"
     ]
    },
    {
     "name": "stderr",
     "output_type": "stream",
     "text": [
      "/tmp/ipykernel_72612/4144421588.py:9: RuntimeWarning: Limited 1 annotation(s) that were expanding outside the data range.\n",
      "  Subjects[\"prepSignal_EO\"] = mne.io.read_raw_eeglab(\"/workspace/brail_poc3/experiments/Lemon_PreEEGLAB/{}/{}/{}_EO.set\".format(Subjects[\"Subject_Number\"], Subjects[\"Subject_Number\"], Subjects[\"Subject_Number\"]), preload=True, verbose=False)\n",
      "/tmp/ipykernel_72612/4144421588.py:9: RuntimeWarning: The data contains 'boundary' events, indicating data discontinuities. Be cautious of filtering and epoching around these events.\n",
      "  Subjects[\"prepSignal_EO\"] = mne.io.read_raw_eeglab(\"/workspace/brail_poc3/experiments/Lemon_PreEEGLAB/{}/{}/{}_EO.set\".format(Subjects[\"Subject_Number\"], Subjects[\"Subject_Number\"], Subjects[\"Subject_Number\"]), preload=True, verbose=False)\n",
      " 52%|█████████████████████▍                   | 105/201 [00:28<00:25,  3.75it/s]/tmp/ipykernel_72612/4144421588.py:8: RuntimeWarning: Data file name in EEG.data (sub-010200_EC.fdt) is incorrect, the file name must have changed on disk, using the correct file name (sub-032416_EC.fdt).\n",
      "  Subjects[\"prepSignal_EC\"] = mne.io.read_raw_eeglab(\"/workspace/brail_poc3/experiments/Lemon_PreEEGLAB/{}/{}/{}_EC.set\".format(Subjects[\"Subject_Number\"], Subjects[\"Subject_Number\"], Subjects[\"Subject_Number\"]), preload=True, verbose=False)\n",
      "/tmp/ipykernel_72612/4144421588.py:8: RuntimeWarning: Limited 1 annotation(s) that were expanding outside the data range.\n",
      "  Subjects[\"prepSignal_EC\"] = mne.io.read_raw_eeglab(\"/workspace/brail_poc3/experiments/Lemon_PreEEGLAB/{}/{}/{}_EC.set\".format(Subjects[\"Subject_Number\"], Subjects[\"Subject_Number\"], Subjects[\"Subject_Number\"]), preload=True, verbose=False)\n",
      "/tmp/ipykernel_72612/4144421588.py:8: RuntimeWarning: The data contains 'boundary' events, indicating data discontinuities. Be cautious of filtering and epoching around these events.\n",
      "  Subjects[\"prepSignal_EC\"] = mne.io.read_raw_eeglab(\"/workspace/brail_poc3/experiments/Lemon_PreEEGLAB/{}/{}/{}_EC.set\".format(Subjects[\"Subject_Number\"], Subjects[\"Subject_Number\"], Subjects[\"Subject_Number\"]), preload=True, verbose=False)\n",
      "/tmp/ipykernel_72612/4144421588.py:9: RuntimeWarning: Data file name in EEG.data (sub-010200_EO.fdt) is incorrect, the file name must have changed on disk, using the correct file name (sub-032416_EO.fdt).\n",
      "  Subjects[\"prepSignal_EO\"] = mne.io.read_raw_eeglab(\"/workspace/brail_poc3/experiments/Lemon_PreEEGLAB/{}/{}/{}_EO.set\".format(Subjects[\"Subject_Number\"], Subjects[\"Subject_Number\"], Subjects[\"Subject_Number\"]), preload=True, verbose=False)\n"
     ]
    },
    {
     "name": "stdout",
     "output_type": "stream",
     "text": [
      "Subject number: sub-032416\n"
     ]
    },
    {
     "name": "stderr",
     "output_type": "stream",
     "text": [
      "/tmp/ipykernel_72612/4144421588.py:9: RuntimeWarning: Limited 1 annotation(s) that were expanding outside the data range.\n",
      "  Subjects[\"prepSignal_EO\"] = mne.io.read_raw_eeglab(\"/workspace/brail_poc3/experiments/Lemon_PreEEGLAB/{}/{}/{}_EO.set\".format(Subjects[\"Subject_Number\"], Subjects[\"Subject_Number\"], Subjects[\"Subject_Number\"]), preload=True, verbose=False)\n",
      "/tmp/ipykernel_72612/4144421588.py:9: RuntimeWarning: The data contains 'boundary' events, indicating data discontinuities. Be cautious of filtering and epoching around these events.\n",
      "  Subjects[\"prepSignal_EO\"] = mne.io.read_raw_eeglab(\"/workspace/brail_poc3/experiments/Lemon_PreEEGLAB/{}/{}/{}_EO.set\".format(Subjects[\"Subject_Number\"], Subjects[\"Subject_Number\"], Subjects[\"Subject_Number\"]), preload=True, verbose=False)\n",
      " 53%|█████████████████████▌                   | 106/201 [00:28<00:25,  3.76it/s]/tmp/ipykernel_72612/4144421588.py:8: RuntimeWarning: Data file name in EEG.data (sub-010201_EC.fdt) is incorrect, the file name must have changed on disk, using the correct file name (sub-032417_EC.fdt).\n",
      "  Subjects[\"prepSignal_EC\"] = mne.io.read_raw_eeglab(\"/workspace/brail_poc3/experiments/Lemon_PreEEGLAB/{}/{}/{}_EC.set\".format(Subjects[\"Subject_Number\"], Subjects[\"Subject_Number\"], Subjects[\"Subject_Number\"]), preload=True, verbose=False)\n",
      "/tmp/ipykernel_72612/4144421588.py:8: RuntimeWarning: Limited 1 annotation(s) that were expanding outside the data range.\n",
      "  Subjects[\"prepSignal_EC\"] = mne.io.read_raw_eeglab(\"/workspace/brail_poc3/experiments/Lemon_PreEEGLAB/{}/{}/{}_EC.set\".format(Subjects[\"Subject_Number\"], Subjects[\"Subject_Number\"], Subjects[\"Subject_Number\"]), preload=True, verbose=False)\n",
      "/tmp/ipykernel_72612/4144421588.py:8: RuntimeWarning: The data contains 'boundary' events, indicating data discontinuities. Be cautious of filtering and epoching around these events.\n",
      "  Subjects[\"prepSignal_EC\"] = mne.io.read_raw_eeglab(\"/workspace/brail_poc3/experiments/Lemon_PreEEGLAB/{}/{}/{}_EC.set\".format(Subjects[\"Subject_Number\"], Subjects[\"Subject_Number\"], Subjects[\"Subject_Number\"]), preload=True, verbose=False)\n",
      "/tmp/ipykernel_72612/4144421588.py:9: RuntimeWarning: Data file name in EEG.data (sub-010201_EO.fdt) is incorrect, the file name must have changed on disk, using the correct file name (sub-032417_EO.fdt).\n",
      "  Subjects[\"prepSignal_EO\"] = mne.io.read_raw_eeglab(\"/workspace/brail_poc3/experiments/Lemon_PreEEGLAB/{}/{}/{}_EO.set\".format(Subjects[\"Subject_Number\"], Subjects[\"Subject_Number\"], Subjects[\"Subject_Number\"]), preload=True, verbose=False)\n"
     ]
    },
    {
     "name": "stdout",
     "output_type": "stream",
     "text": [
      "Subject number: sub-032417\n"
     ]
    },
    {
     "name": "stderr",
     "output_type": "stream",
     "text": [
      "/tmp/ipykernel_72612/4144421588.py:9: RuntimeWarning: Limited 1 annotation(s) that were expanding outside the data range.\n",
      "  Subjects[\"prepSignal_EO\"] = mne.io.read_raw_eeglab(\"/workspace/brail_poc3/experiments/Lemon_PreEEGLAB/{}/{}/{}_EO.set\".format(Subjects[\"Subject_Number\"], Subjects[\"Subject_Number\"], Subjects[\"Subject_Number\"]), preload=True, verbose=False)\n",
      "/tmp/ipykernel_72612/4144421588.py:9: RuntimeWarning: The data contains 'boundary' events, indicating data discontinuities. Be cautious of filtering and epoching around these events.\n",
      "  Subjects[\"prepSignal_EO\"] = mne.io.read_raw_eeglab(\"/workspace/brail_poc3/experiments/Lemon_PreEEGLAB/{}/{}/{}_EO.set\".format(Subjects[\"Subject_Number\"], Subjects[\"Subject_Number\"], Subjects[\"Subject_Number\"]), preload=True, verbose=False)\n",
      " 53%|█████████████████████▊                   | 107/201 [00:28<00:25,  3.66it/s]/tmp/ipykernel_72612/4144421588.py:8: RuntimeWarning: Data file name in EEG.data (sub-010202_EC.fdt) is incorrect, the file name must have changed on disk, using the correct file name (sub-032418_EC.fdt).\n",
      "  Subjects[\"prepSignal_EC\"] = mne.io.read_raw_eeglab(\"/workspace/brail_poc3/experiments/Lemon_PreEEGLAB/{}/{}/{}_EC.set\".format(Subjects[\"Subject_Number\"], Subjects[\"Subject_Number\"], Subjects[\"Subject_Number\"]), preload=True, verbose=False)\n",
      "/tmp/ipykernel_72612/4144421588.py:8: RuntimeWarning: Limited 1 annotation(s) that were expanding outside the data range.\n",
      "  Subjects[\"prepSignal_EC\"] = mne.io.read_raw_eeglab(\"/workspace/brail_poc3/experiments/Lemon_PreEEGLAB/{}/{}/{}_EC.set\".format(Subjects[\"Subject_Number\"], Subjects[\"Subject_Number\"], Subjects[\"Subject_Number\"]), preload=True, verbose=False)\n",
      "/tmp/ipykernel_72612/4144421588.py:8: RuntimeWarning: The data contains 'boundary' events, indicating data discontinuities. Be cautious of filtering and epoching around these events.\n",
      "  Subjects[\"prepSignal_EC\"] = mne.io.read_raw_eeglab(\"/workspace/brail_poc3/experiments/Lemon_PreEEGLAB/{}/{}/{}_EC.set\".format(Subjects[\"Subject_Number\"], Subjects[\"Subject_Number\"], Subjects[\"Subject_Number\"]), preload=True, verbose=False)\n",
      "/tmp/ipykernel_72612/4144421588.py:9: RuntimeWarning: Data file name in EEG.data (sub-010202_EO.fdt) is incorrect, the file name must have changed on disk, using the correct file name (sub-032418_EO.fdt).\n",
      "  Subjects[\"prepSignal_EO\"] = mne.io.read_raw_eeglab(\"/workspace/brail_poc3/experiments/Lemon_PreEEGLAB/{}/{}/{}_EO.set\".format(Subjects[\"Subject_Number\"], Subjects[\"Subject_Number\"], Subjects[\"Subject_Number\"]), preload=True, verbose=False)\n"
     ]
    },
    {
     "name": "stdout",
     "output_type": "stream",
     "text": [
      "Subject number: sub-032418\n"
     ]
    },
    {
     "name": "stderr",
     "output_type": "stream",
     "text": [
      "/tmp/ipykernel_72612/4144421588.py:9: RuntimeWarning: Limited 1 annotation(s) that were expanding outside the data range.\n",
      "  Subjects[\"prepSignal_EO\"] = mne.io.read_raw_eeglab(\"/workspace/brail_poc3/experiments/Lemon_PreEEGLAB/{}/{}/{}_EO.set\".format(Subjects[\"Subject_Number\"], Subjects[\"Subject_Number\"], Subjects[\"Subject_Number\"]), preload=True, verbose=False)\n",
      "/tmp/ipykernel_72612/4144421588.py:9: RuntimeWarning: The data contains 'boundary' events, indicating data discontinuities. Be cautious of filtering and epoching around these events.\n",
      "  Subjects[\"prepSignal_EO\"] = mne.io.read_raw_eeglab(\"/workspace/brail_poc3/experiments/Lemon_PreEEGLAB/{}/{}/{}_EO.set\".format(Subjects[\"Subject_Number\"], Subjects[\"Subject_Number\"], Subjects[\"Subject_Number\"]), preload=True, verbose=False)\n",
      " 54%|██████████████████████                   | 108/201 [00:28<00:24,  3.72it/s]/tmp/ipykernel_72612/4144421588.py:8: RuntimeWarning: Data file name in EEG.data (sub-010204_EC.fdt) is incorrect, the file name must have changed on disk, using the correct file name (sub-032420_EC.fdt).\n",
      "  Subjects[\"prepSignal_EC\"] = mne.io.read_raw_eeglab(\"/workspace/brail_poc3/experiments/Lemon_PreEEGLAB/{}/{}/{}_EC.set\".format(Subjects[\"Subject_Number\"], Subjects[\"Subject_Number\"], Subjects[\"Subject_Number\"]), preload=True, verbose=False)\n",
      "/tmp/ipykernel_72612/4144421588.py:8: RuntimeWarning: Limited 1 annotation(s) that were expanding outside the data range.\n",
      "  Subjects[\"prepSignal_EC\"] = mne.io.read_raw_eeglab(\"/workspace/brail_poc3/experiments/Lemon_PreEEGLAB/{}/{}/{}_EC.set\".format(Subjects[\"Subject_Number\"], Subjects[\"Subject_Number\"], Subjects[\"Subject_Number\"]), preload=True, verbose=False)\n",
      "/tmp/ipykernel_72612/4144421588.py:8: RuntimeWarning: The data contains 'boundary' events, indicating data discontinuities. Be cautious of filtering and epoching around these events.\n",
      "  Subjects[\"prepSignal_EC\"] = mne.io.read_raw_eeglab(\"/workspace/brail_poc3/experiments/Lemon_PreEEGLAB/{}/{}/{}_EC.set\".format(Subjects[\"Subject_Number\"], Subjects[\"Subject_Number\"], Subjects[\"Subject_Number\"]), preload=True, verbose=False)\n",
      "/tmp/ipykernel_72612/4144421588.py:9: RuntimeWarning: Data file name in EEG.data (sub-010204_EO.fdt) is incorrect, the file name must have changed on disk, using the correct file name (sub-032420_EO.fdt).\n",
      "  Subjects[\"prepSignal_EO\"] = mne.io.read_raw_eeglab(\"/workspace/brail_poc3/experiments/Lemon_PreEEGLAB/{}/{}/{}_EO.set\".format(Subjects[\"Subject_Number\"], Subjects[\"Subject_Number\"], Subjects[\"Subject_Number\"]), preload=True, verbose=False)\n"
     ]
    },
    {
     "name": "stdout",
     "output_type": "stream",
     "text": [
      "Subject number: sub-032420\n"
     ]
    },
    {
     "name": "stderr",
     "output_type": "stream",
     "text": [
      "/tmp/ipykernel_72612/4144421588.py:9: RuntimeWarning: Limited 1 annotation(s) that were expanding outside the data range.\n",
      "  Subjects[\"prepSignal_EO\"] = mne.io.read_raw_eeglab(\"/workspace/brail_poc3/experiments/Lemon_PreEEGLAB/{}/{}/{}_EO.set\".format(Subjects[\"Subject_Number\"], Subjects[\"Subject_Number\"], Subjects[\"Subject_Number\"]), preload=True, verbose=False)\n",
      "/tmp/ipykernel_72612/4144421588.py:9: RuntimeWarning: The data contains 'boundary' events, indicating data discontinuities. Be cautious of filtering and epoching around these events.\n",
      "  Subjects[\"prepSignal_EO\"] = mne.io.read_raw_eeglab(\"/workspace/brail_poc3/experiments/Lemon_PreEEGLAB/{}/{}/{}_EO.set\".format(Subjects[\"Subject_Number\"], Subjects[\"Subject_Number\"], Subjects[\"Subject_Number\"]), preload=True, verbose=False)\n",
      " 54%|██████████████████████▏                  | 109/201 [00:29<00:24,  3.77it/s]/tmp/ipykernel_72612/4144421588.py:8: RuntimeWarning: Data file name in EEG.data (sub-010207_EC.fdt) is incorrect, the file name must have changed on disk, using the correct file name (sub-032421_EC.fdt).\n",
      "  Subjects[\"prepSignal_EC\"] = mne.io.read_raw_eeglab(\"/workspace/brail_poc3/experiments/Lemon_PreEEGLAB/{}/{}/{}_EC.set\".format(Subjects[\"Subject_Number\"], Subjects[\"Subject_Number\"], Subjects[\"Subject_Number\"]), preload=True, verbose=False)\n",
      "/tmp/ipykernel_72612/4144421588.py:8: RuntimeWarning: Limited 1 annotation(s) that were expanding outside the data range.\n",
      "  Subjects[\"prepSignal_EC\"] = mne.io.read_raw_eeglab(\"/workspace/brail_poc3/experiments/Lemon_PreEEGLAB/{}/{}/{}_EC.set\".format(Subjects[\"Subject_Number\"], Subjects[\"Subject_Number\"], Subjects[\"Subject_Number\"]), preload=True, verbose=False)\n",
      "/tmp/ipykernel_72612/4144421588.py:8: RuntimeWarning: The data contains 'boundary' events, indicating data discontinuities. Be cautious of filtering and epoching around these events.\n",
      "  Subjects[\"prepSignal_EC\"] = mne.io.read_raw_eeglab(\"/workspace/brail_poc3/experiments/Lemon_PreEEGLAB/{}/{}/{}_EC.set\".format(Subjects[\"Subject_Number\"], Subjects[\"Subject_Number\"], Subjects[\"Subject_Number\"]), preload=True, verbose=False)\n",
      "/tmp/ipykernel_72612/4144421588.py:9: RuntimeWarning: Data file name in EEG.data (sub-010207_EO.fdt) is incorrect, the file name must have changed on disk, using the correct file name (sub-032421_EO.fdt).\n",
      "  Subjects[\"prepSignal_EO\"] = mne.io.read_raw_eeglab(\"/workspace/brail_poc3/experiments/Lemon_PreEEGLAB/{}/{}/{}_EO.set\".format(Subjects[\"Subject_Number\"], Subjects[\"Subject_Number\"], Subjects[\"Subject_Number\"]), preload=True, verbose=False)\n"
     ]
    },
    {
     "name": "stdout",
     "output_type": "stream",
     "text": [
      "Subject number: sub-032421\n"
     ]
    },
    {
     "name": "stderr",
     "output_type": "stream",
     "text": [
      "/tmp/ipykernel_72612/4144421588.py:9: RuntimeWarning: Limited 1 annotation(s) that were expanding outside the data range.\n",
      "  Subjects[\"prepSignal_EO\"] = mne.io.read_raw_eeglab(\"/workspace/brail_poc3/experiments/Lemon_PreEEGLAB/{}/{}/{}_EO.set\".format(Subjects[\"Subject_Number\"], Subjects[\"Subject_Number\"], Subjects[\"Subject_Number\"]), preload=True, verbose=False)\n",
      "/tmp/ipykernel_72612/4144421588.py:9: RuntimeWarning: The data contains 'boundary' events, indicating data discontinuities. Be cautious of filtering and epoching around these events.\n",
      "  Subjects[\"prepSignal_EO\"] = mne.io.read_raw_eeglab(\"/workspace/brail_poc3/experiments/Lemon_PreEEGLAB/{}/{}/{}_EO.set\".format(Subjects[\"Subject_Number\"], Subjects[\"Subject_Number\"], Subjects[\"Subject_Number\"]), preload=True, verbose=False)\n",
      " 55%|██████████████████████▍                  | 110/201 [00:29<00:24,  3.73it/s]/tmp/ipykernel_72612/4144421588.py:8: RuntimeWarning: Data file name in EEG.data (sub-010210_EC.fdt) is incorrect, the file name must have changed on disk, using the correct file name (sub-032422_EC.fdt).\n",
      "  Subjects[\"prepSignal_EC\"] = mne.io.read_raw_eeglab(\"/workspace/brail_poc3/experiments/Lemon_PreEEGLAB/{}/{}/{}_EC.set\".format(Subjects[\"Subject_Number\"], Subjects[\"Subject_Number\"], Subjects[\"Subject_Number\"]), preload=True, verbose=False)\n",
      "/tmp/ipykernel_72612/4144421588.py:8: RuntimeWarning: Limited 1 annotation(s) that were expanding outside the data range.\n",
      "  Subjects[\"prepSignal_EC\"] = mne.io.read_raw_eeglab(\"/workspace/brail_poc3/experiments/Lemon_PreEEGLAB/{}/{}/{}_EC.set\".format(Subjects[\"Subject_Number\"], Subjects[\"Subject_Number\"], Subjects[\"Subject_Number\"]), preload=True, verbose=False)\n",
      "/tmp/ipykernel_72612/4144421588.py:8: RuntimeWarning: The data contains 'boundary' events, indicating data discontinuities. Be cautious of filtering and epoching around these events.\n",
      "  Subjects[\"prepSignal_EC\"] = mne.io.read_raw_eeglab(\"/workspace/brail_poc3/experiments/Lemon_PreEEGLAB/{}/{}/{}_EC.set\".format(Subjects[\"Subject_Number\"], Subjects[\"Subject_Number\"], Subjects[\"Subject_Number\"]), preload=True, verbose=False)\n",
      "/tmp/ipykernel_72612/4144421588.py:9: RuntimeWarning: Data file name in EEG.data (sub-010210_EO.fdt) is incorrect, the file name must have changed on disk, using the correct file name (sub-032422_EO.fdt).\n",
      "  Subjects[\"prepSignal_EO\"] = mne.io.read_raw_eeglab(\"/workspace/brail_poc3/experiments/Lemon_PreEEGLAB/{}/{}/{}_EO.set\".format(Subjects[\"Subject_Number\"], Subjects[\"Subject_Number\"], Subjects[\"Subject_Number\"]), preload=True, verbose=False)\n"
     ]
    },
    {
     "name": "stdout",
     "output_type": "stream",
     "text": [
      "Subject number: sub-032422\n"
     ]
    },
    {
     "name": "stderr",
     "output_type": "stream",
     "text": [
      "/tmp/ipykernel_72612/4144421588.py:9: RuntimeWarning: Limited 1 annotation(s) that were expanding outside the data range.\n",
      "  Subjects[\"prepSignal_EO\"] = mne.io.read_raw_eeglab(\"/workspace/brail_poc3/experiments/Lemon_PreEEGLAB/{}/{}/{}_EO.set\".format(Subjects[\"Subject_Number\"], Subjects[\"Subject_Number\"], Subjects[\"Subject_Number\"]), preload=True, verbose=False)\n",
      "/tmp/ipykernel_72612/4144421588.py:9: RuntimeWarning: The data contains 'boundary' events, indicating data discontinuities. Be cautious of filtering and epoching around these events.\n",
      "  Subjects[\"prepSignal_EO\"] = mne.io.read_raw_eeglab(\"/workspace/brail_poc3/experiments/Lemon_PreEEGLAB/{}/{}/{}_EO.set\".format(Subjects[\"Subject_Number\"], Subjects[\"Subject_Number\"], Subjects[\"Subject_Number\"]), preload=True, verbose=False)\n",
      " 55%|██████████████████████▋                  | 111/201 [00:29<00:24,  3.74it/s]/tmp/ipykernel_72612/4144421588.py:8: RuntimeWarning: Data file name in EEG.data (sub-010213_EC.fdt) is incorrect, the file name must have changed on disk, using the correct file name (sub-032423_EC.fdt).\n",
      "  Subjects[\"prepSignal_EC\"] = mne.io.read_raw_eeglab(\"/workspace/brail_poc3/experiments/Lemon_PreEEGLAB/{}/{}/{}_EC.set\".format(Subjects[\"Subject_Number\"], Subjects[\"Subject_Number\"], Subjects[\"Subject_Number\"]), preload=True, verbose=False)\n",
      "/tmp/ipykernel_72612/4144421588.py:8: RuntimeWarning: Limited 1 annotation(s) that were expanding outside the data range.\n",
      "  Subjects[\"prepSignal_EC\"] = mne.io.read_raw_eeglab(\"/workspace/brail_poc3/experiments/Lemon_PreEEGLAB/{}/{}/{}_EC.set\".format(Subjects[\"Subject_Number\"], Subjects[\"Subject_Number\"], Subjects[\"Subject_Number\"]), preload=True, verbose=False)\n",
      "/tmp/ipykernel_72612/4144421588.py:8: RuntimeWarning: The data contains 'boundary' events, indicating data discontinuities. Be cautious of filtering and epoching around these events.\n",
      "  Subjects[\"prepSignal_EC\"] = mne.io.read_raw_eeglab(\"/workspace/brail_poc3/experiments/Lemon_PreEEGLAB/{}/{}/{}_EC.set\".format(Subjects[\"Subject_Number\"], Subjects[\"Subject_Number\"], Subjects[\"Subject_Number\"]), preload=True, verbose=False)\n",
      "/tmp/ipykernel_72612/4144421588.py:9: RuntimeWarning: Data file name in EEG.data (sub-010213_EO.fdt) is incorrect, the file name must have changed on disk, using the correct file name (sub-032423_EO.fdt).\n",
      "  Subjects[\"prepSignal_EO\"] = mne.io.read_raw_eeglab(\"/workspace/brail_poc3/experiments/Lemon_PreEEGLAB/{}/{}/{}_EO.set\".format(Subjects[\"Subject_Number\"], Subjects[\"Subject_Number\"], Subjects[\"Subject_Number\"]), preload=True, verbose=False)\n"
     ]
    },
    {
     "name": "stdout",
     "output_type": "stream",
     "text": [
      "Subject number: sub-032423\n"
     ]
    },
    {
     "name": "stderr",
     "output_type": "stream",
     "text": [
      "/tmp/ipykernel_72612/4144421588.py:9: RuntimeWarning: Limited 1 annotation(s) that were expanding outside the data range.\n",
      "  Subjects[\"prepSignal_EO\"] = mne.io.read_raw_eeglab(\"/workspace/brail_poc3/experiments/Lemon_PreEEGLAB/{}/{}/{}_EO.set\".format(Subjects[\"Subject_Number\"], Subjects[\"Subject_Number\"], Subjects[\"Subject_Number\"]), preload=True, verbose=False)\n",
      "/tmp/ipykernel_72612/4144421588.py:9: RuntimeWarning: The data contains 'boundary' events, indicating data discontinuities. Be cautious of filtering and epoching around these events.\n",
      "  Subjects[\"prepSignal_EO\"] = mne.io.read_raw_eeglab(\"/workspace/brail_poc3/experiments/Lemon_PreEEGLAB/{}/{}/{}_EO.set\".format(Subjects[\"Subject_Number\"], Subjects[\"Subject_Number\"], Subjects[\"Subject_Number\"]), preload=True, verbose=False)\n",
      " 56%|██████████████████████▊                  | 112/201 [00:30<00:23,  3.71it/s]/tmp/ipykernel_72612/4144421588.py:8: RuntimeWarning: Data file name in EEG.data (sub-010214_EC.fdt) is incorrect, the file name must have changed on disk, using the correct file name (sub-032424_EC.fdt).\n",
      "  Subjects[\"prepSignal_EC\"] = mne.io.read_raw_eeglab(\"/workspace/brail_poc3/experiments/Lemon_PreEEGLAB/{}/{}/{}_EC.set\".format(Subjects[\"Subject_Number\"], Subjects[\"Subject_Number\"], Subjects[\"Subject_Number\"]), preload=True, verbose=False)\n",
      "/tmp/ipykernel_72612/4144421588.py:8: RuntimeWarning: Limited 1 annotation(s) that were expanding outside the data range.\n",
      "  Subjects[\"prepSignal_EC\"] = mne.io.read_raw_eeglab(\"/workspace/brail_poc3/experiments/Lemon_PreEEGLAB/{}/{}/{}_EC.set\".format(Subjects[\"Subject_Number\"], Subjects[\"Subject_Number\"], Subjects[\"Subject_Number\"]), preload=True, verbose=False)\n",
      "/tmp/ipykernel_72612/4144421588.py:8: RuntimeWarning: The data contains 'boundary' events, indicating data discontinuities. Be cautious of filtering and epoching around these events.\n",
      "  Subjects[\"prepSignal_EC\"] = mne.io.read_raw_eeglab(\"/workspace/brail_poc3/experiments/Lemon_PreEEGLAB/{}/{}/{}_EC.set\".format(Subjects[\"Subject_Number\"], Subjects[\"Subject_Number\"], Subjects[\"Subject_Number\"]), preload=True, verbose=False)\n",
      "/tmp/ipykernel_72612/4144421588.py:9: RuntimeWarning: Data file name in EEG.data (sub-010214_EO.fdt) is incorrect, the file name must have changed on disk, using the correct file name (sub-032424_EO.fdt).\n",
      "  Subjects[\"prepSignal_EO\"] = mne.io.read_raw_eeglab(\"/workspace/brail_poc3/experiments/Lemon_PreEEGLAB/{}/{}/{}_EO.set\".format(Subjects[\"Subject_Number\"], Subjects[\"Subject_Number\"], Subjects[\"Subject_Number\"]), preload=True, verbose=False)\n"
     ]
    },
    {
     "name": "stdout",
     "output_type": "stream",
     "text": [
      "Subject number: sub-032424\n"
     ]
    },
    {
     "name": "stderr",
     "output_type": "stream",
     "text": [
      "/tmp/ipykernel_72612/4144421588.py:9: RuntimeWarning: Limited 1 annotation(s) that were expanding outside the data range.\n",
      "  Subjects[\"prepSignal_EO\"] = mne.io.read_raw_eeglab(\"/workspace/brail_poc3/experiments/Lemon_PreEEGLAB/{}/{}/{}_EO.set\".format(Subjects[\"Subject_Number\"], Subjects[\"Subject_Number\"], Subjects[\"Subject_Number\"]), preload=True, verbose=False)\n",
      "/tmp/ipykernel_72612/4144421588.py:9: RuntimeWarning: The data contains 'boundary' events, indicating data discontinuities. Be cautious of filtering and epoching around these events.\n",
      "  Subjects[\"prepSignal_EO\"] = mne.io.read_raw_eeglab(\"/workspace/brail_poc3/experiments/Lemon_PreEEGLAB/{}/{}/{}_EO.set\".format(Subjects[\"Subject_Number\"], Subjects[\"Subject_Number\"], Subjects[\"Subject_Number\"]), preload=True, verbose=False)\n",
      " 56%|███████████████████████                  | 113/201 [00:30<00:23,  3.72it/s]/tmp/ipykernel_72612/4144421588.py:8: RuntimeWarning: Data file name in EEG.data (sub-010215_EC.fdt) is incorrect, the file name must have changed on disk, using the correct file name (sub-032425_EC.fdt).\n",
      "  Subjects[\"prepSignal_EC\"] = mne.io.read_raw_eeglab(\"/workspace/brail_poc3/experiments/Lemon_PreEEGLAB/{}/{}/{}_EC.set\".format(Subjects[\"Subject_Number\"], Subjects[\"Subject_Number\"], Subjects[\"Subject_Number\"]), preload=True, verbose=False)\n",
      "/tmp/ipykernel_72612/4144421588.py:8: RuntimeWarning: Limited 1 annotation(s) that were expanding outside the data range.\n",
      "  Subjects[\"prepSignal_EC\"] = mne.io.read_raw_eeglab(\"/workspace/brail_poc3/experiments/Lemon_PreEEGLAB/{}/{}/{}_EC.set\".format(Subjects[\"Subject_Number\"], Subjects[\"Subject_Number\"], Subjects[\"Subject_Number\"]), preload=True, verbose=False)\n",
      "/tmp/ipykernel_72612/4144421588.py:8: RuntimeWarning: The data contains 'boundary' events, indicating data discontinuities. Be cautious of filtering and epoching around these events.\n",
      "  Subjects[\"prepSignal_EC\"] = mne.io.read_raw_eeglab(\"/workspace/brail_poc3/experiments/Lemon_PreEEGLAB/{}/{}/{}_EC.set\".format(Subjects[\"Subject_Number\"], Subjects[\"Subject_Number\"], Subjects[\"Subject_Number\"]), preload=True, verbose=False)\n",
      "/tmp/ipykernel_72612/4144421588.py:9: RuntimeWarning: Data file name in EEG.data (sub-010215_EO.fdt) is incorrect, the file name must have changed on disk, using the correct file name (sub-032425_EO.fdt).\n",
      "  Subjects[\"prepSignal_EO\"] = mne.io.read_raw_eeglab(\"/workspace/brail_poc3/experiments/Lemon_PreEEGLAB/{}/{}/{}_EO.set\".format(Subjects[\"Subject_Number\"], Subjects[\"Subject_Number\"], Subjects[\"Subject_Number\"]), preload=True, verbose=False)\n"
     ]
    },
    {
     "name": "stdout",
     "output_type": "stream",
     "text": [
      "Subject number: sub-032425\n"
     ]
    },
    {
     "name": "stderr",
     "output_type": "stream",
     "text": [
      "/tmp/ipykernel_72612/4144421588.py:9: RuntimeWarning: Limited 1 annotation(s) that were expanding outside the data range.\n",
      "  Subjects[\"prepSignal_EO\"] = mne.io.read_raw_eeglab(\"/workspace/brail_poc3/experiments/Lemon_PreEEGLAB/{}/{}/{}_EO.set\".format(Subjects[\"Subject_Number\"], Subjects[\"Subject_Number\"], Subjects[\"Subject_Number\"]), preload=True, verbose=False)\n",
      "/tmp/ipykernel_72612/4144421588.py:9: RuntimeWarning: The data contains 'boundary' events, indicating data discontinuities. Be cautious of filtering and epoching around these events.\n",
      "  Subjects[\"prepSignal_EO\"] = mne.io.read_raw_eeglab(\"/workspace/brail_poc3/experiments/Lemon_PreEEGLAB/{}/{}/{}_EO.set\".format(Subjects[\"Subject_Number\"], Subjects[\"Subject_Number\"], Subjects[\"Subject_Number\"]), preload=True, verbose=False)\n",
      " 57%|███████████████████████▎                 | 114/201 [00:30<00:23,  3.71it/s]/tmp/ipykernel_72612/4144421588.py:8: RuntimeWarning: Data file name in EEG.data (sub-010218_EC.fdt) is incorrect, the file name must have changed on disk, using the correct file name (sub-032427_EC.fdt).\n",
      "  Subjects[\"prepSignal_EC\"] = mne.io.read_raw_eeglab(\"/workspace/brail_poc3/experiments/Lemon_PreEEGLAB/{}/{}/{}_EC.set\".format(Subjects[\"Subject_Number\"], Subjects[\"Subject_Number\"], Subjects[\"Subject_Number\"]), preload=True, verbose=False)\n",
      "/tmp/ipykernel_72612/4144421588.py:8: RuntimeWarning: Limited 1 annotation(s) that were expanding outside the data range.\n",
      "  Subjects[\"prepSignal_EC\"] = mne.io.read_raw_eeglab(\"/workspace/brail_poc3/experiments/Lemon_PreEEGLAB/{}/{}/{}_EC.set\".format(Subjects[\"Subject_Number\"], Subjects[\"Subject_Number\"], Subjects[\"Subject_Number\"]), preload=True, verbose=False)\n",
      "/tmp/ipykernel_72612/4144421588.py:8: RuntimeWarning: The data contains 'boundary' events, indicating data discontinuities. Be cautious of filtering and epoching around these events.\n",
      "  Subjects[\"prepSignal_EC\"] = mne.io.read_raw_eeglab(\"/workspace/brail_poc3/experiments/Lemon_PreEEGLAB/{}/{}/{}_EC.set\".format(Subjects[\"Subject_Number\"], Subjects[\"Subject_Number\"], Subjects[\"Subject_Number\"]), preload=True, verbose=False)\n",
      "/tmp/ipykernel_72612/4144421588.py:9: RuntimeWarning: Data file name in EEG.data (sub-010218_EO.fdt) is incorrect, the file name must have changed on disk, using the correct file name (sub-032427_EO.fdt).\n",
      "  Subjects[\"prepSignal_EO\"] = mne.io.read_raw_eeglab(\"/workspace/brail_poc3/experiments/Lemon_PreEEGLAB/{}/{}/{}_EO.set\".format(Subjects[\"Subject_Number\"], Subjects[\"Subject_Number\"], Subjects[\"Subject_Number\"]), preload=True, verbose=False)\n"
     ]
    },
    {
     "name": "stdout",
     "output_type": "stream",
     "text": [
      "Subject number: sub-032427\n"
     ]
    },
    {
     "name": "stderr",
     "output_type": "stream",
     "text": [
      "/tmp/ipykernel_72612/4144421588.py:9: RuntimeWarning: Limited 1 annotation(s) that were expanding outside the data range.\n",
      "  Subjects[\"prepSignal_EO\"] = mne.io.read_raw_eeglab(\"/workspace/brail_poc3/experiments/Lemon_PreEEGLAB/{}/{}/{}_EO.set\".format(Subjects[\"Subject_Number\"], Subjects[\"Subject_Number\"], Subjects[\"Subject_Number\"]), preload=True, verbose=False)\n",
      "/tmp/ipykernel_72612/4144421588.py:9: RuntimeWarning: The data contains 'boundary' events, indicating data discontinuities. Be cautious of filtering and epoching around these events.\n",
      "  Subjects[\"prepSignal_EO\"] = mne.io.read_raw_eeglab(\"/workspace/brail_poc3/experiments/Lemon_PreEEGLAB/{}/{}/{}_EO.set\".format(Subjects[\"Subject_Number\"], Subjects[\"Subject_Number\"], Subjects[\"Subject_Number\"]), preload=True, verbose=False)\n",
      " 57%|███████████████████████▍                 | 115/201 [00:30<00:23,  3.71it/s]/tmp/ipykernel_72612/4144421588.py:8: RuntimeWarning: Data file name in EEG.data (sub-010219_EC.fdt) is incorrect, the file name must have changed on disk, using the correct file name (sub-032428_EC.fdt).\n",
      "  Subjects[\"prepSignal_EC\"] = mne.io.read_raw_eeglab(\"/workspace/brail_poc3/experiments/Lemon_PreEEGLAB/{}/{}/{}_EC.set\".format(Subjects[\"Subject_Number\"], Subjects[\"Subject_Number\"], Subjects[\"Subject_Number\"]), preload=True, verbose=False)\n",
      "/tmp/ipykernel_72612/4144421588.py:8: RuntimeWarning: Limited 1 annotation(s) that were expanding outside the data range.\n",
      "  Subjects[\"prepSignal_EC\"] = mne.io.read_raw_eeglab(\"/workspace/brail_poc3/experiments/Lemon_PreEEGLAB/{}/{}/{}_EC.set\".format(Subjects[\"Subject_Number\"], Subjects[\"Subject_Number\"], Subjects[\"Subject_Number\"]), preload=True, verbose=False)\n",
      "/tmp/ipykernel_72612/4144421588.py:8: RuntimeWarning: The data contains 'boundary' events, indicating data discontinuities. Be cautious of filtering and epoching around these events.\n",
      "  Subjects[\"prepSignal_EC\"] = mne.io.read_raw_eeglab(\"/workspace/brail_poc3/experiments/Lemon_PreEEGLAB/{}/{}/{}_EC.set\".format(Subjects[\"Subject_Number\"], Subjects[\"Subject_Number\"], Subjects[\"Subject_Number\"]), preload=True, verbose=False)\n",
      "/tmp/ipykernel_72612/4144421588.py:9: RuntimeWarning: Data file name in EEG.data (sub-010219_EO.fdt) is incorrect, the file name must have changed on disk, using the correct file name (sub-032428_EO.fdt).\n",
      "  Subjects[\"prepSignal_EO\"] = mne.io.read_raw_eeglab(\"/workspace/brail_poc3/experiments/Lemon_PreEEGLAB/{}/{}/{}_EO.set\".format(Subjects[\"Subject_Number\"], Subjects[\"Subject_Number\"], Subjects[\"Subject_Number\"]), preload=True, verbose=False)\n"
     ]
    },
    {
     "name": "stdout",
     "output_type": "stream",
     "text": [
      "Subject number: sub-032428\n"
     ]
    },
    {
     "name": "stderr",
     "output_type": "stream",
     "text": [
      "/tmp/ipykernel_72612/4144421588.py:9: RuntimeWarning: Limited 1 annotation(s) that were expanding outside the data range.\n",
      "  Subjects[\"prepSignal_EO\"] = mne.io.read_raw_eeglab(\"/workspace/brail_poc3/experiments/Lemon_PreEEGLAB/{}/{}/{}_EO.set\".format(Subjects[\"Subject_Number\"], Subjects[\"Subject_Number\"], Subjects[\"Subject_Number\"]), preload=True, verbose=False)\n",
      "/tmp/ipykernel_72612/4144421588.py:9: RuntimeWarning: The data contains 'boundary' events, indicating data discontinuities. Be cautious of filtering and epoching around these events.\n",
      "  Subjects[\"prepSignal_EO\"] = mne.io.read_raw_eeglab(\"/workspace/brail_poc3/experiments/Lemon_PreEEGLAB/{}/{}/{}_EO.set\".format(Subjects[\"Subject_Number\"], Subjects[\"Subject_Number\"], Subjects[\"Subject_Number\"]), preload=True, verbose=False)\n",
      " 58%|███████████████████████▋                 | 116/201 [00:31<00:22,  3.77it/s]/tmp/ipykernel_72612/4144421588.py:8: RuntimeWarning: Data file name in EEG.data (sub-010220_EC.fdt) is incorrect, the file name must have changed on disk, using the correct file name (sub-032429_EC.fdt).\n",
      "  Subjects[\"prepSignal_EC\"] = mne.io.read_raw_eeglab(\"/workspace/brail_poc3/experiments/Lemon_PreEEGLAB/{}/{}/{}_EC.set\".format(Subjects[\"Subject_Number\"], Subjects[\"Subject_Number\"], Subjects[\"Subject_Number\"]), preload=True, verbose=False)\n",
      "/tmp/ipykernel_72612/4144421588.py:8: RuntimeWarning: Limited 1 annotation(s) that were expanding outside the data range.\n",
      "  Subjects[\"prepSignal_EC\"] = mne.io.read_raw_eeglab(\"/workspace/brail_poc3/experiments/Lemon_PreEEGLAB/{}/{}/{}_EC.set\".format(Subjects[\"Subject_Number\"], Subjects[\"Subject_Number\"], Subjects[\"Subject_Number\"]), preload=True, verbose=False)\n",
      "/tmp/ipykernel_72612/4144421588.py:8: RuntimeWarning: The data contains 'boundary' events, indicating data discontinuities. Be cautious of filtering and epoching around these events.\n",
      "  Subjects[\"prepSignal_EC\"] = mne.io.read_raw_eeglab(\"/workspace/brail_poc3/experiments/Lemon_PreEEGLAB/{}/{}/{}_EC.set\".format(Subjects[\"Subject_Number\"], Subjects[\"Subject_Number\"], Subjects[\"Subject_Number\"]), preload=True, verbose=False)\n",
      "/tmp/ipykernel_72612/4144421588.py:9: RuntimeWarning: Data file name in EEG.data (sub-010220_EO.fdt) is incorrect, the file name must have changed on disk, using the correct file name (sub-032429_EO.fdt).\n",
      "  Subjects[\"prepSignal_EO\"] = mne.io.read_raw_eeglab(\"/workspace/brail_poc3/experiments/Lemon_PreEEGLAB/{}/{}/{}_EO.set\".format(Subjects[\"Subject_Number\"], Subjects[\"Subject_Number\"], Subjects[\"Subject_Number\"]), preload=True, verbose=False)\n"
     ]
    },
    {
     "name": "stdout",
     "output_type": "stream",
     "text": [
      "Subject number: sub-032429\n"
     ]
    },
    {
     "name": "stderr",
     "output_type": "stream",
     "text": [
      "/tmp/ipykernel_72612/4144421588.py:9: RuntimeWarning: Limited 1 annotation(s) that were expanding outside the data range.\n",
      "  Subjects[\"prepSignal_EO\"] = mne.io.read_raw_eeglab(\"/workspace/brail_poc3/experiments/Lemon_PreEEGLAB/{}/{}/{}_EO.set\".format(Subjects[\"Subject_Number\"], Subjects[\"Subject_Number\"], Subjects[\"Subject_Number\"]), preload=True, verbose=False)\n",
      "/tmp/ipykernel_72612/4144421588.py:9: RuntimeWarning: The data contains 'boundary' events, indicating data discontinuities. Be cautious of filtering and epoching around these events.\n",
      "  Subjects[\"prepSignal_EO\"] = mne.io.read_raw_eeglab(\"/workspace/brail_poc3/experiments/Lemon_PreEEGLAB/{}/{}/{}_EO.set\".format(Subjects[\"Subject_Number\"], Subjects[\"Subject_Number\"], Subjects[\"Subject_Number\"]), preload=True, verbose=False)\n",
      " 58%|███████████████████████▊                 | 117/201 [00:31<00:22,  3.73it/s]/tmp/ipykernel_72612/4144421588.py:8: RuntimeWarning: Data file name in EEG.data (sub-010222_EC.fdt) is incorrect, the file name must have changed on disk, using the correct file name (sub-032430_EC.fdt).\n",
      "  Subjects[\"prepSignal_EC\"] = mne.io.read_raw_eeglab(\"/workspace/brail_poc3/experiments/Lemon_PreEEGLAB/{}/{}/{}_EC.set\".format(Subjects[\"Subject_Number\"], Subjects[\"Subject_Number\"], Subjects[\"Subject_Number\"]), preload=True, verbose=False)\n",
      "/tmp/ipykernel_72612/4144421588.py:8: RuntimeWarning: Limited 1 annotation(s) that were expanding outside the data range.\n",
      "  Subjects[\"prepSignal_EC\"] = mne.io.read_raw_eeglab(\"/workspace/brail_poc3/experiments/Lemon_PreEEGLAB/{}/{}/{}_EC.set\".format(Subjects[\"Subject_Number\"], Subjects[\"Subject_Number\"], Subjects[\"Subject_Number\"]), preload=True, verbose=False)\n",
      "/tmp/ipykernel_72612/4144421588.py:8: RuntimeWarning: The data contains 'boundary' events, indicating data discontinuities. Be cautious of filtering and epoching around these events.\n",
      "  Subjects[\"prepSignal_EC\"] = mne.io.read_raw_eeglab(\"/workspace/brail_poc3/experiments/Lemon_PreEEGLAB/{}/{}/{}_EC.set\".format(Subjects[\"Subject_Number\"], Subjects[\"Subject_Number\"], Subjects[\"Subject_Number\"]), preload=True, verbose=False)\n",
      "/tmp/ipykernel_72612/4144421588.py:9: RuntimeWarning: Data file name in EEG.data (sub-010222_EO.fdt) is incorrect, the file name must have changed on disk, using the correct file name (sub-032430_EO.fdt).\n",
      "  Subjects[\"prepSignal_EO\"] = mne.io.read_raw_eeglab(\"/workspace/brail_poc3/experiments/Lemon_PreEEGLAB/{}/{}/{}_EO.set\".format(Subjects[\"Subject_Number\"], Subjects[\"Subject_Number\"], Subjects[\"Subject_Number\"]), preload=True, verbose=False)\n"
     ]
    },
    {
     "name": "stdout",
     "output_type": "stream",
     "text": [
      "Subject number: sub-032430\n"
     ]
    },
    {
     "name": "stderr",
     "output_type": "stream",
     "text": [
      "/tmp/ipykernel_72612/4144421588.py:9: RuntimeWarning: Limited 1 annotation(s) that were expanding outside the data range.\n",
      "  Subjects[\"prepSignal_EO\"] = mne.io.read_raw_eeglab(\"/workspace/brail_poc3/experiments/Lemon_PreEEGLAB/{}/{}/{}_EO.set\".format(Subjects[\"Subject_Number\"], Subjects[\"Subject_Number\"], Subjects[\"Subject_Number\"]), preload=True, verbose=False)\n",
      "/tmp/ipykernel_72612/4144421588.py:9: RuntimeWarning: The data contains 'boundary' events, indicating data discontinuities. Be cautious of filtering and epoching around these events.\n",
      "  Subjects[\"prepSignal_EO\"] = mne.io.read_raw_eeglab(\"/workspace/brail_poc3/experiments/Lemon_PreEEGLAB/{}/{}/{}_EO.set\".format(Subjects[\"Subject_Number\"], Subjects[\"Subject_Number\"], Subjects[\"Subject_Number\"]), preload=True, verbose=False)\n",
      " 59%|████████████████████████                 | 118/201 [00:31<00:22,  3.73it/s]/tmp/ipykernel_72612/4144421588.py:8: RuntimeWarning: Data file name in EEG.data (sub-010223_EC.fdt) is incorrect, the file name must have changed on disk, using the correct file name (sub-032431_EC.fdt).\n",
      "  Subjects[\"prepSignal_EC\"] = mne.io.read_raw_eeglab(\"/workspace/brail_poc3/experiments/Lemon_PreEEGLAB/{}/{}/{}_EC.set\".format(Subjects[\"Subject_Number\"], Subjects[\"Subject_Number\"], Subjects[\"Subject_Number\"]), preload=True, verbose=False)\n"
     ]
    },
    {
     "name": "stdout",
     "output_type": "stream",
     "text": [
      "Subject number: sub-032431\n"
     ]
    },
    {
     "name": "stderr",
     "output_type": "stream",
     "text": [
      "/tmp/ipykernel_72612/4144421588.py:8: RuntimeWarning: Limited 1 annotation(s) that were expanding outside the data range.\n",
      "  Subjects[\"prepSignal_EC\"] = mne.io.read_raw_eeglab(\"/workspace/brail_poc3/experiments/Lemon_PreEEGLAB/{}/{}/{}_EC.set\".format(Subjects[\"Subject_Number\"], Subjects[\"Subject_Number\"], Subjects[\"Subject_Number\"]), preload=True, verbose=False)\n",
      "/tmp/ipykernel_72612/4144421588.py:8: RuntimeWarning: The data contains 'boundary' events, indicating data discontinuities. Be cautious of filtering and epoching around these events.\n",
      "  Subjects[\"prepSignal_EC\"] = mne.io.read_raw_eeglab(\"/workspace/brail_poc3/experiments/Lemon_PreEEGLAB/{}/{}/{}_EC.set\".format(Subjects[\"Subject_Number\"], Subjects[\"Subject_Number\"], Subjects[\"Subject_Number\"]), preload=True, verbose=False)\n",
      "/tmp/ipykernel_72612/4144421588.py:9: RuntimeWarning: Data file name in EEG.data (sub-010223_EO.fdt) is incorrect, the file name must have changed on disk, using the correct file name (sub-032431_EO.fdt).\n",
      "  Subjects[\"prepSignal_EO\"] = mne.io.read_raw_eeglab(\"/workspace/brail_poc3/experiments/Lemon_PreEEGLAB/{}/{}/{}_EO.set\".format(Subjects[\"Subject_Number\"], Subjects[\"Subject_Number\"], Subjects[\"Subject_Number\"]), preload=True, verbose=False)\n",
      "/tmp/ipykernel_72612/4144421588.py:9: RuntimeWarning: Limited 1 annotation(s) that were expanding outside the data range.\n",
      "  Subjects[\"prepSignal_EO\"] = mne.io.read_raw_eeglab(\"/workspace/brail_poc3/experiments/Lemon_PreEEGLAB/{}/{}/{}_EO.set\".format(Subjects[\"Subject_Number\"], Subjects[\"Subject_Number\"], Subjects[\"Subject_Number\"]), preload=True, verbose=False)\n",
      "/tmp/ipykernel_72612/4144421588.py:9: RuntimeWarning: The data contains 'boundary' events, indicating data discontinuities. Be cautious of filtering and epoching around these events.\n",
      "  Subjects[\"prepSignal_EO\"] = mne.io.read_raw_eeglab(\"/workspace/brail_poc3/experiments/Lemon_PreEEGLAB/{}/{}/{}_EO.set\".format(Subjects[\"Subject_Number\"], Subjects[\"Subject_Number\"], Subjects[\"Subject_Number\"]), preload=True, verbose=False)\n",
      " 59%|████████████████████████▎                | 119/201 [00:32<00:24,  3.28it/s]/tmp/ipykernel_72612/4144421588.py:8: RuntimeWarning: Data file name in EEG.data (sub-010224_EC.fdt) is incorrect, the file name must have changed on disk, using the correct file name (sub-032432_EC.fdt).\n",
      "  Subjects[\"prepSignal_EC\"] = mne.io.read_raw_eeglab(\"/workspace/brail_poc3/experiments/Lemon_PreEEGLAB/{}/{}/{}_EC.set\".format(Subjects[\"Subject_Number\"], Subjects[\"Subject_Number\"], Subjects[\"Subject_Number\"]), preload=True, verbose=False)\n"
     ]
    },
    {
     "name": "stdout",
     "output_type": "stream",
     "text": [
      "Subject number: sub-032432\n"
     ]
    },
    {
     "name": "stderr",
     "output_type": "stream",
     "text": [
      "/tmp/ipykernel_72612/4144421588.py:8: RuntimeWarning: Limited 1 annotation(s) that were expanding outside the data range.\n",
      "  Subjects[\"prepSignal_EC\"] = mne.io.read_raw_eeglab(\"/workspace/brail_poc3/experiments/Lemon_PreEEGLAB/{}/{}/{}_EC.set\".format(Subjects[\"Subject_Number\"], Subjects[\"Subject_Number\"], Subjects[\"Subject_Number\"]), preload=True, verbose=False)\n",
      "/tmp/ipykernel_72612/4144421588.py:8: RuntimeWarning: The data contains 'boundary' events, indicating data discontinuities. Be cautious of filtering and epoching around these events.\n",
      "  Subjects[\"prepSignal_EC\"] = mne.io.read_raw_eeglab(\"/workspace/brail_poc3/experiments/Lemon_PreEEGLAB/{}/{}/{}_EC.set\".format(Subjects[\"Subject_Number\"], Subjects[\"Subject_Number\"], Subjects[\"Subject_Number\"]), preload=True, verbose=False)\n",
      "/tmp/ipykernel_72612/4144421588.py:9: RuntimeWarning: Data file name in EEG.data (sub-010224_EO.fdt) is incorrect, the file name must have changed on disk, using the correct file name (sub-032432_EO.fdt).\n",
      "  Subjects[\"prepSignal_EO\"] = mne.io.read_raw_eeglab(\"/workspace/brail_poc3/experiments/Lemon_PreEEGLAB/{}/{}/{}_EO.set\".format(Subjects[\"Subject_Number\"], Subjects[\"Subject_Number\"], Subjects[\"Subject_Number\"]), preload=True, verbose=False)\n",
      "/tmp/ipykernel_72612/4144421588.py:9: RuntimeWarning: Limited 1 annotation(s) that were expanding outside the data range.\n",
      "  Subjects[\"prepSignal_EO\"] = mne.io.read_raw_eeglab(\"/workspace/brail_poc3/experiments/Lemon_PreEEGLAB/{}/{}/{}_EO.set\".format(Subjects[\"Subject_Number\"], Subjects[\"Subject_Number\"], Subjects[\"Subject_Number\"]), preload=True, verbose=False)\n",
      "/tmp/ipykernel_72612/4144421588.py:9: RuntimeWarning: The data contains 'boundary' events, indicating data discontinuities. Be cautious of filtering and epoching around these events.\n",
      "  Subjects[\"prepSignal_EO\"] = mne.io.read_raw_eeglab(\"/workspace/brail_poc3/experiments/Lemon_PreEEGLAB/{}/{}/{}_EO.set\".format(Subjects[\"Subject_Number\"], Subjects[\"Subject_Number\"], Subjects[\"Subject_Number\"]), preload=True, verbose=False)\n",
      " 60%|████████████████████████▍                | 120/201 [00:32<00:23,  3.40it/s]/tmp/ipykernel_72612/4144421588.py:8: RuntimeWarning: Data file name in EEG.data (sub-010226_EC.fdt) is incorrect, the file name must have changed on disk, using the correct file name (sub-032434_EC.fdt).\n",
      "  Subjects[\"prepSignal_EC\"] = mne.io.read_raw_eeglab(\"/workspace/brail_poc3/experiments/Lemon_PreEEGLAB/{}/{}/{}_EC.set\".format(Subjects[\"Subject_Number\"], Subjects[\"Subject_Number\"], Subjects[\"Subject_Number\"]), preload=True, verbose=False)\n",
      "/tmp/ipykernel_72612/4144421588.py:8: RuntimeWarning: Limited 1 annotation(s) that were expanding outside the data range.\n",
      "  Subjects[\"prepSignal_EC\"] = mne.io.read_raw_eeglab(\"/workspace/brail_poc3/experiments/Lemon_PreEEGLAB/{}/{}/{}_EC.set\".format(Subjects[\"Subject_Number\"], Subjects[\"Subject_Number\"], Subjects[\"Subject_Number\"]), preload=True, verbose=False)\n",
      "/tmp/ipykernel_72612/4144421588.py:8: RuntimeWarning: The data contains 'boundary' events, indicating data discontinuities. Be cautious of filtering and epoching around these events.\n",
      "  Subjects[\"prepSignal_EC\"] = mne.io.read_raw_eeglab(\"/workspace/brail_poc3/experiments/Lemon_PreEEGLAB/{}/{}/{}_EC.set\".format(Subjects[\"Subject_Number\"], Subjects[\"Subject_Number\"], Subjects[\"Subject_Number\"]), preload=True, verbose=False)\n",
      "/tmp/ipykernel_72612/4144421588.py:9: RuntimeWarning: Data file name in EEG.data (sub-010226_EO.fdt) is incorrect, the file name must have changed on disk, using the correct file name (sub-032434_EO.fdt).\n",
      "  Subjects[\"prepSignal_EO\"] = mne.io.read_raw_eeglab(\"/workspace/brail_poc3/experiments/Lemon_PreEEGLAB/{}/{}/{}_EO.set\".format(Subjects[\"Subject_Number\"], Subjects[\"Subject_Number\"], Subjects[\"Subject_Number\"]), preload=True, verbose=False)\n"
     ]
    },
    {
     "name": "stdout",
     "output_type": "stream",
     "text": [
      "Subject number: sub-032434\n"
     ]
    },
    {
     "name": "stderr",
     "output_type": "stream",
     "text": [
      "/tmp/ipykernel_72612/4144421588.py:9: RuntimeWarning: Limited 1 annotation(s) that were expanding outside the data range.\n",
      "  Subjects[\"prepSignal_EO\"] = mne.io.read_raw_eeglab(\"/workspace/brail_poc3/experiments/Lemon_PreEEGLAB/{}/{}/{}_EO.set\".format(Subjects[\"Subject_Number\"], Subjects[\"Subject_Number\"], Subjects[\"Subject_Number\"]), preload=True, verbose=False)\n",
      "/tmp/ipykernel_72612/4144421588.py:9: RuntimeWarning: The data contains 'boundary' events, indicating data discontinuities. Be cautious of filtering and epoching around these events.\n",
      "  Subjects[\"prepSignal_EO\"] = mne.io.read_raw_eeglab(\"/workspace/brail_poc3/experiments/Lemon_PreEEGLAB/{}/{}/{}_EO.set\".format(Subjects[\"Subject_Number\"], Subjects[\"Subject_Number\"], Subjects[\"Subject_Number\"]), preload=True, verbose=False)\n",
      " 60%|████████████████████████▋                | 121/201 [00:32<00:23,  3.45it/s]/tmp/ipykernel_72612/4144421588.py:8: RuntimeWarning: Data file name in EEG.data (sub-010227_EC.fdt) is incorrect, the file name must have changed on disk, using the correct file name (sub-032435_EC.fdt).\n",
      "  Subjects[\"prepSignal_EC\"] = mne.io.read_raw_eeglab(\"/workspace/brail_poc3/experiments/Lemon_PreEEGLAB/{}/{}/{}_EC.set\".format(Subjects[\"Subject_Number\"], Subjects[\"Subject_Number\"], Subjects[\"Subject_Number\"]), preload=True, verbose=False)\n",
      "/tmp/ipykernel_72612/4144421588.py:8: RuntimeWarning: Limited 1 annotation(s) that were expanding outside the data range.\n",
      "  Subjects[\"prepSignal_EC\"] = mne.io.read_raw_eeglab(\"/workspace/brail_poc3/experiments/Lemon_PreEEGLAB/{}/{}/{}_EC.set\".format(Subjects[\"Subject_Number\"], Subjects[\"Subject_Number\"], Subjects[\"Subject_Number\"]), preload=True, verbose=False)\n",
      "/tmp/ipykernel_72612/4144421588.py:8: RuntimeWarning: The data contains 'boundary' events, indicating data discontinuities. Be cautious of filtering and epoching around these events.\n",
      "  Subjects[\"prepSignal_EC\"] = mne.io.read_raw_eeglab(\"/workspace/brail_poc3/experiments/Lemon_PreEEGLAB/{}/{}/{}_EC.set\".format(Subjects[\"Subject_Number\"], Subjects[\"Subject_Number\"], Subjects[\"Subject_Number\"]), preload=True, verbose=False)\n",
      "/tmp/ipykernel_72612/4144421588.py:9: RuntimeWarning: Data file name in EEG.data (sub-010227_EO.fdt) is incorrect, the file name must have changed on disk, using the correct file name (sub-032435_EO.fdt).\n",
      "  Subjects[\"prepSignal_EO\"] = mne.io.read_raw_eeglab(\"/workspace/brail_poc3/experiments/Lemon_PreEEGLAB/{}/{}/{}_EO.set\".format(Subjects[\"Subject_Number\"], Subjects[\"Subject_Number\"], Subjects[\"Subject_Number\"]), preload=True, verbose=False)\n"
     ]
    },
    {
     "name": "stdout",
     "output_type": "stream",
     "text": [
      "Subject number: sub-032435\n"
     ]
    },
    {
     "name": "stderr",
     "output_type": "stream",
     "text": [
      "/tmp/ipykernel_72612/4144421588.py:9: RuntimeWarning: Limited 1 annotation(s) that were expanding outside the data range.\n",
      "  Subjects[\"prepSignal_EO\"] = mne.io.read_raw_eeglab(\"/workspace/brail_poc3/experiments/Lemon_PreEEGLAB/{}/{}/{}_EO.set\".format(Subjects[\"Subject_Number\"], Subjects[\"Subject_Number\"], Subjects[\"Subject_Number\"]), preload=True, verbose=False)\n",
      "/tmp/ipykernel_72612/4144421588.py:9: RuntimeWarning: The data contains 'boundary' events, indicating data discontinuities. Be cautious of filtering and epoching around these events.\n",
      "  Subjects[\"prepSignal_EO\"] = mne.io.read_raw_eeglab(\"/workspace/brail_poc3/experiments/Lemon_PreEEGLAB/{}/{}/{}_EO.set\".format(Subjects[\"Subject_Number\"], Subjects[\"Subject_Number\"], Subjects[\"Subject_Number\"]), preload=True, verbose=False)\n",
      " 61%|████████████████████████▉                | 122/201 [00:32<00:22,  3.44it/s]/tmp/ipykernel_72612/4144421588.py:8: RuntimeWarning: Data file name in EEG.data (sub-010228_EC.fdt) is incorrect, the file name must have changed on disk, using the correct file name (sub-032436_EC.fdt).\n",
      "  Subjects[\"prepSignal_EC\"] = mne.io.read_raw_eeglab(\"/workspace/brail_poc3/experiments/Lemon_PreEEGLAB/{}/{}/{}_EC.set\".format(Subjects[\"Subject_Number\"], Subjects[\"Subject_Number\"], Subjects[\"Subject_Number\"]), preload=True, verbose=False)\n",
      "/tmp/ipykernel_72612/4144421588.py:8: RuntimeWarning: Limited 1 annotation(s) that were expanding outside the data range.\n",
      "  Subjects[\"prepSignal_EC\"] = mne.io.read_raw_eeglab(\"/workspace/brail_poc3/experiments/Lemon_PreEEGLAB/{}/{}/{}_EC.set\".format(Subjects[\"Subject_Number\"], Subjects[\"Subject_Number\"], Subjects[\"Subject_Number\"]), preload=True, verbose=False)\n",
      "/tmp/ipykernel_72612/4144421588.py:8: RuntimeWarning: The data contains 'boundary' events, indicating data discontinuities. Be cautious of filtering and epoching around these events.\n",
      "  Subjects[\"prepSignal_EC\"] = mne.io.read_raw_eeglab(\"/workspace/brail_poc3/experiments/Lemon_PreEEGLAB/{}/{}/{}_EC.set\".format(Subjects[\"Subject_Number\"], Subjects[\"Subject_Number\"], Subjects[\"Subject_Number\"]), preload=True, verbose=False)\n",
      "/tmp/ipykernel_72612/4144421588.py:9: RuntimeWarning: Data file name in EEG.data (sub-010228_EO.fdt) is incorrect, the file name must have changed on disk, using the correct file name (sub-032436_EO.fdt).\n",
      "  Subjects[\"prepSignal_EO\"] = mne.io.read_raw_eeglab(\"/workspace/brail_poc3/experiments/Lemon_PreEEGLAB/{}/{}/{}_EO.set\".format(Subjects[\"Subject_Number\"], Subjects[\"Subject_Number\"], Subjects[\"Subject_Number\"]), preload=True, verbose=False)\n"
     ]
    },
    {
     "name": "stdout",
     "output_type": "stream",
     "text": [
      "Subject number: sub-032436\n"
     ]
    },
    {
     "name": "stderr",
     "output_type": "stream",
     "text": [
      "/tmp/ipykernel_72612/4144421588.py:9: RuntimeWarning: Limited 1 annotation(s) that were expanding outside the data range.\n",
      "  Subjects[\"prepSignal_EO\"] = mne.io.read_raw_eeglab(\"/workspace/brail_poc3/experiments/Lemon_PreEEGLAB/{}/{}/{}_EO.set\".format(Subjects[\"Subject_Number\"], Subjects[\"Subject_Number\"], Subjects[\"Subject_Number\"]), preload=True, verbose=False)\n",
      "/tmp/ipykernel_72612/4144421588.py:9: RuntimeWarning: The data contains 'boundary' events, indicating data discontinuities. Be cautious of filtering and epoching around these events.\n",
      "  Subjects[\"prepSignal_EO\"] = mne.io.read_raw_eeglab(\"/workspace/brail_poc3/experiments/Lemon_PreEEGLAB/{}/{}/{}_EO.set\".format(Subjects[\"Subject_Number\"], Subjects[\"Subject_Number\"], Subjects[\"Subject_Number\"]), preload=True, verbose=False)\n",
      " 61%|█████████████████████████                | 123/201 [00:33<00:22,  3.55it/s]/tmp/ipykernel_72612/4144421588.py:8: RuntimeWarning: Data file name in EEG.data (sub-010230_EC.fdt) is incorrect, the file name must have changed on disk, using the correct file name (sub-032438_EC.fdt).\n",
      "  Subjects[\"prepSignal_EC\"] = mne.io.read_raw_eeglab(\"/workspace/brail_poc3/experiments/Lemon_PreEEGLAB/{}/{}/{}_EC.set\".format(Subjects[\"Subject_Number\"], Subjects[\"Subject_Number\"], Subjects[\"Subject_Number\"]), preload=True, verbose=False)\n",
      "/tmp/ipykernel_72612/4144421588.py:8: RuntimeWarning: Limited 1 annotation(s) that were expanding outside the data range.\n",
      "  Subjects[\"prepSignal_EC\"] = mne.io.read_raw_eeglab(\"/workspace/brail_poc3/experiments/Lemon_PreEEGLAB/{}/{}/{}_EC.set\".format(Subjects[\"Subject_Number\"], Subjects[\"Subject_Number\"], Subjects[\"Subject_Number\"]), preload=True, verbose=False)\n",
      "/tmp/ipykernel_72612/4144421588.py:8: RuntimeWarning: The data contains 'boundary' events, indicating data discontinuities. Be cautious of filtering and epoching around these events.\n",
      "  Subjects[\"prepSignal_EC\"] = mne.io.read_raw_eeglab(\"/workspace/brail_poc3/experiments/Lemon_PreEEGLAB/{}/{}/{}_EC.set\".format(Subjects[\"Subject_Number\"], Subjects[\"Subject_Number\"], Subjects[\"Subject_Number\"]), preload=True, verbose=False)\n",
      "/tmp/ipykernel_72612/4144421588.py:9: RuntimeWarning: Data file name in EEG.data (sub-010230_EO.fdt) is incorrect, the file name must have changed on disk, using the correct file name (sub-032438_EO.fdt).\n",
      "  Subjects[\"prepSignal_EO\"] = mne.io.read_raw_eeglab(\"/workspace/brail_poc3/experiments/Lemon_PreEEGLAB/{}/{}/{}_EO.set\".format(Subjects[\"Subject_Number\"], Subjects[\"Subject_Number\"], Subjects[\"Subject_Number\"]), preload=True, verbose=False)\n"
     ]
    },
    {
     "name": "stdout",
     "output_type": "stream",
     "text": [
      "Subject number: sub-032438\n"
     ]
    },
    {
     "name": "stderr",
     "output_type": "stream",
     "text": [
      "/tmp/ipykernel_72612/4144421588.py:9: RuntimeWarning: Limited 1 annotation(s) that were expanding outside the data range.\n",
      "  Subjects[\"prepSignal_EO\"] = mne.io.read_raw_eeglab(\"/workspace/brail_poc3/experiments/Lemon_PreEEGLAB/{}/{}/{}_EO.set\".format(Subjects[\"Subject_Number\"], Subjects[\"Subject_Number\"], Subjects[\"Subject_Number\"]), preload=True, verbose=False)\n",
      "/tmp/ipykernel_72612/4144421588.py:9: RuntimeWarning: The data contains 'boundary' events, indicating data discontinuities. Be cautious of filtering and epoching around these events.\n",
      "  Subjects[\"prepSignal_EO\"] = mne.io.read_raw_eeglab(\"/workspace/brail_poc3/experiments/Lemon_PreEEGLAB/{}/{}/{}_EO.set\".format(Subjects[\"Subject_Number\"], Subjects[\"Subject_Number\"], Subjects[\"Subject_Number\"]), preload=True, verbose=False)\n",
      " 62%|█████████████████████████▎               | 124/201 [00:33<00:21,  3.51it/s]/tmp/ipykernel_72612/4144421588.py:8: RuntimeWarning: Data file name in EEG.data (sub-010231_EC.fdt) is incorrect, the file name must have changed on disk, using the correct file name (sub-032439_EC.fdt).\n",
      "  Subjects[\"prepSignal_EC\"] = mne.io.read_raw_eeglab(\"/workspace/brail_poc3/experiments/Lemon_PreEEGLAB/{}/{}/{}_EC.set\".format(Subjects[\"Subject_Number\"], Subjects[\"Subject_Number\"], Subjects[\"Subject_Number\"]), preload=True, verbose=False)\n",
      "/tmp/ipykernel_72612/4144421588.py:8: RuntimeWarning: Limited 1 annotation(s) that were expanding outside the data range.\n",
      "  Subjects[\"prepSignal_EC\"] = mne.io.read_raw_eeglab(\"/workspace/brail_poc3/experiments/Lemon_PreEEGLAB/{}/{}/{}_EC.set\".format(Subjects[\"Subject_Number\"], Subjects[\"Subject_Number\"], Subjects[\"Subject_Number\"]), preload=True, verbose=False)\n",
      "/tmp/ipykernel_72612/4144421588.py:8: RuntimeWarning: The data contains 'boundary' events, indicating data discontinuities. Be cautious of filtering and epoching around these events.\n",
      "  Subjects[\"prepSignal_EC\"] = mne.io.read_raw_eeglab(\"/workspace/brail_poc3/experiments/Lemon_PreEEGLAB/{}/{}/{}_EC.set\".format(Subjects[\"Subject_Number\"], Subjects[\"Subject_Number\"], Subjects[\"Subject_Number\"]), preload=True, verbose=False)\n",
      "/tmp/ipykernel_72612/4144421588.py:9: RuntimeWarning: Data file name in EEG.data (sub-010231_EO.fdt) is incorrect, the file name must have changed on disk, using the correct file name (sub-032439_EO.fdt).\n",
      "  Subjects[\"prepSignal_EO\"] = mne.io.read_raw_eeglab(\"/workspace/brail_poc3/experiments/Lemon_PreEEGLAB/{}/{}/{}_EO.set\".format(Subjects[\"Subject_Number\"], Subjects[\"Subject_Number\"], Subjects[\"Subject_Number\"]), preload=True, verbose=False)\n"
     ]
    },
    {
     "name": "stdout",
     "output_type": "stream",
     "text": [
      "Subject number: sub-032439\n"
     ]
    },
    {
     "name": "stderr",
     "output_type": "stream",
     "text": [
      "/tmp/ipykernel_72612/4144421588.py:9: RuntimeWarning: Limited 1 annotation(s) that were expanding outside the data range.\n",
      "  Subjects[\"prepSignal_EO\"] = mne.io.read_raw_eeglab(\"/workspace/brail_poc3/experiments/Lemon_PreEEGLAB/{}/{}/{}_EO.set\".format(Subjects[\"Subject_Number\"], Subjects[\"Subject_Number\"], Subjects[\"Subject_Number\"]), preload=True, verbose=False)\n",
      "/tmp/ipykernel_72612/4144421588.py:9: RuntimeWarning: The data contains 'boundary' events, indicating data discontinuities. Be cautious of filtering and epoching around these events.\n",
      "  Subjects[\"prepSignal_EO\"] = mne.io.read_raw_eeglab(\"/workspace/brail_poc3/experiments/Lemon_PreEEGLAB/{}/{}/{}_EO.set\".format(Subjects[\"Subject_Number\"], Subjects[\"Subject_Number\"], Subjects[\"Subject_Number\"]), preload=True, verbose=False)\n",
      " 62%|█████████████████████████▍               | 125/201 [00:33<00:21,  3.48it/s]/tmp/ipykernel_72612/4144421588.py:8: RuntimeWarning: Data file name in EEG.data (sub-010232_EC.fdt) is incorrect, the file name must have changed on disk, using the correct file name (sub-032440_EC.fdt).\n",
      "  Subjects[\"prepSignal_EC\"] = mne.io.read_raw_eeglab(\"/workspace/brail_poc3/experiments/Lemon_PreEEGLAB/{}/{}/{}_EC.set\".format(Subjects[\"Subject_Number\"], Subjects[\"Subject_Number\"], Subjects[\"Subject_Number\"]), preload=True, verbose=False)\n",
      "/tmp/ipykernel_72612/4144421588.py:8: RuntimeWarning: Limited 1 annotation(s) that were expanding outside the data range.\n",
      "  Subjects[\"prepSignal_EC\"] = mne.io.read_raw_eeglab(\"/workspace/brail_poc3/experiments/Lemon_PreEEGLAB/{}/{}/{}_EC.set\".format(Subjects[\"Subject_Number\"], Subjects[\"Subject_Number\"], Subjects[\"Subject_Number\"]), preload=True, verbose=False)\n",
      "/tmp/ipykernel_72612/4144421588.py:8: RuntimeWarning: The data contains 'boundary' events, indicating data discontinuities. Be cautious of filtering and epoching around these events.\n",
      "  Subjects[\"prepSignal_EC\"] = mne.io.read_raw_eeglab(\"/workspace/brail_poc3/experiments/Lemon_PreEEGLAB/{}/{}/{}_EC.set\".format(Subjects[\"Subject_Number\"], Subjects[\"Subject_Number\"], Subjects[\"Subject_Number\"]), preload=True, verbose=False)\n",
      "/tmp/ipykernel_72612/4144421588.py:9: RuntimeWarning: Data file name in EEG.data (sub-010232_EO.fdt) is incorrect, the file name must have changed on disk, using the correct file name (sub-032440_EO.fdt).\n",
      "  Subjects[\"prepSignal_EO\"] = mne.io.read_raw_eeglab(\"/workspace/brail_poc3/experiments/Lemon_PreEEGLAB/{}/{}/{}_EO.set\".format(Subjects[\"Subject_Number\"], Subjects[\"Subject_Number\"], Subjects[\"Subject_Number\"]), preload=True, verbose=False)\n"
     ]
    },
    {
     "name": "stdout",
     "output_type": "stream",
     "text": [
      "Subject number: sub-032440\n"
     ]
    },
    {
     "name": "stderr",
     "output_type": "stream",
     "text": [
      "/tmp/ipykernel_72612/4144421588.py:9: RuntimeWarning: Limited 1 annotation(s) that were expanding outside the data range.\n",
      "  Subjects[\"prepSignal_EO\"] = mne.io.read_raw_eeglab(\"/workspace/brail_poc3/experiments/Lemon_PreEEGLAB/{}/{}/{}_EO.set\".format(Subjects[\"Subject_Number\"], Subjects[\"Subject_Number\"], Subjects[\"Subject_Number\"]), preload=True, verbose=False)\n",
      "/tmp/ipykernel_72612/4144421588.py:9: RuntimeWarning: The data contains 'boundary' events, indicating data discontinuities. Be cautious of filtering and epoching around these events.\n",
      "  Subjects[\"prepSignal_EO\"] = mne.io.read_raw_eeglab(\"/workspace/brail_poc3/experiments/Lemon_PreEEGLAB/{}/{}/{}_EO.set\".format(Subjects[\"Subject_Number\"], Subjects[\"Subject_Number\"], Subjects[\"Subject_Number\"]), preload=True, verbose=False)\n",
      " 63%|█████████████████████████▋               | 126/201 [00:33<00:21,  3.45it/s]/tmp/ipykernel_72612/4144421588.py:8: RuntimeWarning: Data file name in EEG.data (sub-010233_EC.fdt) is incorrect, the file name must have changed on disk, using the correct file name (sub-032441_EC.fdt).\n",
      "  Subjects[\"prepSignal_EC\"] = mne.io.read_raw_eeglab(\"/workspace/brail_poc3/experiments/Lemon_PreEEGLAB/{}/{}/{}_EC.set\".format(Subjects[\"Subject_Number\"], Subjects[\"Subject_Number\"], Subjects[\"Subject_Number\"]), preload=True, verbose=False)\n",
      "/tmp/ipykernel_72612/4144421588.py:8: RuntimeWarning: Limited 1 annotation(s) that were expanding outside the data range.\n",
      "  Subjects[\"prepSignal_EC\"] = mne.io.read_raw_eeglab(\"/workspace/brail_poc3/experiments/Lemon_PreEEGLAB/{}/{}/{}_EC.set\".format(Subjects[\"Subject_Number\"], Subjects[\"Subject_Number\"], Subjects[\"Subject_Number\"]), preload=True, verbose=False)\n",
      "/tmp/ipykernel_72612/4144421588.py:8: RuntimeWarning: The data contains 'boundary' events, indicating data discontinuities. Be cautious of filtering and epoching around these events.\n",
      "  Subjects[\"prepSignal_EC\"] = mne.io.read_raw_eeglab(\"/workspace/brail_poc3/experiments/Lemon_PreEEGLAB/{}/{}/{}_EC.set\".format(Subjects[\"Subject_Number\"], Subjects[\"Subject_Number\"], Subjects[\"Subject_Number\"]), preload=True, verbose=False)\n",
      "/tmp/ipykernel_72612/4144421588.py:9: RuntimeWarning: Data file name in EEG.data (sub-010233_EO.fdt) is incorrect, the file name must have changed on disk, using the correct file name (sub-032441_EO.fdt).\n",
      "  Subjects[\"prepSignal_EO\"] = mne.io.read_raw_eeglab(\"/workspace/brail_poc3/experiments/Lemon_PreEEGLAB/{}/{}/{}_EO.set\".format(Subjects[\"Subject_Number\"], Subjects[\"Subject_Number\"], Subjects[\"Subject_Number\"]), preload=True, verbose=False)\n"
     ]
    },
    {
     "name": "stdout",
     "output_type": "stream",
     "text": [
      "Subject number: sub-032441\n"
     ]
    },
    {
     "name": "stderr",
     "output_type": "stream",
     "text": [
      "/tmp/ipykernel_72612/4144421588.py:9: RuntimeWarning: Limited 1 annotation(s) that were expanding outside the data range.\n",
      "  Subjects[\"prepSignal_EO\"] = mne.io.read_raw_eeglab(\"/workspace/brail_poc3/experiments/Lemon_PreEEGLAB/{}/{}/{}_EO.set\".format(Subjects[\"Subject_Number\"], Subjects[\"Subject_Number\"], Subjects[\"Subject_Number\"]), preload=True, verbose=False)\n",
      "/tmp/ipykernel_72612/4144421588.py:9: RuntimeWarning: The data contains 'boundary' events, indicating data discontinuities. Be cautious of filtering and epoching around these events.\n",
      "  Subjects[\"prepSignal_EO\"] = mne.io.read_raw_eeglab(\"/workspace/brail_poc3/experiments/Lemon_PreEEGLAB/{}/{}/{}_EO.set\".format(Subjects[\"Subject_Number\"], Subjects[\"Subject_Number\"], Subjects[\"Subject_Number\"]), preload=True, verbose=False)\n",
      " 63%|█████████████████████████▉               | 127/201 [00:34<00:21,  3.44it/s]/tmp/ipykernel_72612/4144421588.py:8: RuntimeWarning: Data file name in EEG.data (sub-010234_EC.fdt) is incorrect, the file name must have changed on disk, using the correct file name (sub-032442_EC.fdt).\n",
      "  Subjects[\"prepSignal_EC\"] = mne.io.read_raw_eeglab(\"/workspace/brail_poc3/experiments/Lemon_PreEEGLAB/{}/{}/{}_EC.set\".format(Subjects[\"Subject_Number\"], Subjects[\"Subject_Number\"], Subjects[\"Subject_Number\"]), preload=True, verbose=False)\n",
      "/tmp/ipykernel_72612/4144421588.py:8: RuntimeWarning: Limited 1 annotation(s) that were expanding outside the data range.\n",
      "  Subjects[\"prepSignal_EC\"] = mne.io.read_raw_eeglab(\"/workspace/brail_poc3/experiments/Lemon_PreEEGLAB/{}/{}/{}_EC.set\".format(Subjects[\"Subject_Number\"], Subjects[\"Subject_Number\"], Subjects[\"Subject_Number\"]), preload=True, verbose=False)\n",
      "/tmp/ipykernel_72612/4144421588.py:8: RuntimeWarning: The data contains 'boundary' events, indicating data discontinuities. Be cautious of filtering and epoching around these events.\n",
      "  Subjects[\"prepSignal_EC\"] = mne.io.read_raw_eeglab(\"/workspace/brail_poc3/experiments/Lemon_PreEEGLAB/{}/{}/{}_EC.set\".format(Subjects[\"Subject_Number\"], Subjects[\"Subject_Number\"], Subjects[\"Subject_Number\"]), preload=True, verbose=False)\n",
      "/tmp/ipykernel_72612/4144421588.py:9: RuntimeWarning: Data file name in EEG.data (sub-010234_EO.fdt) is incorrect, the file name must have changed on disk, using the correct file name (sub-032442_EO.fdt).\n",
      "  Subjects[\"prepSignal_EO\"] = mne.io.read_raw_eeglab(\"/workspace/brail_poc3/experiments/Lemon_PreEEGLAB/{}/{}/{}_EO.set\".format(Subjects[\"Subject_Number\"], Subjects[\"Subject_Number\"], Subjects[\"Subject_Number\"]), preload=True, verbose=False)\n"
     ]
    },
    {
     "name": "stdout",
     "output_type": "stream",
     "text": [
      "Subject number: sub-032442\n"
     ]
    },
    {
     "name": "stderr",
     "output_type": "stream",
     "text": [
      "/tmp/ipykernel_72612/4144421588.py:9: RuntimeWarning: Limited 1 annotation(s) that were expanding outside the data range.\n",
      "  Subjects[\"prepSignal_EO\"] = mne.io.read_raw_eeglab(\"/workspace/brail_poc3/experiments/Lemon_PreEEGLAB/{}/{}/{}_EO.set\".format(Subjects[\"Subject_Number\"], Subjects[\"Subject_Number\"], Subjects[\"Subject_Number\"]), preload=True, verbose=False)\n",
      "/tmp/ipykernel_72612/4144421588.py:9: RuntimeWarning: The data contains 'boundary' events, indicating data discontinuities. Be cautious of filtering and epoching around these events.\n",
      "  Subjects[\"prepSignal_EO\"] = mne.io.read_raw_eeglab(\"/workspace/brail_poc3/experiments/Lemon_PreEEGLAB/{}/{}/{}_EO.set\".format(Subjects[\"Subject_Number\"], Subjects[\"Subject_Number\"], Subjects[\"Subject_Number\"]), preload=True, verbose=False)\n",
      " 64%|██████████████████████████               | 128/201 [00:34<00:21,  3.44it/s]/tmp/ipykernel_72612/4144421588.py:8: RuntimeWarning: Data file name in EEG.data (sub-010236_EC.fdt) is incorrect, the file name must have changed on disk, using the correct file name (sub-032444_EC.fdt).\n",
      "  Subjects[\"prepSignal_EC\"] = mne.io.read_raw_eeglab(\"/workspace/brail_poc3/experiments/Lemon_PreEEGLAB/{}/{}/{}_EC.set\".format(Subjects[\"Subject_Number\"], Subjects[\"Subject_Number\"], Subjects[\"Subject_Number\"]), preload=True, verbose=False)\n",
      "/tmp/ipykernel_72612/4144421588.py:8: RuntimeWarning: Limited 1 annotation(s) that were expanding outside the data range.\n",
      "  Subjects[\"prepSignal_EC\"] = mne.io.read_raw_eeglab(\"/workspace/brail_poc3/experiments/Lemon_PreEEGLAB/{}/{}/{}_EC.set\".format(Subjects[\"Subject_Number\"], Subjects[\"Subject_Number\"], Subjects[\"Subject_Number\"]), preload=True, verbose=False)\n",
      "/tmp/ipykernel_72612/4144421588.py:8: RuntimeWarning: The data contains 'boundary' events, indicating data discontinuities. Be cautious of filtering and epoching around these events.\n",
      "  Subjects[\"prepSignal_EC\"] = mne.io.read_raw_eeglab(\"/workspace/brail_poc3/experiments/Lemon_PreEEGLAB/{}/{}/{}_EC.set\".format(Subjects[\"Subject_Number\"], Subjects[\"Subject_Number\"], Subjects[\"Subject_Number\"]), preload=True, verbose=False)\n",
      "/tmp/ipykernel_72612/4144421588.py:9: RuntimeWarning: Data file name in EEG.data (sub-010236_EO.fdt) is incorrect, the file name must have changed on disk, using the correct file name (sub-032444_EO.fdt).\n",
      "  Subjects[\"prepSignal_EO\"] = mne.io.read_raw_eeglab(\"/workspace/brail_poc3/experiments/Lemon_PreEEGLAB/{}/{}/{}_EO.set\".format(Subjects[\"Subject_Number\"], Subjects[\"Subject_Number\"], Subjects[\"Subject_Number\"]), preload=True, verbose=False)\n"
     ]
    },
    {
     "name": "stdout",
     "output_type": "stream",
     "text": [
      "Subject number: sub-032444\n"
     ]
    },
    {
     "name": "stderr",
     "output_type": "stream",
     "text": [
      "/tmp/ipykernel_72612/4144421588.py:9: RuntimeWarning: Limited 1 annotation(s) that were expanding outside the data range.\n",
      "  Subjects[\"prepSignal_EO\"] = mne.io.read_raw_eeglab(\"/workspace/brail_poc3/experiments/Lemon_PreEEGLAB/{}/{}/{}_EO.set\".format(Subjects[\"Subject_Number\"], Subjects[\"Subject_Number\"], Subjects[\"Subject_Number\"]), preload=True, verbose=False)\n",
      "/tmp/ipykernel_72612/4144421588.py:9: RuntimeWarning: The data contains 'boundary' events, indicating data discontinuities. Be cautious of filtering and epoching around these events.\n",
      "  Subjects[\"prepSignal_EO\"] = mne.io.read_raw_eeglab(\"/workspace/brail_poc3/experiments/Lemon_PreEEGLAB/{}/{}/{}_EO.set\".format(Subjects[\"Subject_Number\"], Subjects[\"Subject_Number\"], Subjects[\"Subject_Number\"]), preload=True, verbose=False)\n",
      " 64%|██████████████████████████▎              | 129/201 [00:34<00:21,  3.39it/s]/tmp/ipykernel_72612/4144421588.py:8: RuntimeWarning: Data file name in EEG.data (sub-010238_EC.fdt) is incorrect, the file name must have changed on disk, using the correct file name (sub-032446_EC.fdt).\n",
      "  Subjects[\"prepSignal_EC\"] = mne.io.read_raw_eeglab(\"/workspace/brail_poc3/experiments/Lemon_PreEEGLAB/{}/{}/{}_EC.set\".format(Subjects[\"Subject_Number\"], Subjects[\"Subject_Number\"], Subjects[\"Subject_Number\"]), preload=True, verbose=False)\n",
      "/tmp/ipykernel_72612/4144421588.py:8: RuntimeWarning: Limited 1 annotation(s) that were expanding outside the data range.\n",
      "  Subjects[\"prepSignal_EC\"] = mne.io.read_raw_eeglab(\"/workspace/brail_poc3/experiments/Lemon_PreEEGLAB/{}/{}/{}_EC.set\".format(Subjects[\"Subject_Number\"], Subjects[\"Subject_Number\"], Subjects[\"Subject_Number\"]), preload=True, verbose=False)\n",
      "/tmp/ipykernel_72612/4144421588.py:8: RuntimeWarning: The data contains 'boundary' events, indicating data discontinuities. Be cautious of filtering and epoching around these events.\n",
      "  Subjects[\"prepSignal_EC\"] = mne.io.read_raw_eeglab(\"/workspace/brail_poc3/experiments/Lemon_PreEEGLAB/{}/{}/{}_EC.set\".format(Subjects[\"Subject_Number\"], Subjects[\"Subject_Number\"], Subjects[\"Subject_Number\"]), preload=True, verbose=False)\n",
      "/tmp/ipykernel_72612/4144421588.py:9: RuntimeWarning: Data file name in EEG.data (sub-010238_EO.fdt) is incorrect, the file name must have changed on disk, using the correct file name (sub-032446_EO.fdt).\n",
      "  Subjects[\"prepSignal_EO\"] = mne.io.read_raw_eeglab(\"/workspace/brail_poc3/experiments/Lemon_PreEEGLAB/{}/{}/{}_EO.set\".format(Subjects[\"Subject_Number\"], Subjects[\"Subject_Number\"], Subjects[\"Subject_Number\"]), preload=True, verbose=False)\n"
     ]
    },
    {
     "name": "stdout",
     "output_type": "stream",
     "text": [
      "Subject number: sub-032446\n"
     ]
    },
    {
     "name": "stderr",
     "output_type": "stream",
     "text": [
      "/tmp/ipykernel_72612/4144421588.py:9: RuntimeWarning: Limited 1 annotation(s) that were expanding outside the data range.\n",
      "  Subjects[\"prepSignal_EO\"] = mne.io.read_raw_eeglab(\"/workspace/brail_poc3/experiments/Lemon_PreEEGLAB/{}/{}/{}_EO.set\".format(Subjects[\"Subject_Number\"], Subjects[\"Subject_Number\"], Subjects[\"Subject_Number\"]), preload=True, verbose=False)\n",
      "/tmp/ipykernel_72612/4144421588.py:9: RuntimeWarning: The data contains 'boundary' events, indicating data discontinuities. Be cautious of filtering and epoching around these events.\n",
      "  Subjects[\"prepSignal_EO\"] = mne.io.read_raw_eeglab(\"/workspace/brail_poc3/experiments/Lemon_PreEEGLAB/{}/{}/{}_EO.set\".format(Subjects[\"Subject_Number\"], Subjects[\"Subject_Number\"], Subjects[\"Subject_Number\"]), preload=True, verbose=False)\n",
      " 65%|██████████████████████████▌              | 130/201 [00:35<00:20,  3.40it/s]/tmp/ipykernel_72612/4144421588.py:8: RuntimeWarning: Data file name in EEG.data (sub-010239_EC.fdt) is incorrect, the file name must have changed on disk, using the correct file name (sub-032447_EC.fdt).\n",
      "  Subjects[\"prepSignal_EC\"] = mne.io.read_raw_eeglab(\"/workspace/brail_poc3/experiments/Lemon_PreEEGLAB/{}/{}/{}_EC.set\".format(Subjects[\"Subject_Number\"], Subjects[\"Subject_Number\"], Subjects[\"Subject_Number\"]), preload=True, verbose=False)\n",
      "/tmp/ipykernel_72612/4144421588.py:8: RuntimeWarning: Limited 1 annotation(s) that were expanding outside the data range.\n",
      "  Subjects[\"prepSignal_EC\"] = mne.io.read_raw_eeglab(\"/workspace/brail_poc3/experiments/Lemon_PreEEGLAB/{}/{}/{}_EC.set\".format(Subjects[\"Subject_Number\"], Subjects[\"Subject_Number\"], Subjects[\"Subject_Number\"]), preload=True, verbose=False)\n",
      "/tmp/ipykernel_72612/4144421588.py:8: RuntimeWarning: The data contains 'boundary' events, indicating data discontinuities. Be cautious of filtering and epoching around these events.\n",
      "  Subjects[\"prepSignal_EC\"] = mne.io.read_raw_eeglab(\"/workspace/brail_poc3/experiments/Lemon_PreEEGLAB/{}/{}/{}_EC.set\".format(Subjects[\"Subject_Number\"], Subjects[\"Subject_Number\"], Subjects[\"Subject_Number\"]), preload=True, verbose=False)\n",
      "/tmp/ipykernel_72612/4144421588.py:9: RuntimeWarning: Data file name in EEG.data (sub-010239_EO.fdt) is incorrect, the file name must have changed on disk, using the correct file name (sub-032447_EO.fdt).\n",
      "  Subjects[\"prepSignal_EO\"] = mne.io.read_raw_eeglab(\"/workspace/brail_poc3/experiments/Lemon_PreEEGLAB/{}/{}/{}_EO.set\".format(Subjects[\"Subject_Number\"], Subjects[\"Subject_Number\"], Subjects[\"Subject_Number\"]), preload=True, verbose=False)\n"
     ]
    },
    {
     "name": "stdout",
     "output_type": "stream",
     "text": [
      "Subject number: sub-032447\n"
     ]
    },
    {
     "name": "stderr",
     "output_type": "stream",
     "text": [
      "/tmp/ipykernel_72612/4144421588.py:9: RuntimeWarning: Limited 1 annotation(s) that were expanding outside the data range.\n",
      "  Subjects[\"prepSignal_EO\"] = mne.io.read_raw_eeglab(\"/workspace/brail_poc3/experiments/Lemon_PreEEGLAB/{}/{}/{}_EO.set\".format(Subjects[\"Subject_Number\"], Subjects[\"Subject_Number\"], Subjects[\"Subject_Number\"]), preload=True, verbose=False)\n",
      "/tmp/ipykernel_72612/4144421588.py:9: RuntimeWarning: The data contains 'boundary' events, indicating data discontinuities. Be cautious of filtering and epoching around these events.\n",
      "  Subjects[\"prepSignal_EO\"] = mne.io.read_raw_eeglab(\"/workspace/brail_poc3/experiments/Lemon_PreEEGLAB/{}/{}/{}_EO.set\".format(Subjects[\"Subject_Number\"], Subjects[\"Subject_Number\"], Subjects[\"Subject_Number\"]), preload=True, verbose=False)\n",
      " 65%|██████████████████████████▋              | 131/201 [00:35<00:20,  3.45it/s]/tmp/ipykernel_72612/4144421588.py:8: RuntimeWarning: Data file name in EEG.data (sub-010240_EC.fdt) is incorrect, the file name must have changed on disk, using the correct file name (sub-032448_EC.fdt).\n",
      "  Subjects[\"prepSignal_EC\"] = mne.io.read_raw_eeglab(\"/workspace/brail_poc3/experiments/Lemon_PreEEGLAB/{}/{}/{}_EC.set\".format(Subjects[\"Subject_Number\"], Subjects[\"Subject_Number\"], Subjects[\"Subject_Number\"]), preload=True, verbose=False)\n",
      "/tmp/ipykernel_72612/4144421588.py:8: RuntimeWarning: Limited 1 annotation(s) that were expanding outside the data range.\n",
      "  Subjects[\"prepSignal_EC\"] = mne.io.read_raw_eeglab(\"/workspace/brail_poc3/experiments/Lemon_PreEEGLAB/{}/{}/{}_EC.set\".format(Subjects[\"Subject_Number\"], Subjects[\"Subject_Number\"], Subjects[\"Subject_Number\"]), preload=True, verbose=False)\n",
      "/tmp/ipykernel_72612/4144421588.py:8: RuntimeWarning: The data contains 'boundary' events, indicating data discontinuities. Be cautious of filtering and epoching around these events.\n",
      "  Subjects[\"prepSignal_EC\"] = mne.io.read_raw_eeglab(\"/workspace/brail_poc3/experiments/Lemon_PreEEGLAB/{}/{}/{}_EC.set\".format(Subjects[\"Subject_Number\"], Subjects[\"Subject_Number\"], Subjects[\"Subject_Number\"]), preload=True, verbose=False)\n"
     ]
    },
    {
     "name": "stdout",
     "output_type": "stream",
     "text": [
      "Subject number: sub-032448\n"
     ]
    },
    {
     "name": "stderr",
     "output_type": "stream",
     "text": [
      "/tmp/ipykernel_72612/4144421588.py:9: RuntimeWarning: Data file name in EEG.data (sub-010240_EO.fdt) is incorrect, the file name must have changed on disk, using the correct file name (sub-032448_EO.fdt).\n",
      "  Subjects[\"prepSignal_EO\"] = mne.io.read_raw_eeglab(\"/workspace/brail_poc3/experiments/Lemon_PreEEGLAB/{}/{}/{}_EO.set\".format(Subjects[\"Subject_Number\"], Subjects[\"Subject_Number\"], Subjects[\"Subject_Number\"]), preload=True, verbose=False)\n",
      "/tmp/ipykernel_72612/4144421588.py:9: RuntimeWarning: Limited 1 annotation(s) that were expanding outside the data range.\n",
      "  Subjects[\"prepSignal_EO\"] = mne.io.read_raw_eeglab(\"/workspace/brail_poc3/experiments/Lemon_PreEEGLAB/{}/{}/{}_EO.set\".format(Subjects[\"Subject_Number\"], Subjects[\"Subject_Number\"], Subjects[\"Subject_Number\"]), preload=True, verbose=False)\n",
      "/tmp/ipykernel_72612/4144421588.py:9: RuntimeWarning: The data contains 'boundary' events, indicating data discontinuities. Be cautious of filtering and epoching around these events.\n",
      "  Subjects[\"prepSignal_EO\"] = mne.io.read_raw_eeglab(\"/workspace/brail_poc3/experiments/Lemon_PreEEGLAB/{}/{}/{}_EO.set\".format(Subjects[\"Subject_Number\"], Subjects[\"Subject_Number\"], Subjects[\"Subject_Number\"]), preload=True, verbose=False)\n",
      " 66%|██████████████████████████▉              | 132/201 [00:35<00:21,  3.17it/s]/tmp/ipykernel_72612/4144421588.py:8: RuntimeWarning: Data file name in EEG.data (sub-010241_EC.fdt) is incorrect, the file name must have changed on disk, using the correct file name (sub-032449_EC.fdt).\n",
      "  Subjects[\"prepSignal_EC\"] = mne.io.read_raw_eeglab(\"/workspace/brail_poc3/experiments/Lemon_PreEEGLAB/{}/{}/{}_EC.set\".format(Subjects[\"Subject_Number\"], Subjects[\"Subject_Number\"], Subjects[\"Subject_Number\"]), preload=True, verbose=False)\n"
     ]
    },
    {
     "name": "stdout",
     "output_type": "stream",
     "text": [
      "Subject number: sub-032449\n"
     ]
    },
    {
     "name": "stderr",
     "output_type": "stream",
     "text": [
      "/tmp/ipykernel_72612/4144421588.py:8: RuntimeWarning: Limited 1 annotation(s) that were expanding outside the data range.\n",
      "  Subjects[\"prepSignal_EC\"] = mne.io.read_raw_eeglab(\"/workspace/brail_poc3/experiments/Lemon_PreEEGLAB/{}/{}/{}_EC.set\".format(Subjects[\"Subject_Number\"], Subjects[\"Subject_Number\"], Subjects[\"Subject_Number\"]), preload=True, verbose=False)\n",
      "/tmp/ipykernel_72612/4144421588.py:8: RuntimeWarning: The data contains 'boundary' events, indicating data discontinuities. Be cautious of filtering and epoching around these events.\n",
      "  Subjects[\"prepSignal_EC\"] = mne.io.read_raw_eeglab(\"/workspace/brail_poc3/experiments/Lemon_PreEEGLAB/{}/{}/{}_EC.set\".format(Subjects[\"Subject_Number\"], Subjects[\"Subject_Number\"], Subjects[\"Subject_Number\"]), preload=True, verbose=False)\n",
      "/tmp/ipykernel_72612/4144421588.py:9: RuntimeWarning: Data file name in EEG.data (sub-010241_EO.fdt) is incorrect, the file name must have changed on disk, using the correct file name (sub-032449_EO.fdt).\n",
      "  Subjects[\"prepSignal_EO\"] = mne.io.read_raw_eeglab(\"/workspace/brail_poc3/experiments/Lemon_PreEEGLAB/{}/{}/{}_EO.set\".format(Subjects[\"Subject_Number\"], Subjects[\"Subject_Number\"], Subjects[\"Subject_Number\"]), preload=True, verbose=False)\n",
      "/tmp/ipykernel_72612/4144421588.py:9: RuntimeWarning: Limited 1 annotation(s) that were expanding outside the data range.\n",
      "  Subjects[\"prepSignal_EO\"] = mne.io.read_raw_eeglab(\"/workspace/brail_poc3/experiments/Lemon_PreEEGLAB/{}/{}/{}_EO.set\".format(Subjects[\"Subject_Number\"], Subjects[\"Subject_Number\"], Subjects[\"Subject_Number\"]), preload=True, verbose=False)\n",
      "/tmp/ipykernel_72612/4144421588.py:9: RuntimeWarning: The data contains 'boundary' events, indicating data discontinuities. Be cautious of filtering and epoching around these events.\n",
      "  Subjects[\"prepSignal_EO\"] = mne.io.read_raw_eeglab(\"/workspace/brail_poc3/experiments/Lemon_PreEEGLAB/{}/{}/{}_EO.set\".format(Subjects[\"Subject_Number\"], Subjects[\"Subject_Number\"], Subjects[\"Subject_Number\"]), preload=True, verbose=False)\n",
      " 66%|███████████████████████████▏             | 133/201 [00:36<00:20,  3.26it/s]/tmp/ipykernel_72612/4144421588.py:8: RuntimeWarning: Data file name in EEG.data (sub-010242_EC.fdt) is incorrect, the file name must have changed on disk, using the correct file name (sub-032450_EC.fdt).\n",
      "  Subjects[\"prepSignal_EC\"] = mne.io.read_raw_eeglab(\"/workspace/brail_poc3/experiments/Lemon_PreEEGLAB/{}/{}/{}_EC.set\".format(Subjects[\"Subject_Number\"], Subjects[\"Subject_Number\"], Subjects[\"Subject_Number\"]), preload=True, verbose=False)\n",
      "/tmp/ipykernel_72612/4144421588.py:8: RuntimeWarning: Limited 1 annotation(s) that were expanding outside the data range.\n",
      "  Subjects[\"prepSignal_EC\"] = mne.io.read_raw_eeglab(\"/workspace/brail_poc3/experiments/Lemon_PreEEGLAB/{}/{}/{}_EC.set\".format(Subjects[\"Subject_Number\"], Subjects[\"Subject_Number\"], Subjects[\"Subject_Number\"]), preload=True, verbose=False)\n",
      "/tmp/ipykernel_72612/4144421588.py:8: RuntimeWarning: The data contains 'boundary' events, indicating data discontinuities. Be cautious of filtering and epoching around these events.\n",
      "  Subjects[\"prepSignal_EC\"] = mne.io.read_raw_eeglab(\"/workspace/brail_poc3/experiments/Lemon_PreEEGLAB/{}/{}/{}_EC.set\".format(Subjects[\"Subject_Number\"], Subjects[\"Subject_Number\"], Subjects[\"Subject_Number\"]), preload=True, verbose=False)\n",
      "/tmp/ipykernel_72612/4144421588.py:9: RuntimeWarning: Data file name in EEG.data (sub-010242_EO.fdt) is incorrect, the file name must have changed on disk, using the correct file name (sub-032450_EO.fdt).\n",
      "  Subjects[\"prepSignal_EO\"] = mne.io.read_raw_eeglab(\"/workspace/brail_poc3/experiments/Lemon_PreEEGLAB/{}/{}/{}_EO.set\".format(Subjects[\"Subject_Number\"], Subjects[\"Subject_Number\"], Subjects[\"Subject_Number\"]), preload=True, verbose=False)\n"
     ]
    },
    {
     "name": "stdout",
     "output_type": "stream",
     "text": [
      "Subject number: sub-032450\n"
     ]
    },
    {
     "name": "stderr",
     "output_type": "stream",
     "text": [
      "/tmp/ipykernel_72612/4144421588.py:9: RuntimeWarning: Limited 1 annotation(s) that were expanding outside the data range.\n",
      "  Subjects[\"prepSignal_EO\"] = mne.io.read_raw_eeglab(\"/workspace/brail_poc3/experiments/Lemon_PreEEGLAB/{}/{}/{}_EO.set\".format(Subjects[\"Subject_Number\"], Subjects[\"Subject_Number\"], Subjects[\"Subject_Number\"]), preload=True, verbose=False)\n",
      "/tmp/ipykernel_72612/4144421588.py:9: RuntimeWarning: The data contains 'boundary' events, indicating data discontinuities. Be cautious of filtering and epoching around these events.\n",
      "  Subjects[\"prepSignal_EO\"] = mne.io.read_raw_eeglab(\"/workspace/brail_poc3/experiments/Lemon_PreEEGLAB/{}/{}/{}_EO.set\".format(Subjects[\"Subject_Number\"], Subjects[\"Subject_Number\"], Subjects[\"Subject_Number\"]), preload=True, verbose=False)\n",
      " 67%|███████████████████████████▎             | 134/201 [00:36<00:19,  3.36it/s]/tmp/ipykernel_72612/4144421588.py:8: RuntimeWarning: Data file name in EEG.data (sub-010243_EC.fdt) is incorrect, the file name must have changed on disk, using the correct file name (sub-032451_EC.fdt).\n",
      "  Subjects[\"prepSignal_EC\"] = mne.io.read_raw_eeglab(\"/workspace/brail_poc3/experiments/Lemon_PreEEGLAB/{}/{}/{}_EC.set\".format(Subjects[\"Subject_Number\"], Subjects[\"Subject_Number\"], Subjects[\"Subject_Number\"]), preload=True, verbose=False)\n",
      "/tmp/ipykernel_72612/4144421588.py:8: RuntimeWarning: Limited 1 annotation(s) that were expanding outside the data range.\n",
      "  Subjects[\"prepSignal_EC\"] = mne.io.read_raw_eeglab(\"/workspace/brail_poc3/experiments/Lemon_PreEEGLAB/{}/{}/{}_EC.set\".format(Subjects[\"Subject_Number\"], Subjects[\"Subject_Number\"], Subjects[\"Subject_Number\"]), preload=True, verbose=False)\n",
      "/tmp/ipykernel_72612/4144421588.py:8: RuntimeWarning: The data contains 'boundary' events, indicating data discontinuities. Be cautious of filtering and epoching around these events.\n",
      "  Subjects[\"prepSignal_EC\"] = mne.io.read_raw_eeglab(\"/workspace/brail_poc3/experiments/Lemon_PreEEGLAB/{}/{}/{}_EC.set\".format(Subjects[\"Subject_Number\"], Subjects[\"Subject_Number\"], Subjects[\"Subject_Number\"]), preload=True, verbose=False)\n",
      "/tmp/ipykernel_72612/4144421588.py:9: RuntimeWarning: Data file name in EEG.data (sub-010243_EO.fdt) is incorrect, the file name must have changed on disk, using the correct file name (sub-032451_EO.fdt).\n",
      "  Subjects[\"prepSignal_EO\"] = mne.io.read_raw_eeglab(\"/workspace/brail_poc3/experiments/Lemon_PreEEGLAB/{}/{}/{}_EO.set\".format(Subjects[\"Subject_Number\"], Subjects[\"Subject_Number\"], Subjects[\"Subject_Number\"]), preload=True, verbose=False)\n"
     ]
    },
    {
     "name": "stdout",
     "output_type": "stream",
     "text": [
      "Subject number: sub-032451\n"
     ]
    },
    {
     "name": "stderr",
     "output_type": "stream",
     "text": [
      "/tmp/ipykernel_72612/4144421588.py:9: RuntimeWarning: Limited 1 annotation(s) that were expanding outside the data range.\n",
      "  Subjects[\"prepSignal_EO\"] = mne.io.read_raw_eeglab(\"/workspace/brail_poc3/experiments/Lemon_PreEEGLAB/{}/{}/{}_EO.set\".format(Subjects[\"Subject_Number\"], Subjects[\"Subject_Number\"], Subjects[\"Subject_Number\"]), preload=True, verbose=False)\n",
      "/tmp/ipykernel_72612/4144421588.py:9: RuntimeWarning: The data contains 'boundary' events, indicating data discontinuities. Be cautious of filtering and epoching around these events.\n",
      "  Subjects[\"prepSignal_EO\"] = mne.io.read_raw_eeglab(\"/workspace/brail_poc3/experiments/Lemon_PreEEGLAB/{}/{}/{}_EO.set\".format(Subjects[\"Subject_Number\"], Subjects[\"Subject_Number\"], Subjects[\"Subject_Number\"]), preload=True, verbose=False)\n",
      " 67%|███████████████████████████▌             | 135/201 [00:36<00:19,  3.35it/s]/tmp/ipykernel_72612/4144421588.py:8: RuntimeWarning: Data file name in EEG.data (sub-010244_EC.fdt) is incorrect, the file name must have changed on disk, using the correct file name (sub-032452_EC.fdt).\n",
      "  Subjects[\"prepSignal_EC\"] = mne.io.read_raw_eeglab(\"/workspace/brail_poc3/experiments/Lemon_PreEEGLAB/{}/{}/{}_EC.set\".format(Subjects[\"Subject_Number\"], Subjects[\"Subject_Number\"], Subjects[\"Subject_Number\"]), preload=True, verbose=False)\n",
      "/tmp/ipykernel_72612/4144421588.py:8: RuntimeWarning: Limited 1 annotation(s) that were expanding outside the data range.\n",
      "  Subjects[\"prepSignal_EC\"] = mne.io.read_raw_eeglab(\"/workspace/brail_poc3/experiments/Lemon_PreEEGLAB/{}/{}/{}_EC.set\".format(Subjects[\"Subject_Number\"], Subjects[\"Subject_Number\"], Subjects[\"Subject_Number\"]), preload=True, verbose=False)\n",
      "/tmp/ipykernel_72612/4144421588.py:8: RuntimeWarning: The data contains 'boundary' events, indicating data discontinuities. Be cautious of filtering and epoching around these events.\n",
      "  Subjects[\"prepSignal_EC\"] = mne.io.read_raw_eeglab(\"/workspace/brail_poc3/experiments/Lemon_PreEEGLAB/{}/{}/{}_EC.set\".format(Subjects[\"Subject_Number\"], Subjects[\"Subject_Number\"], Subjects[\"Subject_Number\"]), preload=True, verbose=False)\n",
      "/tmp/ipykernel_72612/4144421588.py:9: RuntimeWarning: Data file name in EEG.data (sub-010244_EO.fdt) is incorrect, the file name must have changed on disk, using the correct file name (sub-032452_EO.fdt).\n",
      "  Subjects[\"prepSignal_EO\"] = mne.io.read_raw_eeglab(\"/workspace/brail_poc3/experiments/Lemon_PreEEGLAB/{}/{}/{}_EO.set\".format(Subjects[\"Subject_Number\"], Subjects[\"Subject_Number\"], Subjects[\"Subject_Number\"]), preload=True, verbose=False)\n"
     ]
    },
    {
     "name": "stdout",
     "output_type": "stream",
     "text": [
      "Subject number: sub-032452\n"
     ]
    },
    {
     "name": "stderr",
     "output_type": "stream",
     "text": [
      "/tmp/ipykernel_72612/4144421588.py:9: RuntimeWarning: Limited 1 annotation(s) that were expanding outside the data range.\n",
      "  Subjects[\"prepSignal_EO\"] = mne.io.read_raw_eeglab(\"/workspace/brail_poc3/experiments/Lemon_PreEEGLAB/{}/{}/{}_EO.set\".format(Subjects[\"Subject_Number\"], Subjects[\"Subject_Number\"], Subjects[\"Subject_Number\"]), preload=True, verbose=False)\n",
      "/tmp/ipykernel_72612/4144421588.py:9: RuntimeWarning: The data contains 'boundary' events, indicating data discontinuities. Be cautious of filtering and epoching around these events.\n",
      "  Subjects[\"prepSignal_EO\"] = mne.io.read_raw_eeglab(\"/workspace/brail_poc3/experiments/Lemon_PreEEGLAB/{}/{}/{}_EO.set\".format(Subjects[\"Subject_Number\"], Subjects[\"Subject_Number\"], Subjects[\"Subject_Number\"]), preload=True, verbose=False)\n",
      " 68%|███████████████████████████▋             | 136/201 [00:36<00:19,  3.40it/s]/tmp/ipykernel_72612/4144421588.py:8: RuntimeWarning: Data file name in EEG.data (sub-010245_EC.fdt) is incorrect, the file name must have changed on disk, using the correct file name (sub-032453_EC.fdt).\n",
      "  Subjects[\"prepSignal_EC\"] = mne.io.read_raw_eeglab(\"/workspace/brail_poc3/experiments/Lemon_PreEEGLAB/{}/{}/{}_EC.set\".format(Subjects[\"Subject_Number\"], Subjects[\"Subject_Number\"], Subjects[\"Subject_Number\"]), preload=True, verbose=False)\n",
      "/tmp/ipykernel_72612/4144421588.py:8: RuntimeWarning: Limited 1 annotation(s) that were expanding outside the data range.\n",
      "  Subjects[\"prepSignal_EC\"] = mne.io.read_raw_eeglab(\"/workspace/brail_poc3/experiments/Lemon_PreEEGLAB/{}/{}/{}_EC.set\".format(Subjects[\"Subject_Number\"], Subjects[\"Subject_Number\"], Subjects[\"Subject_Number\"]), preload=True, verbose=False)\n",
      "/tmp/ipykernel_72612/4144421588.py:8: RuntimeWarning: The data contains 'boundary' events, indicating data discontinuities. Be cautious of filtering and epoching around these events.\n",
      "  Subjects[\"prepSignal_EC\"] = mne.io.read_raw_eeglab(\"/workspace/brail_poc3/experiments/Lemon_PreEEGLAB/{}/{}/{}_EC.set\".format(Subjects[\"Subject_Number\"], Subjects[\"Subject_Number\"], Subjects[\"Subject_Number\"]), preload=True, verbose=False)\n",
      "/tmp/ipykernel_72612/4144421588.py:9: RuntimeWarning: Data file name in EEG.data (sub-010245_EO.fdt) is incorrect, the file name must have changed on disk, using the correct file name (sub-032453_EO.fdt).\n",
      "  Subjects[\"prepSignal_EO\"] = mne.io.read_raw_eeglab(\"/workspace/brail_poc3/experiments/Lemon_PreEEGLAB/{}/{}/{}_EO.set\".format(Subjects[\"Subject_Number\"], Subjects[\"Subject_Number\"], Subjects[\"Subject_Number\"]), preload=True, verbose=False)\n"
     ]
    },
    {
     "name": "stdout",
     "output_type": "stream",
     "text": [
      "Subject number: sub-032453\n"
     ]
    },
    {
     "name": "stderr",
     "output_type": "stream",
     "text": [
      "/tmp/ipykernel_72612/4144421588.py:9: RuntimeWarning: Limited 1 annotation(s) that were expanding outside the data range.\n",
      "  Subjects[\"prepSignal_EO\"] = mne.io.read_raw_eeglab(\"/workspace/brail_poc3/experiments/Lemon_PreEEGLAB/{}/{}/{}_EO.set\".format(Subjects[\"Subject_Number\"], Subjects[\"Subject_Number\"], Subjects[\"Subject_Number\"]), preload=True, verbose=False)\n",
      "/tmp/ipykernel_72612/4144421588.py:9: RuntimeWarning: The data contains 'boundary' events, indicating data discontinuities. Be cautious of filtering and epoching around these events.\n",
      "  Subjects[\"prepSignal_EO\"] = mne.io.read_raw_eeglab(\"/workspace/brail_poc3/experiments/Lemon_PreEEGLAB/{}/{}/{}_EO.set\".format(Subjects[\"Subject_Number\"], Subjects[\"Subject_Number\"], Subjects[\"Subject_Number\"]), preload=True, verbose=False)\n",
      " 68%|███████████████████████████▉             | 137/201 [00:37<00:18,  3.42it/s]/tmp/ipykernel_72612/4144421588.py:8: RuntimeWarning: Data file name in EEG.data (sub-010246_EC.fdt) is incorrect, the file name must have changed on disk, using the correct file name (sub-032454_EC.fdt).\n",
      "  Subjects[\"prepSignal_EC\"] = mne.io.read_raw_eeglab(\"/workspace/brail_poc3/experiments/Lemon_PreEEGLAB/{}/{}/{}_EC.set\".format(Subjects[\"Subject_Number\"], Subjects[\"Subject_Number\"], Subjects[\"Subject_Number\"]), preload=True, verbose=False)\n",
      "/tmp/ipykernel_72612/4144421588.py:8: RuntimeWarning: Limited 1 annotation(s) that were expanding outside the data range.\n",
      "  Subjects[\"prepSignal_EC\"] = mne.io.read_raw_eeglab(\"/workspace/brail_poc3/experiments/Lemon_PreEEGLAB/{}/{}/{}_EC.set\".format(Subjects[\"Subject_Number\"], Subjects[\"Subject_Number\"], Subjects[\"Subject_Number\"]), preload=True, verbose=False)\n",
      "/tmp/ipykernel_72612/4144421588.py:8: RuntimeWarning: The data contains 'boundary' events, indicating data discontinuities. Be cautious of filtering and epoching around these events.\n",
      "  Subjects[\"prepSignal_EC\"] = mne.io.read_raw_eeglab(\"/workspace/brail_poc3/experiments/Lemon_PreEEGLAB/{}/{}/{}_EC.set\".format(Subjects[\"Subject_Number\"], Subjects[\"Subject_Number\"], Subjects[\"Subject_Number\"]), preload=True, verbose=False)\n",
      "/tmp/ipykernel_72612/4144421588.py:9: RuntimeWarning: Data file name in EEG.data (sub-010246_EO.fdt) is incorrect, the file name must have changed on disk, using the correct file name (sub-032454_EO.fdt).\n",
      "  Subjects[\"prepSignal_EO\"] = mne.io.read_raw_eeglab(\"/workspace/brail_poc3/experiments/Lemon_PreEEGLAB/{}/{}/{}_EO.set\".format(Subjects[\"Subject_Number\"], Subjects[\"Subject_Number\"], Subjects[\"Subject_Number\"]), preload=True, verbose=False)\n"
     ]
    },
    {
     "name": "stdout",
     "output_type": "stream",
     "text": [
      "Subject number: sub-032454\n"
     ]
    },
    {
     "name": "stderr",
     "output_type": "stream",
     "text": [
      "/tmp/ipykernel_72612/4144421588.py:9: RuntimeWarning: Limited 1 annotation(s) that were expanding outside the data range.\n",
      "  Subjects[\"prepSignal_EO\"] = mne.io.read_raw_eeglab(\"/workspace/brail_poc3/experiments/Lemon_PreEEGLAB/{}/{}/{}_EO.set\".format(Subjects[\"Subject_Number\"], Subjects[\"Subject_Number\"], Subjects[\"Subject_Number\"]), preload=True, verbose=False)\n",
      "/tmp/ipykernel_72612/4144421588.py:9: RuntimeWarning: The data contains 'boundary' events, indicating data discontinuities. Be cautious of filtering and epoching around these events.\n",
      "  Subjects[\"prepSignal_EO\"] = mne.io.read_raw_eeglab(\"/workspace/brail_poc3/experiments/Lemon_PreEEGLAB/{}/{}/{}_EO.set\".format(Subjects[\"Subject_Number\"], Subjects[\"Subject_Number\"], Subjects[\"Subject_Number\"]), preload=True, verbose=False)\n",
      " 69%|████████████████████████████▏            | 138/201 [00:37<00:18,  3.44it/s]/tmp/ipykernel_72612/4144421588.py:8: RuntimeWarning: Data file name in EEG.data (sub-010247_EC.fdt) is incorrect, the file name must have changed on disk, using the correct file name (sub-032455_EC.fdt).\n",
      "  Subjects[\"prepSignal_EC\"] = mne.io.read_raw_eeglab(\"/workspace/brail_poc3/experiments/Lemon_PreEEGLAB/{}/{}/{}_EC.set\".format(Subjects[\"Subject_Number\"], Subjects[\"Subject_Number\"], Subjects[\"Subject_Number\"]), preload=True, verbose=False)\n",
      "/tmp/ipykernel_72612/4144421588.py:8: RuntimeWarning: Limited 1 annotation(s) that were expanding outside the data range.\n",
      "  Subjects[\"prepSignal_EC\"] = mne.io.read_raw_eeglab(\"/workspace/brail_poc3/experiments/Lemon_PreEEGLAB/{}/{}/{}_EC.set\".format(Subjects[\"Subject_Number\"], Subjects[\"Subject_Number\"], Subjects[\"Subject_Number\"]), preload=True, verbose=False)\n",
      "/tmp/ipykernel_72612/4144421588.py:8: RuntimeWarning: The data contains 'boundary' events, indicating data discontinuities. Be cautious of filtering and epoching around these events.\n",
      "  Subjects[\"prepSignal_EC\"] = mne.io.read_raw_eeglab(\"/workspace/brail_poc3/experiments/Lemon_PreEEGLAB/{}/{}/{}_EC.set\".format(Subjects[\"Subject_Number\"], Subjects[\"Subject_Number\"], Subjects[\"Subject_Number\"]), preload=True, verbose=False)\n",
      "/tmp/ipykernel_72612/4144421588.py:9: RuntimeWarning: Data file name in EEG.data (sub-010247_EO.fdt) is incorrect, the file name must have changed on disk, using the correct file name (sub-032455_EO.fdt).\n",
      "  Subjects[\"prepSignal_EO\"] = mne.io.read_raw_eeglab(\"/workspace/brail_poc3/experiments/Lemon_PreEEGLAB/{}/{}/{}_EO.set\".format(Subjects[\"Subject_Number\"], Subjects[\"Subject_Number\"], Subjects[\"Subject_Number\"]), preload=True, verbose=False)\n"
     ]
    },
    {
     "name": "stdout",
     "output_type": "stream",
     "text": [
      "Subject number: sub-032455\n"
     ]
    },
    {
     "name": "stderr",
     "output_type": "stream",
     "text": [
      "/tmp/ipykernel_72612/4144421588.py:9: RuntimeWarning: Limited 1 annotation(s) that were expanding outside the data range.\n",
      "  Subjects[\"prepSignal_EO\"] = mne.io.read_raw_eeglab(\"/workspace/brail_poc3/experiments/Lemon_PreEEGLAB/{}/{}/{}_EO.set\".format(Subjects[\"Subject_Number\"], Subjects[\"Subject_Number\"], Subjects[\"Subject_Number\"]), preload=True, verbose=False)\n",
      "/tmp/ipykernel_72612/4144421588.py:9: RuntimeWarning: The data contains 'boundary' events, indicating data discontinuities. Be cautious of filtering and epoching around these events.\n",
      "  Subjects[\"prepSignal_EO\"] = mne.io.read_raw_eeglab(\"/workspace/brail_poc3/experiments/Lemon_PreEEGLAB/{}/{}/{}_EO.set\".format(Subjects[\"Subject_Number\"], Subjects[\"Subject_Number\"], Subjects[\"Subject_Number\"]), preload=True, verbose=False)\n",
      " 69%|████████████████████████████▎            | 139/201 [00:37<00:18,  3.42it/s]/tmp/ipykernel_72612/4144421588.py:8: RuntimeWarning: Data file name in EEG.data (sub-010248_EC.fdt) is incorrect, the file name must have changed on disk, using the correct file name (sub-032456_EC.fdt).\n",
      "  Subjects[\"prepSignal_EC\"] = mne.io.read_raw_eeglab(\"/workspace/brail_poc3/experiments/Lemon_PreEEGLAB/{}/{}/{}_EC.set\".format(Subjects[\"Subject_Number\"], Subjects[\"Subject_Number\"], Subjects[\"Subject_Number\"]), preload=True, verbose=False)\n",
      "/tmp/ipykernel_72612/4144421588.py:8: RuntimeWarning: Limited 1 annotation(s) that were expanding outside the data range.\n",
      "  Subjects[\"prepSignal_EC\"] = mne.io.read_raw_eeglab(\"/workspace/brail_poc3/experiments/Lemon_PreEEGLAB/{}/{}/{}_EC.set\".format(Subjects[\"Subject_Number\"], Subjects[\"Subject_Number\"], Subjects[\"Subject_Number\"]), preload=True, verbose=False)\n",
      "/tmp/ipykernel_72612/4144421588.py:8: RuntimeWarning: The data contains 'boundary' events, indicating data discontinuities. Be cautious of filtering and epoching around these events.\n",
      "  Subjects[\"prepSignal_EC\"] = mne.io.read_raw_eeglab(\"/workspace/brail_poc3/experiments/Lemon_PreEEGLAB/{}/{}/{}_EC.set\".format(Subjects[\"Subject_Number\"], Subjects[\"Subject_Number\"], Subjects[\"Subject_Number\"]), preload=True, verbose=False)\n",
      "/tmp/ipykernel_72612/4144421588.py:9: RuntimeWarning: Data file name in EEG.data (sub-010248_EO.fdt) is incorrect, the file name must have changed on disk, using the correct file name (sub-032456_EO.fdt).\n",
      "  Subjects[\"prepSignal_EO\"] = mne.io.read_raw_eeglab(\"/workspace/brail_poc3/experiments/Lemon_PreEEGLAB/{}/{}/{}_EO.set\".format(Subjects[\"Subject_Number\"], Subjects[\"Subject_Number\"], Subjects[\"Subject_Number\"]), preload=True, verbose=False)\n"
     ]
    },
    {
     "name": "stdout",
     "output_type": "stream",
     "text": [
      "Subject number: sub-032456\n"
     ]
    },
    {
     "name": "stderr",
     "output_type": "stream",
     "text": [
      "/tmp/ipykernel_72612/4144421588.py:9: RuntimeWarning: Limited 1 annotation(s) that were expanding outside the data range.\n",
      "  Subjects[\"prepSignal_EO\"] = mne.io.read_raw_eeglab(\"/workspace/brail_poc3/experiments/Lemon_PreEEGLAB/{}/{}/{}_EO.set\".format(Subjects[\"Subject_Number\"], Subjects[\"Subject_Number\"], Subjects[\"Subject_Number\"]), preload=True, verbose=False)\n",
      "/tmp/ipykernel_72612/4144421588.py:9: RuntimeWarning: The data contains 'boundary' events, indicating data discontinuities. Be cautious of filtering and epoching around these events.\n",
      "  Subjects[\"prepSignal_EO\"] = mne.io.read_raw_eeglab(\"/workspace/brail_poc3/experiments/Lemon_PreEEGLAB/{}/{}/{}_EO.set\".format(Subjects[\"Subject_Number\"], Subjects[\"Subject_Number\"], Subjects[\"Subject_Number\"]), preload=True, verbose=False)\n",
      " 70%|████████████████████████████▌            | 140/201 [00:38<00:17,  3.43it/s]/tmp/ipykernel_72612/4144421588.py:8: RuntimeWarning: Data file name in EEG.data (sub-010249_EC.fdt) is incorrect, the file name must have changed on disk, using the correct file name (sub-032457_EC.fdt).\n",
      "  Subjects[\"prepSignal_EC\"] = mne.io.read_raw_eeglab(\"/workspace/brail_poc3/experiments/Lemon_PreEEGLAB/{}/{}/{}_EC.set\".format(Subjects[\"Subject_Number\"], Subjects[\"Subject_Number\"], Subjects[\"Subject_Number\"]), preload=True, verbose=False)\n",
      "/tmp/ipykernel_72612/4144421588.py:8: RuntimeWarning: Limited 1 annotation(s) that were expanding outside the data range.\n",
      "  Subjects[\"prepSignal_EC\"] = mne.io.read_raw_eeglab(\"/workspace/brail_poc3/experiments/Lemon_PreEEGLAB/{}/{}/{}_EC.set\".format(Subjects[\"Subject_Number\"], Subjects[\"Subject_Number\"], Subjects[\"Subject_Number\"]), preload=True, verbose=False)\n",
      "/tmp/ipykernel_72612/4144421588.py:8: RuntimeWarning: The data contains 'boundary' events, indicating data discontinuities. Be cautious of filtering and epoching around these events.\n",
      "  Subjects[\"prepSignal_EC\"] = mne.io.read_raw_eeglab(\"/workspace/brail_poc3/experiments/Lemon_PreEEGLAB/{}/{}/{}_EC.set\".format(Subjects[\"Subject_Number\"], Subjects[\"Subject_Number\"], Subjects[\"Subject_Number\"]), preload=True, verbose=False)\n",
      "/tmp/ipykernel_72612/4144421588.py:9: RuntimeWarning: Data file name in EEG.data (sub-010249_EO.fdt) is incorrect, the file name must have changed on disk, using the correct file name (sub-032457_EO.fdt).\n",
      "  Subjects[\"prepSignal_EO\"] = mne.io.read_raw_eeglab(\"/workspace/brail_poc3/experiments/Lemon_PreEEGLAB/{}/{}/{}_EO.set\".format(Subjects[\"Subject_Number\"], Subjects[\"Subject_Number\"], Subjects[\"Subject_Number\"]), preload=True, verbose=False)\n"
     ]
    },
    {
     "name": "stdout",
     "output_type": "stream",
     "text": [
      "Subject number: sub-032457\n"
     ]
    },
    {
     "name": "stderr",
     "output_type": "stream",
     "text": [
      "/tmp/ipykernel_72612/4144421588.py:9: RuntimeWarning: Limited 1 annotation(s) that were expanding outside the data range.\n",
      "  Subjects[\"prepSignal_EO\"] = mne.io.read_raw_eeglab(\"/workspace/brail_poc3/experiments/Lemon_PreEEGLAB/{}/{}/{}_EO.set\".format(Subjects[\"Subject_Number\"], Subjects[\"Subject_Number\"], Subjects[\"Subject_Number\"]), preload=True, verbose=False)\n",
      "/tmp/ipykernel_72612/4144421588.py:9: RuntimeWarning: The data contains 'boundary' events, indicating data discontinuities. Be cautious of filtering and epoching around these events.\n",
      "  Subjects[\"prepSignal_EO\"] = mne.io.read_raw_eeglab(\"/workspace/brail_poc3/experiments/Lemon_PreEEGLAB/{}/{}/{}_EO.set\".format(Subjects[\"Subject_Number\"], Subjects[\"Subject_Number\"], Subjects[\"Subject_Number\"]), preload=True, verbose=False)\n",
      " 70%|████████████████████████████▊            | 141/201 [00:38<00:17,  3.42it/s]/tmp/ipykernel_72612/4144421588.py:8: RuntimeWarning: Data file name in EEG.data (sub-010250_EC.fdt) is incorrect, the file name must have changed on disk, using the correct file name (sub-032458_EC.fdt).\n",
      "  Subjects[\"prepSignal_EC\"] = mne.io.read_raw_eeglab(\"/workspace/brail_poc3/experiments/Lemon_PreEEGLAB/{}/{}/{}_EC.set\".format(Subjects[\"Subject_Number\"], Subjects[\"Subject_Number\"], Subjects[\"Subject_Number\"]), preload=True, verbose=False)\n",
      "/tmp/ipykernel_72612/4144421588.py:8: RuntimeWarning: Limited 1 annotation(s) that were expanding outside the data range.\n",
      "  Subjects[\"prepSignal_EC\"] = mne.io.read_raw_eeglab(\"/workspace/brail_poc3/experiments/Lemon_PreEEGLAB/{}/{}/{}_EC.set\".format(Subjects[\"Subject_Number\"], Subjects[\"Subject_Number\"], Subjects[\"Subject_Number\"]), preload=True, verbose=False)\n",
      "/tmp/ipykernel_72612/4144421588.py:8: RuntimeWarning: The data contains 'boundary' events, indicating data discontinuities. Be cautious of filtering and epoching around these events.\n",
      "  Subjects[\"prepSignal_EC\"] = mne.io.read_raw_eeglab(\"/workspace/brail_poc3/experiments/Lemon_PreEEGLAB/{}/{}/{}_EC.set\".format(Subjects[\"Subject_Number\"], Subjects[\"Subject_Number\"], Subjects[\"Subject_Number\"]), preload=True, verbose=False)\n",
      "/tmp/ipykernel_72612/4144421588.py:9: RuntimeWarning: Data file name in EEG.data (sub-010250_EO.fdt) is incorrect, the file name must have changed on disk, using the correct file name (sub-032458_EO.fdt).\n",
      "  Subjects[\"prepSignal_EO\"] = mne.io.read_raw_eeglab(\"/workspace/brail_poc3/experiments/Lemon_PreEEGLAB/{}/{}/{}_EO.set\".format(Subjects[\"Subject_Number\"], Subjects[\"Subject_Number\"], Subjects[\"Subject_Number\"]), preload=True, verbose=False)\n"
     ]
    },
    {
     "name": "stdout",
     "output_type": "stream",
     "text": [
      "Subject number: sub-032458\n"
     ]
    },
    {
     "name": "stderr",
     "output_type": "stream",
     "text": [
      "/tmp/ipykernel_72612/4144421588.py:9: RuntimeWarning: Limited 1 annotation(s) that were expanding outside the data range.\n",
      "  Subjects[\"prepSignal_EO\"] = mne.io.read_raw_eeglab(\"/workspace/brail_poc3/experiments/Lemon_PreEEGLAB/{}/{}/{}_EO.set\".format(Subjects[\"Subject_Number\"], Subjects[\"Subject_Number\"], Subjects[\"Subject_Number\"]), preload=True, verbose=False)\n",
      "/tmp/ipykernel_72612/4144421588.py:9: RuntimeWarning: The data contains 'boundary' events, indicating data discontinuities. Be cautious of filtering and epoching around these events.\n",
      "  Subjects[\"prepSignal_EO\"] = mne.io.read_raw_eeglab(\"/workspace/brail_poc3/experiments/Lemon_PreEEGLAB/{}/{}/{}_EO.set\".format(Subjects[\"Subject_Number\"], Subjects[\"Subject_Number\"], Subjects[\"Subject_Number\"]), preload=True, verbose=False)\n",
      " 71%|████████████████████████████▉            | 142/201 [00:38<00:17,  3.43it/s]/tmp/ipykernel_72612/4144421588.py:8: RuntimeWarning: Data file name in EEG.data (sub-010251_EC.fdt) is incorrect, the file name must have changed on disk, using the correct file name (sub-032459_EC.fdt).\n",
      "  Subjects[\"prepSignal_EC\"] = mne.io.read_raw_eeglab(\"/workspace/brail_poc3/experiments/Lemon_PreEEGLAB/{}/{}/{}_EC.set\".format(Subjects[\"Subject_Number\"], Subjects[\"Subject_Number\"], Subjects[\"Subject_Number\"]), preload=True, verbose=False)\n",
      "/tmp/ipykernel_72612/4144421588.py:8: RuntimeWarning: Limited 1 annotation(s) that were expanding outside the data range.\n",
      "  Subjects[\"prepSignal_EC\"] = mne.io.read_raw_eeglab(\"/workspace/brail_poc3/experiments/Lemon_PreEEGLAB/{}/{}/{}_EC.set\".format(Subjects[\"Subject_Number\"], Subjects[\"Subject_Number\"], Subjects[\"Subject_Number\"]), preload=True, verbose=False)\n",
      "/tmp/ipykernel_72612/4144421588.py:8: RuntimeWarning: The data contains 'boundary' events, indicating data discontinuities. Be cautious of filtering and epoching around these events.\n",
      "  Subjects[\"prepSignal_EC\"] = mne.io.read_raw_eeglab(\"/workspace/brail_poc3/experiments/Lemon_PreEEGLAB/{}/{}/{}_EC.set\".format(Subjects[\"Subject_Number\"], Subjects[\"Subject_Number\"], Subjects[\"Subject_Number\"]), preload=True, verbose=False)\n",
      "/tmp/ipykernel_72612/4144421588.py:9: RuntimeWarning: Data file name in EEG.data (sub-010251_EO.fdt) is incorrect, the file name must have changed on disk, using the correct file name (sub-032459_EO.fdt).\n",
      "  Subjects[\"prepSignal_EO\"] = mne.io.read_raw_eeglab(\"/workspace/brail_poc3/experiments/Lemon_PreEEGLAB/{}/{}/{}_EO.set\".format(Subjects[\"Subject_Number\"], Subjects[\"Subject_Number\"], Subjects[\"Subject_Number\"]), preload=True, verbose=False)\n"
     ]
    },
    {
     "name": "stdout",
     "output_type": "stream",
     "text": [
      "Subject number: sub-032459\n"
     ]
    },
    {
     "name": "stderr",
     "output_type": "stream",
     "text": [
      "/tmp/ipykernel_72612/4144421588.py:9: RuntimeWarning: Limited 1 annotation(s) that were expanding outside the data range.\n",
      "  Subjects[\"prepSignal_EO\"] = mne.io.read_raw_eeglab(\"/workspace/brail_poc3/experiments/Lemon_PreEEGLAB/{}/{}/{}_EO.set\".format(Subjects[\"Subject_Number\"], Subjects[\"Subject_Number\"], Subjects[\"Subject_Number\"]), preload=True, verbose=False)\n",
      "/tmp/ipykernel_72612/4144421588.py:9: RuntimeWarning: The data contains 'boundary' events, indicating data discontinuities. Be cautious of filtering and epoching around these events.\n",
      "  Subjects[\"prepSignal_EO\"] = mne.io.read_raw_eeglab(\"/workspace/brail_poc3/experiments/Lemon_PreEEGLAB/{}/{}/{}_EO.set\".format(Subjects[\"Subject_Number\"], Subjects[\"Subject_Number\"], Subjects[\"Subject_Number\"]), preload=True, verbose=False)\n",
      " 71%|█████████████████████████████▏           | 143/201 [00:39<00:17,  3.41it/s]/tmp/ipykernel_72612/4144421588.py:8: RuntimeWarning: Data file name in EEG.data (sub-010252_EC.fdt) is incorrect, the file name must have changed on disk, using the correct file name (sub-032460_EC.fdt).\n",
      "  Subjects[\"prepSignal_EC\"] = mne.io.read_raw_eeglab(\"/workspace/brail_poc3/experiments/Lemon_PreEEGLAB/{}/{}/{}_EC.set\".format(Subjects[\"Subject_Number\"], Subjects[\"Subject_Number\"], Subjects[\"Subject_Number\"]), preload=True, verbose=False)\n",
      "/tmp/ipykernel_72612/4144421588.py:8: RuntimeWarning: Limited 1 annotation(s) that were expanding outside the data range.\n",
      "  Subjects[\"prepSignal_EC\"] = mne.io.read_raw_eeglab(\"/workspace/brail_poc3/experiments/Lemon_PreEEGLAB/{}/{}/{}_EC.set\".format(Subjects[\"Subject_Number\"], Subjects[\"Subject_Number\"], Subjects[\"Subject_Number\"]), preload=True, verbose=False)\n",
      "/tmp/ipykernel_72612/4144421588.py:8: RuntimeWarning: The data contains 'boundary' events, indicating data discontinuities. Be cautious of filtering and epoching around these events.\n",
      "  Subjects[\"prepSignal_EC\"] = mne.io.read_raw_eeglab(\"/workspace/brail_poc3/experiments/Lemon_PreEEGLAB/{}/{}/{}_EC.set\".format(Subjects[\"Subject_Number\"], Subjects[\"Subject_Number\"], Subjects[\"Subject_Number\"]), preload=True, verbose=False)\n",
      "/tmp/ipykernel_72612/4144421588.py:9: RuntimeWarning: Data file name in EEG.data (sub-010252_EO.fdt) is incorrect, the file name must have changed on disk, using the correct file name (sub-032460_EO.fdt).\n",
      "  Subjects[\"prepSignal_EO\"] = mne.io.read_raw_eeglab(\"/workspace/brail_poc3/experiments/Lemon_PreEEGLAB/{}/{}/{}_EO.set\".format(Subjects[\"Subject_Number\"], Subjects[\"Subject_Number\"], Subjects[\"Subject_Number\"]), preload=True, verbose=False)\n"
     ]
    },
    {
     "name": "stdout",
     "output_type": "stream",
     "text": [
      "Subject number: sub-032460\n"
     ]
    },
    {
     "name": "stderr",
     "output_type": "stream",
     "text": [
      "/tmp/ipykernel_72612/4144421588.py:9: RuntimeWarning: Limited 1 annotation(s) that were expanding outside the data range.\n",
      "  Subjects[\"prepSignal_EO\"] = mne.io.read_raw_eeglab(\"/workspace/brail_poc3/experiments/Lemon_PreEEGLAB/{}/{}/{}_EO.set\".format(Subjects[\"Subject_Number\"], Subjects[\"Subject_Number\"], Subjects[\"Subject_Number\"]), preload=True, verbose=False)\n",
      "/tmp/ipykernel_72612/4144421588.py:9: RuntimeWarning: The data contains 'boundary' events, indicating data discontinuities. Be cautious of filtering and epoching around these events.\n",
      "  Subjects[\"prepSignal_EO\"] = mne.io.read_raw_eeglab(\"/workspace/brail_poc3/experiments/Lemon_PreEEGLAB/{}/{}/{}_EO.set\".format(Subjects[\"Subject_Number\"], Subjects[\"Subject_Number\"], Subjects[\"Subject_Number\"]), preload=True, verbose=False)\n",
      " 72%|█████████████████████████████▎           | 144/201 [00:39<00:16,  3.40it/s]/tmp/ipykernel_72612/4144421588.py:8: RuntimeWarning: Data file name in EEG.data (sub-010254_EC.fdt) is incorrect, the file name must have changed on disk, using the correct file name (sub-032462_EC.fdt).\n",
      "  Subjects[\"prepSignal_EC\"] = mne.io.read_raw_eeglab(\"/workspace/brail_poc3/experiments/Lemon_PreEEGLAB/{}/{}/{}_EC.set\".format(Subjects[\"Subject_Number\"], Subjects[\"Subject_Number\"], Subjects[\"Subject_Number\"]), preload=True, verbose=False)\n",
      "/tmp/ipykernel_72612/4144421588.py:8: RuntimeWarning: Limited 1 annotation(s) that were expanding outside the data range.\n",
      "  Subjects[\"prepSignal_EC\"] = mne.io.read_raw_eeglab(\"/workspace/brail_poc3/experiments/Lemon_PreEEGLAB/{}/{}/{}_EC.set\".format(Subjects[\"Subject_Number\"], Subjects[\"Subject_Number\"], Subjects[\"Subject_Number\"]), preload=True, verbose=False)\n",
      "/tmp/ipykernel_72612/4144421588.py:8: RuntimeWarning: The data contains 'boundary' events, indicating data discontinuities. Be cautious of filtering and epoching around these events.\n",
      "  Subjects[\"prepSignal_EC\"] = mne.io.read_raw_eeglab(\"/workspace/brail_poc3/experiments/Lemon_PreEEGLAB/{}/{}/{}_EC.set\".format(Subjects[\"Subject_Number\"], Subjects[\"Subject_Number\"], Subjects[\"Subject_Number\"]), preload=True, verbose=False)\n",
      "/tmp/ipykernel_72612/4144421588.py:9: RuntimeWarning: Data file name in EEG.data (sub-010254_EO.fdt) is incorrect, the file name must have changed on disk, using the correct file name (sub-032462_EO.fdt).\n",
      "  Subjects[\"prepSignal_EO\"] = mne.io.read_raw_eeglab(\"/workspace/brail_poc3/experiments/Lemon_PreEEGLAB/{}/{}/{}_EO.set\".format(Subjects[\"Subject_Number\"], Subjects[\"Subject_Number\"], Subjects[\"Subject_Number\"]), preload=True, verbose=False)\n"
     ]
    },
    {
     "name": "stdout",
     "output_type": "stream",
     "text": [
      "Subject number: sub-032462\n"
     ]
    },
    {
     "name": "stderr",
     "output_type": "stream",
     "text": [
      "/tmp/ipykernel_72612/4144421588.py:9: RuntimeWarning: Limited 1 annotation(s) that were expanding outside the data range.\n",
      "  Subjects[\"prepSignal_EO\"] = mne.io.read_raw_eeglab(\"/workspace/brail_poc3/experiments/Lemon_PreEEGLAB/{}/{}/{}_EO.set\".format(Subjects[\"Subject_Number\"], Subjects[\"Subject_Number\"], Subjects[\"Subject_Number\"]), preload=True, verbose=False)\n",
      "/tmp/ipykernel_72612/4144421588.py:9: RuntimeWarning: The data contains 'boundary' events, indicating data discontinuities. Be cautious of filtering and epoching around these events.\n",
      "  Subjects[\"prepSignal_EO\"] = mne.io.read_raw_eeglab(\"/workspace/brail_poc3/experiments/Lemon_PreEEGLAB/{}/{}/{}_EO.set\".format(Subjects[\"Subject_Number\"], Subjects[\"Subject_Number\"], Subjects[\"Subject_Number\"]), preload=True, verbose=False)\n",
      " 72%|█████████████████████████████▌           | 145/201 [00:39<00:16,  3.40it/s]/tmp/ipykernel_72612/4144421588.py:8: RuntimeWarning: Data file name in EEG.data (sub-010255_EC.fdt) is incorrect, the file name must have changed on disk, using the correct file name (sub-032463_EC.fdt).\n",
      "  Subjects[\"prepSignal_EC\"] = mne.io.read_raw_eeglab(\"/workspace/brail_poc3/experiments/Lemon_PreEEGLAB/{}/{}/{}_EC.set\".format(Subjects[\"Subject_Number\"], Subjects[\"Subject_Number\"], Subjects[\"Subject_Number\"]), preload=True, verbose=False)\n",
      "/tmp/ipykernel_72612/4144421588.py:8: RuntimeWarning: Limited 1 annotation(s) that were expanding outside the data range.\n",
      "  Subjects[\"prepSignal_EC\"] = mne.io.read_raw_eeglab(\"/workspace/brail_poc3/experiments/Lemon_PreEEGLAB/{}/{}/{}_EC.set\".format(Subjects[\"Subject_Number\"], Subjects[\"Subject_Number\"], Subjects[\"Subject_Number\"]), preload=True, verbose=False)\n",
      "/tmp/ipykernel_72612/4144421588.py:8: RuntimeWarning: The data contains 'boundary' events, indicating data discontinuities. Be cautious of filtering and epoching around these events.\n",
      "  Subjects[\"prepSignal_EC\"] = mne.io.read_raw_eeglab(\"/workspace/brail_poc3/experiments/Lemon_PreEEGLAB/{}/{}/{}_EC.set\".format(Subjects[\"Subject_Number\"], Subjects[\"Subject_Number\"], Subjects[\"Subject_Number\"]), preload=True, verbose=False)\n",
      "/tmp/ipykernel_72612/4144421588.py:9: RuntimeWarning: Data file name in EEG.data (sub-010255_EO.fdt) is incorrect, the file name must have changed on disk, using the correct file name (sub-032463_EO.fdt).\n",
      "  Subjects[\"prepSignal_EO\"] = mne.io.read_raw_eeglab(\"/workspace/brail_poc3/experiments/Lemon_PreEEGLAB/{}/{}/{}_EO.set\".format(Subjects[\"Subject_Number\"], Subjects[\"Subject_Number\"], Subjects[\"Subject_Number\"]), preload=True, verbose=False)\n"
     ]
    },
    {
     "name": "stdout",
     "output_type": "stream",
     "text": [
      "Subject number: sub-032463\n"
     ]
    },
    {
     "name": "stderr",
     "output_type": "stream",
     "text": [
      "/tmp/ipykernel_72612/4144421588.py:9: RuntimeWarning: Limited 1 annotation(s) that were expanding outside the data range.\n",
      "  Subjects[\"prepSignal_EO\"] = mne.io.read_raw_eeglab(\"/workspace/brail_poc3/experiments/Lemon_PreEEGLAB/{}/{}/{}_EO.set\".format(Subjects[\"Subject_Number\"], Subjects[\"Subject_Number\"], Subjects[\"Subject_Number\"]), preload=True, verbose=False)\n",
      "/tmp/ipykernel_72612/4144421588.py:9: RuntimeWarning: The data contains 'boundary' events, indicating data discontinuities. Be cautious of filtering and epoching around these events.\n",
      "  Subjects[\"prepSignal_EO\"] = mne.io.read_raw_eeglab(\"/workspace/brail_poc3/experiments/Lemon_PreEEGLAB/{}/{}/{}_EO.set\".format(Subjects[\"Subject_Number\"], Subjects[\"Subject_Number\"], Subjects[\"Subject_Number\"]), preload=True, verbose=False)\n",
      " 73%|█████████████████████████████▊           | 146/201 [00:39<00:16,  3.37it/s]/tmp/ipykernel_72612/4144421588.py:8: RuntimeWarning: Data file name in EEG.data (sub-010256_EC.fdt) is incorrect, the file name must have changed on disk, using the correct file name (sub-032464_EC.fdt).\n",
      "  Subjects[\"prepSignal_EC\"] = mne.io.read_raw_eeglab(\"/workspace/brail_poc3/experiments/Lemon_PreEEGLAB/{}/{}/{}_EC.set\".format(Subjects[\"Subject_Number\"], Subjects[\"Subject_Number\"], Subjects[\"Subject_Number\"]), preload=True, verbose=False)\n",
      "/tmp/ipykernel_72612/4144421588.py:8: RuntimeWarning: Limited 1 annotation(s) that were expanding outside the data range.\n",
      "  Subjects[\"prepSignal_EC\"] = mne.io.read_raw_eeglab(\"/workspace/brail_poc3/experiments/Lemon_PreEEGLAB/{}/{}/{}_EC.set\".format(Subjects[\"Subject_Number\"], Subjects[\"Subject_Number\"], Subjects[\"Subject_Number\"]), preload=True, verbose=False)\n",
      "/tmp/ipykernel_72612/4144421588.py:8: RuntimeWarning: The data contains 'boundary' events, indicating data discontinuities. Be cautious of filtering and epoching around these events.\n",
      "  Subjects[\"prepSignal_EC\"] = mne.io.read_raw_eeglab(\"/workspace/brail_poc3/experiments/Lemon_PreEEGLAB/{}/{}/{}_EC.set\".format(Subjects[\"Subject_Number\"], Subjects[\"Subject_Number\"], Subjects[\"Subject_Number\"]), preload=True, verbose=False)\n",
      "/tmp/ipykernel_72612/4144421588.py:9: RuntimeWarning: Data file name in EEG.data (sub-010256_EO.fdt) is incorrect, the file name must have changed on disk, using the correct file name (sub-032464_EO.fdt).\n",
      "  Subjects[\"prepSignal_EO\"] = mne.io.read_raw_eeglab(\"/workspace/brail_poc3/experiments/Lemon_PreEEGLAB/{}/{}/{}_EO.set\".format(Subjects[\"Subject_Number\"], Subjects[\"Subject_Number\"], Subjects[\"Subject_Number\"]), preload=True, verbose=False)\n"
     ]
    },
    {
     "name": "stdout",
     "output_type": "stream",
     "text": [
      "Subject number: sub-032464\n"
     ]
    },
    {
     "name": "stderr",
     "output_type": "stream",
     "text": [
      "/tmp/ipykernel_72612/4144421588.py:9: RuntimeWarning: Limited 1 annotation(s) that were expanding outside the data range.\n",
      "  Subjects[\"prepSignal_EO\"] = mne.io.read_raw_eeglab(\"/workspace/brail_poc3/experiments/Lemon_PreEEGLAB/{}/{}/{}_EO.set\".format(Subjects[\"Subject_Number\"], Subjects[\"Subject_Number\"], Subjects[\"Subject_Number\"]), preload=True, verbose=False)\n",
      "/tmp/ipykernel_72612/4144421588.py:9: RuntimeWarning: The data contains 'boundary' events, indicating data discontinuities. Be cautious of filtering and epoching around these events.\n",
      "  Subjects[\"prepSignal_EO\"] = mne.io.read_raw_eeglab(\"/workspace/brail_poc3/experiments/Lemon_PreEEGLAB/{}/{}/{}_EO.set\".format(Subjects[\"Subject_Number\"], Subjects[\"Subject_Number\"], Subjects[\"Subject_Number\"]), preload=True, verbose=False)\n",
      " 73%|█████████████████████████████▉           | 147/201 [00:40<00:15,  3.38it/s]/tmp/ipykernel_72612/4144421588.py:8: RuntimeWarning: Data file name in EEG.data (sub-010257_EC.fdt) is incorrect, the file name must have changed on disk, using the correct file name (sub-032465_EC.fdt).\n",
      "  Subjects[\"prepSignal_EC\"] = mne.io.read_raw_eeglab(\"/workspace/brail_poc3/experiments/Lemon_PreEEGLAB/{}/{}/{}_EC.set\".format(Subjects[\"Subject_Number\"], Subjects[\"Subject_Number\"], Subjects[\"Subject_Number\"]), preload=True, verbose=False)\n",
      "/tmp/ipykernel_72612/4144421588.py:8: RuntimeWarning: Limited 1 annotation(s) that were expanding outside the data range.\n",
      "  Subjects[\"prepSignal_EC\"] = mne.io.read_raw_eeglab(\"/workspace/brail_poc3/experiments/Lemon_PreEEGLAB/{}/{}/{}_EC.set\".format(Subjects[\"Subject_Number\"], Subjects[\"Subject_Number\"], Subjects[\"Subject_Number\"]), preload=True, verbose=False)\n",
      "/tmp/ipykernel_72612/4144421588.py:8: RuntimeWarning: The data contains 'boundary' events, indicating data discontinuities. Be cautious of filtering and epoching around these events.\n",
      "  Subjects[\"prepSignal_EC\"] = mne.io.read_raw_eeglab(\"/workspace/brail_poc3/experiments/Lemon_PreEEGLAB/{}/{}/{}_EC.set\".format(Subjects[\"Subject_Number\"], Subjects[\"Subject_Number\"], Subjects[\"Subject_Number\"]), preload=True, verbose=False)\n",
      "/tmp/ipykernel_72612/4144421588.py:9: RuntimeWarning: Data file name in EEG.data (sub-010257_EO.fdt) is incorrect, the file name must have changed on disk, using the correct file name (sub-032465_EO.fdt).\n",
      "  Subjects[\"prepSignal_EO\"] = mne.io.read_raw_eeglab(\"/workspace/brail_poc3/experiments/Lemon_PreEEGLAB/{}/{}/{}_EO.set\".format(Subjects[\"Subject_Number\"], Subjects[\"Subject_Number\"], Subjects[\"Subject_Number\"]), preload=True, verbose=False)\n"
     ]
    },
    {
     "name": "stdout",
     "output_type": "stream",
     "text": [
      "Subject number: sub-032465\n"
     ]
    },
    {
     "name": "stderr",
     "output_type": "stream",
     "text": [
      "/tmp/ipykernel_72612/4144421588.py:9: RuntimeWarning: Limited 1 annotation(s) that were expanding outside the data range.\n",
      "  Subjects[\"prepSignal_EO\"] = mne.io.read_raw_eeglab(\"/workspace/brail_poc3/experiments/Lemon_PreEEGLAB/{}/{}/{}_EO.set\".format(Subjects[\"Subject_Number\"], Subjects[\"Subject_Number\"], Subjects[\"Subject_Number\"]), preload=True, verbose=False)\n",
      "/tmp/ipykernel_72612/4144421588.py:9: RuntimeWarning: The data contains 'boundary' events, indicating data discontinuities. Be cautious of filtering and epoching around these events.\n",
      "  Subjects[\"prepSignal_EO\"] = mne.io.read_raw_eeglab(\"/workspace/brail_poc3/experiments/Lemon_PreEEGLAB/{}/{}/{}_EO.set\".format(Subjects[\"Subject_Number\"], Subjects[\"Subject_Number\"], Subjects[\"Subject_Number\"]), preload=True, verbose=False)\n",
      " 74%|██████████████████████████████▏          | 148/201 [00:40<00:15,  3.42it/s]/tmp/ipykernel_72612/4144421588.py:8: RuntimeWarning: Data file name in EEG.data (sub-010258_EC.fdt) is incorrect, the file name must have changed on disk, using the correct file name (sub-032466_EC.fdt).\n",
      "  Subjects[\"prepSignal_EC\"] = mne.io.read_raw_eeglab(\"/workspace/brail_poc3/experiments/Lemon_PreEEGLAB/{}/{}/{}_EC.set\".format(Subjects[\"Subject_Number\"], Subjects[\"Subject_Number\"], Subjects[\"Subject_Number\"]), preload=True, verbose=False)\n",
      "/tmp/ipykernel_72612/4144421588.py:8: RuntimeWarning: Limited 1 annotation(s) that were expanding outside the data range.\n",
      "  Subjects[\"prepSignal_EC\"] = mne.io.read_raw_eeglab(\"/workspace/brail_poc3/experiments/Lemon_PreEEGLAB/{}/{}/{}_EC.set\".format(Subjects[\"Subject_Number\"], Subjects[\"Subject_Number\"], Subjects[\"Subject_Number\"]), preload=True, verbose=False)\n",
      "/tmp/ipykernel_72612/4144421588.py:8: RuntimeWarning: The data contains 'boundary' events, indicating data discontinuities. Be cautious of filtering and epoching around these events.\n",
      "  Subjects[\"prepSignal_EC\"] = mne.io.read_raw_eeglab(\"/workspace/brail_poc3/experiments/Lemon_PreEEGLAB/{}/{}/{}_EC.set\".format(Subjects[\"Subject_Number\"], Subjects[\"Subject_Number\"], Subjects[\"Subject_Number\"]), preload=True, verbose=False)\n",
      "/tmp/ipykernel_72612/4144421588.py:9: RuntimeWarning: Data file name in EEG.data (sub-010258_EO.fdt) is incorrect, the file name must have changed on disk, using the correct file name (sub-032466_EO.fdt).\n",
      "  Subjects[\"prepSignal_EO\"] = mne.io.read_raw_eeglab(\"/workspace/brail_poc3/experiments/Lemon_PreEEGLAB/{}/{}/{}_EO.set\".format(Subjects[\"Subject_Number\"], Subjects[\"Subject_Number\"], Subjects[\"Subject_Number\"]), preload=True, verbose=False)\n"
     ]
    },
    {
     "name": "stdout",
     "output_type": "stream",
     "text": [
      "Subject number: sub-032466\n"
     ]
    },
    {
     "name": "stderr",
     "output_type": "stream",
     "text": [
      "/tmp/ipykernel_72612/4144421588.py:9: RuntimeWarning: Limited 1 annotation(s) that were expanding outside the data range.\n",
      "  Subjects[\"prepSignal_EO\"] = mne.io.read_raw_eeglab(\"/workspace/brail_poc3/experiments/Lemon_PreEEGLAB/{}/{}/{}_EO.set\".format(Subjects[\"Subject_Number\"], Subjects[\"Subject_Number\"], Subjects[\"Subject_Number\"]), preload=True, verbose=False)\n",
      "/tmp/ipykernel_72612/4144421588.py:9: RuntimeWarning: The data contains 'boundary' events, indicating data discontinuities. Be cautious of filtering and epoching around these events.\n",
      "  Subjects[\"prepSignal_EO\"] = mne.io.read_raw_eeglab(\"/workspace/brail_poc3/experiments/Lemon_PreEEGLAB/{}/{}/{}_EO.set\".format(Subjects[\"Subject_Number\"], Subjects[\"Subject_Number\"], Subjects[\"Subject_Number\"]), preload=True, verbose=False)\n",
      " 74%|██████████████████████████████▍          | 149/201 [00:40<00:15,  3.43it/s]/tmp/ipykernel_72612/4144421588.py:8: RuntimeWarning: Data file name in EEG.data (sub-010260_EC.fdt) is incorrect, the file name must have changed on disk, using the correct file name (sub-032467_EC.fdt).\n",
      "  Subjects[\"prepSignal_EC\"] = mne.io.read_raw_eeglab(\"/workspace/brail_poc3/experiments/Lemon_PreEEGLAB/{}/{}/{}_EC.set\".format(Subjects[\"Subject_Number\"], Subjects[\"Subject_Number\"], Subjects[\"Subject_Number\"]), preload=True, verbose=False)\n",
      "/tmp/ipykernel_72612/4144421588.py:8: RuntimeWarning: Limited 1 annotation(s) that were expanding outside the data range.\n",
      "  Subjects[\"prepSignal_EC\"] = mne.io.read_raw_eeglab(\"/workspace/brail_poc3/experiments/Lemon_PreEEGLAB/{}/{}/{}_EC.set\".format(Subjects[\"Subject_Number\"], Subjects[\"Subject_Number\"], Subjects[\"Subject_Number\"]), preload=True, verbose=False)\n",
      "/tmp/ipykernel_72612/4144421588.py:8: RuntimeWarning: The data contains 'boundary' events, indicating data discontinuities. Be cautious of filtering and epoching around these events.\n",
      "  Subjects[\"prepSignal_EC\"] = mne.io.read_raw_eeglab(\"/workspace/brail_poc3/experiments/Lemon_PreEEGLAB/{}/{}/{}_EC.set\".format(Subjects[\"Subject_Number\"], Subjects[\"Subject_Number\"], Subjects[\"Subject_Number\"]), preload=True, verbose=False)\n",
      "/tmp/ipykernel_72612/4144421588.py:9: RuntimeWarning: Data file name in EEG.data (sub-010260_EO.fdt) is incorrect, the file name must have changed on disk, using the correct file name (sub-032467_EO.fdt).\n",
      "  Subjects[\"prepSignal_EO\"] = mne.io.read_raw_eeglab(\"/workspace/brail_poc3/experiments/Lemon_PreEEGLAB/{}/{}/{}_EO.set\".format(Subjects[\"Subject_Number\"], Subjects[\"Subject_Number\"], Subjects[\"Subject_Number\"]), preload=True, verbose=False)\n"
     ]
    },
    {
     "name": "stdout",
     "output_type": "stream",
     "text": [
      "Subject number: sub-032467\n"
     ]
    },
    {
     "name": "stderr",
     "output_type": "stream",
     "text": [
      "/tmp/ipykernel_72612/4144421588.py:9: RuntimeWarning: Limited 1 annotation(s) that were expanding outside the data range.\n",
      "  Subjects[\"prepSignal_EO\"] = mne.io.read_raw_eeglab(\"/workspace/brail_poc3/experiments/Lemon_PreEEGLAB/{}/{}/{}_EO.set\".format(Subjects[\"Subject_Number\"], Subjects[\"Subject_Number\"], Subjects[\"Subject_Number\"]), preload=True, verbose=False)\n",
      "/tmp/ipykernel_72612/4144421588.py:9: RuntimeWarning: The data contains 'boundary' events, indicating data discontinuities. Be cautious of filtering and epoching around these events.\n",
      "  Subjects[\"prepSignal_EO\"] = mne.io.read_raw_eeglab(\"/workspace/brail_poc3/experiments/Lemon_PreEEGLAB/{}/{}/{}_EO.set\".format(Subjects[\"Subject_Number\"], Subjects[\"Subject_Number\"], Subjects[\"Subject_Number\"]), preload=True, verbose=False)\n",
      " 75%|██████████████████████████████▌          | 150/201 [00:41<00:14,  3.43it/s]/tmp/ipykernel_72612/4144421588.py:8: RuntimeWarning: Data file name in EEG.data (sub-010261_EC.fdt) is incorrect, the file name must have changed on disk, using the correct file name (sub-032468_EC.fdt).\n",
      "  Subjects[\"prepSignal_EC\"] = mne.io.read_raw_eeglab(\"/workspace/brail_poc3/experiments/Lemon_PreEEGLAB/{}/{}/{}_EC.set\".format(Subjects[\"Subject_Number\"], Subjects[\"Subject_Number\"], Subjects[\"Subject_Number\"]), preload=True, verbose=False)\n",
      "/tmp/ipykernel_72612/4144421588.py:8: RuntimeWarning: Limited 1 annotation(s) that were expanding outside the data range.\n",
      "  Subjects[\"prepSignal_EC\"] = mne.io.read_raw_eeglab(\"/workspace/brail_poc3/experiments/Lemon_PreEEGLAB/{}/{}/{}_EC.set\".format(Subjects[\"Subject_Number\"], Subjects[\"Subject_Number\"], Subjects[\"Subject_Number\"]), preload=True, verbose=False)\n",
      "/tmp/ipykernel_72612/4144421588.py:8: RuntimeWarning: The data contains 'boundary' events, indicating data discontinuities. Be cautious of filtering and epoching around these events.\n",
      "  Subjects[\"prepSignal_EC\"] = mne.io.read_raw_eeglab(\"/workspace/brail_poc3/experiments/Lemon_PreEEGLAB/{}/{}/{}_EC.set\".format(Subjects[\"Subject_Number\"], Subjects[\"Subject_Number\"], Subjects[\"Subject_Number\"]), preload=True, verbose=False)\n",
      "/tmp/ipykernel_72612/4144421588.py:9: RuntimeWarning: Data file name in EEG.data (sub-010261_EO.fdt) is incorrect, the file name must have changed on disk, using the correct file name (sub-032468_EO.fdt).\n",
      "  Subjects[\"prepSignal_EO\"] = mne.io.read_raw_eeglab(\"/workspace/brail_poc3/experiments/Lemon_PreEEGLAB/{}/{}/{}_EO.set\".format(Subjects[\"Subject_Number\"], Subjects[\"Subject_Number\"], Subjects[\"Subject_Number\"]), preload=True, verbose=False)\n"
     ]
    },
    {
     "name": "stdout",
     "output_type": "stream",
     "text": [
      "Subject number: sub-032468\n"
     ]
    },
    {
     "name": "stderr",
     "output_type": "stream",
     "text": [
      "/tmp/ipykernel_72612/4144421588.py:9: RuntimeWarning: Limited 1 annotation(s) that were expanding outside the data range.\n",
      "  Subjects[\"prepSignal_EO\"] = mne.io.read_raw_eeglab(\"/workspace/brail_poc3/experiments/Lemon_PreEEGLAB/{}/{}/{}_EO.set\".format(Subjects[\"Subject_Number\"], Subjects[\"Subject_Number\"], Subjects[\"Subject_Number\"]), preload=True, verbose=False)\n",
      "/tmp/ipykernel_72612/4144421588.py:9: RuntimeWarning: The data contains 'boundary' events, indicating data discontinuities. Be cautious of filtering and epoching around these events.\n",
      "  Subjects[\"prepSignal_EO\"] = mne.io.read_raw_eeglab(\"/workspace/brail_poc3/experiments/Lemon_PreEEGLAB/{}/{}/{}_EO.set\".format(Subjects[\"Subject_Number\"], Subjects[\"Subject_Number\"], Subjects[\"Subject_Number\"]), preload=True, verbose=False)\n",
      " 75%|██████████████████████████████▊          | 151/201 [00:41<00:14,  3.45it/s]/tmp/ipykernel_72612/4144421588.py:8: RuntimeWarning: Data file name in EEG.data (sub-010262_EC.fdt) is incorrect, the file name must have changed on disk, using the correct file name (sub-032469_EC.fdt).\n",
      "  Subjects[\"prepSignal_EC\"] = mne.io.read_raw_eeglab(\"/workspace/brail_poc3/experiments/Lemon_PreEEGLAB/{}/{}/{}_EC.set\".format(Subjects[\"Subject_Number\"], Subjects[\"Subject_Number\"], Subjects[\"Subject_Number\"]), preload=True, verbose=False)\n",
      "/tmp/ipykernel_72612/4144421588.py:8: RuntimeWarning: Limited 1 annotation(s) that were expanding outside the data range.\n",
      "  Subjects[\"prepSignal_EC\"] = mne.io.read_raw_eeglab(\"/workspace/brail_poc3/experiments/Lemon_PreEEGLAB/{}/{}/{}_EC.set\".format(Subjects[\"Subject_Number\"], Subjects[\"Subject_Number\"], Subjects[\"Subject_Number\"]), preload=True, verbose=False)\n",
      "/tmp/ipykernel_72612/4144421588.py:8: RuntimeWarning: The data contains 'boundary' events, indicating data discontinuities. Be cautious of filtering and epoching around these events.\n",
      "  Subjects[\"prepSignal_EC\"] = mne.io.read_raw_eeglab(\"/workspace/brail_poc3/experiments/Lemon_PreEEGLAB/{}/{}/{}_EC.set\".format(Subjects[\"Subject_Number\"], Subjects[\"Subject_Number\"], Subjects[\"Subject_Number\"]), preload=True, verbose=False)\n",
      "/tmp/ipykernel_72612/4144421588.py:9: RuntimeWarning: Data file name in EEG.data (sub-010262_EO.fdt) is incorrect, the file name must have changed on disk, using the correct file name (sub-032469_EO.fdt).\n",
      "  Subjects[\"prepSignal_EO\"] = mne.io.read_raw_eeglab(\"/workspace/brail_poc3/experiments/Lemon_PreEEGLAB/{}/{}/{}_EO.set\".format(Subjects[\"Subject_Number\"], Subjects[\"Subject_Number\"], Subjects[\"Subject_Number\"]), preload=True, verbose=False)\n"
     ]
    },
    {
     "name": "stdout",
     "output_type": "stream",
     "text": [
      "Subject number: sub-032469\n"
     ]
    },
    {
     "name": "stderr",
     "output_type": "stream",
     "text": [
      "/tmp/ipykernel_72612/4144421588.py:9: RuntimeWarning: Limited 1 annotation(s) that were expanding outside the data range.\n",
      "  Subjects[\"prepSignal_EO\"] = mne.io.read_raw_eeglab(\"/workspace/brail_poc3/experiments/Lemon_PreEEGLAB/{}/{}/{}_EO.set\".format(Subjects[\"Subject_Number\"], Subjects[\"Subject_Number\"], Subjects[\"Subject_Number\"]), preload=True, verbose=False)\n",
      "/tmp/ipykernel_72612/4144421588.py:9: RuntimeWarning: The data contains 'boundary' events, indicating data discontinuities. Be cautious of filtering and epoching around these events.\n",
      "  Subjects[\"prepSignal_EO\"] = mne.io.read_raw_eeglab(\"/workspace/brail_poc3/experiments/Lemon_PreEEGLAB/{}/{}/{}_EO.set\".format(Subjects[\"Subject_Number\"], Subjects[\"Subject_Number\"], Subjects[\"Subject_Number\"]), preload=True, verbose=False)\n",
      " 76%|███████████████████████████████          | 152/201 [00:41<00:13,  3.50it/s]/tmp/ipykernel_72612/4144421588.py:8: RuntimeWarning: Data file name in EEG.data (sub-010263_EC.fdt) is incorrect, the file name must have changed on disk, using the correct file name (sub-032470_EC.fdt).\n",
      "  Subjects[\"prepSignal_EC\"] = mne.io.read_raw_eeglab(\"/workspace/brail_poc3/experiments/Lemon_PreEEGLAB/{}/{}/{}_EC.set\".format(Subjects[\"Subject_Number\"], Subjects[\"Subject_Number\"], Subjects[\"Subject_Number\"]), preload=True, verbose=False)\n",
      "/tmp/ipykernel_72612/4144421588.py:8: RuntimeWarning: Limited 1 annotation(s) that were expanding outside the data range.\n",
      "  Subjects[\"prepSignal_EC\"] = mne.io.read_raw_eeglab(\"/workspace/brail_poc3/experiments/Lemon_PreEEGLAB/{}/{}/{}_EC.set\".format(Subjects[\"Subject_Number\"], Subjects[\"Subject_Number\"], Subjects[\"Subject_Number\"]), preload=True, verbose=False)\n",
      "/tmp/ipykernel_72612/4144421588.py:8: RuntimeWarning: The data contains 'boundary' events, indicating data discontinuities. Be cautious of filtering and epoching around these events.\n",
      "  Subjects[\"prepSignal_EC\"] = mne.io.read_raw_eeglab(\"/workspace/brail_poc3/experiments/Lemon_PreEEGLAB/{}/{}/{}_EC.set\".format(Subjects[\"Subject_Number\"], Subjects[\"Subject_Number\"], Subjects[\"Subject_Number\"]), preload=True, verbose=False)\n",
      "/tmp/ipykernel_72612/4144421588.py:9: RuntimeWarning: Data file name in EEG.data (sub-010263_EO.fdt) is incorrect, the file name must have changed on disk, using the correct file name (sub-032470_EO.fdt).\n",
      "  Subjects[\"prepSignal_EO\"] = mne.io.read_raw_eeglab(\"/workspace/brail_poc3/experiments/Lemon_PreEEGLAB/{}/{}/{}_EO.set\".format(Subjects[\"Subject_Number\"], Subjects[\"Subject_Number\"], Subjects[\"Subject_Number\"]), preload=True, verbose=False)\n"
     ]
    },
    {
     "name": "stdout",
     "output_type": "stream",
     "text": [
      "Subject number: sub-032470\n"
     ]
    },
    {
     "name": "stderr",
     "output_type": "stream",
     "text": [
      "/tmp/ipykernel_72612/4144421588.py:9: RuntimeWarning: Limited 1 annotation(s) that were expanding outside the data range.\n",
      "  Subjects[\"prepSignal_EO\"] = mne.io.read_raw_eeglab(\"/workspace/brail_poc3/experiments/Lemon_PreEEGLAB/{}/{}/{}_EO.set\".format(Subjects[\"Subject_Number\"], Subjects[\"Subject_Number\"], Subjects[\"Subject_Number\"]), preload=True, verbose=False)\n",
      "/tmp/ipykernel_72612/4144421588.py:9: RuntimeWarning: The data contains 'boundary' events, indicating data discontinuities. Be cautious of filtering and epoching around these events.\n",
      "  Subjects[\"prepSignal_EO\"] = mne.io.read_raw_eeglab(\"/workspace/brail_poc3/experiments/Lemon_PreEEGLAB/{}/{}/{}_EO.set\".format(Subjects[\"Subject_Number\"], Subjects[\"Subject_Number\"], Subjects[\"Subject_Number\"]), preload=True, verbose=False)\n",
      " 76%|███████████████████████████████▏         | 153/201 [00:41<00:13,  3.51it/s]/tmp/ipykernel_72612/4144421588.py:8: RuntimeWarning: Data file name in EEG.data (sub-010264_EC.fdt) is incorrect, the file name must have changed on disk, using the correct file name (sub-032471_EC.fdt).\n",
      "  Subjects[\"prepSignal_EC\"] = mne.io.read_raw_eeglab(\"/workspace/brail_poc3/experiments/Lemon_PreEEGLAB/{}/{}/{}_EC.set\".format(Subjects[\"Subject_Number\"], Subjects[\"Subject_Number\"], Subjects[\"Subject_Number\"]), preload=True, verbose=False)\n",
      "/tmp/ipykernel_72612/4144421588.py:8: RuntimeWarning: Limited 1 annotation(s) that were expanding outside the data range.\n",
      "  Subjects[\"prepSignal_EC\"] = mne.io.read_raw_eeglab(\"/workspace/brail_poc3/experiments/Lemon_PreEEGLAB/{}/{}/{}_EC.set\".format(Subjects[\"Subject_Number\"], Subjects[\"Subject_Number\"], Subjects[\"Subject_Number\"]), preload=True, verbose=False)\n",
      "/tmp/ipykernel_72612/4144421588.py:8: RuntimeWarning: The data contains 'boundary' events, indicating data discontinuities. Be cautious of filtering and epoching around these events.\n",
      "  Subjects[\"prepSignal_EC\"] = mne.io.read_raw_eeglab(\"/workspace/brail_poc3/experiments/Lemon_PreEEGLAB/{}/{}/{}_EC.set\".format(Subjects[\"Subject_Number\"], Subjects[\"Subject_Number\"], Subjects[\"Subject_Number\"]), preload=True, verbose=False)\n",
      "/tmp/ipykernel_72612/4144421588.py:9: RuntimeWarning: Data file name in EEG.data (sub-010264_EO.fdt) is incorrect, the file name must have changed on disk, using the correct file name (sub-032471_EO.fdt).\n",
      "  Subjects[\"prepSignal_EO\"] = mne.io.read_raw_eeglab(\"/workspace/brail_poc3/experiments/Lemon_PreEEGLAB/{}/{}/{}_EO.set\".format(Subjects[\"Subject_Number\"], Subjects[\"Subject_Number\"], Subjects[\"Subject_Number\"]), preload=True, verbose=False)\n"
     ]
    },
    {
     "name": "stdout",
     "output_type": "stream",
     "text": [
      "Subject number: sub-032471\n"
     ]
    },
    {
     "name": "stderr",
     "output_type": "stream",
     "text": [
      "/tmp/ipykernel_72612/4144421588.py:9: RuntimeWarning: Limited 1 annotation(s) that were expanding outside the data range.\n",
      "  Subjects[\"prepSignal_EO\"] = mne.io.read_raw_eeglab(\"/workspace/brail_poc3/experiments/Lemon_PreEEGLAB/{}/{}/{}_EO.set\".format(Subjects[\"Subject_Number\"], Subjects[\"Subject_Number\"], Subjects[\"Subject_Number\"]), preload=True, verbose=False)\n",
      "/tmp/ipykernel_72612/4144421588.py:9: RuntimeWarning: The data contains 'boundary' events, indicating data discontinuities. Be cautious of filtering and epoching around these events.\n",
      "  Subjects[\"prepSignal_EO\"] = mne.io.read_raw_eeglab(\"/workspace/brail_poc3/experiments/Lemon_PreEEGLAB/{}/{}/{}_EO.set\".format(Subjects[\"Subject_Number\"], Subjects[\"Subject_Number\"], Subjects[\"Subject_Number\"]), preload=True, verbose=False)\n",
      " 77%|███████████████████████████████▍         | 154/201 [00:42<00:13,  3.53it/s]/tmp/ipykernel_72612/4144421588.py:8: RuntimeWarning: Data file name in EEG.data (sub-010265_EC.fdt) is incorrect, the file name must have changed on disk, using the correct file name (sub-032472_EC.fdt).\n",
      "  Subjects[\"prepSignal_EC\"] = mne.io.read_raw_eeglab(\"/workspace/brail_poc3/experiments/Lemon_PreEEGLAB/{}/{}/{}_EC.set\".format(Subjects[\"Subject_Number\"], Subjects[\"Subject_Number\"], Subjects[\"Subject_Number\"]), preload=True, verbose=False)\n",
      "/tmp/ipykernel_72612/4144421588.py:8: RuntimeWarning: Limited 1 annotation(s) that were expanding outside the data range.\n",
      "  Subjects[\"prepSignal_EC\"] = mne.io.read_raw_eeglab(\"/workspace/brail_poc3/experiments/Lemon_PreEEGLAB/{}/{}/{}_EC.set\".format(Subjects[\"Subject_Number\"], Subjects[\"Subject_Number\"], Subjects[\"Subject_Number\"]), preload=True, verbose=False)\n",
      "/tmp/ipykernel_72612/4144421588.py:8: RuntimeWarning: The data contains 'boundary' events, indicating data discontinuities. Be cautious of filtering and epoching around these events.\n",
      "  Subjects[\"prepSignal_EC\"] = mne.io.read_raw_eeglab(\"/workspace/brail_poc3/experiments/Lemon_PreEEGLAB/{}/{}/{}_EC.set\".format(Subjects[\"Subject_Number\"], Subjects[\"Subject_Number\"], Subjects[\"Subject_Number\"]), preload=True, verbose=False)\n",
      "/tmp/ipykernel_72612/4144421588.py:9: RuntimeWarning: Data file name in EEG.data (sub-010265_EO.fdt) is incorrect, the file name must have changed on disk, using the correct file name (sub-032472_EO.fdt).\n",
      "  Subjects[\"prepSignal_EO\"] = mne.io.read_raw_eeglab(\"/workspace/brail_poc3/experiments/Lemon_PreEEGLAB/{}/{}/{}_EO.set\".format(Subjects[\"Subject_Number\"], Subjects[\"Subject_Number\"], Subjects[\"Subject_Number\"]), preload=True, verbose=False)\n"
     ]
    },
    {
     "name": "stdout",
     "output_type": "stream",
     "text": [
      "Subject number: sub-032472\n"
     ]
    },
    {
     "name": "stderr",
     "output_type": "stream",
     "text": [
      "/tmp/ipykernel_72612/4144421588.py:9: RuntimeWarning: Limited 1 annotation(s) that were expanding outside the data range.\n",
      "  Subjects[\"prepSignal_EO\"] = mne.io.read_raw_eeglab(\"/workspace/brail_poc3/experiments/Lemon_PreEEGLAB/{}/{}/{}_EO.set\".format(Subjects[\"Subject_Number\"], Subjects[\"Subject_Number\"], Subjects[\"Subject_Number\"]), preload=True, verbose=False)\n",
      "/tmp/ipykernel_72612/4144421588.py:9: RuntimeWarning: The data contains 'boundary' events, indicating data discontinuities. Be cautious of filtering and epoching around these events.\n",
      "  Subjects[\"prepSignal_EO\"] = mne.io.read_raw_eeglab(\"/workspace/brail_poc3/experiments/Lemon_PreEEGLAB/{}/{}/{}_EO.set\".format(Subjects[\"Subject_Number\"], Subjects[\"Subject_Number\"], Subjects[\"Subject_Number\"]), preload=True, verbose=False)\n",
      " 77%|███████████████████████████████▌         | 155/201 [00:42<00:13,  3.47it/s]/tmp/ipykernel_72612/4144421588.py:8: RuntimeWarning: Data file name in EEG.data (sub-010266_EC.fdt) is incorrect, the file name must have changed on disk, using the correct file name (sub-032473_EC.fdt).\n",
      "  Subjects[\"prepSignal_EC\"] = mne.io.read_raw_eeglab(\"/workspace/brail_poc3/experiments/Lemon_PreEEGLAB/{}/{}/{}_EC.set\".format(Subjects[\"Subject_Number\"], Subjects[\"Subject_Number\"], Subjects[\"Subject_Number\"]), preload=True, verbose=False)\n",
      "/tmp/ipykernel_72612/4144421588.py:8: RuntimeWarning: Limited 1 annotation(s) that were expanding outside the data range.\n",
      "  Subjects[\"prepSignal_EC\"] = mne.io.read_raw_eeglab(\"/workspace/brail_poc3/experiments/Lemon_PreEEGLAB/{}/{}/{}_EC.set\".format(Subjects[\"Subject_Number\"], Subjects[\"Subject_Number\"], Subjects[\"Subject_Number\"]), preload=True, verbose=False)\n",
      "/tmp/ipykernel_72612/4144421588.py:8: RuntimeWarning: The data contains 'boundary' events, indicating data discontinuities. Be cautious of filtering and epoching around these events.\n",
      "  Subjects[\"prepSignal_EC\"] = mne.io.read_raw_eeglab(\"/workspace/brail_poc3/experiments/Lemon_PreEEGLAB/{}/{}/{}_EC.set\".format(Subjects[\"Subject_Number\"], Subjects[\"Subject_Number\"], Subjects[\"Subject_Number\"]), preload=True, verbose=False)\n",
      "/tmp/ipykernel_72612/4144421588.py:9: RuntimeWarning: Data file name in EEG.data (sub-010266_EO.fdt) is incorrect, the file name must have changed on disk, using the correct file name (sub-032473_EO.fdt).\n",
      "  Subjects[\"prepSignal_EO\"] = mne.io.read_raw_eeglab(\"/workspace/brail_poc3/experiments/Lemon_PreEEGLAB/{}/{}/{}_EO.set\".format(Subjects[\"Subject_Number\"], Subjects[\"Subject_Number\"], Subjects[\"Subject_Number\"]), preload=True, verbose=False)\n"
     ]
    },
    {
     "name": "stdout",
     "output_type": "stream",
     "text": [
      "Subject number: sub-032473\n"
     ]
    },
    {
     "name": "stderr",
     "output_type": "stream",
     "text": [
      "/tmp/ipykernel_72612/4144421588.py:9: RuntimeWarning: Limited 1 annotation(s) that were expanding outside the data range.\n",
      "  Subjects[\"prepSignal_EO\"] = mne.io.read_raw_eeglab(\"/workspace/brail_poc3/experiments/Lemon_PreEEGLAB/{}/{}/{}_EO.set\".format(Subjects[\"Subject_Number\"], Subjects[\"Subject_Number\"], Subjects[\"Subject_Number\"]), preload=True, verbose=False)\n",
      "/tmp/ipykernel_72612/4144421588.py:9: RuntimeWarning: The data contains 'boundary' events, indicating data discontinuities. Be cautious of filtering and epoching around these events.\n",
      "  Subjects[\"prepSignal_EO\"] = mne.io.read_raw_eeglab(\"/workspace/brail_poc3/experiments/Lemon_PreEEGLAB/{}/{}/{}_EO.set\".format(Subjects[\"Subject_Number\"], Subjects[\"Subject_Number\"], Subjects[\"Subject_Number\"]), preload=True, verbose=False)\n",
      " 78%|███████████████████████████████▊         | 156/201 [00:42<00:13,  3.44it/s]/tmp/ipykernel_72612/4144421588.py:8: RuntimeWarning: Data file name in EEG.data (sub-010267_EC.fdt) is incorrect, the file name must have changed on disk, using the correct file name (sub-032474_EC.fdt).\n",
      "  Subjects[\"prepSignal_EC\"] = mne.io.read_raw_eeglab(\"/workspace/brail_poc3/experiments/Lemon_PreEEGLAB/{}/{}/{}_EC.set\".format(Subjects[\"Subject_Number\"], Subjects[\"Subject_Number\"], Subjects[\"Subject_Number\"]), preload=True, verbose=False)\n",
      "/tmp/ipykernel_72612/4144421588.py:8: RuntimeWarning: Limited 1 annotation(s) that were expanding outside the data range.\n",
      "  Subjects[\"prepSignal_EC\"] = mne.io.read_raw_eeglab(\"/workspace/brail_poc3/experiments/Lemon_PreEEGLAB/{}/{}/{}_EC.set\".format(Subjects[\"Subject_Number\"], Subjects[\"Subject_Number\"], Subjects[\"Subject_Number\"]), preload=True, verbose=False)\n",
      "/tmp/ipykernel_72612/4144421588.py:8: RuntimeWarning: The data contains 'boundary' events, indicating data discontinuities. Be cautious of filtering and epoching around these events.\n",
      "  Subjects[\"prepSignal_EC\"] = mne.io.read_raw_eeglab(\"/workspace/brail_poc3/experiments/Lemon_PreEEGLAB/{}/{}/{}_EC.set\".format(Subjects[\"Subject_Number\"], Subjects[\"Subject_Number\"], Subjects[\"Subject_Number\"]), preload=True, verbose=False)\n",
      "/tmp/ipykernel_72612/4144421588.py:9: RuntimeWarning: Data file name in EEG.data (sub-010267_EO.fdt) is incorrect, the file name must have changed on disk, using the correct file name (sub-032474_EO.fdt).\n",
      "  Subjects[\"prepSignal_EO\"] = mne.io.read_raw_eeglab(\"/workspace/brail_poc3/experiments/Lemon_PreEEGLAB/{}/{}/{}_EO.set\".format(Subjects[\"Subject_Number\"], Subjects[\"Subject_Number\"], Subjects[\"Subject_Number\"]), preload=True, verbose=False)\n"
     ]
    },
    {
     "name": "stdout",
     "output_type": "stream",
     "text": [
      "Subject number: sub-032474\n"
     ]
    },
    {
     "name": "stderr",
     "output_type": "stream",
     "text": [
      "/tmp/ipykernel_72612/4144421588.py:9: RuntimeWarning: Limited 1 annotation(s) that were expanding outside the data range.\n",
      "  Subjects[\"prepSignal_EO\"] = mne.io.read_raw_eeglab(\"/workspace/brail_poc3/experiments/Lemon_PreEEGLAB/{}/{}/{}_EO.set\".format(Subjects[\"Subject_Number\"], Subjects[\"Subject_Number\"], Subjects[\"Subject_Number\"]), preload=True, verbose=False)\n",
      "/tmp/ipykernel_72612/4144421588.py:9: RuntimeWarning: The data contains 'boundary' events, indicating data discontinuities. Be cautious of filtering and epoching around these events.\n",
      "  Subjects[\"prepSignal_EO\"] = mne.io.read_raw_eeglab(\"/workspace/brail_poc3/experiments/Lemon_PreEEGLAB/{}/{}/{}_EO.set\".format(Subjects[\"Subject_Number\"], Subjects[\"Subject_Number\"], Subjects[\"Subject_Number\"]), preload=True, verbose=False)\n",
      " 78%|████████████████████████████████         | 157/201 [00:43<00:13,  3.37it/s]/tmp/ipykernel_72612/4144421588.py:8: RuntimeWarning: Data file name in EEG.data (sub-010268_EC.fdt) is incorrect, the file name must have changed on disk, using the correct file name (sub-032475_EC.fdt).\n",
      "  Subjects[\"prepSignal_EC\"] = mne.io.read_raw_eeglab(\"/workspace/brail_poc3/experiments/Lemon_PreEEGLAB/{}/{}/{}_EC.set\".format(Subjects[\"Subject_Number\"], Subjects[\"Subject_Number\"], Subjects[\"Subject_Number\"]), preload=True, verbose=False)\n",
      "/tmp/ipykernel_72612/4144421588.py:8: RuntimeWarning: Limited 1 annotation(s) that were expanding outside the data range.\n",
      "  Subjects[\"prepSignal_EC\"] = mne.io.read_raw_eeglab(\"/workspace/brail_poc3/experiments/Lemon_PreEEGLAB/{}/{}/{}_EC.set\".format(Subjects[\"Subject_Number\"], Subjects[\"Subject_Number\"], Subjects[\"Subject_Number\"]), preload=True, verbose=False)\n",
      "/tmp/ipykernel_72612/4144421588.py:8: RuntimeWarning: The data contains 'boundary' events, indicating data discontinuities. Be cautious of filtering and epoching around these events.\n",
      "  Subjects[\"prepSignal_EC\"] = mne.io.read_raw_eeglab(\"/workspace/brail_poc3/experiments/Lemon_PreEEGLAB/{}/{}/{}_EC.set\".format(Subjects[\"Subject_Number\"], Subjects[\"Subject_Number\"], Subjects[\"Subject_Number\"]), preload=True, verbose=False)\n",
      "/tmp/ipykernel_72612/4144421588.py:9: RuntimeWarning: Data file name in EEG.data (sub-010268_EO.fdt) is incorrect, the file name must have changed on disk, using the correct file name (sub-032475_EO.fdt).\n",
      "  Subjects[\"prepSignal_EO\"] = mne.io.read_raw_eeglab(\"/workspace/brail_poc3/experiments/Lemon_PreEEGLAB/{}/{}/{}_EO.set\".format(Subjects[\"Subject_Number\"], Subjects[\"Subject_Number\"], Subjects[\"Subject_Number\"]), preload=True, verbose=False)\n"
     ]
    },
    {
     "name": "stdout",
     "output_type": "stream",
     "text": [
      "Subject number: sub-032475\n"
     ]
    },
    {
     "name": "stderr",
     "output_type": "stream",
     "text": [
      "/tmp/ipykernel_72612/4144421588.py:9: RuntimeWarning: Limited 1 annotation(s) that were expanding outside the data range.\n",
      "  Subjects[\"prepSignal_EO\"] = mne.io.read_raw_eeglab(\"/workspace/brail_poc3/experiments/Lemon_PreEEGLAB/{}/{}/{}_EO.set\".format(Subjects[\"Subject_Number\"], Subjects[\"Subject_Number\"], Subjects[\"Subject_Number\"]), preload=True, verbose=False)\n",
      "/tmp/ipykernel_72612/4144421588.py:9: RuntimeWarning: The data contains 'boundary' events, indicating data discontinuities. Be cautious of filtering and epoching around these events.\n",
      "  Subjects[\"prepSignal_EO\"] = mne.io.read_raw_eeglab(\"/workspace/brail_poc3/experiments/Lemon_PreEEGLAB/{}/{}/{}_EO.set\".format(Subjects[\"Subject_Number\"], Subjects[\"Subject_Number\"], Subjects[\"Subject_Number\"]), preload=True, verbose=False)\n",
      " 79%|████████████████████████████████▏        | 158/201 [00:43<00:12,  3.35it/s]/tmp/ipykernel_72612/4144421588.py:8: RuntimeWarning: Data file name in EEG.data (sub-010269_EC.fdt) is incorrect, the file name must have changed on disk, using the correct file name (sub-032476_EC.fdt).\n",
      "  Subjects[\"prepSignal_EC\"] = mne.io.read_raw_eeglab(\"/workspace/brail_poc3/experiments/Lemon_PreEEGLAB/{}/{}/{}_EC.set\".format(Subjects[\"Subject_Number\"], Subjects[\"Subject_Number\"], Subjects[\"Subject_Number\"]), preload=True, verbose=False)\n",
      "/tmp/ipykernel_72612/4144421588.py:8: RuntimeWarning: Limited 1 annotation(s) that were expanding outside the data range.\n",
      "  Subjects[\"prepSignal_EC\"] = mne.io.read_raw_eeglab(\"/workspace/brail_poc3/experiments/Lemon_PreEEGLAB/{}/{}/{}_EC.set\".format(Subjects[\"Subject_Number\"], Subjects[\"Subject_Number\"], Subjects[\"Subject_Number\"]), preload=True, verbose=False)\n",
      "/tmp/ipykernel_72612/4144421588.py:8: RuntimeWarning: The data contains 'boundary' events, indicating data discontinuities. Be cautious of filtering and epoching around these events.\n",
      "  Subjects[\"prepSignal_EC\"] = mne.io.read_raw_eeglab(\"/workspace/brail_poc3/experiments/Lemon_PreEEGLAB/{}/{}/{}_EC.set\".format(Subjects[\"Subject_Number\"], Subjects[\"Subject_Number\"], Subjects[\"Subject_Number\"]), preload=True, verbose=False)\n",
      "/tmp/ipykernel_72612/4144421588.py:9: RuntimeWarning: Data file name in EEG.data (sub-010269_EO.fdt) is incorrect, the file name must have changed on disk, using the correct file name (sub-032476_EO.fdt).\n",
      "  Subjects[\"prepSignal_EO\"] = mne.io.read_raw_eeglab(\"/workspace/brail_poc3/experiments/Lemon_PreEEGLAB/{}/{}/{}_EO.set\".format(Subjects[\"Subject_Number\"], Subjects[\"Subject_Number\"], Subjects[\"Subject_Number\"]), preload=True, verbose=False)\n"
     ]
    },
    {
     "name": "stdout",
     "output_type": "stream",
     "text": [
      "Subject number: sub-032476\n"
     ]
    },
    {
     "name": "stderr",
     "output_type": "stream",
     "text": [
      "/tmp/ipykernel_72612/4144421588.py:9: RuntimeWarning: Limited 1 annotation(s) that were expanding outside the data range.\n",
      "  Subjects[\"prepSignal_EO\"] = mne.io.read_raw_eeglab(\"/workspace/brail_poc3/experiments/Lemon_PreEEGLAB/{}/{}/{}_EO.set\".format(Subjects[\"Subject_Number\"], Subjects[\"Subject_Number\"], Subjects[\"Subject_Number\"]), preload=True, verbose=False)\n",
      "/tmp/ipykernel_72612/4144421588.py:9: RuntimeWarning: The data contains 'boundary' events, indicating data discontinuities. Be cautious of filtering and epoching around these events.\n",
      "  Subjects[\"prepSignal_EO\"] = mne.io.read_raw_eeglab(\"/workspace/brail_poc3/experiments/Lemon_PreEEGLAB/{}/{}/{}_EO.set\".format(Subjects[\"Subject_Number\"], Subjects[\"Subject_Number\"], Subjects[\"Subject_Number\"]), preload=True, verbose=False)\n",
      " 79%|████████████████████████████████▍        | 159/201 [00:43<00:12,  3.37it/s]/tmp/ipykernel_72612/4144421588.py:8: RuntimeWarning: Data file name in EEG.data (sub-010270_EC.fdt) is incorrect, the file name must have changed on disk, using the correct file name (sub-032477_EC.fdt).\n",
      "  Subjects[\"prepSignal_EC\"] = mne.io.read_raw_eeglab(\"/workspace/brail_poc3/experiments/Lemon_PreEEGLAB/{}/{}/{}_EC.set\".format(Subjects[\"Subject_Number\"], Subjects[\"Subject_Number\"], Subjects[\"Subject_Number\"]), preload=True, verbose=False)\n",
      "/tmp/ipykernel_72612/4144421588.py:8: RuntimeWarning: Limited 1 annotation(s) that were expanding outside the data range.\n",
      "  Subjects[\"prepSignal_EC\"] = mne.io.read_raw_eeglab(\"/workspace/brail_poc3/experiments/Lemon_PreEEGLAB/{}/{}/{}_EC.set\".format(Subjects[\"Subject_Number\"], Subjects[\"Subject_Number\"], Subjects[\"Subject_Number\"]), preload=True, verbose=False)\n",
      "/tmp/ipykernel_72612/4144421588.py:8: RuntimeWarning: The data contains 'boundary' events, indicating data discontinuities. Be cautious of filtering and epoching around these events.\n",
      "  Subjects[\"prepSignal_EC\"] = mne.io.read_raw_eeglab(\"/workspace/brail_poc3/experiments/Lemon_PreEEGLAB/{}/{}/{}_EC.set\".format(Subjects[\"Subject_Number\"], Subjects[\"Subject_Number\"], Subjects[\"Subject_Number\"]), preload=True, verbose=False)\n",
      "/tmp/ipykernel_72612/4144421588.py:9: RuntimeWarning: Data file name in EEG.data (sub-010270_EO.fdt) is incorrect, the file name must have changed on disk, using the correct file name (sub-032477_EO.fdt).\n",
      "  Subjects[\"prepSignal_EO\"] = mne.io.read_raw_eeglab(\"/workspace/brail_poc3/experiments/Lemon_PreEEGLAB/{}/{}/{}_EO.set\".format(Subjects[\"Subject_Number\"], Subjects[\"Subject_Number\"], Subjects[\"Subject_Number\"]), preload=True, verbose=False)\n"
     ]
    },
    {
     "name": "stdout",
     "output_type": "stream",
     "text": [
      "Subject number: sub-032477\n"
     ]
    },
    {
     "name": "stderr",
     "output_type": "stream",
     "text": [
      "/tmp/ipykernel_72612/4144421588.py:9: RuntimeWarning: Limited 1 annotation(s) that were expanding outside the data range.\n",
      "  Subjects[\"prepSignal_EO\"] = mne.io.read_raw_eeglab(\"/workspace/brail_poc3/experiments/Lemon_PreEEGLAB/{}/{}/{}_EO.set\".format(Subjects[\"Subject_Number\"], Subjects[\"Subject_Number\"], Subjects[\"Subject_Number\"]), preload=True, verbose=False)\n",
      "/tmp/ipykernel_72612/4144421588.py:9: RuntimeWarning: The data contains 'boundary' events, indicating data discontinuities. Be cautious of filtering and epoching around these events.\n",
      "  Subjects[\"prepSignal_EO\"] = mne.io.read_raw_eeglab(\"/workspace/brail_poc3/experiments/Lemon_PreEEGLAB/{}/{}/{}_EO.set\".format(Subjects[\"Subject_Number\"], Subjects[\"Subject_Number\"], Subjects[\"Subject_Number\"]), preload=True, verbose=False)\n",
      " 80%|████████████████████████████████▋        | 160/201 [00:44<00:12,  3.37it/s]/tmp/ipykernel_72612/4144421588.py:8: RuntimeWarning: Data file name in EEG.data (sub-010271_EC.fdt) is incorrect, the file name must have changed on disk, using the correct file name (sub-032478_EC.fdt).\n",
      "  Subjects[\"prepSignal_EC\"] = mne.io.read_raw_eeglab(\"/workspace/brail_poc3/experiments/Lemon_PreEEGLAB/{}/{}/{}_EC.set\".format(Subjects[\"Subject_Number\"], Subjects[\"Subject_Number\"], Subjects[\"Subject_Number\"]), preload=True, verbose=False)\n",
      "/tmp/ipykernel_72612/4144421588.py:8: RuntimeWarning: Limited 1 annotation(s) that were expanding outside the data range.\n",
      "  Subjects[\"prepSignal_EC\"] = mne.io.read_raw_eeglab(\"/workspace/brail_poc3/experiments/Lemon_PreEEGLAB/{}/{}/{}_EC.set\".format(Subjects[\"Subject_Number\"], Subjects[\"Subject_Number\"], Subjects[\"Subject_Number\"]), preload=True, verbose=False)\n",
      "/tmp/ipykernel_72612/4144421588.py:8: RuntimeWarning: The data contains 'boundary' events, indicating data discontinuities. Be cautious of filtering and epoching around these events.\n",
      "  Subjects[\"prepSignal_EC\"] = mne.io.read_raw_eeglab(\"/workspace/brail_poc3/experiments/Lemon_PreEEGLAB/{}/{}/{}_EC.set\".format(Subjects[\"Subject_Number\"], Subjects[\"Subject_Number\"], Subjects[\"Subject_Number\"]), preload=True, verbose=False)\n",
      "/tmp/ipykernel_72612/4144421588.py:9: RuntimeWarning: Data file name in EEG.data (sub-010271_EO.fdt) is incorrect, the file name must have changed on disk, using the correct file name (sub-032478_EO.fdt).\n",
      "  Subjects[\"prepSignal_EO\"] = mne.io.read_raw_eeglab(\"/workspace/brail_poc3/experiments/Lemon_PreEEGLAB/{}/{}/{}_EO.set\".format(Subjects[\"Subject_Number\"], Subjects[\"Subject_Number\"], Subjects[\"Subject_Number\"]), preload=True, verbose=False)\n"
     ]
    },
    {
     "name": "stdout",
     "output_type": "stream",
     "text": [
      "Subject number: sub-032478\n"
     ]
    },
    {
     "name": "stderr",
     "output_type": "stream",
     "text": [
      "/tmp/ipykernel_72612/4144421588.py:9: RuntimeWarning: Limited 1 annotation(s) that were expanding outside the data range.\n",
      "  Subjects[\"prepSignal_EO\"] = mne.io.read_raw_eeglab(\"/workspace/brail_poc3/experiments/Lemon_PreEEGLAB/{}/{}/{}_EO.set\".format(Subjects[\"Subject_Number\"], Subjects[\"Subject_Number\"], Subjects[\"Subject_Number\"]), preload=True, verbose=False)\n",
      "/tmp/ipykernel_72612/4144421588.py:9: RuntimeWarning: The data contains 'boundary' events, indicating data discontinuities. Be cautious of filtering and epoching around these events.\n",
      "  Subjects[\"prepSignal_EO\"] = mne.io.read_raw_eeglab(\"/workspace/brail_poc3/experiments/Lemon_PreEEGLAB/{}/{}/{}_EO.set\".format(Subjects[\"Subject_Number\"], Subjects[\"Subject_Number\"], Subjects[\"Subject_Number\"]), preload=True, verbose=False)\n",
      " 80%|████████████████████████████████▊        | 161/201 [00:44<00:11,  3.39it/s]/tmp/ipykernel_72612/4144421588.py:8: RuntimeWarning: Data file name in EEG.data (sub-010272_EC.fdt) is incorrect, the file name must have changed on disk, using the correct file name (sub-032479_EC.fdt).\n",
      "  Subjects[\"prepSignal_EC\"] = mne.io.read_raw_eeglab(\"/workspace/brail_poc3/experiments/Lemon_PreEEGLAB/{}/{}/{}_EC.set\".format(Subjects[\"Subject_Number\"], Subjects[\"Subject_Number\"], Subjects[\"Subject_Number\"]), preload=True, verbose=False)\n",
      "/tmp/ipykernel_72612/4144421588.py:8: RuntimeWarning: Limited 1 annotation(s) that were expanding outside the data range.\n",
      "  Subjects[\"prepSignal_EC\"] = mne.io.read_raw_eeglab(\"/workspace/brail_poc3/experiments/Lemon_PreEEGLAB/{}/{}/{}_EC.set\".format(Subjects[\"Subject_Number\"], Subjects[\"Subject_Number\"], Subjects[\"Subject_Number\"]), preload=True, verbose=False)\n",
      "/tmp/ipykernel_72612/4144421588.py:8: RuntimeWarning: The data contains 'boundary' events, indicating data discontinuities. Be cautious of filtering and epoching around these events.\n",
      "  Subjects[\"prepSignal_EC\"] = mne.io.read_raw_eeglab(\"/workspace/brail_poc3/experiments/Lemon_PreEEGLAB/{}/{}/{}_EC.set\".format(Subjects[\"Subject_Number\"], Subjects[\"Subject_Number\"], Subjects[\"Subject_Number\"]), preload=True, verbose=False)\n",
      "/tmp/ipykernel_72612/4144421588.py:9: RuntimeWarning: Data file name in EEG.data (sub-010272_EO.fdt) is incorrect, the file name must have changed on disk, using the correct file name (sub-032479_EO.fdt).\n",
      "  Subjects[\"prepSignal_EO\"] = mne.io.read_raw_eeglab(\"/workspace/brail_poc3/experiments/Lemon_PreEEGLAB/{}/{}/{}_EO.set\".format(Subjects[\"Subject_Number\"], Subjects[\"Subject_Number\"], Subjects[\"Subject_Number\"]), preload=True, verbose=False)\n"
     ]
    },
    {
     "name": "stdout",
     "output_type": "stream",
     "text": [
      "Subject number: sub-032479\n"
     ]
    },
    {
     "name": "stderr",
     "output_type": "stream",
     "text": [
      "/tmp/ipykernel_72612/4144421588.py:9: RuntimeWarning: Limited 1 annotation(s) that were expanding outside the data range.\n",
      "  Subjects[\"prepSignal_EO\"] = mne.io.read_raw_eeglab(\"/workspace/brail_poc3/experiments/Lemon_PreEEGLAB/{}/{}/{}_EO.set\".format(Subjects[\"Subject_Number\"], Subjects[\"Subject_Number\"], Subjects[\"Subject_Number\"]), preload=True, verbose=False)\n",
      "/tmp/ipykernel_72612/4144421588.py:9: RuntimeWarning: The data contains 'boundary' events, indicating data discontinuities. Be cautious of filtering and epoching around these events.\n",
      "  Subjects[\"prepSignal_EO\"] = mne.io.read_raw_eeglab(\"/workspace/brail_poc3/experiments/Lemon_PreEEGLAB/{}/{}/{}_EO.set\".format(Subjects[\"Subject_Number\"], Subjects[\"Subject_Number\"], Subjects[\"Subject_Number\"]), preload=True, verbose=False)\n",
      " 81%|█████████████████████████████████        | 162/201 [00:44<00:11,  3.43it/s]/tmp/ipykernel_72612/4144421588.py:8: RuntimeWarning: Data file name in EEG.data (sub-010273_EC.fdt) is incorrect, the file name must have changed on disk, using the correct file name (sub-032480_EC.fdt).\n",
      "  Subjects[\"prepSignal_EC\"] = mne.io.read_raw_eeglab(\"/workspace/brail_poc3/experiments/Lemon_PreEEGLAB/{}/{}/{}_EC.set\".format(Subjects[\"Subject_Number\"], Subjects[\"Subject_Number\"], Subjects[\"Subject_Number\"]), preload=True, verbose=False)\n",
      "/tmp/ipykernel_72612/4144421588.py:8: RuntimeWarning: Limited 1 annotation(s) that were expanding outside the data range.\n",
      "  Subjects[\"prepSignal_EC\"] = mne.io.read_raw_eeglab(\"/workspace/brail_poc3/experiments/Lemon_PreEEGLAB/{}/{}/{}_EC.set\".format(Subjects[\"Subject_Number\"], Subjects[\"Subject_Number\"], Subjects[\"Subject_Number\"]), preload=True, verbose=False)\n",
      "/tmp/ipykernel_72612/4144421588.py:8: RuntimeWarning: The data contains 'boundary' events, indicating data discontinuities. Be cautious of filtering and epoching around these events.\n",
      "  Subjects[\"prepSignal_EC\"] = mne.io.read_raw_eeglab(\"/workspace/brail_poc3/experiments/Lemon_PreEEGLAB/{}/{}/{}_EC.set\".format(Subjects[\"Subject_Number\"], Subjects[\"Subject_Number\"], Subjects[\"Subject_Number\"]), preload=True, verbose=False)\n",
      "/tmp/ipykernel_72612/4144421588.py:9: RuntimeWarning: Data file name in EEG.data (sub-010273_EO.fdt) is incorrect, the file name must have changed on disk, using the correct file name (sub-032480_EO.fdt).\n",
      "  Subjects[\"prepSignal_EO\"] = mne.io.read_raw_eeglab(\"/workspace/brail_poc3/experiments/Lemon_PreEEGLAB/{}/{}/{}_EO.set\".format(Subjects[\"Subject_Number\"], Subjects[\"Subject_Number\"], Subjects[\"Subject_Number\"]), preload=True, verbose=False)\n"
     ]
    },
    {
     "name": "stdout",
     "output_type": "stream",
     "text": [
      "Subject number: sub-032480\n"
     ]
    },
    {
     "name": "stderr",
     "output_type": "stream",
     "text": [
      "/tmp/ipykernel_72612/4144421588.py:9: RuntimeWarning: Limited 1 annotation(s) that were expanding outside the data range.\n",
      "  Subjects[\"prepSignal_EO\"] = mne.io.read_raw_eeglab(\"/workspace/brail_poc3/experiments/Lemon_PreEEGLAB/{}/{}/{}_EO.set\".format(Subjects[\"Subject_Number\"], Subjects[\"Subject_Number\"], Subjects[\"Subject_Number\"]), preload=True, verbose=False)\n",
      "/tmp/ipykernel_72612/4144421588.py:9: RuntimeWarning: The data contains 'boundary' events, indicating data discontinuities. Be cautious of filtering and epoching around these events.\n",
      "  Subjects[\"prepSignal_EO\"] = mne.io.read_raw_eeglab(\"/workspace/brail_poc3/experiments/Lemon_PreEEGLAB/{}/{}/{}_EO.set\".format(Subjects[\"Subject_Number\"], Subjects[\"Subject_Number\"], Subjects[\"Subject_Number\"]), preload=True, verbose=False)\n",
      " 81%|█████████████████████████████████▏       | 163/201 [00:44<00:11,  3.42it/s]/tmp/ipykernel_72612/4144421588.py:8: RuntimeWarning: Data file name in EEG.data (sub-010274_EC.fdt) is incorrect, the file name must have changed on disk, using the correct file name (sub-032481_EC.fdt).\n",
      "  Subjects[\"prepSignal_EC\"] = mne.io.read_raw_eeglab(\"/workspace/brail_poc3/experiments/Lemon_PreEEGLAB/{}/{}/{}_EC.set\".format(Subjects[\"Subject_Number\"], Subjects[\"Subject_Number\"], Subjects[\"Subject_Number\"]), preload=True, verbose=False)\n",
      "/tmp/ipykernel_72612/4144421588.py:8: RuntimeWarning: Limited 1 annotation(s) that were expanding outside the data range.\n",
      "  Subjects[\"prepSignal_EC\"] = mne.io.read_raw_eeglab(\"/workspace/brail_poc3/experiments/Lemon_PreEEGLAB/{}/{}/{}_EC.set\".format(Subjects[\"Subject_Number\"], Subjects[\"Subject_Number\"], Subjects[\"Subject_Number\"]), preload=True, verbose=False)\n",
      "/tmp/ipykernel_72612/4144421588.py:8: RuntimeWarning: The data contains 'boundary' events, indicating data discontinuities. Be cautious of filtering and epoching around these events.\n",
      "  Subjects[\"prepSignal_EC\"] = mne.io.read_raw_eeglab(\"/workspace/brail_poc3/experiments/Lemon_PreEEGLAB/{}/{}/{}_EC.set\".format(Subjects[\"Subject_Number\"], Subjects[\"Subject_Number\"], Subjects[\"Subject_Number\"]), preload=True, verbose=False)\n",
      "/tmp/ipykernel_72612/4144421588.py:9: RuntimeWarning: Data file name in EEG.data (sub-010274_EO.fdt) is incorrect, the file name must have changed on disk, using the correct file name (sub-032481_EO.fdt).\n",
      "  Subjects[\"prepSignal_EO\"] = mne.io.read_raw_eeglab(\"/workspace/brail_poc3/experiments/Lemon_PreEEGLAB/{}/{}/{}_EO.set\".format(Subjects[\"Subject_Number\"], Subjects[\"Subject_Number\"], Subjects[\"Subject_Number\"]), preload=True, verbose=False)\n"
     ]
    },
    {
     "name": "stdout",
     "output_type": "stream",
     "text": [
      "Subject number: sub-032481\n"
     ]
    },
    {
     "name": "stderr",
     "output_type": "stream",
     "text": [
      "/tmp/ipykernel_72612/4144421588.py:9: RuntimeWarning: Limited 1 annotation(s) that were expanding outside the data range.\n",
      "  Subjects[\"prepSignal_EO\"] = mne.io.read_raw_eeglab(\"/workspace/brail_poc3/experiments/Lemon_PreEEGLAB/{}/{}/{}_EO.set\".format(Subjects[\"Subject_Number\"], Subjects[\"Subject_Number\"], Subjects[\"Subject_Number\"]), preload=True, verbose=False)\n",
      "/tmp/ipykernel_72612/4144421588.py:9: RuntimeWarning: The data contains 'boundary' events, indicating data discontinuities. Be cautious of filtering and epoching around these events.\n",
      "  Subjects[\"prepSignal_EO\"] = mne.io.read_raw_eeglab(\"/workspace/brail_poc3/experiments/Lemon_PreEEGLAB/{}/{}/{}_EO.set\".format(Subjects[\"Subject_Number\"], Subjects[\"Subject_Number\"], Subjects[\"Subject_Number\"]), preload=True, verbose=False)\n",
      " 82%|█████████████████████████████████▍       | 164/201 [00:45<00:10,  3.42it/s]/tmp/ipykernel_72612/4144421588.py:8: RuntimeWarning: Data file name in EEG.data (sub-010275_EC.fdt) is incorrect, the file name must have changed on disk, using the correct file name (sub-032482_EC.fdt).\n",
      "  Subjects[\"prepSignal_EC\"] = mne.io.read_raw_eeglab(\"/workspace/brail_poc3/experiments/Lemon_PreEEGLAB/{}/{}/{}_EC.set\".format(Subjects[\"Subject_Number\"], Subjects[\"Subject_Number\"], Subjects[\"Subject_Number\"]), preload=True, verbose=False)\n",
      "/tmp/ipykernel_72612/4144421588.py:8: RuntimeWarning: Limited 1 annotation(s) that were expanding outside the data range.\n",
      "  Subjects[\"prepSignal_EC\"] = mne.io.read_raw_eeglab(\"/workspace/brail_poc3/experiments/Lemon_PreEEGLAB/{}/{}/{}_EC.set\".format(Subjects[\"Subject_Number\"], Subjects[\"Subject_Number\"], Subjects[\"Subject_Number\"]), preload=True, verbose=False)\n",
      "/tmp/ipykernel_72612/4144421588.py:8: RuntimeWarning: The data contains 'boundary' events, indicating data discontinuities. Be cautious of filtering and epoching around these events.\n",
      "  Subjects[\"prepSignal_EC\"] = mne.io.read_raw_eeglab(\"/workspace/brail_poc3/experiments/Lemon_PreEEGLAB/{}/{}/{}_EC.set\".format(Subjects[\"Subject_Number\"], Subjects[\"Subject_Number\"], Subjects[\"Subject_Number\"]), preload=True, verbose=False)\n",
      "/tmp/ipykernel_72612/4144421588.py:9: RuntimeWarning: Data file name in EEG.data (sub-010275_EO.fdt) is incorrect, the file name must have changed on disk, using the correct file name (sub-032482_EO.fdt).\n",
      "  Subjects[\"prepSignal_EO\"] = mne.io.read_raw_eeglab(\"/workspace/brail_poc3/experiments/Lemon_PreEEGLAB/{}/{}/{}_EO.set\".format(Subjects[\"Subject_Number\"], Subjects[\"Subject_Number\"], Subjects[\"Subject_Number\"]), preload=True, verbose=False)\n"
     ]
    },
    {
     "name": "stdout",
     "output_type": "stream",
     "text": [
      "Subject number: sub-032482\n"
     ]
    },
    {
     "name": "stderr",
     "output_type": "stream",
     "text": [
      "/tmp/ipykernel_72612/4144421588.py:9: RuntimeWarning: Limited 1 annotation(s) that were expanding outside the data range.\n",
      "  Subjects[\"prepSignal_EO\"] = mne.io.read_raw_eeglab(\"/workspace/brail_poc3/experiments/Lemon_PreEEGLAB/{}/{}/{}_EO.set\".format(Subjects[\"Subject_Number\"], Subjects[\"Subject_Number\"], Subjects[\"Subject_Number\"]), preload=True, verbose=False)\n",
      "/tmp/ipykernel_72612/4144421588.py:9: RuntimeWarning: The data contains 'boundary' events, indicating data discontinuities. Be cautious of filtering and epoching around these events.\n",
      "  Subjects[\"prepSignal_EO\"] = mne.io.read_raw_eeglab(\"/workspace/brail_poc3/experiments/Lemon_PreEEGLAB/{}/{}/{}_EO.set\".format(Subjects[\"Subject_Number\"], Subjects[\"Subject_Number\"], Subjects[\"Subject_Number\"]), preload=True, verbose=False)\n",
      " 82%|█████████████████████████████████▋       | 165/201 [00:45<00:10,  3.35it/s]/tmp/ipykernel_72612/4144421588.py:8: RuntimeWarning: Data file name in EEG.data (sub-010276_EC.fdt) is incorrect, the file name must have changed on disk, using the correct file name (sub-032483_EC.fdt).\n",
      "  Subjects[\"prepSignal_EC\"] = mne.io.read_raw_eeglab(\"/workspace/brail_poc3/experiments/Lemon_PreEEGLAB/{}/{}/{}_EC.set\".format(Subjects[\"Subject_Number\"], Subjects[\"Subject_Number\"], Subjects[\"Subject_Number\"]), preload=True, verbose=False)\n",
      "/tmp/ipykernel_72612/4144421588.py:8: RuntimeWarning: Limited 1 annotation(s) that were expanding outside the data range.\n",
      "  Subjects[\"prepSignal_EC\"] = mne.io.read_raw_eeglab(\"/workspace/brail_poc3/experiments/Lemon_PreEEGLAB/{}/{}/{}_EC.set\".format(Subjects[\"Subject_Number\"], Subjects[\"Subject_Number\"], Subjects[\"Subject_Number\"]), preload=True, verbose=False)\n",
      "/tmp/ipykernel_72612/4144421588.py:8: RuntimeWarning: The data contains 'boundary' events, indicating data discontinuities. Be cautious of filtering and epoching around these events.\n",
      "  Subjects[\"prepSignal_EC\"] = mne.io.read_raw_eeglab(\"/workspace/brail_poc3/experiments/Lemon_PreEEGLAB/{}/{}/{}_EC.set\".format(Subjects[\"Subject_Number\"], Subjects[\"Subject_Number\"], Subjects[\"Subject_Number\"]), preload=True, verbose=False)\n",
      "/tmp/ipykernel_72612/4144421588.py:9: RuntimeWarning: Data file name in EEG.data (sub-010276_EO.fdt) is incorrect, the file name must have changed on disk, using the correct file name (sub-032483_EO.fdt).\n",
      "  Subjects[\"prepSignal_EO\"] = mne.io.read_raw_eeglab(\"/workspace/brail_poc3/experiments/Lemon_PreEEGLAB/{}/{}/{}_EO.set\".format(Subjects[\"Subject_Number\"], Subjects[\"Subject_Number\"], Subjects[\"Subject_Number\"]), preload=True, verbose=False)\n",
      "/tmp/ipykernel_72612/4144421588.py:9: RuntimeWarning: Limited 1 annotation(s) that were expanding outside the data range.\n",
      "  Subjects[\"prepSignal_EO\"] = mne.io.read_raw_eeglab(\"/workspace/brail_poc3/experiments/Lemon_PreEEGLAB/{}/{}/{}_EO.set\".format(Subjects[\"Subject_Number\"], Subjects[\"Subject_Number\"], Subjects[\"Subject_Number\"]), preload=True, verbose=False)\n",
      "/tmp/ipykernel_72612/4144421588.py:9: RuntimeWarning: The data contains 'boundary' events, indicating data discontinuities. Be cautious of filtering and epoching around these events.\n",
      "  Subjects[\"prepSignal_EO\"] = mne.io.read_raw_eeglab(\"/workspace/brail_poc3/experiments/Lemon_PreEEGLAB/{}/{}/{}_EO.set\".format(Subjects[\"Subject_Number\"], Subjects[\"Subject_Number\"], Subjects[\"Subject_Number\"]), preload=True, verbose=False)\n",
      " 83%|█████████████████████████████████▊       | 166/201 [00:45<00:09,  3.78it/s]"
     ]
    },
    {
     "name": "stdout",
     "output_type": "stream",
     "text": [
      "Subject number: sub-032483\n",
      "Subject number: sub-032484\n"
     ]
    },
    {
     "name": "stderr",
     "output_type": "stream",
     "text": [
      "/tmp/ipykernel_72612/4144421588.py:8: RuntimeWarning: Data file name in EEG.data (sub-010277_EC.fdt) is incorrect, the file name must have changed on disk, using the correct file name (sub-032484_EC.fdt).\n",
      "  Subjects[\"prepSignal_EC\"] = mne.io.read_raw_eeglab(\"/workspace/brail_poc3/experiments/Lemon_PreEEGLAB/{}/{}/{}_EC.set\".format(Subjects[\"Subject_Number\"], Subjects[\"Subject_Number\"], Subjects[\"Subject_Number\"]), preload=True, verbose=False)\n",
      "/tmp/ipykernel_72612/4144421588.py:8: RuntimeWarning: Limited 1 annotation(s) that were expanding outside the data range.\n",
      "  Subjects[\"prepSignal_EC\"] = mne.io.read_raw_eeglab(\"/workspace/brail_poc3/experiments/Lemon_PreEEGLAB/{}/{}/{}_EC.set\".format(Subjects[\"Subject_Number\"], Subjects[\"Subject_Number\"], Subjects[\"Subject_Number\"]), preload=True, verbose=False)\n",
      "/tmp/ipykernel_72612/4144421588.py:8: RuntimeWarning: The data contains 'boundary' events, indicating data discontinuities. Be cautious of filtering and epoching around these events.\n",
      "  Subjects[\"prepSignal_EC\"] = mne.io.read_raw_eeglab(\"/workspace/brail_poc3/experiments/Lemon_PreEEGLAB/{}/{}/{}_EC.set\".format(Subjects[\"Subject_Number\"], Subjects[\"Subject_Number\"], Subjects[\"Subject_Number\"]), preload=True, verbose=False)\n",
      "/tmp/ipykernel_72612/4144421588.py:9: RuntimeWarning: Data file name in EEG.data (sub-010277_EO.fdt) is incorrect, the file name must have changed on disk, using the correct file name (sub-032484_EO.fdt).\n",
      "  Subjects[\"prepSignal_EO\"] = mne.io.read_raw_eeglab(\"/workspace/brail_poc3/experiments/Lemon_PreEEGLAB/{}/{}/{}_EO.set\".format(Subjects[\"Subject_Number\"], Subjects[\"Subject_Number\"], Subjects[\"Subject_Number\"]), preload=True, verbose=False)\n",
      "/tmp/ipykernel_72612/4144421588.py:9: RuntimeWarning: Limited 1 annotation(s) that were expanding outside the data range.\n",
      "  Subjects[\"prepSignal_EO\"] = mne.io.read_raw_eeglab(\"/workspace/brail_poc3/experiments/Lemon_PreEEGLAB/{}/{}/{}_EO.set\".format(Subjects[\"Subject_Number\"], Subjects[\"Subject_Number\"], Subjects[\"Subject_Number\"]), preload=True, verbose=False)\n",
      "/tmp/ipykernel_72612/4144421588.py:9: RuntimeWarning: The data contains 'boundary' events, indicating data discontinuities. Be cautious of filtering and epoching around these events.\n",
      "  Subjects[\"prepSignal_EO\"] = mne.io.read_raw_eeglab(\"/workspace/brail_poc3/experiments/Lemon_PreEEGLAB/{}/{}/{}_EO.set\".format(Subjects[\"Subject_Number\"], Subjects[\"Subject_Number\"], Subjects[\"Subject_Number\"]), preload=True, verbose=False)\n",
      " 83%|██████████████████████████████████       | 167/201 [00:45<00:08,  4.17it/s]/tmp/ipykernel_72612/4144421588.py:8: RuntimeWarning: Data file name in EEG.data (sub-010283_EC.fdt) is incorrect, the file name must have changed on disk, using the correct file name (sub-032490_EC.fdt).\n",
      "  Subjects[\"prepSignal_EC\"] = mne.io.read_raw_eeglab(\"/workspace/brail_poc3/experiments/Lemon_PreEEGLAB/{}/{}/{}_EC.set\".format(Subjects[\"Subject_Number\"], Subjects[\"Subject_Number\"], Subjects[\"Subject_Number\"]), preload=True, verbose=False)\n"
     ]
    },
    {
     "name": "stdout",
     "output_type": "stream",
     "text": [
      "Subject number: sub-032490\n"
     ]
    },
    {
     "name": "stderr",
     "output_type": "stream",
     "text": [
      "/tmp/ipykernel_72612/4144421588.py:8: RuntimeWarning: Limited 1 annotation(s) that were expanding outside the data range.\n",
      "  Subjects[\"prepSignal_EC\"] = mne.io.read_raw_eeglab(\"/workspace/brail_poc3/experiments/Lemon_PreEEGLAB/{}/{}/{}_EC.set\".format(Subjects[\"Subject_Number\"], Subjects[\"Subject_Number\"], Subjects[\"Subject_Number\"]), preload=True, verbose=False)\n",
      "/tmp/ipykernel_72612/4144421588.py:8: RuntimeWarning: The data contains 'boundary' events, indicating data discontinuities. Be cautious of filtering and epoching around these events.\n",
      "  Subjects[\"prepSignal_EC\"] = mne.io.read_raw_eeglab(\"/workspace/brail_poc3/experiments/Lemon_PreEEGLAB/{}/{}/{}_EC.set\".format(Subjects[\"Subject_Number\"], Subjects[\"Subject_Number\"], Subjects[\"Subject_Number\"]), preload=True, verbose=False)\n",
      "/tmp/ipykernel_72612/4144421588.py:9: RuntimeWarning: Data file name in EEG.data (sub-010283_EO.fdt) is incorrect, the file name must have changed on disk, using the correct file name (sub-032490_EO.fdt).\n",
      "  Subjects[\"prepSignal_EO\"] = mne.io.read_raw_eeglab(\"/workspace/brail_poc3/experiments/Lemon_PreEEGLAB/{}/{}/{}_EO.set\".format(Subjects[\"Subject_Number\"], Subjects[\"Subject_Number\"], Subjects[\"Subject_Number\"]), preload=True, verbose=False)\n",
      "/tmp/ipykernel_72612/4144421588.py:9: RuntimeWarning: Limited 1 annotation(s) that were expanding outside the data range.\n",
      "  Subjects[\"prepSignal_EO\"] = mne.io.read_raw_eeglab(\"/workspace/brail_poc3/experiments/Lemon_PreEEGLAB/{}/{}/{}_EO.set\".format(Subjects[\"Subject_Number\"], Subjects[\"Subject_Number\"], Subjects[\"Subject_Number\"]), preload=True, verbose=False)\n",
      "/tmp/ipykernel_72612/4144421588.py:9: RuntimeWarning: The data contains 'boundary' events, indicating data discontinuities. Be cautious of filtering and epoching around these events.\n",
      "  Subjects[\"prepSignal_EO\"] = mne.io.read_raw_eeglab(\"/workspace/brail_poc3/experiments/Lemon_PreEEGLAB/{}/{}/{}_EO.set\".format(Subjects[\"Subject_Number\"], Subjects[\"Subject_Number\"], Subjects[\"Subject_Number\"]), preload=True, verbose=False)\n",
      " 84%|██████████████████████████████████▎      | 168/201 [00:46<00:08,  3.80it/s]/tmp/ipykernel_72612/4144421588.py:8: RuntimeWarning: Data file name in EEG.data (sub-010284_EC.fdt) is incorrect, the file name must have changed on disk, using the correct file name (sub-032491_EC.fdt).\n",
      "  Subjects[\"prepSignal_EC\"] = mne.io.read_raw_eeglab(\"/workspace/brail_poc3/experiments/Lemon_PreEEGLAB/{}/{}/{}_EC.set\".format(Subjects[\"Subject_Number\"], Subjects[\"Subject_Number\"], Subjects[\"Subject_Number\"]), preload=True, verbose=False)\n",
      "/tmp/ipykernel_72612/4144421588.py:8: RuntimeWarning: Limited 1 annotation(s) that were expanding outside the data range.\n",
      "  Subjects[\"prepSignal_EC\"] = mne.io.read_raw_eeglab(\"/workspace/brail_poc3/experiments/Lemon_PreEEGLAB/{}/{}/{}_EC.set\".format(Subjects[\"Subject_Number\"], Subjects[\"Subject_Number\"], Subjects[\"Subject_Number\"]), preload=True, verbose=False)\n",
      "/tmp/ipykernel_72612/4144421588.py:8: RuntimeWarning: The data contains 'boundary' events, indicating data discontinuities. Be cautious of filtering and epoching around these events.\n",
      "  Subjects[\"prepSignal_EC\"] = mne.io.read_raw_eeglab(\"/workspace/brail_poc3/experiments/Lemon_PreEEGLAB/{}/{}/{}_EC.set\".format(Subjects[\"Subject_Number\"], Subjects[\"Subject_Number\"], Subjects[\"Subject_Number\"]), preload=True, verbose=False)\n",
      "/tmp/ipykernel_72612/4144421588.py:9: RuntimeWarning: Data file name in EEG.data (sub-010284_EO.fdt) is incorrect, the file name must have changed on disk, using the correct file name (sub-032491_EO.fdt).\n",
      "  Subjects[\"prepSignal_EO\"] = mne.io.read_raw_eeglab(\"/workspace/brail_poc3/experiments/Lemon_PreEEGLAB/{}/{}/{}_EO.set\".format(Subjects[\"Subject_Number\"], Subjects[\"Subject_Number\"], Subjects[\"Subject_Number\"]), preload=True, verbose=False)\n"
     ]
    },
    {
     "name": "stdout",
     "output_type": "stream",
     "text": [
      "Subject number: sub-032491\n"
     ]
    },
    {
     "name": "stderr",
     "output_type": "stream",
     "text": [
      "/tmp/ipykernel_72612/4144421588.py:9: RuntimeWarning: Limited 1 annotation(s) that were expanding outside the data range.\n",
      "  Subjects[\"prepSignal_EO\"] = mne.io.read_raw_eeglab(\"/workspace/brail_poc3/experiments/Lemon_PreEEGLAB/{}/{}/{}_EO.set\".format(Subjects[\"Subject_Number\"], Subjects[\"Subject_Number\"], Subjects[\"Subject_Number\"]), preload=True, verbose=False)\n",
      "/tmp/ipykernel_72612/4144421588.py:9: RuntimeWarning: The data contains 'boundary' events, indicating data discontinuities. Be cautious of filtering and epoching around these events.\n",
      "  Subjects[\"prepSignal_EO\"] = mne.io.read_raw_eeglab(\"/workspace/brail_poc3/experiments/Lemon_PreEEGLAB/{}/{}/{}_EO.set\".format(Subjects[\"Subject_Number\"], Subjects[\"Subject_Number\"], Subjects[\"Subject_Number\"]), preload=True, verbose=False)\n",
      " 84%|██████████████████████████████████▍      | 169/201 [00:46<00:08,  3.63it/s]/tmp/ipykernel_72612/4144421588.py:8: RuntimeWarning: Data file name in EEG.data (sub-010286_EC.fdt) is incorrect, the file name must have changed on disk, using the correct file name (sub-032493_EC.fdt).\n",
      "  Subjects[\"prepSignal_EC\"] = mne.io.read_raw_eeglab(\"/workspace/brail_poc3/experiments/Lemon_PreEEGLAB/{}/{}/{}_EC.set\".format(Subjects[\"Subject_Number\"], Subjects[\"Subject_Number\"], Subjects[\"Subject_Number\"]), preload=True, verbose=False)\n",
      "/tmp/ipykernel_72612/4144421588.py:8: RuntimeWarning: Limited 1 annotation(s) that were expanding outside the data range.\n",
      "  Subjects[\"prepSignal_EC\"] = mne.io.read_raw_eeglab(\"/workspace/brail_poc3/experiments/Lemon_PreEEGLAB/{}/{}/{}_EC.set\".format(Subjects[\"Subject_Number\"], Subjects[\"Subject_Number\"], Subjects[\"Subject_Number\"]), preload=True, verbose=False)\n",
      "/tmp/ipykernel_72612/4144421588.py:8: RuntimeWarning: The data contains 'boundary' events, indicating data discontinuities. Be cautious of filtering and epoching around these events.\n",
      "  Subjects[\"prepSignal_EC\"] = mne.io.read_raw_eeglab(\"/workspace/brail_poc3/experiments/Lemon_PreEEGLAB/{}/{}/{}_EC.set\".format(Subjects[\"Subject_Number\"], Subjects[\"Subject_Number\"], Subjects[\"Subject_Number\"]), preload=True, verbose=False)\n",
      "/tmp/ipykernel_72612/4144421588.py:9: RuntimeWarning: Data file name in EEG.data (sub-010286_EO.fdt) is incorrect, the file name must have changed on disk, using the correct file name (sub-032493_EO.fdt).\n",
      "  Subjects[\"prepSignal_EO\"] = mne.io.read_raw_eeglab(\"/workspace/brail_poc3/experiments/Lemon_PreEEGLAB/{}/{}/{}_EO.set\".format(Subjects[\"Subject_Number\"], Subjects[\"Subject_Number\"], Subjects[\"Subject_Number\"]), preload=True, verbose=False)\n"
     ]
    },
    {
     "name": "stdout",
     "output_type": "stream",
     "text": [
      "Subject number: sub-032493\n"
     ]
    },
    {
     "name": "stderr",
     "output_type": "stream",
     "text": [
      "/tmp/ipykernel_72612/4144421588.py:9: RuntimeWarning: Limited 1 annotation(s) that were expanding outside the data range.\n",
      "  Subjects[\"prepSignal_EO\"] = mne.io.read_raw_eeglab(\"/workspace/brail_poc3/experiments/Lemon_PreEEGLAB/{}/{}/{}_EO.set\".format(Subjects[\"Subject_Number\"], Subjects[\"Subject_Number\"], Subjects[\"Subject_Number\"]), preload=True, verbose=False)\n",
      "/tmp/ipykernel_72612/4144421588.py:9: RuntimeWarning: The data contains 'boundary' events, indicating data discontinuities. Be cautious of filtering and epoching around these events.\n",
      "  Subjects[\"prepSignal_EO\"] = mne.io.read_raw_eeglab(\"/workspace/brail_poc3/experiments/Lemon_PreEEGLAB/{}/{}/{}_EO.set\".format(Subjects[\"Subject_Number\"], Subjects[\"Subject_Number\"], Subjects[\"Subject_Number\"]), preload=True, verbose=False)\n",
      " 85%|██████████████████████████████████▋      | 170/201 [00:46<00:08,  3.60it/s]/tmp/ipykernel_72612/4144421588.py:8: RuntimeWarning: Data file name in EEG.data (sub-010287_EC.fdt) is incorrect, the file name must have changed on disk, using the correct file name (sub-032494_EC.fdt).\n",
      "  Subjects[\"prepSignal_EC\"] = mne.io.read_raw_eeglab(\"/workspace/brail_poc3/experiments/Lemon_PreEEGLAB/{}/{}/{}_EC.set\".format(Subjects[\"Subject_Number\"], Subjects[\"Subject_Number\"], Subjects[\"Subject_Number\"]), preload=True, verbose=False)\n",
      "/tmp/ipykernel_72612/4144421588.py:8: RuntimeWarning: Limited 1 annotation(s) that were expanding outside the data range.\n",
      "  Subjects[\"prepSignal_EC\"] = mne.io.read_raw_eeglab(\"/workspace/brail_poc3/experiments/Lemon_PreEEGLAB/{}/{}/{}_EC.set\".format(Subjects[\"Subject_Number\"], Subjects[\"Subject_Number\"], Subjects[\"Subject_Number\"]), preload=True, verbose=False)\n",
      "/tmp/ipykernel_72612/4144421588.py:8: RuntimeWarning: The data contains 'boundary' events, indicating data discontinuities. Be cautious of filtering and epoching around these events.\n",
      "  Subjects[\"prepSignal_EC\"] = mne.io.read_raw_eeglab(\"/workspace/brail_poc3/experiments/Lemon_PreEEGLAB/{}/{}/{}_EC.set\".format(Subjects[\"Subject_Number\"], Subjects[\"Subject_Number\"], Subjects[\"Subject_Number\"]), preload=True, verbose=False)\n",
      "/tmp/ipykernel_72612/4144421588.py:9: RuntimeWarning: Data file name in EEG.data (sub-010287_EO.fdt) is incorrect, the file name must have changed on disk, using the correct file name (sub-032494_EO.fdt).\n",
      "  Subjects[\"prepSignal_EO\"] = mne.io.read_raw_eeglab(\"/workspace/brail_poc3/experiments/Lemon_PreEEGLAB/{}/{}/{}_EO.set\".format(Subjects[\"Subject_Number\"], Subjects[\"Subject_Number\"], Subjects[\"Subject_Number\"]), preload=True, verbose=False)\n"
     ]
    },
    {
     "name": "stdout",
     "output_type": "stream",
     "text": [
      "Subject number: sub-032494\n"
     ]
    },
    {
     "name": "stderr",
     "output_type": "stream",
     "text": [
      "/tmp/ipykernel_72612/4144421588.py:9: RuntimeWarning: Limited 1 annotation(s) that were expanding outside the data range.\n",
      "  Subjects[\"prepSignal_EO\"] = mne.io.read_raw_eeglab(\"/workspace/brail_poc3/experiments/Lemon_PreEEGLAB/{}/{}/{}_EO.set\".format(Subjects[\"Subject_Number\"], Subjects[\"Subject_Number\"], Subjects[\"Subject_Number\"]), preload=True, verbose=False)\n",
      "/tmp/ipykernel_72612/4144421588.py:9: RuntimeWarning: The data contains 'boundary' events, indicating data discontinuities. Be cautious of filtering and epoching around these events.\n",
      "  Subjects[\"prepSignal_EO\"] = mne.io.read_raw_eeglab(\"/workspace/brail_poc3/experiments/Lemon_PreEEGLAB/{}/{}/{}_EO.set\".format(Subjects[\"Subject_Number\"], Subjects[\"Subject_Number\"], Subjects[\"Subject_Number\"]), preload=True, verbose=False)\n",
      " 85%|██████████████████████████████████▉      | 171/201 [00:47<00:08,  3.52it/s]/tmp/ipykernel_72612/4144421588.py:8: RuntimeWarning: Data file name in EEG.data (sub-010288_EC.fdt) is incorrect, the file name must have changed on disk, using the correct file name (sub-032495_EC.fdt).\n",
      "  Subjects[\"prepSignal_EC\"] = mne.io.read_raw_eeglab(\"/workspace/brail_poc3/experiments/Lemon_PreEEGLAB/{}/{}/{}_EC.set\".format(Subjects[\"Subject_Number\"], Subjects[\"Subject_Number\"], Subjects[\"Subject_Number\"]), preload=True, verbose=False)\n",
      "/tmp/ipykernel_72612/4144421588.py:8: RuntimeWarning: Limited 1 annotation(s) that were expanding outside the data range.\n",
      "  Subjects[\"prepSignal_EC\"] = mne.io.read_raw_eeglab(\"/workspace/brail_poc3/experiments/Lemon_PreEEGLAB/{}/{}/{}_EC.set\".format(Subjects[\"Subject_Number\"], Subjects[\"Subject_Number\"], Subjects[\"Subject_Number\"]), preload=True, verbose=False)\n",
      "/tmp/ipykernel_72612/4144421588.py:8: RuntimeWarning: The data contains 'boundary' events, indicating data discontinuities. Be cautious of filtering and epoching around these events.\n",
      "  Subjects[\"prepSignal_EC\"] = mne.io.read_raw_eeglab(\"/workspace/brail_poc3/experiments/Lemon_PreEEGLAB/{}/{}/{}_EC.set\".format(Subjects[\"Subject_Number\"], Subjects[\"Subject_Number\"], Subjects[\"Subject_Number\"]), preload=True, verbose=False)\n",
      "/tmp/ipykernel_72612/4144421588.py:9: RuntimeWarning: Data file name in EEG.data (sub-010288_EO.fdt) is incorrect, the file name must have changed on disk, using the correct file name (sub-032495_EO.fdt).\n",
      "  Subjects[\"prepSignal_EO\"] = mne.io.read_raw_eeglab(\"/workspace/brail_poc3/experiments/Lemon_PreEEGLAB/{}/{}/{}_EO.set\".format(Subjects[\"Subject_Number\"], Subjects[\"Subject_Number\"], Subjects[\"Subject_Number\"]), preload=True, verbose=False)\n"
     ]
    },
    {
     "name": "stdout",
     "output_type": "stream",
     "text": [
      "Subject number: sub-032495\n"
     ]
    },
    {
     "name": "stderr",
     "output_type": "stream",
     "text": [
      "/tmp/ipykernel_72612/4144421588.py:9: RuntimeWarning: Limited 1 annotation(s) that were expanding outside the data range.\n",
      "  Subjects[\"prepSignal_EO\"] = mne.io.read_raw_eeglab(\"/workspace/brail_poc3/experiments/Lemon_PreEEGLAB/{}/{}/{}_EO.set\".format(Subjects[\"Subject_Number\"], Subjects[\"Subject_Number\"], Subjects[\"Subject_Number\"]), preload=True, verbose=False)\n",
      "/tmp/ipykernel_72612/4144421588.py:9: RuntimeWarning: The data contains 'boundary' events, indicating data discontinuities. Be cautious of filtering and epoching around these events.\n",
      "  Subjects[\"prepSignal_EO\"] = mne.io.read_raw_eeglab(\"/workspace/brail_poc3/experiments/Lemon_PreEEGLAB/{}/{}/{}_EO.set\".format(Subjects[\"Subject_Number\"], Subjects[\"Subject_Number\"], Subjects[\"Subject_Number\"]), preload=True, verbose=False)\n",
      " 86%|███████████████████████████████████      | 172/201 [00:47<00:08,  3.47it/s]/tmp/ipykernel_72612/4144421588.py:8: RuntimeWarning: Data file name in EEG.data (sub-010289_EC.fdt) is incorrect, the file name must have changed on disk, using the correct file name (sub-032496_EC.fdt).\n",
      "  Subjects[\"prepSignal_EC\"] = mne.io.read_raw_eeglab(\"/workspace/brail_poc3/experiments/Lemon_PreEEGLAB/{}/{}/{}_EC.set\".format(Subjects[\"Subject_Number\"], Subjects[\"Subject_Number\"], Subjects[\"Subject_Number\"]), preload=True, verbose=False)\n",
      "/tmp/ipykernel_72612/4144421588.py:8: RuntimeWarning: Limited 1 annotation(s) that were expanding outside the data range.\n",
      "  Subjects[\"prepSignal_EC\"] = mne.io.read_raw_eeglab(\"/workspace/brail_poc3/experiments/Lemon_PreEEGLAB/{}/{}/{}_EC.set\".format(Subjects[\"Subject_Number\"], Subjects[\"Subject_Number\"], Subjects[\"Subject_Number\"]), preload=True, verbose=False)\n",
      "/tmp/ipykernel_72612/4144421588.py:8: RuntimeWarning: The data contains 'boundary' events, indicating data discontinuities. Be cautious of filtering and epoching around these events.\n",
      "  Subjects[\"prepSignal_EC\"] = mne.io.read_raw_eeglab(\"/workspace/brail_poc3/experiments/Lemon_PreEEGLAB/{}/{}/{}_EC.set\".format(Subjects[\"Subject_Number\"], Subjects[\"Subject_Number\"], Subjects[\"Subject_Number\"]), preload=True, verbose=False)\n"
     ]
    },
    {
     "name": "stdout",
     "output_type": "stream",
     "text": [
      "Subject number: sub-032496\n"
     ]
    },
    {
     "name": "stderr",
     "output_type": "stream",
     "text": [
      "/tmp/ipykernel_72612/4144421588.py:9: RuntimeWarning: Data file name in EEG.data (sub-010289_EO.fdt) is incorrect, the file name must have changed on disk, using the correct file name (sub-032496_EO.fdt).\n",
      "  Subjects[\"prepSignal_EO\"] = mne.io.read_raw_eeglab(\"/workspace/brail_poc3/experiments/Lemon_PreEEGLAB/{}/{}/{}_EO.set\".format(Subjects[\"Subject_Number\"], Subjects[\"Subject_Number\"], Subjects[\"Subject_Number\"]), preload=True, verbose=False)\n",
      "/tmp/ipykernel_72612/4144421588.py:9: RuntimeWarning: Limited 1 annotation(s) that were expanding outside the data range.\n",
      "  Subjects[\"prepSignal_EO\"] = mne.io.read_raw_eeglab(\"/workspace/brail_poc3/experiments/Lemon_PreEEGLAB/{}/{}/{}_EO.set\".format(Subjects[\"Subject_Number\"], Subjects[\"Subject_Number\"], Subjects[\"Subject_Number\"]), preload=True, verbose=False)\n",
      "/tmp/ipykernel_72612/4144421588.py:9: RuntimeWarning: The data contains 'boundary' events, indicating data discontinuities. Be cautious of filtering and epoching around these events.\n",
      "  Subjects[\"prepSignal_EO\"] = mne.io.read_raw_eeglab(\"/workspace/brail_poc3/experiments/Lemon_PreEEGLAB/{}/{}/{}_EO.set\".format(Subjects[\"Subject_Number\"], Subjects[\"Subject_Number\"], Subjects[\"Subject_Number\"]), preload=True, verbose=False)\n",
      " 86%|███████████████████████████████████▎     | 173/201 [00:47<00:08,  3.34it/s]/tmp/ipykernel_72612/4144421588.py:8: RuntimeWarning: Data file name in EEG.data (sub-010290_EC.fdt) is incorrect, the file name must have changed on disk, using the correct file name (sub-032497_EC.fdt).\n",
      "  Subjects[\"prepSignal_EC\"] = mne.io.read_raw_eeglab(\"/workspace/brail_poc3/experiments/Lemon_PreEEGLAB/{}/{}/{}_EC.set\".format(Subjects[\"Subject_Number\"], Subjects[\"Subject_Number\"], Subjects[\"Subject_Number\"]), preload=True, verbose=False)\n",
      "/tmp/ipykernel_72612/4144421588.py:8: RuntimeWarning: Limited 1 annotation(s) that were expanding outside the data range.\n",
      "  Subjects[\"prepSignal_EC\"] = mne.io.read_raw_eeglab(\"/workspace/brail_poc3/experiments/Lemon_PreEEGLAB/{}/{}/{}_EC.set\".format(Subjects[\"Subject_Number\"], Subjects[\"Subject_Number\"], Subjects[\"Subject_Number\"]), preload=True, verbose=False)\n",
      "/tmp/ipykernel_72612/4144421588.py:8: RuntimeWarning: The data contains 'boundary' events, indicating data discontinuities. Be cautious of filtering and epoching around these events.\n",
      "  Subjects[\"prepSignal_EC\"] = mne.io.read_raw_eeglab(\"/workspace/brail_poc3/experiments/Lemon_PreEEGLAB/{}/{}/{}_EC.set\".format(Subjects[\"Subject_Number\"], Subjects[\"Subject_Number\"], Subjects[\"Subject_Number\"]), preload=True, verbose=False)\n",
      "/tmp/ipykernel_72612/4144421588.py:9: RuntimeWarning: Data file name in EEG.data (sub-010290_EO.fdt) is incorrect, the file name must have changed on disk, using the correct file name (sub-032497_EO.fdt).\n",
      "  Subjects[\"prepSignal_EO\"] = mne.io.read_raw_eeglab(\"/workspace/brail_poc3/experiments/Lemon_PreEEGLAB/{}/{}/{}_EO.set\".format(Subjects[\"Subject_Number\"], Subjects[\"Subject_Number\"], Subjects[\"Subject_Number\"]), preload=True, verbose=False)\n"
     ]
    },
    {
     "name": "stdout",
     "output_type": "stream",
     "text": [
      "Subject number: sub-032497\n"
     ]
    },
    {
     "name": "stderr",
     "output_type": "stream",
     "text": [
      "/tmp/ipykernel_72612/4144421588.py:9: RuntimeWarning: Limited 1 annotation(s) that were expanding outside the data range.\n",
      "  Subjects[\"prepSignal_EO\"] = mne.io.read_raw_eeglab(\"/workspace/brail_poc3/experiments/Lemon_PreEEGLAB/{}/{}/{}_EO.set\".format(Subjects[\"Subject_Number\"], Subjects[\"Subject_Number\"], Subjects[\"Subject_Number\"]), preload=True, verbose=False)\n",
      "/tmp/ipykernel_72612/4144421588.py:9: RuntimeWarning: The data contains 'boundary' events, indicating data discontinuities. Be cautious of filtering and epoching around these events.\n",
      "  Subjects[\"prepSignal_EO\"] = mne.io.read_raw_eeglab(\"/workspace/brail_poc3/experiments/Lemon_PreEEGLAB/{}/{}/{}_EO.set\".format(Subjects[\"Subject_Number\"], Subjects[\"Subject_Number\"], Subjects[\"Subject_Number\"]), preload=True, verbose=False)\n",
      " 87%|███████████████████████████████████▍     | 174/201 [00:47<00:08,  3.32it/s]/tmp/ipykernel_72612/4144421588.py:8: RuntimeWarning: Data file name in EEG.data (sub-010291_EC.fdt) is incorrect, the file name must have changed on disk, using the correct file name (sub-032498_EC.fdt).\n",
      "  Subjects[\"prepSignal_EC\"] = mne.io.read_raw_eeglab(\"/workspace/brail_poc3/experiments/Lemon_PreEEGLAB/{}/{}/{}_EC.set\".format(Subjects[\"Subject_Number\"], Subjects[\"Subject_Number\"], Subjects[\"Subject_Number\"]), preload=True, verbose=False)\n",
      "/tmp/ipykernel_72612/4144421588.py:8: RuntimeWarning: Limited 1 annotation(s) that were expanding outside the data range.\n",
      "  Subjects[\"prepSignal_EC\"] = mne.io.read_raw_eeglab(\"/workspace/brail_poc3/experiments/Lemon_PreEEGLAB/{}/{}/{}_EC.set\".format(Subjects[\"Subject_Number\"], Subjects[\"Subject_Number\"], Subjects[\"Subject_Number\"]), preload=True, verbose=False)\n",
      "/tmp/ipykernel_72612/4144421588.py:8: RuntimeWarning: The data contains 'boundary' events, indicating data discontinuities. Be cautious of filtering and epoching around these events.\n",
      "  Subjects[\"prepSignal_EC\"] = mne.io.read_raw_eeglab(\"/workspace/brail_poc3/experiments/Lemon_PreEEGLAB/{}/{}/{}_EC.set\".format(Subjects[\"Subject_Number\"], Subjects[\"Subject_Number\"], Subjects[\"Subject_Number\"]), preload=True, verbose=False)\n",
      "/tmp/ipykernel_72612/4144421588.py:9: RuntimeWarning: Data file name in EEG.data (sub-010291_EO.fdt) is incorrect, the file name must have changed on disk, using the correct file name (sub-032498_EO.fdt).\n",
      "  Subjects[\"prepSignal_EO\"] = mne.io.read_raw_eeglab(\"/workspace/brail_poc3/experiments/Lemon_PreEEGLAB/{}/{}/{}_EO.set\".format(Subjects[\"Subject_Number\"], Subjects[\"Subject_Number\"], Subjects[\"Subject_Number\"]), preload=True, verbose=False)\n"
     ]
    },
    {
     "name": "stdout",
     "output_type": "stream",
     "text": [
      "Subject number: sub-032498\n"
     ]
    },
    {
     "name": "stderr",
     "output_type": "stream",
     "text": [
      "/tmp/ipykernel_72612/4144421588.py:9: RuntimeWarning: Limited 1 annotation(s) that were expanding outside the data range.\n",
      "  Subjects[\"prepSignal_EO\"] = mne.io.read_raw_eeglab(\"/workspace/brail_poc3/experiments/Lemon_PreEEGLAB/{}/{}/{}_EO.set\".format(Subjects[\"Subject_Number\"], Subjects[\"Subject_Number\"], Subjects[\"Subject_Number\"]), preload=True, verbose=False)\n",
      "/tmp/ipykernel_72612/4144421588.py:9: RuntimeWarning: The data contains 'boundary' events, indicating data discontinuities. Be cautious of filtering and epoching around these events.\n",
      "  Subjects[\"prepSignal_EO\"] = mne.io.read_raw_eeglab(\"/workspace/brail_poc3/experiments/Lemon_PreEEGLAB/{}/{}/{}_EO.set\".format(Subjects[\"Subject_Number\"], Subjects[\"Subject_Number\"], Subjects[\"Subject_Number\"]), preload=True, verbose=False)\n",
      " 87%|███████████████████████████████████▋     | 175/201 [00:48<00:07,  3.37it/s]/tmp/ipykernel_72612/4144421588.py:8: RuntimeWarning: Data file name in EEG.data (sub-010292_EC.fdt) is incorrect, the file name must have changed on disk, using the correct file name (sub-032499_EC.fdt).\n",
      "  Subjects[\"prepSignal_EC\"] = mne.io.read_raw_eeglab(\"/workspace/brail_poc3/experiments/Lemon_PreEEGLAB/{}/{}/{}_EC.set\".format(Subjects[\"Subject_Number\"], Subjects[\"Subject_Number\"], Subjects[\"Subject_Number\"]), preload=True, verbose=False)\n",
      "/tmp/ipykernel_72612/4144421588.py:8: RuntimeWarning: Limited 1 annotation(s) that were expanding outside the data range.\n",
      "  Subjects[\"prepSignal_EC\"] = mne.io.read_raw_eeglab(\"/workspace/brail_poc3/experiments/Lemon_PreEEGLAB/{}/{}/{}_EC.set\".format(Subjects[\"Subject_Number\"], Subjects[\"Subject_Number\"], Subjects[\"Subject_Number\"]), preload=True, verbose=False)\n",
      "/tmp/ipykernel_72612/4144421588.py:8: RuntimeWarning: The data contains 'boundary' events, indicating data discontinuities. Be cautious of filtering and epoching around these events.\n",
      "  Subjects[\"prepSignal_EC\"] = mne.io.read_raw_eeglab(\"/workspace/brail_poc3/experiments/Lemon_PreEEGLAB/{}/{}/{}_EC.set\".format(Subjects[\"Subject_Number\"], Subjects[\"Subject_Number\"], Subjects[\"Subject_Number\"]), preload=True, verbose=False)\n",
      "/tmp/ipykernel_72612/4144421588.py:9: RuntimeWarning: Data file name in EEG.data (sub-010292_EO.fdt) is incorrect, the file name must have changed on disk, using the correct file name (sub-032499_EO.fdt).\n",
      "  Subjects[\"prepSignal_EO\"] = mne.io.read_raw_eeglab(\"/workspace/brail_poc3/experiments/Lemon_PreEEGLAB/{}/{}/{}_EO.set\".format(Subjects[\"Subject_Number\"], Subjects[\"Subject_Number\"], Subjects[\"Subject_Number\"]), preload=True, verbose=False)\n"
     ]
    },
    {
     "name": "stdout",
     "output_type": "stream",
     "text": [
      "Subject number: sub-032499\n"
     ]
    },
    {
     "name": "stderr",
     "output_type": "stream",
     "text": [
      "/tmp/ipykernel_72612/4144421588.py:9: RuntimeWarning: Limited 1 annotation(s) that were expanding outside the data range.\n",
      "  Subjects[\"prepSignal_EO\"] = mne.io.read_raw_eeglab(\"/workspace/brail_poc3/experiments/Lemon_PreEEGLAB/{}/{}/{}_EO.set\".format(Subjects[\"Subject_Number\"], Subjects[\"Subject_Number\"], Subjects[\"Subject_Number\"]), preload=True, verbose=False)\n",
      "/tmp/ipykernel_72612/4144421588.py:9: RuntimeWarning: The data contains 'boundary' events, indicating data discontinuities. Be cautious of filtering and epoching around these events.\n",
      "  Subjects[\"prepSignal_EO\"] = mne.io.read_raw_eeglab(\"/workspace/brail_poc3/experiments/Lemon_PreEEGLAB/{}/{}/{}_EO.set\".format(Subjects[\"Subject_Number\"], Subjects[\"Subject_Number\"], Subjects[\"Subject_Number\"]), preload=True, verbose=False)\n",
      " 88%|███████████████████████████████████▉     | 176/201 [00:48<00:07,  3.37it/s]/tmp/ipykernel_72612/4144421588.py:8: RuntimeWarning: Data file name in EEG.data (sub-010294_EC.fdt) is incorrect, the file name must have changed on disk, using the correct file name (sub-032501_EC.fdt).\n",
      "  Subjects[\"prepSignal_EC\"] = mne.io.read_raw_eeglab(\"/workspace/brail_poc3/experiments/Lemon_PreEEGLAB/{}/{}/{}_EC.set\".format(Subjects[\"Subject_Number\"], Subjects[\"Subject_Number\"], Subjects[\"Subject_Number\"]), preload=True, verbose=False)\n",
      "/tmp/ipykernel_72612/4144421588.py:8: RuntimeWarning: Limited 1 annotation(s) that were expanding outside the data range.\n",
      "  Subjects[\"prepSignal_EC\"] = mne.io.read_raw_eeglab(\"/workspace/brail_poc3/experiments/Lemon_PreEEGLAB/{}/{}/{}_EC.set\".format(Subjects[\"Subject_Number\"], Subjects[\"Subject_Number\"], Subjects[\"Subject_Number\"]), preload=True, verbose=False)\n",
      "/tmp/ipykernel_72612/4144421588.py:8: RuntimeWarning: The data contains 'boundary' events, indicating data discontinuities. Be cautious of filtering and epoching around these events.\n",
      "  Subjects[\"prepSignal_EC\"] = mne.io.read_raw_eeglab(\"/workspace/brail_poc3/experiments/Lemon_PreEEGLAB/{}/{}/{}_EC.set\".format(Subjects[\"Subject_Number\"], Subjects[\"Subject_Number\"], Subjects[\"Subject_Number\"]), preload=True, verbose=False)\n",
      "/tmp/ipykernel_72612/4144421588.py:9: RuntimeWarning: Data file name in EEG.data (sub-010294_EO.fdt) is incorrect, the file name must have changed on disk, using the correct file name (sub-032501_EO.fdt).\n",
      "  Subjects[\"prepSignal_EO\"] = mne.io.read_raw_eeglab(\"/workspace/brail_poc3/experiments/Lemon_PreEEGLAB/{}/{}/{}_EO.set\".format(Subjects[\"Subject_Number\"], Subjects[\"Subject_Number\"], Subjects[\"Subject_Number\"]), preload=True, verbose=False)\n"
     ]
    },
    {
     "name": "stdout",
     "output_type": "stream",
     "text": [
      "Subject number: sub-032501\n"
     ]
    },
    {
     "name": "stderr",
     "output_type": "stream",
     "text": [
      "/tmp/ipykernel_72612/4144421588.py:9: RuntimeWarning: Limited 1 annotation(s) that were expanding outside the data range.\n",
      "  Subjects[\"prepSignal_EO\"] = mne.io.read_raw_eeglab(\"/workspace/brail_poc3/experiments/Lemon_PreEEGLAB/{}/{}/{}_EO.set\".format(Subjects[\"Subject_Number\"], Subjects[\"Subject_Number\"], Subjects[\"Subject_Number\"]), preload=True, verbose=False)\n",
      "/tmp/ipykernel_72612/4144421588.py:9: RuntimeWarning: The data contains 'boundary' events, indicating data discontinuities. Be cautious of filtering and epoching around these events.\n",
      "  Subjects[\"prepSignal_EO\"] = mne.io.read_raw_eeglab(\"/workspace/brail_poc3/experiments/Lemon_PreEEGLAB/{}/{}/{}_EO.set\".format(Subjects[\"Subject_Number\"], Subjects[\"Subject_Number\"], Subjects[\"Subject_Number\"]), preload=True, verbose=False)\n",
      " 88%|████████████████████████████████████     | 177/201 [00:48<00:07,  3.42it/s]/tmp/ipykernel_72612/4144421588.py:8: RuntimeWarning: Data file name in EEG.data (sub-010295_EC.fdt) is incorrect, the file name must have changed on disk, using the correct file name (sub-032502_EC.fdt).\n",
      "  Subjects[\"prepSignal_EC\"] = mne.io.read_raw_eeglab(\"/workspace/brail_poc3/experiments/Lemon_PreEEGLAB/{}/{}/{}_EC.set\".format(Subjects[\"Subject_Number\"], Subjects[\"Subject_Number\"], Subjects[\"Subject_Number\"]), preload=True, verbose=False)\n",
      "/tmp/ipykernel_72612/4144421588.py:8: RuntimeWarning: Limited 1 annotation(s) that were expanding outside the data range.\n",
      "  Subjects[\"prepSignal_EC\"] = mne.io.read_raw_eeglab(\"/workspace/brail_poc3/experiments/Lemon_PreEEGLAB/{}/{}/{}_EC.set\".format(Subjects[\"Subject_Number\"], Subjects[\"Subject_Number\"], Subjects[\"Subject_Number\"]), preload=True, verbose=False)\n",
      "/tmp/ipykernel_72612/4144421588.py:8: RuntimeWarning: The data contains 'boundary' events, indicating data discontinuities. Be cautious of filtering and epoching around these events.\n",
      "  Subjects[\"prepSignal_EC\"] = mne.io.read_raw_eeglab(\"/workspace/brail_poc3/experiments/Lemon_PreEEGLAB/{}/{}/{}_EC.set\".format(Subjects[\"Subject_Number\"], Subjects[\"Subject_Number\"], Subjects[\"Subject_Number\"]), preload=True, verbose=False)\n",
      "/tmp/ipykernel_72612/4144421588.py:9: RuntimeWarning: Data file name in EEG.data (sub-010295_EO.fdt) is incorrect, the file name must have changed on disk, using the correct file name (sub-032502_EO.fdt).\n",
      "  Subjects[\"prepSignal_EO\"] = mne.io.read_raw_eeglab(\"/workspace/brail_poc3/experiments/Lemon_PreEEGLAB/{}/{}/{}_EO.set\".format(Subjects[\"Subject_Number\"], Subjects[\"Subject_Number\"], Subjects[\"Subject_Number\"]), preload=True, verbose=False)\n"
     ]
    },
    {
     "name": "stdout",
     "output_type": "stream",
     "text": [
      "Subject number: sub-032502\n"
     ]
    },
    {
     "name": "stderr",
     "output_type": "stream",
     "text": [
      "/tmp/ipykernel_72612/4144421588.py:9: RuntimeWarning: Limited 1 annotation(s) that were expanding outside the data range.\n",
      "  Subjects[\"prepSignal_EO\"] = mne.io.read_raw_eeglab(\"/workspace/brail_poc3/experiments/Lemon_PreEEGLAB/{}/{}/{}_EO.set\".format(Subjects[\"Subject_Number\"], Subjects[\"Subject_Number\"], Subjects[\"Subject_Number\"]), preload=True, verbose=False)\n",
      "/tmp/ipykernel_72612/4144421588.py:9: RuntimeWarning: The data contains 'boundary' events, indicating data discontinuities. Be cautious of filtering and epoching around these events.\n",
      "  Subjects[\"prepSignal_EO\"] = mne.io.read_raw_eeglab(\"/workspace/brail_poc3/experiments/Lemon_PreEEGLAB/{}/{}/{}_EO.set\".format(Subjects[\"Subject_Number\"], Subjects[\"Subject_Number\"], Subjects[\"Subject_Number\"]), preload=True, verbose=False)\n",
      " 89%|████████████████████████████████████▎    | 178/201 [00:49<00:06,  3.39it/s]/tmp/ipykernel_72612/4144421588.py:8: RuntimeWarning: Data file name in EEG.data (sub-010296_EC.fdt) is incorrect, the file name must have changed on disk, using the correct file name (sub-032503_EC.fdt).\n",
      "  Subjects[\"prepSignal_EC\"] = mne.io.read_raw_eeglab(\"/workspace/brail_poc3/experiments/Lemon_PreEEGLAB/{}/{}/{}_EC.set\".format(Subjects[\"Subject_Number\"], Subjects[\"Subject_Number\"], Subjects[\"Subject_Number\"]), preload=True, verbose=False)\n",
      "/tmp/ipykernel_72612/4144421588.py:8: RuntimeWarning: Limited 1 annotation(s) that were expanding outside the data range.\n",
      "  Subjects[\"prepSignal_EC\"] = mne.io.read_raw_eeglab(\"/workspace/brail_poc3/experiments/Lemon_PreEEGLAB/{}/{}/{}_EC.set\".format(Subjects[\"Subject_Number\"], Subjects[\"Subject_Number\"], Subjects[\"Subject_Number\"]), preload=True, verbose=False)\n",
      "/tmp/ipykernel_72612/4144421588.py:8: RuntimeWarning: The data contains 'boundary' events, indicating data discontinuities. Be cautious of filtering and epoching around these events.\n",
      "  Subjects[\"prepSignal_EC\"] = mne.io.read_raw_eeglab(\"/workspace/brail_poc3/experiments/Lemon_PreEEGLAB/{}/{}/{}_EC.set\".format(Subjects[\"Subject_Number\"], Subjects[\"Subject_Number\"], Subjects[\"Subject_Number\"]), preload=True, verbose=False)\n",
      "/tmp/ipykernel_72612/4144421588.py:9: RuntimeWarning: Data file name in EEG.data (sub-010296_EO.fdt) is incorrect, the file name must have changed on disk, using the correct file name (sub-032503_EO.fdt).\n",
      "  Subjects[\"prepSignal_EO\"] = mne.io.read_raw_eeglab(\"/workspace/brail_poc3/experiments/Lemon_PreEEGLAB/{}/{}/{}_EO.set\".format(Subjects[\"Subject_Number\"], Subjects[\"Subject_Number\"], Subjects[\"Subject_Number\"]), preload=True, verbose=False)\n"
     ]
    },
    {
     "name": "stdout",
     "output_type": "stream",
     "text": [
      "Subject number: sub-032503\n"
     ]
    },
    {
     "name": "stderr",
     "output_type": "stream",
     "text": [
      "/tmp/ipykernel_72612/4144421588.py:9: RuntimeWarning: Limited 1 annotation(s) that were expanding outside the data range.\n",
      "  Subjects[\"prepSignal_EO\"] = mne.io.read_raw_eeglab(\"/workspace/brail_poc3/experiments/Lemon_PreEEGLAB/{}/{}/{}_EO.set\".format(Subjects[\"Subject_Number\"], Subjects[\"Subject_Number\"], Subjects[\"Subject_Number\"]), preload=True, verbose=False)\n",
      "/tmp/ipykernel_72612/4144421588.py:9: RuntimeWarning: The data contains 'boundary' events, indicating data discontinuities. Be cautious of filtering and epoching around these events.\n",
      "  Subjects[\"prepSignal_EO\"] = mne.io.read_raw_eeglab(\"/workspace/brail_poc3/experiments/Lemon_PreEEGLAB/{}/{}/{}_EO.set\".format(Subjects[\"Subject_Number\"], Subjects[\"Subject_Number\"], Subjects[\"Subject_Number\"]), preload=True, verbose=False)\n",
      " 89%|████████████████████████████████████▌    | 179/201 [00:49<00:06,  3.34it/s]/tmp/ipykernel_72612/4144421588.py:8: RuntimeWarning: Data file name in EEG.data (sub-010297_EC.fdt) is incorrect, the file name must have changed on disk, using the correct file name (sub-032504_EC.fdt).\n",
      "  Subjects[\"prepSignal_EC\"] = mne.io.read_raw_eeglab(\"/workspace/brail_poc3/experiments/Lemon_PreEEGLAB/{}/{}/{}_EC.set\".format(Subjects[\"Subject_Number\"], Subjects[\"Subject_Number\"], Subjects[\"Subject_Number\"]), preload=True, verbose=False)\n",
      "/tmp/ipykernel_72612/4144421588.py:8: RuntimeWarning: Limited 1 annotation(s) that were expanding outside the data range.\n",
      "  Subjects[\"prepSignal_EC\"] = mne.io.read_raw_eeglab(\"/workspace/brail_poc3/experiments/Lemon_PreEEGLAB/{}/{}/{}_EC.set\".format(Subjects[\"Subject_Number\"], Subjects[\"Subject_Number\"], Subjects[\"Subject_Number\"]), preload=True, verbose=False)\n",
      "/tmp/ipykernel_72612/4144421588.py:8: RuntimeWarning: The data contains 'boundary' events, indicating data discontinuities. Be cautious of filtering and epoching around these events.\n",
      "  Subjects[\"prepSignal_EC\"] = mne.io.read_raw_eeglab(\"/workspace/brail_poc3/experiments/Lemon_PreEEGLAB/{}/{}/{}_EC.set\".format(Subjects[\"Subject_Number\"], Subjects[\"Subject_Number\"], Subjects[\"Subject_Number\"]), preload=True, verbose=False)\n",
      "/tmp/ipykernel_72612/4144421588.py:9: RuntimeWarning: Data file name in EEG.data (sub-010297_EO.fdt) is incorrect, the file name must have changed on disk, using the correct file name (sub-032504_EO.fdt).\n",
      "  Subjects[\"prepSignal_EO\"] = mne.io.read_raw_eeglab(\"/workspace/brail_poc3/experiments/Lemon_PreEEGLAB/{}/{}/{}_EO.set\".format(Subjects[\"Subject_Number\"], Subjects[\"Subject_Number\"], Subjects[\"Subject_Number\"]), preload=True, verbose=False)\n"
     ]
    },
    {
     "name": "stdout",
     "output_type": "stream",
     "text": [
      "Subject number: sub-032504\n"
     ]
    },
    {
     "name": "stderr",
     "output_type": "stream",
     "text": [
      "/tmp/ipykernel_72612/4144421588.py:9: RuntimeWarning: Limited 1 annotation(s) that were expanding outside the data range.\n",
      "  Subjects[\"prepSignal_EO\"] = mne.io.read_raw_eeglab(\"/workspace/brail_poc3/experiments/Lemon_PreEEGLAB/{}/{}/{}_EO.set\".format(Subjects[\"Subject_Number\"], Subjects[\"Subject_Number\"], Subjects[\"Subject_Number\"]), preload=True, verbose=False)\n",
      "/tmp/ipykernel_72612/4144421588.py:9: RuntimeWarning: The data contains 'boundary' events, indicating data discontinuities. Be cautious of filtering and epoching around these events.\n",
      "  Subjects[\"prepSignal_EO\"] = mne.io.read_raw_eeglab(\"/workspace/brail_poc3/experiments/Lemon_PreEEGLAB/{}/{}/{}_EO.set\".format(Subjects[\"Subject_Number\"], Subjects[\"Subject_Number\"], Subjects[\"Subject_Number\"]), preload=True, verbose=False)\n",
      " 90%|████████████████████████████████████▋    | 180/201 [00:49<00:06,  3.34it/s]/tmp/ipykernel_72612/4144421588.py:8: RuntimeWarning: Data file name in EEG.data (sub-010298_EC.fdt) is incorrect, the file name must have changed on disk, using the correct file name (sub-032505_EC.fdt).\n",
      "  Subjects[\"prepSignal_EC\"] = mne.io.read_raw_eeglab(\"/workspace/brail_poc3/experiments/Lemon_PreEEGLAB/{}/{}/{}_EC.set\".format(Subjects[\"Subject_Number\"], Subjects[\"Subject_Number\"], Subjects[\"Subject_Number\"]), preload=True, verbose=False)\n",
      "/tmp/ipykernel_72612/4144421588.py:8: RuntimeWarning: Limited 1 annotation(s) that were expanding outside the data range.\n",
      "  Subjects[\"prepSignal_EC\"] = mne.io.read_raw_eeglab(\"/workspace/brail_poc3/experiments/Lemon_PreEEGLAB/{}/{}/{}_EC.set\".format(Subjects[\"Subject_Number\"], Subjects[\"Subject_Number\"], Subjects[\"Subject_Number\"]), preload=True, verbose=False)\n",
      "/tmp/ipykernel_72612/4144421588.py:8: RuntimeWarning: The data contains 'boundary' events, indicating data discontinuities. Be cautious of filtering and epoching around these events.\n",
      "  Subjects[\"prepSignal_EC\"] = mne.io.read_raw_eeglab(\"/workspace/brail_poc3/experiments/Lemon_PreEEGLAB/{}/{}/{}_EC.set\".format(Subjects[\"Subject_Number\"], Subjects[\"Subject_Number\"], Subjects[\"Subject_Number\"]), preload=True, verbose=False)\n",
      "/tmp/ipykernel_72612/4144421588.py:9: RuntimeWarning: Data file name in EEG.data (sub-010298_EO.fdt) is incorrect, the file name must have changed on disk, using the correct file name (sub-032505_EO.fdt).\n",
      "  Subjects[\"prepSignal_EO\"] = mne.io.read_raw_eeglab(\"/workspace/brail_poc3/experiments/Lemon_PreEEGLAB/{}/{}/{}_EO.set\".format(Subjects[\"Subject_Number\"], Subjects[\"Subject_Number\"], Subjects[\"Subject_Number\"]), preload=True, verbose=False)\n"
     ]
    },
    {
     "name": "stdout",
     "output_type": "stream",
     "text": [
      "Subject number: sub-032505\n"
     ]
    },
    {
     "name": "stderr",
     "output_type": "stream",
     "text": [
      "/tmp/ipykernel_72612/4144421588.py:9: RuntimeWarning: Limited 1 annotation(s) that were expanding outside the data range.\n",
      "  Subjects[\"prepSignal_EO\"] = mne.io.read_raw_eeglab(\"/workspace/brail_poc3/experiments/Lemon_PreEEGLAB/{}/{}/{}_EO.set\".format(Subjects[\"Subject_Number\"], Subjects[\"Subject_Number\"], Subjects[\"Subject_Number\"]), preload=True, verbose=False)\n",
      "/tmp/ipykernel_72612/4144421588.py:9: RuntimeWarning: The data contains 'boundary' events, indicating data discontinuities. Be cautious of filtering and epoching around these events.\n",
      "  Subjects[\"prepSignal_EO\"] = mne.io.read_raw_eeglab(\"/workspace/brail_poc3/experiments/Lemon_PreEEGLAB/{}/{}/{}_EO.set\".format(Subjects[\"Subject_Number\"], Subjects[\"Subject_Number\"], Subjects[\"Subject_Number\"]), preload=True, verbose=False)\n",
      " 90%|████████████████████████████████████▉    | 181/201 [00:50<00:05,  3.37it/s]/tmp/ipykernel_72612/4144421588.py:8: RuntimeWarning: Data file name in EEG.data (sub-010299_EC.fdt) is incorrect, the file name must have changed on disk, using the correct file name (sub-032506_EC.fdt).\n",
      "  Subjects[\"prepSignal_EC\"] = mne.io.read_raw_eeglab(\"/workspace/brail_poc3/experiments/Lemon_PreEEGLAB/{}/{}/{}_EC.set\".format(Subjects[\"Subject_Number\"], Subjects[\"Subject_Number\"], Subjects[\"Subject_Number\"]), preload=True, verbose=False)\n",
      "/tmp/ipykernel_72612/4144421588.py:8: RuntimeWarning: Limited 1 annotation(s) that were expanding outside the data range.\n",
      "  Subjects[\"prepSignal_EC\"] = mne.io.read_raw_eeglab(\"/workspace/brail_poc3/experiments/Lemon_PreEEGLAB/{}/{}/{}_EC.set\".format(Subjects[\"Subject_Number\"], Subjects[\"Subject_Number\"], Subjects[\"Subject_Number\"]), preload=True, verbose=False)\n",
      "/tmp/ipykernel_72612/4144421588.py:8: RuntimeWarning: The data contains 'boundary' events, indicating data discontinuities. Be cautious of filtering and epoching around these events.\n",
      "  Subjects[\"prepSignal_EC\"] = mne.io.read_raw_eeglab(\"/workspace/brail_poc3/experiments/Lemon_PreEEGLAB/{}/{}/{}_EC.set\".format(Subjects[\"Subject_Number\"], Subjects[\"Subject_Number\"], Subjects[\"Subject_Number\"]), preload=True, verbose=False)\n",
      "/tmp/ipykernel_72612/4144421588.py:9: RuntimeWarning: Data file name in EEG.data (sub-010299_EO.fdt) is incorrect, the file name must have changed on disk, using the correct file name (sub-032506_EO.fdt).\n",
      "  Subjects[\"prepSignal_EO\"] = mne.io.read_raw_eeglab(\"/workspace/brail_poc3/experiments/Lemon_PreEEGLAB/{}/{}/{}_EO.set\".format(Subjects[\"Subject_Number\"], Subjects[\"Subject_Number\"], Subjects[\"Subject_Number\"]), preload=True, verbose=False)\n"
     ]
    },
    {
     "name": "stdout",
     "output_type": "stream",
     "text": [
      "Subject number: sub-032506\n"
     ]
    },
    {
     "name": "stderr",
     "output_type": "stream",
     "text": [
      "/tmp/ipykernel_72612/4144421588.py:9: RuntimeWarning: Limited 1 annotation(s) that were expanding outside the data range.\n",
      "  Subjects[\"prepSignal_EO\"] = mne.io.read_raw_eeglab(\"/workspace/brail_poc3/experiments/Lemon_PreEEGLAB/{}/{}/{}_EO.set\".format(Subjects[\"Subject_Number\"], Subjects[\"Subject_Number\"], Subjects[\"Subject_Number\"]), preload=True, verbose=False)\n",
      "/tmp/ipykernel_72612/4144421588.py:9: RuntimeWarning: The data contains 'boundary' events, indicating data discontinuities. Be cautious of filtering and epoching around these events.\n",
      "  Subjects[\"prepSignal_EO\"] = mne.io.read_raw_eeglab(\"/workspace/brail_poc3/experiments/Lemon_PreEEGLAB/{}/{}/{}_EO.set\".format(Subjects[\"Subject_Number\"], Subjects[\"Subject_Number\"], Subjects[\"Subject_Number\"]), preload=True, verbose=False)\n",
      " 91%|█████████████████████████████████████    | 182/201 [00:50<00:06,  3.14it/s]/tmp/ipykernel_72612/4144421588.py:8: RuntimeWarning: Data file name in EEG.data (sub-010300_EC.fdt) is incorrect, the file name must have changed on disk, using the correct file name (sub-032507_EC.fdt).\n",
      "  Subjects[\"prepSignal_EC\"] = mne.io.read_raw_eeglab(\"/workspace/brail_poc3/experiments/Lemon_PreEEGLAB/{}/{}/{}_EC.set\".format(Subjects[\"Subject_Number\"], Subjects[\"Subject_Number\"], Subjects[\"Subject_Number\"]), preload=True, verbose=False)\n",
      "/tmp/ipykernel_72612/4144421588.py:8: RuntimeWarning: Limited 1 annotation(s) that were expanding outside the data range.\n",
      "  Subjects[\"prepSignal_EC\"] = mne.io.read_raw_eeglab(\"/workspace/brail_poc3/experiments/Lemon_PreEEGLAB/{}/{}/{}_EC.set\".format(Subjects[\"Subject_Number\"], Subjects[\"Subject_Number\"], Subjects[\"Subject_Number\"]), preload=True, verbose=False)\n",
      "/tmp/ipykernel_72612/4144421588.py:8: RuntimeWarning: The data contains 'boundary' events, indicating data discontinuities. Be cautious of filtering and epoching around these events.\n",
      "  Subjects[\"prepSignal_EC\"] = mne.io.read_raw_eeglab(\"/workspace/brail_poc3/experiments/Lemon_PreEEGLAB/{}/{}/{}_EC.set\".format(Subjects[\"Subject_Number\"], Subjects[\"Subject_Number\"], Subjects[\"Subject_Number\"]), preload=True, verbose=False)\n",
      "/tmp/ipykernel_72612/4144421588.py:9: RuntimeWarning: Data file name in EEG.data (sub-010300_EO.fdt) is incorrect, the file name must have changed on disk, using the correct file name (sub-032507_EO.fdt).\n",
      "  Subjects[\"prepSignal_EO\"] = mne.io.read_raw_eeglab(\"/workspace/brail_poc3/experiments/Lemon_PreEEGLAB/{}/{}/{}_EO.set\".format(Subjects[\"Subject_Number\"], Subjects[\"Subject_Number\"], Subjects[\"Subject_Number\"]), preload=True, verbose=False)\n"
     ]
    },
    {
     "name": "stdout",
     "output_type": "stream",
     "text": [
      "Subject number: sub-032507\n"
     ]
    },
    {
     "name": "stderr",
     "output_type": "stream",
     "text": [
      "/tmp/ipykernel_72612/4144421588.py:9: RuntimeWarning: Limited 1 annotation(s) that were expanding outside the data range.\n",
      "  Subjects[\"prepSignal_EO\"] = mne.io.read_raw_eeglab(\"/workspace/brail_poc3/experiments/Lemon_PreEEGLAB/{}/{}/{}_EO.set\".format(Subjects[\"Subject_Number\"], Subjects[\"Subject_Number\"], Subjects[\"Subject_Number\"]), preload=True, verbose=False)\n",
      "/tmp/ipykernel_72612/4144421588.py:9: RuntimeWarning: The data contains 'boundary' events, indicating data discontinuities. Be cautious of filtering and epoching around these events.\n",
      "  Subjects[\"prepSignal_EO\"] = mne.io.read_raw_eeglab(\"/workspace/brail_poc3/experiments/Lemon_PreEEGLAB/{}/{}/{}_EO.set\".format(Subjects[\"Subject_Number\"], Subjects[\"Subject_Number\"], Subjects[\"Subject_Number\"]), preload=True, verbose=False)\n",
      " 91%|█████████████████████████████████████▎   | 183/201 [00:50<00:05,  3.22it/s]/tmp/ipykernel_72612/4144421588.py:8: RuntimeWarning: Data file name in EEG.data (sub-010301_EC.fdt) is incorrect, the file name must have changed on disk, using the correct file name (sub-032508_EC.fdt).\n",
      "  Subjects[\"prepSignal_EC\"] = mne.io.read_raw_eeglab(\"/workspace/brail_poc3/experiments/Lemon_PreEEGLAB/{}/{}/{}_EC.set\".format(Subjects[\"Subject_Number\"], Subjects[\"Subject_Number\"], Subjects[\"Subject_Number\"]), preload=True, verbose=False)\n",
      "/tmp/ipykernel_72612/4144421588.py:8: RuntimeWarning: Limited 1 annotation(s) that were expanding outside the data range.\n",
      "  Subjects[\"prepSignal_EC\"] = mne.io.read_raw_eeglab(\"/workspace/brail_poc3/experiments/Lemon_PreEEGLAB/{}/{}/{}_EC.set\".format(Subjects[\"Subject_Number\"], Subjects[\"Subject_Number\"], Subjects[\"Subject_Number\"]), preload=True, verbose=False)\n",
      "/tmp/ipykernel_72612/4144421588.py:8: RuntimeWarning: The data contains 'boundary' events, indicating data discontinuities. Be cautious of filtering and epoching around these events.\n",
      "  Subjects[\"prepSignal_EC\"] = mne.io.read_raw_eeglab(\"/workspace/brail_poc3/experiments/Lemon_PreEEGLAB/{}/{}/{}_EC.set\".format(Subjects[\"Subject_Number\"], Subjects[\"Subject_Number\"], Subjects[\"Subject_Number\"]), preload=True, verbose=False)\n",
      "/tmp/ipykernel_72612/4144421588.py:9: RuntimeWarning: Data file name in EEG.data (sub-010301_EO.fdt) is incorrect, the file name must have changed on disk, using the correct file name (sub-032508_EO.fdt).\n",
      "  Subjects[\"prepSignal_EO\"] = mne.io.read_raw_eeglab(\"/workspace/brail_poc3/experiments/Lemon_PreEEGLAB/{}/{}/{}_EO.set\".format(Subjects[\"Subject_Number\"], Subjects[\"Subject_Number\"], Subjects[\"Subject_Number\"]), preload=True, verbose=False)\n"
     ]
    },
    {
     "name": "stdout",
     "output_type": "stream",
     "text": [
      "Subject number: sub-032508\n"
     ]
    },
    {
     "name": "stderr",
     "output_type": "stream",
     "text": [
      "/tmp/ipykernel_72612/4144421588.py:9: RuntimeWarning: Limited 1 annotation(s) that were expanding outside the data range.\n",
      "  Subjects[\"prepSignal_EO\"] = mne.io.read_raw_eeglab(\"/workspace/brail_poc3/experiments/Lemon_PreEEGLAB/{}/{}/{}_EO.set\".format(Subjects[\"Subject_Number\"], Subjects[\"Subject_Number\"], Subjects[\"Subject_Number\"]), preload=True, verbose=False)\n",
      "/tmp/ipykernel_72612/4144421588.py:9: RuntimeWarning: The data contains 'boundary' events, indicating data discontinuities. Be cautious of filtering and epoching around these events.\n",
      "  Subjects[\"prepSignal_EO\"] = mne.io.read_raw_eeglab(\"/workspace/brail_poc3/experiments/Lemon_PreEEGLAB/{}/{}/{}_EO.set\".format(Subjects[\"Subject_Number\"], Subjects[\"Subject_Number\"], Subjects[\"Subject_Number\"]), preload=True, verbose=False)\n",
      " 92%|█████████████████████████████████████▌   | 184/201 [00:50<00:05,  3.29it/s]/tmp/ipykernel_72612/4144421588.py:8: RuntimeWarning: Data file name in EEG.data (sub-010302_EC.fdt) is incorrect, the file name must have changed on disk, using the correct file name (sub-032509_EC.fdt).\n",
      "  Subjects[\"prepSignal_EC\"] = mne.io.read_raw_eeglab(\"/workspace/brail_poc3/experiments/Lemon_PreEEGLAB/{}/{}/{}_EC.set\".format(Subjects[\"Subject_Number\"], Subjects[\"Subject_Number\"], Subjects[\"Subject_Number\"]), preload=True, verbose=False)\n",
      "/tmp/ipykernel_72612/4144421588.py:8: RuntimeWarning: Limited 2 annotation(s) that were expanding outside the data range.\n",
      "  Subjects[\"prepSignal_EC\"] = mne.io.read_raw_eeglab(\"/workspace/brail_poc3/experiments/Lemon_PreEEGLAB/{}/{}/{}_EC.set\".format(Subjects[\"Subject_Number\"], Subjects[\"Subject_Number\"], Subjects[\"Subject_Number\"]), preload=True, verbose=False)\n",
      "/tmp/ipykernel_72612/4144421588.py:8: RuntimeWarning: The data contains 'boundary' events, indicating data discontinuities. Be cautious of filtering and epoching around these events.\n",
      "  Subjects[\"prepSignal_EC\"] = mne.io.read_raw_eeglab(\"/workspace/brail_poc3/experiments/Lemon_PreEEGLAB/{}/{}/{}_EC.set\".format(Subjects[\"Subject_Number\"], Subjects[\"Subject_Number\"], Subjects[\"Subject_Number\"]), preload=True, verbose=False)\n",
      "/tmp/ipykernel_72612/4144421588.py:9: RuntimeWarning: Data file name in EEG.data (sub-010302_EO.fdt) is incorrect, the file name must have changed on disk, using the correct file name (sub-032509_EO.fdt).\n",
      "  Subjects[\"prepSignal_EO\"] = mne.io.read_raw_eeglab(\"/workspace/brail_poc3/experiments/Lemon_PreEEGLAB/{}/{}/{}_EO.set\".format(Subjects[\"Subject_Number\"], Subjects[\"Subject_Number\"], Subjects[\"Subject_Number\"]), preload=True, verbose=False)\n"
     ]
    },
    {
     "name": "stdout",
     "output_type": "stream",
     "text": [
      "Subject number: sub-032509\n"
     ]
    },
    {
     "name": "stderr",
     "output_type": "stream",
     "text": [
      "/tmp/ipykernel_72612/4144421588.py:9: RuntimeWarning: Limited 1 annotation(s) that were expanding outside the data range.\n",
      "  Subjects[\"prepSignal_EO\"] = mne.io.read_raw_eeglab(\"/workspace/brail_poc3/experiments/Lemon_PreEEGLAB/{}/{}/{}_EO.set\".format(Subjects[\"Subject_Number\"], Subjects[\"Subject_Number\"], Subjects[\"Subject_Number\"]), preload=True, verbose=False)\n",
      "/tmp/ipykernel_72612/4144421588.py:9: RuntimeWarning: The data contains 'boundary' events, indicating data discontinuities. Be cautious of filtering and epoching around these events.\n",
      "  Subjects[\"prepSignal_EO\"] = mne.io.read_raw_eeglab(\"/workspace/brail_poc3/experiments/Lemon_PreEEGLAB/{}/{}/{}_EO.set\".format(Subjects[\"Subject_Number\"], Subjects[\"Subject_Number\"], Subjects[\"Subject_Number\"]), preload=True, verbose=False)\n",
      " 92%|█████████████████████████████████████▋   | 185/201 [00:51<00:04,  3.42it/s]/tmp/ipykernel_72612/4144421588.py:8: RuntimeWarning: Data file name in EEG.data (sub-010303_EC.fdt) is incorrect, the file name must have changed on disk, using the correct file name (sub-032510_EC.fdt).\n",
      "  Subjects[\"prepSignal_EC\"] = mne.io.read_raw_eeglab(\"/workspace/brail_poc3/experiments/Lemon_PreEEGLAB/{}/{}/{}_EC.set\".format(Subjects[\"Subject_Number\"], Subjects[\"Subject_Number\"], Subjects[\"Subject_Number\"]), preload=True, verbose=False)\n",
      "/tmp/ipykernel_72612/4144421588.py:8: RuntimeWarning: Limited 1 annotation(s) that were expanding outside the data range.\n",
      "  Subjects[\"prepSignal_EC\"] = mne.io.read_raw_eeglab(\"/workspace/brail_poc3/experiments/Lemon_PreEEGLAB/{}/{}/{}_EC.set\".format(Subjects[\"Subject_Number\"], Subjects[\"Subject_Number\"], Subjects[\"Subject_Number\"]), preload=True, verbose=False)\n",
      "/tmp/ipykernel_72612/4144421588.py:8: RuntimeWarning: The data contains 'boundary' events, indicating data discontinuities. Be cautious of filtering and epoching around these events.\n",
      "  Subjects[\"prepSignal_EC\"] = mne.io.read_raw_eeglab(\"/workspace/brail_poc3/experiments/Lemon_PreEEGLAB/{}/{}/{}_EC.set\".format(Subjects[\"Subject_Number\"], Subjects[\"Subject_Number\"], Subjects[\"Subject_Number\"]), preload=True, verbose=False)\n",
      "/tmp/ipykernel_72612/4144421588.py:9: RuntimeWarning: Data file name in EEG.data (sub-010303_EO.fdt) is incorrect, the file name must have changed on disk, using the correct file name (sub-032510_EO.fdt).\n",
      "  Subjects[\"prepSignal_EO\"] = mne.io.read_raw_eeglab(\"/workspace/brail_poc3/experiments/Lemon_PreEEGLAB/{}/{}/{}_EO.set\".format(Subjects[\"Subject_Number\"], Subjects[\"Subject_Number\"], Subjects[\"Subject_Number\"]), preload=True, verbose=False)\n"
     ]
    },
    {
     "name": "stdout",
     "output_type": "stream",
     "text": [
      "Subject number: sub-032510\n"
     ]
    },
    {
     "name": "stderr",
     "output_type": "stream",
     "text": [
      "/tmp/ipykernel_72612/4144421588.py:9: RuntimeWarning: Limited 1 annotation(s) that were expanding outside the data range.\n",
      "  Subjects[\"prepSignal_EO\"] = mne.io.read_raw_eeglab(\"/workspace/brail_poc3/experiments/Lemon_PreEEGLAB/{}/{}/{}_EO.set\".format(Subjects[\"Subject_Number\"], Subjects[\"Subject_Number\"], Subjects[\"Subject_Number\"]), preload=True, verbose=False)\n",
      "/tmp/ipykernel_72612/4144421588.py:9: RuntimeWarning: The data contains 'boundary' events, indicating data discontinuities. Be cautious of filtering and epoching around these events.\n",
      "  Subjects[\"prepSignal_EO\"] = mne.io.read_raw_eeglab(\"/workspace/brail_poc3/experiments/Lemon_PreEEGLAB/{}/{}/{}_EO.set\".format(Subjects[\"Subject_Number\"], Subjects[\"Subject_Number\"], Subjects[\"Subject_Number\"]), preload=True, verbose=False)\n",
      " 93%|█████████████████████████████████████▉   | 186/201 [00:51<00:04,  3.46it/s]/tmp/ipykernel_72612/4144421588.py:8: RuntimeWarning: Data file name in EEG.data (sub-010304_EC.fdt) is incorrect, the file name must have changed on disk, using the correct file name (sub-032511_EC.fdt).\n",
      "  Subjects[\"prepSignal_EC\"] = mne.io.read_raw_eeglab(\"/workspace/brail_poc3/experiments/Lemon_PreEEGLAB/{}/{}/{}_EC.set\".format(Subjects[\"Subject_Number\"], Subjects[\"Subject_Number\"], Subjects[\"Subject_Number\"]), preload=True, verbose=False)\n",
      "/tmp/ipykernel_72612/4144421588.py:8: RuntimeWarning: Limited 1 annotation(s) that were expanding outside the data range.\n",
      "  Subjects[\"prepSignal_EC\"] = mne.io.read_raw_eeglab(\"/workspace/brail_poc3/experiments/Lemon_PreEEGLAB/{}/{}/{}_EC.set\".format(Subjects[\"Subject_Number\"], Subjects[\"Subject_Number\"], Subjects[\"Subject_Number\"]), preload=True, verbose=False)\n",
      "/tmp/ipykernel_72612/4144421588.py:8: RuntimeWarning: The data contains 'boundary' events, indicating data discontinuities. Be cautious of filtering and epoching around these events.\n",
      "  Subjects[\"prepSignal_EC\"] = mne.io.read_raw_eeglab(\"/workspace/brail_poc3/experiments/Lemon_PreEEGLAB/{}/{}/{}_EC.set\".format(Subjects[\"Subject_Number\"], Subjects[\"Subject_Number\"], Subjects[\"Subject_Number\"]), preload=True, verbose=False)\n",
      "/tmp/ipykernel_72612/4144421588.py:9: RuntimeWarning: Data file name in EEG.data (sub-010304_EO.fdt) is incorrect, the file name must have changed on disk, using the correct file name (sub-032511_EO.fdt).\n",
      "  Subjects[\"prepSignal_EO\"] = mne.io.read_raw_eeglab(\"/workspace/brail_poc3/experiments/Lemon_PreEEGLAB/{}/{}/{}_EO.set\".format(Subjects[\"Subject_Number\"], Subjects[\"Subject_Number\"], Subjects[\"Subject_Number\"]), preload=True, verbose=False)\n"
     ]
    },
    {
     "name": "stdout",
     "output_type": "stream",
     "text": [
      "Subject number: sub-032511\n"
     ]
    },
    {
     "name": "stderr",
     "output_type": "stream",
     "text": [
      "/tmp/ipykernel_72612/4144421588.py:9: RuntimeWarning: Limited 1 annotation(s) that were expanding outside the data range.\n",
      "  Subjects[\"prepSignal_EO\"] = mne.io.read_raw_eeglab(\"/workspace/brail_poc3/experiments/Lemon_PreEEGLAB/{}/{}/{}_EO.set\".format(Subjects[\"Subject_Number\"], Subjects[\"Subject_Number\"], Subjects[\"Subject_Number\"]), preload=True, verbose=False)\n",
      "/tmp/ipykernel_72612/4144421588.py:9: RuntimeWarning: The data contains 'boundary' events, indicating data discontinuities. Be cautious of filtering and epoching around these events.\n",
      "  Subjects[\"prepSignal_EO\"] = mne.io.read_raw_eeglab(\"/workspace/brail_poc3/experiments/Lemon_PreEEGLAB/{}/{}/{}_EO.set\".format(Subjects[\"Subject_Number\"], Subjects[\"Subject_Number\"], Subjects[\"Subject_Number\"]), preload=True, verbose=False)\n",
      " 93%|██████████████████████████████████████▏  | 187/201 [00:51<00:04,  3.46it/s]/tmp/ipykernel_72612/4144421588.py:8: RuntimeWarning: Data file name in EEG.data (sub-010305_EC.fdt) is incorrect, the file name must have changed on disk, using the correct file name (sub-032512_EC.fdt).\n",
      "  Subjects[\"prepSignal_EC\"] = mne.io.read_raw_eeglab(\"/workspace/brail_poc3/experiments/Lemon_PreEEGLAB/{}/{}/{}_EC.set\".format(Subjects[\"Subject_Number\"], Subjects[\"Subject_Number\"], Subjects[\"Subject_Number\"]), preload=True, verbose=False)\n",
      "/tmp/ipykernel_72612/4144421588.py:8: RuntimeWarning: Limited 1 annotation(s) that were expanding outside the data range.\n",
      "  Subjects[\"prepSignal_EC\"] = mne.io.read_raw_eeglab(\"/workspace/brail_poc3/experiments/Lemon_PreEEGLAB/{}/{}/{}_EC.set\".format(Subjects[\"Subject_Number\"], Subjects[\"Subject_Number\"], Subjects[\"Subject_Number\"]), preload=True, verbose=False)\n",
      "/tmp/ipykernel_72612/4144421588.py:8: RuntimeWarning: The data contains 'boundary' events, indicating data discontinuities. Be cautious of filtering and epoching around these events.\n",
      "  Subjects[\"prepSignal_EC\"] = mne.io.read_raw_eeglab(\"/workspace/brail_poc3/experiments/Lemon_PreEEGLAB/{}/{}/{}_EC.set\".format(Subjects[\"Subject_Number\"], Subjects[\"Subject_Number\"], Subjects[\"Subject_Number\"]), preload=True, verbose=False)\n",
      "/tmp/ipykernel_72612/4144421588.py:9: RuntimeWarning: Data file name in EEG.data (sub-010305_EO.fdt) is incorrect, the file name must have changed on disk, using the correct file name (sub-032512_EO.fdt).\n",
      "  Subjects[\"prepSignal_EO\"] = mne.io.read_raw_eeglab(\"/workspace/brail_poc3/experiments/Lemon_PreEEGLAB/{}/{}/{}_EO.set\".format(Subjects[\"Subject_Number\"], Subjects[\"Subject_Number\"], Subjects[\"Subject_Number\"]), preload=True, verbose=False)\n"
     ]
    },
    {
     "name": "stdout",
     "output_type": "stream",
     "text": [
      "Subject number: sub-032512\n"
     ]
    },
    {
     "name": "stderr",
     "output_type": "stream",
     "text": [
      "/tmp/ipykernel_72612/4144421588.py:9: RuntimeWarning: Limited 1 annotation(s) that were expanding outside the data range.\n",
      "  Subjects[\"prepSignal_EO\"] = mne.io.read_raw_eeglab(\"/workspace/brail_poc3/experiments/Lemon_PreEEGLAB/{}/{}/{}_EO.set\".format(Subjects[\"Subject_Number\"], Subjects[\"Subject_Number\"], Subjects[\"Subject_Number\"]), preload=True, verbose=False)\n",
      "/tmp/ipykernel_72612/4144421588.py:9: RuntimeWarning: The data contains 'boundary' events, indicating data discontinuities. Be cautious of filtering and epoching around these events.\n",
      "  Subjects[\"prepSignal_EO\"] = mne.io.read_raw_eeglab(\"/workspace/brail_poc3/experiments/Lemon_PreEEGLAB/{}/{}/{}_EO.set\".format(Subjects[\"Subject_Number\"], Subjects[\"Subject_Number\"], Subjects[\"Subject_Number\"]), preload=True, verbose=False)\n",
      " 94%|██████████████████████████████████████▎  | 188/201 [00:52<00:03,  3.46it/s]/tmp/ipykernel_72612/4144421588.py:8: RuntimeWarning: Data file name in EEG.data (sub-010306_EC.fdt) is incorrect, the file name must have changed on disk, using the correct file name (sub-032513_EC.fdt).\n",
      "  Subjects[\"prepSignal_EC\"] = mne.io.read_raw_eeglab(\"/workspace/brail_poc3/experiments/Lemon_PreEEGLAB/{}/{}/{}_EC.set\".format(Subjects[\"Subject_Number\"], Subjects[\"Subject_Number\"], Subjects[\"Subject_Number\"]), preload=True, verbose=False)\n",
      "/tmp/ipykernel_72612/4144421588.py:8: RuntimeWarning: Limited 1 annotation(s) that were expanding outside the data range.\n",
      "  Subjects[\"prepSignal_EC\"] = mne.io.read_raw_eeglab(\"/workspace/brail_poc3/experiments/Lemon_PreEEGLAB/{}/{}/{}_EC.set\".format(Subjects[\"Subject_Number\"], Subjects[\"Subject_Number\"], Subjects[\"Subject_Number\"]), preload=True, verbose=False)\n",
      "/tmp/ipykernel_72612/4144421588.py:8: RuntimeWarning: The data contains 'boundary' events, indicating data discontinuities. Be cautious of filtering and epoching around these events.\n",
      "  Subjects[\"prepSignal_EC\"] = mne.io.read_raw_eeglab(\"/workspace/brail_poc3/experiments/Lemon_PreEEGLAB/{}/{}/{}_EC.set\".format(Subjects[\"Subject_Number\"], Subjects[\"Subject_Number\"], Subjects[\"Subject_Number\"]), preload=True, verbose=False)\n",
      "/tmp/ipykernel_72612/4144421588.py:9: RuntimeWarning: Data file name in EEG.data (sub-010306_EO.fdt) is incorrect, the file name must have changed on disk, using the correct file name (sub-032513_EO.fdt).\n",
      "  Subjects[\"prepSignal_EO\"] = mne.io.read_raw_eeglab(\"/workspace/brail_poc3/experiments/Lemon_PreEEGLAB/{}/{}/{}_EO.set\".format(Subjects[\"Subject_Number\"], Subjects[\"Subject_Number\"], Subjects[\"Subject_Number\"]), preload=True, verbose=False)\n"
     ]
    },
    {
     "name": "stdout",
     "output_type": "stream",
     "text": [
      "Subject number: sub-032513\n"
     ]
    },
    {
     "name": "stderr",
     "output_type": "stream",
     "text": [
      "/tmp/ipykernel_72612/4144421588.py:9: RuntimeWarning: Limited 1 annotation(s) that were expanding outside the data range.\n",
      "  Subjects[\"prepSignal_EO\"] = mne.io.read_raw_eeglab(\"/workspace/brail_poc3/experiments/Lemon_PreEEGLAB/{}/{}/{}_EO.set\".format(Subjects[\"Subject_Number\"], Subjects[\"Subject_Number\"], Subjects[\"Subject_Number\"]), preload=True, verbose=False)\n",
      "/tmp/ipykernel_72612/4144421588.py:9: RuntimeWarning: The data contains 'boundary' events, indicating data discontinuities. Be cautious of filtering and epoching around these events.\n",
      "  Subjects[\"prepSignal_EO\"] = mne.io.read_raw_eeglab(\"/workspace/brail_poc3/experiments/Lemon_PreEEGLAB/{}/{}/{}_EO.set\".format(Subjects[\"Subject_Number\"], Subjects[\"Subject_Number\"], Subjects[\"Subject_Number\"]), preload=True, verbose=False)\n",
      " 94%|██████████████████████████████████████▌  | 189/201 [00:52<00:03,  3.43it/s]/tmp/ipykernel_72612/4144421588.py:8: RuntimeWarning: Data file name in EEG.data (sub-010307_EC.fdt) is incorrect, the file name must have changed on disk, using the correct file name (sub-032514_EC.fdt).\n",
      "  Subjects[\"prepSignal_EC\"] = mne.io.read_raw_eeglab(\"/workspace/brail_poc3/experiments/Lemon_PreEEGLAB/{}/{}/{}_EC.set\".format(Subjects[\"Subject_Number\"], Subjects[\"Subject_Number\"], Subjects[\"Subject_Number\"]), preload=True, verbose=False)\n",
      "/tmp/ipykernel_72612/4144421588.py:8: RuntimeWarning: Limited 1 annotation(s) that were expanding outside the data range.\n",
      "  Subjects[\"prepSignal_EC\"] = mne.io.read_raw_eeglab(\"/workspace/brail_poc3/experiments/Lemon_PreEEGLAB/{}/{}/{}_EC.set\".format(Subjects[\"Subject_Number\"], Subjects[\"Subject_Number\"], Subjects[\"Subject_Number\"]), preload=True, verbose=False)\n",
      "/tmp/ipykernel_72612/4144421588.py:8: RuntimeWarning: The data contains 'boundary' events, indicating data discontinuities. Be cautious of filtering and epoching around these events.\n",
      "  Subjects[\"prepSignal_EC\"] = mne.io.read_raw_eeglab(\"/workspace/brail_poc3/experiments/Lemon_PreEEGLAB/{}/{}/{}_EC.set\".format(Subjects[\"Subject_Number\"], Subjects[\"Subject_Number\"], Subjects[\"Subject_Number\"]), preload=True, verbose=False)\n",
      "/tmp/ipykernel_72612/4144421588.py:9: RuntimeWarning: Data file name in EEG.data (sub-010307_EO.fdt) is incorrect, the file name must have changed on disk, using the correct file name (sub-032514_EO.fdt).\n",
      "  Subjects[\"prepSignal_EO\"] = mne.io.read_raw_eeglab(\"/workspace/brail_poc3/experiments/Lemon_PreEEGLAB/{}/{}/{}_EO.set\".format(Subjects[\"Subject_Number\"], Subjects[\"Subject_Number\"], Subjects[\"Subject_Number\"]), preload=True, verbose=False)\n"
     ]
    },
    {
     "name": "stdout",
     "output_type": "stream",
     "text": [
      "Subject number: sub-032514\n"
     ]
    },
    {
     "name": "stderr",
     "output_type": "stream",
     "text": [
      "/tmp/ipykernel_72612/4144421588.py:9: RuntimeWarning: Limited 1 annotation(s) that were expanding outside the data range.\n",
      "  Subjects[\"prepSignal_EO\"] = mne.io.read_raw_eeglab(\"/workspace/brail_poc3/experiments/Lemon_PreEEGLAB/{}/{}/{}_EO.set\".format(Subjects[\"Subject_Number\"], Subjects[\"Subject_Number\"], Subjects[\"Subject_Number\"]), preload=True, verbose=False)\n",
      "/tmp/ipykernel_72612/4144421588.py:9: RuntimeWarning: The data contains 'boundary' events, indicating data discontinuities. Be cautious of filtering and epoching around these events.\n",
      "  Subjects[\"prepSignal_EO\"] = mne.io.read_raw_eeglab(\"/workspace/brail_poc3/experiments/Lemon_PreEEGLAB/{}/{}/{}_EO.set\".format(Subjects[\"Subject_Number\"], Subjects[\"Subject_Number\"], Subjects[\"Subject_Number\"]), preload=True, verbose=False)\n",
      " 95%|██████████████████████████████████████▊  | 190/201 [00:52<00:03,  3.41it/s]/tmp/ipykernel_72612/4144421588.py:8: RuntimeWarning: Data file name in EEG.data (sub-010308_EC.fdt) is incorrect, the file name must have changed on disk, using the correct file name (sub-032515_EC.fdt).\n",
      "  Subjects[\"prepSignal_EC\"] = mne.io.read_raw_eeglab(\"/workspace/brail_poc3/experiments/Lemon_PreEEGLAB/{}/{}/{}_EC.set\".format(Subjects[\"Subject_Number\"], Subjects[\"Subject_Number\"], Subjects[\"Subject_Number\"]), preload=True, verbose=False)\n",
      "/tmp/ipykernel_72612/4144421588.py:8: RuntimeWarning: Limited 1 annotation(s) that were expanding outside the data range.\n",
      "  Subjects[\"prepSignal_EC\"] = mne.io.read_raw_eeglab(\"/workspace/brail_poc3/experiments/Lemon_PreEEGLAB/{}/{}/{}_EC.set\".format(Subjects[\"Subject_Number\"], Subjects[\"Subject_Number\"], Subjects[\"Subject_Number\"]), preload=True, verbose=False)\n",
      "/tmp/ipykernel_72612/4144421588.py:8: RuntimeWarning: The data contains 'boundary' events, indicating data discontinuities. Be cautious of filtering and epoching around these events.\n",
      "  Subjects[\"prepSignal_EC\"] = mne.io.read_raw_eeglab(\"/workspace/brail_poc3/experiments/Lemon_PreEEGLAB/{}/{}/{}_EC.set\".format(Subjects[\"Subject_Number\"], Subjects[\"Subject_Number\"], Subjects[\"Subject_Number\"]), preload=True, verbose=False)\n",
      "/tmp/ipykernel_72612/4144421588.py:9: RuntimeWarning: Data file name in EEG.data (sub-010308_EO.fdt) is incorrect, the file name must have changed on disk, using the correct file name (sub-032515_EO.fdt).\n",
      "  Subjects[\"prepSignal_EO\"] = mne.io.read_raw_eeglab(\"/workspace/brail_poc3/experiments/Lemon_PreEEGLAB/{}/{}/{}_EO.set\".format(Subjects[\"Subject_Number\"], Subjects[\"Subject_Number\"], Subjects[\"Subject_Number\"]), preload=True, verbose=False)\n"
     ]
    },
    {
     "name": "stdout",
     "output_type": "stream",
     "text": [
      "Subject number: sub-032515\n"
     ]
    },
    {
     "name": "stderr",
     "output_type": "stream",
     "text": [
      "/tmp/ipykernel_72612/4144421588.py:9: RuntimeWarning: Limited 1 annotation(s) that were expanding outside the data range.\n",
      "  Subjects[\"prepSignal_EO\"] = mne.io.read_raw_eeglab(\"/workspace/brail_poc3/experiments/Lemon_PreEEGLAB/{}/{}/{}_EO.set\".format(Subjects[\"Subject_Number\"], Subjects[\"Subject_Number\"], Subjects[\"Subject_Number\"]), preload=True, verbose=False)\n",
      "/tmp/ipykernel_72612/4144421588.py:9: RuntimeWarning: The data contains 'boundary' events, indicating data discontinuities. Be cautious of filtering and epoching around these events.\n",
      "  Subjects[\"prepSignal_EO\"] = mne.io.read_raw_eeglab(\"/workspace/brail_poc3/experiments/Lemon_PreEEGLAB/{}/{}/{}_EO.set\".format(Subjects[\"Subject_Number\"], Subjects[\"Subject_Number\"], Subjects[\"Subject_Number\"]), preload=True, verbose=False)\n",
      " 95%|██████████████████████████████████████▉  | 191/201 [00:53<00:02,  3.41it/s]/tmp/ipykernel_72612/4144421588.py:8: RuntimeWarning: Data file name in EEG.data (sub-010309_EC.fdt) is incorrect, the file name must have changed on disk, using the correct file name (sub-032516_EC.fdt).\n",
      "  Subjects[\"prepSignal_EC\"] = mne.io.read_raw_eeglab(\"/workspace/brail_poc3/experiments/Lemon_PreEEGLAB/{}/{}/{}_EC.set\".format(Subjects[\"Subject_Number\"], Subjects[\"Subject_Number\"], Subjects[\"Subject_Number\"]), preload=True, verbose=False)\n",
      "/tmp/ipykernel_72612/4144421588.py:8: RuntimeWarning: Limited 1 annotation(s) that were expanding outside the data range.\n",
      "  Subjects[\"prepSignal_EC\"] = mne.io.read_raw_eeglab(\"/workspace/brail_poc3/experiments/Lemon_PreEEGLAB/{}/{}/{}_EC.set\".format(Subjects[\"Subject_Number\"], Subjects[\"Subject_Number\"], Subjects[\"Subject_Number\"]), preload=True, verbose=False)\n",
      "/tmp/ipykernel_72612/4144421588.py:8: RuntimeWarning: The data contains 'boundary' events, indicating data discontinuities. Be cautious of filtering and epoching around these events.\n",
      "  Subjects[\"prepSignal_EC\"] = mne.io.read_raw_eeglab(\"/workspace/brail_poc3/experiments/Lemon_PreEEGLAB/{}/{}/{}_EC.set\".format(Subjects[\"Subject_Number\"], Subjects[\"Subject_Number\"], Subjects[\"Subject_Number\"]), preload=True, verbose=False)\n",
      "/tmp/ipykernel_72612/4144421588.py:9: RuntimeWarning: Data file name in EEG.data (sub-010309_EO.fdt) is incorrect, the file name must have changed on disk, using the correct file name (sub-032516_EO.fdt).\n",
      "  Subjects[\"prepSignal_EO\"] = mne.io.read_raw_eeglab(\"/workspace/brail_poc3/experiments/Lemon_PreEEGLAB/{}/{}/{}_EO.set\".format(Subjects[\"Subject_Number\"], Subjects[\"Subject_Number\"], Subjects[\"Subject_Number\"]), preload=True, verbose=False)\n"
     ]
    },
    {
     "name": "stdout",
     "output_type": "stream",
     "text": [
      "Subject number: sub-032516\n"
     ]
    },
    {
     "name": "stderr",
     "output_type": "stream",
     "text": [
      "/tmp/ipykernel_72612/4144421588.py:9: RuntimeWarning: Limited 1 annotation(s) that were expanding outside the data range.\n",
      "  Subjects[\"prepSignal_EO\"] = mne.io.read_raw_eeglab(\"/workspace/brail_poc3/experiments/Lemon_PreEEGLAB/{}/{}/{}_EO.set\".format(Subjects[\"Subject_Number\"], Subjects[\"Subject_Number\"], Subjects[\"Subject_Number\"]), preload=True, verbose=False)\n",
      "/tmp/ipykernel_72612/4144421588.py:9: RuntimeWarning: The data contains 'boundary' events, indicating data discontinuities. Be cautious of filtering and epoching around these events.\n",
      "  Subjects[\"prepSignal_EO\"] = mne.io.read_raw_eeglab(\"/workspace/brail_poc3/experiments/Lemon_PreEEGLAB/{}/{}/{}_EO.set\".format(Subjects[\"Subject_Number\"], Subjects[\"Subject_Number\"], Subjects[\"Subject_Number\"]), preload=True, verbose=False)\n",
      " 96%|███████████████████████████████████████▏ | 192/201 [00:53<00:02,  3.43it/s]/tmp/ipykernel_72612/4144421588.py:8: RuntimeWarning: Data file name in EEG.data (sub-010310_EC.fdt) is incorrect, the file name must have changed on disk, using the correct file name (sub-032517_EC.fdt).\n",
      "  Subjects[\"prepSignal_EC\"] = mne.io.read_raw_eeglab(\"/workspace/brail_poc3/experiments/Lemon_PreEEGLAB/{}/{}/{}_EC.set\".format(Subjects[\"Subject_Number\"], Subjects[\"Subject_Number\"], Subjects[\"Subject_Number\"]), preload=True, verbose=False)\n",
      "/tmp/ipykernel_72612/4144421588.py:8: RuntimeWarning: Limited 1 annotation(s) that were expanding outside the data range.\n",
      "  Subjects[\"prepSignal_EC\"] = mne.io.read_raw_eeglab(\"/workspace/brail_poc3/experiments/Lemon_PreEEGLAB/{}/{}/{}_EC.set\".format(Subjects[\"Subject_Number\"], Subjects[\"Subject_Number\"], Subjects[\"Subject_Number\"]), preload=True, verbose=False)\n",
      "/tmp/ipykernel_72612/4144421588.py:8: RuntimeWarning: The data contains 'boundary' events, indicating data discontinuities. Be cautious of filtering and epoching around these events.\n",
      "  Subjects[\"prepSignal_EC\"] = mne.io.read_raw_eeglab(\"/workspace/brail_poc3/experiments/Lemon_PreEEGLAB/{}/{}/{}_EC.set\".format(Subjects[\"Subject_Number\"], Subjects[\"Subject_Number\"], Subjects[\"Subject_Number\"]), preload=True, verbose=False)\n",
      "/tmp/ipykernel_72612/4144421588.py:9: RuntimeWarning: Data file name in EEG.data (sub-010310_EO.fdt) is incorrect, the file name must have changed on disk, using the correct file name (sub-032517_EO.fdt).\n",
      "  Subjects[\"prepSignal_EO\"] = mne.io.read_raw_eeglab(\"/workspace/brail_poc3/experiments/Lemon_PreEEGLAB/{}/{}/{}_EO.set\".format(Subjects[\"Subject_Number\"], Subjects[\"Subject_Number\"], Subjects[\"Subject_Number\"]), preload=True, verbose=False)\n"
     ]
    },
    {
     "name": "stdout",
     "output_type": "stream",
     "text": [
      "Subject number: sub-032517\n"
     ]
    },
    {
     "name": "stderr",
     "output_type": "stream",
     "text": [
      "/tmp/ipykernel_72612/4144421588.py:9: RuntimeWarning: Limited 1 annotation(s) that were expanding outside the data range.\n",
      "  Subjects[\"prepSignal_EO\"] = mne.io.read_raw_eeglab(\"/workspace/brail_poc3/experiments/Lemon_PreEEGLAB/{}/{}/{}_EO.set\".format(Subjects[\"Subject_Number\"], Subjects[\"Subject_Number\"], Subjects[\"Subject_Number\"]), preload=True, verbose=False)\n",
      "/tmp/ipykernel_72612/4144421588.py:9: RuntimeWarning: The data contains 'boundary' events, indicating data discontinuities. Be cautious of filtering and epoching around these events.\n",
      "  Subjects[\"prepSignal_EO\"] = mne.io.read_raw_eeglab(\"/workspace/brail_poc3/experiments/Lemon_PreEEGLAB/{}/{}/{}_EO.set\".format(Subjects[\"Subject_Number\"], Subjects[\"Subject_Number\"], Subjects[\"Subject_Number\"]), preload=True, verbose=False)\n",
      " 96%|███████████████████████████████████████▎ | 193/201 [00:53<00:02,  3.45it/s]/tmp/ipykernel_72612/4144421588.py:8: RuntimeWarning: Data file name in EEG.data (sub-010311_EC.fdt) is incorrect, the file name must have changed on disk, using the correct file name (sub-032518_EC.fdt).\n",
      "  Subjects[\"prepSignal_EC\"] = mne.io.read_raw_eeglab(\"/workspace/brail_poc3/experiments/Lemon_PreEEGLAB/{}/{}/{}_EC.set\".format(Subjects[\"Subject_Number\"], Subjects[\"Subject_Number\"], Subjects[\"Subject_Number\"]), preload=True, verbose=False)\n",
      "/tmp/ipykernel_72612/4144421588.py:8: RuntimeWarning: Limited 1 annotation(s) that were expanding outside the data range.\n",
      "  Subjects[\"prepSignal_EC\"] = mne.io.read_raw_eeglab(\"/workspace/brail_poc3/experiments/Lemon_PreEEGLAB/{}/{}/{}_EC.set\".format(Subjects[\"Subject_Number\"], Subjects[\"Subject_Number\"], Subjects[\"Subject_Number\"]), preload=True, verbose=False)\n",
      "/tmp/ipykernel_72612/4144421588.py:8: RuntimeWarning: The data contains 'boundary' events, indicating data discontinuities. Be cautious of filtering and epoching around these events.\n",
      "  Subjects[\"prepSignal_EC\"] = mne.io.read_raw_eeglab(\"/workspace/brail_poc3/experiments/Lemon_PreEEGLAB/{}/{}/{}_EC.set\".format(Subjects[\"Subject_Number\"], Subjects[\"Subject_Number\"], Subjects[\"Subject_Number\"]), preload=True, verbose=False)\n",
      "/tmp/ipykernel_72612/4144421588.py:9: RuntimeWarning: Data file name in EEG.data (sub-010311_EO.fdt) is incorrect, the file name must have changed on disk, using the correct file name (sub-032518_EO.fdt).\n",
      "  Subjects[\"prepSignal_EO\"] = mne.io.read_raw_eeglab(\"/workspace/brail_poc3/experiments/Lemon_PreEEGLAB/{}/{}/{}_EO.set\".format(Subjects[\"Subject_Number\"], Subjects[\"Subject_Number\"], Subjects[\"Subject_Number\"]), preload=True, verbose=False)\n"
     ]
    },
    {
     "name": "stdout",
     "output_type": "stream",
     "text": [
      "Subject number: sub-032518\n"
     ]
    },
    {
     "name": "stderr",
     "output_type": "stream",
     "text": [
      "/tmp/ipykernel_72612/4144421588.py:9: RuntimeWarning: Limited 1 annotation(s) that were expanding outside the data range.\n",
      "  Subjects[\"prepSignal_EO\"] = mne.io.read_raw_eeglab(\"/workspace/brail_poc3/experiments/Lemon_PreEEGLAB/{}/{}/{}_EO.set\".format(Subjects[\"Subject_Number\"], Subjects[\"Subject_Number\"], Subjects[\"Subject_Number\"]), preload=True, verbose=False)\n",
      "/tmp/ipykernel_72612/4144421588.py:9: RuntimeWarning: The data contains 'boundary' events, indicating data discontinuities. Be cautious of filtering and epoching around these events.\n",
      "  Subjects[\"prepSignal_EO\"] = mne.io.read_raw_eeglab(\"/workspace/brail_poc3/experiments/Lemon_PreEEGLAB/{}/{}/{}_EO.set\".format(Subjects[\"Subject_Number\"], Subjects[\"Subject_Number\"], Subjects[\"Subject_Number\"]), preload=True, verbose=False)\n",
      " 97%|███████████████████████████████████████▌ | 194/201 [00:53<00:02,  3.49it/s]/tmp/ipykernel_72612/4144421588.py:8: RuntimeWarning: Data file name in EEG.data (sub-010314_EC.fdt) is incorrect, the file name must have changed on disk, using the correct file name (sub-032521_EC.fdt).\n",
      "  Subjects[\"prepSignal_EC\"] = mne.io.read_raw_eeglab(\"/workspace/brail_poc3/experiments/Lemon_PreEEGLAB/{}/{}/{}_EC.set\".format(Subjects[\"Subject_Number\"], Subjects[\"Subject_Number\"], Subjects[\"Subject_Number\"]), preload=True, verbose=False)\n",
      "/tmp/ipykernel_72612/4144421588.py:8: RuntimeWarning: Limited 1 annotation(s) that were expanding outside the data range.\n",
      "  Subjects[\"prepSignal_EC\"] = mne.io.read_raw_eeglab(\"/workspace/brail_poc3/experiments/Lemon_PreEEGLAB/{}/{}/{}_EC.set\".format(Subjects[\"Subject_Number\"], Subjects[\"Subject_Number\"], Subjects[\"Subject_Number\"]), preload=True, verbose=False)\n",
      "/tmp/ipykernel_72612/4144421588.py:8: RuntimeWarning: The data contains 'boundary' events, indicating data discontinuities. Be cautious of filtering and epoching around these events.\n",
      "  Subjects[\"prepSignal_EC\"] = mne.io.read_raw_eeglab(\"/workspace/brail_poc3/experiments/Lemon_PreEEGLAB/{}/{}/{}_EC.set\".format(Subjects[\"Subject_Number\"], Subjects[\"Subject_Number\"], Subjects[\"Subject_Number\"]), preload=True, verbose=False)\n",
      "/tmp/ipykernel_72612/4144421588.py:9: RuntimeWarning: Data file name in EEG.data (sub-010314_EO.fdt) is incorrect, the file name must have changed on disk, using the correct file name (sub-032521_EO.fdt).\n",
      "  Subjects[\"prepSignal_EO\"] = mne.io.read_raw_eeglab(\"/workspace/brail_poc3/experiments/Lemon_PreEEGLAB/{}/{}/{}_EO.set\".format(Subjects[\"Subject_Number\"], Subjects[\"Subject_Number\"], Subjects[\"Subject_Number\"]), preload=True, verbose=False)\n"
     ]
    },
    {
     "name": "stdout",
     "output_type": "stream",
     "text": [
      "Subject number: sub-032521\n"
     ]
    },
    {
     "name": "stderr",
     "output_type": "stream",
     "text": [
      "/tmp/ipykernel_72612/4144421588.py:9: RuntimeWarning: Limited 1 annotation(s) that were expanding outside the data range.\n",
      "  Subjects[\"prepSignal_EO\"] = mne.io.read_raw_eeglab(\"/workspace/brail_poc3/experiments/Lemon_PreEEGLAB/{}/{}/{}_EO.set\".format(Subjects[\"Subject_Number\"], Subjects[\"Subject_Number\"], Subjects[\"Subject_Number\"]), preload=True, verbose=False)\n",
      "/tmp/ipykernel_72612/4144421588.py:9: RuntimeWarning: The data contains 'boundary' events, indicating data discontinuities. Be cautious of filtering and epoching around these events.\n",
      "  Subjects[\"prepSignal_EO\"] = mne.io.read_raw_eeglab(\"/workspace/brail_poc3/experiments/Lemon_PreEEGLAB/{}/{}/{}_EO.set\".format(Subjects[\"Subject_Number\"], Subjects[\"Subject_Number\"], Subjects[\"Subject_Number\"]), preload=True, verbose=False)\n",
      " 97%|███████████████████████████████████████▊ | 195/201 [00:54<00:01,  3.49it/s]/tmp/ipykernel_72612/4144421588.py:8: RuntimeWarning: Data file name in EEG.data (sub-010315_EC.fdt) is incorrect, the file name must have changed on disk, using the correct file name (sub-032522_EC.fdt).\n",
      "  Subjects[\"prepSignal_EC\"] = mne.io.read_raw_eeglab(\"/workspace/brail_poc3/experiments/Lemon_PreEEGLAB/{}/{}/{}_EC.set\".format(Subjects[\"Subject_Number\"], Subjects[\"Subject_Number\"], Subjects[\"Subject_Number\"]), preload=True, verbose=False)\n",
      "/tmp/ipykernel_72612/4144421588.py:8: RuntimeWarning: Limited 1 annotation(s) that were expanding outside the data range.\n",
      "  Subjects[\"prepSignal_EC\"] = mne.io.read_raw_eeglab(\"/workspace/brail_poc3/experiments/Lemon_PreEEGLAB/{}/{}/{}_EC.set\".format(Subjects[\"Subject_Number\"], Subjects[\"Subject_Number\"], Subjects[\"Subject_Number\"]), preload=True, verbose=False)\n",
      "/tmp/ipykernel_72612/4144421588.py:8: RuntimeWarning: The data contains 'boundary' events, indicating data discontinuities. Be cautious of filtering and epoching around these events.\n",
      "  Subjects[\"prepSignal_EC\"] = mne.io.read_raw_eeglab(\"/workspace/brail_poc3/experiments/Lemon_PreEEGLAB/{}/{}/{}_EC.set\".format(Subjects[\"Subject_Number\"], Subjects[\"Subject_Number\"], Subjects[\"Subject_Number\"]), preload=True, verbose=False)\n",
      "/tmp/ipykernel_72612/4144421588.py:9: RuntimeWarning: Data file name in EEG.data (sub-010315_EO.fdt) is incorrect, the file name must have changed on disk, using the correct file name (sub-032522_EO.fdt).\n",
      "  Subjects[\"prepSignal_EO\"] = mne.io.read_raw_eeglab(\"/workspace/brail_poc3/experiments/Lemon_PreEEGLAB/{}/{}/{}_EO.set\".format(Subjects[\"Subject_Number\"], Subjects[\"Subject_Number\"], Subjects[\"Subject_Number\"]), preload=True, verbose=False)\n"
     ]
    },
    {
     "name": "stdout",
     "output_type": "stream",
     "text": [
      "Subject number: sub-032522\n"
     ]
    },
    {
     "name": "stderr",
     "output_type": "stream",
     "text": [
      "/tmp/ipykernel_72612/4144421588.py:9: RuntimeWarning: Limited 1 annotation(s) that were expanding outside the data range.\n",
      "  Subjects[\"prepSignal_EO\"] = mne.io.read_raw_eeglab(\"/workspace/brail_poc3/experiments/Lemon_PreEEGLAB/{}/{}/{}_EO.set\".format(Subjects[\"Subject_Number\"], Subjects[\"Subject_Number\"], Subjects[\"Subject_Number\"]), preload=True, verbose=False)\n",
      "/tmp/ipykernel_72612/4144421588.py:9: RuntimeWarning: The data contains 'boundary' events, indicating data discontinuities. Be cautious of filtering and epoching around these events.\n",
      "  Subjects[\"prepSignal_EO\"] = mne.io.read_raw_eeglab(\"/workspace/brail_poc3/experiments/Lemon_PreEEGLAB/{}/{}/{}_EO.set\".format(Subjects[\"Subject_Number\"], Subjects[\"Subject_Number\"], Subjects[\"Subject_Number\"]), preload=True, verbose=False)\n",
      " 98%|███████████████████████████████████████▉ | 196/201 [00:54<00:01,  3.50it/s]/tmp/ipykernel_72612/4144421588.py:8: RuntimeWarning: Data file name in EEG.data (sub-010316_EC.fdt) is incorrect, the file name must have changed on disk, using the correct file name (sub-032523_EC.fdt).\n",
      "  Subjects[\"prepSignal_EC\"] = mne.io.read_raw_eeglab(\"/workspace/brail_poc3/experiments/Lemon_PreEEGLAB/{}/{}/{}_EC.set\".format(Subjects[\"Subject_Number\"], Subjects[\"Subject_Number\"], Subjects[\"Subject_Number\"]), preload=True, verbose=False)\n",
      "/tmp/ipykernel_72612/4144421588.py:8: RuntimeWarning: Limited 1 annotation(s) that were expanding outside the data range.\n",
      "  Subjects[\"prepSignal_EC\"] = mne.io.read_raw_eeglab(\"/workspace/brail_poc3/experiments/Lemon_PreEEGLAB/{}/{}/{}_EC.set\".format(Subjects[\"Subject_Number\"], Subjects[\"Subject_Number\"], Subjects[\"Subject_Number\"]), preload=True, verbose=False)\n",
      "/tmp/ipykernel_72612/4144421588.py:8: RuntimeWarning: The data contains 'boundary' events, indicating data discontinuities. Be cautious of filtering and epoching around these events.\n",
      "  Subjects[\"prepSignal_EC\"] = mne.io.read_raw_eeglab(\"/workspace/brail_poc3/experiments/Lemon_PreEEGLAB/{}/{}/{}_EC.set\".format(Subjects[\"Subject_Number\"], Subjects[\"Subject_Number\"], Subjects[\"Subject_Number\"]), preload=True, verbose=False)\n",
      "/tmp/ipykernel_72612/4144421588.py:9: RuntimeWarning: Data file name in EEG.data (sub-010316_EO.fdt) is incorrect, the file name must have changed on disk, using the correct file name (sub-032523_EO.fdt).\n",
      "  Subjects[\"prepSignal_EO\"] = mne.io.read_raw_eeglab(\"/workspace/brail_poc3/experiments/Lemon_PreEEGLAB/{}/{}/{}_EO.set\".format(Subjects[\"Subject_Number\"], Subjects[\"Subject_Number\"], Subjects[\"Subject_Number\"]), preload=True, verbose=False)\n"
     ]
    },
    {
     "name": "stdout",
     "output_type": "stream",
     "text": [
      "Subject number: sub-032523\n"
     ]
    },
    {
     "name": "stderr",
     "output_type": "stream",
     "text": [
      "/tmp/ipykernel_72612/4144421588.py:9: RuntimeWarning: Limited 1 annotation(s) that were expanding outside the data range.\n",
      "  Subjects[\"prepSignal_EO\"] = mne.io.read_raw_eeglab(\"/workspace/brail_poc3/experiments/Lemon_PreEEGLAB/{}/{}/{}_EO.set\".format(Subjects[\"Subject_Number\"], Subjects[\"Subject_Number\"], Subjects[\"Subject_Number\"]), preload=True, verbose=False)\n",
      "/tmp/ipykernel_72612/4144421588.py:9: RuntimeWarning: The data contains 'boundary' events, indicating data discontinuities. Be cautious of filtering and epoching around these events.\n",
      "  Subjects[\"prepSignal_EO\"] = mne.io.read_raw_eeglab(\"/workspace/brail_poc3/experiments/Lemon_PreEEGLAB/{}/{}/{}_EO.set\".format(Subjects[\"Subject_Number\"], Subjects[\"Subject_Number\"], Subjects[\"Subject_Number\"]), preload=True, verbose=False)\n",
      " 98%|████████████████████████████████████████▏| 197/201 [00:54<00:01,  3.50it/s]/tmp/ipykernel_72612/4144421588.py:8: RuntimeWarning: Data file name in EEG.data (sub-010317_EC.fdt) is incorrect, the file name must have changed on disk, using the correct file name (sub-032524_EC.fdt).\n",
      "  Subjects[\"prepSignal_EC\"] = mne.io.read_raw_eeglab(\"/workspace/brail_poc3/experiments/Lemon_PreEEGLAB/{}/{}/{}_EC.set\".format(Subjects[\"Subject_Number\"], Subjects[\"Subject_Number\"], Subjects[\"Subject_Number\"]), preload=True, verbose=False)\n",
      "/tmp/ipykernel_72612/4144421588.py:8: RuntimeWarning: Limited 1 annotation(s) that were expanding outside the data range.\n",
      "  Subjects[\"prepSignal_EC\"] = mne.io.read_raw_eeglab(\"/workspace/brail_poc3/experiments/Lemon_PreEEGLAB/{}/{}/{}_EC.set\".format(Subjects[\"Subject_Number\"], Subjects[\"Subject_Number\"], Subjects[\"Subject_Number\"]), preload=True, verbose=False)\n",
      "/tmp/ipykernel_72612/4144421588.py:8: RuntimeWarning: The data contains 'boundary' events, indicating data discontinuities. Be cautious of filtering and epoching around these events.\n",
      "  Subjects[\"prepSignal_EC\"] = mne.io.read_raw_eeglab(\"/workspace/brail_poc3/experiments/Lemon_PreEEGLAB/{}/{}/{}_EC.set\".format(Subjects[\"Subject_Number\"], Subjects[\"Subject_Number\"], Subjects[\"Subject_Number\"]), preload=True, verbose=False)\n",
      "/tmp/ipykernel_72612/4144421588.py:9: RuntimeWarning: Data file name in EEG.data (sub-010317_EO.fdt) is incorrect, the file name must have changed on disk, using the correct file name (sub-032524_EO.fdt).\n",
      "  Subjects[\"prepSignal_EO\"] = mne.io.read_raw_eeglab(\"/workspace/brail_poc3/experiments/Lemon_PreEEGLAB/{}/{}/{}_EO.set\".format(Subjects[\"Subject_Number\"], Subjects[\"Subject_Number\"], Subjects[\"Subject_Number\"]), preload=True, verbose=False)\n"
     ]
    },
    {
     "name": "stdout",
     "output_type": "stream",
     "text": [
      "Subject number: sub-032524\n"
     ]
    },
    {
     "name": "stderr",
     "output_type": "stream",
     "text": [
      "/tmp/ipykernel_72612/4144421588.py:9: RuntimeWarning: Limited 1 annotation(s) that were expanding outside the data range.\n",
      "  Subjects[\"prepSignal_EO\"] = mne.io.read_raw_eeglab(\"/workspace/brail_poc3/experiments/Lemon_PreEEGLAB/{}/{}/{}_EO.set\".format(Subjects[\"Subject_Number\"], Subjects[\"Subject_Number\"], Subjects[\"Subject_Number\"]), preload=True, verbose=False)\n",
      "/tmp/ipykernel_72612/4144421588.py:9: RuntimeWarning: The data contains 'boundary' events, indicating data discontinuities. Be cautious of filtering and epoching around these events.\n",
      "  Subjects[\"prepSignal_EO\"] = mne.io.read_raw_eeglab(\"/workspace/brail_poc3/experiments/Lemon_PreEEGLAB/{}/{}/{}_EO.set\".format(Subjects[\"Subject_Number\"], Subjects[\"Subject_Number\"], Subjects[\"Subject_Number\"]), preload=True, verbose=False)\n",
      " 99%|████████████████████████████████████████▍| 198/201 [00:54<00:00,  3.52it/s]/tmp/ipykernel_72612/4144421588.py:8: RuntimeWarning: Data file name in EEG.data (sub-010318_EC.fdt) is incorrect, the file name must have changed on disk, using the correct file name (sub-032525_EC.fdt).\n",
      "  Subjects[\"prepSignal_EC\"] = mne.io.read_raw_eeglab(\"/workspace/brail_poc3/experiments/Lemon_PreEEGLAB/{}/{}/{}_EC.set\".format(Subjects[\"Subject_Number\"], Subjects[\"Subject_Number\"], Subjects[\"Subject_Number\"]), preload=True, verbose=False)\n",
      "/tmp/ipykernel_72612/4144421588.py:8: RuntimeWarning: Limited 1 annotation(s) that were expanding outside the data range.\n",
      "  Subjects[\"prepSignal_EC\"] = mne.io.read_raw_eeglab(\"/workspace/brail_poc3/experiments/Lemon_PreEEGLAB/{}/{}/{}_EC.set\".format(Subjects[\"Subject_Number\"], Subjects[\"Subject_Number\"], Subjects[\"Subject_Number\"]), preload=True, verbose=False)\n",
      "/tmp/ipykernel_72612/4144421588.py:8: RuntimeWarning: The data contains 'boundary' events, indicating data discontinuities. Be cautious of filtering and epoching around these events.\n",
      "  Subjects[\"prepSignal_EC\"] = mne.io.read_raw_eeglab(\"/workspace/brail_poc3/experiments/Lemon_PreEEGLAB/{}/{}/{}_EC.set\".format(Subjects[\"Subject_Number\"], Subjects[\"Subject_Number\"], Subjects[\"Subject_Number\"]), preload=True, verbose=False)\n",
      "/tmp/ipykernel_72612/4144421588.py:9: RuntimeWarning: Data file name in EEG.data (sub-010318_EO.fdt) is incorrect, the file name must have changed on disk, using the correct file name (sub-032525_EO.fdt).\n",
      "  Subjects[\"prepSignal_EO\"] = mne.io.read_raw_eeglab(\"/workspace/brail_poc3/experiments/Lemon_PreEEGLAB/{}/{}/{}_EO.set\".format(Subjects[\"Subject_Number\"], Subjects[\"Subject_Number\"], Subjects[\"Subject_Number\"]), preload=True, verbose=False)\n"
     ]
    },
    {
     "name": "stdout",
     "output_type": "stream",
     "text": [
      "Subject number: sub-032525\n"
     ]
    },
    {
     "name": "stderr",
     "output_type": "stream",
     "text": [
      "/tmp/ipykernel_72612/4144421588.py:9: RuntimeWarning: Limited 1 annotation(s) that were expanding outside the data range.\n",
      "  Subjects[\"prepSignal_EO\"] = mne.io.read_raw_eeglab(\"/workspace/brail_poc3/experiments/Lemon_PreEEGLAB/{}/{}/{}_EO.set\".format(Subjects[\"Subject_Number\"], Subjects[\"Subject_Number\"], Subjects[\"Subject_Number\"]), preload=True, verbose=False)\n",
      "/tmp/ipykernel_72612/4144421588.py:9: RuntimeWarning: The data contains 'boundary' events, indicating data discontinuities. Be cautious of filtering and epoching around these events.\n",
      "  Subjects[\"prepSignal_EO\"] = mne.io.read_raw_eeglab(\"/workspace/brail_poc3/experiments/Lemon_PreEEGLAB/{}/{}/{}_EO.set\".format(Subjects[\"Subject_Number\"], Subjects[\"Subject_Number\"], Subjects[\"Subject_Number\"]), preload=True, verbose=False)\n",
      " 99%|████████████████████████████████████████▌| 199/201 [00:55<00:00,  3.47it/s]/tmp/ipykernel_72612/4144421588.py:8: RuntimeWarning: Data file name in EEG.data (sub-010319_EC.fdt) is incorrect, the file name must have changed on disk, using the correct file name (sub-032526_EC.fdt).\n",
      "  Subjects[\"prepSignal_EC\"] = mne.io.read_raw_eeglab(\"/workspace/brail_poc3/experiments/Lemon_PreEEGLAB/{}/{}/{}_EC.set\".format(Subjects[\"Subject_Number\"], Subjects[\"Subject_Number\"], Subjects[\"Subject_Number\"]), preload=True, verbose=False)\n",
      "/tmp/ipykernel_72612/4144421588.py:8: RuntimeWarning: Limited 1 annotation(s) that were expanding outside the data range.\n",
      "  Subjects[\"prepSignal_EC\"] = mne.io.read_raw_eeglab(\"/workspace/brail_poc3/experiments/Lemon_PreEEGLAB/{}/{}/{}_EC.set\".format(Subjects[\"Subject_Number\"], Subjects[\"Subject_Number\"], Subjects[\"Subject_Number\"]), preload=True, verbose=False)\n",
      "/tmp/ipykernel_72612/4144421588.py:8: RuntimeWarning: The data contains 'boundary' events, indicating data discontinuities. Be cautious of filtering and epoching around these events.\n",
      "  Subjects[\"prepSignal_EC\"] = mne.io.read_raw_eeglab(\"/workspace/brail_poc3/experiments/Lemon_PreEEGLAB/{}/{}/{}_EC.set\".format(Subjects[\"Subject_Number\"], Subjects[\"Subject_Number\"], Subjects[\"Subject_Number\"]), preload=True, verbose=False)\n",
      "/tmp/ipykernel_72612/4144421588.py:9: RuntimeWarning: Data file name in EEG.data (sub-010319_EO.fdt) is incorrect, the file name must have changed on disk, using the correct file name (sub-032526_EO.fdt).\n",
      "  Subjects[\"prepSignal_EO\"] = mne.io.read_raw_eeglab(\"/workspace/brail_poc3/experiments/Lemon_PreEEGLAB/{}/{}/{}_EO.set\".format(Subjects[\"Subject_Number\"], Subjects[\"Subject_Number\"], Subjects[\"Subject_Number\"]), preload=True, verbose=False)\n"
     ]
    },
    {
     "name": "stdout",
     "output_type": "stream",
     "text": [
      "Subject number: sub-032526\n"
     ]
    },
    {
     "name": "stderr",
     "output_type": "stream",
     "text": [
      "/tmp/ipykernel_72612/4144421588.py:9: RuntimeWarning: Limited 1 annotation(s) that were expanding outside the data range.\n",
      "  Subjects[\"prepSignal_EO\"] = mne.io.read_raw_eeglab(\"/workspace/brail_poc3/experiments/Lemon_PreEEGLAB/{}/{}/{}_EO.set\".format(Subjects[\"Subject_Number\"], Subjects[\"Subject_Number\"], Subjects[\"Subject_Number\"]), preload=True, verbose=False)\n",
      "/tmp/ipykernel_72612/4144421588.py:9: RuntimeWarning: The data contains 'boundary' events, indicating data discontinuities. Be cautious of filtering and epoching around these events.\n",
      "  Subjects[\"prepSignal_EO\"] = mne.io.read_raw_eeglab(\"/workspace/brail_poc3/experiments/Lemon_PreEEGLAB/{}/{}/{}_EO.set\".format(Subjects[\"Subject_Number\"], Subjects[\"Subject_Number\"], Subjects[\"Subject_Number\"]), preload=True, verbose=False)\n",
      "100%|████████████████████████████████████████▊| 200/201 [00:55<00:00,  3.40it/s]/tmp/ipykernel_72612/4144421588.py:8: RuntimeWarning: Data file name in EEG.data (sub-010321_EC.fdt) is incorrect, the file name must have changed on disk, using the correct file name (sub-032528_EC.fdt).\n",
      "  Subjects[\"prepSignal_EC\"] = mne.io.read_raw_eeglab(\"/workspace/brail_poc3/experiments/Lemon_PreEEGLAB/{}/{}/{}_EC.set\".format(Subjects[\"Subject_Number\"], Subjects[\"Subject_Number\"], Subjects[\"Subject_Number\"]), preload=True, verbose=False)\n",
      "/tmp/ipykernel_72612/4144421588.py:8: RuntimeWarning: Limited 1 annotation(s) that were expanding outside the data range.\n",
      "  Subjects[\"prepSignal_EC\"] = mne.io.read_raw_eeglab(\"/workspace/brail_poc3/experiments/Lemon_PreEEGLAB/{}/{}/{}_EC.set\".format(Subjects[\"Subject_Number\"], Subjects[\"Subject_Number\"], Subjects[\"Subject_Number\"]), preload=True, verbose=False)\n",
      "/tmp/ipykernel_72612/4144421588.py:8: RuntimeWarning: The data contains 'boundary' events, indicating data discontinuities. Be cautious of filtering and epoching around these events.\n",
      "  Subjects[\"prepSignal_EC\"] = mne.io.read_raw_eeglab(\"/workspace/brail_poc3/experiments/Lemon_PreEEGLAB/{}/{}/{}_EC.set\".format(Subjects[\"Subject_Number\"], Subjects[\"Subject_Number\"], Subjects[\"Subject_Number\"]), preload=True, verbose=False)\n",
      "/tmp/ipykernel_72612/4144421588.py:9: RuntimeWarning: Data file name in EEG.data (sub-010321_EO.fdt) is incorrect, the file name must have changed on disk, using the correct file name (sub-032528_EO.fdt).\n",
      "  Subjects[\"prepSignal_EO\"] = mne.io.read_raw_eeglab(\"/workspace/brail_poc3/experiments/Lemon_PreEEGLAB/{}/{}/{}_EO.set\".format(Subjects[\"Subject_Number\"], Subjects[\"Subject_Number\"], Subjects[\"Subject_Number\"]), preload=True, verbose=False)\n"
     ]
    },
    {
     "name": "stdout",
     "output_type": "stream",
     "text": [
      "Subject number: sub-032528\n"
     ]
    },
    {
     "name": "stderr",
     "output_type": "stream",
     "text": [
      "/tmp/ipykernel_72612/4144421588.py:9: RuntimeWarning: Limited 1 annotation(s) that were expanding outside the data range.\n",
      "  Subjects[\"prepSignal_EO\"] = mne.io.read_raw_eeglab(\"/workspace/brail_poc3/experiments/Lemon_PreEEGLAB/{}/{}/{}_EO.set\".format(Subjects[\"Subject_Number\"], Subjects[\"Subject_Number\"], Subjects[\"Subject_Number\"]), preload=True, verbose=False)\n",
      "/tmp/ipykernel_72612/4144421588.py:9: RuntimeWarning: The data contains 'boundary' events, indicating data discontinuities. Be cautious of filtering and epoching around these events.\n",
      "  Subjects[\"prepSignal_EO\"] = mne.io.read_raw_eeglab(\"/workspace/brail_poc3/experiments/Lemon_PreEEGLAB/{}/{}/{}_EO.set\".format(Subjects[\"Subject_Number\"], Subjects[\"Subject_Number\"], Subjects[\"Subject_Number\"]), preload=True, verbose=False)\n",
      "100%|█████████████████████████████████████████| 201/201 [00:55<00:00,  3.60it/s]\n"
     ]
    }
   ],
   "source": [
    "def ReadFile():\n",
    "    EEG = []\n",
    "    MetaData = pd.read_csv('/workspace/brail_poc3/experiments/Behavioural_Data_MPILMBB_LEMON/META_File_IDs_Age_Gender_Education_Drug_Smoke_SKID_LEMON.csv')\n",
    "    for path in tqdm(sorted(glob.glob(\"/workspace/brail_poc3/experiments/Lemon_PreEEGLAB/*\"))):\n",
    "        print(\"Subject number:\", path.split('/')[-1])\n",
    "        Subjects = {}\n",
    "        Subjects[\"Subject_Number\"] = path.split('/')[-1]\n",
    "        Subjects[\"prepSignal_EC\"] = mne.io.read_raw_eeglab(\"/workspace/brail_poc3/experiments/Lemon_PreEEGLAB/{}/{}/{}_EC.set\".format(Subjects[\"Subject_Number\"], Subjects[\"Subject_Number\"], Subjects[\"Subject_Number\"]), preload=True, verbose=False)\n",
    "        Subjects[\"prepSignal_EO\"] = mne.io.read_raw_eeglab(\"/workspace/brail_poc3/experiments/Lemon_PreEEGLAB/{}/{}/{}_EO.set\".format(Subjects[\"Subject_Number\"], Subjects[\"Subject_Number\"], Subjects[\"Subject_Number\"]), preload=True, verbose=False)\n",
    "        Subjects[\"Age\"] = MetaData[MetaData['Subject'] == Subjects[\"Subject_Number\"]].iloc[0,2]\n",
    "        Subjects[\"Age_Number\"] = int(Subjects[\"Age\"].split('-')[0])\n",
    "        EEG.append(Subjects)\n",
    "    return EEG\n",
    "\n",
    "EEG = ReadFile()"
   ]
  },
  {
   "cell_type": "code",
   "execution_count": 26,
   "id": "1f121f0e",
   "metadata": {},
   "outputs": [
    {
     "name": "stdout",
     "output_type": "stream",
     "text": [
      "------------------------------------------------\n",
      "Splite EEG to epoches\n"
     ]
    },
    {
     "name": "stderr",
     "output_type": "stream",
     "text": [
      "100%|███████████████████████████████████████████████████████████████████████████████████████████████████████████| 201/201 [00:47<00:00,  4.22it/s]\n"
     ]
    },
    {
     "name": "stdout",
     "output_type": "stream",
     "text": [
      "[[<RawEEGLAB | sub-032301_EC.fdt, 59 x 14501 (58.0 s), ~6.6 MB, data loaded>, <RawEEGLAB | sub-032301_EC.fdt, 59 x 15001 (60.0 s), ~6.8 MB, data loaded>, <RawEEGLAB | sub-032301_EC.fdt, 59 x 15001 (60.0 s), ~6.8 MB, data loaded>, <RawEEGLAB | sub-032301_EC.fdt, 59 x 15001 (60.0 s), ~6.8 MB, data loaded>, <RawEEGLAB | sub-032301_EC.fdt, 59 x 14501 (58.0 s), ~6.6 MB, data loaded>, <RawEEGLAB | sub-032301_EC.fdt, 59 x 15001 (60.0 s), ~6.8 MB, data loaded>, <RawEEGLAB | sub-032301_EC.fdt, 59 x 15001 (60.0 s), ~6.8 MB, data loaded>, <RawEEGLAB | sub-032301_EC.fdt, 59 x 14251 (57.0 s), ~6.5 MB, data loaded>], [<RawEEGLAB | sub-032302_EC.fdt, 60 x 14501 (58.0 s), ~6.7 MB, data loaded>, <RawEEGLAB | sub-032302_EC.fdt, 60 x 15001 (60.0 s), ~6.9 MB, data loaded>, <RawEEGLAB | sub-032302_EC.fdt, 60 x 15001 (60.0 s), ~6.9 MB, data loaded>, <RawEEGLAB | sub-032302_EC.fdt, 60 x 14751 (59.0 s), ~6.8 MB, data loaded>, <RawEEGLAB | sub-032302_EC.fdt, 60 x 15001 (60.0 s), ~6.9 MB, data loaded>, <RawEEGLAB | sub-032302_EC.fdt, 60 x 15001 (60.0 s), ~6.9 MB, data loaded>, <RawEEGLAB | sub-032302_EC.fdt, 60 x 15001 (60.0 s), ~6.9 MB, data loaded>, <RawEEGLAB | sub-032302_EC.fdt, 60 x 14251 (57.0 s), ~6.6 MB, data loaded>], [<RawEEGLAB | sub-032303_EC.fdt, 61 x 14501 (58.0 s), ~6.8 MB, data loaded>, <RawEEGLAB | sub-032303_EC.fdt, 61 x 14751 (59.0 s), ~6.9 MB, data loaded>, <RawEEGLAB | sub-032303_EC.fdt, 61 x 15001 (60.0 s), ~7.1 MB, data loaded>, <RawEEGLAB | sub-032303_EC.fdt, 61 x 15001 (60.0 s), ~7.1 MB, data loaded>, <RawEEGLAB | sub-032303_EC.fdt, 61 x 14751 (59.0 s), ~6.9 MB, data loaded>, <RawEEGLAB | sub-032303_EC.fdt, 61 x 15001 (60.0 s), ~7.1 MB, data loaded>, <RawEEGLAB | sub-032303_EC.fdt, 61 x 15001 (60.0 s), ~7.1 MB, data loaded>, <RawEEGLAB | sub-032303_EC.fdt, 61 x 14251 (57.0 s), ~6.7 MB, data loaded>], [<RawEEGLAB | sub-032304_EC.fdt, 61 x 14501 (58.0 s), ~6.8 MB, data loaded>, <RawEEGLAB | sub-032304_EC.fdt, 61 x 15001 (60.0 s), ~7.1 MB, data loaded>, <RawEEGLAB | sub-032304_EC.fdt, 61 x 15001 (60.0 s), ~7.1 MB, data loaded>, <RawEEGLAB | sub-032304_EC.fdt, 61 x 15001 (60.0 s), ~7.1 MB, data loaded>, <RawEEGLAB | sub-032304_EC.fdt, 61 x 15001 (60.0 s), ~7.1 MB, data loaded>, <RawEEGLAB | sub-032304_EC.fdt, 61 x 15001 (60.0 s), ~7.1 MB, data loaded>, <RawEEGLAB | sub-032304_EC.fdt, 61 x 15001 (60.0 s), ~7.1 MB, data loaded>, <RawEEGLAB | sub-032304_EC.fdt, 61 x 14501 (58.0 s), ~6.8 MB, data loaded>], [<RawEEGLAB | sub-032305_EC.fdt, 60 x 14501 (58.0 s), ~6.7 MB, data loaded>, <RawEEGLAB | sub-032305_EC.fdt, 60 x 15001 (60.0 s), ~6.9 MB, data loaded>, <RawEEGLAB | sub-032305_EC.fdt, 60 x 15001 (60.0 s), ~6.9 MB, data loaded>, <RawEEGLAB | sub-032305_EC.fdt, 60 x 10501 (42.0 s), ~4.9 MB, data loaded>, <RawEEGLAB | sub-032305_EC.fdt, 60 x 13751 (55.0 s), ~6.4 MB, data loaded>, <RawEEGLAB | sub-032305_EC.fdt, 60 x 15001 (60.0 s), ~6.9 MB, data loaded>, <RawEEGLAB | sub-032305_EC.fdt, 60 x 13501 (54.0 s), ~6.3 MB, data loaded>, <RawEEGLAB | sub-032305_EC.fdt, 60 x 14251 (57.0 s), ~6.6 MB, data loaded>], [<RawEEGLAB | sub-032306_EC.fdt, 57 x 14501 (58.0 s), ~6.4 MB, data loaded>, <RawEEGLAB | sub-032306_EC.fdt, 57 x 15001 (60.0 s), ~6.6 MB, data loaded>, <RawEEGLAB | sub-032306_EC.fdt, 57 x 15001 (60.0 s), ~6.6 MB, data loaded>, <RawEEGLAB | sub-032306_EC.fdt, 57 x 15001 (60.0 s), ~6.6 MB, data loaded>, <RawEEGLAB | sub-032306_EC.fdt, 57 x 15001 (60.0 s), ~6.6 MB, data loaded>, <RawEEGLAB | sub-032306_EC.fdt, 57 x 15001 (60.0 s), ~6.6 MB, data loaded>, <RawEEGLAB | sub-032306_EC.fdt, 57 x 15001 (60.0 s), ~6.6 MB, data loaded>, <RawEEGLAB | sub-032306_EC.fdt, 57 x 14251 (57.0 s), ~6.3 MB, data loaded>], [<RawEEGLAB | sub-032307_EC.fdt, 59 x 14501 (58.0 s), ~6.6 MB, data loaded>, <RawEEGLAB | sub-032307_EC.fdt, 59 x 15001 (60.0 s), ~6.8 MB, data loaded>, <RawEEGLAB | sub-032307_EC.fdt, 59 x 15001 (60.0 s), ~6.8 MB, data loaded>, <RawEEGLAB | sub-032307_EC.fdt, 59 x 15001 (60.0 s), ~6.8 MB, data loaded>, <RawEEGLAB | sub-032307_EC.fdt, 59 x 14251 (57.0 s), ~6.5 MB, data loaded>, <RawEEGLAB | sub-032307_EC.fdt, 59 x 15001 (60.0 s), ~6.8 MB, data loaded>, <RawEEGLAB | sub-032307_EC.fdt, 59 x 15001 (60.0 s), ~6.8 MB, data loaded>, <RawEEGLAB | sub-032307_EC.fdt, 59 x 14251 (57.0 s), ~6.5 MB, data loaded>], [<RawEEGLAB | sub-032308_EC.fdt, 61 x 14501 (58.0 s), ~6.8 MB, data loaded>, <RawEEGLAB | sub-032308_EC.fdt, 61 x 15001 (60.0 s), ~7.1 MB, data loaded>, <RawEEGLAB | sub-032308_EC.fdt, 61 x 15001 (60.0 s), ~7.1 MB, data loaded>, <RawEEGLAB | sub-032308_EC.fdt, 61 x 15001 (60.0 s), ~7.1 MB, data loaded>, <RawEEGLAB | sub-032308_EC.fdt, 61 x 15001 (60.0 s), ~7.1 MB, data loaded>, <RawEEGLAB | sub-032308_EC.fdt, 61 x 15001 (60.0 s), ~7.1 MB, data loaded>, <RawEEGLAB | sub-032308_EC.fdt, 61 x 15001 (60.0 s), ~7.1 MB, data loaded>, <RawEEGLAB | sub-032308_EC.fdt, 61 x 14501 (58.0 s), ~6.8 MB, data loaded>], [<RawEEGLAB | sub-032310_EC.fdt, 59 x 13751 (55.0 s), ~6.3 MB, data loaded>, <RawEEGLAB | sub-032310_EC.fdt, 59 x 15001 (60.0 s), ~6.8 MB, data loaded>, <RawEEGLAB | sub-032310_EC.fdt, 59 x 15001 (60.0 s), ~6.8 MB, data loaded>, <RawEEGLAB | sub-032310_EC.fdt, 59 x 15001 (60.0 s), ~6.8 MB, data loaded>, <RawEEGLAB | sub-032310_EC.fdt, 59 x 15001 (60.0 s), ~6.8 MB, data loaded>, <RawEEGLAB | sub-032310_EC.fdt, 59 x 15001 (60.0 s), ~6.8 MB, data loaded>, <RawEEGLAB | sub-032310_EC.fdt, 59 x 15001 (60.0 s), ~6.8 MB, data loaded>, <RawEEGLAB | sub-032310_EC.fdt, 59 x 14251 (57.0 s), ~6.5 MB, data loaded>], [<RawEEGLAB | sub-032311_EC.fdt, 61 x 14501 (58.0 s), ~6.8 MB, data loaded>, <RawEEGLAB | sub-032311_EC.fdt, 61 x 15001 (60.0 s), ~7.1 MB, data loaded>, <RawEEGLAB | sub-032311_EC.fdt, 61 x 15001 (60.0 s), ~7.1 MB, data loaded>, <RawEEGLAB | sub-032311_EC.fdt, 61 x 15001 (60.0 s), ~7.1 MB, data loaded>, <RawEEGLAB | sub-032311_EC.fdt, 61 x 15001 (60.0 s), ~7.1 MB, data loaded>, <RawEEGLAB | sub-032311_EC.fdt, 61 x 14501 (58.0 s), ~6.8 MB, data loaded>, <RawEEGLAB | sub-032311_EC.fdt, 61 x 15001 (60.0 s), ~7.1 MB, data loaded>, <RawEEGLAB | sub-032311_EC.fdt, 61 x 14251 (57.0 s), ~6.7 MB, data loaded>], [<RawEEGLAB | sub-032312_EC.fdt, 61 x 14501 (58.0 s), ~6.8 MB, data loaded>, <RawEEGLAB | sub-032312_EC.fdt, 61 x 15001 (60.0 s), ~7.1 MB, data loaded>, <RawEEGLAB | sub-032312_EC.fdt, 61 x 15001 (60.0 s), ~7.1 MB, data loaded>, <RawEEGLAB | sub-032312_EC.fdt, 61 x 15001 (60.0 s), ~7.1 MB, data loaded>, <RawEEGLAB | sub-032312_EC.fdt, 61 x 15001 (60.0 s), ~7.1 MB, data loaded>, <RawEEGLAB | sub-032312_EC.fdt, 61 x 15001 (60.0 s), ~7.1 MB, data loaded>, <RawEEGLAB | sub-032312_EC.fdt, 61 x 15001 (60.0 s), ~7.1 MB, data loaded>, <RawEEGLAB | sub-032312_EC.fdt, 61 x 14501 (58.0 s), ~6.8 MB, data loaded>], [<RawEEGLAB | sub-032313_EC.fdt, 58 x 14501 (58.0 s), ~6.5 MB, data loaded>, <RawEEGLAB | sub-032313_EC.fdt, 58 x 15001 (60.0 s), ~6.7 MB, data loaded>, <RawEEGLAB | sub-032313_EC.fdt, 58 x 10251 (41.0 s), ~4.6 MB, data loaded>, <RawEEGLAB | sub-032313_EC.fdt, 58 x 15001 (60.0 s), ~6.7 MB, data loaded>, <RawEEGLAB | sub-032313_EC.fdt, 58 x 15001 (60.0 s), ~6.7 MB, data loaded>, <RawEEGLAB | sub-032313_EC.fdt, 58 x 15001 (60.0 s), ~6.7 MB, data loaded>, <RawEEGLAB | sub-032313_EC.fdt, 58 x 13751 (55.0 s), ~6.2 MB, data loaded>, <RawEEGLAB | sub-032313_EC.fdt, 58 x 7501 (30.0 s), ~3.4 MB, data loaded>], [<RawEEGLAB | sub-032314_EC.fdt, 61 x 14501 (58.0 s), ~6.8 MB, data loaded>, <RawEEGLAB | sub-032314_EC.fdt, 61 x 15001 (60.0 s), ~7.1 MB, data loaded>, <RawEEGLAB | sub-032314_EC.fdt, 61 x 7251 (29.0 s), ~3.5 MB, data loaded>, <RawEEGLAB | sub-032314_EC.fdt, 61 x 6001 (24.0 s), ~2.9 MB, data loaded>, <RawEEGLAB | sub-032314_EC.fdt, 61 x 9501 (38.0 s), ~4.5 MB, data loaded>, <RawEEGLAB | sub-032314_EC.fdt, 61 x 4501 (18.0 s), ~2.2 MB, data loaded>, <RawEEGLAB | sub-032314_EC.fdt, 61 x 5501 (22.0 s), ~2.6 MB, data loaded>, <RawEEGLAB | sub-032314_EC.fdt, 61 x 8001 (32.0 s), ~3.8 MB, data loaded>, <RawEEGLAB | sub-032314_EC.fdt, 61 x 14501 (58.0 s), ~6.8 MB, data loaded>, <RawEEGLAB | sub-032314_EC.fdt, 61 x 14501 (58.0 s), ~6.8 MB, data loaded>, <RawEEGLAB | sub-032314_EC.fdt, 61 x 14251 (57.0 s), ~6.7 MB, data loaded>], [<RawEEGLAB | sub-032315_EC.fdt, 61 x 14501 (58.0 s), ~6.8 MB, data loaded>, <RawEEGLAB | sub-032315_EC.fdt, 61 x 15001 (60.0 s), ~7.1 MB, data loaded>, <RawEEGLAB | sub-032315_EC.fdt, 61 x 15001 (60.0 s), ~7.1 MB, data loaded>, <RawEEGLAB | sub-032315_EC.fdt, 61 x 15001 (60.0 s), ~7.1 MB, data loaded>, <RawEEGLAB | sub-032315_EC.fdt, 61 x 15001 (60.0 s), ~7.1 MB, data loaded>, <RawEEGLAB | sub-032315_EC.fdt, 61 x 15001 (60.0 s), ~7.1 MB, data loaded>, <RawEEGLAB | sub-032315_EC.fdt, 61 x 15001 (60.0 s), ~7.1 MB, data loaded>, <RawEEGLAB | sub-032315_EC.fdt, 61 x 9251 (37.0 s), ~4.4 MB, data loaded>, <RawEEGLAB | sub-032315_EC.fdt, 61 x 4501 (18.0 s), ~2.2 MB, data loaded>], [<RawEEGLAB | sub-032316_EC.fdt, 61 x 14501 (58.0 s), ~6.8 MB, data loaded>, <RawEEGLAB | sub-032316_EC.fdt, 61 x 15001 (60.0 s), ~7.1 MB, data loaded>, <RawEEGLAB | sub-032316_EC.fdt, 61 x 15001 (60.0 s), ~7.1 MB, data loaded>, <RawEEGLAB | sub-032316_EC.fdt, 61 x 15001 (60.0 s), ~7.1 MB, data loaded>, <RawEEGLAB | sub-032316_EC.fdt, 61 x 15001 (60.0 s), ~7.1 MB, data loaded>, <RawEEGLAB | sub-032316_EC.fdt, 61 x 15001 (60.0 s), ~7.1 MB, data loaded>, <RawEEGLAB | sub-032316_EC.fdt, 61 x 15001 (60.0 s), ~7.1 MB, data loaded>, <RawEEGLAB | sub-032316_EC.fdt, 61 x 14501 (58.0 s), ~6.8 MB, data loaded>], [<RawEEGLAB | sub-032317_EC.fdt, 61 x 14501 (58.0 s), ~6.8 MB, data loaded>, <RawEEGLAB | sub-032317_EC.fdt, 61 x 14001 (56.0 s), ~6.6 MB, data loaded>, <RawEEGLAB | sub-032317_EC.fdt, 61 x 14751 (59.0 s), ~6.9 MB, data loaded>, <RawEEGLAB | sub-032317_EC.fdt, 61 x 15001 (60.0 s), ~7.1 MB, data loaded>, <RawEEGLAB | sub-032317_EC.fdt, 61 x 15001 (60.0 s), ~7.1 MB, data loaded>, <RawEEGLAB | sub-032317_EC.fdt, 61 x 13751 (55.0 s), ~6.5 MB, data loaded>, <RawEEGLAB | sub-032317_EC.fdt, 61 x 15001 (60.0 s), ~7.1 MB, data loaded>, <RawEEGLAB | sub-032317_EC.fdt, 61 x 7501 (30.0 s), ~3.6 MB, data loaded>, <RawEEGLAB | sub-032317_EC.fdt, 61 x 6001 (24.0 s), ~2.9 MB, data loaded>], [<RawEEGLAB | sub-032318_EC.fdt, 61 x 7001 (28.0 s), ~3.3 MB, data loaded>, <RawEEGLAB | sub-032318_EC.fdt, 61 x 7251 (29.0 s), ~3.5 MB, data loaded>, <RawEEGLAB | sub-032318_EC.fdt, 61 x 15001 (60.0 s), ~7.1 MB, data loaded>, <RawEEGLAB | sub-032318_EC.fdt, 61 x 14001 (56.0 s), ~6.6 MB, data loaded>, <RawEEGLAB | sub-032318_EC.fdt, 61 x 6251 (25.0 s), ~3.0 MB, data loaded>, <RawEEGLAB | sub-032318_EC.fdt, 61 x 8001 (32.0 s), ~3.8 MB, data loaded>, <RawEEGLAB | sub-032318_EC.fdt, 61 x 15001 (60.0 s), ~7.1 MB, data loaded>, <RawEEGLAB | sub-032318_EC.fdt, 61 x 13501 (54.0 s), ~6.4 MB, data loaded>, <RawEEGLAB | sub-032318_EC.fdt, 61 x 12251 (49.0 s), ~5.8 MB, data loaded>, <RawEEGLAB | sub-032318_EC.fdt, 61 x 14251 (57.0 s), ~6.7 MB, data loaded>], [<RawEEGLAB | sub-032319_EC.fdt, 58 x 14501 (58.0 s), ~6.5 MB, data loaded>, <RawEEGLAB | sub-032319_EC.fdt, 58 x 15001 (60.0 s), ~6.7 MB, data loaded>, <RawEEGLAB | sub-032319_EC.fdt, 58 x 15001 (60.0 s), ~6.7 MB, data loaded>, <RawEEGLAB | sub-032319_EC.fdt, 58 x 15001 (60.0 s), ~6.7 MB, data loaded>, <RawEEGLAB | sub-032319_EC.fdt, 58 x 15001 (60.0 s), ~6.7 MB, data loaded>, <RawEEGLAB | sub-032319_EC.fdt, 58 x 15001 (60.0 s), ~6.7 MB, data loaded>, <RawEEGLAB | sub-032319_EC.fdt, 58 x 15001 (60.0 s), ~6.7 MB, data loaded>, <RawEEGLAB | sub-032319_EC.fdt, 58 x 14251 (57.0 s), ~6.4 MB, data loaded>], [<RawEEGLAB | sub-032320_EC.fdt, 61 x 14501 (58.0 s), ~6.8 MB, data loaded>, <RawEEGLAB | sub-032320_EC.fdt, 61 x 15001 (60.0 s), ~7.1 MB, data loaded>, <RawEEGLAB | sub-032320_EC.fdt, 61 x 15001 (60.0 s), ~7.1 MB, data loaded>, <RawEEGLAB | sub-032320_EC.fdt, 61 x 15001 (60.0 s), ~7.1 MB, data loaded>, <RawEEGLAB | sub-032320_EC.fdt, 61 x 15001 (60.0 s), ~7.1 MB, data loaded>, <RawEEGLAB | sub-032320_EC.fdt, 61 x 15001 (60.0 s), ~7.1 MB, data loaded>, <RawEEGLAB | sub-032320_EC.fdt, 61 x 15001 (60.0 s), ~7.1 MB, data loaded>, <RawEEGLAB | sub-032320_EC.fdt, 61 x 14751 (59.0 s), ~6.9 MB, data loaded>], [<RawEEGLAB | sub-032321_EC.fdt, 61 x 14501 (58.0 s), ~6.8 MB, data loaded>, <RawEEGLAB | sub-032321_EC.fdt, 61 x 15001 (60.0 s), ~7.1 MB, data loaded>, <RawEEGLAB | sub-032321_EC.fdt, 61 x 15001 (60.0 s), ~7.1 MB, data loaded>, <RawEEGLAB | sub-032321_EC.fdt, 61 x 15001 (60.0 s), ~7.1 MB, data loaded>, <RawEEGLAB | sub-032321_EC.fdt, 61 x 15001 (60.0 s), ~7.1 MB, data loaded>, <RawEEGLAB | sub-032321_EC.fdt, 61 x 15001 (60.0 s), ~7.1 MB, data loaded>, <RawEEGLAB | sub-032321_EC.fdt, 61 x 15001 (60.0 s), ~7.1 MB, data loaded>, <RawEEGLAB | sub-032321_EC.fdt, 61 x 14501 (58.0 s), ~6.8 MB, data loaded>], [<RawEEGLAB | sub-032322_EC.fdt, 61 x 13251 (53.0 s), ~6.3 MB, data loaded>, <RawEEGLAB | sub-032322_EC.fdt, 61 x 15001 (60.0 s), ~7.1 MB, data loaded>, <RawEEGLAB | sub-032322_EC.fdt, 61 x 15001 (60.0 s), ~7.1 MB, data loaded>, <RawEEGLAB | sub-032322_EC.fdt, 61 x 15001 (60.0 s), ~7.1 MB, data loaded>, <RawEEGLAB | sub-032322_EC.fdt, 61 x 15001 (60.0 s), ~7.1 MB, data loaded>, <RawEEGLAB | sub-032322_EC.fdt, 61 x 15001 (60.0 s), ~7.1 MB, data loaded>, <RawEEGLAB | sub-032322_EC.fdt, 61 x 15001 (60.0 s), ~7.1 MB, data loaded>, <RawEEGLAB | sub-032322_EC.fdt, 61 x 14251 (57.0 s), ~6.7 MB, data loaded>], [<RawEEGLAB | sub-032323_EC.fdt, 59 x 14501 (58.0 s), ~6.6 MB, data loaded>, <RawEEGLAB | sub-032323_EC.fdt, 59 x 15001 (60.0 s), ~6.8 MB, data loaded>, <RawEEGLAB | sub-032323_EC.fdt, 59 x 15001 (60.0 s), ~6.8 MB, data loaded>, <RawEEGLAB | sub-032323_EC.fdt, 59 x 14501 (58.0 s), ~6.6 MB, data loaded>, <RawEEGLAB | sub-032323_EC.fdt, 59 x 15001 (60.0 s), ~6.8 MB, data loaded>, <RawEEGLAB | sub-032323_EC.fdt, 59 x 15001 (60.0 s), ~6.8 MB, data loaded>, <RawEEGLAB | sub-032323_EC.fdt, 59 x 15001 (60.0 s), ~6.8 MB, data loaded>, <RawEEGLAB | sub-032323_EC.fdt, 59 x 14251 (57.0 s), ~6.5 MB, data loaded>], [<RawEEGLAB | sub-032324_EC.fdt, 60 x 13001 (52.0 s), ~6.0 MB, data loaded>, <RawEEGLAB | sub-032324_EC.fdt, 60 x 15001 (60.0 s), ~6.9 MB, data loaded>, <RawEEGLAB | sub-032324_EC.fdt, 60 x 15001 (60.0 s), ~6.9 MB, data loaded>, <RawEEGLAB | sub-032324_EC.fdt, 60 x 15001 (60.0 s), ~6.9 MB, data loaded>, <RawEEGLAB | sub-032324_EC.fdt, 60 x 15001 (60.0 s), ~6.9 MB, data loaded>, <RawEEGLAB | sub-032324_EC.fdt, 60 x 15001 (60.0 s), ~6.9 MB, data loaded>, <RawEEGLAB | sub-032324_EC.fdt, 60 x 15001 (60.0 s), ~6.9 MB, data loaded>, <RawEEGLAB | sub-032324_EC.fdt, 60 x 14251 (57.0 s), ~6.6 MB, data loaded>], [<RawEEGLAB | sub-032325_EC.fdt, 60 x 14501 (58.0 s), ~6.7 MB, data loaded>, <RawEEGLAB | sub-032325_EC.fdt, 60 x 14751 (59.0 s), ~6.8 MB, data loaded>, <RawEEGLAB | sub-032325_EC.fdt, 60 x 15001 (60.0 s), ~6.9 MB, data loaded>, <RawEEGLAB | sub-032325_EC.fdt, 60 x 15001 (60.0 s), ~6.9 MB, data loaded>, <RawEEGLAB | sub-032325_EC.fdt, 60 x 15001 (60.0 s), ~6.9 MB, data loaded>, <RawEEGLAB | sub-032325_EC.fdt, 60 x 15001 (60.0 s), ~6.9 MB, data loaded>, <RawEEGLAB | sub-032325_EC.fdt, 60 x 15001 (60.0 s), ~6.9 MB, data loaded>, <RawEEGLAB | sub-032325_EC.fdt, 60 x 14251 (57.0 s), ~6.6 MB, data loaded>], [<RawEEGLAB | sub-032326_EC.fdt, 57 x 14501 (58.0 s), ~6.4 MB, data loaded>, <RawEEGLAB | sub-032326_EC.fdt, 57 x 14501 (58.0 s), ~6.4 MB, data loaded>, <RawEEGLAB | sub-032326_EC.fdt, 57 x 12501 (50.0 s), ~5.5 MB, data loaded>, <RawEEGLAB | sub-032326_EC.fdt, 57 x 15001 (60.0 s), ~6.6 MB, data loaded>, <RawEEGLAB | sub-032326_EC.fdt, 57 x 15001 (60.0 s), ~6.6 MB, data loaded>, <RawEEGLAB | sub-032326_EC.fdt, 57 x 14001 (56.0 s), ~6.2 MB, data loaded>, <RawEEGLAB | sub-032326_EC.fdt, 57 x 15001 (60.0 s), ~6.6 MB, data loaded>, <RawEEGLAB | sub-032326_EC.fdt, 57 x 14251 (57.0 s), ~6.3 MB, data loaded>], [<RawEEGLAB | sub-032327_EC.fdt, 61 x 14501 (58.0 s), ~6.8 MB, data loaded>, <RawEEGLAB | sub-032327_EC.fdt, 61 x 15001 (60.0 s), ~7.1 MB, data loaded>, <RawEEGLAB | sub-032327_EC.fdt, 61 x 15001 (60.0 s), ~7.1 MB, data loaded>, <RawEEGLAB | sub-032327_EC.fdt, 61 x 14751 (59.0 s), ~6.9 MB, data loaded>, <RawEEGLAB | sub-032327_EC.fdt, 61 x 15001 (60.0 s), ~7.1 MB, data loaded>, <RawEEGLAB | sub-032327_EC.fdt, 61 x 15001 (60.0 s), ~7.1 MB, data loaded>, <RawEEGLAB | sub-032327_EC.fdt, 61 x 15001 (60.0 s), ~7.1 MB, data loaded>, <RawEEGLAB | sub-032327_EC.fdt, 61 x 14251 (57.0 s), ~6.7 MB, data loaded>], [<RawEEGLAB | sub-032328_EC.fdt, 59 x 5001 (20.0 s), ~2.3 MB, data loaded>, <RawEEGLAB | sub-032328_EC.fdt, 59 x 9251 (37.0 s), ~4.2 MB, data loaded>, <RawEEGLAB | sub-032328_EC.fdt, 59 x 15001 (60.0 s), ~6.8 MB, data loaded>, <RawEEGLAB | sub-032328_EC.fdt, 59 x 15001 (60.0 s), ~6.8 MB, data loaded>, <RawEEGLAB | sub-032328_EC.fdt, 59 x 15001 (60.0 s), ~6.8 MB, data loaded>, <RawEEGLAB | sub-032328_EC.fdt, 59 x 14751 (59.0 s), ~6.7 MB, data loaded>, <RawEEGLAB | sub-032328_EC.fdt, 59 x 14751 (59.0 s), ~6.7 MB, data loaded>, <RawEEGLAB | sub-032328_EC.fdt, 59 x 11751 (47.0 s), ~5.4 MB, data loaded>, <RawEEGLAB | sub-032328_EC.fdt, 59 x 12751 (51.0 s), ~5.8 MB, data loaded>], [<RawEEGLAB | sub-032329_EC.fdt, 59 x 11501 (46.0 s), ~5.3 MB, data loaded>, <RawEEGLAB | sub-032329_EC.fdt, 59 x 15001 (60.0 s), ~6.8 MB, data loaded>, <RawEEGLAB | sub-032329_EC.fdt, 59 x 15001 (60.0 s), ~6.8 MB, data loaded>, <RawEEGLAB | sub-032329_EC.fdt, 59 x 15001 (60.0 s), ~6.8 MB, data loaded>, <RawEEGLAB | sub-032329_EC.fdt, 59 x 15001 (60.0 s), ~6.8 MB, data loaded>, <RawEEGLAB | sub-032329_EC.fdt, 59 x 15001 (60.0 s), ~6.8 MB, data loaded>, <RawEEGLAB | sub-032329_EC.fdt, 59 x 15001 (60.0 s), ~6.8 MB, data loaded>, <RawEEGLAB | sub-032329_EC.fdt, 59 x 14251 (57.0 s), ~6.5 MB, data loaded>], [<RawEEGLAB | sub-032330_EC.fdt, 61 x 14501 (58.0 s), ~6.8 MB, data loaded>, <RawEEGLAB | sub-032330_EC.fdt, 61 x 15001 (60.0 s), ~7.1 MB, data loaded>, <RawEEGLAB | sub-032330_EC.fdt, 61 x 15001 (60.0 s), ~7.1 MB, data loaded>, <RawEEGLAB | sub-032330_EC.fdt, 61 x 15001 (60.0 s), ~7.1 MB, data loaded>, <RawEEGLAB | sub-032330_EC.fdt, 61 x 15001 (60.0 s), ~7.1 MB, data loaded>, <RawEEGLAB | sub-032330_EC.fdt, 61 x 15001 (60.0 s), ~7.1 MB, data loaded>, <RawEEGLAB | sub-032330_EC.fdt, 61 x 15001 (60.0 s), ~7.1 MB, data loaded>, <RawEEGLAB | sub-032330_EC.fdt, 61 x 14751 (59.0 s), ~6.9 MB, data loaded>], [<RawEEGLAB | sub-032331_EC.fdt, 61 x 14501 (58.0 s), ~6.8 MB, data loaded>, <RawEEGLAB | sub-032331_EC.fdt, 61 x 15001 (60.0 s), ~7.1 MB, data loaded>, <RawEEGLAB | sub-032331_EC.fdt, 61 x 14501 (58.0 s), ~6.8 MB, data loaded>, <RawEEGLAB | sub-032331_EC.fdt, 61 x 14001 (56.0 s), ~6.6 MB, data loaded>, <RawEEGLAB | sub-032331_EC.fdt, 61 x 14251 (57.0 s), ~6.7 MB, data loaded>, <RawEEGLAB | sub-032331_EC.fdt, 61 x 15001 (60.0 s), ~7.1 MB, data loaded>, <RawEEGLAB | sub-032331_EC.fdt, 61 x 10501 (42.0 s), ~5.0 MB, data loaded>, <RawEEGLAB | sub-032331_EC.fdt, 61 x 14251 (57.0 s), ~6.7 MB, data loaded>], [<RawEEGLAB | sub-032332_EC.fdt, 61 x 14501 (58.0 s), ~6.8 MB, data loaded>, <RawEEGLAB | sub-032332_EC.fdt, 61 x 15001 (60.0 s), ~7.1 MB, data loaded>, <RawEEGLAB | sub-032332_EC.fdt, 61 x 15001 (60.0 s), ~7.1 MB, data loaded>, <RawEEGLAB | sub-032332_EC.fdt, 61 x 15001 (60.0 s), ~7.1 MB, data loaded>, <RawEEGLAB | sub-032332_EC.fdt, 61 x 15001 (60.0 s), ~7.1 MB, data loaded>, <RawEEGLAB | sub-032332_EC.fdt, 61 x 15001 (60.0 s), ~7.1 MB, data loaded>, <RawEEGLAB | sub-032332_EC.fdt, 61 x 15001 (60.0 s), ~7.1 MB, data loaded>, <RawEEGLAB | sub-032332_EC.fdt, 61 x 14501 (58.0 s), ~6.8 MB, data loaded>], [<RawEEGLAB | sub-032333_EC.fdt, 60 x 14501 (58.0 s), ~6.7 MB, data loaded>, <RawEEGLAB | sub-032333_EC.fdt, 60 x 15001 (60.0 s), ~6.9 MB, data loaded>, <RawEEGLAB | sub-032333_EC.fdt, 60 x 15001 (60.0 s), ~6.9 MB, data loaded>, <RawEEGLAB | sub-032333_EC.fdt, 60 x 15001 (60.0 s), ~6.9 MB, data loaded>, <RawEEGLAB | sub-032333_EC.fdt, 60 x 10501 (42.0 s), ~4.9 MB, data loaded>, <RawEEGLAB | sub-032333_EC.fdt, 60 x 15001 (60.0 s), ~6.9 MB, data loaded>, <RawEEGLAB | sub-032333_EC.fdt, 60 x 15001 (60.0 s), ~6.9 MB, data loaded>, <RawEEGLAB | sub-032333_EC.fdt, 60 x 14251 (57.0 s), ~6.6 MB, data loaded>], [<RawEEGLAB | sub-032334_EC.fdt, 59 x 14501 (58.0 s), ~6.6 MB, data loaded>, <RawEEGLAB | sub-032334_EC.fdt, 59 x 15001 (60.0 s), ~6.8 MB, data loaded>, <RawEEGLAB | sub-032334_EC.fdt, 59 x 15001 (60.0 s), ~6.8 MB, data loaded>, <RawEEGLAB | sub-032334_EC.fdt, 59 x 4001 (16.0 s), ~1.9 MB, data loaded>, <RawEEGLAB | sub-032334_EC.fdt, 59 x 9751 (39.0 s), ~4.5 MB, data loaded>, <RawEEGLAB | sub-032334_EC.fdt, 59 x 15001 (60.0 s), ~6.8 MB, data loaded>, <RawEEGLAB | sub-032334_EC.fdt, 59 x 5751 (23.0 s), ~2.7 MB, data loaded>, <RawEEGLAB | sub-032334_EC.fdt, 59 x 8501 (34.0 s), ~3.9 MB, data loaded>, <RawEEGLAB | sub-032334_EC.fdt, 59 x 15001 (60.0 s), ~6.8 MB, data loaded>, <RawEEGLAB | sub-032334_EC.fdt, 59 x 14251 (57.0 s), ~6.5 MB, data loaded>], [<RawEEGLAB | sub-032336_EC.fdt, 59 x 14501 (58.0 s), ~6.6 MB, data loaded>, <RawEEGLAB | sub-032336_EC.fdt, 59 x 15001 (60.0 s), ~6.8 MB, data loaded>, <RawEEGLAB | sub-032336_EC.fdt, 59 x 15001 (60.0 s), ~6.8 MB, data loaded>, <RawEEGLAB | sub-032336_EC.fdt, 59 x 15001 (60.0 s), ~6.8 MB, data loaded>, <RawEEGLAB | sub-032336_EC.fdt, 59 x 15001 (60.0 s), ~6.8 MB, data loaded>, <RawEEGLAB | sub-032336_EC.fdt, 59 x 15001 (60.0 s), ~6.8 MB, data loaded>, <RawEEGLAB | sub-032336_EC.fdt, 59 x 15001 (60.0 s), ~6.8 MB, data loaded>, <RawEEGLAB | sub-032336_EC.fdt, 59 x 14251 (57.0 s), ~6.5 MB, data loaded>], [<RawEEGLAB | sub-032337_EC.fdt, 61 x 14501 (58.0 s), ~6.8 MB, data loaded>, <RawEEGLAB | sub-032337_EC.fdt, 61 x 7001 (28.0 s), ~3.3 MB, data loaded>, <RawEEGLAB | sub-032337_EC.fdt, 61 x 7751 (31.0 s), ~3.7 MB, data loaded>, <RawEEGLAB | sub-032337_EC.fdt, 61 x 15001 (60.0 s), ~7.1 MB, data loaded>, <RawEEGLAB | sub-032337_EC.fdt, 61 x 15001 (60.0 s), ~7.1 MB, data loaded>, <RawEEGLAB | sub-032337_EC.fdt, 61 x 12001 (48.0 s), ~5.7 MB, data loaded>, <RawEEGLAB | sub-032337_EC.fdt, 61 x 13501 (54.0 s), ~6.4 MB, data loaded>, <RawEEGLAB | sub-032337_EC.fdt, 61 x 14751 (59.0 s), ~6.9 MB, data loaded>, <RawEEGLAB | sub-032337_EC.fdt, 61 x 14251 (57.0 s), ~6.7 MB, data loaded>], [<RawEEGLAB | sub-032338_EC.fdt, 61 x 14501 (58.0 s), ~6.8 MB, data loaded>, <RawEEGLAB | sub-032338_EC.fdt, 61 x 15001 (60.0 s), ~7.1 MB, data loaded>, <RawEEGLAB | sub-032338_EC.fdt, 61 x 15001 (60.0 s), ~7.1 MB, data loaded>, <RawEEGLAB | sub-032338_EC.fdt, 61 x 15001 (60.0 s), ~7.1 MB, data loaded>, <RawEEGLAB | sub-032338_EC.fdt, 61 x 9001 (36.0 s), ~4.3 MB, data loaded>, <RawEEGLAB | sub-032338_EC.fdt, 61 x 5251 (21.0 s), ~2.5 MB, data loaded>, <RawEEGLAB | sub-032338_EC.fdt, 61 x 15001 (60.0 s), ~7.1 MB, data loaded>, <RawEEGLAB | sub-032338_EC.fdt, 61 x 15001 (60.0 s), ~7.1 MB, data loaded>, <RawEEGLAB | sub-032338_EC.fdt, 61 x 14251 (57.0 s), ~6.7 MB, data loaded>], [<RawEEGLAB | sub-032339_EC.fdt, 61 x 8001 (32.0 s), ~3.8 MB, data loaded>, <RawEEGLAB | sub-032339_EC.fdt, 61 x 5751 (23.0 s), ~2.8 MB, data loaded>, <RawEEGLAB | sub-032339_EC.fdt, 61 x 15001 (60.0 s), ~7.1 MB, data loaded>, <RawEEGLAB | sub-032339_EC.fdt, 61 x 15001 (60.0 s), ~7.1 MB, data loaded>, <RawEEGLAB | sub-032339_EC.fdt, 61 x 15001 (60.0 s), ~7.1 MB, data loaded>, <RawEEGLAB | sub-032339_EC.fdt, 61 x 15001 (60.0 s), ~7.1 MB, data loaded>, <RawEEGLAB | sub-032339_EC.fdt, 61 x 15001 (60.0 s), ~7.1 MB, data loaded>, <RawEEGLAB | sub-032339_EC.fdt, 61 x 15001 (60.0 s), ~7.1 MB, data loaded>, <RawEEGLAB | sub-032339_EC.fdt, 61 x 14251 (57.0 s), ~6.7 MB, data loaded>], [<RawEEGLAB | sub-032340_EC.fdt, 61 x 8501 (34.0 s), ~4.0 MB, data loaded>, <RawEEGLAB | sub-032340_EC.fdt, 61 x 5751 (23.0 s), ~2.8 MB, data loaded>, <RawEEGLAB | sub-032340_EC.fdt, 61 x 15001 (60.0 s), ~7.1 MB, data loaded>, <RawEEGLAB | sub-032340_EC.fdt, 61 x 15001 (60.0 s), ~7.1 MB, data loaded>, <RawEEGLAB | sub-032340_EC.fdt, 61 x 15001 (60.0 s), ~7.1 MB, data loaded>, <RawEEGLAB | sub-032340_EC.fdt, 61 x 15001 (60.0 s), ~7.1 MB, data loaded>, <RawEEGLAB | sub-032340_EC.fdt, 61 x 15001 (60.0 s), ~7.1 MB, data loaded>, <RawEEGLAB | sub-032340_EC.fdt, 61 x 15001 (60.0 s), ~7.1 MB, data loaded>, <RawEEGLAB | sub-032340_EC.fdt, 61 x 14251 (57.0 s), ~6.7 MB, data loaded>], [<RawEEGLAB | sub-032341_EC.fdt, 61 x 14501 (58.0 s), ~6.8 MB, data loaded>, <RawEEGLAB | sub-032341_EC.fdt, 61 x 15001 (60.0 s), ~7.1 MB, data loaded>, <RawEEGLAB | sub-032341_EC.fdt, 61 x 15001 (60.0 s), ~7.1 MB, data loaded>, <RawEEGLAB | sub-032341_EC.fdt, 61 x 15001 (60.0 s), ~7.1 MB, data loaded>, <RawEEGLAB | sub-032341_EC.fdt, 61 x 15001 (60.0 s), ~7.1 MB, data loaded>, <RawEEGLAB | sub-032341_EC.fdt, 61 x 15001 (60.0 s), ~7.1 MB, data loaded>, <RawEEGLAB | sub-032341_EC.fdt, 61 x 15001 (60.0 s), ~7.1 MB, data loaded>, <RawEEGLAB | sub-032341_EC.fdt, 61 x 14501 (58.0 s), ~6.8 MB, data loaded>], [<RawEEGLAB | sub-032342_EC.fdt, 59 x 14501 (58.0 s), ~6.6 MB, data loaded>, <RawEEGLAB | sub-032342_EC.fdt, 59 x 14751 (59.0 s), ~6.7 MB, data loaded>, <RawEEGLAB | sub-032342_EC.fdt, 59 x 15001 (60.0 s), ~6.8 MB, data loaded>, <RawEEGLAB | sub-032342_EC.fdt, 59 x 14501 (58.0 s), ~6.6 MB, data loaded>, <RawEEGLAB | sub-032342_EC.fdt, 59 x 15001 (60.0 s), ~6.8 MB, data loaded>, <RawEEGLAB | sub-032342_EC.fdt, 59 x 12251 (49.0 s), ~5.6 MB, data loaded>, <RawEEGLAB | sub-032342_EC.fdt, 59 x 15001 (60.0 s), ~6.8 MB, data loaded>, <RawEEGLAB | sub-032342_EC.fdt, 59 x 14251 (57.0 s), ~6.5 MB, data loaded>], [<RawEEGLAB | sub-032343_EC.fdt, 60 x 13751 (55.0 s), ~6.4 MB, data loaded>, <RawEEGLAB | sub-032343_EC.fdt, 60 x 13501 (54.0 s), ~6.3 MB, data loaded>, <RawEEGLAB | sub-032343_EC.fdt, 60 x 8251 (33.0 s), ~3.9 MB, data loaded>, <RawEEGLAB | sub-032343_EC.fdt, 60 x 15001 (60.0 s), ~6.9 MB, data loaded>, <RawEEGLAB | sub-032343_EC.fdt, 60 x 15001 (60.0 s), ~6.9 MB, data loaded>, <RawEEGLAB | sub-032343_EC.fdt, 60 x 15001 (60.0 s), ~6.9 MB, data loaded>, <RawEEGLAB | sub-032343_EC.fdt, 60 x 10501 (42.0 s), ~4.9 MB, data loaded>, <RawEEGLAB | sub-032343_EC.fdt, 60 x 14251 (57.0 s), ~6.6 MB, data loaded>], [<RawEEGLAB | sub-032344_EC.fdt, 61 x 14501 (58.0 s), ~6.8 MB, data loaded>, <RawEEGLAB | sub-032344_EC.fdt, 61 x 15001 (60.0 s), ~7.1 MB, data loaded>, <RawEEGLAB | sub-032344_EC.fdt, 61 x 15001 (60.0 s), ~7.1 MB, data loaded>, <RawEEGLAB | sub-032344_EC.fdt, 61 x 15001 (60.0 s), ~7.1 MB, data loaded>, <RawEEGLAB | sub-032344_EC.fdt, 61 x 15001 (60.0 s), ~7.1 MB, data loaded>, <RawEEGLAB | sub-032344_EC.fdt, 61 x 15001 (60.0 s), ~7.1 MB, data loaded>, <RawEEGLAB | sub-032344_EC.fdt, 61 x 15001 (60.0 s), ~7.1 MB, data loaded>, <RawEEGLAB | sub-032344_EC.fdt, 61 x 14501 (58.0 s), ~6.8 MB, data loaded>], [<RawEEGLAB | sub-032345_EC.fdt, 59 x 14501 (58.0 s), ~6.6 MB, data loaded>, <RawEEGLAB | sub-032345_EC.fdt, 59 x 15001 (60.0 s), ~6.8 MB, data loaded>, <RawEEGLAB | sub-032345_EC.fdt, 59 x 15001 (60.0 s), ~6.8 MB, data loaded>, <RawEEGLAB | sub-032345_EC.fdt, 59 x 15001 (60.0 s), ~6.8 MB, data loaded>, <RawEEGLAB | sub-032345_EC.fdt, 59 x 8751 (35.0 s), ~4.0 MB, data loaded>, <RawEEGLAB | sub-032345_EC.fdt, 59 x 6001 (24.0 s), ~2.8 MB, data loaded>, <RawEEGLAB | sub-032345_EC.fdt, 59 x 15001 (60.0 s), ~6.8 MB, data loaded>, <RawEEGLAB | sub-032345_EC.fdt, 59 x 15001 (60.0 s), ~6.8 MB, data loaded>, <RawEEGLAB | sub-032345_EC.fdt, 59 x 14251 (57.0 s), ~6.5 MB, data loaded>], [<RawEEGLAB | sub-032346_EC.fdt, 61 x 14501 (58.0 s), ~6.8 MB, data loaded>, <RawEEGLAB | sub-032346_EC.fdt, 61 x 15001 (60.0 s), ~7.1 MB, data loaded>, <RawEEGLAB | sub-032346_EC.fdt, 61 x 15001 (60.0 s), ~7.1 MB, data loaded>, <RawEEGLAB | sub-032346_EC.fdt, 61 x 15001 (60.0 s), ~7.1 MB, data loaded>, <RawEEGLAB | sub-032346_EC.fdt, 61 x 15001 (60.0 s), ~7.1 MB, data loaded>, <RawEEGLAB | sub-032346_EC.fdt, 61 x 15001 (60.0 s), ~7.1 MB, data loaded>, <RawEEGLAB | sub-032346_EC.fdt, 61 x 15001 (60.0 s), ~7.1 MB, data loaded>, <RawEEGLAB | sub-032346_EC.fdt, 61 x 14251 (57.0 s), ~6.7 MB, data loaded>], [<RawEEGLAB | sub-032347_EC.fdt, 61 x 14501 (58.0 s), ~6.8 MB, data loaded>, <RawEEGLAB | sub-032347_EC.fdt, 61 x 14751 (59.0 s), ~6.9 MB, data loaded>, <RawEEGLAB | sub-032347_EC.fdt, 61 x 14751 (59.0 s), ~6.9 MB, data loaded>, <RawEEGLAB | sub-032347_EC.fdt, 61 x 14501 (58.0 s), ~6.8 MB, data loaded>, <RawEEGLAB | sub-032347_EC.fdt, 61 x 15001 (60.0 s), ~7.1 MB, data loaded>, <RawEEGLAB | sub-032347_EC.fdt, 61 x 15001 (60.0 s), ~7.1 MB, data loaded>, <RawEEGLAB | sub-032347_EC.fdt, 61 x 8751 (35.0 s), ~4.2 MB, data loaded>, <RawEEGLAB | sub-032347_EC.fdt, 61 x 5751 (23.0 s), ~2.8 MB, data loaded>, <RawEEGLAB | sub-032347_EC.fdt, 61 x 14251 (57.0 s), ~6.7 MB, data loaded>], [<RawEEGLAB | sub-032348_EC.fdt, 61 x 14501 (58.0 s), ~6.8 MB, data loaded>, <RawEEGLAB | sub-032348_EC.fdt, 61 x 15001 (60.0 s), ~7.1 MB, data loaded>, <RawEEGLAB | sub-032348_EC.fdt, 61 x 15001 (60.0 s), ~7.1 MB, data loaded>, <RawEEGLAB | sub-032348_EC.fdt, 61 x 15001 (60.0 s), ~7.1 MB, data loaded>, <RawEEGLAB | sub-032348_EC.fdt, 61 x 15001 (60.0 s), ~7.1 MB, data loaded>, <RawEEGLAB | sub-032348_EC.fdt, 61 x 8251 (33.0 s), ~3.9 MB, data loaded>, <RawEEGLAB | sub-032348_EC.fdt, 61 x 6251 (25.0 s), ~3.0 MB, data loaded>, <RawEEGLAB | sub-032348_EC.fdt, 61 x 15001 (60.0 s), ~7.1 MB, data loaded>, <RawEEGLAB | sub-032348_EC.fdt, 61 x 13251 (53.0 s), ~6.3 MB, data loaded>], [<RawEEGLAB | sub-032349_EC.fdt, 60 x 10501 (42.0 s), ~4.9 MB, data loaded>, <RawEEGLAB | sub-032349_EC.fdt, 60 x 15001 (60.0 s), ~6.9 MB, data loaded>, <RawEEGLAB | sub-032349_EC.fdt, 60 x 15001 (60.0 s), ~6.9 MB, data loaded>, <RawEEGLAB | sub-032349_EC.fdt, 60 x 15001 (60.0 s), ~6.9 MB, data loaded>, <RawEEGLAB | sub-032349_EC.fdt, 60 x 15001 (60.0 s), ~6.9 MB, data loaded>, <RawEEGLAB | sub-032349_EC.fdt, 60 x 15001 (60.0 s), ~6.9 MB, data loaded>, <RawEEGLAB | sub-032349_EC.fdt, 60 x 15001 (60.0 s), ~6.9 MB, data loaded>, <RawEEGLAB | sub-032349_EC.fdt, 60 x 14251 (57.0 s), ~6.6 MB, data loaded>], [<RawEEGLAB | sub-032350_EC.fdt, 58 x 13501 (54.0 s), ~6.1 MB, data loaded>, <RawEEGLAB | sub-032350_EC.fdt, 58 x 15001 (60.0 s), ~6.7 MB, data loaded>, <RawEEGLAB | sub-032350_EC.fdt, 58 x 14501 (58.0 s), ~6.5 MB, data loaded>, <RawEEGLAB | sub-032350_EC.fdt, 58 x 15001 (60.0 s), ~6.7 MB, data loaded>, <RawEEGLAB | sub-032350_EC.fdt, 58 x 15001 (60.0 s), ~6.7 MB, data loaded>, <RawEEGLAB | sub-032350_EC.fdt, 58 x 15001 (60.0 s), ~6.7 MB, data loaded>, <RawEEGLAB | sub-032350_EC.fdt, 58 x 15001 (60.0 s), ~6.7 MB, data loaded>, <RawEEGLAB | sub-032350_EC.fdt, 58 x 14251 (57.0 s), ~6.4 MB, data loaded>], [<RawEEGLAB | sub-032351_EC.fdt, 61 x 14501 (58.0 s), ~6.8 MB, data loaded>, <RawEEGLAB | sub-032351_EC.fdt, 61 x 15001 (60.0 s), ~7.1 MB, data loaded>, <RawEEGLAB | sub-032351_EC.fdt, 61 x 15001 (60.0 s), ~7.1 MB, data loaded>, <RawEEGLAB | sub-032351_EC.fdt, 61 x 15001 (60.0 s), ~7.1 MB, data loaded>, <RawEEGLAB | sub-032351_EC.fdt, 61 x 15001 (60.0 s), ~7.1 MB, data loaded>, <RawEEGLAB | sub-032351_EC.fdt, 61 x 15001 (60.0 s), ~7.1 MB, data loaded>, <RawEEGLAB | sub-032351_EC.fdt, 61 x 15001 (60.0 s), ~7.1 MB, data loaded>, <RawEEGLAB | sub-032351_EC.fdt, 61 x 11251 (45.0 s), ~5.3 MB, data loaded>], [<RawEEGLAB | sub-032352_EC.fdt, 61 x 7251 (29.0 s), ~3.5 MB, data loaded>, <RawEEGLAB | sub-032352_EC.fdt, 61 x 14751 (59.0 s), ~6.9 MB, data loaded>, <RawEEGLAB | sub-032352_EC.fdt, 61 x 15001 (60.0 s), ~7.1 MB, data loaded>, <RawEEGLAB | sub-032352_EC.fdt, 61 x 15001 (60.0 s), ~7.1 MB, data loaded>, <RawEEGLAB | sub-032352_EC.fdt, 61 x 15001 (60.0 s), ~7.1 MB, data loaded>, <RawEEGLAB | sub-032352_EC.fdt, 61 x 14001 (56.0 s), ~6.6 MB, data loaded>, <RawEEGLAB | sub-032352_EC.fdt, 61 x 15001 (60.0 s), ~7.1 MB, data loaded>, <RawEEGLAB | sub-032352_EC.fdt, 61 x 14251 (57.0 s), ~6.7 MB, data loaded>], [<RawEEGLAB | sub-032354_EC.fdt, 60 x 14501 (58.0 s), ~6.7 MB, data loaded>, <RawEEGLAB | sub-032354_EC.fdt, 60 x 15001 (60.0 s), ~6.9 MB, data loaded>, <RawEEGLAB | sub-032354_EC.fdt, 60 x 15001 (60.0 s), ~6.9 MB, data loaded>, <RawEEGLAB | sub-032354_EC.fdt, 60 x 15001 (60.0 s), ~6.9 MB, data loaded>, <RawEEGLAB | sub-032354_EC.fdt, 60 x 15001 (60.0 s), ~6.9 MB, data loaded>, <RawEEGLAB | sub-032354_EC.fdt, 60 x 15001 (60.0 s), ~6.9 MB, data loaded>, <RawEEGLAB | sub-032354_EC.fdt, 60 x 15001 (60.0 s), ~6.9 MB, data loaded>, <RawEEGLAB | sub-032354_EC.fdt, 60 x 14001 (56.0 s), ~6.5 MB, data loaded>], [<RawEEGLAB | sub-032355_EC.fdt, 60 x 14501 (58.0 s), ~6.7 MB, data loaded>, <RawEEGLAB | sub-032355_EC.fdt, 60 x 15001 (60.0 s), ~6.9 MB, data loaded>, <RawEEGLAB | sub-032355_EC.fdt, 60 x 15001 (60.0 s), ~6.9 MB, data loaded>, <RawEEGLAB | sub-032355_EC.fdt, 60 x 15001 (60.0 s), ~6.9 MB, data loaded>, <RawEEGLAB | sub-032355_EC.fdt, 60 x 13501 (54.0 s), ~6.3 MB, data loaded>, <RawEEGLAB | sub-032355_EC.fdt, 60 x 15001 (60.0 s), ~6.9 MB, data loaded>, <RawEEGLAB | sub-032355_EC.fdt, 60 x 15001 (60.0 s), ~6.9 MB, data loaded>, <RawEEGLAB | sub-032355_EC.fdt, 60 x 14251 (57.0 s), ~6.6 MB, data loaded>], [<RawEEGLAB | sub-032356_EC.fdt, 59 x 14501 (58.0 s), ~6.6 MB, data loaded>, <RawEEGLAB | sub-032356_EC.fdt, 59 x 15001 (60.0 s), ~6.8 MB, data loaded>, <RawEEGLAB | sub-032356_EC.fdt, 59 x 15001 (60.0 s), ~6.8 MB, data loaded>, <RawEEGLAB | sub-032356_EC.fdt, 59 x 15001 (60.0 s), ~6.8 MB, data loaded>, <RawEEGLAB | sub-032356_EC.fdt, 59 x 13251 (53.0 s), ~6.0 MB, data loaded>, <RawEEGLAB | sub-032356_EC.fdt, 59 x 15001 (60.0 s), ~6.8 MB, data loaded>, <RawEEGLAB | sub-032356_EC.fdt, 59 x 15001 (60.0 s), ~6.8 MB, data loaded>, <RawEEGLAB | sub-032356_EC.fdt, 59 x 14251 (57.0 s), ~6.5 MB, data loaded>], [<RawEEGLAB | sub-032357_EC.fdt, 57 x 14501 (58.0 s), ~6.4 MB, data loaded>, <RawEEGLAB | sub-032357_EC.fdt, 57 x 15001 (60.0 s), ~6.6 MB, data loaded>, <RawEEGLAB | sub-032357_EC.fdt, 57 x 15001 (60.0 s), ~6.6 MB, data loaded>, <RawEEGLAB | sub-032357_EC.fdt, 57 x 15001 (60.0 s), ~6.6 MB, data loaded>, <RawEEGLAB | sub-032357_EC.fdt, 57 x 6751 (27.0 s), ~3.0 MB, data loaded>, <RawEEGLAB | sub-032357_EC.fdt, 57 x 7501 (30.0 s), ~3.3 MB, data loaded>, <RawEEGLAB | sub-032357_EC.fdt, 57 x 15001 (60.0 s), ~6.6 MB, data loaded>, <RawEEGLAB | sub-032357_EC.fdt, 57 x 15001 (60.0 s), ~6.6 MB, data loaded>, <RawEEGLAB | sub-032357_EC.fdt, 57 x 14251 (57.0 s), ~6.3 MB, data loaded>], [<RawEEGLAB | sub-032358_EC.fdt, 60 x 14251 (57.0 s), ~6.6 MB, data loaded>, <RawEEGLAB | sub-032358_EC.fdt, 60 x 15001 (60.0 s), ~6.9 MB, data loaded>, <RawEEGLAB | sub-032358_EC.fdt, 60 x 15001 (60.0 s), ~6.9 MB, data loaded>, <RawEEGLAB | sub-032358_EC.fdt, 60 x 15001 (60.0 s), ~6.9 MB, data loaded>, <RawEEGLAB | sub-032358_EC.fdt, 60 x 15001 (60.0 s), ~6.9 MB, data loaded>, <RawEEGLAB | sub-032358_EC.fdt, 60 x 15001 (60.0 s), ~6.9 MB, data loaded>, <RawEEGLAB | sub-032358_EC.fdt, 60 x 15001 (60.0 s), ~6.9 MB, data loaded>, <RawEEGLAB | sub-032358_EC.fdt, 60 x 14251 (57.0 s), ~6.6 MB, data loaded>], [<RawEEGLAB | sub-032359_EC.fdt, 61 x 14501 (58.0 s), ~6.8 MB, data loaded>, <RawEEGLAB | sub-032359_EC.fdt, 61 x 6001 (24.0 s), ~2.9 MB, data loaded>, <RawEEGLAB | sub-032359_EC.fdt, 61 x 8501 (34.0 s), ~4.0 MB, data loaded>, <RawEEGLAB | sub-032359_EC.fdt, 61 x 15001 (60.0 s), ~7.1 MB, data loaded>, <RawEEGLAB | sub-032359_EC.fdt, 61 x 15001 (60.0 s), ~7.1 MB, data loaded>, <RawEEGLAB | sub-032359_EC.fdt, 61 x 15001 (60.0 s), ~7.1 MB, data loaded>, <RawEEGLAB | sub-032359_EC.fdt, 61 x 4001 (16.0 s), ~1.9 MB, data loaded>, <RawEEGLAB | sub-032359_EC.fdt, 61 x 8501 (34.0 s), ~4.0 MB, data loaded>, <RawEEGLAB | sub-032359_EC.fdt, 61 x 15001 (60.0 s), ~7.1 MB, data loaded>, <RawEEGLAB | sub-032359_EC.fdt, 61 x 14251 (57.0 s), ~6.7 MB, data loaded>], [<RawEEGLAB | sub-032360_EC.fdt, 57 x 14251 (57.0 s), ~6.3 MB, data loaded>, <RawEEGLAB | sub-032360_EC.fdt, 57 x 15001 (60.0 s), ~6.6 MB, data loaded>, <RawEEGLAB | sub-032360_EC.fdt, 57 x 15001 (60.0 s), ~6.6 MB, data loaded>, <RawEEGLAB | sub-032360_EC.fdt, 57 x 15001 (60.0 s), ~6.6 MB, data loaded>, <RawEEGLAB | sub-032360_EC.fdt, 57 x 15001 (60.0 s), ~6.6 MB, data loaded>, <RawEEGLAB | sub-032360_EC.fdt, 57 x 15001 (60.0 s), ~6.6 MB, data loaded>, <RawEEGLAB | sub-032360_EC.fdt, 57 x 15001 (60.0 s), ~6.6 MB, data loaded>, <RawEEGLAB | sub-032360_EC.fdt, 57 x 14251 (57.0 s), ~6.3 MB, data loaded>], [<RawEEGLAB | sub-032361_EC.fdt, 60 x 14501 (58.0 s), ~6.7 MB, data loaded>, <RawEEGLAB | sub-032361_EC.fdt, 60 x 15001 (60.0 s), ~6.9 MB, data loaded>, <RawEEGLAB | sub-032361_EC.fdt, 60 x 15001 (60.0 s), ~6.9 MB, data loaded>, <RawEEGLAB | sub-032361_EC.fdt, 60 x 15001 (60.0 s), ~6.9 MB, data loaded>, <RawEEGLAB | sub-032361_EC.fdt, 60 x 15001 (60.0 s), ~6.9 MB, data loaded>, <RawEEGLAB | sub-032361_EC.fdt, 60 x 5251 (21.0 s), ~2.5 MB, data loaded>, <RawEEGLAB | sub-032361_EC.fdt, 60 x 8251 (33.0 s), ~3.9 MB, data loaded>, <RawEEGLAB | sub-032361_EC.fdt, 60 x 15001 (60.0 s), ~6.9 MB, data loaded>, <RawEEGLAB | sub-032361_EC.fdt, 60 x 14251 (57.0 s), ~6.6 MB, data loaded>], [<RawEEGLAB | sub-032362_EC.fdt, 60 x 10001 (40.0 s), ~4.7 MB, data loaded>, <RawEEGLAB | sub-032362_EC.fdt, 60 x 4251 (17.0 s), ~2.0 MB, data loaded>, <RawEEGLAB | sub-032362_EC.fdt, 60 x 15001 (60.0 s), ~6.9 MB, data loaded>, <RawEEGLAB | sub-032362_EC.fdt, 60 x 14751 (59.0 s), ~6.8 MB, data loaded>, <RawEEGLAB | sub-032362_EC.fdt, 60 x 15001 (60.0 s), ~6.9 MB, data loaded>, <RawEEGLAB | sub-032362_EC.fdt, 60 x 15001 (60.0 s), ~6.9 MB, data loaded>, <RawEEGLAB | sub-032362_EC.fdt, 60 x 15001 (60.0 s), ~6.9 MB, data loaded>, <RawEEGLAB | sub-032362_EC.fdt, 60 x 15001 (60.0 s), ~6.9 MB, data loaded>, <RawEEGLAB | sub-032362_EC.fdt, 60 x 14251 (57.0 s), ~6.6 MB, data loaded>], [<RawEEGLAB | sub-032363_EC.fdt, 61 x 14501 (58.0 s), ~6.8 MB, data loaded>, <RawEEGLAB | sub-032363_EC.fdt, 61 x 15001 (60.0 s), ~7.1 MB, data loaded>, <RawEEGLAB | sub-032363_EC.fdt, 61 x 15001 (60.0 s), ~7.1 MB, data loaded>, <RawEEGLAB | sub-032363_EC.fdt, 61 x 15001 (60.0 s), ~7.1 MB, data loaded>, <RawEEGLAB | sub-032363_EC.fdt, 61 x 15001 (60.0 s), ~7.1 MB, data loaded>, <RawEEGLAB | sub-032363_EC.fdt, 61 x 15001 (60.0 s), ~7.1 MB, data loaded>, <RawEEGLAB | sub-032363_EC.fdt, 61 x 15001 (60.0 s), ~7.1 MB, data loaded>, <RawEEGLAB | sub-032363_EC.fdt, 61 x 14501 (58.0 s), ~6.8 MB, data loaded>], [<RawEEGLAB | sub-032364_EC.fdt, 59 x 14501 (58.0 s), ~6.6 MB, data loaded>, <RawEEGLAB | sub-032364_EC.fdt, 59 x 15001 (60.0 s), ~6.8 MB, data loaded>, <RawEEGLAB | sub-032364_EC.fdt, 59 x 15001 (60.0 s), ~6.8 MB, data loaded>, <RawEEGLAB | sub-032364_EC.fdt, 59 x 15001 (60.0 s), ~6.8 MB, data loaded>, <RawEEGLAB | sub-032364_EC.fdt, 59 x 15001 (60.0 s), ~6.8 MB, data loaded>, <RawEEGLAB | sub-032364_EC.fdt, 59 x 15001 (60.0 s), ~6.8 MB, data loaded>, <RawEEGLAB | sub-032364_EC.fdt, 59 x 15001 (60.0 s), ~6.8 MB, data loaded>, <RawEEGLAB | sub-032364_EC.fdt, 59 x 14251 (57.0 s), ~6.5 MB, data loaded>], [<RawEEGLAB | sub-032367_EC.fdt, 58 x 9251 (37.0 s), ~4.2 MB, data loaded>, <RawEEGLAB | sub-032367_EC.fdt, 58 x 15001 (60.0 s), ~6.7 MB, data loaded>, <RawEEGLAB | sub-032367_EC.fdt, 58 x 7751 (31.0 s), ~3.5 MB, data loaded>, <RawEEGLAB | sub-032367_EC.fdt, 58 x 5751 (23.0 s), ~2.6 MB, data loaded>, <RawEEGLAB | sub-032367_EC.fdt, 58 x 15001 (60.0 s), ~6.7 MB, data loaded>, <RawEEGLAB | sub-032367_EC.fdt, 58 x 13751 (55.0 s), ~6.2 MB, data loaded>, <RawEEGLAB | sub-032367_EC.fdt, 58 x 15001 (60.0 s), ~6.7 MB, data loaded>, <RawEEGLAB | sub-032367_EC.fdt, 58 x 15001 (60.0 s), ~6.7 MB, data loaded>, <RawEEGLAB | sub-032367_EC.fdt, 58 x 14251 (57.0 s), ~6.4 MB, data loaded>], [<RawEEGLAB | sub-032368_EC.fdt, 59 x 4251 (17.0 s), ~2.0 MB, data loaded>, <RawEEGLAB | sub-032368_EC.fdt, 59 x 9751 (39.0 s), ~4.5 MB, data loaded>, <RawEEGLAB | sub-032368_EC.fdt, 59 x 15001 (60.0 s), ~6.8 MB, data loaded>, <RawEEGLAB | sub-032368_EC.fdt, 59 x 4751 (19.0 s), ~2.2 MB, data loaded>, <RawEEGLAB | sub-032368_EC.fdt, 59 x 10001 (40.0 s), ~4.6 MB, data loaded>, <RawEEGLAB | sub-032368_EC.fdt, 59 x 15001 (60.0 s), ~6.8 MB, data loaded>, <RawEEGLAB | sub-032368_EC.fdt, 59 x 15001 (60.0 s), ~6.8 MB, data loaded>, <RawEEGLAB | sub-032368_EC.fdt, 59 x 15001 (60.0 s), ~6.8 MB, data loaded>, <RawEEGLAB | sub-032368_EC.fdt, 59 x 15001 (60.0 s), ~6.8 MB, data loaded>, <RawEEGLAB | sub-032368_EC.fdt, 59 x 5251 (21.0 s), ~2.4 MB, data loaded>, <RawEEGLAB | sub-032368_EC.fdt, 59 x 8751 (35.0 s), ~4.0 MB, data loaded>], [<RawEEGLAB | sub-032369_EC.fdt, 59 x 14501 (58.0 s), ~6.6 MB, data loaded>, <RawEEGLAB | sub-032369_EC.fdt, 59 x 13751 (55.0 s), ~6.3 MB, data loaded>, <RawEEGLAB | sub-032369_EC.fdt, 59 x 15001 (60.0 s), ~6.8 MB, data loaded>, <RawEEGLAB | sub-032369_EC.fdt, 59 x 15001 (60.0 s), ~6.8 MB, data loaded>, <RawEEGLAB | sub-032369_EC.fdt, 59 x 15001 (60.0 s), ~6.8 MB, data loaded>, <RawEEGLAB | sub-032369_EC.fdt, 59 x 15001 (60.0 s), ~6.8 MB, data loaded>, <RawEEGLAB | sub-032369_EC.fdt, 59 x 15001 (60.0 s), ~6.8 MB, data loaded>, <RawEEGLAB | sub-032369_EC.fdt, 59 x 14251 (57.0 s), ~6.5 MB, data loaded>], [<RawEEGLAB | sub-032370_EC.fdt, 58 x 14501 (58.0 s), ~6.5 MB, data loaded>, <RawEEGLAB | sub-032370_EC.fdt, 58 x 15001 (60.0 s), ~6.7 MB, data loaded>, <RawEEGLAB | sub-032370_EC.fdt, 58 x 15001 (60.0 s), ~6.7 MB, data loaded>, <RawEEGLAB | sub-032370_EC.fdt, 58 x 15001 (60.0 s), ~6.7 MB, data loaded>, <RawEEGLAB | sub-032370_EC.fdt, 58 x 15001 (60.0 s), ~6.7 MB, data loaded>, <RawEEGLAB | sub-032370_EC.fdt, 58 x 15001 (60.0 s), ~6.7 MB, data loaded>, <RawEEGLAB | sub-032370_EC.fdt, 58 x 15001 (60.0 s), ~6.7 MB, data loaded>, <RawEEGLAB | sub-032370_EC.fdt, 58 x 14251 (57.0 s), ~6.4 MB, data loaded>], [<RawEEGLAB | sub-032371_EC.fdt, 61 x 14501 (58.0 s), ~6.8 MB, data loaded>, <RawEEGLAB | sub-032371_EC.fdt, 61 x 11251 (45.0 s), ~5.3 MB, data loaded>, <RawEEGLAB | sub-032371_EC.fdt, 61 x 15001 (60.0 s), ~7.1 MB, data loaded>, <RawEEGLAB | sub-032371_EC.fdt, 61 x 15001 (60.0 s), ~7.1 MB, data loaded>, <RawEEGLAB | sub-032371_EC.fdt, 61 x 8501 (34.0 s), ~4.0 MB, data loaded>, <RawEEGLAB | sub-032371_EC.fdt, 61 x 6001 (24.0 s), ~2.9 MB, data loaded>, <RawEEGLAB | sub-032371_EC.fdt, 61 x 13501 (54.0 s), ~6.4 MB, data loaded>, <RawEEGLAB | sub-032371_EC.fdt, 61 x 14501 (58.0 s), ~6.8 MB, data loaded>, <RawEEGLAB | sub-032371_EC.fdt, 61 x 12751 (51.0 s), ~6.0 MB, data loaded>], [<RawEEGLAB | sub-032372_EC.fdt, 59 x 14501 (58.0 s), ~6.6 MB, data loaded>, <RawEEGLAB | sub-032372_EC.fdt, 59 x 14251 (57.0 s), ~6.5 MB, data loaded>, <RawEEGLAB | sub-032372_EC.fdt, 59 x 15001 (60.0 s), ~6.8 MB, data loaded>, <RawEEGLAB | sub-032372_EC.fdt, 59 x 15001 (60.0 s), ~6.8 MB, data loaded>, <RawEEGLAB | sub-032372_EC.fdt, 59 x 15001 (60.0 s), ~6.8 MB, data loaded>, <RawEEGLAB | sub-032372_EC.fdt, 59 x 15001 (60.0 s), ~6.8 MB, data loaded>, <RawEEGLAB | sub-032372_EC.fdt, 59 x 15001 (60.0 s), ~6.8 MB, data loaded>, <RawEEGLAB | sub-032372_EC.fdt, 59 x 14251 (57.0 s), ~6.5 MB, data loaded>], [<RawEEGLAB | sub-032373_EC.fdt, 60 x 5251 (21.0 s), ~2.5 MB, data loaded>, <RawEEGLAB | sub-032373_EC.fdt, 60 x 8501 (34.0 s), ~4.0 MB, data loaded>, <RawEEGLAB | sub-032373_EC.fdt, 60 x 4251 (17.0 s), ~2.0 MB, data loaded>, <RawEEGLAB | sub-032373_EC.fdt, 60 x 10251 (41.0 s), ~4.8 MB, data loaded>, <RawEEGLAB | sub-032373_EC.fdt, 60 x 13751 (55.0 s), ~6.4 MB, data loaded>, <RawEEGLAB | sub-032373_EC.fdt, 60 x 5001 (20.0 s), ~2.4 MB, data loaded>, <RawEEGLAB | sub-032373_EC.fdt, 60 x 7751 (31.0 s), ~3.6 MB, data loaded>, <RawEEGLAB | sub-032373_EC.fdt, 60 x 5251 (21.0 s), ~2.5 MB, data loaded>, <RawEEGLAB | sub-032373_EC.fdt, 60 x 9001 (36.0 s), ~4.2 MB, data loaded>, <RawEEGLAB | sub-032373_EC.fdt, 60 x 7751 (31.0 s), ~3.6 MB, data loaded>, <RawEEGLAB | sub-032373_EC.fdt, 60 x 6501 (26.0 s), ~3.1 MB, data loaded>, <RawEEGLAB | sub-032373_EC.fdt, 60 x 3751 (15.0 s), ~1.8 MB, data loaded>, <RawEEGLAB | sub-032373_EC.fdt, 60 x 7001 (28.0 s), ~3.3 MB, data loaded>, <RawEEGLAB | sub-032373_EC.fdt, 60 x 14251 (57.0 s), ~6.6 MB, data loaded>], [<RawEEGLAB | sub-032375_EC.fdt, 60 x 14501 (58.0 s), ~6.7 MB, data loaded>, <RawEEGLAB | sub-032375_EC.fdt, 60 x 15001 (60.0 s), ~6.9 MB, data loaded>, <RawEEGLAB | sub-032375_EC.fdt, 60 x 15001 (60.0 s), ~6.9 MB, data loaded>, <RawEEGLAB | sub-032375_EC.fdt, 60 x 11501 (46.0 s), ~5.3 MB, data loaded>, <RawEEGLAB | sub-032375_EC.fdt, 60 x 14251 (57.0 s), ~6.6 MB, data loaded>, <RawEEGLAB | sub-032375_EC.fdt, 60 x 15001 (60.0 s), ~6.9 MB, data loaded>, <RawEEGLAB | sub-032375_EC.fdt, 60 x 15001 (60.0 s), ~6.9 MB, data loaded>, <RawEEGLAB | sub-032375_EC.fdt, 60 x 14251 (57.0 s), ~6.6 MB, data loaded>], [<RawEEGLAB | sub-032376_EC.fdt, 61 x 14501 (58.0 s), ~6.8 MB, data loaded>, <RawEEGLAB | sub-032376_EC.fdt, 61 x 15001 (60.0 s), ~7.1 MB, data loaded>, <RawEEGLAB | sub-032376_EC.fdt, 61 x 14251 (57.0 s), ~6.7 MB, data loaded>, <RawEEGLAB | sub-032376_EC.fdt, 61 x 12751 (51.0 s), ~6.0 MB, data loaded>, <RawEEGLAB | sub-032376_EC.fdt, 61 x 13501 (54.0 s), ~6.4 MB, data loaded>, <RawEEGLAB | sub-032376_EC.fdt, 61 x 13251 (53.0 s), ~6.3 MB, data loaded>, <RawEEGLAB | sub-032376_EC.fdt, 61 x 14251 (57.0 s), ~6.7 MB, data loaded>, <RawEEGLAB | sub-032376_EC.fdt, 61 x 11001 (44.0 s), ~5.2 MB, data loaded>], [<RawEEGLAB | sub-032377_EC.fdt, 59 x 14501 (58.0 s), ~6.6 MB, data loaded>, <RawEEGLAB | sub-032377_EC.fdt, 59 x 15001 (60.0 s), ~6.8 MB, data loaded>, <RawEEGLAB | sub-032377_EC.fdt, 59 x 15001 (60.0 s), ~6.8 MB, data loaded>, <RawEEGLAB | sub-032377_EC.fdt, 59 x 15001 (60.0 s), ~6.8 MB, data loaded>, <RawEEGLAB | sub-032377_EC.fdt, 59 x 15001 (60.0 s), ~6.8 MB, data loaded>, <RawEEGLAB | sub-032377_EC.fdt, 59 x 15001 (60.0 s), ~6.8 MB, data loaded>, <RawEEGLAB | sub-032377_EC.fdt, 59 x 15001 (60.0 s), ~6.8 MB, data loaded>, <RawEEGLAB | sub-032377_EC.fdt, 59 x 14251 (57.0 s), ~6.5 MB, data loaded>], [<RawEEGLAB | sub-032378_EC.fdt, 59 x 14501 (58.0 s), ~6.6 MB, data loaded>, <RawEEGLAB | sub-032378_EC.fdt, 59 x 15001 (60.0 s), ~6.8 MB, data loaded>, <RawEEGLAB | sub-032378_EC.fdt, 59 x 15001 (60.0 s), ~6.8 MB, data loaded>, <RawEEGLAB | sub-032378_EC.fdt, 59 x 15001 (60.0 s), ~6.8 MB, data loaded>, <RawEEGLAB | sub-032378_EC.fdt, 59 x 15001 (60.0 s), ~6.8 MB, data loaded>, <RawEEGLAB | sub-032378_EC.fdt, 59 x 15001 (60.0 s), ~6.8 MB, data loaded>, <RawEEGLAB | sub-032378_EC.fdt, 59 x 15001 (60.0 s), ~6.8 MB, data loaded>, <RawEEGLAB | sub-032378_EC.fdt, 59 x 14251 (57.0 s), ~6.5 MB, data loaded>], [<RawEEGLAB | sub-032379_EC.fdt, 60 x 14501 (58.0 s), ~6.7 MB, data loaded>, <RawEEGLAB | sub-032379_EC.fdt, 60 x 15001 (60.0 s), ~6.9 MB, data loaded>, <RawEEGLAB | sub-032379_EC.fdt, 60 x 15001 (60.0 s), ~6.9 MB, data loaded>, <RawEEGLAB | sub-032379_EC.fdt, 60 x 15001 (60.0 s), ~6.9 MB, data loaded>, <RawEEGLAB | sub-032379_EC.fdt, 60 x 15001 (60.0 s), ~6.9 MB, data loaded>, <RawEEGLAB | sub-032379_EC.fdt, 60 x 15001 (60.0 s), ~6.9 MB, data loaded>, <RawEEGLAB | sub-032379_EC.fdt, 60 x 11251 (45.0 s), ~5.2 MB, data loaded>, <RawEEGLAB | sub-032379_EC.fdt, 60 x 13501 (54.0 s), ~6.3 MB, data loaded>], [<RawEEGLAB | sub-032380_EC.fdt, 58 x 14501 (58.0 s), ~6.5 MB, data loaded>, <RawEEGLAB | sub-032380_EC.fdt, 58 x 15001 (60.0 s), ~6.7 MB, data loaded>, <RawEEGLAB | sub-032380_EC.fdt, 58 x 15001 (60.0 s), ~6.7 MB, data loaded>, <RawEEGLAB | sub-032380_EC.fdt, 58 x 15001 (60.0 s), ~6.7 MB, data loaded>, <RawEEGLAB | sub-032380_EC.fdt, 58 x 15001 (60.0 s), ~6.7 MB, data loaded>, <RawEEGLAB | sub-032380_EC.fdt, 58 x 15001 (60.0 s), ~6.7 MB, data loaded>, <RawEEGLAB | sub-032380_EC.fdt, 58 x 15001 (60.0 s), ~6.7 MB, data loaded>, <RawEEGLAB | sub-032380_EC.fdt, 58 x 14251 (57.0 s), ~6.4 MB, data loaded>], [<RawEEGLAB | sub-032381_EC.fdt, 60 x 9751 (39.0 s), ~4.5 MB, data loaded>, <RawEEGLAB | sub-032381_EC.fdt, 60 x 4001 (16.0 s), ~1.9 MB, data loaded>, <RawEEGLAB | sub-032381_EC.fdt, 60 x 15001 (60.0 s), ~6.9 MB, data loaded>, <RawEEGLAB | sub-032381_EC.fdt, 60 x 14251 (57.0 s), ~6.6 MB, data loaded>, <RawEEGLAB | sub-032381_EC.fdt, 60 x 15001 (60.0 s), ~6.9 MB, data loaded>, <RawEEGLAB | sub-032381_EC.fdt, 60 x 15001 (60.0 s), ~6.9 MB, data loaded>, <RawEEGLAB | sub-032381_EC.fdt, 60 x 15001 (60.0 s), ~6.9 MB, data loaded>, <RawEEGLAB | sub-032381_EC.fdt, 60 x 15001 (60.0 s), ~6.9 MB, data loaded>, <RawEEGLAB | sub-032381_EC.fdt, 60 x 14251 (57.0 s), ~6.6 MB, data loaded>], [<RawEEGLAB | sub-032383_EC.fdt, 58 x 14501 (58.0 s), ~6.5 MB, data loaded>, <RawEEGLAB | sub-032383_EC.fdt, 58 x 14751 (59.0 s), ~6.6 MB, data loaded>, <RawEEGLAB | sub-032383_EC.fdt, 58 x 14501 (58.0 s), ~6.5 MB, data loaded>, <RawEEGLAB | sub-032383_EC.fdt, 58 x 15001 (60.0 s), ~6.7 MB, data loaded>, <RawEEGLAB | sub-032383_EC.fdt, 58 x 15001 (60.0 s), ~6.7 MB, data loaded>, <RawEEGLAB | sub-032383_EC.fdt, 58 x 15001 (60.0 s), ~6.7 MB, data loaded>, <RawEEGLAB | sub-032383_EC.fdt, 58 x 15001 (60.0 s), ~6.7 MB, data loaded>, <RawEEGLAB | sub-032383_EC.fdt, 58 x 14251 (57.0 s), ~6.4 MB, data loaded>], [<RawEEGLAB | sub-032385_EC.fdt, 60 x 14501 (58.0 s), ~6.7 MB, data loaded>, <RawEEGLAB | sub-032385_EC.fdt, 60 x 15001 (60.0 s), ~6.9 MB, data loaded>, <RawEEGLAB | sub-032385_EC.fdt, 60 x 15001 (60.0 s), ~6.9 MB, data loaded>, <RawEEGLAB | sub-032385_EC.fdt, 60 x 15001 (60.0 s), ~6.9 MB, data loaded>, <RawEEGLAB | sub-032385_EC.fdt, 60 x 15001 (60.0 s), ~6.9 MB, data loaded>, <RawEEGLAB | sub-032385_EC.fdt, 60 x 15001 (60.0 s), ~6.9 MB, data loaded>, <RawEEGLAB | sub-032385_EC.fdt, 60 x 15001 (60.0 s), ~6.9 MB, data loaded>, <RawEEGLAB | sub-032385_EC.fdt, 60 x 14251 (57.0 s), ~6.6 MB, data loaded>], [<RawEEGLAB | sub-032386_EC.fdt, 61 x 14501 (58.0 s), ~6.8 MB, data loaded>, <RawEEGLAB | sub-032386_EC.fdt, 61 x 15001 (60.0 s), ~7.1 MB, data loaded>, <RawEEGLAB | sub-032386_EC.fdt, 61 x 15001 (60.0 s), ~7.1 MB, data loaded>, <RawEEGLAB | sub-032386_EC.fdt, 61 x 15001 (60.0 s), ~7.1 MB, data loaded>, <RawEEGLAB | sub-032386_EC.fdt, 61 x 15001 (60.0 s), ~7.1 MB, data loaded>, <RawEEGLAB | sub-032386_EC.fdt, 61 x 14751 (59.0 s), ~6.9 MB, data loaded>, <RawEEGLAB | sub-032386_EC.fdt, 61 x 15001 (60.0 s), ~7.1 MB, data loaded>, <RawEEGLAB | sub-032386_EC.fdt, 61 x 14251 (57.0 s), ~6.7 MB, data loaded>], [<RawEEGLAB | sub-032387_EC.fdt, 59 x 14501 (58.0 s), ~6.6 MB, data loaded>, <RawEEGLAB | sub-032387_EC.fdt, 59 x 15001 (60.0 s), ~6.8 MB, data loaded>, <RawEEGLAB | sub-032387_EC.fdt, 59 x 15001 (60.0 s), ~6.8 MB, data loaded>, <RawEEGLAB | sub-032387_EC.fdt, 59 x 15001 (60.0 s), ~6.8 MB, data loaded>, <RawEEGLAB | sub-032387_EC.fdt, 59 x 15001 (60.0 s), ~6.8 MB, data loaded>, <RawEEGLAB | sub-032387_EC.fdt, 59 x 15001 (60.0 s), ~6.8 MB, data loaded>, <RawEEGLAB | sub-032387_EC.fdt, 59 x 15001 (60.0 s), ~6.8 MB, data loaded>, <RawEEGLAB | sub-032387_EC.fdt, 59 x 14251 (57.0 s), ~6.5 MB, data loaded>], [<RawEEGLAB | sub-032388_EC.fdt, 61 x 14501 (58.0 s), ~6.8 MB, data loaded>, <RawEEGLAB | sub-032388_EC.fdt, 61 x 15001 (60.0 s), ~7.1 MB, data loaded>, <RawEEGLAB | sub-032388_EC.fdt, 61 x 15001 (60.0 s), ~7.1 MB, data loaded>, <RawEEGLAB | sub-032388_EC.fdt, 61 x 15001 (60.0 s), ~7.1 MB, data loaded>, <RawEEGLAB | sub-032388_EC.fdt, 61 x 15001 (60.0 s), ~7.1 MB, data loaded>, <RawEEGLAB | sub-032388_EC.fdt, 61 x 15001 (60.0 s), ~7.1 MB, data loaded>, <RawEEGLAB | sub-032388_EC.fdt, 61 x 15001 (60.0 s), ~7.1 MB, data loaded>, <RawEEGLAB | sub-032388_EC.fdt, 61 x 14251 (57.0 s), ~6.7 MB, data loaded>], [<RawEEGLAB | sub-032389_EC.fdt, 61 x 14501 (58.0 s), ~6.8 MB, data loaded>, <RawEEGLAB | sub-032389_EC.fdt, 61 x 15001 (60.0 s), ~7.1 MB, data loaded>, <RawEEGLAB | sub-032389_EC.fdt, 61 x 15001 (60.0 s), ~7.1 MB, data loaded>, <RawEEGLAB | sub-032389_EC.fdt, 61 x 15001 (60.0 s), ~7.1 MB, data loaded>, <RawEEGLAB | sub-032389_EC.fdt, 61 x 15001 (60.0 s), ~7.1 MB, data loaded>, <RawEEGLAB | sub-032389_EC.fdt, 61 x 15001 (60.0 s), ~7.1 MB, data loaded>, <RawEEGLAB | sub-032389_EC.fdt, 61 x 15001 (60.0 s), ~7.1 MB, data loaded>, <RawEEGLAB | sub-032389_EC.fdt, 61 x 14501 (58.0 s), ~6.8 MB, data loaded>], [<RawEEGLAB | sub-032390_EC.fdt, 61 x 14501 (58.0 s), ~6.8 MB, data loaded>, <RawEEGLAB | sub-032390_EC.fdt, 61 x 15001 (60.0 s), ~7.1 MB, data loaded>, <RawEEGLAB | sub-032390_EC.fdt, 61 x 15001 (60.0 s), ~7.1 MB, data loaded>, <RawEEGLAB | sub-032390_EC.fdt, 61 x 15001 (60.0 s), ~7.1 MB, data loaded>, <RawEEGLAB | sub-032390_EC.fdt, 61 x 15001 (60.0 s), ~7.1 MB, data loaded>, <RawEEGLAB | sub-032390_EC.fdt, 61 x 15001 (60.0 s), ~7.1 MB, data loaded>, <RawEEGLAB | sub-032390_EC.fdt, 61 x 15001 (60.0 s), ~7.1 MB, data loaded>, <RawEEGLAB | sub-032390_EC.fdt, 61 x 14251 (57.0 s), ~6.7 MB, data loaded>], [<RawEEGLAB | sub-032391_EC.fdt, 61 x 14501 (58.0 s), ~6.8 MB, data loaded>, <RawEEGLAB | sub-032391_EC.fdt, 61 x 15001 (60.0 s), ~7.1 MB, data loaded>, <RawEEGLAB | sub-032391_EC.fdt, 61 x 15001 (60.0 s), ~7.1 MB, data loaded>, <RawEEGLAB | sub-032391_EC.fdt, 61 x 15001 (60.0 s), ~7.1 MB, data loaded>, <RawEEGLAB | sub-032391_EC.fdt, 61 x 15001 (60.0 s), ~7.1 MB, data loaded>, <RawEEGLAB | sub-032391_EC.fdt, 61 x 15001 (60.0 s), ~7.1 MB, data loaded>, <RawEEGLAB | sub-032391_EC.fdt, 61 x 14001 (56.0 s), ~6.6 MB, data loaded>, <RawEEGLAB | sub-032391_EC.fdt, 61 x 14251 (57.0 s), ~6.7 MB, data loaded>], [<RawEEGLAB | sub-032392_EC.fdt, 59 x 14501 (58.0 s), ~6.6 MB, data loaded>, <RawEEGLAB | sub-032392_EC.fdt, 59 x 15001 (60.0 s), ~6.8 MB, data loaded>, <RawEEGLAB | sub-032392_EC.fdt, 59 x 15001 (60.0 s), ~6.8 MB, data loaded>, <RawEEGLAB | sub-032392_EC.fdt, 59 x 15001 (60.0 s), ~6.8 MB, data loaded>, <RawEEGLAB | sub-032392_EC.fdt, 59 x 15001 (60.0 s), ~6.8 MB, data loaded>, <RawEEGLAB | sub-032392_EC.fdt, 59 x 15001 (60.0 s), ~6.8 MB, data loaded>, <RawEEGLAB | sub-032392_EC.fdt, 59 x 15001 (60.0 s), ~6.8 MB, data loaded>, <RawEEGLAB | sub-032392_EC.fdt, 59 x 14251 (57.0 s), ~6.5 MB, data loaded>], [<RawEEGLAB | sub-032393_EC.fdt, 59 x 14501 (58.0 s), ~6.6 MB, data loaded>, <RawEEGLAB | sub-032393_EC.fdt, 59 x 15001 (60.0 s), ~6.8 MB, data loaded>, <RawEEGLAB | sub-032393_EC.fdt, 59 x 15001 (60.0 s), ~6.8 MB, data loaded>, <RawEEGLAB | sub-032393_EC.fdt, 59 x 15001 (60.0 s), ~6.8 MB, data loaded>, <RawEEGLAB | sub-032393_EC.fdt, 59 x 15001 (60.0 s), ~6.8 MB, data loaded>, <RawEEGLAB | sub-032393_EC.fdt, 59 x 15001 (60.0 s), ~6.8 MB, data loaded>, <RawEEGLAB | sub-032393_EC.fdt, 59 x 15001 (60.0 s), ~6.8 MB, data loaded>, <RawEEGLAB | sub-032393_EC.fdt, 59 x 14501 (58.0 s), ~6.6 MB, data loaded>], [<RawEEGLAB | sub-032394_EC.fdt, 60 x 14501 (58.0 s), ~6.7 MB, data loaded>, <RawEEGLAB | sub-032394_EC.fdt, 60 x 15001 (60.0 s), ~6.9 MB, data loaded>, <RawEEGLAB | sub-032394_EC.fdt, 60 x 15001 (60.0 s), ~6.9 MB, data loaded>, <RawEEGLAB | sub-032394_EC.fdt, 60 x 15001 (60.0 s), ~6.9 MB, data loaded>, <RawEEGLAB | sub-032394_EC.fdt, 60 x 15001 (60.0 s), ~6.9 MB, data loaded>, <RawEEGLAB | sub-032394_EC.fdt, 60 x 15001 (60.0 s), ~6.9 MB, data loaded>, <RawEEGLAB | sub-032394_EC.fdt, 60 x 14501 (58.0 s), ~6.7 MB, data loaded>, <RawEEGLAB | sub-032394_EC.fdt, 60 x 14251 (57.0 s), ~6.6 MB, data loaded>], [<RawEEGLAB | sub-032395_EC.fdt, 61 x 14501 (58.0 s), ~6.8 MB, data loaded>, <RawEEGLAB | sub-032395_EC.fdt, 61 x 15001 (60.0 s), ~7.1 MB, data loaded>, <RawEEGLAB | sub-032395_EC.fdt, 61 x 15001 (60.0 s), ~7.1 MB, data loaded>, <RawEEGLAB | sub-032395_EC.fdt, 61 x 15001 (60.0 s), ~7.1 MB, data loaded>, <RawEEGLAB | sub-032395_EC.fdt, 61 x 15001 (60.0 s), ~7.1 MB, data loaded>, <RawEEGLAB | sub-032395_EC.fdt, 61 x 15001 (60.0 s), ~7.1 MB, data loaded>, <RawEEGLAB | sub-032395_EC.fdt, 61 x 15001 (60.0 s), ~7.1 MB, data loaded>, <RawEEGLAB | sub-032395_EC.fdt, 61 x 14501 (58.0 s), ~6.8 MB, data loaded>], [<RawEEGLAB | sub-032396_EC.fdt, 59 x 14501 (58.0 s), ~6.6 MB, data loaded>, <RawEEGLAB | sub-032396_EC.fdt, 59 x 15001 (60.0 s), ~6.8 MB, data loaded>, <RawEEGLAB | sub-032396_EC.fdt, 59 x 15001 (60.0 s), ~6.8 MB, data loaded>, <RawEEGLAB | sub-032396_EC.fdt, 59 x 15001 (60.0 s), ~6.8 MB, data loaded>, <RawEEGLAB | sub-032396_EC.fdt, 59 x 15001 (60.0 s), ~6.8 MB, data loaded>, <RawEEGLAB | sub-032396_EC.fdt, 59 x 13751 (55.0 s), ~6.3 MB, data loaded>, <RawEEGLAB | sub-032396_EC.fdt, 59 x 13751 (55.0 s), ~6.3 MB, data loaded>, <RawEEGLAB | sub-032396_EC.fdt, 59 x 13251 (53.0 s), ~6.0 MB, data loaded>], [<RawEEGLAB | sub-032397_EC.fdt, 58 x 14501 (58.0 s), ~6.5 MB, data loaded>, <RawEEGLAB | sub-032397_EC.fdt, 58 x 15001 (60.0 s), ~6.7 MB, data loaded>, <RawEEGLAB | sub-032397_EC.fdt, 58 x 15001 (60.0 s), ~6.7 MB, data loaded>, <RawEEGLAB | sub-032397_EC.fdt, 58 x 15001 (60.0 s), ~6.7 MB, data loaded>, <RawEEGLAB | sub-032397_EC.fdt, 58 x 15001 (60.0 s), ~6.7 MB, data loaded>, <RawEEGLAB | sub-032397_EC.fdt, 58 x 15001 (60.0 s), ~6.7 MB, data loaded>, <RawEEGLAB | sub-032397_EC.fdt, 58 x 14751 (59.0 s), ~6.6 MB, data loaded>, <RawEEGLAB | sub-032397_EC.fdt, 58 x 13001 (52.0 s), ~5.8 MB, data loaded>], [<RawEEGLAB | sub-032398_EC.fdt, 61 x 14501 (58.0 s), ~6.8 MB, data loaded>, <RawEEGLAB | sub-032398_EC.fdt, 61 x 15001 (60.0 s), ~7.1 MB, data loaded>, <RawEEGLAB | sub-032398_EC.fdt, 61 x 15001 (60.0 s), ~7.1 MB, data loaded>, <RawEEGLAB | sub-032398_EC.fdt, 61 x 15001 (60.0 s), ~7.1 MB, data loaded>, <RawEEGLAB | sub-032398_EC.fdt, 61 x 15001 (60.0 s), ~7.1 MB, data loaded>, <RawEEGLAB | sub-032398_EC.fdt, 61 x 10501 (42.0 s), ~5.0 MB, data loaded>, <RawEEGLAB | sub-032398_EC.fdt, 61 x 12501 (50.0 s), ~5.9 MB, data loaded>, <RawEEGLAB | sub-032398_EC.fdt, 61 x 14251 (57.0 s), ~6.7 MB, data loaded>], [<RawEEGLAB | sub-032399_EC.fdt, 56 x 14501 (58.0 s), ~6.3 MB, data loaded>, <RawEEGLAB | sub-032399_EC.fdt, 56 x 15001 (60.0 s), ~6.5 MB, data loaded>, <RawEEGLAB | sub-032399_EC.fdt, 56 x 15001 (60.0 s), ~6.5 MB, data loaded>, <RawEEGLAB | sub-032399_EC.fdt, 56 x 15001 (60.0 s), ~6.5 MB, data loaded>, <RawEEGLAB | sub-032399_EC.fdt, 56 x 15001 (60.0 s), ~6.5 MB, data loaded>, <RawEEGLAB | sub-032399_EC.fdt, 56 x 15001 (60.0 s), ~6.5 MB, data loaded>, <RawEEGLAB | sub-032399_EC.fdt, 56 x 15001 (60.0 s), ~6.5 MB, data loaded>, <RawEEGLAB | sub-032399_EC.fdt, 56 x 14251 (57.0 s), ~6.2 MB, data loaded>], [<RawEEGLAB | sub-032400_EC.fdt, 61 x 14501 (58.0 s), ~6.8 MB, data loaded>, <RawEEGLAB | sub-032400_EC.fdt, 61 x 15001 (60.0 s), ~7.1 MB, data loaded>, <RawEEGLAB | sub-032400_EC.fdt, 61 x 15001 (60.0 s), ~7.1 MB, data loaded>, <RawEEGLAB | sub-032400_EC.fdt, 61 x 15001 (60.0 s), ~7.1 MB, data loaded>, <RawEEGLAB | sub-032400_EC.fdt, 61 x 15001 (60.0 s), ~7.1 MB, data loaded>, <RawEEGLAB | sub-032400_EC.fdt, 61 x 15001 (60.0 s), ~7.1 MB, data loaded>, <RawEEGLAB | sub-032400_EC.fdt, 61 x 15001 (60.0 s), ~7.1 MB, data loaded>, <RawEEGLAB | sub-032400_EC.fdt, 61 x 10501 (42.0 s), ~5.0 MB, data loaded>], [<RawEEGLAB | sub-032401_EC.fdt, 60 x 14001 (56.0 s), ~6.5 MB, data loaded>, <RawEEGLAB | sub-032401_EC.fdt, 60 x 15001 (60.0 s), ~6.9 MB, data loaded>, <RawEEGLAB | sub-032401_EC.fdt, 60 x 15001 (60.0 s), ~6.9 MB, data loaded>, <RawEEGLAB | sub-032401_EC.fdt, 60 x 15001 (60.0 s), ~6.9 MB, data loaded>, <RawEEGLAB | sub-032401_EC.fdt, 60 x 15001 (60.0 s), ~6.9 MB, data loaded>, <RawEEGLAB | sub-032401_EC.fdt, 60 x 15001 (60.0 s), ~6.9 MB, data loaded>, <RawEEGLAB | sub-032401_EC.fdt, 60 x 15001 (60.0 s), ~6.9 MB, data loaded>, <RawEEGLAB | sub-032401_EC.fdt, 60 x 14251 (57.0 s), ~6.6 MB, data loaded>], [<RawEEGLAB | sub-032402_EC.fdt, 57 x 12001 (48.0 s), ~5.3 MB, data loaded>, <RawEEGLAB | sub-032402_EC.fdt, 57 x 15001 (60.0 s), ~6.6 MB, data loaded>, <RawEEGLAB | sub-032402_EC.fdt, 57 x 13251 (53.0 s), ~5.8 MB, data loaded>, <RawEEGLAB | sub-032402_EC.fdt, 57 x 15001 (60.0 s), ~6.6 MB, data loaded>, <RawEEGLAB | sub-032402_EC.fdt, 57 x 15001 (60.0 s), ~6.6 MB, data loaded>, <RawEEGLAB | sub-032402_EC.fdt, 57 x 14251 (57.0 s), ~6.3 MB, data loaded>, <RawEEGLAB | sub-032402_EC.fdt, 57 x 15001 (60.0 s), ~6.6 MB, data loaded>, <RawEEGLAB | sub-032402_EC.fdt, 57 x 14251 (57.0 s), ~6.3 MB, data loaded>], [<RawEEGLAB | sub-032403_EC.fdt, 60 x 14251 (57.0 s), ~6.6 MB, data loaded>, <RawEEGLAB | sub-032403_EC.fdt, 60 x 14751 (59.0 s), ~6.8 MB, data loaded>, <RawEEGLAB | sub-032403_EC.fdt, 60 x 15001 (60.0 s), ~6.9 MB, data loaded>, <RawEEGLAB | sub-032403_EC.fdt, 60 x 14751 (59.0 s), ~6.8 MB, data loaded>, <RawEEGLAB | sub-032403_EC.fdt, 60 x 14751 (59.0 s), ~6.8 MB, data loaded>, <RawEEGLAB | sub-032403_EC.fdt, 60 x 15001 (60.0 s), ~6.9 MB, data loaded>, <RawEEGLAB | sub-032403_EC.fdt, 60 x 15001 (60.0 s), ~6.9 MB, data loaded>, <RawEEGLAB | sub-032403_EC.fdt, 60 x 14251 (57.0 s), ~6.6 MB, data loaded>], [<RawEEGLAB | sub-032405_EC.fdt, 61 x 14501 (58.0 s), ~6.8 MB, data loaded>, <RawEEGLAB | sub-032405_EC.fdt, 61 x 15001 (60.0 s), ~7.1 MB, data loaded>, <RawEEGLAB | sub-032405_EC.fdt, 61 x 15001 (60.0 s), ~7.1 MB, data loaded>, <RawEEGLAB | sub-032405_EC.fdt, 61 x 15001 (60.0 s), ~7.1 MB, data loaded>, <RawEEGLAB | sub-032405_EC.fdt, 61 x 8751 (35.0 s), ~4.2 MB, data loaded>, <RawEEGLAB | sub-032405_EC.fdt, 61 x 15001 (60.0 s), ~7.1 MB, data loaded>, <RawEEGLAB | sub-032405_EC.fdt, 61 x 15001 (60.0 s), ~7.1 MB, data loaded>, <RawEEGLAB | sub-032405_EC.fdt, 61 x 14251 (57.0 s), ~6.7 MB, data loaded>], [<RawEEGLAB | sub-032406_EC.fdt, 61 x 14501 (58.0 s), ~6.8 MB, data loaded>, <RawEEGLAB | sub-032406_EC.fdt, 61 x 15001 (60.0 s), ~7.1 MB, data loaded>, <RawEEGLAB | sub-032406_EC.fdt, 61 x 15001 (60.0 s), ~7.1 MB, data loaded>, <RawEEGLAB | sub-032406_EC.fdt, 61 x 15001 (60.0 s), ~7.1 MB, data loaded>, <RawEEGLAB | sub-032406_EC.fdt, 61 x 15001 (60.0 s), ~7.1 MB, data loaded>, <RawEEGLAB | sub-032406_EC.fdt, 61 x 15001 (60.0 s), ~7.1 MB, data loaded>, <RawEEGLAB | sub-032406_EC.fdt, 61 x 15001 (60.0 s), ~7.1 MB, data loaded>, <RawEEGLAB | sub-032406_EC.fdt, 61 x 14501 (58.0 s), ~6.8 MB, data loaded>], [<RawEEGLAB | sub-032407_EC.fdt, 61 x 14501 (58.0 s), ~6.8 MB, data loaded>, <RawEEGLAB | sub-032407_EC.fdt, 61 x 15001 (60.0 s), ~7.1 MB, data loaded>, <RawEEGLAB | sub-032407_EC.fdt, 61 x 15001 (60.0 s), ~7.1 MB, data loaded>, <RawEEGLAB | sub-032407_EC.fdt, 61 x 13001 (52.0 s), ~6.1 MB, data loaded>, <RawEEGLAB | sub-032407_EC.fdt, 61 x 15001 (60.0 s), ~7.1 MB, data loaded>, <RawEEGLAB | sub-032407_EC.fdt, 61 x 15001 (60.0 s), ~7.1 MB, data loaded>, <RawEEGLAB | sub-032407_EC.fdt, 61 x 15001 (60.0 s), ~7.1 MB, data loaded>, <RawEEGLAB | sub-032407_EC.fdt, 61 x 8751 (35.0 s), ~4.2 MB, data loaded>, <RawEEGLAB | sub-032407_EC.fdt, 61 x 5001 (20.0 s), ~2.4 MB, data loaded>], [<RawEEGLAB | sub-032408_EC.fdt, 61 x 14501 (58.0 s), ~6.8 MB, data loaded>, <RawEEGLAB | sub-032408_EC.fdt, 61 x 15001 (60.0 s), ~7.1 MB, data loaded>, <RawEEGLAB | sub-032408_EC.fdt, 61 x 15001 (60.0 s), ~7.1 MB, data loaded>, <RawEEGLAB | sub-032408_EC.fdt, 61 x 15001 (60.0 s), ~7.1 MB, data loaded>, <RawEEGLAB | sub-032408_EC.fdt, 61 x 15001 (60.0 s), ~7.1 MB, data loaded>, <RawEEGLAB | sub-032408_EC.fdt, 61 x 15001 (60.0 s), ~7.1 MB, data loaded>, <RawEEGLAB | sub-032408_EC.fdt, 61 x 15001 (60.0 s), ~7.1 MB, data loaded>, <RawEEGLAB | sub-032408_EC.fdt, 61 x 14501 (58.0 s), ~6.8 MB, data loaded>], [<RawEEGLAB | sub-032409_EC.fdt, 59 x 14501 (58.0 s), ~6.6 MB, data loaded>, <RawEEGLAB | sub-032409_EC.fdt, 59 x 15001 (60.0 s), ~6.8 MB, data loaded>, <RawEEGLAB | sub-032409_EC.fdt, 59 x 15001 (60.0 s), ~6.8 MB, data loaded>, <RawEEGLAB | sub-032409_EC.fdt, 59 x 15001 (60.0 s), ~6.8 MB, data loaded>, <RawEEGLAB | sub-032409_EC.fdt, 59 x 15001 (60.0 s), ~6.8 MB, data loaded>, <RawEEGLAB | sub-032409_EC.fdt, 59 x 15001 (60.0 s), ~6.8 MB, data loaded>, <RawEEGLAB | sub-032409_EC.fdt, 59 x 15001 (60.0 s), ~6.8 MB, data loaded>, <RawEEGLAB | sub-032409_EC.fdt, 59 x 14251 (57.0 s), ~6.5 MB, data loaded>], [<RawEEGLAB | sub-032411_EC.fdt, 60 x 4001 (16.0 s), ~1.9 MB, data loaded>, <RawEEGLAB | sub-032411_EC.fdt, 60 x 10001 (40.0 s), ~4.7 MB, data loaded>, <RawEEGLAB | sub-032411_EC.fdt, 60 x 15001 (60.0 s), ~6.9 MB, data loaded>, <RawEEGLAB | sub-032411_EC.fdt, 60 x 15001 (60.0 s), ~6.9 MB, data loaded>, <RawEEGLAB | sub-032411_EC.fdt, 60 x 15001 (60.0 s), ~6.9 MB, data loaded>, <RawEEGLAB | sub-032411_EC.fdt, 60 x 15001 (60.0 s), ~6.9 MB, data loaded>, <RawEEGLAB | sub-032411_EC.fdt, 60 x 15001 (60.0 s), ~6.9 MB, data loaded>, <RawEEGLAB | sub-032411_EC.fdt, 60 x 7501 (30.0 s), ~3.5 MB, data loaded>, <RawEEGLAB | sub-032411_EC.fdt, 60 x 6251 (25.0 s), ~2.9 MB, data loaded>, <RawEEGLAB | sub-032411_EC.fdt, 60 x 14251 (57.0 s), ~6.6 MB, data loaded>], [<RawEEGLAB | sub-032412_EC.fdt, 61 x 14001 (56.0 s), ~6.6 MB, data loaded>, <RawEEGLAB | sub-032412_EC.fdt, 61 x 15001 (60.0 s), ~7.1 MB, data loaded>, <RawEEGLAB | sub-032412_EC.fdt, 61 x 15001 (60.0 s), ~7.1 MB, data loaded>, <RawEEGLAB | sub-032412_EC.fdt, 61 x 15001 (60.0 s), ~7.1 MB, data loaded>, <RawEEGLAB | sub-032412_EC.fdt, 61 x 15001 (60.0 s), ~7.1 MB, data loaded>, <RawEEGLAB | sub-032412_EC.fdt, 61 x 3751 (15.0 s), ~1.8 MB, data loaded>, <RawEEGLAB | sub-032412_EC.fdt, 61 x 10501 (42.0 s), ~5.0 MB, data loaded>, <RawEEGLAB | sub-032412_EC.fdt, 61 x 15001 (60.0 s), ~7.1 MB, data loaded>, <RawEEGLAB | sub-032412_EC.fdt, 61 x 14251 (57.0 s), ~6.7 MB, data loaded>], [<RawEEGLAB | sub-032413_EC.fdt, 60 x 14251 (57.0 s), ~6.6 MB, data loaded>, <RawEEGLAB | sub-032413_EC.fdt, 60 x 15001 (60.0 s), ~6.9 MB, data loaded>, <RawEEGLAB | sub-032413_EC.fdt, 60 x 15001 (60.0 s), ~6.9 MB, data loaded>, <RawEEGLAB | sub-032413_EC.fdt, 60 x 15001 (60.0 s), ~6.9 MB, data loaded>, <RawEEGLAB | sub-032413_EC.fdt, 60 x 15001 (60.0 s), ~6.9 MB, data loaded>, <RawEEGLAB | sub-032413_EC.fdt, 60 x 15001 (60.0 s), ~6.9 MB, data loaded>, <RawEEGLAB | sub-032413_EC.fdt, 60 x 15001 (60.0 s), ~6.9 MB, data loaded>, <RawEEGLAB | sub-032413_EC.fdt, 60 x 14251 (57.0 s), ~6.6 MB, data loaded>], [<RawEEGLAB | sub-032414_EC.fdt, 61 x 13001 (52.0 s), ~6.1 MB, data loaded>, <RawEEGLAB | sub-032414_EC.fdt, 61 x 15001 (60.0 s), ~7.1 MB, data loaded>, <RawEEGLAB | sub-032414_EC.fdt, 61 x 15001 (60.0 s), ~7.1 MB, data loaded>, <RawEEGLAB | sub-032414_EC.fdt, 61 x 15001 (60.0 s), ~7.1 MB, data loaded>, <RawEEGLAB | sub-032414_EC.fdt, 61 x 15001 (60.0 s), ~7.1 MB, data loaded>, <RawEEGLAB | sub-032414_EC.fdt, 61 x 15001 (60.0 s), ~7.1 MB, data loaded>, <RawEEGLAB | sub-032414_EC.fdt, 61 x 15001 (60.0 s), ~7.1 MB, data loaded>, <RawEEGLAB | sub-032414_EC.fdt, 61 x 14251 (57.0 s), ~6.7 MB, data loaded>], [<RawEEGLAB | sub-032415_EC.fdt, 61 x 14501 (58.0 s), ~6.8 MB, data loaded>, <RawEEGLAB | sub-032415_EC.fdt, 61 x 15001 (60.0 s), ~7.1 MB, data loaded>, <RawEEGLAB | sub-032415_EC.fdt, 61 x 15001 (60.0 s), ~7.1 MB, data loaded>, <RawEEGLAB | sub-032415_EC.fdt, 61 x 15001 (60.0 s), ~7.1 MB, data loaded>, <RawEEGLAB | sub-032415_EC.fdt, 61 x 14001 (56.0 s), ~6.6 MB, data loaded>, <RawEEGLAB | sub-032415_EC.fdt, 61 x 15001 (60.0 s), ~7.1 MB, data loaded>, <RawEEGLAB | sub-032415_EC.fdt, 61 x 15001 (60.0 s), ~7.1 MB, data loaded>, <RawEEGLAB | sub-032415_EC.fdt, 61 x 14251 (57.0 s), ~6.7 MB, data loaded>], [<RawEEGLAB | sub-032416_EC.fdt, 59 x 14501 (58.0 s), ~6.6 MB, data loaded>, <RawEEGLAB | sub-032416_EC.fdt, 59 x 15001 (60.0 s), ~6.8 MB, data loaded>, <RawEEGLAB | sub-032416_EC.fdt, 59 x 14751 (59.0 s), ~6.7 MB, data loaded>, <RawEEGLAB | sub-032416_EC.fdt, 59 x 15001 (60.0 s), ~6.8 MB, data loaded>, <RawEEGLAB | sub-032416_EC.fdt, 59 x 15001 (60.0 s), ~6.8 MB, data loaded>, <RawEEGLAB | sub-032416_EC.fdt, 59 x 10751 (43.0 s), ~4.9 MB, data loaded>, <RawEEGLAB | sub-032416_EC.fdt, 59 x 14501 (58.0 s), ~6.6 MB, data loaded>, <RawEEGLAB | sub-032416_EC.fdt, 59 x 5251 (21.0 s), ~2.4 MB, data loaded>], [<RawEEGLAB | sub-032417_EC.fdt, 60 x 14501 (58.0 s), ~6.7 MB, data loaded>, <RawEEGLAB | sub-032417_EC.fdt, 60 x 15001 (60.0 s), ~6.9 MB, data loaded>, <RawEEGLAB | sub-032417_EC.fdt, 60 x 15001 (60.0 s), ~6.9 MB, data loaded>, <RawEEGLAB | sub-032417_EC.fdt, 60 x 14501 (58.0 s), ~6.7 MB, data loaded>, <RawEEGLAB | sub-032417_EC.fdt, 60 x 15001 (60.0 s), ~6.9 MB, data loaded>, <RawEEGLAB | sub-032417_EC.fdt, 60 x 15001 (60.0 s), ~6.9 MB, data loaded>, <RawEEGLAB | sub-032417_EC.fdt, 60 x 15001 (60.0 s), ~6.9 MB, data loaded>, <RawEEGLAB | sub-032417_EC.fdt, 60 x 12751 (51.0 s), ~5.9 MB, data loaded>], [<RawEEGLAB | sub-032418_EC.fdt, 61 x 14501 (58.0 s), ~6.8 MB, data loaded>, <RawEEGLAB | sub-032418_EC.fdt, 61 x 15001 (60.0 s), ~7.1 MB, data loaded>, <RawEEGLAB | sub-032418_EC.fdt, 61 x 15001 (60.0 s), ~7.1 MB, data loaded>, <RawEEGLAB | sub-032418_EC.fdt, 61 x 15001 (60.0 s), ~7.1 MB, data loaded>, <RawEEGLAB | sub-032418_EC.fdt, 61 x 15001 (60.0 s), ~7.1 MB, data loaded>, <RawEEGLAB | sub-032418_EC.fdt, 61 x 11501 (46.0 s), ~5.4 MB, data loaded>, <RawEEGLAB | sub-032418_EC.fdt, 61 x 15001 (60.0 s), ~7.1 MB, data loaded>, <RawEEGLAB | sub-032418_EC.fdt, 61 x 14251 (57.0 s), ~6.7 MB, data loaded>], [<RawEEGLAB | sub-032420_EC.fdt, 61 x 14501 (58.0 s), ~6.8 MB, data loaded>, <RawEEGLAB | sub-032420_EC.fdt, 61 x 14501 (58.0 s), ~6.8 MB, data loaded>, <RawEEGLAB | sub-032420_EC.fdt, 61 x 15001 (60.0 s), ~7.1 MB, data loaded>, <RawEEGLAB | sub-032420_EC.fdt, 61 x 15001 (60.0 s), ~7.1 MB, data loaded>, <RawEEGLAB | sub-032420_EC.fdt, 61 x 15001 (60.0 s), ~7.1 MB, data loaded>, <RawEEGLAB | sub-032420_EC.fdt, 61 x 13001 (52.0 s), ~6.1 MB, data loaded>, <RawEEGLAB | sub-032420_EC.fdt, 61 x 15001 (60.0 s), ~7.1 MB, data loaded>, <RawEEGLAB | sub-032420_EC.fdt, 61 x 14251 (57.0 s), ~6.7 MB, data loaded>], [<RawEEGLAB | sub-032421_EC.fdt, 61 x 14501 (58.0 s), ~6.8 MB, data loaded>, <RawEEGLAB | sub-032421_EC.fdt, 61 x 15001 (60.0 s), ~7.1 MB, data loaded>, <RawEEGLAB | sub-032421_EC.fdt, 61 x 15001 (60.0 s), ~7.1 MB, data loaded>, <RawEEGLAB | sub-032421_EC.fdt, 61 x 15001 (60.0 s), ~7.1 MB, data loaded>, <RawEEGLAB | sub-032421_EC.fdt, 61 x 15001 (60.0 s), ~7.1 MB, data loaded>, <RawEEGLAB | sub-032421_EC.fdt, 61 x 15001 (60.0 s), ~7.1 MB, data loaded>, <RawEEGLAB | sub-032421_EC.fdt, 61 x 15001 (60.0 s), ~7.1 MB, data loaded>, <RawEEGLAB | sub-032421_EC.fdt, 61 x 14501 (58.0 s), ~6.8 MB, data loaded>], [<RawEEGLAB | sub-032422_EC.fdt, 61 x 14501 (58.0 s), ~6.8 MB, data loaded>, <RawEEGLAB | sub-032422_EC.fdt, 61 x 15001 (60.0 s), ~7.1 MB, data loaded>, <RawEEGLAB | sub-032422_EC.fdt, 61 x 15001 (60.0 s), ~7.1 MB, data loaded>, <RawEEGLAB | sub-032422_EC.fdt, 61 x 15001 (60.0 s), ~7.1 MB, data loaded>, <RawEEGLAB | sub-032422_EC.fdt, 61 x 15001 (60.0 s), ~7.1 MB, data loaded>, <RawEEGLAB | sub-032422_EC.fdt, 61 x 15001 (60.0 s), ~7.1 MB, data loaded>, <RawEEGLAB | sub-032422_EC.fdt, 61 x 15001 (60.0 s), ~7.1 MB, data loaded>, <RawEEGLAB | sub-032422_EC.fdt, 61 x 14501 (58.0 s), ~6.8 MB, data loaded>], [<RawEEGLAB | sub-032423_EC.fdt, 61 x 14501 (58.0 s), ~6.8 MB, data loaded>, <RawEEGLAB | sub-032423_EC.fdt, 61 x 15001 (60.0 s), ~7.1 MB, data loaded>, <RawEEGLAB | sub-032423_EC.fdt, 61 x 15001 (60.0 s), ~7.1 MB, data loaded>, <RawEEGLAB | sub-032423_EC.fdt, 61 x 15001 (60.0 s), ~7.1 MB, data loaded>, <RawEEGLAB | sub-032423_EC.fdt, 61 x 15001 (60.0 s), ~7.1 MB, data loaded>, <RawEEGLAB | sub-032423_EC.fdt, 61 x 15001 (60.0 s), ~7.1 MB, data loaded>, <RawEEGLAB | sub-032423_EC.fdt, 61 x 15001 (60.0 s), ~7.1 MB, data loaded>, <RawEEGLAB | sub-032423_EC.fdt, 61 x 14251 (57.0 s), ~6.7 MB, data loaded>], [<RawEEGLAB | sub-032424_EC.fdt, 61 x 14501 (58.0 s), ~6.8 MB, data loaded>, <RawEEGLAB | sub-032424_EC.fdt, 61 x 15001 (60.0 s), ~7.1 MB, data loaded>, <RawEEGLAB | sub-032424_EC.fdt, 61 x 15001 (60.0 s), ~7.1 MB, data loaded>, <RawEEGLAB | sub-032424_EC.fdt, 61 x 15001 (60.0 s), ~7.1 MB, data loaded>, <RawEEGLAB | sub-032424_EC.fdt, 61 x 15001 (60.0 s), ~7.1 MB, data loaded>, <RawEEGLAB | sub-032424_EC.fdt, 61 x 15001 (60.0 s), ~7.1 MB, data loaded>, <RawEEGLAB | sub-032424_EC.fdt, 61 x 15001 (60.0 s), ~7.1 MB, data loaded>, <RawEEGLAB | sub-032424_EC.fdt, 61 x 14251 (57.0 s), ~6.7 MB, data loaded>], [<RawEEGLAB | sub-032425_EC.fdt, 61 x 12001 (48.0 s), ~5.7 MB, data loaded>, <RawEEGLAB | sub-032425_EC.fdt, 61 x 15001 (60.0 s), ~7.1 MB, data loaded>, <RawEEGLAB | sub-032425_EC.fdt, 61 x 15001 (60.0 s), ~7.1 MB, data loaded>, <RawEEGLAB | sub-032425_EC.fdt, 61 x 15001 (60.0 s), ~7.1 MB, data loaded>, <RawEEGLAB | sub-032425_EC.fdt, 61 x 15001 (60.0 s), ~7.1 MB, data loaded>, <RawEEGLAB | sub-032425_EC.fdt, 61 x 15001 (60.0 s), ~7.1 MB, data loaded>, <RawEEGLAB | sub-032425_EC.fdt, 61 x 15001 (60.0 s), ~7.1 MB, data loaded>, <RawEEGLAB | sub-032425_EC.fdt, 61 x 13251 (53.0 s), ~6.3 MB, data loaded>], [<RawEEGLAB | sub-032427_EC.fdt, 61 x 14501 (58.0 s), ~6.8 MB, data loaded>, <RawEEGLAB | sub-032427_EC.fdt, 61 x 15001 (60.0 s), ~7.1 MB, data loaded>, <RawEEGLAB | sub-032427_EC.fdt, 61 x 15001 (60.0 s), ~7.1 MB, data loaded>, <RawEEGLAB | sub-032427_EC.fdt, 61 x 15001 (60.0 s), ~7.1 MB, data loaded>, <RawEEGLAB | sub-032427_EC.fdt, 61 x 15001 (60.0 s), ~7.1 MB, data loaded>, <RawEEGLAB | sub-032427_EC.fdt, 61 x 15001 (60.0 s), ~7.1 MB, data loaded>, <RawEEGLAB | sub-032427_EC.fdt, 61 x 15001 (60.0 s), ~7.1 MB, data loaded>, <RawEEGLAB | sub-032427_EC.fdt, 61 x 14251 (57.0 s), ~6.7 MB, data loaded>], [<RawEEGLAB | sub-032428_EC.fdt, 56 x 14501 (58.0 s), ~6.3 MB, data loaded>, <RawEEGLAB | sub-032428_EC.fdt, 56 x 9001 (36.0 s), ~3.9 MB, data loaded>, <RawEEGLAB | sub-032428_EC.fdt, 56 x 5251 (21.0 s), ~2.3 MB, data loaded>, <RawEEGLAB | sub-032428_EC.fdt, 56 x 11251 (45.0 s), ~4.9 MB, data loaded>, <RawEEGLAB | sub-032428_EC.fdt, 56 x 14001 (56.0 s), ~6.1 MB, data loaded>, <RawEEGLAB | sub-032428_EC.fdt, 56 x 15001 (60.0 s), ~6.5 MB, data loaded>, <RawEEGLAB | sub-032428_EC.fdt, 56 x 13501 (54.0 s), ~5.8 MB, data loaded>, <RawEEGLAB | sub-032428_EC.fdt, 56 x 15001 (60.0 s), ~6.5 MB, data loaded>, <RawEEGLAB | sub-032428_EC.fdt, 56 x 14251 (57.0 s), ~6.2 MB, data loaded>], [<RawEEGLAB | sub-032429_EC.fdt, 60 x 14501 (58.0 s), ~6.7 MB, data loaded>, <RawEEGLAB | sub-032429_EC.fdt, 60 x 15001 (60.0 s), ~6.9 MB, data loaded>, <RawEEGLAB | sub-032429_EC.fdt, 60 x 15001 (60.0 s), ~6.9 MB, data loaded>, <RawEEGLAB | sub-032429_EC.fdt, 60 x 15001 (60.0 s), ~6.9 MB, data loaded>, <RawEEGLAB | sub-032429_EC.fdt, 60 x 15001 (60.0 s), ~6.9 MB, data loaded>, <RawEEGLAB | sub-032429_EC.fdt, 60 x 15001 (60.0 s), ~6.9 MB, data loaded>, <RawEEGLAB | sub-032429_EC.fdt, 60 x 15001 (60.0 s), ~6.9 MB, data loaded>, <RawEEGLAB | sub-032429_EC.fdt, 60 x 14251 (57.0 s), ~6.6 MB, data loaded>], [<RawEEGLAB | sub-032430_EC.fdt, 61 x 14501 (58.0 s), ~6.8 MB, data loaded>, <RawEEGLAB | sub-032430_EC.fdt, 61 x 15001 (60.0 s), ~7.1 MB, data loaded>, <RawEEGLAB | sub-032430_EC.fdt, 61 x 15001 (60.0 s), ~7.1 MB, data loaded>, <RawEEGLAB | sub-032430_EC.fdt, 61 x 14501 (58.0 s), ~6.8 MB, data loaded>, <RawEEGLAB | sub-032430_EC.fdt, 61 x 15001 (60.0 s), ~7.1 MB, data loaded>, <RawEEGLAB | sub-032430_EC.fdt, 61 x 15001 (60.0 s), ~7.1 MB, data loaded>, <RawEEGLAB | sub-032430_EC.fdt, 61 x 14501 (58.0 s), ~6.8 MB, data loaded>, <RawEEGLAB | sub-032430_EC.fdt, 61 x 14251 (57.0 s), ~6.7 MB, data loaded>], [<RawEEGLAB | sub-032431_EC.fdt, 61 x 14501 (58.0 s), ~6.8 MB, data loaded>, <RawEEGLAB | sub-032431_EC.fdt, 61 x 15001 (60.0 s), ~7.1 MB, data loaded>, <RawEEGLAB | sub-032431_EC.fdt, 61 x 15001 (60.0 s), ~7.1 MB, data loaded>, <RawEEGLAB | sub-032431_EC.fdt, 61 x 15001 (60.0 s), ~7.1 MB, data loaded>, <RawEEGLAB | sub-032431_EC.fdt, 61 x 15001 (60.0 s), ~7.1 MB, data loaded>, <RawEEGLAB | sub-032431_EC.fdt, 61 x 15001 (60.0 s), ~7.1 MB, data loaded>, <RawEEGLAB | sub-032431_EC.fdt, 61 x 15001 (60.0 s), ~7.1 MB, data loaded>, <RawEEGLAB | sub-032431_EC.fdt, 61 x 14501 (58.0 s), ~6.8 MB, data loaded>], [<RawEEGLAB | sub-032432_EC.fdt, 61 x 14501 (58.0 s), ~6.8 MB, data loaded>, <RawEEGLAB | sub-032432_EC.fdt, 61 x 15001 (60.0 s), ~7.1 MB, data loaded>, <RawEEGLAB | sub-032432_EC.fdt, 61 x 15001 (60.0 s), ~7.1 MB, data loaded>, <RawEEGLAB | sub-032432_EC.fdt, 61 x 15001 (60.0 s), ~7.1 MB, data loaded>, <RawEEGLAB | sub-032432_EC.fdt, 61 x 15001 (60.0 s), ~7.1 MB, data loaded>, <RawEEGLAB | sub-032432_EC.fdt, 61 x 15001 (60.0 s), ~7.1 MB, data loaded>, <RawEEGLAB | sub-032432_EC.fdt, 61 x 15001 (60.0 s), ~7.1 MB, data loaded>, <RawEEGLAB | sub-032432_EC.fdt, 61 x 14501 (58.0 s), ~6.8 MB, data loaded>], [<RawEEGLAB | sub-032434_EC.fdt, 60 x 14501 (58.0 s), ~6.7 MB, data loaded>, <RawEEGLAB | sub-032434_EC.fdt, 60 x 15001 (60.0 s), ~6.9 MB, data loaded>, <RawEEGLAB | sub-032434_EC.fdt, 60 x 15001 (60.0 s), ~6.9 MB, data loaded>, <RawEEGLAB | sub-032434_EC.fdt, 60 x 15001 (60.0 s), ~6.9 MB, data loaded>, <RawEEGLAB | sub-032434_EC.fdt, 60 x 15001 (60.0 s), ~6.9 MB, data loaded>, <RawEEGLAB | sub-032434_EC.fdt, 60 x 15001 (60.0 s), ~6.9 MB, data loaded>, <RawEEGLAB | sub-032434_EC.fdt, 60 x 15001 (60.0 s), ~6.9 MB, data loaded>, <RawEEGLAB | sub-032434_EC.fdt, 60 x 13751 (55.0 s), ~6.4 MB, data loaded>], [<RawEEGLAB | sub-032435_EC.fdt, 61 x 14501 (58.0 s), ~6.8 MB, data loaded>, <RawEEGLAB | sub-032435_EC.fdt, 61 x 15001 (60.0 s), ~7.1 MB, data loaded>, <RawEEGLAB | sub-032435_EC.fdt, 61 x 15001 (60.0 s), ~7.1 MB, data loaded>, <RawEEGLAB | sub-032435_EC.fdt, 61 x 15001 (60.0 s), ~7.1 MB, data loaded>, <RawEEGLAB | sub-032435_EC.fdt, 61 x 15001 (60.0 s), ~7.1 MB, data loaded>, <RawEEGLAB | sub-032435_EC.fdt, 61 x 15001 (60.0 s), ~7.1 MB, data loaded>, <RawEEGLAB | sub-032435_EC.fdt, 61 x 15001 (60.0 s), ~7.1 MB, data loaded>, <RawEEGLAB | sub-032435_EC.fdt, 61 x 14251 (57.0 s), ~6.7 MB, data loaded>], [<RawEEGLAB | sub-032436_EC.fdt, 60 x 11251 (45.0 s), ~5.2 MB, data loaded>, <RawEEGLAB | sub-032436_EC.fdt, 60 x 15001 (60.0 s), ~6.9 MB, data loaded>, <RawEEGLAB | sub-032436_EC.fdt, 60 x 14251 (57.0 s), ~6.6 MB, data loaded>, <RawEEGLAB | sub-032436_EC.fdt, 60 x 15001 (60.0 s), ~6.9 MB, data loaded>, <RawEEGLAB | sub-032436_EC.fdt, 60 x 15001 (60.0 s), ~6.9 MB, data loaded>, <RawEEGLAB | sub-032436_EC.fdt, 60 x 14001 (56.0 s), ~6.5 MB, data loaded>, <RawEEGLAB | sub-032436_EC.fdt, 60 x 15001 (60.0 s), ~6.9 MB, data loaded>, <RawEEGLAB | sub-032436_EC.fdt, 60 x 14251 (57.0 s), ~6.6 MB, data loaded>], [<RawEEGLAB | sub-032438_EC.fdt, 61 x 14501 (58.0 s), ~6.8 MB, data loaded>, <RawEEGLAB | sub-032438_EC.fdt, 61 x 15001 (60.0 s), ~7.1 MB, data loaded>, <RawEEGLAB | sub-032438_EC.fdt, 61 x 15001 (60.0 s), ~7.1 MB, data loaded>, <RawEEGLAB | sub-032438_EC.fdt, 61 x 15001 (60.0 s), ~7.1 MB, data loaded>, <RawEEGLAB | sub-032438_EC.fdt, 61 x 15001 (60.0 s), ~7.1 MB, data loaded>, <RawEEGLAB | sub-032438_EC.fdt, 61 x 15001 (60.0 s), ~7.1 MB, data loaded>, <RawEEGLAB | sub-032438_EC.fdt, 61 x 15001 (60.0 s), ~7.1 MB, data loaded>, <RawEEGLAB | sub-032438_EC.fdt, 61 x 14251 (57.0 s), ~6.7 MB, data loaded>], [<RawEEGLAB | sub-032439_EC.fdt, 60 x 14501 (58.0 s), ~6.7 MB, data loaded>, <RawEEGLAB | sub-032439_EC.fdt, 60 x 15001 (60.0 s), ~6.9 MB, data loaded>, <RawEEGLAB | sub-032439_EC.fdt, 60 x 15001 (60.0 s), ~6.9 MB, data loaded>, <RawEEGLAB | sub-032439_EC.fdt, 60 x 15001 (60.0 s), ~6.9 MB, data loaded>, <RawEEGLAB | sub-032439_EC.fdt, 60 x 15001 (60.0 s), ~6.9 MB, data loaded>, <RawEEGLAB | sub-032439_EC.fdt, 60 x 15001 (60.0 s), ~6.9 MB, data loaded>, <RawEEGLAB | sub-032439_EC.fdt, 60 x 15001 (60.0 s), ~6.9 MB, data loaded>, <RawEEGLAB | sub-032439_EC.fdt, 60 x 14001 (56.0 s), ~6.5 MB, data loaded>], [<RawEEGLAB | sub-032440_EC.fdt, 61 x 14501 (58.0 s), ~6.8 MB, data loaded>, <RawEEGLAB | sub-032440_EC.fdt, 61 x 15001 (60.0 s), ~7.1 MB, data loaded>, <RawEEGLAB | sub-032440_EC.fdt, 61 x 15001 (60.0 s), ~7.1 MB, data loaded>, <RawEEGLAB | sub-032440_EC.fdt, 61 x 15001 (60.0 s), ~7.1 MB, data loaded>, <RawEEGLAB | sub-032440_EC.fdt, 61 x 15001 (60.0 s), ~7.1 MB, data loaded>, <RawEEGLAB | sub-032440_EC.fdt, 61 x 15001 (60.0 s), ~7.1 MB, data loaded>, <RawEEGLAB | sub-032440_EC.fdt, 61 x 15001 (60.0 s), ~7.1 MB, data loaded>, <RawEEGLAB | sub-032440_EC.fdt, 61 x 14251 (57.0 s), ~6.7 MB, data loaded>], [<RawEEGLAB | sub-032441_EC.fdt, 61 x 14501 (58.0 s), ~6.8 MB, data loaded>, <RawEEGLAB | sub-032441_EC.fdt, 61 x 15001 (60.0 s), ~7.1 MB, data loaded>, <RawEEGLAB | sub-032441_EC.fdt, 61 x 15001 (60.0 s), ~7.1 MB, data loaded>, <RawEEGLAB | sub-032441_EC.fdt, 61 x 15001 (60.0 s), ~7.1 MB, data loaded>, <RawEEGLAB | sub-032441_EC.fdt, 61 x 15001 (60.0 s), ~7.1 MB, data loaded>, <RawEEGLAB | sub-032441_EC.fdt, 61 x 15001 (60.0 s), ~7.1 MB, data loaded>, <RawEEGLAB | sub-032441_EC.fdt, 61 x 15001 (60.0 s), ~7.1 MB, data loaded>, <RawEEGLAB | sub-032441_EC.fdt, 61 x 14501 (58.0 s), ~6.8 MB, data loaded>], [<RawEEGLAB | sub-032442_EC.fdt, 61 x 14501 (58.0 s), ~6.8 MB, data loaded>, <RawEEGLAB | sub-032442_EC.fdt, 61 x 15001 (60.0 s), ~7.1 MB, data loaded>, <RawEEGLAB | sub-032442_EC.fdt, 61 x 15001 (60.0 s), ~7.1 MB, data loaded>, <RawEEGLAB | sub-032442_EC.fdt, 61 x 15001 (60.0 s), ~7.1 MB, data loaded>, <RawEEGLAB | sub-032442_EC.fdt, 61 x 12501 (50.0 s), ~5.9 MB, data loaded>, <RawEEGLAB | sub-032442_EC.fdt, 61 x 15001 (60.0 s), ~7.1 MB, data loaded>, <RawEEGLAB | sub-032442_EC.fdt, 61 x 15001 (60.0 s), ~7.1 MB, data loaded>, <RawEEGLAB | sub-032442_EC.fdt, 61 x 14251 (57.0 s), ~6.7 MB, data loaded>], [<RawEEGLAB | sub-032444_EC.fdt, 61 x 14501 (58.0 s), ~6.8 MB, data loaded>, <RawEEGLAB | sub-032444_EC.fdt, 61 x 15001 (60.0 s), ~7.1 MB, data loaded>, <RawEEGLAB | sub-032444_EC.fdt, 61 x 15001 (60.0 s), ~7.1 MB, data loaded>, <RawEEGLAB | sub-032444_EC.fdt, 61 x 15001 (60.0 s), ~7.1 MB, data loaded>, <RawEEGLAB | sub-032444_EC.fdt, 61 x 15001 (60.0 s), ~7.1 MB, data loaded>, <RawEEGLAB | sub-032444_EC.fdt, 61 x 15001 (60.0 s), ~7.1 MB, data loaded>, <RawEEGLAB | sub-032444_EC.fdt, 61 x 5001 (20.0 s), ~2.4 MB, data loaded>, <RawEEGLAB | sub-032444_EC.fdt, 61 x 9751 (39.0 s), ~4.6 MB, data loaded>, <RawEEGLAB | sub-032444_EC.fdt, 61 x 14251 (57.0 s), ~6.7 MB, data loaded>], [<RawEEGLAB | sub-032446_EC.fdt, 61 x 14501 (58.0 s), ~6.8 MB, data loaded>, <RawEEGLAB | sub-032446_EC.fdt, 61 x 15001 (60.0 s), ~7.1 MB, data loaded>, <RawEEGLAB | sub-032446_EC.fdt, 61 x 15001 (60.0 s), ~7.1 MB, data loaded>, <RawEEGLAB | sub-032446_EC.fdt, 61 x 15001 (60.0 s), ~7.1 MB, data loaded>, <RawEEGLAB | sub-032446_EC.fdt, 61 x 14501 (58.0 s), ~6.8 MB, data loaded>, <RawEEGLAB | sub-032446_EC.fdt, 61 x 15001 (60.0 s), ~7.1 MB, data loaded>, <RawEEGLAB | sub-032446_EC.fdt, 61 x 15001 (60.0 s), ~7.1 MB, data loaded>, <RawEEGLAB | sub-032446_EC.fdt, 61 x 13501 (54.0 s), ~6.4 MB, data loaded>], [<RawEEGLAB | sub-032447_EC.fdt, 59 x 14501 (58.0 s), ~6.6 MB, data loaded>, <RawEEGLAB | sub-032447_EC.fdt, 59 x 15001 (60.0 s), ~6.8 MB, data loaded>, <RawEEGLAB | sub-032447_EC.fdt, 59 x 15001 (60.0 s), ~6.8 MB, data loaded>, <RawEEGLAB | sub-032447_EC.fdt, 59 x 15001 (60.0 s), ~6.8 MB, data loaded>, <RawEEGLAB | sub-032447_EC.fdt, 59 x 15001 (60.0 s), ~6.8 MB, data loaded>, <RawEEGLAB | sub-032447_EC.fdt, 59 x 15001 (60.0 s), ~6.8 MB, data loaded>, <RawEEGLAB | sub-032447_EC.fdt, 59 x 15001 (60.0 s), ~6.8 MB, data loaded>, <RawEEGLAB | sub-032447_EC.fdt, 59 x 13751 (55.0 s), ~6.3 MB, data loaded>], [<RawEEGLAB | sub-032448_EC.fdt, 60 x 14501 (58.0 s), ~6.7 MB, data loaded>, <RawEEGLAB | sub-032448_EC.fdt, 60 x 15001 (60.0 s), ~6.9 MB, data loaded>, <RawEEGLAB | sub-032448_EC.fdt, 60 x 15001 (60.0 s), ~6.9 MB, data loaded>, <RawEEGLAB | sub-032448_EC.fdt, 60 x 15001 (60.0 s), ~6.9 MB, data loaded>, <RawEEGLAB | sub-032448_EC.fdt, 60 x 15001 (60.0 s), ~6.9 MB, data loaded>, <RawEEGLAB | sub-032448_EC.fdt, 60 x 15001 (60.0 s), ~6.9 MB, data loaded>, <RawEEGLAB | sub-032448_EC.fdt, 60 x 15001 (60.0 s), ~6.9 MB, data loaded>, <RawEEGLAB | sub-032448_EC.fdt, 60 x 14251 (57.0 s), ~6.6 MB, data loaded>], [<RawEEGLAB | sub-032449_EC.fdt, 60 x 14251 (57.0 s), ~6.6 MB, data loaded>, <RawEEGLAB | sub-032449_EC.fdt, 60 x 15001 (60.0 s), ~6.9 MB, data loaded>, <RawEEGLAB | sub-032449_EC.fdt, 60 x 15001 (60.0 s), ~6.9 MB, data loaded>, <RawEEGLAB | sub-032449_EC.fdt, 60 x 15001 (60.0 s), ~6.9 MB, data loaded>, <RawEEGLAB | sub-032449_EC.fdt, 60 x 15001 (60.0 s), ~6.9 MB, data loaded>, <RawEEGLAB | sub-032449_EC.fdt, 60 x 15001 (60.0 s), ~6.9 MB, data loaded>, <RawEEGLAB | sub-032449_EC.fdt, 60 x 15001 (60.0 s), ~6.9 MB, data loaded>, <RawEEGLAB | sub-032449_EC.fdt, 60 x 14251 (57.0 s), ~6.6 MB, data loaded>], [<RawEEGLAB | sub-032450_EC.fdt, 58 x 14501 (58.0 s), ~6.5 MB, data loaded>, <RawEEGLAB | sub-032450_EC.fdt, 58 x 15001 (60.0 s), ~6.7 MB, data loaded>, <RawEEGLAB | sub-032450_EC.fdt, 58 x 15001 (60.0 s), ~6.7 MB, data loaded>, <RawEEGLAB | sub-032450_EC.fdt, 58 x 15001 (60.0 s), ~6.7 MB, data loaded>, <RawEEGLAB | sub-032450_EC.fdt, 58 x 15001 (60.0 s), ~6.7 MB, data loaded>, <RawEEGLAB | sub-032450_EC.fdt, 58 x 15001 (60.0 s), ~6.7 MB, data loaded>, <RawEEGLAB | sub-032450_EC.fdt, 58 x 15001 (60.0 s), ~6.7 MB, data loaded>, <RawEEGLAB | sub-032450_EC.fdt, 58 x 6501 (26.0 s), ~3.0 MB, data loaded>, <RawEEGLAB | sub-032450_EC.fdt, 58 x 7001 (28.0 s), ~3.2 MB, data loaded>], [<RawEEGLAB | sub-032451_EC.fdt, 61 x 14501 (58.0 s), ~6.8 MB, data loaded>, <RawEEGLAB | sub-032451_EC.fdt, 61 x 15001 (60.0 s), ~7.1 MB, data loaded>, <RawEEGLAB | sub-032451_EC.fdt, 61 x 15001 (60.0 s), ~7.1 MB, data loaded>, <RawEEGLAB | sub-032451_EC.fdt, 61 x 15001 (60.0 s), ~7.1 MB, data loaded>, <RawEEGLAB | sub-032451_EC.fdt, 61 x 15001 (60.0 s), ~7.1 MB, data loaded>, <RawEEGLAB | sub-032451_EC.fdt, 61 x 15001 (60.0 s), ~7.1 MB, data loaded>, <RawEEGLAB | sub-032451_EC.fdt, 61 x 14751 (59.0 s), ~6.9 MB, data loaded>, <RawEEGLAB | sub-032451_EC.fdt, 61 x 14251 (57.0 s), ~6.7 MB, data loaded>], [<RawEEGLAB | sub-032452_EC.fdt, 61 x 14501 (58.0 s), ~6.8 MB, data loaded>, <RawEEGLAB | sub-032452_EC.fdt, 61 x 15001 (60.0 s), ~7.1 MB, data loaded>, <RawEEGLAB | sub-032452_EC.fdt, 61 x 15001 (60.0 s), ~7.1 MB, data loaded>, <RawEEGLAB | sub-032452_EC.fdt, 61 x 15001 (60.0 s), ~7.1 MB, data loaded>, <RawEEGLAB | sub-032452_EC.fdt, 61 x 15001 (60.0 s), ~7.1 MB, data loaded>, <RawEEGLAB | sub-032452_EC.fdt, 61 x 15001 (60.0 s), ~7.1 MB, data loaded>, <RawEEGLAB | sub-032452_EC.fdt, 61 x 15001 (60.0 s), ~7.1 MB, data loaded>, <RawEEGLAB | sub-032452_EC.fdt, 61 x 14501 (58.0 s), ~6.8 MB, data loaded>], [<RawEEGLAB | sub-032453_EC.fdt, 61 x 13001 (52.0 s), ~6.1 MB, data loaded>, <RawEEGLAB | sub-032453_EC.fdt, 61 x 14251 (57.0 s), ~6.7 MB, data loaded>, <RawEEGLAB | sub-032453_EC.fdt, 61 x 15001 (60.0 s), ~7.1 MB, data loaded>, <RawEEGLAB | sub-032453_EC.fdt, 61 x 15001 (60.0 s), ~7.1 MB, data loaded>, <RawEEGLAB | sub-032453_EC.fdt, 61 x 15001 (60.0 s), ~7.1 MB, data loaded>, <RawEEGLAB | sub-032453_EC.fdt, 61 x 15001 (60.0 s), ~7.1 MB, data loaded>, <RawEEGLAB | sub-032453_EC.fdt, 61 x 15001 (60.0 s), ~7.1 MB, data loaded>, <RawEEGLAB | sub-032453_EC.fdt, 61 x 9751 (39.0 s), ~4.6 MB, data loaded>, <RawEEGLAB | sub-032453_EC.fdt, 61 x 4001 (16.0 s), ~1.9 MB, data loaded>], [<RawEEGLAB | sub-032454_EC.fdt, 61 x 14501 (58.0 s), ~6.8 MB, data loaded>, <RawEEGLAB | sub-032454_EC.fdt, 61 x 15001 (60.0 s), ~7.1 MB, data loaded>, <RawEEGLAB | sub-032454_EC.fdt, 61 x 15001 (60.0 s), ~7.1 MB, data loaded>, <RawEEGLAB | sub-032454_EC.fdt, 61 x 15001 (60.0 s), ~7.1 MB, data loaded>, <RawEEGLAB | sub-032454_EC.fdt, 61 x 15001 (60.0 s), ~7.1 MB, data loaded>, <RawEEGLAB | sub-032454_EC.fdt, 61 x 15001 (60.0 s), ~7.1 MB, data loaded>, <RawEEGLAB | sub-032454_EC.fdt, 61 x 15001 (60.0 s), ~7.1 MB, data loaded>, <RawEEGLAB | sub-032454_EC.fdt, 61 x 14501 (58.0 s), ~6.8 MB, data loaded>], [<RawEEGLAB | sub-032455_EC.fdt, 61 x 14501 (58.0 s), ~6.8 MB, data loaded>, <RawEEGLAB | sub-032455_EC.fdt, 61 x 15001 (60.0 s), ~7.1 MB, data loaded>, <RawEEGLAB | sub-032455_EC.fdt, 61 x 15001 (60.0 s), ~7.1 MB, data loaded>, <RawEEGLAB | sub-032455_EC.fdt, 61 x 15001 (60.0 s), ~7.1 MB, data loaded>, <RawEEGLAB | sub-032455_EC.fdt, 61 x 15001 (60.0 s), ~7.1 MB, data loaded>, <RawEEGLAB | sub-032455_EC.fdt, 61 x 15001 (60.0 s), ~7.1 MB, data loaded>, <RawEEGLAB | sub-032455_EC.fdt, 61 x 15001 (60.0 s), ~7.1 MB, data loaded>, <RawEEGLAB | sub-032455_EC.fdt, 61 x 14251 (57.0 s), ~6.7 MB, data loaded>], [<RawEEGLAB | sub-032456_EC.fdt, 61 x 14501 (58.0 s), ~6.8 MB, data loaded>, <RawEEGLAB | sub-032456_EC.fdt, 61 x 15001 (60.0 s), ~7.1 MB, data loaded>, <RawEEGLAB | sub-032456_EC.fdt, 61 x 15001 (60.0 s), ~7.1 MB, data loaded>, <RawEEGLAB | sub-032456_EC.fdt, 61 x 15001 (60.0 s), ~7.1 MB, data loaded>, <RawEEGLAB | sub-032456_EC.fdt, 61 x 15001 (60.0 s), ~7.1 MB, data loaded>, <RawEEGLAB | sub-032456_EC.fdt, 61 x 15001 (60.0 s), ~7.1 MB, data loaded>, <RawEEGLAB | sub-032456_EC.fdt, 61 x 15001 (60.0 s), ~7.1 MB, data loaded>, <RawEEGLAB | sub-032456_EC.fdt, 61 x 14251 (57.0 s), ~6.7 MB, data loaded>], [<RawEEGLAB | sub-032457_EC.fdt, 60 x 14501 (58.0 s), ~6.7 MB, data loaded>, <RawEEGLAB | sub-032457_EC.fdt, 60 x 15001 (60.0 s), ~6.9 MB, data loaded>, <RawEEGLAB | sub-032457_EC.fdt, 60 x 15001 (60.0 s), ~6.9 MB, data loaded>, <RawEEGLAB | sub-032457_EC.fdt, 60 x 15001 (60.0 s), ~6.9 MB, data loaded>, <RawEEGLAB | sub-032457_EC.fdt, 60 x 15001 (60.0 s), ~6.9 MB, data loaded>, <RawEEGLAB | sub-032457_EC.fdt, 60 x 15001 (60.0 s), ~6.9 MB, data loaded>, <RawEEGLAB | sub-032457_EC.fdt, 60 x 15001 (60.0 s), ~6.9 MB, data loaded>, <RawEEGLAB | sub-032457_EC.fdt, 60 x 11251 (45.0 s), ~5.2 MB, data loaded>], [<RawEEGLAB | sub-032458_EC.fdt, 61 x 14501 (58.0 s), ~6.8 MB, data loaded>, <RawEEGLAB | sub-032458_EC.fdt, 61 x 15001 (60.0 s), ~7.1 MB, data loaded>, <RawEEGLAB | sub-032458_EC.fdt, 61 x 15001 (60.0 s), ~7.1 MB, data loaded>, <RawEEGLAB | sub-032458_EC.fdt, 61 x 15001 (60.0 s), ~7.1 MB, data loaded>, <RawEEGLAB | sub-032458_EC.fdt, 61 x 15001 (60.0 s), ~7.1 MB, data loaded>, <RawEEGLAB | sub-032458_EC.fdt, 61 x 15001 (60.0 s), ~7.1 MB, data loaded>, <RawEEGLAB | sub-032458_EC.fdt, 61 x 15001 (60.0 s), ~7.1 MB, data loaded>, <RawEEGLAB | sub-032458_EC.fdt, 61 x 13501 (54.0 s), ~6.4 MB, data loaded>], [<RawEEGLAB | sub-032459_EC.fdt, 61 x 14501 (58.0 s), ~6.8 MB, data loaded>, <RawEEGLAB | sub-032459_EC.fdt, 61 x 15001 (60.0 s), ~7.1 MB, data loaded>, <RawEEGLAB | sub-032459_EC.fdt, 61 x 15001 (60.0 s), ~7.1 MB, data loaded>, <RawEEGLAB | sub-032459_EC.fdt, 61 x 15001 (60.0 s), ~7.1 MB, data loaded>, <RawEEGLAB | sub-032459_EC.fdt, 61 x 15001 (60.0 s), ~7.1 MB, data loaded>, <RawEEGLAB | sub-032459_EC.fdt, 61 x 15001 (60.0 s), ~7.1 MB, data loaded>, <RawEEGLAB | sub-032459_EC.fdt, 61 x 15001 (60.0 s), ~7.1 MB, data loaded>, <RawEEGLAB | sub-032459_EC.fdt, 61 x 14501 (58.0 s), ~6.8 MB, data loaded>], [<RawEEGLAB | sub-032460_EC.fdt, 61 x 14501 (58.0 s), ~6.8 MB, data loaded>, <RawEEGLAB | sub-032460_EC.fdt, 61 x 14251 (57.0 s), ~6.7 MB, data loaded>, <RawEEGLAB | sub-032460_EC.fdt, 61 x 15001 (60.0 s), ~7.1 MB, data loaded>, <RawEEGLAB | sub-032460_EC.fdt, 61 x 15001 (60.0 s), ~7.1 MB, data loaded>, <RawEEGLAB | sub-032460_EC.fdt, 61 x 15001 (60.0 s), ~7.1 MB, data loaded>, <RawEEGLAB | sub-032460_EC.fdt, 61 x 15001 (60.0 s), ~7.1 MB, data loaded>, <RawEEGLAB | sub-032460_EC.fdt, 61 x 15001 (60.0 s), ~7.1 MB, data loaded>, <RawEEGLAB | sub-032460_EC.fdt, 61 x 14251 (57.0 s), ~6.7 MB, data loaded>], [<RawEEGLAB | sub-032462_EC.fdt, 61 x 14501 (58.0 s), ~6.8 MB, data loaded>, <RawEEGLAB | sub-032462_EC.fdt, 61 x 14001 (56.0 s), ~6.6 MB, data loaded>, <RawEEGLAB | sub-032462_EC.fdt, 61 x 15001 (60.0 s), ~7.1 MB, data loaded>, <RawEEGLAB | sub-032462_EC.fdt, 61 x 15001 (60.0 s), ~7.1 MB, data loaded>, <RawEEGLAB | sub-032462_EC.fdt, 61 x 15001 (60.0 s), ~7.1 MB, data loaded>, <RawEEGLAB | sub-032462_EC.fdt, 61 x 15001 (60.0 s), ~7.1 MB, data loaded>, <RawEEGLAB | sub-032462_EC.fdt, 61 x 14501 (58.0 s), ~6.8 MB, data loaded>, <RawEEGLAB | sub-032462_EC.fdt, 61 x 14251 (57.0 s), ~6.7 MB, data loaded>], [<RawEEGLAB | sub-032463_EC.fdt, 61 x 14501 (58.0 s), ~6.8 MB, data loaded>, <RawEEGLAB | sub-032463_EC.fdt, 61 x 15001 (60.0 s), ~7.1 MB, data loaded>, <RawEEGLAB | sub-032463_EC.fdt, 61 x 15001 (60.0 s), ~7.1 MB, data loaded>, <RawEEGLAB | sub-032463_EC.fdt, 61 x 15001 (60.0 s), ~7.1 MB, data loaded>, <RawEEGLAB | sub-032463_EC.fdt, 61 x 15001 (60.0 s), ~7.1 MB, data loaded>, <RawEEGLAB | sub-032463_EC.fdt, 61 x 14751 (59.0 s), ~6.9 MB, data loaded>, <RawEEGLAB | sub-032463_EC.fdt, 61 x 14751 (59.0 s), ~6.9 MB, data loaded>, <RawEEGLAB | sub-032463_EC.fdt, 61 x 14251 (57.0 s), ~6.7 MB, data loaded>], [<RawEEGLAB | sub-032464_EC.fdt, 61 x 14501 (58.0 s), ~6.8 MB, data loaded>, <RawEEGLAB | sub-032464_EC.fdt, 61 x 15001 (60.0 s), ~7.1 MB, data loaded>, <RawEEGLAB | sub-032464_EC.fdt, 61 x 15001 (60.0 s), ~7.1 MB, data loaded>, <RawEEGLAB | sub-032464_EC.fdt, 61 x 15001 (60.0 s), ~7.1 MB, data loaded>, <RawEEGLAB | sub-032464_EC.fdt, 61 x 15001 (60.0 s), ~7.1 MB, data loaded>, <RawEEGLAB | sub-032464_EC.fdt, 61 x 15001 (60.0 s), ~7.1 MB, data loaded>, <RawEEGLAB | sub-032464_EC.fdt, 61 x 15001 (60.0 s), ~7.1 MB, data loaded>, <RawEEGLAB | sub-032464_EC.fdt, 61 x 14501 (58.0 s), ~6.8 MB, data loaded>], [<RawEEGLAB | sub-032465_EC.fdt, 60 x 14501 (58.0 s), ~6.7 MB, data loaded>, <RawEEGLAB | sub-032465_EC.fdt, 60 x 15001 (60.0 s), ~6.9 MB, data loaded>, <RawEEGLAB | sub-032465_EC.fdt, 60 x 15001 (60.0 s), ~6.9 MB, data loaded>, <RawEEGLAB | sub-032465_EC.fdt, 60 x 15001 (60.0 s), ~6.9 MB, data loaded>, <RawEEGLAB | sub-032465_EC.fdt, 60 x 12251 (49.0 s), ~5.7 MB, data loaded>, <RawEEGLAB | sub-032465_EC.fdt, 60 x 15001 (60.0 s), ~6.9 MB, data loaded>, <RawEEGLAB | sub-032465_EC.fdt, 60 x 15001 (60.0 s), ~6.9 MB, data loaded>, <RawEEGLAB | sub-032465_EC.fdt, 60 x 14251 (57.0 s), ~6.6 MB, data loaded>], [<RawEEGLAB | sub-032466_EC.fdt, 58 x 14251 (57.0 s), ~6.4 MB, data loaded>, <RawEEGLAB | sub-032466_EC.fdt, 58 x 14501 (58.0 s), ~6.5 MB, data loaded>, <RawEEGLAB | sub-032466_EC.fdt, 58 x 15001 (60.0 s), ~6.7 MB, data loaded>, <RawEEGLAB | sub-032466_EC.fdt, 58 x 15001 (60.0 s), ~6.7 MB, data loaded>, <RawEEGLAB | sub-032466_EC.fdt, 58 x 15001 (60.0 s), ~6.7 MB, data loaded>, <RawEEGLAB | sub-032466_EC.fdt, 58 x 15001 (60.0 s), ~6.7 MB, data loaded>, <RawEEGLAB | sub-032466_EC.fdt, 58 x 14501 (58.0 s), ~6.5 MB, data loaded>, <RawEEGLAB | sub-032466_EC.fdt, 58 x 14251 (57.0 s), ~6.4 MB, data loaded>], [<RawEEGLAB | sub-032467_EC.fdt, 60 x 14501 (58.0 s), ~6.7 MB, data loaded>, <RawEEGLAB | sub-032467_EC.fdt, 60 x 15001 (60.0 s), ~6.9 MB, data loaded>, <RawEEGLAB | sub-032467_EC.fdt, 60 x 14501 (58.0 s), ~6.7 MB, data loaded>, <RawEEGLAB | sub-032467_EC.fdt, 60 x 15001 (60.0 s), ~6.9 MB, data loaded>, <RawEEGLAB | sub-032467_EC.fdt, 60 x 15001 (60.0 s), ~6.9 MB, data loaded>, <RawEEGLAB | sub-032467_EC.fdt, 60 x 15001 (60.0 s), ~6.9 MB, data loaded>, <RawEEGLAB | sub-032467_EC.fdt, 60 x 15001 (60.0 s), ~6.9 MB, data loaded>, <RawEEGLAB | sub-032467_EC.fdt, 60 x 14251 (57.0 s), ~6.6 MB, data loaded>], [<RawEEGLAB | sub-032468_EC.fdt, 58 x 14501 (58.0 s), ~6.5 MB, data loaded>, <RawEEGLAB | sub-032468_EC.fdt, 58 x 15001 (60.0 s), ~6.7 MB, data loaded>, <RawEEGLAB | sub-032468_EC.fdt, 58 x 15001 (60.0 s), ~6.7 MB, data loaded>, <RawEEGLAB | sub-032468_EC.fdt, 58 x 15001 (60.0 s), ~6.7 MB, data loaded>, <RawEEGLAB | sub-032468_EC.fdt, 58 x 15001 (60.0 s), ~6.7 MB, data loaded>, <RawEEGLAB | sub-032468_EC.fdt, 58 x 15001 (60.0 s), ~6.7 MB, data loaded>, <RawEEGLAB | sub-032468_EC.fdt, 58 x 14751 (59.0 s), ~6.6 MB, data loaded>, <RawEEGLAB | sub-032468_EC.fdt, 58 x 5501 (22.0 s), ~2.5 MB, data loaded>, <RawEEGLAB | sub-032468_EC.fdt, 58 x 7501 (30.0 s), ~3.4 MB, data loaded>], [<RawEEGLAB | sub-032469_EC.fdt, 59 x 14501 (58.0 s), ~6.6 MB, data loaded>, <RawEEGLAB | sub-032469_EC.fdt, 59 x 13751 (55.0 s), ~6.3 MB, data loaded>, <RawEEGLAB | sub-032469_EC.fdt, 59 x 15001 (60.0 s), ~6.8 MB, data loaded>, <RawEEGLAB | sub-032469_EC.fdt, 59 x 15001 (60.0 s), ~6.8 MB, data loaded>, <RawEEGLAB | sub-032469_EC.fdt, 59 x 15001 (60.0 s), ~6.8 MB, data loaded>, <RawEEGLAB | sub-032469_EC.fdt, 59 x 15001 (60.0 s), ~6.8 MB, data loaded>, <RawEEGLAB | sub-032469_EC.fdt, 59 x 15001 (60.0 s), ~6.8 MB, data loaded>, <RawEEGLAB | sub-032469_EC.fdt, 59 x 10001 (40.0 s), ~4.6 MB, data loaded>, <RawEEGLAB | sub-032469_EC.fdt, 59 x 4251 (17.0 s), ~2.0 MB, data loaded>], [<RawEEGLAB | sub-032470_EC.fdt, 60 x 14501 (58.0 s), ~6.7 MB, data loaded>, <RawEEGLAB | sub-032470_EC.fdt, 60 x 13751 (55.0 s), ~6.4 MB, data loaded>, <RawEEGLAB | sub-032470_EC.fdt, 60 x 13501 (54.0 s), ~6.3 MB, data loaded>, <RawEEGLAB | sub-032470_EC.fdt, 60 x 13751 (55.0 s), ~6.4 MB, data loaded>, <RawEEGLAB | sub-032470_EC.fdt, 60 x 15001 (60.0 s), ~6.9 MB, data loaded>, <RawEEGLAB | sub-032470_EC.fdt, 60 x 15001 (60.0 s), ~6.9 MB, data loaded>, <RawEEGLAB | sub-032470_EC.fdt, 60 x 15001 (60.0 s), ~6.9 MB, data loaded>, <RawEEGLAB | sub-032470_EC.fdt, 60 x 14251 (57.0 s), ~6.6 MB, data loaded>], [<RawEEGLAB | sub-032471_EC.fdt, 61 x 14501 (58.0 s), ~6.8 MB, data loaded>, <RawEEGLAB | sub-032471_EC.fdt, 61 x 15001 (60.0 s), ~7.1 MB, data loaded>, <RawEEGLAB | sub-032471_EC.fdt, 61 x 15001 (60.0 s), ~7.1 MB, data loaded>, <RawEEGLAB | sub-032471_EC.fdt, 61 x 15001 (60.0 s), ~7.1 MB, data loaded>, <RawEEGLAB | sub-032471_EC.fdt, 61 x 15001 (60.0 s), ~7.1 MB, data loaded>, <RawEEGLAB | sub-032471_EC.fdt, 61 x 15001 (60.0 s), ~7.1 MB, data loaded>, <RawEEGLAB | sub-032471_EC.fdt, 61 x 15001 (60.0 s), ~7.1 MB, data loaded>, <RawEEGLAB | sub-032471_EC.fdt, 61 x 14251 (57.0 s), ~6.7 MB, data loaded>], [<RawEEGLAB | sub-032472_EC.fdt, 60 x 14501 (58.0 s), ~6.7 MB, data loaded>, <RawEEGLAB | sub-032472_EC.fdt, 60 x 15001 (60.0 s), ~6.9 MB, data loaded>, <RawEEGLAB | sub-032472_EC.fdt, 60 x 15001 (60.0 s), ~6.9 MB, data loaded>, <RawEEGLAB | sub-032472_EC.fdt, 60 x 15001 (60.0 s), ~6.9 MB, data loaded>, <RawEEGLAB | sub-032472_EC.fdt, 60 x 15001 (60.0 s), ~6.9 MB, data loaded>, <RawEEGLAB | sub-032472_EC.fdt, 60 x 15001 (60.0 s), ~6.9 MB, data loaded>, <RawEEGLAB | sub-032472_EC.fdt, 60 x 15001 (60.0 s), ~6.9 MB, data loaded>, <RawEEGLAB | sub-032472_EC.fdt, 60 x 14751 (59.0 s), ~6.8 MB, data loaded>], [<RawEEGLAB | sub-032473_EC.fdt, 60 x 14501 (58.0 s), ~6.7 MB, data loaded>, <RawEEGLAB | sub-032473_EC.fdt, 60 x 15001 (60.0 s), ~6.9 MB, data loaded>, <RawEEGLAB | sub-032473_EC.fdt, 60 x 15001 (60.0 s), ~6.9 MB, data loaded>, <RawEEGLAB | sub-032473_EC.fdt, 60 x 15001 (60.0 s), ~6.9 MB, data loaded>, <RawEEGLAB | sub-032473_EC.fdt, 60 x 15001 (60.0 s), ~6.9 MB, data loaded>, <RawEEGLAB | sub-032473_EC.fdt, 60 x 15001 (60.0 s), ~6.9 MB, data loaded>, <RawEEGLAB | sub-032473_EC.fdt, 60 x 15001 (60.0 s), ~6.9 MB, data loaded>, <RawEEGLAB | sub-032473_EC.fdt, 60 x 12751 (51.0 s), ~5.9 MB, data loaded>], [<RawEEGLAB | sub-032474_EC.fdt, 60 x 14501 (58.0 s), ~6.7 MB, data loaded>, <RawEEGLAB | sub-032474_EC.fdt, 60 x 15001 (60.0 s), ~6.9 MB, data loaded>, <RawEEGLAB | sub-032474_EC.fdt, 60 x 15001 (60.0 s), ~6.9 MB, data loaded>, <RawEEGLAB | sub-032474_EC.fdt, 60 x 15001 (60.0 s), ~6.9 MB, data loaded>, <RawEEGLAB | sub-032474_EC.fdt, 60 x 15001 (60.0 s), ~6.9 MB, data loaded>, <RawEEGLAB | sub-032474_EC.fdt, 60 x 15001 (60.0 s), ~6.9 MB, data loaded>, <RawEEGLAB | sub-032474_EC.fdt, 60 x 14751 (59.0 s), ~6.8 MB, data loaded>, <RawEEGLAB | sub-032474_EC.fdt, 60 x 14251 (57.0 s), ~6.6 MB, data loaded>], [<RawEEGLAB | sub-032475_EC.fdt, 61 x 14501 (58.0 s), ~6.8 MB, data loaded>, <RawEEGLAB | sub-032475_EC.fdt, 61 x 15001 (60.0 s), ~7.1 MB, data loaded>, <RawEEGLAB | sub-032475_EC.fdt, 61 x 14251 (57.0 s), ~6.7 MB, data loaded>, <RawEEGLAB | sub-032475_EC.fdt, 61 x 14751 (59.0 s), ~6.9 MB, data loaded>, <RawEEGLAB | sub-032475_EC.fdt, 61 x 15001 (60.0 s), ~7.1 MB, data loaded>, <RawEEGLAB | sub-032475_EC.fdt, 61 x 15001 (60.0 s), ~7.1 MB, data loaded>, <RawEEGLAB | sub-032475_EC.fdt, 61 x 15001 (60.0 s), ~7.1 MB, data loaded>, <RawEEGLAB | sub-032475_EC.fdt, 61 x 14251 (57.0 s), ~6.7 MB, data loaded>], [<RawEEGLAB | sub-032476_EC.fdt, 61 x 14501 (58.0 s), ~6.8 MB, data loaded>, <RawEEGLAB | sub-032476_EC.fdt, 61 x 15001 (60.0 s), ~7.1 MB, data loaded>, <RawEEGLAB | sub-032476_EC.fdt, 61 x 15001 (60.0 s), ~7.1 MB, data loaded>, <RawEEGLAB | sub-032476_EC.fdt, 61 x 15001 (60.0 s), ~7.1 MB, data loaded>, <RawEEGLAB | sub-032476_EC.fdt, 61 x 15001 (60.0 s), ~7.1 MB, data loaded>, <RawEEGLAB | sub-032476_EC.fdt, 61 x 15001 (60.0 s), ~7.1 MB, data loaded>, <RawEEGLAB | sub-032476_EC.fdt, 61 x 15001 (60.0 s), ~7.1 MB, data loaded>, <RawEEGLAB | sub-032476_EC.fdt, 61 x 14251 (57.0 s), ~6.7 MB, data loaded>], [<RawEEGLAB | sub-032477_EC.fdt, 60 x 14501 (58.0 s), ~6.7 MB, data loaded>, <RawEEGLAB | sub-032477_EC.fdt, 60 x 15001 (60.0 s), ~6.9 MB, data loaded>, <RawEEGLAB | sub-032477_EC.fdt, 60 x 15001 (60.0 s), ~6.9 MB, data loaded>, <RawEEGLAB | sub-032477_EC.fdt, 60 x 15001 (60.0 s), ~6.9 MB, data loaded>, <RawEEGLAB | sub-032477_EC.fdt, 60 x 15001 (60.0 s), ~6.9 MB, data loaded>, <RawEEGLAB | sub-032477_EC.fdt, 60 x 15001 (60.0 s), ~6.9 MB, data loaded>, <RawEEGLAB | sub-032477_EC.fdt, 60 x 15001 (60.0 s), ~6.9 MB, data loaded>, <RawEEGLAB | sub-032477_EC.fdt, 60 x 14251 (57.0 s), ~6.6 MB, data loaded>], [<RawEEGLAB | sub-032478_EC.fdt, 58 x 14751 (59.0 s), ~6.6 MB, data loaded>, <RawEEGLAB | sub-032478_EC.fdt, 58 x 15001 (60.0 s), ~6.7 MB, data loaded>, <RawEEGLAB | sub-032478_EC.fdt, 58 x 15001 (60.0 s), ~6.7 MB, data loaded>, <RawEEGLAB | sub-032478_EC.fdt, 58 x 15001 (60.0 s), ~6.7 MB, data loaded>, <RawEEGLAB | sub-032478_EC.fdt, 58 x 15001 (60.0 s), ~6.7 MB, data loaded>, <RawEEGLAB | sub-032478_EC.fdt, 58 x 14251 (57.0 s), ~6.4 MB, data loaded>, <RawEEGLAB | sub-032478_EC.fdt, 58 x 15001 (60.0 s), ~6.7 MB, data loaded>, <RawEEGLAB | sub-032478_EC.fdt, 58 x 14251 (57.0 s), ~6.4 MB, data loaded>], [<RawEEGLAB | sub-032479_EC.fdt, 60 x 13251 (53.0 s), ~6.1 MB, data loaded>, <RawEEGLAB | sub-032479_EC.fdt, 60 x 14751 (59.0 s), ~6.8 MB, data loaded>, <RawEEGLAB | sub-032479_EC.fdt, 60 x 14501 (58.0 s), ~6.7 MB, data loaded>, <RawEEGLAB | sub-032479_EC.fdt, 60 x 14751 (59.0 s), ~6.8 MB, data loaded>, <RawEEGLAB | sub-032479_EC.fdt, 60 x 14751 (59.0 s), ~6.8 MB, data loaded>, <RawEEGLAB | sub-032479_EC.fdt, 60 x 5251 (21.0 s), ~2.5 MB, data loaded>, <RawEEGLAB | sub-032479_EC.fdt, 60 x 8501 (34.0 s), ~4.0 MB, data loaded>, <RawEEGLAB | sub-032479_EC.fdt, 60 x 15001 (60.0 s), ~6.9 MB, data loaded>, <RawEEGLAB | sub-032479_EC.fdt, 60 x 14251 (57.0 s), ~6.6 MB, data loaded>], [<RawEEGLAB | sub-032480_EC.fdt, 61 x 14501 (58.0 s), ~6.8 MB, data loaded>, <RawEEGLAB | sub-032480_EC.fdt, 61 x 15001 (60.0 s), ~7.1 MB, data loaded>, <RawEEGLAB | sub-032480_EC.fdt, 61 x 15001 (60.0 s), ~7.1 MB, data loaded>, <RawEEGLAB | sub-032480_EC.fdt, 61 x 15001 (60.0 s), ~7.1 MB, data loaded>, <RawEEGLAB | sub-032480_EC.fdt, 61 x 15001 (60.0 s), ~7.1 MB, data loaded>, <RawEEGLAB | sub-032480_EC.fdt, 61 x 15001 (60.0 s), ~7.1 MB, data loaded>, <RawEEGLAB | sub-032480_EC.fdt, 61 x 15001 (60.0 s), ~7.1 MB, data loaded>, <RawEEGLAB | sub-032480_EC.fdt, 61 x 14251 (57.0 s), ~6.7 MB, data loaded>], [<RawEEGLAB | sub-032481_EC.fdt, 60 x 11001 (44.0 s), ~5.1 MB, data loaded>, <RawEEGLAB | sub-032481_EC.fdt, 60 x 15001 (60.0 s), ~6.9 MB, data loaded>, <RawEEGLAB | sub-032481_EC.fdt, 60 x 15001 (60.0 s), ~6.9 MB, data loaded>, <RawEEGLAB | sub-032481_EC.fdt, 60 x 15001 (60.0 s), ~6.9 MB, data loaded>, <RawEEGLAB | sub-032481_EC.fdt, 60 x 15001 (60.0 s), ~6.9 MB, data loaded>, <RawEEGLAB | sub-032481_EC.fdt, 60 x 15001 (60.0 s), ~6.9 MB, data loaded>, <RawEEGLAB | sub-032481_EC.fdt, 60 x 15001 (60.0 s), ~6.9 MB, data loaded>, <RawEEGLAB | sub-032481_EC.fdt, 60 x 14251 (57.0 s), ~6.6 MB, data loaded>], [<RawEEGLAB | sub-032482_EC.fdt, 60 x 14501 (58.0 s), ~6.7 MB, data loaded>, <RawEEGLAB | sub-032482_EC.fdt, 60 x 15001 (60.0 s), ~6.9 MB, data loaded>, <RawEEGLAB | sub-032482_EC.fdt, 60 x 15001 (60.0 s), ~6.9 MB, data loaded>, <RawEEGLAB | sub-032482_EC.fdt, 60 x 15001 (60.0 s), ~6.9 MB, data loaded>, <RawEEGLAB | sub-032482_EC.fdt, 60 x 15001 (60.0 s), ~6.9 MB, data loaded>, <RawEEGLAB | sub-032482_EC.fdt, 60 x 15001 (60.0 s), ~6.9 MB, data loaded>, <RawEEGLAB | sub-032482_EC.fdt, 60 x 15001 (60.0 s), ~6.9 MB, data loaded>, <RawEEGLAB | sub-032482_EC.fdt, 60 x 14251 (57.0 s), ~6.6 MB, data loaded>], [<RawEEGLAB | sub-032483_EC.fdt, 61 x 5801 (58.0 s), ~2.8 MB, data loaded>, <RawEEGLAB | sub-032483_EC.fdt, 61 x 6001 (60.0 s), ~2.9 MB, data loaded>, <RawEEGLAB | sub-032483_EC.fdt, 61 x 5701 (57.0 s), ~2.7 MB, data loaded>, <RawEEGLAB | sub-032483_EC.fdt, 61 x 6001 (60.0 s), ~2.9 MB, data loaded>, <RawEEGLAB | sub-032483_EC.fdt, 61 x 6001 (60.0 s), ~2.9 MB, data loaded>, <RawEEGLAB | sub-032483_EC.fdt, 61 x 6001 (60.0 s), ~2.9 MB, data loaded>, <RawEEGLAB | sub-032483_EC.fdt, 61 x 6001 (60.0 s), ~2.9 MB, data loaded>, <RawEEGLAB | sub-032483_EC.fdt, 61 x 5701 (57.0 s), ~2.7 MB, data loaded>], [<RawEEGLAB | sub-032484_EC.fdt, 61 x 5801 (58.0 s), ~2.8 MB, data loaded>, <RawEEGLAB | sub-032484_EC.fdt, 61 x 6001 (60.0 s), ~2.9 MB, data loaded>, <RawEEGLAB | sub-032484_EC.fdt, 61 x 6001 (60.0 s), ~2.9 MB, data loaded>, <RawEEGLAB | sub-032484_EC.fdt, 61 x 6001 (60.0 s), ~2.9 MB, data loaded>, <RawEEGLAB | sub-032484_EC.fdt, 61 x 6001 (60.0 s), ~2.9 MB, data loaded>, <RawEEGLAB | sub-032484_EC.fdt, 61 x 6001 (60.0 s), ~2.9 MB, data loaded>, <RawEEGLAB | sub-032484_EC.fdt, 61 x 6001 (60.0 s), ~2.9 MB, data loaded>, <RawEEGLAB | sub-032484_EC.fdt, 61 x 5701 (57.0 s), ~2.7 MB, data loaded>], [<RawEEGLAB | sub-032490_EC.fdt, 61 x 14501 (58.0 s), ~6.8 MB, data loaded>, <RawEEGLAB | sub-032490_EC.fdt, 61 x 15001 (60.0 s), ~7.1 MB, data loaded>, <RawEEGLAB | sub-032490_EC.fdt, 61 x 15001 (60.0 s), ~7.1 MB, data loaded>, <RawEEGLAB | sub-032490_EC.fdt, 61 x 15001 (60.0 s), ~7.1 MB, data loaded>, <RawEEGLAB | sub-032490_EC.fdt, 61 x 15001 (60.0 s), ~7.1 MB, data loaded>, <RawEEGLAB | sub-032490_EC.fdt, 61 x 15001 (60.0 s), ~7.1 MB, data loaded>, <RawEEGLAB | sub-032490_EC.fdt, 61 x 15001 (60.0 s), ~7.1 MB, data loaded>, <RawEEGLAB | sub-032490_EC.fdt, 61 x 12001 (48.0 s), ~5.7 MB, data loaded>], [<RawEEGLAB | sub-032491_EC.fdt, 60 x 14501 (58.0 s), ~6.7 MB, data loaded>, <RawEEGLAB | sub-032491_EC.fdt, 60 x 15001 (60.0 s), ~6.9 MB, data loaded>, <RawEEGLAB | sub-032491_EC.fdt, 60 x 15001 (60.0 s), ~6.9 MB, data loaded>, <RawEEGLAB | sub-032491_EC.fdt, 60 x 15001 (60.0 s), ~6.9 MB, data loaded>, <RawEEGLAB | sub-032491_EC.fdt, 60 x 10001 (40.0 s), ~4.7 MB, data loaded>, <RawEEGLAB | sub-032491_EC.fdt, 60 x 4251 (17.0 s), ~2.0 MB, data loaded>, <RawEEGLAB | sub-032491_EC.fdt, 60 x 15001 (60.0 s), ~6.9 MB, data loaded>, <RawEEGLAB | sub-032491_EC.fdt, 60 x 15001 (60.0 s), ~6.9 MB, data loaded>, <RawEEGLAB | sub-032491_EC.fdt, 60 x 14251 (57.0 s), ~6.6 MB, data loaded>], [<RawEEGLAB | sub-032493_EC.fdt, 59 x 14501 (58.0 s), ~6.6 MB, data loaded>, <RawEEGLAB | sub-032493_EC.fdt, 59 x 15001 (60.0 s), ~6.8 MB, data loaded>, <RawEEGLAB | sub-032493_EC.fdt, 59 x 13751 (55.0 s), ~6.3 MB, data loaded>, <RawEEGLAB | sub-032493_EC.fdt, 59 x 15001 (60.0 s), ~6.8 MB, data loaded>, <RawEEGLAB | sub-032493_EC.fdt, 59 x 15001 (60.0 s), ~6.8 MB, data loaded>, <RawEEGLAB | sub-032493_EC.fdt, 59 x 15001 (60.0 s), ~6.8 MB, data loaded>, <RawEEGLAB | sub-032493_EC.fdt, 59 x 15001 (60.0 s), ~6.8 MB, data loaded>, <RawEEGLAB | sub-032493_EC.fdt, 59 x 14251 (57.0 s), ~6.5 MB, data loaded>], [<RawEEGLAB | sub-032494_EC.fdt, 61 x 14501 (58.0 s), ~6.8 MB, data loaded>, <RawEEGLAB | sub-032494_EC.fdt, 61 x 15001 (60.0 s), ~7.1 MB, data loaded>, <RawEEGLAB | sub-032494_EC.fdt, 61 x 14501 (58.0 s), ~6.8 MB, data loaded>, <RawEEGLAB | sub-032494_EC.fdt, 61 x 15001 (60.0 s), ~7.1 MB, data loaded>, <RawEEGLAB | sub-032494_EC.fdt, 61 x 15001 (60.0 s), ~7.1 MB, data loaded>, <RawEEGLAB | sub-032494_EC.fdt, 61 x 15001 (60.0 s), ~7.1 MB, data loaded>, <RawEEGLAB | sub-032494_EC.fdt, 61 x 14501 (58.0 s), ~6.8 MB, data loaded>, <RawEEGLAB | sub-032494_EC.fdt, 61 x 14251 (57.0 s), ~6.7 MB, data loaded>], [<RawEEGLAB | sub-032495_EC.fdt, 61 x 14501 (58.0 s), ~6.8 MB, data loaded>, <RawEEGLAB | sub-032495_EC.fdt, 61 x 15001 (60.0 s), ~7.1 MB, data loaded>, <RawEEGLAB | sub-032495_EC.fdt, 61 x 15001 (60.0 s), ~7.1 MB, data loaded>, <RawEEGLAB | sub-032495_EC.fdt, 61 x 13751 (55.0 s), ~6.5 MB, data loaded>, <RawEEGLAB | sub-032495_EC.fdt, 61 x 15001 (60.0 s), ~7.1 MB, data loaded>, <RawEEGLAB | sub-032495_EC.fdt, 61 x 14251 (57.0 s), ~6.7 MB, data loaded>, <RawEEGLAB | sub-032495_EC.fdt, 61 x 13251 (53.0 s), ~6.3 MB, data loaded>, <RawEEGLAB | sub-032495_EC.fdt, 61 x 14251 (57.0 s), ~6.7 MB, data loaded>], [<RawEEGLAB | sub-032496_EC.fdt, 61 x 14501 (58.0 s), ~6.8 MB, data loaded>, <RawEEGLAB | sub-032496_EC.fdt, 61 x 15001 (60.0 s), ~7.1 MB, data loaded>, <RawEEGLAB | sub-032496_EC.fdt, 61 x 15001 (60.0 s), ~7.1 MB, data loaded>, <RawEEGLAB | sub-032496_EC.fdt, 61 x 15001 (60.0 s), ~7.1 MB, data loaded>, <RawEEGLAB | sub-032496_EC.fdt, 61 x 15001 (60.0 s), ~7.1 MB, data loaded>, <RawEEGLAB | sub-032496_EC.fdt, 61 x 15001 (60.0 s), ~7.1 MB, data loaded>, <RawEEGLAB | sub-032496_EC.fdt, 61 x 15001 (60.0 s), ~7.1 MB, data loaded>, <RawEEGLAB | sub-032496_EC.fdt, 61 x 14501 (58.0 s), ~6.8 MB, data loaded>], [<RawEEGLAB | sub-032497_EC.fdt, 58 x 14001 (56.0 s), ~6.3 MB, data loaded>, <RawEEGLAB | sub-032497_EC.fdt, 58 x 15001 (60.0 s), ~6.7 MB, data loaded>, <RawEEGLAB | sub-032497_EC.fdt, 58 x 15001 (60.0 s), ~6.7 MB, data loaded>, <RawEEGLAB | sub-032497_EC.fdt, 58 x 15001 (60.0 s), ~6.7 MB, data loaded>, <RawEEGLAB | sub-032497_EC.fdt, 58 x 15001 (60.0 s), ~6.7 MB, data loaded>, <RawEEGLAB | sub-032497_EC.fdt, 58 x 15001 (60.0 s), ~6.7 MB, data loaded>, <RawEEGLAB | sub-032497_EC.fdt, 58 x 15001 (60.0 s), ~6.7 MB, data loaded>, <RawEEGLAB | sub-032497_EC.fdt, 58 x 14251 (57.0 s), ~6.4 MB, data loaded>], [<RawEEGLAB | sub-032498_EC.fdt, 57 x 14501 (58.0 s), ~6.4 MB, data loaded>, <RawEEGLAB | sub-032498_EC.fdt, 57 x 15001 (60.0 s), ~6.6 MB, data loaded>, <RawEEGLAB | sub-032498_EC.fdt, 57 x 15001 (60.0 s), ~6.6 MB, data loaded>, <RawEEGLAB | sub-032498_EC.fdt, 57 x 15001 (60.0 s), ~6.6 MB, data loaded>, <RawEEGLAB | sub-032498_EC.fdt, 57 x 15001 (60.0 s), ~6.6 MB, data loaded>, <RawEEGLAB | sub-032498_EC.fdt, 57 x 15001 (60.0 s), ~6.6 MB, data loaded>, <RawEEGLAB | sub-032498_EC.fdt, 57 x 15001 (60.0 s), ~6.6 MB, data loaded>, <RawEEGLAB | sub-032498_EC.fdt, 57 x 14251 (57.0 s), ~6.3 MB, data loaded>], [<RawEEGLAB | sub-032499_EC.fdt, 61 x 14251 (57.0 s), ~6.7 MB, data loaded>, <RawEEGLAB | sub-032499_EC.fdt, 61 x 14751 (59.0 s), ~6.9 MB, data loaded>, <RawEEGLAB | sub-032499_EC.fdt, 61 x 15001 (60.0 s), ~7.1 MB, data loaded>, <RawEEGLAB | sub-032499_EC.fdt, 61 x 15001 (60.0 s), ~7.1 MB, data loaded>, <RawEEGLAB | sub-032499_EC.fdt, 61 x 15001 (60.0 s), ~7.1 MB, data loaded>, <RawEEGLAB | sub-032499_EC.fdt, 61 x 15001 (60.0 s), ~7.1 MB, data loaded>, <RawEEGLAB | sub-032499_EC.fdt, 61 x 15001 (60.0 s), ~7.1 MB, data loaded>, <RawEEGLAB | sub-032499_EC.fdt, 61 x 14251 (57.0 s), ~6.7 MB, data loaded>], [<RawEEGLAB | sub-032501_EC.fdt, 61 x 14501 (58.0 s), ~6.8 MB, data loaded>, <RawEEGLAB | sub-032501_EC.fdt, 61 x 15001 (60.0 s), ~7.1 MB, data loaded>, <RawEEGLAB | sub-032501_EC.fdt, 61 x 15001 (60.0 s), ~7.1 MB, data loaded>, <RawEEGLAB | sub-032501_EC.fdt, 61 x 15001 (60.0 s), ~7.1 MB, data loaded>, <RawEEGLAB | sub-032501_EC.fdt, 61 x 15001 (60.0 s), ~7.1 MB, data loaded>, <RawEEGLAB | sub-032501_EC.fdt, 61 x 15001 (60.0 s), ~7.1 MB, data loaded>, <RawEEGLAB | sub-032501_EC.fdt, 61 x 15001 (60.0 s), ~7.1 MB, data loaded>, <RawEEGLAB | sub-032501_EC.fdt, 61 x 14501 (58.0 s), ~6.8 MB, data loaded>], [<RawEEGLAB | sub-032502_EC.fdt, 61 x 14501 (58.0 s), ~6.8 MB, data loaded>, <RawEEGLAB | sub-032502_EC.fdt, 61 x 15001 (60.0 s), ~7.1 MB, data loaded>, <RawEEGLAB | sub-032502_EC.fdt, 61 x 15001 (60.0 s), ~7.1 MB, data loaded>, <RawEEGLAB | sub-032502_EC.fdt, 61 x 15001 (60.0 s), ~7.1 MB, data loaded>, <RawEEGLAB | sub-032502_EC.fdt, 61 x 15001 (60.0 s), ~7.1 MB, data loaded>, <RawEEGLAB | sub-032502_EC.fdt, 61 x 15001 (60.0 s), ~7.1 MB, data loaded>, <RawEEGLAB | sub-032502_EC.fdt, 61 x 15001 (60.0 s), ~7.1 MB, data loaded>, <RawEEGLAB | sub-032502_EC.fdt, 61 x 14501 (58.0 s), ~6.8 MB, data loaded>], [<RawEEGLAB | sub-032503_EC.fdt, 61 x 14501 (58.0 s), ~6.8 MB, data loaded>, <RawEEGLAB | sub-032503_EC.fdt, 61 x 15001 (60.0 s), ~7.1 MB, data loaded>, <RawEEGLAB | sub-032503_EC.fdt, 61 x 15001 (60.0 s), ~7.1 MB, data loaded>, <RawEEGLAB | sub-032503_EC.fdt, 61 x 15001 (60.0 s), ~7.1 MB, data loaded>, <RawEEGLAB | sub-032503_EC.fdt, 61 x 15001 (60.0 s), ~7.1 MB, data loaded>, <RawEEGLAB | sub-032503_EC.fdt, 61 x 15001 (60.0 s), ~7.1 MB, data loaded>, <RawEEGLAB | sub-032503_EC.fdt, 61 x 15001 (60.0 s), ~7.1 MB, data loaded>, <RawEEGLAB | sub-032503_EC.fdt, 61 x 14251 (57.0 s), ~6.7 MB, data loaded>], [<RawEEGLAB | sub-032504_EC.fdt, 61 x 14501 (58.0 s), ~6.8 MB, data loaded>, <RawEEGLAB | sub-032504_EC.fdt, 61 x 15001 (60.0 s), ~7.1 MB, data loaded>, <RawEEGLAB | sub-032504_EC.fdt, 61 x 15001 (60.0 s), ~7.1 MB, data loaded>, <RawEEGLAB | sub-032504_EC.fdt, 61 x 15001 (60.0 s), ~7.1 MB, data loaded>, <RawEEGLAB | sub-032504_EC.fdt, 61 x 15001 (60.0 s), ~7.1 MB, data loaded>, <RawEEGLAB | sub-032504_EC.fdt, 61 x 15001 (60.0 s), ~7.1 MB, data loaded>, <RawEEGLAB | sub-032504_EC.fdt, 61 x 15001 (60.0 s), ~7.1 MB, data loaded>, <RawEEGLAB | sub-032504_EC.fdt, 61 x 14251 (57.0 s), ~6.7 MB, data loaded>], [<RawEEGLAB | sub-032505_EC.fdt, 61 x 14501 (58.0 s), ~6.8 MB, data loaded>, <RawEEGLAB | sub-032505_EC.fdt, 61 x 15001 (60.0 s), ~7.1 MB, data loaded>, <RawEEGLAB | sub-032505_EC.fdt, 61 x 15001 (60.0 s), ~7.1 MB, data loaded>, <RawEEGLAB | sub-032505_EC.fdt, 61 x 15001 (60.0 s), ~7.1 MB, data loaded>, <RawEEGLAB | sub-032505_EC.fdt, 61 x 15001 (60.0 s), ~7.1 MB, data loaded>, <RawEEGLAB | sub-032505_EC.fdt, 61 x 13751 (55.0 s), ~6.5 MB, data loaded>, <RawEEGLAB | sub-032505_EC.fdt, 61 x 15001 (60.0 s), ~7.1 MB, data loaded>, <RawEEGLAB | sub-032505_EC.fdt, 61 x 6251 (25.0 s), ~3.0 MB, data loaded>, <RawEEGLAB | sub-032505_EC.fdt, 61 x 8001 (32.0 s), ~3.8 MB, data loaded>], [<RawEEGLAB | sub-032506_EC.fdt, 61 x 14501 (58.0 s), ~6.8 MB, data loaded>, <RawEEGLAB | sub-032506_EC.fdt, 61 x 9001 (36.0 s), ~4.3 MB, data loaded>, <RawEEGLAB | sub-032506_EC.fdt, 61 x 5001 (20.0 s), ~2.4 MB, data loaded>, <RawEEGLAB | sub-032506_EC.fdt, 61 x 15001 (60.0 s), ~7.1 MB, data loaded>, <RawEEGLAB | sub-032506_EC.fdt, 61 x 15001 (60.0 s), ~7.1 MB, data loaded>, <RawEEGLAB | sub-032506_EC.fdt, 61 x 15001 (60.0 s), ~7.1 MB, data loaded>, <RawEEGLAB | sub-032506_EC.fdt, 61 x 15001 (60.0 s), ~7.1 MB, data loaded>, <RawEEGLAB | sub-032506_EC.fdt, 61 x 15001 (60.0 s), ~7.1 MB, data loaded>, <RawEEGLAB | sub-032506_EC.fdt, 61 x 14251 (57.0 s), ~6.7 MB, data loaded>], [<RawEEGLAB | sub-032507_EC.fdt, 61 x 14501 (58.0 s), ~6.8 MB, data loaded>, <RawEEGLAB | sub-032507_EC.fdt, 61 x 15001 (60.0 s), ~7.1 MB, data loaded>, <RawEEGLAB | sub-032507_EC.fdt, 61 x 14751 (59.0 s), ~6.9 MB, data loaded>, <RawEEGLAB | sub-032507_EC.fdt, 61 x 13501 (54.0 s), ~6.4 MB, data loaded>, <RawEEGLAB | sub-032507_EC.fdt, 61 x 14501 (58.0 s), ~6.8 MB, data loaded>, <RawEEGLAB | sub-032507_EC.fdt, 61 x 15001 (60.0 s), ~7.1 MB, data loaded>, <RawEEGLAB | sub-032507_EC.fdt, 61 x 15001 (60.0 s), ~7.1 MB, data loaded>, <RawEEGLAB | sub-032507_EC.fdt, 61 x 14251 (57.0 s), ~6.7 MB, data loaded>], [<RawEEGLAB | sub-032508_EC.fdt, 61 x 14501 (58.0 s), ~6.8 MB, data loaded>, <RawEEGLAB | sub-032508_EC.fdt, 61 x 15001 (60.0 s), ~7.1 MB, data loaded>, <RawEEGLAB | sub-032508_EC.fdt, 61 x 15001 (60.0 s), ~7.1 MB, data loaded>, <RawEEGLAB | sub-032508_EC.fdt, 61 x 15001 (60.0 s), ~7.1 MB, data loaded>, <RawEEGLAB | sub-032508_EC.fdt, 61 x 15001 (60.0 s), ~7.1 MB, data loaded>, <RawEEGLAB | sub-032508_EC.fdt, 61 x 15001 (60.0 s), ~7.1 MB, data loaded>, <RawEEGLAB | sub-032508_EC.fdt, 61 x 15001 (60.0 s), ~7.1 MB, data loaded>, <RawEEGLAB | sub-032508_EC.fdt, 61 x 14501 (58.0 s), ~6.8 MB, data loaded>], [<RawEEGLAB | sub-032509_EC.fdt, 60 x 14501 (58.0 s), ~6.7 MB, data loaded>, <RawEEGLAB | sub-032509_EC.fdt, 60 x 13001 (52.0 s), ~6.0 MB, data loaded>, <RawEEGLAB | sub-032509_EC.fdt, 60 x 5251 (21.0 s), ~2.5 MB, data loaded>, <RawEEGLAB | sub-032509_EC.fdt, 60 x 6001 (24.0 s), ~2.8 MB, data loaded>, <RawEEGLAB | sub-032509_EC.fdt, 60 x 15001 (60.0 s), ~6.9 MB, data loaded>, <RawEEGLAB | sub-032509_EC.fdt, 60 x 12251 (49.0 s), ~5.7 MB, data loaded>, <RawEEGLAB | sub-032509_EC.fdt, 60 x 6751 (27.0 s), ~3.2 MB, data loaded>, <RawEEGLAB | sub-032509_EC.fdt, 60 x 15001 (60.0 s), ~6.9 MB, data loaded>, <RawEEGLAB | sub-032509_EC.fdt, 60 x 7501 (30.0 s), ~3.5 MB, data loaded>, <RawEEGLAB | sub-032509_EC.fdt, 60 x 751 (3.0 s), ~436 kB, data loaded>], [<RawEEGLAB | sub-032510_EC.fdt, 59 x 14501 (58.0 s), ~6.6 MB, data loaded>, <RawEEGLAB | sub-032510_EC.fdt, 59 x 15001 (60.0 s), ~6.8 MB, data loaded>, <RawEEGLAB | sub-032510_EC.fdt, 59 x 15001 (60.0 s), ~6.8 MB, data loaded>, <RawEEGLAB | sub-032510_EC.fdt, 59 x 5001 (20.0 s), ~2.3 MB, data loaded>, <RawEEGLAB | sub-032510_EC.fdt, 59 x 9751 (39.0 s), ~4.5 MB, data loaded>, <RawEEGLAB | sub-032510_EC.fdt, 59 x 15001 (60.0 s), ~6.8 MB, data loaded>, <RawEEGLAB | sub-032510_EC.fdt, 59 x 15001 (60.0 s), ~6.8 MB, data loaded>, <RawEEGLAB | sub-032510_EC.fdt, 59 x 15001 (60.0 s), ~6.8 MB, data loaded>, <RawEEGLAB | sub-032510_EC.fdt, 59 x 14251 (57.0 s), ~6.5 MB, data loaded>], [<RawEEGLAB | sub-032511_EC.fdt, 61 x 14001 (56.0 s), ~6.6 MB, data loaded>, <RawEEGLAB | sub-032511_EC.fdt, 61 x 14751 (59.0 s), ~6.9 MB, data loaded>, <RawEEGLAB | sub-032511_EC.fdt, 61 x 15001 (60.0 s), ~7.1 MB, data loaded>, <RawEEGLAB | sub-032511_EC.fdt, 61 x 15001 (60.0 s), ~7.1 MB, data loaded>, <RawEEGLAB | sub-032511_EC.fdt, 61 x 15001 (60.0 s), ~7.1 MB, data loaded>, <RawEEGLAB | sub-032511_EC.fdt, 61 x 15001 (60.0 s), ~7.1 MB, data loaded>, <RawEEGLAB | sub-032511_EC.fdt, 61 x 14501 (58.0 s), ~6.8 MB, data loaded>, <RawEEGLAB | sub-032511_EC.fdt, 61 x 14251 (57.0 s), ~6.7 MB, data loaded>], [<RawEEGLAB | sub-032512_EC.fdt, 60 x 14501 (58.0 s), ~6.7 MB, data loaded>, <RawEEGLAB | sub-032512_EC.fdt, 60 x 15001 (60.0 s), ~6.9 MB, data loaded>, <RawEEGLAB | sub-032512_EC.fdt, 60 x 15001 (60.0 s), ~6.9 MB, data loaded>, <RawEEGLAB | sub-032512_EC.fdt, 60 x 15001 (60.0 s), ~6.9 MB, data loaded>, <RawEEGLAB | sub-032512_EC.fdt, 60 x 15001 (60.0 s), ~6.9 MB, data loaded>, <RawEEGLAB | sub-032512_EC.fdt, 60 x 15001 (60.0 s), ~6.9 MB, data loaded>, <RawEEGLAB | sub-032512_EC.fdt, 60 x 15001 (60.0 s), ~6.9 MB, data loaded>, <RawEEGLAB | sub-032512_EC.fdt, 60 x 14251 (57.0 s), ~6.6 MB, data loaded>], [<RawEEGLAB | sub-032513_EC.fdt, 61 x 14501 (58.0 s), ~6.8 MB, data loaded>, <RawEEGLAB | sub-032513_EC.fdt, 61 x 15001 (60.0 s), ~7.1 MB, data loaded>, <RawEEGLAB | sub-032513_EC.fdt, 61 x 14751 (59.0 s), ~6.9 MB, data loaded>, <RawEEGLAB | sub-032513_EC.fdt, 61 x 15001 (60.0 s), ~7.1 MB, data loaded>, <RawEEGLAB | sub-032513_EC.fdt, 61 x 15001 (60.0 s), ~7.1 MB, data loaded>, <RawEEGLAB | sub-032513_EC.fdt, 61 x 15001 (60.0 s), ~7.1 MB, data loaded>, <RawEEGLAB | sub-032513_EC.fdt, 61 x 15001 (60.0 s), ~7.1 MB, data loaded>, <RawEEGLAB | sub-032513_EC.fdt, 61 x 14251 (57.0 s), ~6.7 MB, data loaded>], [<RawEEGLAB | sub-032514_EC.fdt, 60 x 14501 (58.0 s), ~6.7 MB, data loaded>, <RawEEGLAB | sub-032514_EC.fdt, 60 x 15001 (60.0 s), ~6.9 MB, data loaded>, <RawEEGLAB | sub-032514_EC.fdt, 60 x 15001 (60.0 s), ~6.9 MB, data loaded>, <RawEEGLAB | sub-032514_EC.fdt, 60 x 15001 (60.0 s), ~6.9 MB, data loaded>, <RawEEGLAB | sub-032514_EC.fdt, 60 x 15001 (60.0 s), ~6.9 MB, data loaded>, <RawEEGLAB | sub-032514_EC.fdt, 60 x 15001 (60.0 s), ~6.9 MB, data loaded>, <RawEEGLAB | sub-032514_EC.fdt, 60 x 15001 (60.0 s), ~6.9 MB, data loaded>, <RawEEGLAB | sub-032514_EC.fdt, 60 x 14501 (58.0 s), ~6.7 MB, data loaded>], [<RawEEGLAB | sub-032515_EC.fdt, 61 x 14501 (58.0 s), ~6.8 MB, data loaded>, <RawEEGLAB | sub-032515_EC.fdt, 61 x 15001 (60.0 s), ~7.1 MB, data loaded>, <RawEEGLAB | sub-032515_EC.fdt, 61 x 15001 (60.0 s), ~7.1 MB, data loaded>, <RawEEGLAB | sub-032515_EC.fdt, 61 x 15001 (60.0 s), ~7.1 MB, data loaded>, <RawEEGLAB | sub-032515_EC.fdt, 61 x 15001 (60.0 s), ~7.1 MB, data loaded>, <RawEEGLAB | sub-032515_EC.fdt, 61 x 15001 (60.0 s), ~7.1 MB, data loaded>, <RawEEGLAB | sub-032515_EC.fdt, 61 x 15001 (60.0 s), ~7.1 MB, data loaded>, <RawEEGLAB | sub-032515_EC.fdt, 61 x 14501 (58.0 s), ~6.8 MB, data loaded>], [<RawEEGLAB | sub-032516_EC.fdt, 61 x 14501 (58.0 s), ~6.8 MB, data loaded>, <RawEEGLAB | sub-032516_EC.fdt, 61 x 15001 (60.0 s), ~7.1 MB, data loaded>, <RawEEGLAB | sub-032516_EC.fdt, 61 x 15001 (60.0 s), ~7.1 MB, data loaded>, <RawEEGLAB | sub-032516_EC.fdt, 61 x 15001 (60.0 s), ~7.1 MB, data loaded>, <RawEEGLAB | sub-032516_EC.fdt, 61 x 15001 (60.0 s), ~7.1 MB, data loaded>, <RawEEGLAB | sub-032516_EC.fdt, 61 x 15001 (60.0 s), ~7.1 MB, data loaded>, <RawEEGLAB | sub-032516_EC.fdt, 61 x 15001 (60.0 s), ~7.1 MB, data loaded>, <RawEEGLAB | sub-032516_EC.fdt, 61 x 14251 (57.0 s), ~6.7 MB, data loaded>], [<RawEEGLAB | sub-032517_EC.fdt, 60 x 14501 (58.0 s), ~6.7 MB, data loaded>, <RawEEGLAB | sub-032517_EC.fdt, 60 x 15001 (60.0 s), ~6.9 MB, data loaded>, <RawEEGLAB | sub-032517_EC.fdt, 60 x 15001 (60.0 s), ~6.9 MB, data loaded>, <RawEEGLAB | sub-032517_EC.fdt, 60 x 15001 (60.0 s), ~6.9 MB, data loaded>, <RawEEGLAB | sub-032517_EC.fdt, 60 x 15001 (60.0 s), ~6.9 MB, data loaded>, <RawEEGLAB | sub-032517_EC.fdt, 60 x 15001 (60.0 s), ~6.9 MB, data loaded>, <RawEEGLAB | sub-032517_EC.fdt, 60 x 15001 (60.0 s), ~6.9 MB, data loaded>, <RawEEGLAB | sub-032517_EC.fdt, 60 x 14251 (57.0 s), ~6.6 MB, data loaded>], [<RawEEGLAB | sub-032518_EC.fdt, 61 x 14501 (58.0 s), ~6.8 MB, data loaded>, <RawEEGLAB | sub-032518_EC.fdt, 61 x 15001 (60.0 s), ~7.1 MB, data loaded>, <RawEEGLAB | sub-032518_EC.fdt, 61 x 14501 (58.0 s), ~6.8 MB, data loaded>, <RawEEGLAB | sub-032518_EC.fdt, 61 x 10501 (42.0 s), ~5.0 MB, data loaded>, <RawEEGLAB | sub-032518_EC.fdt, 61 x 4001 (16.0 s), ~1.9 MB, data loaded>, <RawEEGLAB | sub-032518_EC.fdt, 61 x 11501 (46.0 s), ~5.4 MB, data loaded>, <RawEEGLAB | sub-032518_EC.fdt, 61 x 2251 (9.0 s), ~1.1 MB, data loaded>, <RawEEGLAB | sub-032518_EC.fdt, 61 x 12251 (49.0 s), ~5.8 MB, data loaded>, <RawEEGLAB | sub-032518_EC.fdt, 61 x 15001 (60.0 s), ~7.1 MB, data loaded>, <RawEEGLAB | sub-032518_EC.fdt, 61 x 9251 (37.0 s), ~4.4 MB, data loaded>], [<RawEEGLAB | sub-032521_EC.fdt, 59 x 14501 (58.0 s), ~6.6 MB, data loaded>, <RawEEGLAB | sub-032521_EC.fdt, 59 x 15001 (60.0 s), ~6.8 MB, data loaded>, <RawEEGLAB | sub-032521_EC.fdt, 59 x 15001 (60.0 s), ~6.8 MB, data loaded>, <RawEEGLAB | sub-032521_EC.fdt, 59 x 15001 (60.0 s), ~6.8 MB, data loaded>, <RawEEGLAB | sub-032521_EC.fdt, 59 x 15001 (60.0 s), ~6.8 MB, data loaded>, <RawEEGLAB | sub-032521_EC.fdt, 59 x 15001 (60.0 s), ~6.8 MB, data loaded>, <RawEEGLAB | sub-032521_EC.fdt, 59 x 15001 (60.0 s), ~6.8 MB, data loaded>, <RawEEGLAB | sub-032521_EC.fdt, 59 x 14251 (57.0 s), ~6.5 MB, data loaded>], [<RawEEGLAB | sub-032522_EC.fdt, 58 x 14501 (58.0 s), ~6.5 MB, data loaded>, <RawEEGLAB | sub-032522_EC.fdt, 58 x 15001 (60.0 s), ~6.7 MB, data loaded>, <RawEEGLAB | sub-032522_EC.fdt, 58 x 15001 (60.0 s), ~6.7 MB, data loaded>, <RawEEGLAB | sub-032522_EC.fdt, 58 x 15001 (60.0 s), ~6.7 MB, data loaded>, <RawEEGLAB | sub-032522_EC.fdt, 58 x 15001 (60.0 s), ~6.7 MB, data loaded>, <RawEEGLAB | sub-032522_EC.fdt, 58 x 15001 (60.0 s), ~6.7 MB, data loaded>, <RawEEGLAB | sub-032522_EC.fdt, 58 x 15001 (60.0 s), ~6.7 MB, data loaded>, <RawEEGLAB | sub-032522_EC.fdt, 58 x 14251 (57.0 s), ~6.4 MB, data loaded>], [<RawEEGLAB | sub-032523_EC.fdt, 58 x 14501 (58.0 s), ~6.5 MB, data loaded>, <RawEEGLAB | sub-032523_EC.fdt, 58 x 14751 (59.0 s), ~6.6 MB, data loaded>, <RawEEGLAB | sub-032523_EC.fdt, 58 x 14751 (59.0 s), ~6.6 MB, data loaded>, <RawEEGLAB | sub-032523_EC.fdt, 58 x 15001 (60.0 s), ~6.7 MB, data loaded>, <RawEEGLAB | sub-032523_EC.fdt, 58 x 15001 (60.0 s), ~6.7 MB, data loaded>, <RawEEGLAB | sub-032523_EC.fdt, 58 x 15001 (60.0 s), ~6.7 MB, data loaded>, <RawEEGLAB | sub-032523_EC.fdt, 58 x 14751 (59.0 s), ~6.6 MB, data loaded>, <RawEEGLAB | sub-032523_EC.fdt, 58 x 14001 (56.0 s), ~6.3 MB, data loaded>], [<RawEEGLAB | sub-032524_EC.fdt, 61 x 14501 (58.0 s), ~6.8 MB, data loaded>, <RawEEGLAB | sub-032524_EC.fdt, 61 x 15001 (60.0 s), ~7.1 MB, data loaded>, <RawEEGLAB | sub-032524_EC.fdt, 61 x 15001 (60.0 s), ~7.1 MB, data loaded>, <RawEEGLAB | sub-032524_EC.fdt, 61 x 15001 (60.0 s), ~7.1 MB, data loaded>, <RawEEGLAB | sub-032524_EC.fdt, 61 x 15001 (60.0 s), ~7.1 MB, data loaded>, <RawEEGLAB | sub-032524_EC.fdt, 61 x 15001 (60.0 s), ~7.1 MB, data loaded>, <RawEEGLAB | sub-032524_EC.fdt, 61 x 5001 (20.0 s), ~2.4 MB, data loaded>, <RawEEGLAB | sub-032524_EC.fdt, 61 x 5751 (23.0 s), ~2.8 MB, data loaded>, <RawEEGLAB | sub-032524_EC.fdt, 61 x 4001 (16.0 s), ~1.9 MB, data loaded>, <RawEEGLAB | sub-032524_EC.fdt, 61 x 14251 (57.0 s), ~6.7 MB, data loaded>], [<RawEEGLAB | sub-032525_EC.fdt, 60 x 14501 (58.0 s), ~6.7 MB, data loaded>, <RawEEGLAB | sub-032525_EC.fdt, 60 x 15001 (60.0 s), ~6.9 MB, data loaded>, <RawEEGLAB | sub-032525_EC.fdt, 60 x 15001 (60.0 s), ~6.9 MB, data loaded>, <RawEEGLAB | sub-032525_EC.fdt, 60 x 15001 (60.0 s), ~6.9 MB, data loaded>, <RawEEGLAB | sub-032525_EC.fdt, 60 x 15001 (60.0 s), ~6.9 MB, data loaded>, <RawEEGLAB | sub-032525_EC.fdt, 60 x 15001 (60.0 s), ~6.9 MB, data loaded>, <RawEEGLAB | sub-032525_EC.fdt, 60 x 15001 (60.0 s), ~6.9 MB, data loaded>, <RawEEGLAB | sub-032525_EC.fdt, 60 x 14251 (57.0 s), ~6.6 MB, data loaded>], [<RawEEGLAB | sub-032526_EC.fdt, 59 x 14501 (58.0 s), ~6.6 MB, data loaded>, <RawEEGLAB | sub-032526_EC.fdt, 59 x 15001 (60.0 s), ~6.8 MB, data loaded>, <RawEEGLAB | sub-032526_EC.fdt, 59 x 15001 (60.0 s), ~6.8 MB, data loaded>, <RawEEGLAB | sub-032526_EC.fdt, 59 x 15001 (60.0 s), ~6.8 MB, data loaded>, <RawEEGLAB | sub-032526_EC.fdt, 59 x 15001 (60.0 s), ~6.8 MB, data loaded>, <RawEEGLAB | sub-032526_EC.fdt, 59 x 15001 (60.0 s), ~6.8 MB, data loaded>, <RawEEGLAB | sub-032526_EC.fdt, 59 x 15001 (60.0 s), ~6.8 MB, data loaded>, <RawEEGLAB | sub-032526_EC.fdt, 59 x 14251 (57.0 s), ~6.5 MB, data loaded>], [<RawEEGLAB | sub-032528_EC.fdt, 61 x 14501 (58.0 s), ~6.8 MB, data loaded>, <RawEEGLAB | sub-032528_EC.fdt, 61 x 15001 (60.0 s), ~7.1 MB, data loaded>, <RawEEGLAB | sub-032528_EC.fdt, 61 x 15001 (60.0 s), ~7.1 MB, data loaded>, <RawEEGLAB | sub-032528_EC.fdt, 61 x 15001 (60.0 s), ~7.1 MB, data loaded>, <RawEEGLAB | sub-032528_EC.fdt, 61 x 15001 (60.0 s), ~7.1 MB, data loaded>, <RawEEGLAB | sub-032528_EC.fdt, 61 x 15001 (60.0 s), ~7.1 MB, data loaded>, <RawEEGLAB | sub-032528_EC.fdt, 61 x 15001 (60.0 s), ~7.1 MB, data loaded>, <RawEEGLAB | sub-032528_EC.fdt, 61 x 14251 (57.0 s), ~6.7 MB, data loaded>]]\n"
     ]
    }
   ],
   "source": [
    "def splitEEG(prepEEG):\n",
    "    epochs = []\n",
    "    ordinal = lambda n: \"%d%s\" % (n,\"tsnrhtdd\"[(n//10%10!=1)*(n%10<4)*n%10::4])\n",
    "    annotation_EC_df = prepEEG.annotations.to_data_frame()\n",
    "    EC_sec = annotation_EC_df[annotation_EC_df.columns[0]].dt.strftime('%s.%f').astype(float) + 32400\n",
    "    point_indices = annotation_EC_df.index[annotation_EC_df['description'] == 'boundary']\n",
    "    BreakPoint = []\n",
    "#     print(EC_sec[point_indices])\n",
    "    for i, j in enumerate(EC_sec[point_indices]):\n",
    "        if i == 0:\n",
    "            BreakPoint.append([0, int(j)])\n",
    "        else:\n",
    "            BreakPoint.append([BreakPoint[-1][1], int(j)])\n",
    "        if i == len(EC_sec[point_indices])-1:\n",
    "            BreakPoint.append([int(j)+1, int(EC_sec.iloc[-1])])\n",
    "#     print(BreakPoint)\n",
    "    for i,d  in enumerate(BreakPoint): # Ignore the short duration between each braek point.\n",
    "        if d[1] - d[0] < 15:\n",
    "            del BreakPoint[i]\n",
    "    for i, d in enumerate(BreakPoint):  # Splite each epoch by break point\n",
    "#         print(\"The {} trial from {} to {}. ({}sec)\".format(ordinal(i+1), d[0], d[1], d[1]-d[0]))\n",
    "        epochs.append(prepEEG.copy().crop(tmin=d[0], tmax=d[1]))\n",
    "#         print(\"------------------------------------------------\")\n",
    "    return epochs\n",
    "\n",
    "\n",
    "# Splite EEG to epoches\n",
    "print(\"------------------------------------------------\")\n",
    "print(\"Splite EEG to epoches\")\n",
    "EEG_epoches = []\n",
    "for i in tqdm(range(len(EEG))):\n",
    "    EEG_epoches.append(splitEEG(EEG[i]['prepSignal_EC']))\n",
    "print(EEG_epoches)"
   ]
  },
  {
   "cell_type": "code",
   "execution_count": 38,
   "id": "1b1b4b75",
   "metadata": {},
   "outputs": [],
   "source": [
    "def CauMI(data):\n",
    "    len_channel = data.shape[0]\n",
    "    print(len_channel)\n",
    "    MI = np.zeros([len_channel,len_channel])\n",
    "#     JE = np.zeros([len_channel,len_channel])\n",
    "#     CE = np.zeros([len_channel,len_channel])\n",
    "#     KL = np.zeros([len_channel,len_channel])\n",
    "    for i in tqdm(range(len_channel)):\n",
    "        x1 = data[:,i]\n",
    "        for j in range(len_channel):  \n",
    "            x2 = data[:,j]\n",
    "#             print(x1)\n",
    "            \n",
    "            #Mutual Information\n",
    "            MI[i,j] = sp.mutual_Info(x1,x2)\n",
    "\n",
    "#             #Joint entropy\n",
    "#             JE[i,j]= sp.entropy_joint(x1,x2)\n",
    "\n",
    "#             #Cross Entropy\n",
    "#             CE[i,j]= sp.entropy_cross(x1,x2)\n",
    "\n",
    "#             #Diff Entropy\n",
    "#             KL[i,j]= sp.entropy_kld(x1,x2)\n",
    "    \n",
    "    return MI\n",
    "\n",
    "def EpochRotate(epoches):\n",
    "    MIs = []\n",
    "    for OneEpoch in epoches:\n",
    "        Chan_PLI = []\n",
    "        data = OneEpoch.get_data()\n",
    "        MI = CauMI(data)\n",
    "        MIs.append(np.array(Chan_PLI))\n",
    "    return np.array(PLIs)"
   ]
  },
  {
   "cell_type": "code",
   "execution_count": 42,
   "id": "6790cfc0",
   "metadata": {
    "scrolled": false
   },
   "outputs": [
    {
     "name": "stdout",
     "output_type": "stream",
     "text": [
      "59\n"
     ]
    },
    {
     "name": "stderr",
     "output_type": "stream",
     "text": [
      "100%|█████████████████████████████████████████████████████████████████████████████████████████████████████████████| 59/59 [00:02<00:00, 22.00it/s]"
     ]
    },
    {
     "name": "stdout",
     "output_type": "stream",
     "text": [
      "[[2.58180005 1.36418349 0.92232426 ... 0.72177698 0.90509617 0.9626112 ]\n",
      " [1.36418349 3.16989026 1.73490819 ... 0.77340179 1.02074098 1.15632549]\n",
      " [0.92232426 1.73490819 2.76247521 ... 0.59567485 0.66450443 0.82879225]\n",
      " ...\n",
      " [0.72177698 0.77340179 0.59567485 ... 2.41015486 1.13880932 0.78155652]\n",
      " [0.90509617 1.02074098 0.66450443 ... 1.13880932 2.6086706  1.40200196]\n",
      " [0.9626112  1.15632549 0.82879225 ... 0.78155652 1.40200196 2.80516407]]\n"
     ]
    },
    {
     "name": "stderr",
     "output_type": "stream",
     "text": [
      "\n"
     ]
    }
   ],
   "source": [
    "MI_Test = CauMI(EEG_epoches[0][0].get_data())\n",
    "print(MI_Test)"
   ]
  },
  {
   "cell_type": "code",
   "execution_count": 44,
   "id": "a6baf191",
   "metadata": {},
   "outputs": [
    {
     "data": {
      "text/plain": [
       "<matplotlib.image.AxesImage at 0x7fa610f934c0>"
      ]
     },
     "execution_count": 44,
     "metadata": {},
     "output_type": "execute_result"
    },
    {
     "data": {
      "image/png": "[encoded data removed]",
      "text/plain": [
       "<Figure size 360x360 with 1 Axes>"
      ]
     },
     "metadata": {
      "needs_background": "light"
     },
     "output_type": "display_data"
    }
   ],
   "source": [
    "fig, axs = plt.subplots(1, 1, figsize=(5,5), sharey=True)\n",
    "axs.imshow(MI_Test, vmin=0, vmax=1)"
   ]
  },
  {
   "cell_type": "code",
   "execution_count": null,
   "id": "1c1e9735",
   "metadata": {},
   "outputs": [],
   "source": []
  },
  {
   "cell_type": "code",
   "execution_count": null,
   "id": "c37a708d",
   "metadata": {},
   "outputs": [],
   "source": []
  }
 ],
 "metadata": {
  "kernelspec": {
   "display_name": "Python 3 (ipykernel)",
   "language": "python",
   "name": "python3"
  },
  "language_info": {
   "codemirror_mode": {
    "name": "ipython",
    "version": 3
   },
   "file_extension": ".py",
   "mimetype": "text/x-python",
   "name": "python",
   "nbconvert_exporter": "python",
   "pygments_lexer": "ipython3",
   "version": "3.8.0"
  }
 },
 "nbformat": 4,
 "nbformat_minor": 5
}
